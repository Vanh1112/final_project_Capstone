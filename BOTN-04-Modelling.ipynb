{
 "cells": [
  {
   "cell_type": "markdown",
   "metadata": {
    "colab_type": "text",
    "id": "cyt9lB-S-d5W"
   },
   "source": [
    "# Model Creation and Evaluation\n",
    "\n",
    "In this section multiple models will be created and evaluated before a final model is chosen and evaluated.\n",
    "\n",
    "## Import Libraries\n",
    "\n",
    "As always, we start by importing the required libraries"
   ]
  },
  {
   "cell_type": "code",
   "execution_count": null,
   "metadata": {
    "colab": {
     "base_uri": "https://localhost:8080/",
     "height": 34
    },
    "colab_type": "code",
    "executionInfo": {
     "elapsed": 789,
     "status": "ok",
     "timestamp": 1594617283854,
     "user": {
      "displayName": "Vân Anh Phạm",
      "photoUrl": "",
      "userId": "14424096766313752825"
     },
     "user_tz": -420
    },
    "id": "K-4BcCmd-ieP",
    "outputId": "71d1c3c1-c392-407a-c465-16370df95d5c"
   },
   "outputs": [
    {
     "name": "stdout",
     "output_type": "stream",
     "text": [
      "Drive already mounted at /content/gdrive; to attempt to forcibly remount, call drive.mount(\"/content/gdrive\", force_remount=True).\n"
     ]
    }
   ],
   "source": [
    "from google.colab import drive\n",
    "drive.mount(\"/content/gdrive\")"
   ]
  },
  {
   "cell_type": "code",
   "execution_count": null,
   "metadata": {
    "colab": {
     "base_uri": "https://localhost:8080/",
     "height": 34
    },
    "colab_type": "code",
    "executionInfo": {
     "elapsed": 1174,
     "status": "ok",
     "timestamp": 1594617284248,
     "user": {
      "displayName": "Vân Anh Phạm",
      "photoUrl": "",
      "userId": "14424096766313752825"
     },
     "user_tz": -420
    },
    "id": "3lGmIaS3-jEE",
    "outputId": "22e2b26d-e28a-44f5-e78f-722c028da25f"
   },
   "outputs": [
    {
     "name": "stdout",
     "output_type": "stream",
     "text": [
      "Authenticated\n"
     ]
    }
   ],
   "source": [
    "from google.colab import auth\n",
    "auth.authenticate_user()\n",
    "print('Authenticated')"
   ]
  },
  {
   "cell_type": "code",
   "execution_count": null,
   "metadata": {
    "colab": {},
    "colab_type": "code",
    "id": "poBOVqwI-d5X"
   },
   "outputs": [],
   "source": [
    "# Import Pandas\n",
    "import pandas as pd\n",
    "\n",
    "# Import Numpy\n",
    "import numpy as np\n",
    "\n",
    "# All the SciKit Learn Libraries Required\n",
    "from sklearn import preprocessing\n",
    "from sklearn.model_selection import train_test_split\n",
    "from sklearn.neighbors import KNeighborsClassifier\n",
    "from sklearn.naive_bayes import BernoulliNB\n",
    "from sklearn.ensemble import RandomForestClassifier\n",
    "from sklearn import metrics\n",
    "from sklearn.model_selection import KFold, cross_val_score\n",
    "\n",
    "# Decision Tree\n",
    "from datetime import datetime\n",
    "from sklearn.tree import DecisionTreeClassifier\n",
    "\n",
    "# Small Function to do X-Fold Cross Validation\n",
    "def cross_validate(model, n_splits = 10):\n",
    "    \n",
    "    k_fold = KFold(n_splits = n_splits)\n",
    "    scores = [model.fit(X[train], y[train]).score(X[test], y[test]) for train, test in k_fold.split(X)]\n",
    "    \n",
    "    scores = np.percentile(scores, [40, 50, 60])\n",
    "    return scores"
   ]
  },
  {
   "cell_type": "code",
   "execution_count": null,
   "metadata": {
    "colab": {},
    "colab_type": "code",
    "id": "Wg9vsJwz-d5b"
   },
   "outputs": [],
   "source": [
    "# Use the inline backend to generate the plots within the browser\n",
    "%matplotlib inline \n",
    "\n",
    "import matplotlib as mpl\n",
    "import matplotlib.pyplot as plt\n",
    "\n",
    "import seaborn as sns\n",
    "sns.set_style(\"darkgrid\")\n",
    "\n",
    "font = {'size'   : 12}\n",
    "mpl.rc('font', **font)"
   ]
  },
  {
   "cell_type": "markdown",
   "metadata": {
    "colab_type": "text",
    "id": "x8bMqT-D-d5f"
   },
   "source": [
    "## Import Dataframes from Pickle files\n",
    "\n",
    "We load in the exported pickle files of the dataframes created in the Data Acquition Section."
   ]
  },
  {
   "cell_type": "code",
   "execution_count": null,
   "metadata": {
    "colab": {},
    "colab_type": "code",
    "id": "9iL1tZPE-d5f"
   },
   "outputs": [],
   "source": [
    "# Import the Pickle of the Crimes DataFrame\n",
    "df_crimes = pd.read_pickle('/content/gdrive/My Drive/Coursera_Capstone-week5/anh/capstone_pickles/crimes.pkl')\n",
    "df_crimes.drop('index', inplace=True, axis=1)\n",
    "\n",
    "# Import the Pickle of the Top Venues DataFrame\n",
    "df_topvnues = pd.read_pickle('/content/gdrive/My Drive/Coursera_Capstone-week5/anh/capstone_pickles/top_venues.pkl')\n",
    "\n",
    "# Import the Pickle of the Restaurants DataFrame\n",
    "df_rest = pd.read_pickle('/content/gdrive/My Drive/Coursera_Capstone-week5/anh/capstone_pickles/restaurants.pkl')"
   ]
  },
  {
   "cell_type": "markdown",
   "metadata": {
    "colab_type": "text",
    "id": "5uwMJ67V-d5j"
   },
   "source": [
    "# Data Preparation for Modelling\n",
    "\n",
    "Before we start modelling we need to prepare the data frame to include only mumerical data and by removing unneeded columns.\n",
    "\n",
    "Rather than removing colums from `df_crimes` a new `df_features` DataFrame will be created with just the required columns. This `df_features` DataFrame will then be processed to remove Categorical Data Types and replace them with One Hot encoding. Finally the Dependant Variables will be Normalised."
   ]
  },
  {
   "cell_type": "code",
   "execution_count": null,
   "metadata": {
    "colab": {},
    "colab_type": "code",
    "id": "oD_Fh-5Y-d5j"
   },
   "outputs": [],
   "source": [
    "# Start by copying the Latitude and Longitude to the new DataFrame\n",
    "df_features = df_crimes[['latitude', 'longitude']]\n",
    "\n",
    "# Next and One Hot Encoding of the hour, day and month variables\n",
    "df_features = df_features.join(pd.get_dummies(df_crimes.hour, prefix='hour'))\n",
    "df_features = df_features.join(pd.get_dummies(df_crimes.day_name))\n",
    "df_features = df_features.join(pd.get_dummies(df_crimes.month_name))\n",
    "\n",
    "# Finally add the ward & crimes column, copied from the original Primary Description column\n",
    "df_features['ward'] = df_crimes[['ward']]\n",
    "df_features['crimes'] = df_crimes[['primary_description']]"
   ]
  },
  {
   "cell_type": "code",
   "execution_count": null,
   "metadata": {
    "colab": {
     "base_uri": "https://localhost:8080/",
     "height": 258
    },
    "colab_type": "code",
    "executionInfo": {
     "elapsed": 3067,
     "status": "ok",
     "timestamp": 1594617286170,
     "user": {
      "displayName": "Vân Anh Phạm",
      "photoUrl": "",
      "userId": "14424096766313752825"
     },
     "user_tz": -420
    },
    "id": "bRZv2bPz-d5m",
    "outputId": "fc988d29-be4f-418b-86af-4b4a9ac0a8e0"
   },
   "outputs": [
    {
     "data": {
      "text/html": [
       "<div>\n",
       "<style scoped>\n",
       "    .dataframe tbody tr th:only-of-type {\n",
       "        vertical-align: middle;\n",
       "    }\n",
       "\n",
       "    .dataframe tbody tr th {\n",
       "        vertical-align: top;\n",
       "    }\n",
       "\n",
       "    .dataframe thead th {\n",
       "        text-align: right;\n",
       "    }\n",
       "</style>\n",
       "<table border=\"1\" class=\"dataframe\">\n",
       "  <thead>\n",
       "    <tr style=\"text-align: right;\">\n",
       "      <th></th>\n",
       "      <th>latitude</th>\n",
       "      <th>longitude</th>\n",
       "      <th>hour_0</th>\n",
       "      <th>hour_1</th>\n",
       "      <th>hour_2</th>\n",
       "      <th>hour_3</th>\n",
       "      <th>hour_4</th>\n",
       "      <th>hour_5</th>\n",
       "      <th>hour_6</th>\n",
       "      <th>hour_7</th>\n",
       "      <th>hour_8</th>\n",
       "      <th>hour_9</th>\n",
       "      <th>hour_10</th>\n",
       "      <th>hour_11</th>\n",
       "      <th>hour_12</th>\n",
       "      <th>hour_13</th>\n",
       "      <th>hour_14</th>\n",
       "      <th>hour_15</th>\n",
       "      <th>hour_16</th>\n",
       "      <th>hour_17</th>\n",
       "      <th>hour_18</th>\n",
       "      <th>hour_19</th>\n",
       "      <th>hour_20</th>\n",
       "      <th>hour_21</th>\n",
       "      <th>hour_22</th>\n",
       "      <th>hour_23</th>\n",
       "      <th>Friday</th>\n",
       "      <th>Monday</th>\n",
       "      <th>Saturday</th>\n",
       "      <th>Sunday</th>\n",
       "      <th>Thursday</th>\n",
       "      <th>Tuesday</th>\n",
       "      <th>Wednesday</th>\n",
       "      <th>April</th>\n",
       "      <th>August</th>\n",
       "      <th>December</th>\n",
       "      <th>February</th>\n",
       "      <th>January</th>\n",
       "      <th>July</th>\n",
       "      <th>June</th>\n",
       "      <th>March</th>\n",
       "      <th>May</th>\n",
       "      <th>November</th>\n",
       "      <th>October</th>\n",
       "      <th>September</th>\n",
       "      <th>ward</th>\n",
       "      <th>crimes</th>\n",
       "    </tr>\n",
       "  </thead>\n",
       "  <tbody>\n",
       "    <tr>\n",
       "      <th>0</th>\n",
       "      <td>41.707001</td>\n",
       "      <td>-87.636288</td>\n",
       "      <td>0</td>\n",
       "      <td>0</td>\n",
       "      <td>0</td>\n",
       "      <td>0</td>\n",
       "      <td>0</td>\n",
       "      <td>0</td>\n",
       "      <td>0</td>\n",
       "      <td>0</td>\n",
       "      <td>0</td>\n",
       "      <td>0</td>\n",
       "      <td>0</td>\n",
       "      <td>0</td>\n",
       "      <td>0</td>\n",
       "      <td>0</td>\n",
       "      <td>0</td>\n",
       "      <td>0</td>\n",
       "      <td>0</td>\n",
       "      <td>0</td>\n",
       "      <td>0</td>\n",
       "      <td>0</td>\n",
       "      <td>0</td>\n",
       "      <td>0</td>\n",
       "      <td>1</td>\n",
       "      <td>0</td>\n",
       "      <td>1</td>\n",
       "      <td>0</td>\n",
       "      <td>0</td>\n",
       "      <td>0</td>\n",
       "      <td>0</td>\n",
       "      <td>0</td>\n",
       "      <td>0</td>\n",
       "      <td>1</td>\n",
       "      <td>0</td>\n",
       "      <td>0</td>\n",
       "      <td>0</td>\n",
       "      <td>0</td>\n",
       "      <td>0</td>\n",
       "      <td>0</td>\n",
       "      <td>0</td>\n",
       "      <td>0</td>\n",
       "      <td>0</td>\n",
       "      <td>0</td>\n",
       "      <td>0</td>\n",
       "      <td>9.0</td>\n",
       "      <td>ASSAULT</td>\n",
       "    </tr>\n",
       "    <tr>\n",
       "      <th>1</th>\n",
       "      <td>41.777468</td>\n",
       "      <td>-87.615556</td>\n",
       "      <td>1</td>\n",
       "      <td>0</td>\n",
       "      <td>0</td>\n",
       "      <td>0</td>\n",
       "      <td>0</td>\n",
       "      <td>0</td>\n",
       "      <td>0</td>\n",
       "      <td>0</td>\n",
       "      <td>0</td>\n",
       "      <td>0</td>\n",
       "      <td>0</td>\n",
       "      <td>0</td>\n",
       "      <td>0</td>\n",
       "      <td>0</td>\n",
       "      <td>0</td>\n",
       "      <td>0</td>\n",
       "      <td>0</td>\n",
       "      <td>0</td>\n",
       "      <td>0</td>\n",
       "      <td>0</td>\n",
       "      <td>0</td>\n",
       "      <td>0</td>\n",
       "      <td>0</td>\n",
       "      <td>0</td>\n",
       "      <td>0</td>\n",
       "      <td>0</td>\n",
       "      <td>0</td>\n",
       "      <td>0</td>\n",
       "      <td>1</td>\n",
       "      <td>0</td>\n",
       "      <td>0</td>\n",
       "      <td>0</td>\n",
       "      <td>0</td>\n",
       "      <td>0</td>\n",
       "      <td>0</td>\n",
       "      <td>0</td>\n",
       "      <td>0</td>\n",
       "      <td>0</td>\n",
       "      <td>0</td>\n",
       "      <td>1</td>\n",
       "      <td>0</td>\n",
       "      <td>0</td>\n",
       "      <td>0</td>\n",
       "      <td>20.0</td>\n",
       "      <td>ASSAULT</td>\n",
       "    </tr>\n",
       "    <tr>\n",
       "      <th>2</th>\n",
       "      <td>41.847566</td>\n",
       "      <td>-87.645749</td>\n",
       "      <td>0</td>\n",
       "      <td>0</td>\n",
       "      <td>1</td>\n",
       "      <td>0</td>\n",
       "      <td>0</td>\n",
       "      <td>0</td>\n",
       "      <td>0</td>\n",
       "      <td>0</td>\n",
       "      <td>0</td>\n",
       "      <td>0</td>\n",
       "      <td>0</td>\n",
       "      <td>0</td>\n",
       "      <td>0</td>\n",
       "      <td>0</td>\n",
       "      <td>0</td>\n",
       "      <td>0</td>\n",
       "      <td>0</td>\n",
       "      <td>0</td>\n",
       "      <td>0</td>\n",
       "      <td>0</td>\n",
       "      <td>0</td>\n",
       "      <td>0</td>\n",
       "      <td>0</td>\n",
       "      <td>0</td>\n",
       "      <td>0</td>\n",
       "      <td>0</td>\n",
       "      <td>0</td>\n",
       "      <td>1</td>\n",
       "      <td>0</td>\n",
       "      <td>0</td>\n",
       "      <td>0</td>\n",
       "      <td>0</td>\n",
       "      <td>0</td>\n",
       "      <td>0</td>\n",
       "      <td>0</td>\n",
       "      <td>0</td>\n",
       "      <td>0</td>\n",
       "      <td>0</td>\n",
       "      <td>0</td>\n",
       "      <td>1</td>\n",
       "      <td>0</td>\n",
       "      <td>0</td>\n",
       "      <td>0</td>\n",
       "      <td>11.0</td>\n",
       "      <td>DECEPTIVE PRACTICE</td>\n",
       "    </tr>\n",
       "    <tr>\n",
       "      <th>3</th>\n",
       "      <td>41.773046</td>\n",
       "      <td>-87.571599</td>\n",
       "      <td>0</td>\n",
       "      <td>0</td>\n",
       "      <td>0</td>\n",
       "      <td>0</td>\n",
       "      <td>0</td>\n",
       "      <td>0</td>\n",
       "      <td>0</td>\n",
       "      <td>0</td>\n",
       "      <td>0</td>\n",
       "      <td>0</td>\n",
       "      <td>0</td>\n",
       "      <td>0</td>\n",
       "      <td>0</td>\n",
       "      <td>0</td>\n",
       "      <td>0</td>\n",
       "      <td>0</td>\n",
       "      <td>0</td>\n",
       "      <td>0</td>\n",
       "      <td>1</td>\n",
       "      <td>0</td>\n",
       "      <td>0</td>\n",
       "      <td>0</td>\n",
       "      <td>0</td>\n",
       "      <td>0</td>\n",
       "      <td>0</td>\n",
       "      <td>0</td>\n",
       "      <td>0</td>\n",
       "      <td>0</td>\n",
       "      <td>0</td>\n",
       "      <td>1</td>\n",
       "      <td>0</td>\n",
       "      <td>1</td>\n",
       "      <td>0</td>\n",
       "      <td>0</td>\n",
       "      <td>0</td>\n",
       "      <td>0</td>\n",
       "      <td>0</td>\n",
       "      <td>0</td>\n",
       "      <td>0</td>\n",
       "      <td>0</td>\n",
       "      <td>0</td>\n",
       "      <td>0</td>\n",
       "      <td>0</td>\n",
       "      <td>5.0</td>\n",
       "      <td>MOTOR VEHICLE THEFT</td>\n",
       "    </tr>\n",
       "    <tr>\n",
       "      <th>4</th>\n",
       "      <td>41.909759</td>\n",
       "      <td>-87.736078</td>\n",
       "      <td>0</td>\n",
       "      <td>0</td>\n",
       "      <td>0</td>\n",
       "      <td>0</td>\n",
       "      <td>0</td>\n",
       "      <td>0</td>\n",
       "      <td>0</td>\n",
       "      <td>0</td>\n",
       "      <td>0</td>\n",
       "      <td>0</td>\n",
       "      <td>0</td>\n",
       "      <td>0</td>\n",
       "      <td>0</td>\n",
       "      <td>0</td>\n",
       "      <td>0</td>\n",
       "      <td>0</td>\n",
       "      <td>0</td>\n",
       "      <td>1</td>\n",
       "      <td>0</td>\n",
       "      <td>0</td>\n",
       "      <td>0</td>\n",
       "      <td>0</td>\n",
       "      <td>0</td>\n",
       "      <td>0</td>\n",
       "      <td>0</td>\n",
       "      <td>0</td>\n",
       "      <td>0</td>\n",
       "      <td>0</td>\n",
       "      <td>1</td>\n",
       "      <td>0</td>\n",
       "      <td>0</td>\n",
       "      <td>0</td>\n",
       "      <td>0</td>\n",
       "      <td>0</td>\n",
       "      <td>0</td>\n",
       "      <td>0</td>\n",
       "      <td>0</td>\n",
       "      <td>0</td>\n",
       "      <td>0</td>\n",
       "      <td>1</td>\n",
       "      <td>0</td>\n",
       "      <td>0</td>\n",
       "      <td>0</td>\n",
       "      <td>26.0</td>\n",
       "      <td>ASSAULT</td>\n",
       "    </tr>\n",
       "  </tbody>\n",
       "</table>\n",
       "</div>"
      ],
      "text/plain": [
       "    latitude  longitude  hour_0  ...  September  ward               crimes\n",
       "0  41.707001 -87.636288       0  ...          0   9.0              ASSAULT\n",
       "1  41.777468 -87.615556       1  ...          0  20.0              ASSAULT\n",
       "2  41.847566 -87.645749       0  ...          0  11.0   DECEPTIVE PRACTICE\n",
       "3  41.773046 -87.571599       0  ...          0   5.0  MOTOR VEHICLE THEFT\n",
       "4  41.909759 -87.736078       0  ...          0  26.0              ASSAULT\n",
       "\n",
       "[5 rows x 47 columns]"
      ]
     },
     "execution_count": 46,
     "metadata": {
      "tags": []
     },
     "output_type": "execute_result"
    }
   ],
   "source": [
    "df_features.head()"
   ]
  },
  {
   "cell_type": "markdown",
   "metadata": {
    "colab_type": "text",
    "id": "teSSkAk0-d5q"
   },
   "source": [
    "There are a couple of further small changes to be made:\n",
    " - Create a smaller DataFrame of only the top two crimes\n",
    " - Create the X, dependant variables, DataFrames by dropping the Crimes column\n",
    " - Create the y, independant variable, \n",
    " - Normailse the X Data"
   ]
  },
  {
   "cell_type": "code",
   "execution_count": null,
   "metadata": {
    "colab": {},
    "colab_type": "code",
    "id": "GTo2plUq-d5r"
   },
   "outputs": [],
   "source": [
    "# Create a list of the 2 most commonly occuring crimes\n",
    "top_two_crimes = df_features[['crimes', 'ward']].groupby(\n",
    "    ['crimes']).count().sort_values('ward', ascending=False)[:2].axes[0].tolist()\n",
    "\n",
    "# Create a smaller DataFrame of only the top two crimes\n",
    "df_features_2 = df_features[df_features['crimes'].isin(top_two_crimes)].copy()"
   ]
  },
  {
   "cell_type": "code",
   "execution_count": null,
   "metadata": {
    "colab": {},
    "colab_type": "code",
    "id": "MeigLup_-d5v"
   },
   "outputs": [],
   "source": [
    "X_2 = df_features_2.copy()\n",
    "y_2 = X_2.crimes.values\n",
    "\n",
    "X_2.drop('crimes', axis=1, inplace=True)\n",
    "X_2 = preprocessing.StandardScaler().fit(X_2).transform(X_2)"
   ]
  },
  {
   "cell_type": "code",
   "execution_count": null,
   "metadata": {
    "colab": {},
    "colab_type": "code",
    "id": "m7eYyMFI-d5y"
   },
   "outputs": [],
   "source": [
    "# Set X = X_2\n",
    "X = X_2\n",
    "y = y_2"
   ]
  },
  {
   "cell_type": "markdown",
   "metadata": {
    "colab_type": "text",
    "id": "d3lYtg-v-d53"
   },
   "source": [
    "### K Nearest Neighbor(KNN)\n",
    "Find the best k to build the model with the best accuracy."
   ]
  },
  {
   "cell_type": "code",
   "execution_count": null,
   "metadata": {
    "colab": {
     "base_uri": "https://localhost:8080/",
     "height": 382
    },
    "colab_type": "code",
    "executionInfo": {
     "elapsed": 3340962,
     "status": "ok",
     "timestamp": 1594620624088,
     "user": {
      "displayName": "Vân Anh Phạm",
      "photoUrl": "",
      "userId": "14424096766313752825"
     },
     "user_tz": -420
    },
    "id": "jyT9Prpu-d54",
    "outputId": "d1ac6565-5608-40cc-ffeb-13531e759529",
    "scrolled": false
   },
   "outputs": [
    {
     "name": "stdout",
     "output_type": "stream",
     "text": [
      "Heighbours:  8   2020-07-13 05:14:46.106230\n",
      "Heighbours:  9   2020-07-13 05:25:00.446760\n",
      "Heighbours:  10   2020-07-13 05:35:19.462282\n",
      "Heighbours:  11   2020-07-13 05:46:31.035670\n",
      "Heighbours:  12   2020-07-13 05:58:16.281600\n"
     ]
    },
    {
     "data": {
      "image/png": "[encoded data removed]",
      "text/plain": [
       "<Figure size 432x288 with 1 Axes>"
      ]
     },
     "metadata": {
      "tags": []
     },
     "output_type": "display_data"
    }
   ],
   "source": [
    "# Number of neighbours\n",
    "neighs = range(8, 13)\n",
    "\n",
    "# Store the scores\n",
    "scores = np.zeros((len(neighs), 3))\n",
    "\n",
    "# Iterate to find the best model\n",
    "for idx, neigh in enumerate(neighs):\n",
    "    print('Heighbours: ', neigh, ' ', str(datetime.now()))\n",
    "    model = KNeighborsClassifier(n_neighbors = neigh)\n",
    "    scores[idx, : ] = cross_validate(model, n_splits = 10)\n",
    "\n",
    "# Plot the results\n",
    "plt.plot(neighs, scores[ : , 1], 'b')\n",
    "plt.fill_between(neighs, scores[ : , 0], scores[:, 2], alpha = 0.1)\n",
    "plt.legend(('Median', '(40, 60) percentile'))\n",
    "plt.ylabel('Accuracy')\n",
    "plt.xlabel('Number of Neighbors')\n",
    "plt.tight_layout()\n",
    "plt.show()"
   ]
  },
  {
   "cell_type": "markdown",
   "metadata": {
    "colab_type": "text",
    "id": "Q9xznBPk-d57"
   },
   "source": [
    "K = 11 give the best results"
   ]
  },
  {
   "cell_type": "code",
   "execution_count": null,
   "metadata": {
    "colab": {},
    "colab_type": "code",
    "id": "JVjdfDcc-d57"
   },
   "outputs": [],
   "source": [
    "KNN_model = KNeighborsClassifier(n_neighbors = 11).fit(X, y)"
   ]
  },
  {
   "cell_type": "markdown",
   "metadata": {
    "colab_type": "text",
    "id": "YRYMseRj-d5-"
   },
   "source": [
    "## Decision Tree"
   ]
  },
  {
   "cell_type": "code",
   "execution_count": null,
   "metadata": {
    "colab": {
     "base_uri": "https://localhost:8080/",
     "height": 472
    },
    "colab_type": "code",
    "executionInfo": {
     "elapsed": 3476049,
     "status": "ok",
     "timestamp": 1594620759186,
     "user": {
      "displayName": "Vân Anh Phạm",
      "photoUrl": "",
      "userId": "14424096766313752825"
     },
     "user_tz": -420
    },
    "id": "Qy6nTRIG-d5_",
    "outputId": "76c656ae-cd04-40c8-da8d-2b3a2dfc5d88"
   },
   "outputs": [
    {
     "name": "stdout",
     "output_type": "stream",
     "text": [
      "Depth:  12   2020-07-13 06:10:45.141879\n",
      "Depth:  13   2020-07-13 06:10:54.335213\n",
      "Depth:  14   2020-07-13 06:11:04.016370\n",
      "Depth:  15   2020-07-13 06:11:14.142468\n",
      "Depth:  16   2020-07-13 06:11:24.743628\n",
      "Depth:  17   2020-07-13 06:11:35.806319\n",
      "Depth:  18   2020-07-13 06:11:47.486329\n",
      "Depth:  19   2020-07-13 06:11:59.591666\n",
      "Depth:  20   2020-07-13 06:12:12.119732\n",
      "Depth:  21   2020-07-13 06:12:24.985511\n"
     ]
    },
    {
     "data": {
      "image/png": "[encoded data removed]",
      "text/plain": [
       "<Figure size 432x288 with 1 Axes>"
      ]
     },
     "metadata": {
      "tags": []
     },
     "output_type": "display_data"
    }
   ],
   "source": [
    "# Decision Tree\n",
    "from datetime import datetime\n",
    "from sklearn.tree import DecisionTreeClassifier\n",
    "\n",
    "# Depth of the Secision Trees\n",
    "depths = range(12, 22)\n",
    "\n",
    "# Store the scores\n",
    "scores = np.zeros((len(depths), 3))\n",
    "\n",
    "# Iterate to find the best model\n",
    "for idx, depth in enumerate(depths):\n",
    "    print('Depth: ', depth, ' ', str(datetime.now()))\n",
    "    model = DecisionTreeClassifier(criterion = \"entropy\", max_depth = depth)\n",
    "    scores[idx, : ] = cross_validate(model, n_splits = 10)\n",
    "\n",
    "# Plot the results\n",
    "plt.plot(depths, scores[ : , 1], 'b')\n",
    "plt.fill_between(depths, scores[ : , 0], scores[:, 2], alpha = 0.1)\n",
    "plt.legend(('Median', '(40, 60) percentile'))\n",
    "plt.ylabel('Accuracy')\n",
    "plt.xlabel('Depth')\n",
    "plt.tight_layout()\n",
    "plt.show()"
   ]
  },
  {
   "cell_type": "markdown",
   "metadata": {
    "colab_type": "text",
    "id": "y2I4YHYd-d6C"
   },
   "source": [
    "Depth = 15 gives the best results"
   ]
  },
  {
   "cell_type": "code",
   "execution_count": null,
   "metadata": {
    "colab": {},
    "colab_type": "code",
    "id": "DVHI-9Z--d6C"
   },
   "outputs": [],
   "source": [
    "Tree_model = DecisionTreeClassifier(criterion = \"entropy\", max_depth = 15).fit(X, y)"
   ]
  },
  {
   "cell_type": "markdown",
   "metadata": {
    "colab_type": "text",
    "id": "Fkn_U-Ar-d6F"
   },
   "source": [
    "## Logistic Regression"
   ]
  },
  {
   "cell_type": "code",
   "execution_count": null,
   "metadata": {
    "colab": {
     "base_uri": "https://localhost:8080/",
     "height": 400
    },
    "colab_type": "code",
    "executionInfo": {
     "elapsed": 3520677,
     "status": "ok",
     "timestamp": 1594620803824,
     "user": {
      "displayName": "Vân Anh Phạm",
      "photoUrl": "",
      "userId": "14424096766313752825"
     },
     "user_tz": -420
    },
    "id": "q5G8UYEh-d6G",
    "outputId": "e4ecf39f-3449-4cb3-c11a-3609b647dd85"
   },
   "outputs": [
    {
     "name": "stdout",
     "output_type": "stream",
     "text": [
      "C:  0.01   2020-07-13 06:12:39.898678\n",
      "C:  0.03162277660168379   2020-07-13 06:12:46.977634\n",
      "C:  0.1   2020-07-13 06:12:54.165785\n",
      "C:  0.31622776601683794   2020-07-13 06:13:01.250164\n",
      "C:  1.0   2020-07-13 06:13:08.332692\n",
      "C:  3.1622776601683795   2020-07-13 06:13:15.409043\n"
     ]
    },
    {
     "data": {
      "image/png": "[encoded data removed]",
      "text/plain": [
       "<Figure size 432x288 with 1 Axes>"
      ]
     },
     "metadata": {
      "tags": []
     },
     "output_type": "display_data"
    }
   ],
   "source": [
    "# Logistic Regression\n",
    "\n",
    "from sklearn.linear_model import LogisticRegression\n",
    "\n",
    "C = np.logspace(-2.0, 0.5, num = 6, endpoint = True)\n",
    "\n",
    "scores = np.zeros((len(C), 3))\n",
    "\n",
    "for idx, c in enumerate(C):\n",
    "    print('C: ', c, ' ', str(datetime.now()))\n",
    "    model = LogisticRegression(C = c, solver = 'liblinear')\n",
    "    scores[idx, : ] = cross_validate(model, n_splits = 10)\n",
    "\n",
    "plt.plot(C, scores[ : , 1], 'b')\n",
    "plt.xscale('log')\n",
    "plt.fill_between(C, scores[ : , 0], scores[:, 2], alpha = 0.1)\n",
    "plt.legend(('Median', '(40, 60) percentile'))\n",
    "plt.ylabel('Accuracy')\n",
    "plt.xlabel('C')\n",
    "plt.tight_layout()\n",
    "plt.show()"
   ]
  },
  {
   "cell_type": "code",
   "execution_count": null,
   "metadata": {
    "colab": {},
    "colab_type": "code",
    "id": "Orj-fnzg-d6I"
   },
   "outputs": [],
   "source": [
    "LR_model = LogisticRegression(C = 0.1, solver = 'liblinear').fit(X, y)"
   ]
  },
  {
   "cell_type": "markdown",
   "metadata": {
    "colab_type": "text",
    "id": "ilEUOCc8-d6L"
   },
   "source": [
    "## Naive Bayes"
   ]
  },
  {
   "cell_type": "code",
   "execution_count": null,
   "metadata": {
    "colab": {
     "base_uri": "https://localhost:8080/",
     "height": 472
    },
    "colab_type": "code",
    "executionInfo": {
     "elapsed": 3565839,
     "status": "ok",
     "timestamp": 1594620848999,
     "user": {
      "displayName": "Vân Anh Phạm",
      "photoUrl": "",
      "userId": "14424096766313752825"
     },
     "user_tz": -420
    },
    "id": "xnK1x1Ce-d6L",
    "outputId": "7c150ac3-ad15-40ec-9161-b30d3f8c02e9"
   },
   "outputs": [
    {
     "name": "stdout",
     "output_type": "stream",
     "text": [
      "Alpha:  0.1   2020-07-13 06:13:23.996145\n",
      "Alpha:  0.2   2020-07-13 06:13:28.413772\n",
      "Alpha:  0.30000000000000004   2020-07-13 06:13:32.805633\n",
      "Alpha:  0.4   2020-07-13 06:13:37.235766\n",
      "Alpha:  0.5   2020-07-13 06:13:41.638497\n",
      "Alpha:  0.6   2020-07-13 06:13:46.067159\n",
      "Alpha:  0.7000000000000001   2020-07-13 06:13:50.468789\n",
      "Alpha:  0.8   2020-07-13 06:13:54.864906\n",
      "Alpha:  0.9   2020-07-13 06:13:59.286312\n",
      "Alpha:  1.0   2020-07-13 06:14:03.704625\n"
     ]
    },
    {
     "data": {
      "image/png": "[encoded data removed]",
      "text/plain": [
       "<Figure size 432x288 with 1 Axes>"
      ]
     },
     "metadata": {
      "tags": []
     },
     "output_type": "display_data"
    }
   ],
   "source": [
    "# Naive Bayes\n",
    "\n",
    "alpha = np.linspace(0.1, 1, num=10)\n",
    "\n",
    "scores = np.zeros((len(alpha), 3))\n",
    "\n",
    "for idx, a in enumerate(alpha):\n",
    "    print('Alpha: ', a, ' ', str(datetime.now()))\n",
    "    model = BernoulliNB(alpha=a)\n",
    "    scores[idx, : ] = cross_validate(model, n_splits = 10)\n",
    "\n",
    "plt.plot(alpha, scores[ : , 1], 'b')\n",
    "plt.fill_between(alpha, scores[ : , 0], scores[:, 2], alpha = 0.1)\n",
    "plt.legend(('Median', '(40, 60) percentile'))\n",
    "plt.ylabel('Accuracy')\n",
    "plt.xlabel('C')\n",
    "plt.tight_layout()\n",
    "plt.show()"
   ]
  },
  {
   "cell_type": "code",
   "execution_count": null,
   "metadata": {
    "colab": {},
    "colab_type": "code",
    "id": "MndVbvMM-d6P"
   },
   "outputs": [],
   "source": [
    "NB_model = BernoulliNB(alpha=a).fit(X, y)"
   ]
  },
  {
   "cell_type": "markdown",
   "metadata": {
    "colab_type": "text",
    "id": "fBtZ1ixJ-d6R"
   },
   "source": [
    "## Decision Forest using a Random Forest"
   ]
  },
  {
   "cell_type": "code",
   "execution_count": null,
   "metadata": {
    "colab": {
     "base_uri": "https://localhost:8080/",
     "height": 364
    },
    "colab_type": "code",
    "executionInfo": {
     "elapsed": 3706107,
     "status": "ok",
     "timestamp": 1594620989278,
     "user": {
      "displayName": "Vân Anh Phạm",
      "photoUrl": "",
      "userId": "14424096766313752825"
     },
     "user_tz": -420
    },
    "id": "SdhF0EIR-d6S",
    "outputId": "6ab1b39a-1400-4728-c7ca-cec099ca1c00"
   },
   "outputs": [
    {
     "name": "stdout",
     "output_type": "stream",
     "text": [
      "Estimator:  20   2020-07-13 06:14:08.934891\n",
      "Estimator:  21   2020-07-13 06:14:41.426336\n",
      "Estimator:  22   2020-07-13 06:15:15.543834\n",
      "Estimator:  23   2020-07-13 06:15:50.992585\n"
     ]
    },
    {
     "data": {
      "image/png": "[encoded data removed]",
      "text/plain": [
       "<Figure size 432x288 with 1 Axes>"
      ]
     },
     "metadata": {
      "tags": []
     },
     "output_type": "display_data"
    }
   ],
   "source": [
    "\n",
    "\n",
    "est = range(20, 24)\n",
    "scores = np.zeros((len(est), 3))\n",
    "for idx, a in enumerate(est):\n",
    "    print('Estimator: ', a, ' ', str(datetime.now()))\n",
    "    model = RandomForestClassifier(n_estimators = a, max_features = 'sqrt')\n",
    "    scores[idx, : ] = cross_validate(model, n_splits = 10)\n",
    "\n",
    "plt.plot(est, scores[ : , 1], 'b')\n",
    "plt.fill_between(est, scores[ : , 0], scores[:, 2], alpha = 0.1)\n",
    "plt.legend(('Median', '(40, 60) percentile'))\n",
    "plt.ylabel('Accuracy')\n",
    "plt.xlabel('Number of Neighbors')\n",
    "plt.tight_layout()\n",
    "plt.show()"
   ]
  },
  {
   "cell_type": "code",
   "execution_count": null,
   "metadata": {
    "colab": {},
    "colab_type": "code",
    "id": "-G4NlFTJ-d6U"
   },
   "outputs": [],
   "source": [
    "Forest_model = RandomForestClassifier(n_estimators = 21, max_features = 'sqrt').fit(X, y)"
   ]
  },
  {
   "cell_type": "markdown",
   "metadata": {
    "colab_type": "text",
    "id": "8QoT0ClN-d6X"
   },
   "source": [
    "## Determine the best Model"
   ]
  },
  {
   "cell_type": "code",
   "execution_count": null,
   "metadata": {
    "colab": {
     "base_uri": "https://localhost:8080/",
     "height": 397
    },
    "colab_type": "code",
    "executionInfo": {
     "elapsed": 555837,
     "status": "ok",
     "timestamp": 1594623271766,
     "user": {
      "displayName": "Vân Anh Phạm",
      "photoUrl": "",
      "userId": "14424096766313752825"
     },
     "user_tz": -420
    },
    "id": "-BX1sj7f-d6X",
    "outputId": "8f37ad55-23a1-4507-f56a-c39c4a711196"
   },
   "outputs": [
    {
     "name": "stderr",
     "output_type": "stream",
     "text": [
      "/usr/local/lib/python3.6/dist-packages/sklearn/metrics/_classification.py:664: FutureWarning: jaccard_similarity_score has been deprecated and replaced with jaccard_score. It will be removed in version 0.23. This implementation has surprising behavior for binary and multiclass classification tasks.\n",
      "  FutureWarning)\n",
      "/usr/local/lib/python3.6/dist-packages/sklearn/metrics/_classification.py:664: FutureWarning: jaccard_similarity_score has been deprecated and replaced with jaccard_score. It will be removed in version 0.23. This implementation has surprising behavior for binary and multiclass classification tasks.\n",
      "  FutureWarning)\n",
      "/usr/local/lib/python3.6/dist-packages/sklearn/metrics/_classification.py:664: FutureWarning: jaccard_similarity_score has been deprecated and replaced with jaccard_score. It will be removed in version 0.23. This implementation has surprising behavior for binary and multiclass classification tasks.\n",
      "  FutureWarning)\n",
      "/usr/local/lib/python3.6/dist-packages/sklearn/metrics/_classification.py:664: FutureWarning: jaccard_similarity_score has been deprecated and replaced with jaccard_score. It will be removed in version 0.23. This implementation has surprising behavior for binary and multiclass classification tasks.\n",
      "  FutureWarning)\n",
      "/usr/local/lib/python3.6/dist-packages/sklearn/metrics/_classification.py:664: FutureWarning: jaccard_similarity_score has been deprecated and replaced with jaccard_score. It will be removed in version 0.23. This implementation has surprising behavior for binary and multiclass classification tasks.\n",
      "  FutureWarning)\n"
     ]
    },
    {
     "data": {
      "text/html": [
       "<div>\n",
       "<style scoped>\n",
       "    .dataframe tbody tr th:only-of-type {\n",
       "        vertical-align: middle;\n",
       "    }\n",
       "\n",
       "    .dataframe tbody tr th {\n",
       "        vertical-align: top;\n",
       "    }\n",
       "\n",
       "    .dataframe thead th {\n",
       "        text-align: right;\n",
       "    }\n",
       "</style>\n",
       "<table border=\"1\" class=\"dataframe\">\n",
       "  <thead>\n",
       "    <tr style=\"text-align: right;\">\n",
       "      <th></th>\n",
       "      <th>Jaccard</th>\n",
       "      <th>F1-Score</th>\n",
       "      <th>LogLoss</th>\n",
       "    </tr>\n",
       "    <tr>\n",
       "      <th>Algorithm</th>\n",
       "      <th></th>\n",
       "      <th></th>\n",
       "      <th></th>\n",
       "    </tr>\n",
       "  </thead>\n",
       "  <tbody>\n",
       "    <tr>\n",
       "      <th>KNN</th>\n",
       "      <td>0.681585</td>\n",
       "      <td>0.699357</td>\n",
       "      <td>10.997775</td>\n",
       "    </tr>\n",
       "    <tr>\n",
       "      <th>Decision Tree</th>\n",
       "      <td>0.704909</td>\n",
       "      <td>0.706291</td>\n",
       "      <td>10.192168</td>\n",
       "    </tr>\n",
       "    <tr>\n",
       "      <th>Bernoulli Naive Bayes</th>\n",
       "      <td>0.603178</td>\n",
       "      <td>0.649608</td>\n",
       "      <td>13.705928</td>\n",
       "    </tr>\n",
       "    <tr>\n",
       "      <th>Logistic Regression</th>\n",
       "      <td>0.614712</td>\n",
       "      <td>0.663373</td>\n",
       "      <td>13.307555</td>\n",
       "    </tr>\n",
       "    <tr>\n",
       "      <th>Random Forest</th>\n",
       "      <td>0.995419</td>\n",
       "      <td>0.995731</td>\n",
       "      <td>0.158221</td>\n",
       "    </tr>\n",
       "  </tbody>\n",
       "</table>\n",
       "</div>"
      ],
      "text/plain": [
       "                        Jaccard  F1-Score    LogLoss\n",
       "Algorithm                                           \n",
       "KNN                    0.681585  0.699357  10.997775\n",
       "Decision Tree          0.704909  0.706291  10.192168\n",
       "Bernoulli Naive Bayes  0.603178  0.649608  13.705928\n",
       "Logistic Regression    0.614712  0.663373  13.307555\n",
       "Random Forest          0.995419  0.995731   0.158221"
      ]
     },
     "execution_count": 76,
     "metadata": {
      "tags": []
     },
     "output_type": "execute_result"
    }
   ],
   "source": [
    "# Function to iterate over each of the models to get their scores\n",
    "def get_scores(model):\n",
    "\n",
    "    # predict\n",
    "    yhat = model.predict(X)\n",
    "    \n",
    "    jaccard = metrics.jaccard_similarity_score(y, yhat)\n",
    "    f1 = metrics.f1_score(y, yhat, pos_label = 'THEFT')\n",
    "    logloss = metrics.log_loss(y == 'THEFT', yhat == 'THEFT')\n",
    "        \n",
    "    return {'Jaccard' : jaccard, 'F1-Score' : f1, 'LogLoss' : logloss}\n",
    "\n",
    "# Empty Results List    \n",
    "results = []\n",
    "\n",
    "# The Models\n",
    "models = [[KNN_model, 'KNN'], \n",
    "          [Tree_model, 'Decision Tree'], \n",
    "          [NB_model, 'Bernoulli Naive Bayes'], \n",
    "          [LR_model, 'Logistic Regression'],\n",
    "          [Forest_model, 'Random Forest']]\n",
    "\n",
    "# Iterate over each of the models\n",
    "for model, algorithm in models:\n",
    "    \n",
    "    scores = get_scores(model)\n",
    "    scores['Algorithm'] = algorithm\n",
    "    results.append(scores)\n",
    "\n",
    "# Format the results and display them.\n",
    "results = pd.DataFrame(results)\n",
    "results.set_index('Algorithm', inplace = True)\n",
    "\n",
    "results"
   ]
  },
  {
   "cell_type": "code",
   "execution_count": null,
   "metadata": {
    "colab": {},
    "colab_type": "code",
    "id": "yv756uLq-d6a"
   },
   "outputs": [],
   "source": [
    "results.to_pickle('/content/gdrive/My Drive/Coursera_Capstone-week5/anh/capstone_pickles/results.pkl')"
   ]
  },
  {
   "cell_type": "markdown",
   "metadata": {
    "colab_type": "text",
    "id": "5uJE-SOL-d6c"
   },
   "source": [
    "# Best Model\n",
    "\n",
    "Ramdom Forest is the best model scoring highest in all measurements, F1-Score, Jaccard and Log Loss. Let's now create a new model. The September crime data will become the unseen test data for the final model."
   ]
  },
  {
   "cell_type": "code",
   "execution_count": null,
   "metadata": {
    "colab": {},
    "colab_type": "code",
    "id": "FvhHfhoM-d6d"
   },
   "outputs": [],
   "source": [
    "# Import the Pickle of the Crimes DataFrame\n",
    "df_crimes = pd.read_pickle('/content/gdrive/My Drive/Coursera_Capstone-week5/anh/capstone_pickles/crimes.pkl')\n",
    "df_crimes.drop('index', inplace=True, axis=1)"
   ]
  },
  {
   "cell_type": "markdown",
   "metadata": {
    "colab_type": "text",
    "id": "2RkxuDZ2-d6f"
   },
   "source": [
    "### Recreate the Features DataFrame\n",
    "\n",
    "Recreate the Features DataFrame but this time use all of the data."
   ]
  },
  {
   "cell_type": "code",
   "execution_count": null,
   "metadata": {
    "colab": {},
    "colab_type": "code",
    "id": "bsiYITcv-d6g"
   },
   "outputs": [],
   "source": [
    "# Start by copying the Latitude and Longitude to the new DataFrame\n",
    "df_features = df_crimes[['latitude', 'longitude']]\n",
    "\n",
    "# Next and One Hot Encoding of the hour, day and month variables\n",
    "df_features = df_features.join(pd.get_dummies(df_crimes.hour, prefix='hour'))\n",
    "df_features = df_features.join(pd.get_dummies(df_crimes.day_name))\n",
    "df_features = df_features.join(pd.get_dummies(df_crimes.month_name))\n",
    "\n",
    "# Finally add the ward & crimes column, copied from the original Primary Description column\n",
    "df_features['ward'] = df_crimes[['ward']]\n",
    "df_features['crimes'] = df_crimes[['primary_description']]\n",
    "\n",
    "# Create a list of the 2 most commonly occuring crimes\n",
    "top_two_crimes = df_features[['crimes', 'ward']].groupby(\n",
    "    ['crimes']).count().sort_values('ward', ascending=False)[:2].axes[0].tolist()\n",
    "\n",
    "# Create a smaller DataFrame of only the top two crimes\n",
    "df_features = df_features[df_features['crimes'].isin(top_two_crimes)].copy()"
   ]
  },
  {
   "cell_type": "code",
   "execution_count": null,
   "metadata": {
    "colab": {
     "base_uri": "https://localhost:8080/",
     "height": 209
    },
    "colab_type": "code",
    "executionInfo": {
     "elapsed": 694,
     "status": "ok",
     "timestamp": 1594623314158,
     "user": {
      "displayName": "Vân Anh Phạm",
      "photoUrl": "",
      "userId": "14424096766313752825"
     },
     "user_tz": -420
    },
    "id": "hNa27SGW-d6j",
    "outputId": "e1659e75-c11b-4103-c354-b966c61c3567"
   },
   "outputs": [
    {
     "data": {
      "text/html": [
       "<div>\n",
       "<style scoped>\n",
       "    .dataframe tbody tr th:only-of-type {\n",
       "        vertical-align: middle;\n",
       "    }\n",
       "\n",
       "    .dataframe tbody tr th {\n",
       "        vertical-align: top;\n",
       "    }\n",
       "\n",
       "    .dataframe thead th {\n",
       "        text-align: right;\n",
       "    }\n",
       "</style>\n",
       "<table border=\"1\" class=\"dataframe\">\n",
       "  <thead>\n",
       "    <tr style=\"text-align: right;\">\n",
       "      <th></th>\n",
       "      <th>latitude</th>\n",
       "      <th>longitude</th>\n",
       "      <th>hour_0</th>\n",
       "      <th>hour_1</th>\n",
       "      <th>hour_2</th>\n",
       "      <th>hour_3</th>\n",
       "      <th>hour_4</th>\n",
       "      <th>hour_5</th>\n",
       "      <th>hour_6</th>\n",
       "      <th>hour_7</th>\n",
       "      <th>hour_8</th>\n",
       "      <th>hour_9</th>\n",
       "      <th>hour_10</th>\n",
       "      <th>hour_11</th>\n",
       "      <th>hour_12</th>\n",
       "      <th>hour_13</th>\n",
       "      <th>hour_14</th>\n",
       "      <th>hour_15</th>\n",
       "      <th>hour_16</th>\n",
       "      <th>hour_17</th>\n",
       "      <th>hour_18</th>\n",
       "      <th>hour_19</th>\n",
       "      <th>hour_20</th>\n",
       "      <th>hour_21</th>\n",
       "      <th>hour_22</th>\n",
       "      <th>hour_23</th>\n",
       "      <th>Friday</th>\n",
       "      <th>Monday</th>\n",
       "      <th>Saturday</th>\n",
       "      <th>Sunday</th>\n",
       "      <th>Thursday</th>\n",
       "      <th>Tuesday</th>\n",
       "      <th>Wednesday</th>\n",
       "      <th>April</th>\n",
       "      <th>August</th>\n",
       "      <th>December</th>\n",
       "      <th>February</th>\n",
       "      <th>January</th>\n",
       "      <th>July</th>\n",
       "      <th>June</th>\n",
       "      <th>March</th>\n",
       "      <th>May</th>\n",
       "      <th>November</th>\n",
       "      <th>October</th>\n",
       "      <th>September</th>\n",
       "      <th>ward</th>\n",
       "      <th>crimes</th>\n",
       "    </tr>\n",
       "  </thead>\n",
       "  <tbody>\n",
       "    <tr>\n",
       "      <th>6</th>\n",
       "      <td>41.895581</td>\n",
       "      <td>-87.756842</td>\n",
       "      <td>0</td>\n",
       "      <td>0</td>\n",
       "      <td>0</td>\n",
       "      <td>0</td>\n",
       "      <td>0</td>\n",
       "      <td>0</td>\n",
       "      <td>0</td>\n",
       "      <td>0</td>\n",
       "      <td>1</td>\n",
       "      <td>0</td>\n",
       "      <td>0</td>\n",
       "      <td>0</td>\n",
       "      <td>0</td>\n",
       "      <td>0</td>\n",
       "      <td>0</td>\n",
       "      <td>0</td>\n",
       "      <td>0</td>\n",
       "      <td>0</td>\n",
       "      <td>0</td>\n",
       "      <td>0</td>\n",
       "      <td>0</td>\n",
       "      <td>0</td>\n",
       "      <td>0</td>\n",
       "      <td>0</td>\n",
       "      <td>0</td>\n",
       "      <td>0</td>\n",
       "      <td>0</td>\n",
       "      <td>0</td>\n",
       "      <td>1</td>\n",
       "      <td>0</td>\n",
       "      <td>0</td>\n",
       "      <td>0</td>\n",
       "      <td>0</td>\n",
       "      <td>0</td>\n",
       "      <td>0</td>\n",
       "      <td>0</td>\n",
       "      <td>0</td>\n",
       "      <td>0</td>\n",
       "      <td>0</td>\n",
       "      <td>1</td>\n",
       "      <td>0</td>\n",
       "      <td>0</td>\n",
       "      <td>0</td>\n",
       "      <td>37.0</td>\n",
       "      <td>THEFT</td>\n",
       "    </tr>\n",
       "    <tr>\n",
       "      <th>7</th>\n",
       "      <td>41.802916</td>\n",
       "      <td>-87.596079</td>\n",
       "      <td>0</td>\n",
       "      <td>0</td>\n",
       "      <td>0</td>\n",
       "      <td>0</td>\n",
       "      <td>0</td>\n",
       "      <td>0</td>\n",
       "      <td>1</td>\n",
       "      <td>0</td>\n",
       "      <td>0</td>\n",
       "      <td>0</td>\n",
       "      <td>0</td>\n",
       "      <td>0</td>\n",
       "      <td>0</td>\n",
       "      <td>0</td>\n",
       "      <td>0</td>\n",
       "      <td>0</td>\n",
       "      <td>0</td>\n",
       "      <td>0</td>\n",
       "      <td>0</td>\n",
       "      <td>0</td>\n",
       "      <td>0</td>\n",
       "      <td>0</td>\n",
       "      <td>0</td>\n",
       "      <td>0</td>\n",
       "      <td>0</td>\n",
       "      <td>0</td>\n",
       "      <td>0</td>\n",
       "      <td>0</td>\n",
       "      <td>1</td>\n",
       "      <td>0</td>\n",
       "      <td>0</td>\n",
       "      <td>0</td>\n",
       "      <td>0</td>\n",
       "      <td>0</td>\n",
       "      <td>0</td>\n",
       "      <td>0</td>\n",
       "      <td>0</td>\n",
       "      <td>0</td>\n",
       "      <td>0</td>\n",
       "      <td>1</td>\n",
       "      <td>0</td>\n",
       "      <td>0</td>\n",
       "      <td>0</td>\n",
       "      <td>4.0</td>\n",
       "      <td>BATTERY</td>\n",
       "    </tr>\n",
       "    <tr>\n",
       "      <th>9</th>\n",
       "      <td>42.014719</td>\n",
       "      <td>-87.680489</td>\n",
       "      <td>0</td>\n",
       "      <td>0</td>\n",
       "      <td>0</td>\n",
       "      <td>0</td>\n",
       "      <td>0</td>\n",
       "      <td>0</td>\n",
       "      <td>0</td>\n",
       "      <td>0</td>\n",
       "      <td>0</td>\n",
       "      <td>0</td>\n",
       "      <td>0</td>\n",
       "      <td>0</td>\n",
       "      <td>1</td>\n",
       "      <td>0</td>\n",
       "      <td>0</td>\n",
       "      <td>0</td>\n",
       "      <td>0</td>\n",
       "      <td>0</td>\n",
       "      <td>0</td>\n",
       "      <td>0</td>\n",
       "      <td>0</td>\n",
       "      <td>0</td>\n",
       "      <td>0</td>\n",
       "      <td>0</td>\n",
       "      <td>0</td>\n",
       "      <td>0</td>\n",
       "      <td>0</td>\n",
       "      <td>1</td>\n",
       "      <td>0</td>\n",
       "      <td>0</td>\n",
       "      <td>0</td>\n",
       "      <td>1</td>\n",
       "      <td>0</td>\n",
       "      <td>0</td>\n",
       "      <td>0</td>\n",
       "      <td>0</td>\n",
       "      <td>0</td>\n",
       "      <td>0</td>\n",
       "      <td>0</td>\n",
       "      <td>0</td>\n",
       "      <td>0</td>\n",
       "      <td>0</td>\n",
       "      <td>0</td>\n",
       "      <td>49.0</td>\n",
       "      <td>THEFT</td>\n",
       "    </tr>\n",
       "    <tr>\n",
       "      <th>10</th>\n",
       "      <td>41.924296</td>\n",
       "      <td>-87.742160</td>\n",
       "      <td>0</td>\n",
       "      <td>0</td>\n",
       "      <td>0</td>\n",
       "      <td>0</td>\n",
       "      <td>0</td>\n",
       "      <td>0</td>\n",
       "      <td>0</td>\n",
       "      <td>0</td>\n",
       "      <td>0</td>\n",
       "      <td>0</td>\n",
       "      <td>0</td>\n",
       "      <td>0</td>\n",
       "      <td>0</td>\n",
       "      <td>0</td>\n",
       "      <td>0</td>\n",
       "      <td>1</td>\n",
       "      <td>0</td>\n",
       "      <td>0</td>\n",
       "      <td>0</td>\n",
       "      <td>0</td>\n",
       "      <td>0</td>\n",
       "      <td>0</td>\n",
       "      <td>0</td>\n",
       "      <td>0</td>\n",
       "      <td>0</td>\n",
       "      <td>0</td>\n",
       "      <td>0</td>\n",
       "      <td>0</td>\n",
       "      <td>1</td>\n",
       "      <td>0</td>\n",
       "      <td>0</td>\n",
       "      <td>0</td>\n",
       "      <td>0</td>\n",
       "      <td>0</td>\n",
       "      <td>0</td>\n",
       "      <td>0</td>\n",
       "      <td>0</td>\n",
       "      <td>0</td>\n",
       "      <td>0</td>\n",
       "      <td>1</td>\n",
       "      <td>0</td>\n",
       "      <td>0</td>\n",
       "      <td>0</td>\n",
       "      <td>36.0</td>\n",
       "      <td>BATTERY</td>\n",
       "    </tr>\n",
       "    <tr>\n",
       "      <th>19</th>\n",
       "      <td>41.942647</td>\n",
       "      <td>-87.656619</td>\n",
       "      <td>0</td>\n",
       "      <td>0</td>\n",
       "      <td>0</td>\n",
       "      <td>0</td>\n",
       "      <td>0</td>\n",
       "      <td>0</td>\n",
       "      <td>0</td>\n",
       "      <td>0</td>\n",
       "      <td>0</td>\n",
       "      <td>0</td>\n",
       "      <td>0</td>\n",
       "      <td>0</td>\n",
       "      <td>0</td>\n",
       "      <td>0</td>\n",
       "      <td>1</td>\n",
       "      <td>0</td>\n",
       "      <td>0</td>\n",
       "      <td>0</td>\n",
       "      <td>0</td>\n",
       "      <td>0</td>\n",
       "      <td>0</td>\n",
       "      <td>0</td>\n",
       "      <td>0</td>\n",
       "      <td>0</td>\n",
       "      <td>0</td>\n",
       "      <td>0</td>\n",
       "      <td>0</td>\n",
       "      <td>0</td>\n",
       "      <td>0</td>\n",
       "      <td>0</td>\n",
       "      <td>1</td>\n",
       "      <td>1</td>\n",
       "      <td>0</td>\n",
       "      <td>0</td>\n",
       "      <td>0</td>\n",
       "      <td>0</td>\n",
       "      <td>0</td>\n",
       "      <td>0</td>\n",
       "      <td>0</td>\n",
       "      <td>0</td>\n",
       "      <td>0</td>\n",
       "      <td>0</td>\n",
       "      <td>0</td>\n",
       "      <td>44.0</td>\n",
       "      <td>THEFT</td>\n",
       "    </tr>\n",
       "  </tbody>\n",
       "</table>\n",
       "</div>"
      ],
      "text/plain": [
       "     latitude  longitude  hour_0  hour_1  ...  October  September  ward   crimes\n",
       "6   41.895581 -87.756842       0       0  ...        0          0  37.0    THEFT\n",
       "7   41.802916 -87.596079       0       0  ...        0          0   4.0  BATTERY\n",
       "9   42.014719 -87.680489       0       0  ...        0          0  49.0    THEFT\n",
       "10  41.924296 -87.742160       0       0  ...        0          0  36.0  BATTERY\n",
       "19  41.942647 -87.656619       0       0  ...        0          0  44.0    THEFT\n",
       "\n",
       "[5 rows x 47 columns]"
      ]
     },
     "execution_count": 80,
     "metadata": {
      "tags": []
     },
     "output_type": "execute_result"
    }
   ],
   "source": [
    "# Looking at the head of the features dataframe we can see the encoded labels\n",
    "df_features.head()"
   ]
  },
  {
   "cell_type": "code",
   "execution_count": null,
   "metadata": {
    "colab": {
     "base_uri": "https://localhost:8080/",
     "height": 880
    },
    "colab_type": "code",
    "executionInfo": {
     "elapsed": 645,
     "status": "ok",
     "timestamp": 1594623316314,
     "user": {
      "displayName": "Vân Anh Phạm",
      "photoUrl": "",
      "userId": "14424096766313752825"
     },
     "user_tz": -420
    },
    "id": "_BkNaN_T-d6m",
    "outputId": "49b3d698-7f50-43d9-83e9-5d0157e17cef"
   },
   "outputs": [
    {
     "data": {
      "text/plain": [
       "latitude     float64\n",
       "longitude    float64\n",
       "hour_0         uint8\n",
       "hour_1         uint8\n",
       "hour_2         uint8\n",
       "hour_3         uint8\n",
       "hour_4         uint8\n",
       "hour_5         uint8\n",
       "hour_6         uint8\n",
       "hour_7         uint8\n",
       "hour_8         uint8\n",
       "hour_9         uint8\n",
       "hour_10        uint8\n",
       "hour_11        uint8\n",
       "hour_12        uint8\n",
       "hour_13        uint8\n",
       "hour_14        uint8\n",
       "hour_15        uint8\n",
       "hour_16        uint8\n",
       "hour_17        uint8\n",
       "hour_18        uint8\n",
       "hour_19        uint8\n",
       "hour_20        uint8\n",
       "hour_21        uint8\n",
       "hour_22        uint8\n",
       "hour_23        uint8\n",
       "Friday         uint8\n",
       "Monday         uint8\n",
       "Saturday       uint8\n",
       "Sunday         uint8\n",
       "Thursday       uint8\n",
       "Tuesday        uint8\n",
       "Wednesday      uint8\n",
       "April          uint8\n",
       "August         uint8\n",
       "December       uint8\n",
       "February       uint8\n",
       "January        uint8\n",
       "July           uint8\n",
       "June           uint8\n",
       "March          uint8\n",
       "May            uint8\n",
       "November       uint8\n",
       "October        uint8\n",
       "September      uint8\n",
       "ward         float64\n",
       "crimes        object\n",
       "dtype: object"
      ]
     },
     "execution_count": 81,
     "metadata": {
      "tags": []
     },
     "output_type": "execute_result"
    }
   ],
   "source": [
    "df_features.dtypes"
   ]
  },
  {
   "cell_type": "markdown",
   "metadata": {
    "colab_type": "text",
    "id": "8kLQJcXk-d6o"
   },
   "source": [
    "### Create the Test Datasets"
   ]
  },
  {
   "cell_type": "code",
   "execution_count": null,
   "metadata": {
    "colab": {},
    "colab_type": "code",
    "id": "lWXejIY3-d6p"
   },
   "outputs": [],
   "source": [
    "X_Train = df_features[df_features.September == 0].copy()\n",
    "X_Train.drop('crimes', axis=1, inplace=True)\n",
    "\n",
    "# Normalise df_features\n",
    "X_Train = preprocessing.StandardScaler().fit(X_Train).transform(X_Train)\n",
    "\n",
    "y_Train = df_features.crimes[df_features.September == 0].values"
   ]
  },
  {
   "cell_type": "markdown",
   "metadata": {
    "colab_type": "text",
    "id": "-t7JD7GI-d6r"
   },
   "source": [
    "### Create the Train Datasets"
   ]
  },
  {
   "cell_type": "code",
   "execution_count": null,
   "metadata": {
    "colab": {},
    "colab_type": "code",
    "id": "xPI2dloq-d6r"
   },
   "outputs": [],
   "source": [
    "X_Test = df_features[df_features.September == 1].copy()\n",
    "X_Test.drop('crimes', axis=1, inplace=True)\n",
    "\n",
    "# Normalise df_features\n",
    "X_Test = preprocessing.StandardScaler().fit(X_Test).transform(X_Test)\n",
    "\n",
    "y_Test = df_features.crimes[df_features.September == 1].values"
   ]
  },
  {
   "cell_type": "markdown",
   "metadata": {
    "colab_type": "text",
    "id": "qPKxV2nz-d6u"
   },
   "source": [
    "### Recreate the Random Forest Model"
   ]
  },
  {
   "cell_type": "code",
   "execution_count": null,
   "metadata": {
    "colab": {},
    "colab_type": "code",
    "id": "4rNpFf5A-d6x"
   },
   "outputs": [],
   "source": [
    "Forest_model_final = RandomForestClassifier(n_estimators = 21, max_features = 'sqrt').fit(X_Train, y_Train)"
   ]
  },
  {
   "cell_type": "markdown",
   "metadata": {
    "colab_type": "text",
    "id": "UGkfcbtK-d60"
   },
   "source": [
    "### Predict the Final Performance of the Model"
   ]
  },
  {
   "cell_type": "code",
   "execution_count": null,
   "metadata": {
    "colab": {
     "base_uri": "https://localhost:8080/",
     "height": 88
    },
    "colab_type": "code",
    "executionInfo": {
     "elapsed": 980,
     "status": "ok",
     "timestamp": 1594623342310,
     "user": {
      "displayName": "Vân Anh Phạm",
      "photoUrl": "",
      "userId": "14424096766313752825"
     },
     "user_tz": -420
    },
    "id": "zS2m9yAc-d60",
    "outputId": "dbfcfc34-e0ab-4943-98a7-9e49e68be4f8"
   },
   "outputs": [
    {
     "name": "stdout",
     "output_type": "stream",
     "text": [
      "Jaccard Score 0.6240198101527032\n",
      "F1-Score of each class [0.58124569 0.65886538]\n"
     ]
    },
    {
     "name": "stderr",
     "output_type": "stream",
     "text": [
      "/usr/local/lib/python3.6/dist-packages/sklearn/metrics/_classification.py:664: FutureWarning: jaccard_similarity_score has been deprecated and replaced with jaccard_score. It will be removed in version 0.23. This implementation has surprising behavior for binary and multiclass classification tasks.\n",
      "  FutureWarning)\n"
     ]
    }
   ],
   "source": [
    "# Predict yhat using X_Test\n",
    "yhat = Forest_model_final.predict(X_Test)\n",
    "    \n",
    "# Measure the Jaccard Score of the final Model\n",
    "jaccard_final = metrics.jaccard_similarity_score(y_Test, yhat)\n",
    "print('Jaccard Score', jaccard_final)\n",
    "    \n",
    "f1 = metrics.f1_score(y_Test, yhat, average=None)\n",
    "print('F1-Score of each class', f1)"
   ]
  },
  {
   "cell_type": "markdown",
   "metadata": {
    "colab_type": "text",
    "id": "oiCKfQw4-d62"
   },
   "source": [
    "### What are the important Features"
   ]
  },
  {
   "cell_type": "code",
   "execution_count": null,
   "metadata": {
    "colab": {},
    "colab_type": "code",
    "id": "z2Wg5C1l-d63"
   },
   "outputs": [],
   "source": [
    "importances = Forest_model_final.feature_importances_"
   ]
  },
  {
   "cell_type": "code",
   "execution_count": null,
   "metadata": {
    "colab": {
     "base_uri": "https://localhost:8080/",
     "height": 1000
    },
    "colab_type": "code",
    "executionInfo": {
     "elapsed": 1055,
     "status": "ok",
     "timestamp": 1594623347281,
     "user": {
      "displayName": "Vân Anh Phạm",
      "photoUrl": "",
      "userId": "14424096766313752825"
     },
     "user_tz": -420
    },
    "id": "qERijPnH-d65",
    "outputId": "09751bb6-5e87-4f4c-9348-78f7b3859ab7"
   },
   "outputs": [
    {
     "name": "stdout",
     "output_type": "stream",
     "text": [
      "Feature ranking:\n",
      "1. feature 0 (0.268107)\n",
      "2. feature 1 (0.253966)\n",
      "3. feature 45 (0.123830)\n",
      "4. feature 32 (0.013686)\n",
      "5. feature 31 (0.013682)\n",
      "6. feature 26 (0.013433)\n",
      "7. feature 27 (0.013411)\n",
      "8. feature 38 (0.012438)\n",
      "9. feature 34 (0.012358)\n",
      "10. feature 30 (0.012206)\n",
      "11. feature 37 (0.012018)\n",
      "12. feature 28 (0.011465)\n",
      "13. feature 42 (0.011331)\n",
      "14. feature 36 (0.011070)\n",
      "15. feature 35 (0.010739)\n",
      "16. feature 43 (0.010656)\n",
      "17. feature 40 (0.009674)\n",
      "18. feature 33 (0.008692)\n",
      "19. feature 21 (0.008563)\n",
      "20. feature 29 (0.008379)\n",
      "21. feature 18 (0.008226)\n",
      "22. feature 13 (0.008120)\n",
      "23. feature 20 (0.008046)\n",
      "24. feature 17 (0.007821)\n",
      "25. feature 22 (0.007645)\n",
      "26. feature 19 (0.007574)\n",
      "27. feature 41 (0.007331)\n",
      "28. feature 16 (0.007283)\n",
      "29. feature 15 (0.006843)\n",
      "30. feature 11 (0.006772)\n",
      "31. feature 39 (0.006740)\n",
      "32. feature 2 (0.006735)\n",
      "33. feature 12 (0.006690)\n",
      "34. feature 23 (0.006484)\n",
      "35. feature 10 (0.006319)\n",
      "36. feature 14 (0.006110)\n",
      "37. feature 3 (0.005766)\n",
      "38. feature 24 (0.005575)\n",
      "39. feature 4 (0.005560)\n",
      "40. feature 9 (0.005231)\n",
      "41. feature 25 (0.005193)\n",
      "42. feature 8 (0.004685)\n",
      "43. feature 5 (0.004676)\n",
      "44. feature 7 (0.004592)\n",
      "45. feature 6 (0.004281)\n",
      "46. feature 44 (0.000000)\n"
     ]
    },
    {
     "data": {
      "image/png": "[encoded data removed]",
      "text/plain": [
       "<Figure size 1080x432 with 1 Axes>"
      ]
     },
     "metadata": {
      "tags": []
     },
     "output_type": "display_data"
    }
   ],
   "source": [
    "std = np.std([tree.feature_importances_ for tree in Forest_model_final.estimators_],\n",
    "             axis=0)\n",
    "\n",
    "indices = np.argsort(importances)[::-1]\n",
    "\n",
    "# Print the feature ranking\n",
    "print(\"Feature ranking:\")\n",
    "\n",
    "for f in range(X_Train.shape[1]):\n",
    "    print(\"%d. feature %d (%f)\" % (f + 1, indices[f], importances[indices[f]]))\n",
    "\n",
    "# Plot the feature importances of the forest\n",
    "plt.figure(figsize=(15, 6))\n",
    "plt.title(\"Feature importances\")\n",
    "plt.bar(range(X_Train.shape[1]), importances[indices],\n",
    "       color=\"r\", yerr=std[indices], align=\"center\")\n",
    "plt.xticks(range(X_Train.shape[1]), indices)\n",
    "plt.xlim([-1, X_Train.shape[1]])\n",
    "plt.show()"
   ]
  },
  {
   "cell_type": "markdown",
   "metadata": {
    "colab_type": "text",
    "id": "7Gff9bfe-d68"
   },
   "source": [
    "This shows that the most predictive models are:\n",
    "\n",
    "1. Latitude\n",
    "1. Longitude\n",
    "1. Ward\n",
    "\n",
    "The other features, particulraly the hour the crime took place, are less predictive."
   ]
  },
  {
   "cell_type": "code",
   "execution_count": null,
   "metadata": {
    "colab": {},
    "colab_type": "code",
    "id": "91o8cts_-d68"
   },
   "outputs": [],
   "source": [
    "Tree_model = DecisionTreeClassifier(criterion = \"entropy\", max_depth = 15).fit(X_Train, y_Train)"
   ]
  },
  {
   "cell_type": "code",
   "execution_count": null,
   "metadata": {
    "colab": {
     "base_uri": "https://localhost:8080/",
     "height": 88
    },
    "colab_type": "code",
    "executionInfo": {
     "elapsed": 611,
     "status": "ok",
     "timestamp": 1594623389618,
     "user": {
      "displayName": "Vân Anh Phạm",
      "photoUrl": "",
      "userId": "14424096766313752825"
     },
     "user_tz": -420
    },
    "id": "7V3DZypC-d6_",
    "outputId": "9d37fb1a-c82b-407e-fc9b-5727d204cea4"
   },
   "outputs": [
    {
     "name": "stdout",
     "output_type": "stream",
     "text": [
      "Jaccard Score 0.6240198101527032\n",
      "F1-Score of each class [0.58124569 0.65886538]\n"
     ]
    },
    {
     "name": "stderr",
     "output_type": "stream",
     "text": [
      "/usr/local/lib/python3.6/dist-packages/sklearn/metrics/_classification.py:664: FutureWarning: jaccard_similarity_score has been deprecated and replaced with jaccard_score. It will be removed in version 0.23. This implementation has surprising behavior for binary and multiclass classification tasks.\n",
      "  FutureWarning)\n"
     ]
    }
   ],
   "source": [
    "# Predict yhat using X_Test\n",
    "yhat_dt = Forest_model_final.predict(X_Test)\n",
    "    \n",
    "# Measure the Jaccard Score of the final Model\n",
    "jaccard_final = metrics.jaccard_similarity_score(y_Test, yhat_dt)\n",
    "print('Jaccard Score', jaccard_final)\n",
    "    \n",
    "f1 = metrics.f1_score(y_Test, yhat_dt, average=None)\n",
    "print('F1-Score of each class', f1)"
   ]
  },
  {
   "cell_type": "code",
   "execution_count": null,
   "metadata": {
    "colab": {},
    "colab_type": "code",
    "id": "N-Athekp-d7B"
   },
   "outputs": [],
   "source": []
  }
 ],
 "metadata": {
  "colab": {
   "name": "BOTN-04-Modelling.ipynb",
   "provenance": []
  },
  "kernelspec": {
   "display_name": "Python 2",
   "language": "python",
   "name": "python2"
  },
  "language_info": {
   "codemirror_mode": {
    "name": "ipython",
    "version": 3
   },
   "file_extension": ".py",
   "mimetype": "text/x-python",
   "name": "python",
   "nbconvert_exporter": "python",
   "pygments_lexer": "ipython3",
   "version": "3.6.9"
  }
 },
 "nbformat": 4,
 "nbformat_minor": 1
}
