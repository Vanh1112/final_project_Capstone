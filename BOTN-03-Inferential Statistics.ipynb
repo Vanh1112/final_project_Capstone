{
 "cells": [
  {
   "cell_type": "markdown",
   "metadata": {
    "colab_type": "text",
    "id": "IeW0CQkq8hcT"
   },
   "source": [
    "# Inferential Statistics\n",
    "\n",
    "Inferential statistics allows us to provide insight on a given topic. There are many types of statistical tests that allows one to make inferences. Some of the common statistical tests are:\n",
    "\n",
    "* Correlations\n",
    "* Chi-square test\n",
    "* Independent t-test (a.k.a Student’s t-test)\n",
    "* Paired sample t-test\n",
    "* Welch’s t-test\n",
    "* Wilcoxon signed-rank test\n",
    "* Linear regression\n",
    "* Logistic regression\n",
    "* One-way Analysis of Variance (ANOVA)\n",
    "* Two-way/N-way ANOVA\n",
    "\n",
    "In this section we will investigate if there are any obvious inferential statisticical methods that can help us when modelling the data.\n",
    "\n",
    "## Import required Libraries\n",
    "\n",
    "We start, as normal, by importing required libaries."
   ]
  },
  {
   "cell_type": "code",
   "execution_count": 1,
   "metadata": {
    "colab": {
     "base_uri": "https://localhost:8080/",
     "height": 126
    },
    "colab_type": "code",
    "executionInfo": {
     "elapsed": 20045,
     "status": "ok",
     "timestamp": 1594617220383,
     "user": {
      "displayName": "Vân Anh Phạm",
      "photoUrl": "",
      "userId": "14424096766313752825"
     },
     "user_tz": -420
    },
    "id": "A90NHrfj8mX5",
    "outputId": "38f41210-50f8-4711-f597-4ddccc193e26"
   },
   "outputs": [
    {
     "name": "stdout",
     "output_type": "stream",
     "text": [
      "Go to this URL in a browser: https://accounts.google.com/o/oauth2/auth?client_id=947318989803-6bn6qk8qdgf4n4g3pfee6491hc0brc4i.apps.googleusercontent.com&redirect_uri=urn%3aietf%3awg%3aoauth%3a2.0%3aoob&response_type=code&scope=email%20https%3a%2f%2fwww.googleapis.com%2fauth%2fdocs.test%20https%3a%2f%2fwww.googleapis.com%2fauth%2fdrive%20https%3a%2f%2fwww.googleapis.com%2fauth%2fdrive.photos.readonly%20https%3a%2f%2fwww.googleapis.com%2fauth%2fpeopleapi.readonly\n",
      "\n",
      "Enter your authorization code:\n",
      "··········\n",
      "Mounted at /content/gdrive\n"
     ]
    }
   ],
   "source": [
    "from google.colab import drive\n",
    "drive.mount(\"/content/gdrive\")"
   ]
  },
  {
   "cell_type": "code",
   "execution_count": 2,
   "metadata": {
    "colab": {
     "base_uri": "https://localhost:8080/",
     "height": 34
    },
    "colab_type": "code",
    "executionInfo": {
     "elapsed": 14225,
     "status": "ok",
     "timestamp": 1594617237872,
     "user": {
      "displayName": "Vân Anh Phạm",
      "photoUrl": "",
      "userId": "14424096766313752825"
     },
     "user_tz": -420
    },
    "id": "AL4tLnHA8nQg",
    "outputId": "d4f3da13-773d-4ef9-c10d-b9963ed28cfe"
   },
   "outputs": [
    {
     "name": "stdout",
     "output_type": "stream",
     "text": [
      "Authenticated\n"
     ]
    }
   ],
   "source": [
    "from google.colab import auth\n",
    "auth.authenticate_user()\n",
    "print('Authenticated')"
   ]
  },
  {
   "cell_type": "code",
   "execution_count": 3,
   "metadata": {
    "colab": {
     "base_uri": "https://localhost:8080/",
     "height": 52
    },
    "colab_type": "code",
    "executionInfo": {
     "elapsed": 941,
     "status": "ok",
     "timestamp": 1594617241668,
     "user": {
      "displayName": "Vân Anh Phạm",
      "photoUrl": "",
      "userId": "14424096766313752825"
     },
     "user_tz": -420
    },
    "id": "U0dJS0Zy8hcU",
    "outputId": "4e84e933-8e61-4091-8993-1c4863dee05e"
   },
   "outputs": [
    {
     "name": "stderr",
     "output_type": "stream",
     "text": [
      "/usr/local/lib/python3.6/dist-packages/statsmodels/tools/_testing.py:19: FutureWarning: pandas.util.testing is deprecated. Use the functions in the public API at pandas.testing instead.\n",
      "  import pandas.util.testing as tm\n"
     ]
    }
   ],
   "source": [
    "# Import Pandas\n",
    "import pandas as pd\n",
    "\n",
    "# Use the inline backend to generate the plots within the browser\n",
    "%matplotlib inline \n",
    "\n",
    "import matplotlib as mpl\n",
    "import matplotlib.pyplot as plt\n",
    "\n",
    "import seaborn as sns\n",
    "sns.set_style(\"darkgrid\")\n",
    "\n",
    "font = {'size'   : 14}\n",
    "mpl.rc('font', **font)"
   ]
  },
  {
   "cell_type": "markdown",
   "metadata": {
    "colab_type": "text",
    "id": "O7uim2xY8hcY"
   },
   "source": [
    "## Import Dataframes from Pickle files\n",
    "\n",
    "We load in the exported pickle files of the dataframes created in the Data Acquition Section."
   ]
  },
  {
   "cell_type": "code",
   "execution_count": 4,
   "metadata": {
    "colab": {},
    "colab_type": "code",
    "executionInfo": {
     "elapsed": 3083,
     "status": "ok",
     "timestamp": 1594617247236,
     "user": {
      "displayName": "Vân Anh Phạm",
      "photoUrl": "",
      "userId": "14424096766313752825"
     },
     "user_tz": -420
    },
    "id": "db0LTDYf8hcZ"
   },
   "outputs": [],
   "source": [
    "# Import the Pickle of the Crimes DataFrame\n",
    "df_crimes = pd.read_pickle('/content/gdrive/My Drive/Coursera_Capstone-week5/anh/capstone_pickles/crimes.pkl')\n",
    "df_crimes.drop('index', inplace=True, axis=1)\n",
    "\n",
    "# Import the Pickle of the Top Venues DataFrame\n",
    "df_topvnues = pd.read_pickle('/content/gdrive/My Drive/Coursera_Capstone-week5/anh/capstone_pickles/top_venues.pkl')\n",
    "\n",
    "# Import the Pickle of the Restaurants DataFrame\n",
    "df_rest = pd.read_pickle('/content/gdrive/My Drive/Coursera_Capstone-week5/anh/capstone_pickles/restaurants.pkl')"
   ]
  },
  {
   "cell_type": "code",
   "execution_count": 5,
   "metadata": {
    "colab": {
     "base_uri": "https://localhost:8080/",
     "height": 189
    },
    "colab_type": "code",
    "executionInfo": {
     "elapsed": 675,
     "status": "ok",
     "timestamp": 1594617249961,
     "user": {
      "displayName": "Vân Anh Phạm",
      "photoUrl": "",
      "userId": "14424096766313752825"
     },
     "user_tz": -420
    },
    "id": "uX8weUa38hcc",
    "outputId": "0fc07a5c-f3a6-4dfc-fefa-136084acbeb9"
   },
   "outputs": [
    {
     "data": {
      "text/html": [
       "<div>\n",
       "<style scoped>\n",
       "    .dataframe tbody tr th:only-of-type {\n",
       "        vertical-align: middle;\n",
       "    }\n",
       "\n",
       "    .dataframe tbody tr th {\n",
       "        vertical-align: top;\n",
       "    }\n",
       "\n",
       "    .dataframe thead th {\n",
       "        text-align: right;\n",
       "    }\n",
       "</style>\n",
       "<table border=\"1\" class=\"dataframe\">\n",
       "  <thead>\n",
       "    <tr style=\"text-align: right;\">\n",
       "      <th></th>\n",
       "      <th>case</th>\n",
       "      <th>date_of_occurrence</th>\n",
       "      <th>block</th>\n",
       "      <th>primary_description</th>\n",
       "      <th>ward</th>\n",
       "      <th>latitude</th>\n",
       "      <th>longitude</th>\n",
       "      <th>hour</th>\n",
       "      <th>day_name</th>\n",
       "      <th>day</th>\n",
       "      <th>month_name</th>\n",
       "      <th>month</th>\n",
       "      <th>year</th>\n",
       "      <th>year_month</th>\n",
       "      <th>zip</th>\n",
       "      <th>street</th>\n",
       "    </tr>\n",
       "  </thead>\n",
       "  <tbody>\n",
       "    <tr>\n",
       "      <th>0</th>\n",
       "      <td>JD212847</td>\n",
       "      <td>2020-04-10 22:56:00</td>\n",
       "      <td>005XX W 103RD ST</td>\n",
       "      <td>ASSAULT</td>\n",
       "      <td>9.0</td>\n",
       "      <td>41.707001</td>\n",
       "      <td>-87.636288</td>\n",
       "      <td>22</td>\n",
       "      <td>Friday</td>\n",
       "      <td>5</td>\n",
       "      <td>April</td>\n",
       "      <td>4</td>\n",
       "      <td>2020</td>\n",
       "      <td>2020-04</td>\n",
       "      <td>005XX</td>\n",
       "      <td>W, 103RD, ST</td>\n",
       "    </tr>\n",
       "    <tr>\n",
       "      <th>1</th>\n",
       "      <td>JD226153</td>\n",
       "      <td>2020-05-07 00:50:00</td>\n",
       "      <td>064XX S DR MARTIN LUTHER KING JR DR</td>\n",
       "      <td>ASSAULT</td>\n",
       "      <td>20.0</td>\n",
       "      <td>41.777468</td>\n",
       "      <td>-87.615556</td>\n",
       "      <td>0</td>\n",
       "      <td>Thursday</td>\n",
       "      <td>4</td>\n",
       "      <td>May</td>\n",
       "      <td>5</td>\n",
       "      <td>2020</td>\n",
       "      <td>2020-05</td>\n",
       "      <td>064XX</td>\n",
       "      <td>S, DR, MARTIN, LUTHER, KING, JR, DR</td>\n",
       "    </tr>\n",
       "    <tr>\n",
       "      <th>2</th>\n",
       "      <td>JD229722</td>\n",
       "      <td>2020-05-03 02:00:00</td>\n",
       "      <td>024XX S ARCHER AVE</td>\n",
       "      <td>DECEPTIVE PRACTICE</td>\n",
       "      <td>11.0</td>\n",
       "      <td>41.847566</td>\n",
       "      <td>-87.645749</td>\n",
       "      <td>2</td>\n",
       "      <td>Sunday</td>\n",
       "      <td>7</td>\n",
       "      <td>May</td>\n",
       "      <td>5</td>\n",
       "      <td>2020</td>\n",
       "      <td>2020-05</td>\n",
       "      <td>024XX</td>\n",
       "      <td>S, ARCHER, AVE</td>\n",
       "    </tr>\n",
       "    <tr>\n",
       "      <th>3</th>\n",
       "      <td>JD229894</td>\n",
       "      <td>2020-04-28 18:00:00</td>\n",
       "      <td>067XX S PAXTON AVE</td>\n",
       "      <td>MOTOR VEHICLE THEFT</td>\n",
       "      <td>5.0</td>\n",
       "      <td>41.773046</td>\n",
       "      <td>-87.571599</td>\n",
       "      <td>18</td>\n",
       "      <td>Tuesday</td>\n",
       "      <td>2</td>\n",
       "      <td>April</td>\n",
       "      <td>4</td>\n",
       "      <td>2020</td>\n",
       "      <td>2020-04</td>\n",
       "      <td>067XX</td>\n",
       "      <td>S, PAXTON, AVE</td>\n",
       "    </tr>\n",
       "    <tr>\n",
       "      <th>4</th>\n",
       "      <td>JD226735</td>\n",
       "      <td>2020-05-07 17:17:00</td>\n",
       "      <td>043XX W NORTH AVE</td>\n",
       "      <td>ASSAULT</td>\n",
       "      <td>26.0</td>\n",
       "      <td>41.909759</td>\n",
       "      <td>-87.736078</td>\n",
       "      <td>17</td>\n",
       "      <td>Thursday</td>\n",
       "      <td>4</td>\n",
       "      <td>May</td>\n",
       "      <td>5</td>\n",
       "      <td>2020</td>\n",
       "      <td>2020-05</td>\n",
       "      <td>043XX</td>\n",
       "      <td>W, NORTH, AVE</td>\n",
       "    </tr>\n",
       "  </tbody>\n",
       "</table>\n",
       "</div>"
      ],
      "text/plain": [
       "       case  date_of_occurrence  ...    zip                               street\n",
       "0  JD212847 2020-04-10 22:56:00  ...  005XX                         W, 103RD, ST\n",
       "1  JD226153 2020-05-07 00:50:00  ...  064XX  S, DR, MARTIN, LUTHER, KING, JR, DR\n",
       "2  JD229722 2020-05-03 02:00:00  ...  024XX                       S, ARCHER, AVE\n",
       "3  JD229894 2020-04-28 18:00:00  ...  067XX                       S, PAXTON, AVE\n",
       "4  JD226735 2020-05-07 17:17:00  ...  043XX                        W, NORTH, AVE\n",
       "\n",
       "[5 rows x 16 columns]"
      ]
     },
     "execution_count": 5,
     "metadata": {
      "tags": []
     },
     "output_type": "execute_result"
    }
   ],
   "source": [
    "df_crimes.head()"
   ]
  },
  {
   "cell_type": "code",
   "execution_count": 6,
   "metadata": {
    "colab": {},
    "colab_type": "code",
    "executionInfo": {
     "elapsed": 783,
     "status": "ok",
     "timestamp": 1594617255129,
     "user": {
      "displayName": "Vân Anh Phạm",
      "photoUrl": "",
      "userId": "14424096766313752825"
     },
     "user_tz": -420
    },
    "id": "DqjCIR9Q8hcg"
   },
   "outputs": [],
   "source": [
    "df_crimeward_crosstab = pd.crosstab(df_crimes.primary_description, df_crimes.ward)"
   ]
  },
  {
   "cell_type": "code",
   "execution_count": 7,
   "metadata": {
    "colab": {
     "base_uri": "https://localhost:8080/",
     "height": 189
    },
    "colab_type": "code",
    "executionInfo": {
     "elapsed": 758,
     "status": "ok",
     "timestamp": 1594617257148,
     "user": {
      "displayName": "Vân Anh Phạm",
      "photoUrl": "",
      "userId": "14424096766313752825"
     },
     "user_tz": -420
    },
    "id": "jM_BaeIp8hcj",
    "outputId": "b0c55694-18c5-468b-de60-feef62fbf9a0"
   },
   "outputs": [
    {
     "data": {
      "text/html": [
       "<div>\n",
       "<style scoped>\n",
       "    .dataframe tbody tr th:only-of-type {\n",
       "        vertical-align: middle;\n",
       "    }\n",
       "\n",
       "    .dataframe tbody tr th {\n",
       "        vertical-align: top;\n",
       "    }\n",
       "\n",
       "    .dataframe thead th {\n",
       "        text-align: right;\n",
       "    }\n",
       "</style>\n",
       "<table border=\"1\" class=\"dataframe\">\n",
       "  <thead>\n",
       "    <tr style=\"text-align: right;\">\n",
       "      <th></th>\n",
       "      <th>id</th>\n",
       "      <th>score</th>\n",
       "      <th>category</th>\n",
       "      <th>name</th>\n",
       "      <th>address</th>\n",
       "      <th>postalcode</th>\n",
       "      <th>city</th>\n",
       "      <th>href</th>\n",
       "      <th>latitude</th>\n",
       "      <th>longitude</th>\n",
       "    </tr>\n",
       "  </thead>\n",
       "  <tbody>\n",
       "    <tr>\n",
       "      <th>0</th>\n",
       "      <td>42b75880f964a52090251fe3</td>\n",
       "      <td>9.6</td>\n",
       "      <td>Park</td>\n",
       "      <td>Millennium Park</td>\n",
       "      <td>201 E Randolph St</td>\n",
       "      <td>60601</td>\n",
       "      <td>Chicago</td>\n",
       "      <td>/v/millennium-park/42b75880f964a52090251fe3</td>\n",
       "      <td>41.882598</td>\n",
       "      <td>-87.624126</td>\n",
       "    </tr>\n",
       "    <tr>\n",
       "      <th>1</th>\n",
       "      <td>4b9d15c5f964a520478e36e3</td>\n",
       "      <td>9.5</td>\n",
       "      <td>Waterfront</td>\n",
       "      <td>Chicago Riverwalk</td>\n",
       "      <td>Chicago River</td>\n",
       "      <td>60601</td>\n",
       "      <td>Chicago</td>\n",
       "      <td>/v/chicago-riverwalk/4b9d15c5f964a520478e36e3</td>\n",
       "      <td>41.887280</td>\n",
       "      <td>-87.627217</td>\n",
       "    </tr>\n",
       "    <tr>\n",
       "      <th>2</th>\n",
       "      <td>4b06c066f964a52097ef22e3</td>\n",
       "      <td>9.5</td>\n",
       "      <td>Liquor Store</td>\n",
       "      <td>Binny's Beverage Depot</td>\n",
       "      <td>1720 N. Marcey St.</td>\n",
       "      <td>60614</td>\n",
       "      <td>Chicago</td>\n",
       "      <td>/v/binnys-beverage-depot/4b06c066f964a52097ef22e3</td>\n",
       "      <td>41.913076</td>\n",
       "      <td>-87.655170</td>\n",
       "    </tr>\n",
       "    <tr>\n",
       "      <th>3</th>\n",
       "      <td>4f2a0d0ae4b0837d0c4c2bc3</td>\n",
       "      <td>9.5</td>\n",
       "      <td>Deli / Bodega</td>\n",
       "      <td>Publican Quality Meats</td>\n",
       "      <td>825 W Fulton Market</td>\n",
       "      <td>60607</td>\n",
       "      <td>Chicago</td>\n",
       "      <td>/v/publican-quality-meats/4f2a0d0ae4b0837d0c4c...</td>\n",
       "      <td>41.886642</td>\n",
       "      <td>-87.648718</td>\n",
       "    </tr>\n",
       "    <tr>\n",
       "      <th>4</th>\n",
       "      <td>4c23e840a852c928594ae26c</td>\n",
       "      <td>9.5</td>\n",
       "      <td>Trail</td>\n",
       "      <td>Nature Boardwalk</td>\n",
       "      <td>2001 N Clark St</td>\n",
       "      <td>60614</td>\n",
       "      <td>Chicago</td>\n",
       "      <td>/v/nature-boardwalk/4c23e840a852c928594ae26c</td>\n",
       "      <td>41.918102</td>\n",
       "      <td>-87.633283</td>\n",
       "    </tr>\n",
       "  </tbody>\n",
       "</table>\n",
       "</div>"
      ],
      "text/plain": [
       "                         id  score  ...   latitude  longitude\n",
       "0  42b75880f964a52090251fe3    9.6  ...  41.882598 -87.624126\n",
       "1  4b9d15c5f964a520478e36e3    9.5  ...  41.887280 -87.627217\n",
       "2  4b06c066f964a52097ef22e3    9.5  ...  41.913076 -87.655170\n",
       "3  4f2a0d0ae4b0837d0c4c2bc3    9.5  ...  41.886642 -87.648718\n",
       "4  4c23e840a852c928594ae26c    9.5  ...  41.918102 -87.633283\n",
       "\n",
       "[5 rows x 10 columns]"
      ]
     },
     "execution_count": 7,
     "metadata": {
      "tags": []
     },
     "output_type": "execute_result"
    }
   ],
   "source": [
    "df_topvnues.head()"
   ]
  },
  {
   "cell_type": "code",
   "execution_count": 8,
   "metadata": {
    "colab": {
     "base_uri": "https://localhost:8080/",
     "height": 433
    },
    "colab_type": "code",
    "executionInfo": {
     "elapsed": 1096,
     "status": "ok",
     "timestamp": 1594617259230,
     "user": {
      "displayName": "Vân Anh Phạm",
      "photoUrl": "",
      "userId": "14424096766313752825"
     },
     "user_tz": -420
    },
    "id": "S6l0DkFs8hcm",
    "outputId": "58346717-06da-4c8e-f22a-e93c09d5b41e"
   },
   "outputs": [
    {
     "data": {
      "text/plain": [
       "Text(0.0, 1.0, 'Scatter Plot of Top Venues Latitude and Score')"
      ]
     },
     "execution_count": 8,
     "metadata": {
      "tags": []
     },
     "output_type": "execute_result"
    },
    {
     "data": {
      "image/png": "[encoded data removed]",
      "text/plain": [
       "<Figure size 720x432 with 1 Axes>"
      ]
     },
     "metadata": {
      "tags": []
     },
     "output_type": "display_data"
    }
   ],
   "source": [
    "df_topvnues.plot.scatter('score', 'latitude', figsize=(10,6))\n",
    "\n",
    "plt.xlabel('Score')\n",
    "plt.ylabel('Latitude')\n",
    "plt.title('Scatter Plot of Top Venues Latitude and Score', loc='left', fontsize=18)"
   ]
  },
  {
   "cell_type": "code",
   "execution_count": 9,
   "metadata": {
    "colab": {
     "base_uri": "https://localhost:8080/",
     "height": 433
    },
    "colab_type": "code",
    "executionInfo": {
     "elapsed": 1058,
     "status": "ok",
     "timestamp": 1594617261984,
     "user": {
      "displayName": "Vân Anh Phạm",
      "photoUrl": "",
      "userId": "14424096766313752825"
     },
     "user_tz": -420
    },
    "id": "IYW_XKOi8hcp",
    "outputId": "5d80af92-74d3-45da-df46-fd36343f056d"
   },
   "outputs": [
    {
     "data": {
      "text/plain": [
       "Text(0.0, 1.0, 'Scatter Plot of Top Venues Longitude and Score')"
      ]
     },
     "execution_count": 9,
     "metadata": {
      "tags": []
     },
     "output_type": "execute_result"
    },
    {
     "data": {
      "image/png": "[encoded data removed]",
      "text/plain": [
       "<Figure size 720x432 with 1 Axes>"
      ]
     },
     "metadata": {
      "tags": []
     },
     "output_type": "display_data"
    }
   ],
   "source": [
    "df_topvnues.plot.scatter('score', 'longitude', figsize=(10,6))\n",
    "\n",
    "plt.xlabel('Score')\n",
    "plt.ylabel('Longitude')\n",
    "plt.title('Scatter Plot of Top Venues Longitude and Score', loc='left', fontsize=18)"
   ]
  },
  {
   "cell_type": "code",
   "execution_count": 10,
   "metadata": {
    "colab": {
     "base_uri": "https://localhost:8080/",
     "height": 189
    },
    "colab_type": "code",
    "executionInfo": {
     "elapsed": 647,
     "status": "ok",
     "timestamp": 1594617264746,
     "user": {
      "displayName": "Vân Anh Phạm",
      "photoUrl": "",
      "userId": "14424096766313752825"
     },
     "user_tz": -420
    },
    "id": "WEWFq-oo8hcw",
    "outputId": "95280f23-579f-4a4a-89b5-c432e1aa5c78"
   },
   "outputs": [
    {
     "data": {
      "text/html": [
       "<div>\n",
       "<style scoped>\n",
       "    .dataframe tbody tr th:only-of-type {\n",
       "        vertical-align: middle;\n",
       "    }\n",
       "\n",
       "    .dataframe tbody tr th {\n",
       "        vertical-align: top;\n",
       "    }\n",
       "\n",
       "    .dataframe thead th {\n",
       "        text-align: right;\n",
       "    }\n",
       "</style>\n",
       "<table border=\"1\" class=\"dataframe\">\n",
       "  <thead>\n",
       "    <tr style=\"text-align: right;\">\n",
       "      <th></th>\n",
       "      <th>id</th>\n",
       "      <th>score</th>\n",
       "      <th>category</th>\n",
       "      <th>categoryID</th>\n",
       "      <th>name</th>\n",
       "      <th>address</th>\n",
       "      <th>postalcode</th>\n",
       "      <th>city</th>\n",
       "      <th>latitude</th>\n",
       "      <th>longitude</th>\n",
       "      <th>venue_name</th>\n",
       "      <th>venue_latitude</th>\n",
       "      <th>venue_longitude</th>\n",
       "    </tr>\n",
       "  </thead>\n",
       "  <tbody>\n",
       "    <tr>\n",
       "      <th>0</th>\n",
       "      <td>551192b1498e8695352d33e6</td>\n",
       "      <td>8.2</td>\n",
       "      <td>American Restaurants</td>\n",
       "      <td>4bf58dd8d48988d14e941735</td>\n",
       "      <td>Remington's</td>\n",
       "      <td>20 N Michigan Ave</td>\n",
       "      <td>60602</td>\n",
       "      <td>Chicago</td>\n",
       "      <td>41.882628</td>\n",
       "      <td>-87.624608</td>\n",
       "      <td>Millennium Park</td>\n",
       "      <td>41.882598</td>\n",
       "      <td>-87.624126</td>\n",
       "    </tr>\n",
       "    <tr>\n",
       "      <th>1</th>\n",
       "      <td>4e73881c922e0a374024c7b8</td>\n",
       "      <td>7.5</td>\n",
       "      <td>Coffee Shops</td>\n",
       "      <td>4bf58dd8d48988d1e0931735</td>\n",
       "      <td>Starbucks</td>\n",
       "      <td>8 N Michigan Ave</td>\n",
       "      <td>60602</td>\n",
       "      <td>Chicago</td>\n",
       "      <td>41.882478</td>\n",
       "      <td>-87.624701</td>\n",
       "      <td>Millennium Park</td>\n",
       "      <td>41.882598</td>\n",
       "      <td>-87.624126</td>\n",
       "    </tr>\n",
       "    <tr>\n",
       "      <th>2</th>\n",
       "      <td>49e749fbf964a52086641fe3</td>\n",
       "      <td>8.9</td>\n",
       "      <td>Gastropubs</td>\n",
       "      <td>4bf58dd8d48988d155941735</td>\n",
       "      <td>The Gage</td>\n",
       "      <td>24 S Michigan Ave</td>\n",
       "      <td>60603</td>\n",
       "      <td>Chicago</td>\n",
       "      <td>41.881202</td>\n",
       "      <td>-87.624481</td>\n",
       "      <td>Millennium Park</td>\n",
       "      <td>41.882598</td>\n",
       "      <td>-87.624126</td>\n",
       "    </tr>\n",
       "    <tr>\n",
       "      <th>3</th>\n",
       "      <td>4ed3dd7e93ad987b5112d29f</td>\n",
       "      <td>8.1</td>\n",
       "      <td>Bakeries</td>\n",
       "      <td>4bf58dd8d48988d16a941735</td>\n",
       "      <td>Panera Bread</td>\n",
       "      <td>2 N Michigan Ave</td>\n",
       "      <td>60602</td>\n",
       "      <td>Chicago</td>\n",
       "      <td>41.882228</td>\n",
       "      <td>-87.624703</td>\n",
       "      <td>Millennium Park</td>\n",
       "      <td>41.882598</td>\n",
       "      <td>-87.624126</td>\n",
       "    </tr>\n",
       "    <tr>\n",
       "      <th>4</th>\n",
       "      <td>4a63b5c3f964a5209fc51fe3</td>\n",
       "      <td>7.8</td>\n",
       "      <td>Pizza Places</td>\n",
       "      <td>4bf58dd8d48988d1ca941735</td>\n",
       "      <td>Pizano's Pizza</td>\n",
       "      <td>61 E Madison St.</td>\n",
       "      <td>60603</td>\n",
       "      <td>Chicago</td>\n",
       "      <td>41.882031</td>\n",
       "      <td>-87.625642</td>\n",
       "      <td>Millennium Park</td>\n",
       "      <td>41.882598</td>\n",
       "      <td>-87.624126</td>\n",
       "    </tr>\n",
       "  </tbody>\n",
       "</table>\n",
       "</div>"
      ],
      "text/plain": [
       "                         id  score  ... venue_latitude venue_longitude\n",
       "0  551192b1498e8695352d33e6    8.2  ...      41.882598      -87.624126\n",
       "1  4e73881c922e0a374024c7b8    7.5  ...      41.882598      -87.624126\n",
       "2  49e749fbf964a52086641fe3    8.9  ...      41.882598      -87.624126\n",
       "3  4ed3dd7e93ad987b5112d29f    8.1  ...      41.882598      -87.624126\n",
       "4  4a63b5c3f964a5209fc51fe3    7.8  ...      41.882598      -87.624126\n",
       "\n",
       "[5 rows x 13 columns]"
      ]
     },
     "execution_count": 10,
     "metadata": {
      "tags": []
     },
     "output_type": "execute_result"
    }
   ],
   "source": [
    "df_rest.head()"
   ]
  },
  {
   "cell_type": "code",
   "execution_count": 11,
   "metadata": {
    "colab": {
     "base_uri": "https://localhost:8080/",
     "height": 433
    },
    "colab_type": "code",
    "executionInfo": {
     "elapsed": 1421,
     "status": "ok",
     "timestamp": 1594617267704,
     "user": {
      "displayName": "Vân Anh Phạm",
      "photoUrl": "",
      "userId": "14424096766313752825"
     },
     "user_tz": -420
    },
    "id": "X22anqwz8hcz",
    "outputId": "263d51ba-e157-4637-ebcd-1283df011d14"
   },
   "outputs": [
    {
     "data": {
      "text/plain": [
       "Text(0.0, 1.0, 'Scatter Plot of Restaurants Latitude and Score')"
      ]
     },
     "execution_count": 11,
     "metadata": {
      "tags": []
     },
     "output_type": "execute_result"
    },
    {
     "data": {
      "image/png": "[encoded data removed]",
      "text/plain": [
       "<Figure size 720x432 with 1 Axes>"
      ]
     },
     "metadata": {
      "tags": []
     },
     "output_type": "display_data"
    }
   ],
   "source": [
    "df_rest.plot.scatter('score', 'latitude', figsize=(10,6))\n",
    "\n",
    "plt.xlabel('Score')\n",
    "plt.ylabel('Latitude')\n",
    "plt.title('Scatter Plot of Restaurants Latitude and Score', loc='left', fontsize=18)"
   ]
  },
  {
   "cell_type": "code",
   "execution_count": 12,
   "metadata": {
    "colab": {
     "base_uri": "https://localhost:8080/",
     "height": 433
    },
    "colab_type": "code",
    "executionInfo": {
     "elapsed": 1287,
     "status": "ok",
     "timestamp": 1594617270845,
     "user": {
      "displayName": "Vân Anh Phạm",
      "photoUrl": "",
      "userId": "14424096766313752825"
     },
     "user_tz": -420
    },
    "id": "akorwCxT8hc1",
    "outputId": "7732f13b-b3dc-4ece-bd7b-73f2a60f1aa7"
   },
   "outputs": [
    {
     "data": {
      "text/plain": [
       "Text(0.0, 1.0, 'Scatter Plot of Restaurants Longitude and Score')"
      ]
     },
     "execution_count": 12,
     "metadata": {
      "tags": []
     },
     "output_type": "execute_result"
    },
    {
     "data": {
      "image/png": "[encoded data removed]",
      "text/plain": [
       "<Figure size 720x432 with 1 Axes>"
      ]
     },
     "metadata": {
      "tags": []
     },
     "output_type": "display_data"
    }
   ],
   "source": [
    "df_rest.plot.scatter('score', 'longitude', figsize=(10,6))\n",
    "\n",
    "plt.xlabel('Score')\n",
    "plt.ylabel('Longitude')\n",
    "plt.title('Scatter Plot of Restaurants Longitude and Score', loc='left', fontsize=18)"
   ]
  },
  {
   "cell_type": "code",
   "execution_count": null,
   "metadata": {
    "colab": {},
    "colab_type": "code",
    "id": "19hmkkfC8hc5"
   },
   "outputs": [],
   "source": []
  }
 ],
 "metadata": {
  "colab": {
   "name": "BOTN-03-Inferential Statistics.ipynb",
   "provenance": [],
   "toc_visible": true
  },
  "kernelspec": {
   "display_name": "Python 2",
   "language": "python",
   "name": "python2"
  },
  "language_info": {
   "codemirror_mode": {
    "name": "ipython",
    "version": 3
   },
   "file_extension": ".py",
   "mimetype": "text/x-python",
   "name": "python",
   "nbconvert_exporter": "python",
   "pygments_lexer": "ipython3",
   "version": "3.6.9"
  }
 },
 "nbformat": 4,
 "nbformat_minor": 1
}
