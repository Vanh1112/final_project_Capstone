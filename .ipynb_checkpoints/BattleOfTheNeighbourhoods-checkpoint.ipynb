{
 "cells": [
  {
   "cell_type": "code",
   "execution_count": 1,
   "metadata": {
    "colab": {
     "base_uri": "https://localhost:8080/",
     "height": 126
    },
    "colab_type": "code",
    "executionInfo": {
     "elapsed": 18329,
     "status": "ok",
     "timestamp": 1594623896585,
     "user": {
      "displayName": "Vân Anh Phạm",
      "photoUrl": "",
      "userId": "14424096766313752825"
     },
     "user_tz": -420
    },
    "id": "snC4UIKYnKOO",
    "outputId": "15375d31-866f-4412-b8dc-f3cee848060b"
   },
   "outputs": [
    {
     "name": "stdout",
     "output_type": "stream",
     "text": [
      "Go to this URL in a browser: https://accounts.google.com/o/oauth2/auth?client_id=947318989803-6bn6qk8qdgf4n4g3pfee6491hc0brc4i.apps.googleusercontent.com&redirect_uri=urn%3aietf%3awg%3aoauth%3a2.0%3aoob&response_type=code&scope=email%20https%3a%2f%2fwww.googleapis.com%2fauth%2fdocs.test%20https%3a%2f%2fwww.googleapis.com%2fauth%2fdrive%20https%3a%2f%2fwww.googleapis.com%2fauth%2fdrive.photos.readonly%20https%3a%2f%2fwww.googleapis.com%2fauth%2fpeopleapi.readonly\n",
      "\n",
      "Enter your authorization code:\n",
      "··········\n",
      "Mounted at /content/gdrive\n"
     ]
    }
   ],
   "source": [
    "from google.colab import drive\n",
    "drive.mount(\"/content/gdrive\")"
   ]
  },
  {
   "cell_type": "code",
   "execution_count": 2,
   "metadata": {
    "colab": {
     "base_uri": "https://localhost:8080/",
     "height": 34
    },
    "colab_type": "code",
    "executionInfo": {
     "elapsed": 16200,
     "status": "ok",
     "timestamp": 1594623913813,
     "user": {
      "displayName": "Vân Anh Phạm",
      "photoUrl": "",
      "userId": "14424096766313752825"
     },
     "user_tz": -420
    },
    "id": "7ugfeRycnWKG",
    "outputId": "16d3d1fa-db3b-41c4-fa34-a4c034f08996"
   },
   "outputs": [
    {
     "name": "stdout",
     "output_type": "stream",
     "text": [
      "Authenticated\n"
     ]
    }
   ],
   "source": [
    "from google.colab import auth\n",
    "auth.authenticate_user()\n",
    "print('Authenticated')"
   ]
  },
  {
   "cell_type": "markdown",
   "metadata": {
    "colab_type": "text",
    "id": "t8M5GVGHnKOS"
   },
   "source": [
    "---\n",
    "\n",
    "# Import Libraries\n",
    "\n",
    "In this section we import the libraries that will be required to process the data.\n",
    "\n",
    "The first library is **Pandas**.  \n",
    "Pandas is an open source, BSD-licensed library, providing high-performance, easy-to-use data structures and data analysis tools for the Python programming language."
   ]
  },
  {
   "cell_type": "code",
   "execution_count": 3,
   "metadata": {
    "colab": {},
    "colab_type": "code",
    "executionInfo": {
     "elapsed": 665,
     "status": "ok",
     "timestamp": 1594623918519,
     "user": {
      "displayName": "Vân Anh Phạm",
      "photoUrl": "",
      "userId": "14424096766313752825"
     },
     "user_tz": -420
    },
    "id": "iEvr6g2InKOT"
   },
   "outputs": [],
   "source": [
    "# Import Pandas and Numpy to provide DataFrame support\n",
    "import pandas as pd\n",
    "pd.set_option('display.max_columns', None)\n",
    "pd.set_option('display.max_rows', None)\n",
    "\n",
    "import numpy as np"
   ]
  },
  {
   "cell_type": "code",
   "execution_count": 4,
   "metadata": {
    "colab": {
     "base_uri": "https://localhost:8080/",
     "height": 52
    },
    "colab_type": "code",
    "executionInfo": {
     "elapsed": 961,
     "status": "ok",
     "timestamp": 1594623921176,
     "user": {
      "displayName": "Vân Anh Phạm",
      "photoUrl": "",
      "userId": "14424096766313752825"
     },
     "user_tz": -420
    },
    "id": "dipUalAnnKOW",
    "outputId": "f8b4dd72-2500-4b1d-8f8f-baf435e6c860"
   },
   "outputs": [
    {
     "name": "stderr",
     "output_type": "stream",
     "text": [
      "/usr/local/lib/python3.6/dist-packages/statsmodels/tools/_testing.py:19: FutureWarning: pandas.util.testing is deprecated. Use the functions in the public API at pandas.testing instead.\n",
      "  import pandas.util.testing as tm\n"
     ]
    }
   ],
   "source": [
    "# Use the inline backend to generate the plots within the browser\n",
    "%matplotlib inline \n",
    "\n",
    "import matplotlib as mpl\n",
    "import matplotlib.pyplot as plt\n",
    "\n",
    "import seaborn as sns\n",
    "sns.set_style(\"darkgrid\")\n",
    "\n",
    "font = {'size'   : 12}\n",
    "mpl.rc('font', **font)"
   ]
  },
  {
   "cell_type": "code",
   "execution_count": 5,
   "metadata": {
    "colab": {},
    "colab_type": "code",
    "executionInfo": {
     "elapsed": 931,
     "status": "ok",
     "timestamp": 1594623957936,
     "user": {
      "displayName": "Vân Anh Phạm",
      "photoUrl": "",
      "userId": "14424096766313752825"
     },
     "user_tz": -420
    },
    "id": "TY6ff81BnKOZ"
   },
   "outputs": [],
   "source": [
    "# Use Folium to display the Maps for Visualisation\n",
    "import folium\n",
    "from folium.plugins import MarkerCluster\n",
    "from folium.plugins import FastMarkerCluster\n",
    "from folium import plugins\n",
    "\n",
    "# Module to convert an address into latitude and longitude values\n",
    "from geopy.geocoders import Nominatim \n"
   ]
  },
  {
   "cell_type": "code",
   "execution_count": 6,
   "metadata": {
    "colab": {},
    "colab_type": "code",
    "executionInfo": {
     "elapsed": 969,
     "status": "ok",
     "timestamp": 1594623961984,
     "user": {
      "displayName": "Vân Anh Phạm",
      "photoUrl": "",
      "userId": "14424096766313752825"
     },
     "user_tz": -420
    },
    "id": "iOHyB2yBnKOc"
   },
   "outputs": [],
   "source": [
    "import yaml\n",
    "\n",
    "with open(\"/content/gdrive/My Drive/Coursera_Capstone-week5/capstone_data/config.yaml\", \"r\") as f:\n",
    "    cfg = yaml.load(f)\n",
    " \n",
    "search_params = {\n",
    "    'client_id': cfg['client_id'],\n",
    "    'client_secret': cfg['client_secret'],\n",
    "    'intent': 'browse',\n",
    "    'limit': 50,\n",
    "    'v': cfg['version']\n",
    "}"
   ]
  },
  {
   "cell_type": "code",
   "execution_count": 7,
   "metadata": {
    "colab": {},
    "colab_type": "code",
    "executionInfo": {
     "elapsed": 921,
     "status": "ok",
     "timestamp": 1594623965823,
     "user": {
      "displayName": "Vân Anh Phạm",
      "photoUrl": "",
      "userId": "14424096766313752825"
     },
     "user_tz": -420
    },
    "id": "2DaSyVeZnKOf"
   },
   "outputs": [],
   "source": [
    "# All the SciKit Learn Libraries Required\n",
    "from sklearn import preprocessing\n",
    "from sklearn.model_selection import train_test_split\n",
    "from sklearn.neighbors import KNeighborsClassifier\n",
    "from sklearn.naive_bayes import BernoulliNB\n",
    "from sklearn.ensemble import RandomForestClassifier\n",
    "from sklearn import metrics\n",
    "from sklearn.model_selection import KFold, cross_val_score\n",
    "\n",
    "def cross_validate(model, n_splits = 10):\n",
    "    \n",
    "    k_fold = KFold(n_splits = n_splits)\n",
    "    scores = [model.fit(X[train], y[train]).score(X[test], y[test]) for train, test in k_fold.split(X)]\n",
    "    \n",
    "    scores = np.percentile(scores, [40, 50, 60])\n",
    "    return scores\n",
    "\n",
    "\n"
   ]
  },
  {
   "cell_type": "markdown",
   "metadata": {
    "colab_type": "text",
    "id": "aDXxylA0nKOj"
   },
   "source": [
    "---\n",
    "\n",
    "# Import and process the Chicago Crime DataSet\n",
    "This dataset reflects reported incidents of crime (with the exception of murders where data exists for each victim) that occurred in the City of Chicago in the last year, minus the most recent seven days. Data is extracted from the Chicago Police Department's CLEAR (Citizen Law Enforcement Analysis and Reporting) system. In order to protect the privacy of crime victims, addresses are shown at the block level only and specific locations are not identified.\n",
    "\n",
    "| Column Name   | Type          | Description                                            | \n",
    "| :------------ | :------------ | :----------------------------------------------------- | \n",
    "| CASE#         | Plain Text    | The Chicago Police Department RD Number (Records Division Number), which is unique to the incident. | \n",
    "| DATE OF OCCURRENCE | Date & Time   | Date when the incident occurred. this is sometimes a best estimate. |\n",
    "| BLOCK\t        | Plain Text    | The partially redacted address where the incident occurred, placing it on the same block as the actual address. |\n",
    "| IUCR\t        | Plain Text    | The Illinois Unifrom Crime Reporting code. This is directly linked to the Primary Type and Description. See the list of IUCR codes at https://data.cityofchicago.org/d/c7ck-438e. |\n",
    "| PRIMARY DESCRIPTION   | Plain Text    | The primary description of the IUCR code. |\n",
    "| SECONDARY DESCRIPTION\t| Plain Text    | The secondary description of the IUCR code, a subcategory of the primary description. |\n",
    "| LOCATION DESCRIPTION | Plain Text | Description of the location where the incident occurred. |\n",
    "| ARREST        | Plain Text    | Indicates whether an arrest was made. |\n",
    "| DOMESTIC      | Plain Text    | Indicates whether the incident was domestic-related as defined by the Illinois Domestic Violence Act. |\n",
    "| BEAT          | Plain Text    | Indicates the beat where the incident occurred. A beat is the smallest police geographic area – each beat has a dedicated police beat car. Three to five beats make up a police sector, and three sectors make up a police district. The Chicago Police Department has 22 police districts. See the beats at https://data.cityofchicago.org/d/aerh-rz74. |\n",
    "| WARD\t        | Number        | The ward (City Council district) where the incident occurred. See the wards at https://data.cityofchicago.org/d/sp34-6z76. |\n",
    "| FBI CD        | Plain Text    | Indicates the crime classification as outlined in the FBI's National Incident-Based Reporting System (NIBRS). See the Chicago Police Department listing of these classifications at http://gis.chicagopolice.org/clearmap_crime_sums/crime_types.html. |\n",
    "| X COORDINATE\t| Plain Text    | The x coordinate of the location where the incident occurred in State Plane Illinois East NAD 1983 projection. This location is shifted from the actual location for partial redaction but falls on the same block. |\n",
    "| Y COORDINATE\t| Plain Text    | The y coordinate of the location where the incident occurred in State Plane Illinois East NAD 1983 projection. This location is shifted from the actual location for partial redaction but falls on the same block. |\n",
    "| LATITUDE\t    | Number        | The latitude of the location where the incident occurred. This location is shifted from the actual location for partial redaction but falls on the same block. |\n",
    "| LONGITUDE\t    | Number        | The longitude of the location where the incident occurred. This location is shifted from the actual location for partial redaction but falls on the same block. |\n",
    "| LOCATION\t    | Location      | The location where the incident occurred in a format that allows for creation of maps and other geographic operations on this data portal. This location is shifted from the actual location for partial redaction but falls on the same block. |\n",
    "\t\n",
    "\n",
    "\n"
   ]
  },
  {
   "cell_type": "markdown",
   "metadata": {
    "colab_type": "text",
    "collapsed": true,
    "id": "Gk8G02bOnKOj"
   },
   "source": [
    "### Import the 2018 DataSet\n",
    "\n",
    "The full dataset, 2001 to 2020 contains over 6.7M rows. This makes processing the dataset difficult and time consuming. Only the 2020 data, 230326 records, will be used. In addition, the following clean-up steps are required:\n",
    "1. Not all of the columns are required. The following columns are removed:\n",
    "    1. IUCR\n",
    "    1. ARREST\n",
    "    1. DOMESTIC\n",
    "    1. BEAT\n",
    "    1. WARD\n",
    "    1. FBI CD\n",
    "    1. X COORDINATE\n",
    "    1. Y COORDINATE\n",
    "    1. LOCATION"
   ]
  },
  {
   "cell_type": "code",
   "execution_count": 8,
   "metadata": {
    "colab": {
     "base_uri": "https://localhost:8080/",
     "height": 214
    },
    "colab_type": "code",
    "executionInfo": {
     "elapsed": 15267,
     "status": "ok",
     "timestamp": 1594624000713,
     "user": {
      "displayName": "Vân Anh Phạm",
      "photoUrl": "",
      "userId": "14424096766313752825"
     },
     "user_tz": -420
    },
    "id": "OwlpiNopnKOk",
    "outputId": "01a5205c-107c-479d-f12d-34527fa8441d"
   },
   "outputs": [
    {
     "name": "stdout",
     "output_type": "stream",
     "text": [
      "--2020-07-13 07:06:26--  https://data.cityofchicago.org/api/views/x2n5-8w5q/rows.csv?accessType=DOWNLOAD\n",
      "Resolving data.cityofchicago.org (data.cityofchicago.org)... 52.206.140.199, 52.206.68.26, 52.206.140.205\n",
      "Connecting to data.cityofchicago.org (data.cityofchicago.org)|52.206.140.199|:443... connected.\n",
      "HTTP request sent, awaiting response... 200 OK\n",
      "Length: unspecified [text/csv]\n",
      "Saving to: ‘crimes.csv’\n",
      "\n",
      "crimes.csv              [        <=>         ]  41.28M  3.29MB/s    in 12s     \n",
      "\n",
      "2020-07-13 07:06:39 (3.30 MB/s) - ‘crimes.csv’ saved [43289420]\n",
      "\n"
     ]
    }
   ],
   "source": [
    "# These are the columns that we want to keep.\n",
    "# Columns not listed here won't be imported, speeding things up.\n",
    "crime_keep_columns = ['CASE#',\n",
    "                      'DATE  OF OCCURRENCE',\n",
    "                      'BLOCK', \n",
    "                      ' PRIMARY DESCRIPTION',\n",
    "                      'WARD',\n",
    "                      'LATITUDE',\n",
    "                      'LONGITUDE']\n",
    "\n",
    "# Download csv\n",
    "!wget -O crimes.csv https://data.cityofchicago.org/api/views/x2n5-8w5q/rows.csv?accessType=DOWNLOAD"
   ]
  },
  {
   "cell_type": "code",
   "execution_count": 9,
   "metadata": {
    "colab": {},
    "colab_type": "code",
    "executionInfo": {
     "elapsed": 2544,
     "status": "ok",
     "timestamp": 1594624005297,
     "user": {
      "displayName": "Vân Anh Phạm",
      "photoUrl": "",
      "userId": "14424096766313752825"
     },
     "user_tz": -420
    },
    "id": "Q45UxGP8o5nF"
   },
   "outputs": [],
   "source": [
    "# Read from local\n",
    "df = pd.read_csv('/content/gdrive/My Drive/Coursera_Capstone-week5/capstone_data/crimes.csv',\n",
    "                 usecols=crime_keep_columns)"
   ]
  },
  {
   "cell_type": "markdown",
   "metadata": {
    "colab_type": "text",
    "id": "thbbaYCAnKOn"
   },
   "source": [
    "Looking at the Shape of df we can see that only 12 columns have been imported instead of all 22."
   ]
  },
  {
   "cell_type": "code",
   "execution_count": 10,
   "metadata": {
    "colab": {
     "base_uri": "https://localhost:8080/",
     "height": 34
    },
    "colab_type": "code",
    "executionInfo": {
     "elapsed": 609,
     "status": "ok",
     "timestamp": 1594624010771,
     "user": {
      "displayName": "Vân Anh Phạm",
      "photoUrl": "",
      "userId": "14424096766313752825"
     },
     "user_tz": -420
    },
    "id": "kj9DanxinKOo",
    "outputId": "08022192-de1c-4d39-f9aa-85b7f3fc5ced"
   },
   "outputs": [
    {
     "data": {
      "text/plain": [
       "(231679, 7)"
      ]
     },
     "execution_count": 10,
     "metadata": {
      "tags": []
     },
     "output_type": "execute_result"
    }
   ],
   "source": [
    "df.shape"
   ]
  },
  {
   "cell_type": "markdown",
   "metadata": {
    "colab_type": "text",
    "id": "gs1X9F0MnKOr"
   },
   "source": [
    "Let's have a quick look at the Head of the imported data"
   ]
  },
  {
   "cell_type": "code",
   "execution_count": 11,
   "metadata": {
    "colab": {
     "base_uri": "https://localhost:8080/",
     "height": 189
    },
    "colab_type": "code",
    "executionInfo": {
     "elapsed": 570,
     "status": "ok",
     "timestamp": 1594624015356,
     "user": {
      "displayName": "Vân Anh Phạm",
      "photoUrl": "",
      "userId": "14424096766313752825"
     },
     "user_tz": -420
    },
    "id": "5pxDu6mEnKOs",
    "outputId": "9774fe95-8771-42fb-b666-a049bf4d3903"
   },
   "outputs": [
    {
     "data": {
      "text/html": [
       "<div>\n",
       "<style scoped>\n",
       "    .dataframe tbody tr th:only-of-type {\n",
       "        vertical-align: middle;\n",
       "    }\n",
       "\n",
       "    .dataframe tbody tr th {\n",
       "        vertical-align: top;\n",
       "    }\n",
       "\n",
       "    .dataframe thead th {\n",
       "        text-align: right;\n",
       "    }\n",
       "</style>\n",
       "<table border=\"1\" class=\"dataframe\">\n",
       "  <thead>\n",
       "    <tr style=\"text-align: right;\">\n",
       "      <th></th>\n",
       "      <th>CASE#</th>\n",
       "      <th>DATE  OF OCCURRENCE</th>\n",
       "      <th>BLOCK</th>\n",
       "      <th>PRIMARY DESCRIPTION</th>\n",
       "      <th>WARD</th>\n",
       "      <th>LATITUDE</th>\n",
       "      <th>LONGITUDE</th>\n",
       "    </tr>\n",
       "  </thead>\n",
       "  <tbody>\n",
       "    <tr>\n",
       "      <th>0</th>\n",
       "      <td>JD163753</td>\n",
       "      <td>02/24/2020 08:15:00 PM</td>\n",
       "      <td>031XX W LEXINGTON ST</td>\n",
       "      <td>DECEPTIVE PRACTICE</td>\n",
       "      <td>24.0</td>\n",
       "      <td>NaN</td>\n",
       "      <td>NaN</td>\n",
       "    </tr>\n",
       "    <tr>\n",
       "      <th>1</th>\n",
       "      <td>JD212847</td>\n",
       "      <td>04/10/2020 10:56:00 PM</td>\n",
       "      <td>005XX W 103RD ST</td>\n",
       "      <td>ASSAULT</td>\n",
       "      <td>9.0</td>\n",
       "      <td>41.707001</td>\n",
       "      <td>-87.636288</td>\n",
       "    </tr>\n",
       "    <tr>\n",
       "      <th>2</th>\n",
       "      <td>JD283431</td>\n",
       "      <td>07/01/2020 12:00:00 AM</td>\n",
       "      <td>078XX S MARYLAND AVE</td>\n",
       "      <td>BATTERY</td>\n",
       "      <td>8.0</td>\n",
       "      <td>NaN</td>\n",
       "      <td>NaN</td>\n",
       "    </tr>\n",
       "    <tr>\n",
       "      <th>3</th>\n",
       "      <td>JC497784</td>\n",
       "      <td>11/03/2019 11:40:00 AM</td>\n",
       "      <td>032XX N CLARK ST</td>\n",
       "      <td>THEFT</td>\n",
       "      <td>44.0</td>\n",
       "      <td>NaN</td>\n",
       "      <td>NaN</td>\n",
       "    </tr>\n",
       "    <tr>\n",
       "      <th>4</th>\n",
       "      <td>JD292044</td>\n",
       "      <td>07/04/2020 08:23:00 PM</td>\n",
       "      <td>028XX W 66TH ST</td>\n",
       "      <td>OTHER OFFENSE</td>\n",
       "      <td>17.0</td>\n",
       "      <td>NaN</td>\n",
       "      <td>NaN</td>\n",
       "    </tr>\n",
       "  </tbody>\n",
       "</table>\n",
       "</div>"
      ],
      "text/plain": [
       "      CASE#     DATE  OF OCCURRENCE                 BLOCK  \\\n",
       "0  JD163753  02/24/2020 08:15:00 PM  031XX W LEXINGTON ST   \n",
       "1  JD212847  04/10/2020 10:56:00 PM      005XX W 103RD ST   \n",
       "2  JD283431  07/01/2020 12:00:00 AM  078XX S MARYLAND AVE   \n",
       "3  JC497784  11/03/2019 11:40:00 AM      032XX N CLARK ST   \n",
       "4  JD292044  07/04/2020 08:23:00 PM       028XX W 66TH ST   \n",
       "\n",
       "   PRIMARY DESCRIPTION  WARD   LATITUDE  LONGITUDE  \n",
       "0   DECEPTIVE PRACTICE  24.0        NaN        NaN  \n",
       "1              ASSAULT   9.0  41.707001 -87.636288  \n",
       "2              BATTERY   8.0        NaN        NaN  \n",
       "3                THEFT  44.0        NaN        NaN  \n",
       "4        OTHER OFFENSE  17.0        NaN        NaN  "
      ]
     },
     "execution_count": 11,
     "metadata": {
      "tags": []
     },
     "output_type": "execute_result"
    }
   ],
   "source": [
    "df.head()"
   ]
  },
  {
   "cell_type": "code",
   "execution_count": 12,
   "metadata": {
    "colab": {
     "base_uri": "https://localhost:8080/",
     "height": 189
    },
    "colab_type": "code",
    "executionInfo": {
     "elapsed": 597,
     "status": "ok",
     "timestamp": 1594624016978,
     "user": {
      "displayName": "Vân Anh Phạm",
      "photoUrl": "",
      "userId": "14424096766313752825"
     },
     "user_tz": -420
    },
    "id": "wYCiKJUNnKOv",
    "outputId": "c147f464-d627-4296-c85f-db2a26a7736e"
   },
   "outputs": [
    {
     "data": {
      "text/html": [
       "<div>\n",
       "<style scoped>\n",
       "    .dataframe tbody tr th:only-of-type {\n",
       "        vertical-align: middle;\n",
       "    }\n",
       "\n",
       "    .dataframe tbody tr th {\n",
       "        vertical-align: top;\n",
       "    }\n",
       "\n",
       "    .dataframe thead th {\n",
       "        text-align: right;\n",
       "    }\n",
       "</style>\n",
       "<table border=\"1\" class=\"dataframe\">\n",
       "  <thead>\n",
       "    <tr style=\"text-align: right;\">\n",
       "      <th></th>\n",
       "      <th>CASE#</th>\n",
       "      <th>DATE  OF OCCURRENCE</th>\n",
       "      <th>BLOCK</th>\n",
       "      <th>PRIMARY DESCRIPTION</th>\n",
       "      <th>WARD</th>\n",
       "      <th>LATITUDE</th>\n",
       "      <th>LONGITUDE</th>\n",
       "    </tr>\n",
       "  </thead>\n",
       "  <tbody>\n",
       "    <tr>\n",
       "      <th>231674</th>\n",
       "      <td>JC339338</td>\n",
       "      <td>07/08/2019 01:04:00 AM</td>\n",
       "      <td>003XX S LARAMIE AVE</td>\n",
       "      <td>OTHER OFFENSE</td>\n",
       "      <td>29.0</td>\n",
       "      <td>41.875527</td>\n",
       "      <td>-87.754885</td>\n",
       "    </tr>\n",
       "    <tr>\n",
       "      <th>231675</th>\n",
       "      <td>JC368418</td>\n",
       "      <td>07/28/2019 05:00:00 AM</td>\n",
       "      <td>017XX N HUMBOLDT BLVD</td>\n",
       "      <td>THEFT</td>\n",
       "      <td>1.0</td>\n",
       "      <td>41.912669</td>\n",
       "      <td>-87.701942</td>\n",
       "    </tr>\n",
       "    <tr>\n",
       "      <th>231676</th>\n",
       "      <td>JC356571</td>\n",
       "      <td>07/19/2019 09:00:00 PM</td>\n",
       "      <td>031XX W HARRISON ST</td>\n",
       "      <td>OTHER OFFENSE</td>\n",
       "      <td>24.0</td>\n",
       "      <td>41.873699</td>\n",
       "      <td>-87.704705</td>\n",
       "    </tr>\n",
       "    <tr>\n",
       "      <th>231677</th>\n",
       "      <td>JC405144</td>\n",
       "      <td>08/23/2019 11:00:00 PM</td>\n",
       "      <td>019XX W SCHILLER ST</td>\n",
       "      <td>THEFT</td>\n",
       "      <td>1.0</td>\n",
       "      <td>41.907177</td>\n",
       "      <td>-87.675381</td>\n",
       "    </tr>\n",
       "    <tr>\n",
       "      <th>231678</th>\n",
       "      <td>JC379670</td>\n",
       "      <td>08/05/2019 12:30:00 PM</td>\n",
       "      <td>074XX S HARVARD AVE</td>\n",
       "      <td>BATTERY</td>\n",
       "      <td>6.0</td>\n",
       "      <td>41.759037</td>\n",
       "      <td>-87.633299</td>\n",
       "    </tr>\n",
       "  </tbody>\n",
       "</table>\n",
       "</div>"
      ],
      "text/plain": [
       "           CASE#     DATE  OF OCCURRENCE                  BLOCK  \\\n",
       "231674  JC339338  07/08/2019 01:04:00 AM    003XX S LARAMIE AVE   \n",
       "231675  JC368418  07/28/2019 05:00:00 AM  017XX N HUMBOLDT BLVD   \n",
       "231676  JC356571  07/19/2019 09:00:00 PM    031XX W HARRISON ST   \n",
       "231677  JC405144  08/23/2019 11:00:00 PM    019XX W SCHILLER ST   \n",
       "231678  JC379670  08/05/2019 12:30:00 PM    074XX S HARVARD AVE   \n",
       "\n",
       "        PRIMARY DESCRIPTION  WARD   LATITUDE  LONGITUDE  \n",
       "231674        OTHER OFFENSE  29.0  41.875527 -87.754885  \n",
       "231675                THEFT   1.0  41.912669 -87.701942  \n",
       "231676        OTHER OFFENSE  24.0  41.873699 -87.704705  \n",
       "231677                THEFT   1.0  41.907177 -87.675381  \n",
       "231678              BATTERY   6.0  41.759037 -87.633299  "
      ]
     },
     "execution_count": 12,
     "metadata": {
      "tags": []
     },
     "output_type": "execute_result"
    }
   ],
   "source": [
    "df.tail()"
   ]
  },
  {
   "cell_type": "markdown",
   "metadata": {
    "colab_type": "text",
    "id": "6n_AVLvznKOy"
   },
   "source": [
    "---\n",
    "### Clean up the data and prepare\n",
    "\n",
    "The sample data file was downloaded in the middle of July. So half of September of 2019 was missing and half of September 2020 was not yet populated. To simply resolve this the raw data was altered to move the September 2019 dates to September 2020. \n",
    "\n",
    "Now that the data has been imported it needs to be cleaned.\n",
    "1. Move July 2019 dates to September 2020\n",
    "1. Clean up the column names:\n",
    "    1. Strip leading & trailing whitespace\n",
    "    1. Replace multiple spaces with a single space\n",
    "    1. Remove # characters\n",
    "    1. Replace spaces with _\n",
    "    2. Convert to lowercase\n",
    "1. Change the date of occurance field to a date / time object\n",
    "1. Add new columns for:\n",
    "    1. Hour\n",
    "    1. Day\n",
    "    1. Month\n",
    "    1. Year\n",
    "    1. etc.\n",
    "1. Split Block into zip_code and street\n",
    "1. Verify that all rows have valid data"
   ]
  },
  {
   "cell_type": "code",
   "execution_count": 13,
   "metadata": {
    "colab": {},
    "colab_type": "code",
    "executionInfo": {
     "elapsed": 1046,
     "status": "ok",
     "timestamp": 1594624023476,
     "user": {
      "displayName": "Vân Anh Phạm",
      "photoUrl": "",
      "userId": "14424096766313752825"
     },
     "user_tz": -420
    },
    "id": "fXK-avDRnKOz"
   },
   "outputs": [],
   "source": [
    "# Strip leading & trailing whitespace\n",
    "df.columns = df.columns.str.strip()\n",
    "\n",
    "# Replace multiple spaces with a single space\n",
    "df.columns = df.columns.str.replace('\\s{2,}', ' ')\n",
    "\n",
    "# Replace # with blank\n",
    "df.columns = df.columns.str.replace('#', '')\n",
    "\n",
    "# Replace spaces with _\n",
    "df.columns = df.columns.str.replace(' ', '_')\n",
    "\n",
    "# Convert to lowercase\n",
    "df.columns = df.columns.str.lower()\n",
    "\n",
    "# Move September 2017 dates to September 2018\n",
    "df.date_of_occurrence.replace(to_replace=\"(07/\\\\d+)/2019\", value=r\"\\1/2020\", regex=True, inplace=True)"
   ]
  },
  {
   "cell_type": "code",
   "execution_count": 14,
   "metadata": {
    "colab": {
     "base_uri": "https://localhost:8080/",
     "height": 160
    },
    "colab_type": "code",
    "executionInfo": {
     "elapsed": 708,
     "status": "ok",
     "timestamp": 1594624029112,
     "user": {
      "displayName": "Vân Anh Phạm",
      "photoUrl": "",
      "userId": "14424096766313752825"
     },
     "user_tz": -420
    },
    "id": "OC2xysphnKO2",
    "outputId": "9bd395e7-109f-4152-cd40-5dd046e9c65b"
   },
   "outputs": [
    {
     "data": {
      "text/plain": [
       "case                    object\n",
       "date_of_occurrence      object\n",
       "block                   object\n",
       "primary_description     object\n",
       "ward                   float64\n",
       "latitude               float64\n",
       "longitude              float64\n",
       "dtype: object"
      ]
     },
     "execution_count": 14,
     "metadata": {
      "tags": []
     },
     "output_type": "execute_result"
    }
   ],
   "source": [
    "df.dtypes"
   ]
  },
  {
   "cell_type": "markdown",
   "metadata": {
    "colab_type": "text",
    "id": "YmFMSCK2nKO5"
   },
   "source": [
    "Change the date of occurance field to a date / time object"
   ]
  },
  {
   "cell_type": "code",
   "execution_count": 15,
   "metadata": {
    "colab": {},
    "colab_type": "code",
    "executionInfo": {
     "elapsed": 1426,
     "status": "ok",
     "timestamp": 1594624033488,
     "user": {
      "displayName": "Vân Anh Phạm",
      "photoUrl": "",
      "userId": "14424096766313752825"
     },
     "user_tz": -420
    },
    "id": "OmcLqmLrnKO5"
   },
   "outputs": [],
   "source": [
    "df['date_of_occurrence'] =  pd.to_datetime(df['date_of_occurrence'], format='%m/%d/%Y %I:%M:%S %p')"
   ]
  },
  {
   "cell_type": "markdown",
   "metadata": {
    "colab_type": "text",
    "id": "3GQMJuiunKO8"
   },
   "source": [
    "Add new columns for the hour, day, month and year of the crime:\n",
    "1. Hour\n",
    "1. Day Name\n",
    "1. Day of week (Tuesday is the first day)\n",
    "1. Month Name\n",
    "1. Month Number\n",
    "1. Year\n",
    "1. Year and Month"
   ]
  },
  {
   "cell_type": "code",
   "execution_count": 16,
   "metadata": {
    "colab": {},
    "colab_type": "code",
    "executionInfo": {
     "elapsed": 1014,
     "status": "ok",
     "timestamp": 1594624036857,
     "user": {
      "displayName": "Vân Anh Phạm",
      "photoUrl": "",
      "userId": "14424096766313752825"
     },
     "user_tz": -420
    },
    "id": "VQ3ysP8AnKO9"
   },
   "outputs": [],
   "source": [
    "df['hour'] = df['date_of_occurrence'].dt.hour\n",
    "df['day_name'] = df['date_of_occurrence'].dt.day_name()\n",
    "df['day'] = df['date_of_occurrence'].dt.dayofweek + 1\n",
    "df['month_name'] = df['date_of_occurrence'].dt.month_name()\n",
    "df['month'] = df['date_of_occurrence'].dt.month\n",
    "df['year'] = df['date_of_occurrence'].dt.year\n",
    "df['year_month'] = df['date_of_occurrence'].dt.to_period('M')"
   ]
  },
  {
   "cell_type": "markdown",
   "metadata": {
    "colab_type": "text",
    "id": "BTG3fxXOnKO_"
   },
   "source": [
    "Split Block into zip_code and street"
   ]
  },
  {
   "cell_type": "code",
   "execution_count": 17,
   "metadata": {
    "colab": {},
    "colab_type": "code",
    "executionInfo": {
     "elapsed": 2019,
     "status": "ok",
     "timestamp": 1594624039756,
     "user": {
      "displayName": "Vân Anh Phạm",
      "photoUrl": "",
      "userId": "14424096766313752825"
     },
     "user_tz": -420
    },
    "id": "pz5OsyI8nKPA"
   },
   "outputs": [],
   "source": [
    "df['zip'] = df.block.str.split(' ').str[0]\n",
    "df['street'] = df.block.str.split(' ').str[1:].apply(', '.join)"
   ]
  },
  {
   "cell_type": "markdown",
   "metadata": {
    "colab_type": "text",
    "id": "yMA4UpwPnKPC"
   },
   "source": [
    "Verify that all rows have valid data"
   ]
  },
  {
   "cell_type": "code",
   "execution_count": 18,
   "metadata": {
    "colab": {
     "base_uri": "https://localhost:8080/",
     "height": 322
    },
    "colab_type": "code",
    "executionInfo": {
     "elapsed": 548,
     "status": "ok",
     "timestamp": 1594624041693,
     "user": {
      "displayName": "Vân Anh Phạm",
      "photoUrl": "",
      "userId": "14424096766313752825"
     },
     "user_tz": -420
    },
    "id": "EauY1xh1nKPD",
    "outputId": "6439dfdb-962d-4d37-c473-ed3dada71588"
   },
   "outputs": [
    {
     "data": {
      "text/plain": [
       "case                      0\n",
       "date_of_occurrence        0\n",
       "block                     0\n",
       "primary_description       0\n",
       "ward                     11\n",
       "latitude               1342\n",
       "longitude              1342\n",
       "hour                      0\n",
       "day_name                  0\n",
       "day                       0\n",
       "month_name                0\n",
       "month                     0\n",
       "year                      0\n",
       "year_month                0\n",
       "zip                       0\n",
       "street                    0\n",
       "dtype: int64"
      ]
     },
     "execution_count": 18,
     "metadata": {
      "tags": []
     },
     "output_type": "execute_result"
    }
   ],
   "source": [
    "df.isna().sum()"
   ]
  },
  {
   "cell_type": "code",
   "execution_count": 19,
   "metadata": {
    "colab": {
     "base_uri": "https://localhost:8080/",
     "height": 189
    },
    "colab_type": "code",
    "executionInfo": {
     "elapsed": 577,
     "status": "ok",
     "timestamp": 1594624044939,
     "user": {
      "displayName": "Vân Anh Phạm",
      "photoUrl": "",
      "userId": "14424096766313752825"
     },
     "user_tz": -420
    },
    "id": "Aku2oXmPnKPG",
    "outputId": "efbe16fd-9f1e-4758-c462-3d114a9c8083"
   },
   "outputs": [
    {
     "data": {
      "text/html": [
       "<div>\n",
       "<style scoped>\n",
       "    .dataframe tbody tr th:only-of-type {\n",
       "        vertical-align: middle;\n",
       "    }\n",
       "\n",
       "    .dataframe tbody tr th {\n",
       "        vertical-align: top;\n",
       "    }\n",
       "\n",
       "    .dataframe thead th {\n",
       "        text-align: right;\n",
       "    }\n",
       "</style>\n",
       "<table border=\"1\" class=\"dataframe\">\n",
       "  <thead>\n",
       "    <tr style=\"text-align: right;\">\n",
       "      <th></th>\n",
       "      <th>case</th>\n",
       "      <th>date_of_occurrence</th>\n",
       "      <th>block</th>\n",
       "      <th>primary_description</th>\n",
       "      <th>ward</th>\n",
       "      <th>latitude</th>\n",
       "      <th>longitude</th>\n",
       "      <th>hour</th>\n",
       "      <th>day_name</th>\n",
       "      <th>day</th>\n",
       "      <th>month_name</th>\n",
       "      <th>month</th>\n",
       "      <th>year</th>\n",
       "      <th>year_month</th>\n",
       "      <th>zip</th>\n",
       "      <th>street</th>\n",
       "    </tr>\n",
       "  </thead>\n",
       "  <tbody>\n",
       "    <tr>\n",
       "      <th>1</th>\n",
       "      <td>JD212847</td>\n",
       "      <td>2020-04-10 22:56:00</td>\n",
       "      <td>005XX W 103RD ST</td>\n",
       "      <td>ASSAULT</td>\n",
       "      <td>9.0</td>\n",
       "      <td>41.707001</td>\n",
       "      <td>-87.636288</td>\n",
       "      <td>22</td>\n",
       "      <td>Friday</td>\n",
       "      <td>5</td>\n",
       "      <td>April</td>\n",
       "      <td>4</td>\n",
       "      <td>2020</td>\n",
       "      <td>2020-04</td>\n",
       "      <td>005XX</td>\n",
       "      <td>W, 103RD, ST</td>\n",
       "    </tr>\n",
       "    <tr>\n",
       "      <th>11</th>\n",
       "      <td>JD226153</td>\n",
       "      <td>2020-05-07 00:50:00</td>\n",
       "      <td>064XX S DR MARTIN LUTHER KING JR DR</td>\n",
       "      <td>ASSAULT</td>\n",
       "      <td>20.0</td>\n",
       "      <td>41.777468</td>\n",
       "      <td>-87.615556</td>\n",
       "      <td>0</td>\n",
       "      <td>Thursday</td>\n",
       "      <td>4</td>\n",
       "      <td>May</td>\n",
       "      <td>5</td>\n",
       "      <td>2020</td>\n",
       "      <td>2020-05</td>\n",
       "      <td>064XX</td>\n",
       "      <td>S, DR, MARTIN, LUTHER, KING, JR, DR</td>\n",
       "    </tr>\n",
       "    <tr>\n",
       "      <th>12</th>\n",
       "      <td>JD229722</td>\n",
       "      <td>2020-05-03 02:00:00</td>\n",
       "      <td>024XX S ARCHER AVE</td>\n",
       "      <td>DECEPTIVE PRACTICE</td>\n",
       "      <td>11.0</td>\n",
       "      <td>41.847566</td>\n",
       "      <td>-87.645749</td>\n",
       "      <td>2</td>\n",
       "      <td>Sunday</td>\n",
       "      <td>7</td>\n",
       "      <td>May</td>\n",
       "      <td>5</td>\n",
       "      <td>2020</td>\n",
       "      <td>2020-05</td>\n",
       "      <td>024XX</td>\n",
       "      <td>S, ARCHER, AVE</td>\n",
       "    </tr>\n",
       "    <tr>\n",
       "      <th>14</th>\n",
       "      <td>JD229894</td>\n",
       "      <td>2020-04-28 18:00:00</td>\n",
       "      <td>067XX S PAXTON AVE</td>\n",
       "      <td>MOTOR VEHICLE THEFT</td>\n",
       "      <td>5.0</td>\n",
       "      <td>41.773046</td>\n",
       "      <td>-87.571599</td>\n",
       "      <td>18</td>\n",
       "      <td>Tuesday</td>\n",
       "      <td>2</td>\n",
       "      <td>April</td>\n",
       "      <td>4</td>\n",
       "      <td>2020</td>\n",
       "      <td>2020-04</td>\n",
       "      <td>067XX</td>\n",
       "      <td>S, PAXTON, AVE</td>\n",
       "    </tr>\n",
       "    <tr>\n",
       "      <th>15</th>\n",
       "      <td>JD226735</td>\n",
       "      <td>2020-05-07 17:17:00</td>\n",
       "      <td>043XX W NORTH AVE</td>\n",
       "      <td>ASSAULT</td>\n",
       "      <td>26.0</td>\n",
       "      <td>41.909759</td>\n",
       "      <td>-87.736078</td>\n",
       "      <td>17</td>\n",
       "      <td>Thursday</td>\n",
       "      <td>4</td>\n",
       "      <td>May</td>\n",
       "      <td>5</td>\n",
       "      <td>2020</td>\n",
       "      <td>2020-05</td>\n",
       "      <td>043XX</td>\n",
       "      <td>W, NORTH, AVE</td>\n",
       "    </tr>\n",
       "  </tbody>\n",
       "</table>\n",
       "</div>"
      ],
      "text/plain": [
       "        case  date_of_occurrence                                block  \\\n",
       "1   JD212847 2020-04-10 22:56:00                     005XX W 103RD ST   \n",
       "11  JD226153 2020-05-07 00:50:00  064XX S DR MARTIN LUTHER KING JR DR   \n",
       "12  JD229722 2020-05-03 02:00:00                   024XX S ARCHER AVE   \n",
       "14  JD229894 2020-04-28 18:00:00                   067XX S PAXTON AVE   \n",
       "15  JD226735 2020-05-07 17:17:00                    043XX W NORTH AVE   \n",
       "\n",
       "    primary_description  ward   latitude  longitude  hour  day_name  day  \\\n",
       "1               ASSAULT   9.0  41.707001 -87.636288    22    Friday    5   \n",
       "11              ASSAULT  20.0  41.777468 -87.615556     0  Thursday    4   \n",
       "12   DECEPTIVE PRACTICE  11.0  41.847566 -87.645749     2    Sunday    7   \n",
       "14  MOTOR VEHICLE THEFT   5.0  41.773046 -87.571599    18   Tuesday    2   \n",
       "15              ASSAULT  26.0  41.909759 -87.736078    17  Thursday    4   \n",
       "\n",
       "   month_name  month  year year_month    zip  \\\n",
       "1       April      4  2020    2020-04  005XX   \n",
       "11        May      5  2020    2020-05  064XX   \n",
       "12        May      5  2020    2020-05  024XX   \n",
       "14      April      4  2020    2020-04  067XX   \n",
       "15        May      5  2020    2020-05  043XX   \n",
       "\n",
       "                                 street  \n",
       "1                          W, 103RD, ST  \n",
       "11  S, DR, MARTIN, LUTHER, KING, JR, DR  \n",
       "12                       S, ARCHER, AVE  \n",
       "14                       S, PAXTON, AVE  \n",
       "15                        W, NORTH, AVE  "
      ]
     },
     "execution_count": 19,
     "metadata": {
      "tags": []
     },
     "output_type": "execute_result"
    }
   ],
   "source": [
    "df.dropna(inplace=True)\n",
    "df.reindex()\n",
    "df.head()"
   ]
  },
  {
   "cell_type": "code",
   "execution_count": 20,
   "metadata": {
    "colab": {
     "base_uri": "https://localhost:8080/",
     "height": 34
    },
    "colab_type": "code",
    "executionInfo": {
     "elapsed": 489,
     "status": "ok",
     "timestamp": 1594624068312,
     "user": {
      "displayName": "Vân Anh Phạm",
      "photoUrl": "",
      "userId": "14424096766313752825"
     },
     "user_tz": -420
    },
    "id": "BOQwrY55ADCE",
    "outputId": "de32cf86-0fd4-4764-dc67-5e8b7c041a3f"
   },
   "outputs": [
    {
     "data": {
      "text/plain": [
       "(230326, 16)"
      ]
     },
     "execution_count": 20,
     "metadata": {
      "tags": []
     },
     "output_type": "execute_result"
    }
   ],
   "source": [
    "df.shape"
   ]
  },
  {
   "cell_type": "markdown",
   "metadata": {
    "colab_type": "text",
    "id": "ThpwzvJsnKPI"
   },
   "source": [
    "The data is now ready for visualisation."
   ]
  },
  {
   "cell_type": "markdown",
   "metadata": {
    "colab_type": "text",
    "id": "5g8xjOnvnKPJ"
   },
   "source": [
    "---\n",
    "# Data Visualisation\n",
    "\n",
    "To get a better understanding of the data we will now visualise it."
   ]
  },
  {
   "cell_type": "markdown",
   "metadata": {
    "colab_type": "text",
    "id": "4GakhYJgnKPJ"
   },
   "source": [
    "### Number of Crimes per month"
   ]
  },
  {
   "cell_type": "code",
   "execution_count": 21,
   "metadata": {
    "colab": {
     "base_uri": "https://localhost:8080/",
     "height": 469
    },
    "colab_type": "code",
    "executionInfo": {
     "elapsed": 1074,
     "status": "ok",
     "timestamp": 1594624106819,
     "user": {
      "displayName": "Vân Anh Phạm",
      "photoUrl": "",
      "userId": "14424096766313752825"
     },
     "user_tz": -420
    },
    "id": "a99XUQa6nKPK",
    "outputId": "adab87cf-f02f-445c-eb64-c53a96cf5a16"
   },
   "outputs": [
    {
     "data": {
      "text/plain": [
       "Text(0.0, 1.0, 'Count of Cases Per Month')"
      ]
     },
     "execution_count": 21,
     "metadata": {
      "tags": []
     },
     "output_type": "execute_result"
    },
    {
     "data": {
      "image/png": "[encoded data removed]",
      "text/plain": [
       "<Figure size 720x432 with 1 Axes>"
      ]
     },
     "metadata": {
      "tags": []
     },
     "output_type": "display_data"
    }
   ],
   "source": [
    "df.groupby('year_month').count().plot(y = 'case', \n",
    "                                      kind='bar',\n",
    "                                      figsize=(10,6),\n",
    "                                      width=0.85,\n",
    "                                      fontsize=12,\n",
    "                                      colormap='tab20').legend(bbox_to_anchor=(1,1),\n",
    "                                                               prop={'size': 12})\n",
    "\n",
    "plt.xlabel('Month')\n",
    "plt.ylabel('Count of Cases')\n",
    "plt.title('Count of Cases Per Month', loc='left', fontsize=18)"
   ]
  },
  {
   "cell_type": "markdown",
   "metadata": {
    "colab_type": "text",
    "id": "q07vx0e-nKPM"
   },
   "source": [
    "Unsuprisingly there little obvious variation in the number of crimes committed per month other than an apparent drop-off in February. "
   ]
  },
  {
   "cell_type": "markdown",
   "metadata": {
    "colab_type": "text",
    "id": "k8i0Lk4QnKPM"
   },
   "source": [
    "### Number of crimes occuring on each day"
   ]
  },
  {
   "cell_type": "code",
   "execution_count": 22,
   "metadata": {
    "colab": {
     "base_uri": "https://localhost:8080/",
     "height": 427
    },
    "colab_type": "code",
    "executionInfo": {
     "elapsed": 1420,
     "status": "ok",
     "timestamp": 1594624114704,
     "user": {
      "displayName": "Vân Anh Phạm",
      "photoUrl": "",
      "userId": "14424096766313752825"
     },
     "user_tz": -420
    },
    "id": "Z_LqHCcUnKPN",
    "outputId": "bc5ed3ef-bf01-471a-d98b-bd051e1732e3"
   },
   "outputs": [
    {
     "data": {
      "text/plain": [
       "Text(0.0, 1.0, 'Count of Cases Per Day of Week [1 is a Tuesday]')"
      ]
     },
     "execution_count": 22,
     "metadata": {
      "tags": []
     },
     "output_type": "execute_result"
    },
    {
     "data": {
      "image/png": "[encoded data removed]",
      "text/plain": [
       "<Figure size 720x432 with 1 Axes>"
      ]
     },
     "metadata": {
      "tags": []
     },
     "output_type": "display_data"
    }
   ],
   "source": [
    "df.groupby('day').count().plot(y = 'case',\n",
    "                               kind='bar',\n",
    "                               figsize=(10,6),\n",
    "                               width=0.85,\n",
    "                               fontsize=12,\n",
    "                               colormap='tab20').legend(bbox_to_anchor=(1,1),\n",
    "                                                        prop={'size': 12})\n",
    "\n",
    "plt.xlabel('Day of Week')\n",
    "plt.ylabel('Count of Cases per Day')\n",
    "plt.title('Count of Cases Per Day of Week [1 is a Tuesday]', loc='left', fontsize=18)"
   ]
  },
  {
   "cell_type": "markdown",
   "metadata": {
    "colab_type": "text",
    "id": "-IPoDYy5nKPP"
   },
   "source": [
    "There is a small increase in crime reported at the weekend, Saturday and Sunday, but nothing that couldbe considered significant."
   ]
  },
  {
   "cell_type": "markdown",
   "metadata": {
    "colab_type": "text",
    "id": "-730urHVnKPQ"
   },
   "source": [
    "### Number of crimes occuring in each hour"
   ]
  },
  {
   "cell_type": "code",
   "execution_count": 23,
   "metadata": {
    "colab": {
     "base_uri": "https://localhost:8080/",
     "height": 433
    },
    "colab_type": "code",
    "executionInfo": {
     "elapsed": 1857,
     "status": "ok",
     "timestamp": 1594624121216,
     "user": {
      "displayName": "Vân Anh Phạm",
      "photoUrl": "",
      "userId": "14424096766313752825"
     },
     "user_tz": -420
    },
    "id": "MJwluxyUnKPQ",
    "outputId": "6066f9f9-94d8-42c4-ffe0-1a16f11953f4"
   },
   "outputs": [
    {
     "data": {
      "text/plain": [
       "Text(0.0, 1.0, 'Count of Cases Per Hour]')"
      ]
     },
     "execution_count": 23,
     "metadata": {
      "tags": []
     },
     "output_type": "execute_result"
    },
    {
     "data": {
      "image/png": "[encoded data removed]",
      "text/plain": [
       "<Figure size 720x432 with 1 Axes>"
      ]
     },
     "metadata": {
      "tags": []
     },
     "output_type": "display_data"
    }
   ],
   "source": [
    "df.groupby('hour').count().plot(y = 'case',\n",
    "                               kind='bar',\n",
    "                               figsize=(10,6),\n",
    "                               width=0.85,\n",
    "                               fontsize=12,\n",
    "                               colormap='tab20').legend(bbox_to_anchor=(1,1),\n",
    "                                                        prop={'size': 12})\n",
    "\n",
    "plt.xlabel('Hour of Day')\n",
    "plt.ylabel('Count of Cases per Hour')\n",
    "plt.title('Count of Cases Per Hour]', loc='left', fontsize=18)"
   ]
  },
  {
   "cell_type": "markdown",
   "metadata": {
    "colab_type": "text",
    "id": "LVlHN9ronKPT"
   },
   "source": [
    "There is an expected fall-off in reported crime rates after midnight before elevating again after eight in the morning."
   ]
  },
  {
   "cell_type": "markdown",
   "metadata": {
    "colab_type": "text",
    "id": "A-XhJKIsnKPT"
   },
   "source": [
    "Now let's look at the Crime Categories."
   ]
  },
  {
   "cell_type": "code",
   "execution_count": 24,
   "metadata": {
    "colab": {
     "base_uri": "https://localhost:8080/",
     "height": 34
    },
    "colab_type": "code",
    "executionInfo": {
     "elapsed": 636,
     "status": "ok",
     "timestamp": 1594624122894,
     "user": {
      "displayName": "Vân Anh Phạm",
      "photoUrl": "",
      "userId": "14424096766313752825"
     },
     "user_tz": -420
    },
    "id": "2lNf3pRmnKPU",
    "outputId": "c2b05cb8-3879-4c82-e234-04f3cfe3c746"
   },
   "outputs": [
    {
     "data": {
      "text/plain": [
       "32"
      ]
     },
     "execution_count": 24,
     "metadata": {
      "tags": []
     },
     "output_type": "execute_result"
    }
   ],
   "source": [
    "# Number of unique Crime categories bases on the Primary Description\n",
    "df.primary_description.nunique()"
   ]
  },
  {
   "cell_type": "code",
   "execution_count": 25,
   "metadata": {
    "colab": {
     "base_uri": "https://localhost:8080/",
     "height": 132
    },
    "colab_type": "code",
    "executionInfo": {
     "elapsed": 646,
     "status": "ok",
     "timestamp": 1594624124444,
     "user": {
      "displayName": "Vân Anh Phạm",
      "photoUrl": "",
      "userId": "14424096766313752825"
     },
     "user_tz": -420
    },
    "id": "L0cc1jOGnKPX",
    "outputId": "2e0160c6-a726-4056-f096-3c0554084409"
   },
   "outputs": [
    {
     "data": {
      "text/html": [
       "<div>\n",
       "<style scoped>\n",
       "    .dataframe tbody tr th:only-of-type {\n",
       "        vertical-align: middle;\n",
       "    }\n",
       "\n",
       "    .dataframe tbody tr th {\n",
       "        vertical-align: top;\n",
       "    }\n",
       "\n",
       "    .dataframe thead th {\n",
       "        text-align: right;\n",
       "    }\n",
       "</style>\n",
       "<table border=\"1\" class=\"dataframe\">\n",
       "  <thead>\n",
       "    <tr style=\"text-align: right;\">\n",
       "      <th></th>\n",
       "      <th>primary_description</th>\n",
       "      <th>case</th>\n",
       "    </tr>\n",
       "  </thead>\n",
       "  <tbody>\n",
       "    <tr>\n",
       "      <th>30</th>\n",
       "      <td>THEFT</td>\n",
       "      <td>52465</td>\n",
       "    </tr>\n",
       "    <tr>\n",
       "      <th>2</th>\n",
       "      <td>BATTERY</td>\n",
       "      <td>45332</td>\n",
       "    </tr>\n",
       "    <tr>\n",
       "      <th>6</th>\n",
       "      <td>CRIMINAL DAMAGE</td>\n",
       "      <td>25651</td>\n",
       "    </tr>\n",
       "  </tbody>\n",
       "</table>\n",
       "</div>"
      ],
      "text/plain": [
       "   primary_description   case\n",
       "30               THEFT  52465\n",
       "2              BATTERY  45332\n",
       "6      CRIMINAL DAMAGE  25651"
      ]
     },
     "execution_count": 25,
     "metadata": {
      "tags": []
     },
     "output_type": "execute_result"
    }
   ],
   "source": [
    "# What Crimes are the 3 most commonly occuring ones \n",
    "df[['primary_description', 'case']].groupby(\n",
    "    ['primary_description'], as_index=False).count().sort_values(\n",
    "    'case', ascending=False).head(3)"
   ]
  },
  {
   "cell_type": "code",
   "execution_count": 26,
   "metadata": {
    "colab": {},
    "colab_type": "code",
    "executionInfo": {
     "elapsed": 619,
     "status": "ok",
     "timestamp": 1594624126861,
     "user": {
      "displayName": "Vân Anh Phạm",
      "photoUrl": "",
      "userId": "14424096766313752825"
     },
     "user_tz": -420
    },
    "id": "tE9WANzgnKPa"
   },
   "outputs": [],
   "source": [
    "# Create a list of the 10 most commonly occuring crimes\n",
    "top_crimes = df[['primary_description', 'case']].groupby(\n",
    "    ['primary_description']).count().sort_values('case', ascending=False)[:10].axes[0].tolist()\n",
    "\n",
    "# Create a list of the 3 most commonly occuring crimes\n",
    "top_three_crimes = df[['primary_description', 'case']].groupby(\n",
    "    ['primary_description']).count().sort_values('case', ascending=False)[:3].axes[0].tolist()\n",
    "\n",
    "# Create a list of the 2 most commonly occuring crimes\n",
    "top_two_crimes = df[['primary_description', 'case']].groupby(\n",
    "    ['primary_description']).count().sort_values('case', ascending=False)[:2].axes[0].tolist()"
   ]
  },
  {
   "cell_type": "code",
   "execution_count": 27,
   "metadata": {
    "colab": {
     "base_uri": "https://localhost:8080/",
     "height": 427
    },
    "colab_type": "code",
    "executionInfo": {
     "elapsed": 1304,
     "status": "ok",
     "timestamp": 1594624129915,
     "user": {
      "displayName": "Vân Anh Phạm",
      "photoUrl": "",
      "userId": "14424096766313752825"
     },
     "user_tz": -420
    },
    "id": "akg95Q4wnKPc",
    "outputId": "72c360eb-2cbc-4978-d946-da919bc5296c"
   },
   "outputs": [
    {
     "data": {
      "text/plain": [
       "<matplotlib.axes._subplots.AxesSubplot at 0x7fbdba8c3940>"
      ]
     },
     "execution_count": 27,
     "metadata": {
      "tags": []
     },
     "output_type": "execute_result"
    },
    {
     "data": {
      "image/png": "[encoded data removed]",
      "text/plain": [
       "<Figure size 1080x432 with 1 Axes>"
      ]
     },
     "metadata": {
      "tags": []
     },
     "output_type": "display_data"
    }
   ],
   "source": [
    "# Create a new data frame with just the top 10 crimes\n",
    "df_top_crimes = df[df['primary_description'].isin(top_crimes)].copy()\n",
    "\n",
    "# Create a new data frame with just the top 10 crimes\n",
    "df_top3_crimes = df[df['primary_description'].isin(top_three_crimes)].copy()\n",
    "\n",
    "df_top3_crimes[['case', 'primary_description', 'year_month']].pivot_table(\n",
    "    index='year_month', \n",
    "    columns='primary_description', \n",
    "    fill_value=0, \n",
    "    aggfunc='count').plot(kind='area',\n",
    "                          stacked=True,\n",
    "                          figsize=(15, 6),\n",
    "                               fontsize=12,\n",
    "                               colormap='tab20')"
   ]
  },
  {
   "cell_type": "code",
   "execution_count": 28,
   "metadata": {
    "colab": {
     "base_uri": "https://localhost:8080/",
     "height": 432
    },
    "colab_type": "code",
    "executionInfo": {
     "elapsed": 1382,
     "status": "ok",
     "timestamp": 1594624133677,
     "user": {
      "displayName": "Vân Anh Phạm",
      "photoUrl": "",
      "userId": "14424096766313752825"
     },
     "user_tz": -420
    },
    "id": "7B5q7cqUnKPe",
    "outputId": "f68cd517-5d6a-4194-962f-a32b33cdbc3b"
   },
   "outputs": [
    {
     "data": {
      "text/plain": [
       "Text(0.0, 1.0, 'Count of Cases Per Hour]')"
      ]
     },
     "execution_count": 28,
     "metadata": {
      "tags": []
     },
     "output_type": "execute_result"
    },
    {
     "data": {
      "image/png": "[encoded data removed]",
      "text/plain": [
       "<Figure size 1080x432 with 1 Axes>"
      ]
     },
     "metadata": {
      "tags": []
     },
     "output_type": "display_data"
    }
   ],
   "source": [
    "df_top3_crimes[['case', 'primary_description', 'hour']].pivot_table(\n",
    "    index='hour', \n",
    "    columns='primary_description', \n",
    "    fill_value=0, \n",
    "    aggfunc='count').plot(kind='area',\n",
    "                          stacked=True,\n",
    "                          figsize=(15, 6),\n",
    "                               fontsize=12,\n",
    "                               colormap='tab20')\n",
    "\n",
    "plt.xlabel('Hour of Day')\n",
    "plt.ylabel('Count of Cases per Hour')\n",
    "plt.title('Count of Cases Per Hour]', loc='left', fontsize=18)"
   ]
  },
  {
   "cell_type": "markdown",
   "metadata": {
    "colab_type": "text",
    "id": "6qYdrsDhnKPg"
   },
   "source": [
    "### Visual Crimes on map of Chicago"
   ]
  },
  {
   "cell_type": "code",
   "execution_count": 29,
   "metadata": {
    "colab": {
     "base_uri": "https://localhost:8080/",
     "height": 322
    },
    "colab_type": "code",
    "executionInfo": {
     "elapsed": 589,
     "status": "ok",
     "timestamp": 1594624138341,
     "user": {
      "displayName": "Vân Anh Phạm",
      "photoUrl": "",
      "userId": "14424096766313752825"
     },
     "user_tz": -420
    },
    "id": "1UpG_g7InKPh",
    "outputId": "6ac4b87a-6ab0-4723-97e1-2bd9ec4aeed6"
   },
   "outputs": [
    {
     "data": {
      "text/plain": [
       "case                           object\n",
       "date_of_occurrence     datetime64[ns]\n",
       "block                          object\n",
       "primary_description            object\n",
       "ward                          float64\n",
       "latitude                      float64\n",
       "longitude                     float64\n",
       "hour                            int64\n",
       "day_name                       object\n",
       "day                             int64\n",
       "month_name                     object\n",
       "month                           int64\n",
       "year                            int64\n",
       "year_month                  period[M]\n",
       "zip                            object\n",
       "street                         object\n",
       "dtype: object"
      ]
     },
     "execution_count": 29,
     "metadata": {
      "tags": []
     },
     "output_type": "execute_result"
    }
   ],
   "source": [
    "df_top_crimes.dtypes"
   ]
  },
  {
   "cell_type": "markdown",
   "metadata": {
    "colab_type": "text",
    "id": "o3nuTHIYnKPk"
   },
   "source": [
    "### Create a folium map with a different colour per crime\n",
    "\n",
    "Colour each of the top 10 crimes with a different and plot on a Folium map."
   ]
  },
  {
   "cell_type": "code",
   "execution_count": 30,
   "metadata": {
    "colab": {},
    "colab_type": "code",
    "executionInfo": {
     "elapsed": 616,
     "status": "ok",
     "timestamp": 1594624143965,
     "user": {
      "displayName": "Vân Anh Phạm",
      "photoUrl": "",
      "userId": "14424096766313752825"
     },
     "user_tz": -420
    },
    "id": "MpWNx7GhnKPk"
   },
   "outputs": [],
   "source": [
    "# Create a list of colours. \n",
    "# We have  list of the top 10 crimes from earlier\n",
    "colors = [\n",
    "    'red',\n",
    "    'blue',\n",
    "    'gray',\n",
    "    'orange',\n",
    "    'beige',\n",
    "    'green',\n",
    "    'purple',\n",
    "    'pink',\n",
    "    'cadetblue',\n",
    "    'black'\n",
    "]\n",
    "\n",
    "# Create a dictionary of colours to map to the crimes\n",
    "dict_colours = dict(zip(top_crimes, colors))\n",
    "\n",
    "# Add the colours colums to the df_top_crimes DataFrame\n",
    "df_top_crimes['colour'] = df_top_crimes.primary_description.map(dict_colours)"
   ]
  },
  {
   "cell_type": "markdown",
   "metadata": {
    "colab_type": "text",
    "id": "BwEdBF-3nKPm"
   },
   "source": [
    "The entire `df_top_crimes` DataFrame contains too many point to disply effeciently using Folium. To combat this we will just use the data from August 2018."
   ]
  },
  {
   "cell_type": "code",
   "execution_count": 31,
   "metadata": {
    "colab": {},
    "colab_type": "code",
    "executionInfo": {
     "elapsed": 638,
     "status": "ok",
     "timestamp": 1594624151409,
     "user": {
      "displayName": "Vân Anh Phạm",
      "photoUrl": "",
      "userId": "14424096766313752825"
     },
     "user_tz": -420
    },
    "id": "S-hjxI2bnKPn"
   },
   "outputs": [],
   "source": [
    "df_top_crimes_august = df_top_crimes[df_top_crimes.month_name == 'August']\n",
    "\n",
    "# Pickle the DataFrame to Separate the Folium Maps into a Separate Notepad\n",
    "df_top_crimes_august.to_pickle('crimes_august.pkl')"
   ]
  },
  {
   "cell_type": "markdown",
   "metadata": {
    "colab_type": "text",
    "id": "5pw6mHQMnKPp"
   },
   "source": [
    "```python\n",
    "# Define Chicago's geolocation coordinates\n",
    "chicago_latitude = 41.85  \n",
    "chicago_longitude = -87.75\n",
    "\n",
    "# Define the world map centered around Chicago with a higher zoom level\n",
    "chicago_map = folium.Map(location=[chicago_latitude, chicago_longitude], zoom_start=11)\n",
    "\n",
    "# display world map\n",
    "chicago_map\n",
    "\n",
    "# Instantiate a feature group for the incidents in the dataframe\n",
    "incidents = folium.map.FeatureGroup()\n",
    "\n",
    "# loop through the 100 crimes and add each to the incidents feature group\n",
    "for lat, lng, col in zip(df_top_crimes_august.latitude, \n",
    "                         df_top_crimes_august.longitude, \n",
    "                         df_top_crimes_august.colour):\n",
    "    incidents.add_child(\n",
    "        folium.features.CircleMarker(\n",
    "            [lat, lng],\n",
    "            radius=1, # define how big you want the circle markers to be\n",
    "            color=col,\n",
    "            fill=True,\n",
    "            fill_color=col,\n",
    "            fill_opacity=0.6\n",
    "        )\n",
    "    )\n",
    "\n",
    "# add incidents to map\n",
    "chicago_map.add_child(incidents)```"
   ]
  },
  {
   "cell_type": "markdown",
   "metadata": {
    "colab_type": "text",
    "id": "Gg84n2D-nKPq"
   },
   "source": [
    "![Markers image of Chicago](./capstone_images/markers.jpg)"
   ]
  },
  {
   "cell_type": "code",
   "execution_count": null,
   "metadata": {
    "colab": {},
    "colab_type": "code",
    "id": "lD4VYaJjnKPr"
   },
   "outputs": [],
   "source": []
  },
  {
   "cell_type": "code",
   "execution_count": null,
   "metadata": {
    "colab": {},
    "colab_type": "code",
    "id": "65EPPlMPnKPt"
   },
   "outputs": [],
   "source": []
  },
  {
   "cell_type": "code",
   "execution_count": null,
   "metadata": {
    "colab": {},
    "colab_type": "code",
    "id": "HcUtf5TOnKPw"
   },
   "outputs": [],
   "source": []
  },
  {
   "cell_type": "markdown",
   "metadata": {
    "colab_type": "text",
    "id": "tcdsBoS4nKPy"
   },
   "source": [
    "```python\n",
    "mc = MarkerCluster()\n",
    "\n",
    "# Define the world map centered around Chicago with a higher zoom level\n",
    "chicago_cluster = folium.Map(location=[chicago_latitude, chicago_longitude], zoom_start=11)\n",
    "\n",
    "# display world map\n",
    "chicago_cluster\n",
    "\n",
    "#creating a Marker for each point in df_sample. Each point will get a popup with their zip\n",
    "for row in df_top_crimes_august.itertuples():\n",
    "    mc.add_child(folium.Marker(\n",
    "        location=[row.latitude,  row.longitude],\n",
    "                 popup=row.primary_description))\n",
    " \n",
    "chicago_cluster.add_child(mc)\n",
    "chicago_cluster```"
   ]
  },
  {
   "cell_type": "markdown",
   "metadata": {
    "colab_type": "text",
    "id": "3PwEeJ6dnKPy"
   },
   "source": [
    "![Clusters image of Chicago](./capstone_images/clusters.jpg)"
   ]
  },
  {
   "cell_type": "code",
   "execution_count": null,
   "metadata": {
    "colab": {},
    "colab_type": "code",
    "id": "OSXxOEBvnKPz"
   },
   "outputs": [],
   "source": []
  },
  {
   "cell_type": "code",
   "execution_count": null,
   "metadata": {
    "colab": {},
    "colab_type": "code",
    "id": "1_Luy9G0nKP1"
   },
   "outputs": [],
   "source": []
  },
  {
   "cell_type": "markdown",
   "metadata": {
    "colab_type": "text",
    "id": "tolN6JU-nKP4"
   },
   "source": [
    "```python\n",
    "from folium import plugins\n",
    "from folium.plugins import HeatMap\n",
    "\n",
    "chicago_heatmat = folium.Map(location=[chicago_latitude, chicago_longitude], zoom_start=11) \n",
    "\n",
    "# List comprehension to make out list of lists\n",
    "heat_data = [[row['latitude'], \n",
    "              row['longitude']] for index, row in df_top_crimes_august.iterrows()]\n",
    "\n",
    "# Plot it on the map\n",
    "HeatMap(heat_data,\n",
    "        min_opacity=0.5,\n",
    "        max_zoom=18, \n",
    "        max_val=1.0, \n",
    "        radius=15,\n",
    "        blur=20,\n",
    "        gradient=None,\n",
    "        overlay=True).add_to(chicago_heatmat)\n",
    "\n",
    "# Display the map\n",
    "chicago_heatmat```"
   ]
  },
  {
   "cell_type": "markdown",
   "metadata": {
    "colab_type": "text",
    "id": "nFdUNS15nKP4"
   },
   "source": [
    "![Heatmap image of Chicago](./capstone_images/heatmap.jpg)"
   ]
  },
  {
   "cell_type": "code",
   "execution_count": null,
   "metadata": {
    "colab": {},
    "colab_type": "code",
    "id": "xXnCsqUZnKP5"
   },
   "outputs": [],
   "source": []
  },
  {
   "cell_type": "code",
   "execution_count": 32,
   "metadata": {
    "colab": {
     "base_uri": "https://localhost:8080/",
     "height": 340
    },
    "colab_type": "code",
    "executionInfo": {
     "elapsed": 649,
     "status": "ok",
     "timestamp": 1594624201488,
     "user": {
      "displayName": "Vân Anh Phạm",
      "photoUrl": "",
      "userId": "14424096766313752825"
     },
     "user_tz": -420
    },
    "id": "CttB4lo6nKP8",
    "outputId": "a745fddf-1383-46fd-f3fb-644267882438"
   },
   "outputs": [
    {
     "data": {
      "text/plain": [
       "case                           object\n",
       "date_of_occurrence     datetime64[ns]\n",
       "block                          object\n",
       "primary_description            object\n",
       "ward                          float64\n",
       "latitude                      float64\n",
       "longitude                     float64\n",
       "hour                            int64\n",
       "day_name                       object\n",
       "day                             int64\n",
       "month_name                     object\n",
       "month                           int64\n",
       "year                            int64\n",
       "year_month                  period[M]\n",
       "zip                            object\n",
       "street                         object\n",
       "colour                         object\n",
       "dtype: object"
      ]
     },
     "execution_count": 32,
     "metadata": {
      "tags": []
     },
     "output_type": "execute_result"
    }
   ],
   "source": [
    "df_top_crimes.dtypes"
   ]
  },
  {
   "cell_type": "code",
   "execution_count": null,
   "metadata": {
    "colab": {},
    "colab_type": "code",
    "id": "u6GG2SemnKP-"
   },
   "outputs": [],
   "source": []
  },
  {
   "cell_type": "markdown",
   "metadata": {
    "colab_type": "text",
    "id": "jFBLyDF7nKQB"
   },
   "source": [
    "# Data Preparation for Modelling\n",
    "\n",
    "Before we start modelling we need to prepare the data frame to include only mumerical data and by removing unneeded columns.\n",
    "\n",
    "Rather than removing colums from `df_top_crimes` a new `df_features` DataFrame will be created with just the required columns. This `df_features` DataFrame will then be processed to remove Categorical Data Types and replace them with One Hot encoding. Finally the Dependant Variables will be Normalised and Principal Component Analysis will be used to reduce the dimensionality of the DataFrame."
   ]
  },
  {
   "cell_type": "code",
   "execution_count": 33,
   "metadata": {
    "colab": {},
    "colab_type": "code",
    "executionInfo": {
     "elapsed": 601,
     "status": "ok",
     "timestamp": 1594624207412,
     "user": {
      "displayName": "Vân Anh Phạm",
      "photoUrl": "",
      "userId": "14424096766313752825"
     },
     "user_tz": -420
    },
    "id": "MoZL-1UFnKQC"
   },
   "outputs": [],
   "source": [
    "# Start by copying the Latitude and Longitude to the new DataFrame\n",
    "df_features = df_top_crimes[['latitude', 'longitude']]\n",
    "\n",
    "# Next and One Hot Encoding of the hour, day and month variables\n",
    "df_features = df_features.join(pd.get_dummies(df_top_crimes.hour, prefix='hour'))\n",
    "df_features = df_features.join(pd.get_dummies(df_top_crimes.day_name))\n",
    "df_features = df_features.join(pd.get_dummies(df_top_crimes.month_name))\n",
    "\n",
    "# Finally add the ward & crimes column, copied from the original Primary Description column\n",
    "df_features['ward'] = df_top_crimes[['ward']]\n",
    "df_features['crimes'] = df_top_crimes[['primary_description']]"
   ]
  },
  {
   "cell_type": "code",
   "execution_count": 34,
   "metadata": {
    "colab": {
     "base_uri": "https://localhost:8080/",
     "height": 258
    },
    "colab_type": "code",
    "executionInfo": {
     "elapsed": 1660,
     "status": "ok",
     "timestamp": 1594624211058,
     "user": {
      "displayName": "Vân Anh Phạm",
      "photoUrl": "",
      "userId": "14424096766313752825"
     },
     "user_tz": -420
    },
    "id": "98N65P4wnKQI",
    "outputId": "c8119b5b-7935-4869-fb79-d50c0d7a0d64"
   },
   "outputs": [
    {
     "data": {
      "text/html": [
       "<div>\n",
       "<style scoped>\n",
       "    .dataframe tbody tr th:only-of-type {\n",
       "        vertical-align: middle;\n",
       "    }\n",
       "\n",
       "    .dataframe tbody tr th {\n",
       "        vertical-align: top;\n",
       "    }\n",
       "\n",
       "    .dataframe thead th {\n",
       "        text-align: right;\n",
       "    }\n",
       "</style>\n",
       "<table border=\"1\" class=\"dataframe\">\n",
       "  <thead>\n",
       "    <tr style=\"text-align: right;\">\n",
       "      <th></th>\n",
       "      <th>latitude</th>\n",
       "      <th>longitude</th>\n",
       "      <th>hour_0</th>\n",
       "      <th>hour_1</th>\n",
       "      <th>hour_2</th>\n",
       "      <th>hour_3</th>\n",
       "      <th>hour_4</th>\n",
       "      <th>hour_5</th>\n",
       "      <th>hour_6</th>\n",
       "      <th>hour_7</th>\n",
       "      <th>hour_8</th>\n",
       "      <th>hour_9</th>\n",
       "      <th>hour_10</th>\n",
       "      <th>hour_11</th>\n",
       "      <th>hour_12</th>\n",
       "      <th>hour_13</th>\n",
       "      <th>hour_14</th>\n",
       "      <th>hour_15</th>\n",
       "      <th>hour_16</th>\n",
       "      <th>hour_17</th>\n",
       "      <th>hour_18</th>\n",
       "      <th>hour_19</th>\n",
       "      <th>hour_20</th>\n",
       "      <th>hour_21</th>\n",
       "      <th>hour_22</th>\n",
       "      <th>hour_23</th>\n",
       "      <th>Friday</th>\n",
       "      <th>Monday</th>\n",
       "      <th>Saturday</th>\n",
       "      <th>Sunday</th>\n",
       "      <th>Thursday</th>\n",
       "      <th>Tuesday</th>\n",
       "      <th>Wednesday</th>\n",
       "      <th>April</th>\n",
       "      <th>August</th>\n",
       "      <th>December</th>\n",
       "      <th>February</th>\n",
       "      <th>January</th>\n",
       "      <th>July</th>\n",
       "      <th>June</th>\n",
       "      <th>March</th>\n",
       "      <th>May</th>\n",
       "      <th>November</th>\n",
       "      <th>October</th>\n",
       "      <th>September</th>\n",
       "      <th>ward</th>\n",
       "      <th>crimes</th>\n",
       "    </tr>\n",
       "  </thead>\n",
       "  <tbody>\n",
       "    <tr>\n",
       "      <th>1</th>\n",
       "      <td>41.707001</td>\n",
       "      <td>-87.636288</td>\n",
       "      <td>0</td>\n",
       "      <td>0</td>\n",
       "      <td>0</td>\n",
       "      <td>0</td>\n",
       "      <td>0</td>\n",
       "      <td>0</td>\n",
       "      <td>0</td>\n",
       "      <td>0</td>\n",
       "      <td>0</td>\n",
       "      <td>0</td>\n",
       "      <td>0</td>\n",
       "      <td>0</td>\n",
       "      <td>0</td>\n",
       "      <td>0</td>\n",
       "      <td>0</td>\n",
       "      <td>0</td>\n",
       "      <td>0</td>\n",
       "      <td>0</td>\n",
       "      <td>0</td>\n",
       "      <td>0</td>\n",
       "      <td>0</td>\n",
       "      <td>0</td>\n",
       "      <td>1</td>\n",
       "      <td>0</td>\n",
       "      <td>1</td>\n",
       "      <td>0</td>\n",
       "      <td>0</td>\n",
       "      <td>0</td>\n",
       "      <td>0</td>\n",
       "      <td>0</td>\n",
       "      <td>0</td>\n",
       "      <td>1</td>\n",
       "      <td>0</td>\n",
       "      <td>0</td>\n",
       "      <td>0</td>\n",
       "      <td>0</td>\n",
       "      <td>0</td>\n",
       "      <td>0</td>\n",
       "      <td>0</td>\n",
       "      <td>0</td>\n",
       "      <td>0</td>\n",
       "      <td>0</td>\n",
       "      <td>0</td>\n",
       "      <td>9.0</td>\n",
       "      <td>ASSAULT</td>\n",
       "    </tr>\n",
       "    <tr>\n",
       "      <th>11</th>\n",
       "      <td>41.777468</td>\n",
       "      <td>-87.615556</td>\n",
       "      <td>1</td>\n",
       "      <td>0</td>\n",
       "      <td>0</td>\n",
       "      <td>0</td>\n",
       "      <td>0</td>\n",
       "      <td>0</td>\n",
       "      <td>0</td>\n",
       "      <td>0</td>\n",
       "      <td>0</td>\n",
       "      <td>0</td>\n",
       "      <td>0</td>\n",
       "      <td>0</td>\n",
       "      <td>0</td>\n",
       "      <td>0</td>\n",
       "      <td>0</td>\n",
       "      <td>0</td>\n",
       "      <td>0</td>\n",
       "      <td>0</td>\n",
       "      <td>0</td>\n",
       "      <td>0</td>\n",
       "      <td>0</td>\n",
       "      <td>0</td>\n",
       "      <td>0</td>\n",
       "      <td>0</td>\n",
       "      <td>0</td>\n",
       "      <td>0</td>\n",
       "      <td>0</td>\n",
       "      <td>0</td>\n",
       "      <td>1</td>\n",
       "      <td>0</td>\n",
       "      <td>0</td>\n",
       "      <td>0</td>\n",
       "      <td>0</td>\n",
       "      <td>0</td>\n",
       "      <td>0</td>\n",
       "      <td>0</td>\n",
       "      <td>0</td>\n",
       "      <td>0</td>\n",
       "      <td>0</td>\n",
       "      <td>1</td>\n",
       "      <td>0</td>\n",
       "      <td>0</td>\n",
       "      <td>0</td>\n",
       "      <td>20.0</td>\n",
       "      <td>ASSAULT</td>\n",
       "    </tr>\n",
       "    <tr>\n",
       "      <th>12</th>\n",
       "      <td>41.847566</td>\n",
       "      <td>-87.645749</td>\n",
       "      <td>0</td>\n",
       "      <td>0</td>\n",
       "      <td>1</td>\n",
       "      <td>0</td>\n",
       "      <td>0</td>\n",
       "      <td>0</td>\n",
       "      <td>0</td>\n",
       "      <td>0</td>\n",
       "      <td>0</td>\n",
       "      <td>0</td>\n",
       "      <td>0</td>\n",
       "      <td>0</td>\n",
       "      <td>0</td>\n",
       "      <td>0</td>\n",
       "      <td>0</td>\n",
       "      <td>0</td>\n",
       "      <td>0</td>\n",
       "      <td>0</td>\n",
       "      <td>0</td>\n",
       "      <td>0</td>\n",
       "      <td>0</td>\n",
       "      <td>0</td>\n",
       "      <td>0</td>\n",
       "      <td>0</td>\n",
       "      <td>0</td>\n",
       "      <td>0</td>\n",
       "      <td>0</td>\n",
       "      <td>1</td>\n",
       "      <td>0</td>\n",
       "      <td>0</td>\n",
       "      <td>0</td>\n",
       "      <td>0</td>\n",
       "      <td>0</td>\n",
       "      <td>0</td>\n",
       "      <td>0</td>\n",
       "      <td>0</td>\n",
       "      <td>0</td>\n",
       "      <td>0</td>\n",
       "      <td>0</td>\n",
       "      <td>1</td>\n",
       "      <td>0</td>\n",
       "      <td>0</td>\n",
       "      <td>0</td>\n",
       "      <td>11.0</td>\n",
       "      <td>DECEPTIVE PRACTICE</td>\n",
       "    </tr>\n",
       "    <tr>\n",
       "      <th>14</th>\n",
       "      <td>41.773046</td>\n",
       "      <td>-87.571599</td>\n",
       "      <td>0</td>\n",
       "      <td>0</td>\n",
       "      <td>0</td>\n",
       "      <td>0</td>\n",
       "      <td>0</td>\n",
       "      <td>0</td>\n",
       "      <td>0</td>\n",
       "      <td>0</td>\n",
       "      <td>0</td>\n",
       "      <td>0</td>\n",
       "      <td>0</td>\n",
       "      <td>0</td>\n",
       "      <td>0</td>\n",
       "      <td>0</td>\n",
       "      <td>0</td>\n",
       "      <td>0</td>\n",
       "      <td>0</td>\n",
       "      <td>0</td>\n",
       "      <td>1</td>\n",
       "      <td>0</td>\n",
       "      <td>0</td>\n",
       "      <td>0</td>\n",
       "      <td>0</td>\n",
       "      <td>0</td>\n",
       "      <td>0</td>\n",
       "      <td>0</td>\n",
       "      <td>0</td>\n",
       "      <td>0</td>\n",
       "      <td>0</td>\n",
       "      <td>1</td>\n",
       "      <td>0</td>\n",
       "      <td>1</td>\n",
       "      <td>0</td>\n",
       "      <td>0</td>\n",
       "      <td>0</td>\n",
       "      <td>0</td>\n",
       "      <td>0</td>\n",
       "      <td>0</td>\n",
       "      <td>0</td>\n",
       "      <td>0</td>\n",
       "      <td>0</td>\n",
       "      <td>0</td>\n",
       "      <td>0</td>\n",
       "      <td>5.0</td>\n",
       "      <td>MOTOR VEHICLE THEFT</td>\n",
       "    </tr>\n",
       "    <tr>\n",
       "      <th>15</th>\n",
       "      <td>41.909759</td>\n",
       "      <td>-87.736078</td>\n",
       "      <td>0</td>\n",
       "      <td>0</td>\n",
       "      <td>0</td>\n",
       "      <td>0</td>\n",
       "      <td>0</td>\n",
       "      <td>0</td>\n",
       "      <td>0</td>\n",
       "      <td>0</td>\n",
       "      <td>0</td>\n",
       "      <td>0</td>\n",
       "      <td>0</td>\n",
       "      <td>0</td>\n",
       "      <td>0</td>\n",
       "      <td>0</td>\n",
       "      <td>0</td>\n",
       "      <td>0</td>\n",
       "      <td>0</td>\n",
       "      <td>1</td>\n",
       "      <td>0</td>\n",
       "      <td>0</td>\n",
       "      <td>0</td>\n",
       "      <td>0</td>\n",
       "      <td>0</td>\n",
       "      <td>0</td>\n",
       "      <td>0</td>\n",
       "      <td>0</td>\n",
       "      <td>0</td>\n",
       "      <td>0</td>\n",
       "      <td>1</td>\n",
       "      <td>0</td>\n",
       "      <td>0</td>\n",
       "      <td>0</td>\n",
       "      <td>0</td>\n",
       "      <td>0</td>\n",
       "      <td>0</td>\n",
       "      <td>0</td>\n",
       "      <td>0</td>\n",
       "      <td>0</td>\n",
       "      <td>0</td>\n",
       "      <td>1</td>\n",
       "      <td>0</td>\n",
       "      <td>0</td>\n",
       "      <td>0</td>\n",
       "      <td>26.0</td>\n",
       "      <td>ASSAULT</td>\n",
       "    </tr>\n",
       "  </tbody>\n",
       "</table>\n",
       "</div>"
      ],
      "text/plain": [
       "     latitude  longitude  hour_0  hour_1  hour_2  hour_3  hour_4  hour_5  \\\n",
       "1   41.707001 -87.636288       0       0       0       0       0       0   \n",
       "11  41.777468 -87.615556       1       0       0       0       0       0   \n",
       "12  41.847566 -87.645749       0       0       1       0       0       0   \n",
       "14  41.773046 -87.571599       0       0       0       0       0       0   \n",
       "15  41.909759 -87.736078       0       0       0       0       0       0   \n",
       "\n",
       "    hour_6  hour_7  hour_8  hour_9  hour_10  hour_11  hour_12  hour_13  \\\n",
       "1        0       0       0       0        0        0        0        0   \n",
       "11       0       0       0       0        0        0        0        0   \n",
       "12       0       0       0       0        0        0        0        0   \n",
       "14       0       0       0       0        0        0        0        0   \n",
       "15       0       0       0       0        0        0        0        0   \n",
       "\n",
       "    hour_14  hour_15  hour_16  hour_17  hour_18  hour_19  hour_20  hour_21  \\\n",
       "1         0        0        0        0        0        0        0        0   \n",
       "11        0        0        0        0        0        0        0        0   \n",
       "12        0        0        0        0        0        0        0        0   \n",
       "14        0        0        0        0        1        0        0        0   \n",
       "15        0        0        0        1        0        0        0        0   \n",
       "\n",
       "    hour_22  hour_23  Friday  Monday  Saturday  Sunday  Thursday  Tuesday  \\\n",
       "1         1        0       1       0         0       0         0        0   \n",
       "11        0        0       0       0         0       0         1        0   \n",
       "12        0        0       0       0         0       1         0        0   \n",
       "14        0        0       0       0         0       0         0        1   \n",
       "15        0        0       0       0         0       0         1        0   \n",
       "\n",
       "    Wednesday  April  August  December  February  January  July  June  March  \\\n",
       "1           0      1       0         0         0        0     0     0      0   \n",
       "11          0      0       0         0         0        0     0     0      0   \n",
       "12          0      0       0         0         0        0     0     0      0   \n",
       "14          0      1       0         0         0        0     0     0      0   \n",
       "15          0      0       0         0         0        0     0     0      0   \n",
       "\n",
       "    May  November  October  September  ward               crimes  \n",
       "1     0         0        0          0   9.0              ASSAULT  \n",
       "11    1         0        0          0  20.0              ASSAULT  \n",
       "12    1         0        0          0  11.0   DECEPTIVE PRACTICE  \n",
       "14    0         0        0          0   5.0  MOTOR VEHICLE THEFT  \n",
       "15    1         0        0          0  26.0              ASSAULT  "
      ]
     },
     "execution_count": 34,
     "metadata": {
      "tags": []
     },
     "output_type": "execute_result"
    }
   ],
   "source": [
    "df_features.head()"
   ]
  },
  {
   "cell_type": "markdown",
   "metadata": {
    "colab_type": "text",
    "id": "TX9tGcBEnKQL"
   },
   "source": [
    "There are a couple of further small changes to be made:\n",
    " - Create a smaller DataFrame of only the top three crimes\n",
    " - Create the X, dependant variables, DataFrames by dropping the Crimes column\n",
    " - Create the y, independant variable, \n",
    " - Normailse the X Data"
   ]
  },
  {
   "cell_type": "code",
   "execution_count": 35,
   "metadata": {
    "colab": {},
    "colab_type": "code",
    "executionInfo": {
     "elapsed": 615,
     "status": "ok",
     "timestamp": 1594624214521,
     "user": {
      "displayName": "Vân Anh Phạm",
      "photoUrl": "",
      "userId": "14424096766313752825"
     },
     "user_tz": -420
    },
    "id": "4o8_ju70nKQM"
   },
   "outputs": [],
   "source": [
    "# Create a smaller DataFrame of only the top three crimes\n",
    "df_features_3 = df_features[df_features['crimes'].isin(top_three_crimes)].copy()\n",
    "\n",
    "# Create a smaller DataFrame of only the top two crimes\n",
    "df_features_2 = df_features[df_features['crimes'].isin(top_two_crimes)].copy()"
   ]
  },
  {
   "cell_type": "code",
   "execution_count": 36,
   "metadata": {
    "colab": {},
    "colab_type": "code",
    "executionInfo": {
     "elapsed": 850,
     "status": "ok",
     "timestamp": 1594624217061,
     "user": {
      "displayName": "Vân Anh Phạm",
      "photoUrl": "",
      "userId": "14424096766313752825"
     },
     "user_tz": -420
    },
    "id": "XyeiwheJnKQO"
   },
   "outputs": [],
   "source": [
    "#  Create the X, dependant variables, DataFrames by dropping the Crimes column\n",
    "X_10 = df_features.copy()\n",
    "y_10 = X_10.crimes.values\n",
    "\n",
    "X_10.drop('crimes', axis=1, inplace=True)\n",
    "X_10 = preprocessing.StandardScaler().fit(X_10).transform(X_10)\n",
    "\n",
    "\n",
    "X_3 = df_features_3.copy()\n",
    "y_3 = X_3.crimes.values\n",
    "\n",
    "X_3.drop('crimes', axis=1, inplace=True)\n",
    "X_3 = preprocessing.StandardScaler().fit(X_3).transform(X_3)\n",
    "\n",
    "X_2 = df_features_2.copy()\n",
    "y_2 = X_2.crimes.values\n",
    "\n",
    "X_2.drop('crimes', axis=1, inplace=True)\n",
    "X_2 = preprocessing.StandardScaler().fit(X_2).transform(X_2)\n"
   ]
  },
  {
   "cell_type": "code",
   "execution_count": 37,
   "metadata": {
    "colab": {},
    "colab_type": "code",
    "executionInfo": {
     "elapsed": 963,
     "status": "ok",
     "timestamp": 1594624220670,
     "user": {
      "displayName": "Vân Anh Phạm",
      "photoUrl": "",
      "userId": "14424096766313752825"
     },
     "user_tz": -420
    },
    "id": "4DYa7IbFnKQQ"
   },
   "outputs": [],
   "source": [
    "# Set X = X_10\n",
    "X = X_10\n",
    "y = y_10"
   ]
  },
  {
   "cell_type": "code",
   "execution_count": 38,
   "metadata": {
    "colab": {},
    "colab_type": "code",
    "executionInfo": {
     "elapsed": 650,
     "status": "ok",
     "timestamp": 1594624221997,
     "user": {
      "displayName": "Vân Anh Phạm",
      "photoUrl": "",
      "userId": "14424096766313752825"
     },
     "user_tz": -420
    },
    "id": "rsemhBmxnKQS"
   },
   "outputs": [],
   "source": [
    "# Set X = X_3\n",
    "X = X_3\n",
    "y = y_3"
   ]
  },
  {
   "cell_type": "code",
   "execution_count": 39,
   "metadata": {
    "colab": {},
    "colab_type": "code",
    "executionInfo": {
     "elapsed": 689,
     "status": "ok",
     "timestamp": 1594624223401,
     "user": {
      "displayName": "Vân Anh Phạm",
      "photoUrl": "",
      "userId": "14424096766313752825"
     },
     "user_tz": -420
    },
    "id": "UqNIzhR0nKQU"
   },
   "outputs": [],
   "source": [
    "# Set X = X_2\n",
    "X = X_2\n",
    "y = y_2"
   ]
  },
  {
   "cell_type": "markdown",
   "metadata": {
    "colab_type": "text",
    "id": "afTGZ1tcnKQV"
   },
   "source": [
    "### K Nearest Neighbor(KNN)\n",
    "Find the best k to build the model with the best accuracy."
   ]
  },
  {
   "cell_type": "code",
   "execution_count": null,
   "metadata": {
    "colab": {},
    "colab_type": "code",
    "id": "cH_LFl3znKQX"
   },
   "outputs": [],
   "source": [
    "from datetime import datetime\n",
    "# Number of neighbours\n",
    "neighs = range(10, 22)\n",
    "\n",
    "# Store the scores\n",
    "scores = np.zeros((len(neighs), 3))\n",
    "\n",
    "for idx, neigh in enumerate(neighs):\n",
    "    print('Heighbours: ', neigh, ' ', str(datetime.now()))\n",
    "    model = KNeighborsClassifier(n_neighbors = neigh)\n",
    "    scores[idx, : ] = cross_validate(model, n_splits = 5)\n",
    "\n",
    "plt.plot(neighs, scores[ : , 1], 'b')\n",
    "plt.fill_between(neighs, scores[ : , 0], scores[:, 2], alpha = 0.1)\n",
    "plt.legend(('Median', '(40, 60) percentile'))\n",
    "plt.ylabel('Accuracy')\n",
    "plt.xlabel('Number of Neighbors')\n",
    "plt.tight_layout()\n",
    "plt.show()"
   ]
  },
  {
   "cell_type": "code",
   "execution_count": null,
   "metadata": {
    "colab": {},
    "colab_type": "code",
    "id": "S1PZNwpvnKQZ"
   },
   "outputs": [],
   "source": []
  },
  {
   "cell_type": "code",
   "execution_count": null,
   "metadata": {
    "colab": {},
    "colab_type": "code",
    "id": "oOcPk1eDnKQc",
    "outputId": "4a41680c-2385-403d-f767-7ae2f14f1b4d"
   },
   "outputs": [
    {
     "name": "stdout",
     "output_type": "stream",
     "text": [
      "Depth:  10   2018-09-29 20:21:43.711835\n",
      "Depth:  11   2018-09-29 20:21:52.729822\n",
      "Depth:  12   2018-09-29 20:22:02.061035\n",
      "Depth:  13   2018-09-29 20:22:11.946203\n",
      "Depth:  14   2018-09-29 20:22:22.311324\n",
      "Depth:  15   2018-09-29 20:22:33.211318\n"
     ]
    },
    {
     "data": {
      "image/png": "[encoded data removed]",
      "text/plain": [
       "<Figure size 432x288 with 1 Axes>"
      ]
     },
     "metadata": {
      "needs_background": "light",
      "tags": []
     },
     "output_type": "display_data"
    }
   ],
   "source": [
    "# Decision Tree\n",
    "from datetime import datetime\n",
    "from sklearn.tree import DecisionTreeClassifier\n",
    "\n",
    "depths = range(10, 16)\n",
    "scores = np.zeros((len(depths), 3))\n",
    "# scores = np.zeros((len(depths), 2))\n",
    "for idx, depth in enumerate(depths):\n",
    "    print('Depth: ', depth, ' ', str(datetime.now()))\n",
    "    model = DecisionTreeClassifier(criterion = \"entropy\", max_depth = depth)\n",
    "    scores[idx, : ] = cross_validate(model, n_splits = 10)\n",
    "\n",
    "plt.plot(depths, scores[ : , 1], 'b')\n",
    "plt.fill_between(depths, scores[ : , 0], scores[:, 2], alpha = 0.1)\n",
    "plt.legend(('Median', '(40, 60) percentile'))\n",
    "plt.ylabel('Accuracy')\n",
    "plt.xlabel('Depth')\n",
    "plt.tight_layout()\n",
    "plt.show()\n",
    "\n"
   ]
  },
  {
   "cell_type": "code",
   "execution_count": null,
   "metadata": {
    "colab": {},
    "colab_type": "code",
    "id": "h7ezyrSLnKQe"
   },
   "outputs": [],
   "source": []
  },
  {
   "cell_type": "code",
   "execution_count": null,
   "metadata": {
    "colab": {},
    "colab_type": "code",
    "id": "cDu-U1HenKQh"
   },
   "outputs": [],
   "source": []
  },
  {
   "cell_type": "code",
   "execution_count": null,
   "metadata": {
    "colab": {},
    "colab_type": "code",
    "id": "H0cR5zCcnKQk"
   },
   "outputs": [],
   "source": []
  },
  {
   "cell_type": "code",
   "execution_count": null,
   "metadata": {
    "colab": {},
    "colab_type": "code",
    "id": "BYN4ajnPnKQl"
   },
   "outputs": [],
   "source": []
  },
  {
   "cell_type": "code",
   "execution_count": null,
   "metadata": {
    "colab": {},
    "colab_type": "code",
    "id": "TT5gaXHcnKQn",
    "outputId": "35b5640e-6482-499f-d27d-8368f154242d"
   },
   "outputs": [
    {
     "name": "stdout",
     "output_type": "stream",
     "text": [
      "C:  0.01   2018-09-29 19:55:35.850317\n",
      "C:  0.03162277660168379   2018-09-29 19:55:54.529972\n",
      "C:  0.1   2018-09-29 19:56:18.591961\n",
      "C:  0.31622776601683794   2018-09-29 19:56:50.485827\n",
      "C:  1.0   2018-09-29 19:57:08.953289\n",
      "C:  3.1622776601683795   2018-09-29 19:57:32.267145\n"
     ]
    },
    {
     "data": {
      "image/png": "[encoded data removed]",
      "text/plain": [
       "<Figure size 432x288 with 1 Axes>"
      ]
     },
     "metadata": {
      "needs_background": "light",
      "tags": []
     },
     "output_type": "display_data"
    }
   ],
   "source": [
    "# Logistic Regression\n",
    "\n",
    "from sklearn.linear_model import LogisticRegression\n",
    "\n",
    "C = np.logspace(-2.0, 0.5, num = 6, endpoint = True)\n",
    "scores = np.zeros((len(C), 3))\n",
    "for idx, c in enumerate(C):\n",
    "    print('C: ', c, ' ', str(datetime.now()))\n",
    "    model = LogisticRegression(C = c, solver = 'liblinear')\n",
    "    scores[idx, : ] = cross_validate(model, n_splits = 10)\n",
    "\n",
    "plt.plot(C, scores[ : , 1], 'b')\n",
    "plt.xscale('log')\n",
    "plt.fill_between(C, scores[ : , 0], scores[:, 2], alpha = 0.1)\n",
    "plt.legend(('Median', '(40, 60) percentile'))\n",
    "plt.ylabel('Accuracy')\n",
    "plt.xlabel('C')\n",
    "plt.tight_layout()\n",
    "plt.show()"
   ]
  },
  {
   "cell_type": "code",
   "execution_count": null,
   "metadata": {
    "colab": {},
    "colab_type": "code",
    "id": "QMFF9AcWnKQo"
   },
   "outputs": [],
   "source": []
  },
  {
   "cell_type": "code",
   "execution_count": null,
   "metadata": {
    "colab": {},
    "colab_type": "code",
    "id": "SF7Vo70QnKQr"
   },
   "outputs": [],
   "source": []
  },
  {
   "cell_type": "code",
   "execution_count": null,
   "metadata": {
    "colab": {},
    "colab_type": "code",
    "id": "4fSgInijnKQu",
    "outputId": "c2ec7d9a-03cd-4d12-ccc2-00ff983a713c"
   },
   "outputs": [
    {
     "name": "stdout",
     "output_type": "stream",
     "text": [
      "Alpha:  0.1   2018-09-29 19:58:32.874182\n",
      "Alpha:  0.2   2018-09-29 19:58:38.732401\n",
      "Alpha:  0.30000000000000004   2018-09-29 19:58:44.623051\n",
      "Alpha:  0.4   2018-09-29 19:58:50.409530\n",
      "Alpha:  0.5   2018-09-29 19:58:55.754630\n",
      "Alpha:  0.6   2018-09-29 19:59:01.995696\n",
      "Alpha:  0.7000000000000001   2018-09-29 19:59:07.390830\n",
      "Alpha:  0.8   2018-09-29 19:59:12.751034\n",
      "Alpha:  0.9   2018-09-29 19:59:18.619313\n",
      "Alpha:  1.0   2018-09-29 19:59:24.275347\n"
     ]
    },
    {
     "data": {
      "image/png": "[encoded data removed]",
      "text/plain": [
       "<Figure size 432x288 with 1 Axes>"
      ]
     },
     "metadata": {
      "needs_background": "light",
      "tags": []
     },
     "output_type": "display_data"
    }
   ],
   "source": [
    "# Naive Bayes\n",
    "\n",
    "alpha = np.linspace(0.1, 1, num=10)\n",
    "scores = np.zeros((len(alpha), 3))\n",
    "for idx, a in enumerate(alpha):\n",
    "    print('Alpha: ', a, ' ', str(datetime.now()))\n",
    "    model = BernoulliNB()\n",
    "    scores[idx, : ] = cross_validate(model, n_splits = 10)\n",
    "\n",
    "plt.plot(alpha, scores[ : , 1], 'b')\n",
    "plt.xscale('log')\n",
    "plt.fill_between(alpha, scores[ : , 0], scores[:, 2], alpha = 0.1)\n",
    "plt.legend(('Median', '(40, 60) percentile'))\n",
    "plt.ylabel('Accuracy')\n",
    "plt.xlabel('C')\n",
    "plt.tight_layout()\n",
    "plt.show()"
   ]
  },
  {
   "cell_type": "code",
   "execution_count": null,
   "metadata": {
    "colab": {},
    "colab_type": "code",
    "id": "_ilRfzgCnKQw"
   },
   "outputs": [],
   "source": []
  },
  {
   "cell_type": "code",
   "execution_count": null,
   "metadata": {
    "colab": {},
    "colab_type": "code",
    "id": "Iqdlud5nnKQy",
    "outputId": "2ff1dda5-7f6c-40b0-fced-2f5ffa7e3720"
   },
   "outputs": [
    {
     "name": "stdout",
     "output_type": "stream",
     "text": [
      "Estimator:  12   2018-09-29 19:59:54.411928\n",
      "Estimator:  13   2018-09-29 20:00:28.651094\n",
      "Estimator:  14   2018-09-29 20:01:07.014314\n",
      "Estimator:  15   2018-09-29 20:01:46.615577\n",
      "Estimator:  16   2018-09-29 20:02:28.741745\n",
      "Estimator:  17   2018-09-29 20:03:12.244684\n"
     ]
    },
    {
     "data": {
      "image/png": "[encoded data removed]",
      "text/plain": [
       "<Figure size 432x288 with 1 Axes>"
      ]
     },
     "metadata": {
      "needs_background": "light",
      "tags": []
     },
     "output_type": "display_data"
    }
   ],
   "source": [
    "# Decision Forest using a Random Forest\n",
    "\n",
    "est = range(12, 18)\n",
    "scores = np.zeros((len(est), 3))\n",
    "for idx, a in enumerate(est):\n",
    "    print('Estimator: ', a, ' ', str(datetime.now()))\n",
    "    model = RandomForestClassifier(n_estimators = a, max_features = 'sqrt')\n",
    "    scores[idx, : ] = cross_validate(model, n_splits = 10)\n",
    "\n",
    "plt.plot(est, scores[ : , 1], 'b')\n",
    "plt.fill_between(est, scores[ : , 0], scores[:, 2], alpha = 0.1)\n",
    "plt.legend(('Median', '(40, 60) percentile'))\n",
    "plt.ylabel('Accuracy')\n",
    "plt.xlabel('Number of Neighbors')\n",
    "plt.tight_layout()\n",
    "plt.show()"
   ]
  },
  {
   "cell_type": "code",
   "execution_count": null,
   "metadata": {
    "colab": {},
    "colab_type": "code",
    "id": "fcFBwTZxnKQz"
   },
   "outputs": [],
   "source": [
    "def cross_validate_02(model, n_splits = 10):\n",
    "\n",
    "    Ks = 10\n",
    "    mean_acc = np.zeros((Ks-1))\n",
    "    std_acc = np.zeros((Ks-1))\n",
    "    ConfustionMx = [];\n",
    "    for n in range(1,Ks):\n",
    "\n",
    "        #Train Model and Predict\n",
    "        k_fold = KFold(n_splits = n_splits)\n",
    "        for train, test in k_fold.split(X):\n",
    "            neigh = KNeighborsClassifier(n_neighbors = n).fit(X[train], y[train])\n",
    "            yhat=neigh.predict(X[test])\n",
    "            mean_acc[n-1] = metrics.accuracy_score(y[test], yhat)\n",
    "            std_acc[n-1]=np.std(yhat==y[test])/np.sqrt(yhat.shape[0])\n",
    "\n",
    "    mean_acc\n",
    "    \n",
    "def cross_validate(model, n_splits = 10):\n",
    "    \n",
    "    k_fold = KFold(n_splits = n_splits)\n",
    "    scores = [model.fit(X[train], y[train]).score(X[test], y[test]) for train, test in k_fold.split(X)]\n",
    "    \n",
    "    scores = np.percentile(scores, [40, 50, 60])\n",
    "    return scores\n",
    "\n"
   ]
  },
  {
   "cell_type": "code",
   "execution_count": null,
   "metadata": {
    "colab": {},
    "colab_type": "code",
    "id": "jYUgVu5inKQ2"
   },
   "outputs": [],
   "source": []
  },
  {
   "cell_type": "markdown",
   "metadata": {
    "colab_type": "text",
    "id": "QsKsmcM2nKQ3"
   },
   "source": [
    "# Import and Process FourSquare Data"
   ]
  },
  {
   "cell_type": "code",
   "execution_count": null,
   "metadata": {
    "colab": {},
    "colab_type": "code",
    "id": "tlAFppSWnKQ3"
   },
   "outputs": [],
   "source": [
    "import requests\n",
    "\n",
    "page = requests.get(\"https://foursquare.com/explore?mode=url&near=Chicago%2C%20IL%2C%20United%20States&nearGeoId=72057594042815334&q=Top%20Picks\")\n",
    "\n",
    "from bs4 import BeautifulSoup\n",
    "soup = BeautifulSoup(page.content, 'html.parser')\n",
    "top_venues = soup.find_all('div', class_='venueDetails')"
   ]
  },
  {
   "cell_type": "code",
   "execution_count": null,
   "metadata": {
    "colab": {},
    "colab_type": "code",
    "collapsed": true,
    "id": "XmBdGgNqnKQ5",
    "outputId": "e1074f34-fa95-4e68-f007-b8ce6cd6f26e"
   },
   "outputs": [
    {
     "name": "stdout",
     "output_type": "stream",
     "text": [
      "{'response': {'venue': {'tips': {'groups': [{'name': 'All tips', 'count': 592, 'type': 'others', 'items': [{'text': 'This 24.5-acre park features the work of world-renowned architects, planners, artists and designers.', 'likes': {'groups': [{'count': 111, 'type': 'others', 'items': []}], 'count': 111, 'summary': '111 likes'}, 'id': '4b6796c970c603bbf35291b4', 'lastUpvoteTimestamp': 1536762667, 'todo': {'count': 1}, 'logView': True, 'createdAt': 1265080009, 'disagreeCount': 0, 'url': 'http://millenniumpark.org/', 'type': 'user', 'canonicalUrl': 'https://foursquare.com/item/4b6796c970c603bbf35291b4', 'lang': 'en', 'lastVoteText': 'Upvoted 2 weeks ago', 'user': {'photo': {'prefix': 'https://igx.4sqi.net/img/user/', 'suffix': '/JEBEI3ZWJ53R2G2W.jpg'}, 'gender': 'none', 'firstName': 'Explore Chicago', 'id': '238086', 'type': 'page'}, 'agreeCount': 111}, {'text': 'First planned in 1997 to create new parkland in Grant Park & transform unsightly railroad tracks & parking lots, the Park has evolved into one of the most significant millennium projects in the world.', 'likes': {'groups': [{'count': 72, 'type': 'others', 'items': []}], 'count': 72, 'summary': '72 likes'}, 'agreeCount': 71, 'lastUpvoteTimestamp': 1533400232, 'id': '4bbc9c4c70c603bb8d0897b4', 'todo': {'count': 1}, 'createdAt': 1270651980, 'disagreeCount': 0, 'type': 'user', 'canonicalUrl': 'https://foursquare.com/item/4bbc9c4c70c603bb8d0897b4', 'lang': 'en', 'lastVoteText': 'Upvoted Aug 4', 'user': {'photo': {'prefix': 'https://igx.4sqi.net/img/user/', 'suffix': '/376887-4KMRMDF4C2IGL1QX.png'}, 'gender': 'none', 'firstName': 'HISTORY', 'id': '376887', 'type': 'chain'}, 'logView': True}]}], 'count': 592}, 'colors': {'highlightColor': {'value': -462624, 'photoId': '51b358f1498e6923edc68f88'}, 'highlightTextColor': {'value': -16777216, 'photoId': '51b358f1498e6923edc68f88'}, 'algoVersion': 3}, 'likes': {'groups': [{'count': 4574, 'type': 'others', 'items': []}], 'count': 4574, 'summary': '4574 Likes'}, 'beenHere': {'marked': False, 'lastCheckinExpiredAt': 0, 'count': 0, 'unconfirmedCount': 0}, 'shortUrl': 'http://4sq.com/7Gw5mS', 'location': {'city': 'Chicago', 'lng': -87.62323915831546, 'crossStreet': 'btwn Columbus Dr & Michigan Ave', 'neighborhood': 'The Loop', 'postalCode': '60601', 'cc': 'US', 'formattedAddress': ['201 E Randolph St (btwn Columbus Dr & Michigan Ave)', 'Chicago, IL 60601', 'United States'], 'state': 'IL', 'address': '201 E Randolph St', 'lat': 41.8826616030636, 'country': 'United States'}, 'name': 'Millennium Park', 'pageUpdates': {'count': 0, 'items': []}, 'reasons': {'count': 1, 'items': [{'summary': 'Lots of people like this place', 'reasonName': 'rawLikesReason', 'type': 'general'}]}, 'ratingSignals': 5153, 'categories': [{'pluralName': 'Parks', 'id': '4bf58dd8d48988d163941735', 'name': 'Park', 'primary': True, 'icon': {'prefix': 'https://ss3.4sqi.net/img/categories_v2/parks_outdoors/park_', 'suffix': '.png'}, 'shortName': 'Park'}], 'id': '42b75880f964a52090251fe3', 'canonicalUrl': 'https://foursquare.com/v/millennium-park/42b75880f964a52090251fe3', 'hereNow': {'groups': [], 'count': 0, 'summary': 'Nobody here'}, 'bestPhoto': {'visibility': 'public', 'suffix': '/376427_cOkaAXDjACgeIKaTEQNzOHREkd_eUvZ4HugfgthNsUs.jpg', 'id': '51b358f1498e6923edc68f88', 'width': 720, 'height': 960, 'prefix': 'https://igx.4sqi.net/img/general/', 'createdAt': 1370708209, 'source': {'name': 'Foursquare for iOS', 'url': 'https://foursquare.com/download/#/iphone'}}, 'specials': {'count': 0, 'items': []}, 'inbox': {'count': 0, 'items': []}, 'stats': {'tipCount': 592}, 'listed': {'groups': [{'name': 'Lists from other people', 'count': 1392, 'type': 'others', 'items': [{'photo': {'visibility': 'public', 'suffix': '/0lWtmARmPzvmqeVNiWc6In1RzZV_V-GsdBpK5M5KD5o.jpg', 'id': '4fee1cdfe4b01127cb78577a', 'width': 540, 'height': 720, 'prefix': 'https://igx.4sqi.net/img/general/', 'createdAt': 1341005023, 'user': {'lastName': 'M.', 'gender': 'female', 'photo': {'prefix': 'https://igx.4sqi.net/img/user/', 'suffix': '/UPZ0P0JWIMXQL1SA.jpg'}, 'firstName': 'Rebecca', 'id': '859676'}}, 'guide': True, 'description': 'Whether your speed is hiking, bird-watching, strolling, or picnicking, America is full of amazing natural sites. These are the top-rated outdoor spots in each state.', 'updatedAt': 1467869575, 'type': 'others', 'followers': {'count': 325}, 'public': True, 'listItems': {'count': 51, 'items': [{'photo': {'visibility': 'public', 'suffix': '/37506386_Iz6RBwmpJ3cimf6pb25_Tcg4HxPW9symY_B-j__4WTk.jpg', 'id': '51bdeca3498eecfedf3e6dca', 'width': 960, 'height': 720, 'prefix': 'https://igx.4sqi.net/img/general/', 'createdAt': 1371401379, 'user': {'lastName': 'Hsu', 'gender': 'male', 'photo': {'prefix': 'https://igx.4sqi.net/img/user/', 'suffix': '/37506386-VVKPJHNY2WHRNCN0.jpg'}, 'firstName': 'Andy', 'id': '37506386'}}, 'createdAt': 1456773271, 'id': 't562ab5af498ecb6c190b2e92'}]}, 'createdAt': 1456761884, 'name': 'Birds, Mountains, and Lakes, Oh My!', 'logView': True, 'url': '/foursquare/list/birds-mountains-and-lakes-oh-my', 'editable': False, 'id': '56d46c1c498e57e803547fa8', 'canonicalUrl': 'https://foursquare.com/foursquare/list/birds-mountains-and-lakes-oh-my', 'collaborative': False, 'guideType': 'bestOf', 'user': {'photo': {'prefix': 'https://igx.4sqi.net/img/user/', 'suffix': '/23438729-TODURDIUDUMY4JF5.png'}, 'gender': 'none', 'firstName': 'Foursquare City Guide', 'id': '23438729', 'type': 'page'}}, {'photo': {'visibility': 'public', 'suffix': '/VYK3VDNZ0ZZAUGBXRZ3CWFGTYR11AO5UOXMOCK5ZLEFYJX0T.jpg', 'id': '4e4a84b0aeb7de71b3974715', 'width': 637, 'height': 356, 'prefix': 'https://igx.4sqi.net/img/general/', 'createdAt': 1313506480, 'user': {'photo': {'prefix': 'https://igx.4sqi.net/img/user/', 'suffix': '/3385062-RLCEQWYUJQMEDRWU.jpg'}, 'gender': 'female', 'firstName': 'Ana', 'id': '3385062'}}, 'followers': {'count': 548}, 'description': '3 Day Chicago Itinerary: http://www.chicagologue.com/itinerary-three-days-in-chicago.html', 'updatedAt': 1438931854, 'id': '4e4c99bba809b3dab3ad32ce', 'public': True, 'listItems': {'count': 20, 'items': [{'photo': {'visibility': 'public', 'suffix': '/VYK3VDNZ0ZZAUGBXRZ3CWFGTYR11AO5UOXMOCK5ZLEFYJX0T.jpg', 'id': '4e4a84b0aeb7de71b3974715', 'width': 637, 'height': 356, 'prefix': 'https://igx.4sqi.net/img/general/', 'createdAt': 1313506480, 'user': {'photo': {'prefix': 'https://igx.4sqi.net/img/user/', 'suffix': '/3385062-RLCEQWYUJQMEDRWU.jpg'}, 'gender': 'female', 'firstName': 'Ana', 'id': '3385062'}}, 'createdAt': 1313642939, 'id': 't4bbc9c4c70c603bb8d0897b4'}]}, 'createdAt': 1313642939, 'entities': [{'object': {'url': 'http://www.chicagologue.com/itinerary-three-days-in-chicago.html'}, 'indices': [25, 89], 'type': 'url'}], 'name': 'Must-see Chicago: The Classics', 'logView': True, 'url': '/p/whygo-travel/12684139/list/mustsee-chicago-the-classics', 'editable': False, 'type': 'others', 'canonicalUrl': 'https://foursquare.com/p/whygo-travel/12684139/list/mustsee-chicago-the-classics', 'collaborative': False, 'user': {'photo': {'prefix': 'https://igx.4sqi.net/img/user/', 'suffix': '/FAD024S143ZOZA0N.jpg'}, 'gender': 'none', 'firstName': 'WhyGo Travel', 'id': '12684139', 'type': 'page'}}, {'photo': {'visibility': 'public', 'suffix': '/23ABKCP0U1X4LOB53POJHL1ZFCRTE13EGQJR51CQR0SESG03.jpg', 'id': '4e62ed7b7d8b854089e3da07', 'width': 720, 'height': 537, 'prefix': 'https://igx.4sqi.net/img/general/', 'createdAt': 1315106171, 'user': {'photo': {'prefix': 'https://igx.4sqi.net/img/user/', 'suffix': '/7789410_BLGXKFEb_97UQQtPg5_c7nolKeHLD3eLrbvr2p3XpizTB069EXf-Gw9VBzn1jZZworReVtH7N.jpg'}, 'gender': 'female', 'firstName': 'Maureen', 'id': '7789410'}}, 'followers': {'count': 233}, 'description': 'A pocket guide to the best little coffee shops, bars, galleries, bookstores, parks, theaters, eateries and more in the Chicago area.', 'updatedAt': 1529335797, 'type': 'others', 'public': True, 'listItems': {'count': 97, 'items': [{'photo': {'visibility': 'public', 'suffix': '/VcbgdvxdKokyAsqXOQcbjV3ljyw1hIXtgZlfRrVj518.jpg', 'id': '4fdcf705e4b01dfebfa7ec93', 'width': 612, 'height': 612, 'prefix': 'https://igx.4sqi.net/img/general/', 'createdAt': 1339881221, 'user': {'lastName': 'Kainth', 'gender': 'male', 'photo': {'prefix': 'https://igx.4sqi.net/img/user/', 'suffix': '/16321436-TSVDLI0RTOMYH4O5.jpg'}, 'firstName': 'Devender', 'id': '16321436'}}, 'createdAt': 1340154266, 'id': 'v42b75880f964a52090251fe3'}]}, 'createdAt': 1316272193, 'name': 'Chicago Favorites', 'url': '/user/7789410/list/chicago-favorites', 'editable': False, 'id': '4e74b841cc3fc1186ea6bbc0', 'canonicalUrl': 'https://foursquare.com/user/7789410/list/chicago-favorites', 'collaborative': False, 'user': {'photo': {'prefix': 'https://igx.4sqi.net/img/user/', 'suffix': '/7789410_BLGXKFEb_97UQQtPg5_c7nolKeHLD3eLrbvr2p3XpizTB069EXf-Gw9VBzn1jZZworReVtH7N.jpg'}, 'gender': 'female', 'firstName': 'Maureen', 'id': '7789410'}}, {'photo': {'visibility': 'public', 'suffix': '/FtyHiKTPHyq3xPZkmfpm2U11GbjVEMTD9VqTSmSZ0pA.jpg', 'id': '4fbd2b78e4b05c99c4639859', 'width': 612, 'height': 612, 'prefix': 'https://igx.4sqi.net/img/general/', 'createdAt': 1337797496, 'user': {'lastName': 'Pridgen', 'gender': 'male', 'photo': {'prefix': 'https://igx.4sqi.net/img/user/', 'suffix': '/3797977-S0E55AI3HKKMTTWJ.jpg'}, 'firstName': 'Shawn', 'id': '3797977'}}, 'followers': {'count': 2283}, 'description': 'For our 100th Foursquare list, we compiled a list of 100 picks (some instantly recognizable, some not so much) of our favorite restaurants, bars, theaters, thrift stores, and shops in the city. Enjoy!', 'updatedAt': 1438931858, 'type': 'others', 'public': True, 'listItems': {'count': 100, 'items': [{'photo': {'visibility': 'public', 'suffix': '/FtyHiKTPHyq3xPZkmfpm2U11GbjVEMTD9VqTSmSZ0pA.jpg', 'id': '4fbd2b78e4b05c99c4639859', 'width': 612, 'height': 612, 'prefix': 'https://igx.4sqi.net/img/general/', 'createdAt': 1337797496, 'user': {'lastName': 'Pridgen', 'gender': 'male', 'photo': {'prefix': 'https://igx.4sqi.net/img/user/', 'suffix': '/3797977-S0E55AI3HKKMTTWJ.jpg'}, 'firstName': 'Shawn', 'id': '3797977'}}, 'createdAt': 1337807659, 'id': 't4fccf26fe4b0b7d24369fe5e'}]}, 'createdAt': 1337801386, 'name': '100 Best Places in Chicago: TOC Staff Picks', 'logView': True, 'url': '/timeoutchicago/list/100-best-places-in-chicago-toc-staff-picks', 'editable': False, 'id': '4fbd3aaae4b0caa891610a81', 'canonicalUrl': 'https://foursquare.com/timeoutchicago/list/100-best-places-in-chicago-toc-staff-picks', 'collaborative': False, 'user': {'photo': {'prefix': 'https://igx.4sqi.net/img/user/', 'suffix': '/R2RSEQ533D211UR0.jpg'}, 'gender': 'none', 'firstName': 'Time Out Chicago', 'id': '843848', 'type': 'page'}}]}], 'count': 1392}, 'hours': {'isOpen': False, 'timeframes': [{'days': 'Mon–Sun', 'segments': [], 'includesToday': True, 'open': [{'renderedTime': '6:00 AM–11:00 PM'}]}], 'richStatus': {'text': 'Closed until 6:00 AM', 'entities': []}, 'dayData': [], 'isLocalHoliday': False, 'status': 'Closed until 6:00 AM'}, 'contact': {'formattedPhone': '(312) 742-1168', 'phone': '3127421168', 'facebook': '107993661288', 'twitter': 'millennium_park', 'facebookName': 'Millennium Park'}, 'ratingColor': '00B551', 'dislike': False, 'popular': {'isOpen': False, 'timeframes': [{'days': 'Today', 'segments': [], 'includesToday': True, 'open': [{'renderedTime': 'Noon–7:00 PM'}]}, {'days': 'Thu', 'segments': [], 'open': [{'renderedTime': '11:00 AM–8:00 PM'}]}, {'days': 'Fri', 'segments': [], 'open': [{'renderedTime': '10:00 AM–8:00 PM'}]}, {'days': 'Sat', 'segments': [], 'open': [{'renderedTime': '10:00 AM–9:00 PM'}]}, {'days': 'Sun', 'segments': [], 'open': [{'renderedTime': '10:00 AM–7:00 PM'}]}, {'days': 'Mon', 'segments': [], 'open': [{'renderedTime': '11:00 AM–8:00 PM'}]}, {'days': 'Tue', 'segments': [], 'open': [{'renderedTime': 'Noon–7:00 PM'}]}], 'isLocalHoliday': False}, 'photos': {'groups': [{'name': \"Friends' check-in photos\", 'count': 0, 'type': 'checkin', 'items': []}, {'name': 'Venue photos', 'count': 11257, 'type': 'venue', 'items': [{'visibility': 'public', 'suffix': '/376427_cOkaAXDjACgeIKaTEQNzOHREkd_eUvZ4HugfgthNsUs.jpg', 'id': '51b358f1498e6923edc68f88', 'width': 720, 'height': 960, 'prefix': 'https://igx.4sqi.net/img/general/', 'createdAt': 1370708209, 'user': {'photo': {'prefix': 'https://igx.4sqi.net/img/user/', 'suffix': '/HM1PSG3KXHGRN53H.jpg'}, 'gender': 'female', 'firstName': 'LAXgirl', 'id': '376427'}, 'source': {'name': 'Foursquare for iOS', 'url': 'https://foursquare.com/download/#/iphone'}}, {'visibility': 'public', 'suffix': '/2115677_Recl7iCrflfs4RrwUHO6tSq7ncqzO3HpePlgKe7DwCA.jpg', 'id': '51ae097e498ea61c2b686c4a', 'width': 720, 'height': 720, 'prefix': 'https://igx.4sqi.net/img/general/', 'createdAt': 1370360190, 'user': {'photo': {'prefix': 'https://igx.4sqi.net/img/user/', 'suffix': '/2115677-DSFQHUKDOUW0KIYN.jpg'}, 'gender': 'female', 'firstName': 'Claire S.', 'id': '2115677'}, 'source': {'name': 'Foursquare for iOS', 'url': 'https://foursquare.com/download/#/iphone'}}]}], 'count': 11257, 'summary': '0 photos'}, 'attributes': {'groups': [{'name': 'Wi-Fi', 'count': 1, 'summary': 'Wi-Fi', 'type': 'wifi', 'items': [{'displayName': 'Wi-Fi', 'displayValue': 'Yes'}]}]}, 'rating': 9.7, 'url': 'http://www.millenniumpark.org', 'verified': False, 'timeZone': 'America/Chicago', 'createdAt': 1119312000, 'ok': False}}, 'meta': {'code': 200, 'requestId': '5bb464184c1f672031239dfb'}}\n"
     ]
    },
    {
     "name": "stdout",
     "output_type": "stream",
     "text": [
      "{'response': {'venue': {'tips': {'groups': [{'name': 'All tips', 'count': 118, 'type': 'others', 'items': [{'text': 'Water clears your mind, body and soul', 'likes': {'groups': [{'count': 15, 'type': 'others', 'items': []}], 'count': 15, 'summary': '15 likes'}, 'agreeCount': 15, 'id': '4f6e1e7ce4b06892a02b44a4', 'todo': {'count': 2}, 'createdAt': 1332616828, 'disagreeCount': 0, 'type': 'user', 'canonicalUrl': 'https://foursquare.com/item/4f6e1e7ce4b06892a02b44a4', 'lang': 'en', 'user': {'lastName': 'Crawley', 'gender': 'female', 'photo': {'prefix': 'https://igx.4sqi.net/img/user/', 'suffix': '/41RVDENSK1VUXI1M.jpg'}, 'firstName': 'Dorothy', 'id': '24565590'}, 'logView': True}, {'text': 'This paved, 18-mile path along scenic Lake Shore Drive is often packed with joggers, bike commuters and tourists alike.', 'likes': {'groups': [{'count': 9, 'type': 'others', 'items': [{'lastName': 'Kaya', 'gender': 'male', 'photo': {'prefix': 'https://igx.4sqi.net/img/user/', 'suffix': '/43223275-HVFYMB0XWR0NKV1B.jpg'}, 'firstName': 'Yunus', 'id': '43223275'}, {'lastName': 'Partridge', 'gender': 'male', 'photo': {'prefix': 'https://igx.4sqi.net/img/user/', 'suffix': '/-INMS2AKZNUNUCB3J.jpg'}, 'firstName': 'AyPee - Arthur', 'id': '3023764'}, {'lastName': 'Meyer', 'gender': 'female', 'photo': {'prefix': 'https://igx.4sqi.net/img/user/', 'suffix': '/5808421-MNQ0RQ3KW5VSAP5W.jpg'}, 'firstName': 'Sandra', 'id': '5808421'}, {'lastName': 'Jackson', 'gender': 'male', 'photo': {'prefix': 'https://igx.4sqi.net/img/user/', 'suffix': '/K0KVCJLRQ5MHMPQL.jpg'}, 'firstName': 'Tim', 'id': '1029107'}]}], 'count': 9, 'summary': '9 likes'}, 'id': '51efe8cf498e838bd2216f85', 'todo': {'count': 1}, 'logView': True, 'createdAt': 1374677199, 'disagreeCount': 0, 'url': 'http://www.usatoday.com/story/travel/destinations/2013/07/23/best-urban-bike-paths-across-the-usa/2576801/?csp=4sq', 'type': 'user', 'canonicalUrl': 'https://foursquare.com/item/51efe8cf498e838bd2216f85', 'lang': 'en', 'user': {'photo': {'prefix': 'https://igx.4sqi.net/img/user/', 'suffix': '/FWDMMXI2YUZUJMZD.png'}, 'gender': 'none', 'firstName': 'USA TODAY', 'id': '1737342', 'type': 'page'}, 'agreeCount': 9}]}], 'count': 118}, 'likes': {'groups': [{'count': 861, 'type': 'others', 'items': []}], 'count': 861, 'summary': '861 Likes'}, 'beenHere': {'marked': False, 'lastCheckinExpiredAt': 0, 'count': 0, 'unconfirmedCount': 0}, 'shortUrl': 'http://4sq.com/dooWmf', 'location': {'labeledLatLngs': [{'label': 'display', 'lng': -87.6469087600708, 'lat': 41.967052938918144}], 'city': 'Chicago', 'lng': -87.6469087600708, 'crossStreet': 'at N Lakeshore Dr', 'postalCode': '60611', 'cc': 'US', 'formattedAddress': ['Lake Michigan Lakefront (at N Lakeshore Dr)', 'Chicago, IL 60611', 'United States'], 'state': 'IL', 'address': 'Lake Michigan Lakefront', 'lat': 41.967052938918144, 'country': 'United States'}, 'name': 'Chicago Lakefront Trail', 'pageUpdates': {'count': 0, 'items': []}, 'reasons': {'count': 1, 'items': [{'summary': 'Lots of people like this place', 'reasonName': 'rawLikesReason', 'type': 'general'}]}, 'ratingSignals': 973, 'categories': [{'pluralName': 'Trails', 'id': '4bf58dd8d48988d159941735', 'name': 'Trail', 'primary': True, 'icon': {'prefix': 'https://ss3.4sqi.net/img/categories_v2/parks_outdoors/hikingtrail_', 'suffix': '.png'}, 'shortName': 'Trail'}, {'name': 'Waterfront', 'pluralName': 'Waterfronts', 'icon': {'prefix': 'https://ss3.4sqi.net/img/categories_v2/parks_outdoors/river_', 'suffix': '.png'}, 'id': '56aa371be4b08b9a8d5734c3', 'shortName': 'Waterfront'}], 'id': '4b9511c7f964a520f38d34e3', 'canonicalUrl': 'https://foursquare.com/v/chicago-lakefront-trail/4b9511c7f964a520f38d34e3', 'hereNow': {'groups': [], 'count': 0, 'summary': 'Nobody here'}, 'bestPhoto': {'visibility': 'public', 'suffix': '/jNMgu2PFpJHLqintV5UCT0_lBeHyxBuwR6dBzfx5wbc.jpg', 'id': '502b98a0e4b055c33f702d5f', 'width': 537, 'height': 720, 'prefix': 'https://igx.4sqi.net/img/general/', 'createdAt': 1345034400, 'source': {'name': 'Foursquare for iOS', 'url': 'https://foursquare.com/download/#/iphone'}}, 'specials': {'count': 0, 'items': []}, 'inbox': {'count': 0, 'items': []}, 'stats': {'tipCount': 118}, 'listed': {'groups': [{'name': 'Lists from other people', 'count': 388, 'type': 'others', 'items': [{'photo': {'visibility': 'public', 'suffix': '/OQl84zfdu237cM93e8q9rOrz5hcKL3GZoTn3TWerIs0.jpg', 'id': '4feb8919582f83fe3bb51310', 'width': 640, 'height': 435, 'prefix': 'https://igx.4sqi.net/img/general/', 'createdAt': 1340836121, 'user': {'photo': {'prefix': 'https://igx.4sqi.net/img/user/', 'suffix': '/5MAOXRUQ4K5CM0JV.jpg'}, 'gender': 'none', 'firstName': 'U.S. Environmental Protection Agency', 'id': '28238351', 'type': 'chain'}}, 'followers': {'count': 82}, 'description': 'This is a list of some of the locations photographed by Documerica photographers from 1972 to 1977.', 'updatedAt': 1394531196, 'type': 'others', 'public': True, 'listItems': {'count': 200, 'items': [{'photo': {'visibility': 'public', 'suffix': '/28238351_T3qEYidDeioOdGVMonx876wd17MVQP3RtD4FH90DqF4.png', 'id': '51817ea245b08b7a227290ed', 'width': 983, 'height': 500, 'prefix': 'https://igx.4sqi.net/img/general/', 'createdAt': 1367441058, 'user': {'photo': {'prefix': 'https://igx.4sqi.net/img/user/', 'suffix': '/5MAOXRUQ4K5CM0JV.jpg'}, 'gender': 'none', 'firstName': 'U.S. Environmental Protection Agency', 'id': '28238351', 'type': 'chain'}}, 'createdAt': 1367441066, 'id': 't51817ea1498e1752eaa67f8c'}]}, 'createdAt': 1341330450, 'name': 'Documerica', 'logView': True, 'url': '/epagov/list/documerica', 'editable': False, 'id': '4ff31412e4b055f8c3e0a2b8', 'canonicalUrl': 'https://foursquare.com/epagov/list/documerica', 'collaborative': False, 'user': {'photo': {'prefix': 'https://igx.4sqi.net/img/user/', 'suffix': '/5MAOXRUQ4K5CM0JV.jpg'}, 'gender': 'none', 'firstName': 'U.S. Environmental Protection Agency', 'id': '28238351', 'type': 'chain'}}, {'photo': {'visibility': 'public', 'suffix': '/292128_9WnQjjEXERVGJ1at4xPU2mE7xYEjS84VIydscK1K698.jpg', 'id': '51b3b9cd498ec6323a1f3345', 'width': 612, 'height': 612, 'prefix': 'https://igx.4sqi.net/img/general/', 'createdAt': 1370733005, 'user': {'lastName': 'Eckert', 'gender': 'male', 'photo': {'prefix': 'https://igx.4sqi.net/img/user/', 'suffix': '/BKQOPS25FSDHI0TN.jpg'}, 'firstName': 'Johannes', 'id': '292128'}}, 'followers': {'count': 69}, 'description': 'Get away from the smog and the honking cars and take a ride on some of the best urban bike paths in the U.S.', 'updatedAt': 1398724447, 'type': 'others', 'public': True, 'listItems': {'count': 10, 'items': [{'photo': {'visibility': 'public', 'suffix': '/47795843_5RwJguUn7d8E6vvKhkoVgazcv0BBGdjfIf2IzhyodSk.jpg', 'id': '51e19971498e6768a31b93fc', 'width': 720, 'height': 960, 'prefix': 'https://igx.4sqi.net/img/general/', 'createdAt': 1373739377, 'user': {'photo': {'prefix': 'https://igx.4sqi.net/img/user/', 'suffix': '/47795843-BZVNXO0RVXKHC52K.jpg'}, 'gender': 'female', 'firstName': 'Judy', 'id': '47795843'}}, 'createdAt': 1374677175, 'id': 't51efe8cf498e838bd2216f85'}]}, 'createdAt': 1374675001, 'name': 'Top urban bike paths in the U.S.', 'logView': True, 'url': '/p/usa-today/1737342/list/top-urban-bike-paths-in-the-us', 'editable': False, 'id': '51efe039498e7090ed7841a9', 'canonicalUrl': 'https://foursquare.com/p/usa-today/1737342/list/top-urban-bike-paths-in-the-us', 'collaborative': False, 'user': {'photo': {'prefix': 'https://igx.4sqi.net/img/user/', 'suffix': '/FWDMMXI2YUZUJMZD.png'}, 'gender': 'none', 'firstName': 'USA TODAY', 'id': '1737342', 'type': 'page'}}, {'photo': {'visibility': 'public', 'suffix': '/1VZrm24axgJxG4q55u6VhhRDdtVhsKt2SR6c4SDvjbM.jpg', 'id': '4f381f8ce4b099ca95238ebf', 'width': 640, 'height': 480, 'prefix': 'https://igx.4sqi.net/img/general/', 'createdAt': 1329078156, 'user': {'photo': {'prefix': 'https://igx.4sqi.net/img/user/', 'suffix': '/UMKQ0LTUEAPPNWH5.jpg'}, 'gender': 'none', 'firstName': 'Adrienne', 'id': '20103654'}}, 'followers': {'count': 57}, 'description': '', 'updatedAt': 1519585151, 'type': 'others', 'public': True, 'listItems': {'count': 92, 'items': [{'photo': {'visibility': 'public', 'suffix': '/7IWrz0O5nKY5uW8GOZSWg8Wi0oLW82zfhqoKxdOeR-Y.jpg', 'id': '50462bcee4b03093e9630893', 'width': 612, 'height': 612, 'prefix': 'https://igx.4sqi.net/img/general/', 'createdAt': 1346776014, 'user': {'lastName': \"O'Malley\", 'gender': 'female', 'photo': {'prefix': 'https://igx.4sqi.net/img/user/', 'suffix': '/DBGEGT30CSJV0GFD.jpg'}, 'firstName': 'Lauren', 'id': '19416931'}}, 'createdAt': 1354481151, 'id': 'v4b9511c7f964a520f38d34e3'}]}, 'createdAt': 1329401122, 'name': 'Traveling Chicago', 'url': '/mauricio2099/list/traveling-chicago', 'editable': False, 'id': '4f3d0d22e4b0e60290deea61', 'canonicalUrl': 'https://foursquare.com/mauricio2099/list/traveling-chicago', 'collaborative': False, 'user': {'lastName': 'De la Torre', 'gender': 'male', 'photo': {'prefix': 'https://igx.4sqi.net/img/user/', 'suffix': '/4298308-VTEUEFHQD3AQKBCK.jpg'}, 'firstName': 'Mauricio', 'id': '4298308'}}, {'followers': {'count': 166}, 'description': 'My favorite restaurants, venues, bars, clubs, museums, parks, etc in CHITOWN!', 'updatedAt': 1438931857, 'type': 'others', 'public': True, 'listItems': {'count': 200, 'items': [{'createdAt': 1329457679, 'id': 'v4b9511c7f964a520f38d34e3'}]}, 'createdAt': 1329456390, 'name': 'Chicago 101', 'url': '/njm123niu/list/chicago-101', 'editable': False, 'id': '4f3de506e4b0eebf12a6ec57', 'canonicalUrl': 'https://foursquare.com/njm123niu/list/chicago-101', 'collaborative': False, 'user': {'lastName': 'Mahoney', 'gender': 'male', 'photo': {'prefix': 'https://igx.4sqi.net/img/user/', 'suffix': '/NEIPBQNWSCVI53RR.jpg'}, 'firstName': 'Neal', 'id': '4254096'}}]}], 'count': 388}, 'colors': {'highlightColor': {'value': -7290680, 'photoId': '502b98a0e4b055c33f702d5f'}, 'highlightTextColor': {'value': -16777216, 'photoId': '502b98a0e4b055c33f702d5f'}, 'algoVersion': 3}, 'contact': {}, 'ratingColor': '00B551', 'dislike': False, 'popular': {'isOpen': False, 'timeframes': [{'days': 'Today', 'segments': [], 'includesToday': True, 'open': [{'renderedTime': '7:00 AM–8:00 AM'}, {'renderedTime': '4:00 PM–9:00 PM'}]}, {'days': 'Thu', 'segments': [], 'open': [{'renderedTime': '4:00 PM–8:00 PM'}]}, {'days': 'Fri', 'segments': [], 'open': [{'renderedTime': '7:00 AM–8:00 AM'}, {'renderedTime': '1:00 PM–8:00 PM'}]}, {'days': 'Sat', 'segments': [], 'open': [{'renderedTime': '7:00 AM–7:00 PM'}]}, {'days': 'Sun', 'segments': [], 'open': [{'renderedTime': '8:00 AM–8:00 PM'}]}, {'days': 'Mon', 'segments': [], 'open': [{'renderedTime': '8:00 AM–9:00 AM'}, {'renderedTime': '4:00 PM–9:00 PM'}]}, {'days': 'Tue', 'segments': [], 'open': [{'renderedTime': '7:00 AM–9:00 AM'}, {'renderedTime': '5:00 PM–9:00 PM'}]}], 'isLocalHoliday': False}, 'photos': {'groups': [{'name': \"Friends' check-in photos\", 'count': 0, 'type': 'checkin', 'items': []}, {'name': 'Venue photos', 'count': 2086, 'type': 'venue', 'items': [{'visibility': 'public', 'suffix': '/jNMgu2PFpJHLqintV5UCT0_lBeHyxBuwR6dBzfx5wbc.jpg', 'id': '502b98a0e4b055c33f702d5f', 'width': 537, 'height': 720, 'prefix': 'https://igx.4sqi.net/img/general/', 'createdAt': 1345034400, 'user': {'lastName': 'Anderson', 'gender': 'female', 'photo': {'prefix': 'https://igx.4sqi.net/img/user/', 'suffix': '/5831176-1ZCKXCL4TKJFXJPV.jpg'}, 'firstName': 'Brittney', 'id': '5831176'}, 'source': {'name': 'Foursquare for iOS', 'url': 'https://foursquare.com/download/#/iphone'}}, {'visibility': 'public', 'suffix': '/eUUHQS1RReI8PJ44P8vvSOMMdBgzbTpsKTRwtemsQK4.jpg', 'id': '4f956bf4e4b01b89911ba036', 'width': 538, 'height': 720, 'prefix': 'https://igx.4sqi.net/img/general/', 'createdAt': 1335192564, 'user': {'lastName': 'C', 'gender': 'male', 'photo': {'prefix': 'https://igx.4sqi.net/img/user/', 'suffix': '/-2ZK0RQFDYHLI1ULM.jpg'}, 'firstName': 'Dan', 'id': '4170073'}, 'source': {'name': 'Foursquare for Android', 'url': 'https://foursquare.com/download/#/android'}}]}], 'count': 2086, 'summary': '0 photos'}, 'attributes': {'groups': []}, 'rating': 9.6, 'verified': False, 'timeZone': 'America/Chicago', 'createdAt': 1268060615, 'ok': False}}, 'meta': {'code': 200, 'requestId': '5bb46419351e3d1aa7b6d39a'}}\n"
     ]
    },
    {
     "name": "stdout",
     "output_type": "stream",
     "text": [
      "{'response': {'venue': {'tips': {'groups': [{'name': 'All tips', 'count': 644, 'type': 'others', 'items': [{'text': 'The collection encompasses more than 5,000 years of human expression from around the world & more than 260,000 pieces. The Modern Wing was opened in 2009 & is the largest expansion in their history.', 'likes': {'groups': [{'count': 50, 'type': 'others', 'items': []}], 'count': 50, 'summary': '50 likes'}, 'agreeCount': 51, 'lastUpvoteTimestamp': 1531162834, 'id': '4bbcb01570c603bbb80a97b4', 'todo': {'count': 199}, 'createdAt': 1270657045, 'disagreeCount': 0, 'type': 'user', 'canonicalUrl': 'https://foursquare.com/item/4bbcb01570c603bbb80a97b4', 'lang': 'en', 'lastVoteText': 'Upvoted Jul 9', 'user': {'photo': {'prefix': 'https://igx.4sqi.net/img/user/', 'suffix': '/376887-4KMRMDF4C2IGL1QX.png'}, 'gender': 'none', 'firstName': 'HISTORY', 'id': '376887', 'type': 'chain'}, 'logView': True}, {'text': 'Spend a few hours wandering around originals by Monet and Van Gogh to appreciate real beauty with someone special. #vday', 'likes': {'groups': [{'count': 42, 'type': 'others', 'items': []}], 'count': 42, 'summary': '42 likes'}, 'agreeCount': 6, 'lastUpvoteTimestamp': 1531162685, 'id': '4b678da270c603bb555291b4', 'todo': {'count': 30}, 'createdAt': 1265077666, 'disagreeCount': 0, 'type': 'user', 'canonicalUrl': 'https://foursquare.com/item/4b678da270c603bb555291b4', 'lang': 'en', 'lastVoteText': 'Upvoted Jul 9', 'user': {'photo': {'prefix': 'https://igx.4sqi.net/img/user/', 'suffix': '/FV0CN5AZOED03GRJ.jpg'}, 'gender': 'none', 'firstName': \"Valentine's Day Movie\", 'id': '338793', 'type': 'page'}, 'logView': True}]}], 'count': 644}, 'colors': {'highlightColor': {'value': -7303032, 'photoId': '51c5eabf498e538e65026cfb'}, 'highlightTextColor': {'value': -16777216, 'photoId': '51c5eabf498e538e65026cfb'}, 'algoVersion': 3}, 'likes': {'groups': [{'count': 3751, 'type': 'others', 'items': []}], 'count': 3751, 'summary': '3751 Likes'}, 'beenHere': {'marked': False, 'lastCheckinExpiredAt': 0, 'count': 0, 'unconfirmedCount': 0}, 'shortUrl': 'http://4sq.com/53isfZ', 'location': {'city': 'Chicago', 'lng': -87.62362960376726, 'crossStreet': 'btwn Monroe St & Jackson Dr', 'neighborhood': 'Grant Park', 'postalCode': '60603', 'cc': 'US', 'formattedAddress': ['111 S Michigan Ave (btwn Monroe St & Jackson Dr)', 'Chicago, IL 60603', 'United States'], 'state': 'IL', 'address': '111 S Michigan Ave', 'lat': 41.87966515625114, 'country': 'United States'}, 'name': 'The Art Institute of Chicago', 'pageUpdates': {'count': 2, 'items': []}, 'reasons': {'count': 1, 'items': [{'summary': 'Lots of people like this place', 'reasonName': 'rawLikesReason', 'type': 'general'}]}, 'ratingSignals': 4339, 'categories': [{'pluralName': 'Art Museums', 'id': '4bf58dd8d48988d18f941735', 'name': 'Art Museum', 'primary': True, 'icon': {'prefix': 'https://ss3.4sqi.net/img/categories_v2/arts_entertainment/museum_art_', 'suffix': '.png'}, 'shortName': 'Art Museum'}], 'menu': {'anchor': 'View Prices', 'label': 'Prices', 'url': 'https://foursquare.com/v/the-art-institute-of-chicago/49e9ef74f964a52011661fe3/menu', 'mobileUrl': 'https://foursquare.com/v/49e9ef74f964a52011661fe3/device_menu', 'type': 'Prices'}, 'id': '49e9ef74f964a52011661fe3', 'canonicalUrl': 'https://foursquare.com/v/the-art-institute-of-chicago/49e9ef74f964a52011661fe3', 'hereNow': {'groups': [], 'count': 0, 'summary': 'Nobody here'}, 'hasMenu': True, 'bestPhoto': {'visibility': 'public', 'suffix': '/149161_eHMuPXA7vRlIvNmhgR1I7LsphuIHm7eFZJ1ML6R9SXk.jpg', 'id': '51c5eabf498e538e65026cfb', 'width': 612, 'height': 612, 'prefix': 'https://igx.4sqi.net/img/general/', 'createdAt': 1371925183, 'source': {'name': 'Instagram', 'url': 'http://instagram.com'}}, 'specials': {'count': 0, 'items': []}, 'inbox': {'count': 0, 'items': []}, 'stats': {'tipCount': 644}, 'listed': {'groups': [{'name': 'Lists from other people', 'count': 2053, 'type': 'others', 'items': [{'photo': {'visibility': 'public', 'suffix': '/5ei4JpVRPj-laeQyMbr5YegOXbQsolnZXpIVeJ7tKaI.jpg', 'id': '4fb2ddcce4b0fb410b79e104', 'width': 540, 'height': 540, 'prefix': 'https://igx.4sqi.net/img/general/', 'createdAt': 1337122252, 'user': {'photo': {'prefix': 'https://igx.4sqi.net/img/user/', 'suffix': '/3XABHPYAFTRQWX2Z.jpg'}, 'gender': 'male', 'firstName': 'Niko', 'id': '27079687'}}, 'followers': {'count': 451}, 'description': 'Best sights, restaurants and historical landmarks not to be missed in Chicago Area. Enjoy!', 'updatedAt': 1467837815, 'type': 'others', 'public': True, 'listItems': {'count': 101, 'items': [{'photo': {'visibility': 'public', 'suffix': '/mQtUdENoHB4iM7WAiRbo83qwRWglxjXxo4kWdti4CxA.jpg', 'id': '4fb430a8e4b06fedad8fe510', 'width': 720, 'height': 537, 'prefix': 'https://igx.4sqi.net/img/general/', 'createdAt': 1337209000, 'user': {'lastName': 'August', 'gender': 'male', 'photo': {'prefix': 'https://igx.4sqi.net/img/user/', 'suffix': '/1896894-LAHZOPFNX1EVM1LA.jpg'}, 'firstName': 'Jim', 'id': '1896894'}}, 'createdAt': 1337336429, 'id': 't4bbcb01570c603bbb80a97b4'}]}, 'createdAt': 1337335926, 'name': '101 places to see in Chicago before you die', 'url': '/boke/list/101-places-to-see-in-chicago-before-you-die', 'editable': False, 'id': '4fb62076e4b0ce16f1869bd2', 'canonicalUrl': 'https://foursquare.com/boke/list/101-places-to-see-in-chicago-before-you-die', 'collaborative': False, 'user': {'lastName': 'Garrido', 'gender': 'male', 'photo': {'prefix': 'https://igx.4sqi.net/img/user/', 'suffix': '/356747-WQOTM2ASOIERONL3.jpg'}, 'firstName': 'Victor', 'id': '356747'}}, {'photo': {'visibility': 'public', 'suffix': '/VYK3VDNZ0ZZAUGBXRZ3CWFGTYR11AO5UOXMOCK5ZLEFYJX0T.jpg', 'id': '4e4a84b0aeb7de71b3974715', 'width': 637, 'height': 356, 'prefix': 'https://igx.4sqi.net/img/general/', 'createdAt': 1313506480, 'user': {'photo': {'prefix': 'https://igx.4sqi.net/img/user/', 'suffix': '/3385062-RLCEQWYUJQMEDRWU.jpg'}, 'gender': 'female', 'firstName': 'Ana', 'id': '3385062'}}, 'followers': {'count': 548}, 'description': '3 Day Chicago Itinerary: http://www.chicagologue.com/itinerary-three-days-in-chicago.html', 'updatedAt': 1438931854, 'id': '4e4c99bba809b3dab3ad32ce', 'public': True, 'listItems': {'count': 20, 'items': [{'photo': {'visibility': 'public', 'suffix': '/0DNDKAOEC32IVJRAFG1LCU5H2LAH2BL1Q4VPJJ00JFZ4YNLP.jpg', 'id': '4e00f49ffd281252aedba185', 'width': 720, 'height': 540, 'prefix': 'https://igx.4sqi.net/img/general/', 'createdAt': 1308685471, 'user': {'lastName': 'Elul', 'gender': 'male', 'photo': {'prefix': 'https://igx.4sqi.net/img/user/', 'suffix': '/TBALZ3USJROU4AR0.jpg'}, 'firstName': 'Ari', 'id': '174296'}}, 'createdAt': 1313642939, 'id': 't4bbcb01570c603bbb80a97b4'}]}, 'createdAt': 1313642939, 'entities': [{'object': {'url': 'http://www.chicagologue.com/itinerary-three-days-in-chicago.html'}, 'indices': [25, 89], 'type': 'url'}], 'name': 'Must-see Chicago: The Classics', 'logView': True, 'url': '/p/whygo-travel/12684139/list/mustsee-chicago-the-classics', 'editable': False, 'type': 'others', 'canonicalUrl': 'https://foursquare.com/p/whygo-travel/12684139/list/mustsee-chicago-the-classics', 'collaborative': False, 'user': {'photo': {'prefix': 'https://igx.4sqi.net/img/user/', 'suffix': '/FAD024S143ZOZA0N.jpg'}, 'gender': 'none', 'firstName': 'WhyGo Travel', 'id': '12684139', 'type': 'page'}}, {'photo': {'visibility': 'public', 'suffix': '/AHZEGWLBEAVZQGDLQTQFLBFPFCMBWRLGS0ILHJJB4B3K3UWX.jpg', 'id': '4e836a137beba8f7b63967a8', 'width': 220, 'height': 220, 'prefix': 'https://igx.4sqi.net/img/general/', 'createdAt': 1317235219, 'user': {'photo': {'prefix': 'https://igx.4sqi.net/img/user/', 'suffix': '/W12HFINBWKQZJ15Z.jpg'}, 'gender': 'none', 'firstName': 'AskMen', 'id': '311503', 'type': 'page'}}, 'followers': {'count': 1551}, 'description': 'For more on what Chicago has to offer, check out the official AskMen Chicago City Guide:\\nhttp://www.askmen.com/chicago/', 'updatedAt': 1354306494, 'id': '4e4ebe0a2271a1bdc3d485af', 'public': True, 'listItems': {'count': 177, 'items': [{'createdAt': 1317313728, 'id': 't4e1375f0814d60ce6606482e'}]}, 'createdAt': 1313783306, 'entities': [{'object': {'url': 'http://www.askmen.com/chicago/'}, 'indices': [89, 119], 'type': 'url'}], 'name': 'Chicago City Guide', 'logView': True, 'url': '/askmen/list/chicago-city-guide', 'editable': False, 'type': 'others', 'canonicalUrl': 'https://foursquare.com/askmen/list/chicago-city-guide', 'collaborative': False, 'user': {'photo': {'prefix': 'https://igx.4sqi.net/img/user/', 'suffix': '/W12HFINBWKQZJ15Z.jpg'}, 'gender': 'none', 'firstName': 'AskMen', 'id': '311503', 'type': 'page'}}, {'photo': {'visibility': 'public', 'suffix': '/FtyHiKTPHyq3xPZkmfpm2U11GbjVEMTD9VqTSmSZ0pA.jpg', 'id': '4fbd2b78e4b05c99c4639859', 'width': 612, 'height': 612, 'prefix': 'https://igx.4sqi.net/img/general/', 'createdAt': 1337797496, 'user': {'lastName': 'Pridgen', 'gender': 'male', 'photo': {'prefix': 'https://igx.4sqi.net/img/user/', 'suffix': '/3797977-S0E55AI3HKKMTTWJ.jpg'}, 'firstName': 'Shawn', 'id': '3797977'}}, 'followers': {'count': 2283}, 'description': 'For our 100th Foursquare list, we compiled a list of 100 picks (some instantly recognizable, some not so much) of our favorite restaurants, bars, theaters, thrift stores, and shops in the city. Enjoy!', 'updatedAt': 1438931858, 'type': 'others', 'public': True, 'listItems': {'count': 100, 'items': [{'photo': {'visibility': 'public', 'suffix': '/09Yl_wCgjo6luWbo1mSeJHp-MnsKRmjCco57jDjZjmk.jpg', 'id': '4fc3e888e4b05e4d30f8943e', 'width': 537, 'height': 720, 'prefix': 'https://igx.4sqi.net/img/general/', 'createdAt': 1338239112, 'user': {'photo': {'prefix': 'https://igx.4sqi.net/img/user/', 'suffix': '/11420978-JSZVLUOILO4HDI4M.jpg'}, 'gender': 'male', 'firstName': 'Riley', 'id': '11420978'}}, 'createdAt': 1338310805, 'id': 't4fccf4e6e4b05a5ebd334284'}]}, 'createdAt': 1337801386, 'name': '100 Best Places in Chicago: TOC Staff Picks', 'logView': True, 'url': '/timeoutchicago/list/100-best-places-in-chicago-toc-staff-picks', 'editable': False, 'id': '4fbd3aaae4b0caa891610a81', 'canonicalUrl': 'https://foursquare.com/timeoutchicago/list/100-best-places-in-chicago-toc-staff-picks', 'collaborative': False, 'user': {'photo': {'prefix': 'https://igx.4sqi.net/img/user/', 'suffix': '/R2RSEQ533D211UR0.jpg'}, 'gender': 'none', 'firstName': 'Time Out Chicago', 'id': '843848', 'type': 'page'}}]}], 'count': 2053}, 'page': {'user': {'photo': {'prefix': 'https://igx.4sqi.net/img/user/', 'suffix': '/81788905-ONYMEH21G5U02R00.png'}, 'tips': {'count': 0}, 'venue': {'id': '49e9ef74f964a52011661fe3'}, 'homeCity': 'Chicago, IL', 'firstName': 'The Art Institute of Chicago', 'id': '81788905', 'type': 'venuePage', 'contact': {}, 'gender': 'none', 'lists': {'groups': [{'count': 2, 'type': 'created', 'items': []}]}, 'bio': ''}}, 'contact': {'twitter': 'artinstitutechi', 'facebookUsername': 'artic', 'formattedPhone': '(312) 443-3600', 'phone': '3124433600', 'instagram': 'artinstitutechi', 'facebook': '17179183149', 'facebookName': 'The Art Institute of Chicago'}, 'ratingColor': '00B551', 'hours': {'isOpen': False, 'timeframes': [{'days': 'Mon–Wed, Fri–Sun', 'segments': [], 'includesToday': True, 'open': [{'renderedTime': '10:30 AM–5:00 PM'}]}, {'days': 'Thu', 'segments': [], 'open': [{'renderedTime': '10:30 AM–8:00 PM'}]}], 'richStatus': {'text': 'Closed until 10:30 AM', 'entities': []}, 'dayData': [], 'isLocalHoliday': False, 'status': 'Closed until 10:30 AM'}, 'dislike': False, 'popular': {'isOpen': False, 'timeframes': [{'days': 'Today', 'segments': [], 'includesToday': True, 'open': [{'renderedTime': '10:00 AM–5:00 PM'}]}, {'days': 'Thu', 'segments': [], 'open': [{'renderedTime': '10:00 AM–8:00 PM'}]}, {'days': 'Fri–Sun', 'segments': [], 'open': [{'renderedTime': '10:00 AM–5:00 PM'}]}, {'days': 'Mon', 'segments': [], 'open': [{'renderedTime': '10:00 AM–5:00 PM'}]}, {'days': 'Tue', 'segments': [], 'open': [{'renderedTime': '10:00 AM–4:00 PM'}]}], 'isLocalHoliday': False}, 'photos': {'groups': [{'name': \"Friends' check-in photos\", 'count': 0, 'type': 'checkin', 'items': []}, {'name': 'Venue photos', 'count': 6376, 'type': 'venue', 'items': [{'visibility': 'public', 'suffix': '/149161_eHMuPXA7vRlIvNmhgR1I7LsphuIHm7eFZJ1ML6R9SXk.jpg', 'id': '51c5eabf498e538e65026cfb', 'width': 612, 'height': 612, 'prefix': 'https://igx.4sqi.net/img/general/', 'createdAt': 1371925183, 'user': {'lastName': 'SVOBODA', 'gender': 'male', 'photo': {'prefix': 'https://igx.4sqi.net/img/user/', 'suffix': '/149161-XSG2552WKRTYFZ5D.jpg'}, 'firstName': 'Radim', 'id': '149161'}, 'source': {'name': 'Instagram', 'url': 'http://instagram.com'}}, {'visibility': 'public', 'suffix': '/38312703_mS9nOjLqb43332QmbOoxt5lhEjBsF4_1JtihHYqZFtI.jpg', 'id': '51b4f6a8498e71ddf540d8fc', 'width': 612, 'height': 612, 'prefix': 'https://igx.4sqi.net/img/general/', 'createdAt': 1370814120, 'user': {'lastName': 'Forker', 'gender': 'male', 'photo': {'prefix': 'https://igx.4sqi.net/img/user/', 'suffix': '/blank_boy.png', 'default': True}, 'firstName': 'Nicholas', 'id': '38312703'}, 'source': {'name': 'Instagram', 'url': 'http://instagram.com'}}]}], 'count': 6376, 'summary': '0 photos'}, 'attributes': {'groups': [{'name': 'Credit Cards', 'count': 7, 'summary': 'Credit Cards', 'type': 'payments', 'items': [{'displayName': 'Credit Cards', 'displayValue': 'Yes (incl. American Express)'}]}, {'name': 'Wi-Fi', 'count': 1, 'summary': 'Wi-Fi', 'type': 'wifi', 'items': [{'displayName': 'Wi-Fi', 'displayValue': 'Yes'}]}]}, 'rating': 9.6, 'venuePage': {'id': '81788905'}, 'url': 'http://www.artinstituteofchicago.org', 'verified': True, 'timeZone': 'America/Chicago', 'createdAt': 1240067956, 'ok': False, 'allowMenuUrlEdit': True}}, 'meta': {'code': 200, 'requestId': '5bb46419dd57977e1aaff3cf'}}\n"
     ]
    },
    {
     "name": "stdout",
     "output_type": "stream",
     "text": [
      "{'response': {'venue': {'tips': {'groups': [{'name': 'All tips', 'count': 124, 'type': 'others', 'items': [{'text': 'The arctic char tartine at Publican Quality Meats is one of the 100 best things we ate this year. http://tmout.us/rLOtk', 'likes': {'groups': [{'count': 3, 'type': 'others', 'items': [{'lastName': 'Johnson', 'gender': 'none', 'photo': {'prefix': 'https://igx.4sqi.net/img/user/', 'suffix': '/blank_boy.png', 'default': True}, 'firstName': 'Nedra', 'id': '76104736'}, {'lastName': 'MiqaaEL', 'gender': 'male', 'photo': {'prefix': 'https://igx.4sqi.net/img/user/', 'suffix': '/56251635-NOKFOMSPJG4FIEJ3.jpg'}, 'firstName': 'Nanya', 'id': '56251635'}, {'lastName': 'Покорский', 'gender': 'male', 'photo': {'prefix': 'https://igx.4sqi.net/img/user/', 'suffix': '/1RXRD0OFHTW4MRG0.jpg'}, 'firstName': 'Олег', 'id': '45996679'}]}], 'count': 3, 'summary': '3 likes'}, 'id': '52b4b776498e8b98977664a4', 'todo': {'count': 2}, 'createdAt': 1387575158, 'entities': [{'object': {'url': 'http://tmout.us/rLOtk'}, 'indices': [98, 119], 'type': 'url'}], 'logView': True, 'url': 'http://tmout.us/rLOtk', 'type': 'user', 'canonicalUrl': 'https://foursquare.com/item/52b4b776498e8b98977664a4', 'lang': 'en', 'disagreeCount': 0, 'user': {'photo': {'prefix': 'https://igx.4sqi.net/img/user/', 'suffix': '/R2RSEQ533D211UR0.jpg'}, 'gender': 'none', 'firstName': 'Time Out Chicago', 'id': '843848', 'type': 'page'}, 'agreeCount': 3}, {'photo': {'visibility': 'public', 'suffix': '/73heuvIPgKBj7pttfVpEFNZijYO-XrLfg5sWbYbqPLo.jpg', 'id': '5038013bc84c215ec214bfa4', 'width': 1500, 'height': 1125, 'prefix': 'https://igx.4sqi.net/img/general/', 'createdAt': 1345847611, 'source': {'name': 'Foursquare Web', 'url': 'https://foursquare.com'}}, 'text': 'The delicious pork belly sandwich, topped with shaved apple, watercress, purple onions, yogurt and fresh mint, challenges you to find a better lunch in Chicago.', 'likes': {'groups': [{'count': 3, 'type': 'others', 'items': [{'lastName': 'taylor', 'gender': 'female', 'photo': {'prefix': 'https://igx.4sqi.net/img/user/', 'suffix': '/29731255_Jzz2raHY_lbzjphL1k4hk0qlrFQIy3jwO5lC6_Iq8cgNDLEWRes3m2mxwELw48fWFNnIzrB0_.jpg'}, 'firstName': 'Joanne', 'id': '29731255'}, {'lastName': 'M', 'gender': 'female', 'photo': {'prefix': 'https://igx.4sqi.net/img/user/', 'suffix': '/ZPM2W4Y04Y0QMXK0.jpg'}, 'firstName': 'Erinn', 'id': '2247914'}]}], 'count': 3, 'summary': '3 likes'}, 'agreeCount': 3, 'photourl': 'https://igx.4sqi.net/img/general/original/73heuvIPgKBj7pttfVpEFNZijYO-XrLfg5sWbYbqPLo.jpg', 'id': '50380139e4b0b68ee3e7280e', 'todo': {'count': 0}, 'createdAt': 1345847609, 'logView': True, 'type': 'user', 'canonicalUrl': 'https://foursquare.com/item/50380139e4b0b68ee3e7280e', 'lang': 'en', 'disagreeCount': 0, 'user': {'photo': {'prefix': 'https://igx.4sqi.net/img/user/', 'suffix': '/RJFDJ5CYEA0O5PRT.jpg'}, 'gender': 'none', 'firstName': 'Renaissance Hotels', 'id': '25347605', 'type': 'chain'}}]}], 'count': 124}, 'colors': {'highlightColor': {'value': -12566512, 'photoId': '4f42dee7e4b0a2bdc6c55b06'}, 'highlightTextColor': {'value': -1, 'photoId': '4f42dee7e4b0a2bdc6c55b06'}, 'algoVersion': 3}, 'likes': {'groups': [{'count': 387, 'type': 'others', 'items': []}], 'count': 387, 'summary': '387 Likes'}, 'beenHere': {'marked': False, 'lastCheckinExpiredAt': 0, 'count': 0, 'unconfirmedCount': 0}, 'shortUrl': 'http://4sq.com/yIxAmW', 'location': {'labeledLatLngs': [{'label': 'display', 'lng': -87.64871823183745, 'lat': 41.886641964097095}], 'city': 'Chicago', 'lng': -87.64871823183745, 'crossStreet': 'at Green', 'postalCode': '60607', 'cc': 'US', 'formattedAddress': ['825 W Fulton Market (at Green)', 'Chicago, IL 60607', 'United States'], 'state': 'IL', 'address': '825 W Fulton Market', 'lat': 41.886641964097095, 'country': 'United States'}, 'name': 'Publican Quality Meats', 'pageUpdates': {'count': 0, 'items': []}, 'reasons': {'count': 1, 'items': [{'summary': 'Lots of people like this place', 'reasonName': 'rawLikesReason', 'type': 'general'}]}, 'ratingSignals': 491, 'categories': [{'pluralName': 'Delis / Bodegas', 'id': '4bf58dd8d48988d146941735', 'name': 'Deli / Bodega', 'primary': True, 'icon': {'prefix': 'https://ss3.4sqi.net/img/categories_v2/food/deli_', 'suffix': '.png'}, 'shortName': 'Deli / Bodega'}, {'name': 'Butcher', 'pluralName': 'Butchers', 'icon': {'prefix': 'https://ss3.4sqi.net/img/categories_v2/shops/food_butcher_', 'suffix': '.png'}, 'id': '4bf58dd8d48988d11d951735', 'shortName': 'Butcher'}], 'delivery': {'provider': {'name': 'grubhub', 'icon': {'name': '/delivery_provider_grubhub_20180129.png', 'sizes': [40, 50], 'prefix': 'https://igx.4sqi.net/img/general/cap/'}}, 'url': 'https://www.grubhub.com/restaurant/publican-quality-meats-825-w-fulton-market-chicago/758352?affiliate=1131&utm_source=foursquare-affiliate-network&utm_medium=affiliate&utm_campaign=1131&utm_content=758352', 'id': '758352'}, 'menu': {'anchor': 'View Menu', 'label': 'Menu', 'url': 'https://foursquare.com/v/publican-quality-meats/4f2a0d0ae4b0837d0c4c2bc3/menu', 'mobileUrl': 'https://foursquare.com/v/4f2a0d0ae4b0837d0c4c2bc3/device_menu', 'type': 'Menu'}, 'id': '4f2a0d0ae4b0837d0c4c2bc3', 'canonicalUrl': 'https://foursquare.com/v/publican-quality-meats/4f2a0d0ae4b0837d0c4c2bc3', 'hereNow': {'groups': [], 'count': 0, 'summary': 'Nobody here'}, 'hasMenu': True, 'bestPhoto': {'visibility': 'public', 'suffix': '/_A29DWi3VYMvuv9A8-_5jj9mRHqlAeLZYz-aVMCekAM.jpg', 'id': '4f42dee7e4b0a2bdc6c55b06', 'width': 720, 'height': 537, 'prefix': 'https://igx.4sqi.net/img/general/', 'createdAt': 1329782503, 'source': {'name': 'Foursquare for iOS', 'url': 'https://foursquare.com/download/#/iphone'}}, 'price': {'tier': 2, 'message': 'Moderate', 'currency': '$'}, 'inbox': {'count': 0, 'items': []}, 'stats': {'tipCount': 124}, 'listed': {'groups': [{'name': 'Lists from other people', 'count': 740, 'type': 'others', 'items': [{'photo': {'visibility': 'public', 'suffix': '/1VIHhqnzX2Luk4JIjwFFdWbMAVKHDg8IfkObSqs5JjE.jpg', 'id': '4f3988d2e4b02a70e37630ff', 'width': 720, 'height': 540, 'prefix': 'https://igx.4sqi.net/img/general/', 'createdAt': 1329170642, 'user': {'lastName': 'Dilokvivatchai', 'gender': 'female', 'photo': {'prefix': 'https://igx.4sqi.net/img/user/', 'suffix': '/LOZFBI15YXONOEPI.jpg'}, 'firstName': 'zumohub', 'id': '1742215'}}, 'followers': {'count': 159}, 'description': 'Unofficial listing of the LTHForum Great Neighborhood Restaurants. Updated 2018-05-21', 'updatedAt': 1526928021, 'type': 'others', 'public': True, 'listItems': {'count': 165, 'items': [{'createdAt': 1526928021, 'id': 'v4f2a0d0ae4b0837d0c4c2bc3'}]}, 'createdAt': 1314807925, 'name': 'Unofficial LTHForum Great Neighborhood Restaurants', 'url': '/lodasi/list/unofficial-lthforum-great-neighborhood-restaurants', 'editable': False, 'id': '4e5e6075c65bba716697957e', 'canonicalUrl': 'https://foursquare.com/lodasi/list/unofficial-lthforum-great-neighborhood-restaurants', 'collaborative': False, 'user': {'lastName': 'S', 'gender': 'male', 'photo': {'prefix': 'https://igx.4sqi.net/img/user/', 'suffix': '/234301-N5QUQ2PVJBWYNIYO.jpg'}, 'firstName': 'Louis', 'id': '234301'}}, {'photo': {'visibility': 'public', 'suffix': '/03PKOJUA5BZVV0WIFJNZG0G1N0KFQOQIXFHAQ5ODPJKV4QIW.jpg', 'id': '4e8b80110cd684c8fea6a7c9', 'width': 375, 'height': 500, 'prefix': 'https://igx.4sqi.net/img/general/', 'createdAt': 1317765137, 'user': {'photo': {'prefix': 'https://igx.4sqi.net/img/user/', 'suffix': '/S1XDUOO1E2YPXRME.jpg'}, 'gender': 'none', 'firstName': 'LA Weekly', 'id': '4584204', 'type': 'page'}}, 'followers': {'count': 215}, 'description': '', 'updatedAt': 1515054686, 'type': 'others', 'public': True, 'listItems': {'count': 158, 'items': [{'createdAt': 1437867573, 'id': 'v4f2a0d0ae4b0837d0c4c2bc3'}]}, 'createdAt': 1328001568, 'name': 'Anthony Bourdain: The Layover', 'url': '/user/6537721/list/anthony-bourdain-the-layover', 'editable': False, 'id': '4f27b220e4b0d4bbe4f38b51', 'canonicalUrl': 'https://foursquare.com/user/6537721/list/anthony-bourdain-the-layover', 'collaborative': False, 'user': {'lastName': 'Chang', 'gender': 'male', 'photo': {'prefix': 'https://igx.4sqi.net/img/user/', 'suffix': '/6537721_-f3dWe0g_ltsoVWOE5OyReiFOV3-BusYBiBokA-Kzy3W52fXnc7xlk6rA77KAsq-P5fVjkcVF.jpg'}, 'firstName': 'Paul', 'id': '6537721'}}, {'photo': {'visibility': 'public', 'suffix': '/i1X05hMWPbWY-LIvU-wvM21SBCYqXCItmyZWtk6yecs.jpg', 'id': '4f8a0d80e4b00a62627f61bb', 'width': 720, 'height': 540, 'prefix': 'https://igx.4sqi.net/img/general/', 'createdAt': 1334447488, 'user': {'lastName': 'Williams', 'gender': 'male', 'photo': {'prefix': 'https://igx.4sqi.net/img/user/', 'suffix': '/2L2ZLUTMKVI1UWMW.jpg'}, 'firstName': 'Harrison', 'id': '150954'}}, 'followers': {'count': 315}, 'description': 'This year’s winners, from best dessert program to best spot to drink like a grown-up.', 'updatedAt': 1367448308, 'type': 'others', 'public': True, 'listItems': {'count': 16, 'items': [{'photo': {'visibility': 'public', 'suffix': '/fnRi_u7e5_xDm1obC1DqwC_2mvm-zWUzGlMkoPH1IkM.jpg', 'id': '4f637bdde4b05c1d586d8670', 'width': 720, 'height': 540, 'prefix': 'https://igx.4sqi.net/img/general/', 'createdAt': 1331919837, 'user': {'lastName': 'Kuna', 'gender': 'male', 'photo': {'prefix': 'https://igx.4sqi.net/img/user/', 'suffix': '/971591-AQHPZJNJAAC50WFZ.jpg'}, 'firstName': 'Todd', 'id': '971591'}}, 'createdAt': 1334689804, 'id': 't4f8dc076e4b063e7db3415ec'}]}, 'createdAt': 1334688207, 'name': \"2012 Eat Out Award winners: Critics' picks\", 'logView': True, 'url': '/timeoutchicago/list/2012-eat-out-award-winners-critics-picks', 'editable': False, 'id': '4f8db9cfe4b0a791f6427410', 'canonicalUrl': 'https://foursquare.com/timeoutchicago/list/2012-eat-out-award-winners-critics-picks', 'collaborative': False, 'user': {'photo': {'prefix': 'https://igx.4sqi.net/img/user/', 'suffix': '/R2RSEQ533D211UR0.jpg'}, 'gender': 'none', 'firstName': 'Time Out Chicago', 'id': '843848', 'type': 'page'}}, {'photo': {'visibility': 'public', 'suffix': '/843848_g0DXx0eLL0fnABo_K-EVkn6afl6QiQsJPtrOgLy95gk.jpg', 'id': '52b4c9c9498e6a1bd2b214da', 'width': 492, 'height': 330, 'prefix': 'https://igx.4sqi.net/img/general/', 'createdAt': 1387579849, 'user': {'photo': {'prefix': 'https://igx.4sqi.net/img/user/', 'suffix': '/R2RSEQ533D211UR0.jpg'}, 'gender': 'none', 'firstName': 'Time Out Chicago', 'id': '843848', 'type': 'page'}}, 'followers': {'count': 256}, 'description': 'The very best food and drink our editors consumed this year. http://tmout.us/rLOtk', 'updatedAt': 1401918990, 'id': '52acbcfc11d22a86dbc7f3a3', 'public': True, 'listItems': {'count': 91, 'items': [{'photo': {'visibility': 'public', 'suffix': '/843848_nJzafwGutGnQ15vL_WsTFbe-Ayj2rAN9hQ7b5MJ-Hdg.jpg', 'id': '52b4caa5498e6a1bd2b29214', 'width': 492, 'height': 330, 'prefix': 'https://igx.4sqi.net/img/general/', 'createdAt': 1387580069, 'user': {'photo': {'prefix': 'https://igx.4sqi.net/img/user/', 'suffix': '/R2RSEQ533D211UR0.jpg'}, 'gender': 'none', 'firstName': 'Time Out Chicago', 'id': '843848', 'type': 'page'}}, 'createdAt': 1387572181, 'id': 't52b4b776498e8b98977664a4'}]}, 'createdAt': 1387052284, 'entities': [{'object': {'url': 'http://tmout.us/rLOtk'}, 'indices': [61, 82], 'type': 'url'}], 'name': '100 best things we ate and drank in 2013', 'logView': True, 'url': '/timeoutchicago/list/100-best-things-we-ate-and-drank-in-2013', 'editable': False, 'type': 'others', 'canonicalUrl': 'https://foursquare.com/timeoutchicago/list/100-best-things-we-ate-and-drank-in-2013', 'collaborative': False, 'user': {'photo': {'prefix': 'https://igx.4sqi.net/img/user/', 'suffix': '/R2RSEQ533D211UR0.jpg'}, 'gender': 'none', 'firstName': 'Time Out Chicago', 'id': '843848', 'type': 'page'}}]}], 'count': 740}, 'hours': {'isOpen': False, 'timeframes': [{'days': 'Mon–Sat', 'segments': [], 'includesToday': True, 'open': [{'renderedTime': '10:00 AM–6:00 PM'}]}, {'days': 'Sun', 'segments': [], 'open': [{'renderedTime': '10:00 AM–5:00 PM'}]}], 'richStatus': {'text': 'Closed until 10:00 AM', 'entities': []}, 'dayData': [], 'isLocalHoliday': False, 'status': 'Closed until 10:00 AM'}, 'contact': {'formattedPhone': '(312) 496-0012', 'phone': '3124960012'}, 'ratingColor': '00B551', 'dislike': False, 'popular': {'isOpen': False, 'timeframes': [{'days': 'Today', 'segments': [], 'includesToday': True, 'open': [{'renderedTime': '11:00 AM–3:00 PM'}]}, {'days': 'Thu', 'segments': [], 'open': [{'renderedTime': '11:00 AM–3:00 PM'}]}, {'days': 'Fri', 'segments': [], 'open': [{'renderedTime': '11:00 AM–4:00 PM'}]}, {'days': 'Sat', 'segments': [], 'open': [{'renderedTime': '10:00 AM–6:00 PM'}]}, {'days': 'Sun', 'segments': [], 'open': [{'renderedTime': '9:00 AM–5:00 PM'}]}, {'days': 'Mon', 'segments': [], 'open': [{'renderedTime': '11:00 AM–4:00 PM'}]}, {'days': 'Tue', 'segments': [], 'open': [{'renderedTime': '11:00 AM–3:00 PM'}, {'renderedTime': '5:00 PM–9:00 PM'}]}], 'isLocalHoliday': False}, 'photos': {'groups': [{'name': \"Friends' check-in photos\", 'count': 0, 'type': 'checkin', 'items': []}, {'name': 'Venue photos', 'count': 549, 'type': 'venue', 'items': [{'visibility': 'public', 'suffix': '/_A29DWi3VYMvuv9A8-_5jj9mRHqlAeLZYz-aVMCekAM.jpg', 'id': '4f42dee7e4b0a2bdc6c55b06', 'width': 720, 'height': 537, 'prefix': 'https://igx.4sqi.net/img/general/', 'createdAt': 1329782503, 'user': {'lastName': 'Hoffman', 'gender': 'female', 'photo': {'prefix': 'https://igx.4sqi.net/img/user/', 'suffix': '/ZUXL534VA5LYN2JY.jpg'}, 'firstName': 'Chelsea', 'id': '280144'}, 'source': {'name': 'Foursquare for iOS', 'url': 'https://foursquare.com/download/#/iphone'}}, {'visibility': 'public', 'suffix': '/20321409_eRSVR2nPkLIOvXRxTQocGx7XmnuWc_Ynne39tnyhUvs.jpg', 'id': '511ad112e4b016c5c8217739', 'width': 960, 'height': 720, 'prefix': 'https://igx.4sqi.net/img/general/', 'createdAt': 1360711954, 'user': {'lastName': 'O.', 'gender': 'female', 'photo': {'prefix': 'https://igx.4sqi.net/img/user/', 'suffix': '/RDLVUO34OVQSELRF.jpg'}, 'firstName': 'Samantha', 'id': '20321409'}, 'source': {'name': 'Foursquare for iOS', 'url': 'https://foursquare.com/download/#/iphone'}}]}], 'count': 549, 'summary': '0 photos'}, 'attributes': {'groups': [{'name': 'Price', 'count': 1, 'summary': '$$', 'type': 'price', 'items': [{'priceTier': 2, 'displayName': 'Price', 'displayValue': '$$'}]}, {'name': 'Reservations', 'count': 3, 'summary': 'Reservations', 'type': 'reservations', 'items': [{'displayName': 'Reservations', 'displayValue': 'Yes'}]}, {'name': 'Credit Cards', 'count': 7, 'summary': 'Credit Cards', 'type': 'payments', 'items': [{'displayName': 'Credit Cards', 'displayValue': 'Yes (incl. American Express & MasterCard)'}]}, {'name': 'Outdoor Seating', 'count': 1, 'summary': 'Outdoor Seating', 'type': 'outdoorSeating', 'items': [{'displayName': 'Outdoor Seating', 'displayValue': 'Yes'}]}, {'name': 'Wi-Fi', 'count': 1, 'summary': 'Wi-Fi', 'type': 'wifi', 'items': [{'displayName': 'Wi-Fi', 'displayValue': 'Yes'}]}, {'name': 'Menus', 'count': 8, 'summary': 'Happy Hour, Brunch & more', 'type': 'serves', 'items': [{'displayName': 'Brunch', 'displayValue': 'Brunch'}, {'displayName': 'Lunch', 'displayValue': 'Lunch'}, {'displayName': 'Dinner', 'displayValue': 'Dinner'}, {'displayName': 'Happy Hour', 'displayValue': 'Happy Hour'}]}, {'name': 'Drinks', 'count': 5, 'summary': 'Beer & Wine', 'type': 'drinks', 'items': [{'displayName': 'Beer', 'displayValue': 'Beer'}, {'displayName': 'Wine', 'displayValue': 'Wine'}]}, {'name': 'Dining Options', 'count': 5, 'summary': 'Delivery', 'type': 'diningOptions', 'items': [{'displayName': 'Delivery', 'displayValue': 'Delivery'}]}]}, 'rating': 9.6, 'url': 'http://publicanqualitymeats.com', 'specials': {'count': 0, 'items': []}, 'verified': False, 'timeZone': 'America/Chicago', 'createdAt': 1328155914, 'ok': False, 'allowMenuUrlEdit': True}}, 'meta': {'code': 200, 'requestId': '5bb4641adb04f57867f52f1b'}}\n"
     ]
    },
    {
     "name": "stdout",
     "output_type": "stream",
     "text": [
      "{'response': {'venue': {'tips': {'groups': [{'name': 'All tips', 'count': 92, 'type': 'others', 'items': [{'text': 'In \"The Dark Knight\" (2008), Harvey Dent (Aaron Eckhart) and his girlfriend Rachel Dawes (Maggie Gyllenhaal) show up for a ballet performance in scenes shot in the Chicago Theatre.', 'likes': {'groups': [{'count': 21, 'type': 'others', 'items': []}], 'count': 21, 'summary': '21 likes'}, 'id': '4b6362d570c603bbde1791b4', 'todo': {'count': 72}, 'logView': True, 'createdAt': 1264804565, 'disagreeCount': 0, 'url': 'http://www.explorechicago.org/city/en/things_see_do/attractions/tourism/the_chicago_theatre.html', 'type': 'user', 'canonicalUrl': 'https://foursquare.com/item/4b6362d570c603bbde1791b4', 'lang': 'en', 'user': {'photo': {'prefix': 'https://igx.4sqi.net/img/user/', 'suffix': '/JEBEI3ZWJ53R2G2W.jpg'}, 'gender': 'none', 'firstName': 'Explore Chicago', 'id': '238086', 'type': 'page'}, 'agreeCount': 21}, {'text': 'In \"Save the Last Dance\" (2001), Sara (Julia Stiles) auditions for a spot in the ballet company of her dreams, in scenes shot in the Chicago Theatre.', 'likes': {'groups': [{'count': 8, 'type': 'others', 'items': [{'photo': {'prefix': 'https://igx.4sqi.net/img/user/', 'suffix': '/58684932_yrqViZZw_gcuL2Ajj6aOP-zCPVbi7J1HmlAZfeaEhN_4_altjSBSx0k5NF1zDQVUAGsD2Spc_.jpg'}, 'gender': 'female', 'firstName': 'Dianne 💞', 'id': '58684932'}, {'lastName': 'B', 'gender': 'male', 'photo': {'prefix': 'https://igx.4sqi.net/img/user/', 'suffix': '/1QXLHF3H4JIPYNMK.jpg'}, 'firstName': 'Vince', 'id': '29532968'}, {'lastName': 'R.', 'gender': 'female', 'photo': {'prefix': 'https://igx.4sqi.net/img/user/', 'suffix': '/EPUSOZCBBXMUMMCY.jpg'}, 'firstName': 'Karen', 'id': '14932842'}, {'lastName': 'Cummings', 'gender': 'male', 'photo': {'prefix': 'https://igx.4sqi.net/img/user/', 'suffix': '/19315445-M4OECLPZXNBEZGOD.jpg'}, 'firstName': 'Rick', 'id': '19315445'}]}], 'count': 8, 'summary': '8 likes'}, 'id': '4b63637570c603bbe31791b4', 'todo': {'count': 49}, 'logView': True, 'createdAt': 1264804725, 'disagreeCount': 0, 'url': 'http://www.explorechicago.org/city/en/things_see_do/attractions/tourism/the_chicago_theatre.html', 'type': 'user', 'canonicalUrl': 'https://foursquare.com/item/4b63637570c603bbe31791b4', 'lang': 'en', 'user': {'photo': {'prefix': 'https://igx.4sqi.net/img/user/', 'suffix': '/JEBEI3ZWJ53R2G2W.jpg'}, 'gender': 'none', 'firstName': 'Explore Chicago', 'id': '238086', 'type': 'page'}, 'agreeCount': 8}]}], 'count': 92}, 'colors': {'highlightColor': {'value': -13101056, 'photoId': '50403e4de4b0047a40d62b52'}, 'highlightTextColor': {'value': -1, 'photoId': '50403e4de4b0047a40d62b52'}, 'algoVersion': 3}, 'likes': {'groups': [{'count': 1021, 'type': 'others', 'items': []}], 'count': 1021, 'summary': '1021 Likes'}, 'beenHere': {'marked': False, 'lastCheckinExpiredAt': 0, 'count': 0, 'unconfirmedCount': 0}, 'shortUrl': 'http://4sq.com/6SpxxT', 'location': {'labeledLatLngs': [{'label': 'display', 'lng': -87.62728571891785, 'lat': 41.885577570875526}], 'city': 'Chicago', 'lng': -87.62728571891785, 'crossStreet': 'at E Lake St', 'postalCode': '60601', 'cc': 'US', 'formattedAddress': ['175 N State St (at E Lake St)', 'Chicago, IL 60601', 'United States'], 'state': 'IL', 'address': '175 N State St', 'lat': 41.885577570875526, 'country': 'United States'}, 'name': 'The Chicago Theatre', 'pageUpdates': {'count': 8, 'items': []}, 'reasons': {'count': 1, 'items': [{'summary': 'Lots of people like this place', 'reasonName': 'rawLikesReason', 'type': 'general'}]}, 'ratingSignals': 1145, 'categories': [{'pluralName': 'Theaters', 'id': '4bf58dd8d48988d137941735', 'name': 'Theater', 'primary': True, 'icon': {'prefix': 'https://ss3.4sqi.net/img/categories_v2/arts_entertainment/performingarts_theater_', 'suffix': '.png'}, 'shortName': 'Theater'}], 'inbox': {'count': 0, 'items': []}, 'id': '4aa05f40f964a520643f20e3', 'canonicalUrl': 'https://foursquare.com/chicagotheatre', 'hereNow': {'groups': [], 'count': 0, 'summary': 'Nobody here'}, 'bestPhoto': {'visibility': 'public', 'suffix': '/0ZwTsBYVtRQ8i15fQgblox6E6ZOCtkLTWARMuYvQGek.jpg', 'id': '50403e4de4b0047a40d62b52', 'width': 612, 'height': 612, 'prefix': 'https://igx.4sqi.net/img/general/', 'createdAt': 1346387533, 'source': {'name': 'Instagram', 'url': 'http://instagram.com'}}, 'storeId': '', 'specials': {'count': 0, 'items': []}, 'description': 'Breath-taking auditorium in downtown Chicago.  The vertical \"C-H-I-C-A-G-O\" sign has become an iconic symbol of State Street & Chicago.', 'stats': {'tipCount': 92}, 'listed': {'groups': [{'name': 'Lists from other people', 'count': 560, 'type': 'others', 'items': [{'photo': {'visibility': 'public', 'suffix': '/159300_zRaHaahjGEMDJIpnwKFsvBA52JknakPnEo7V6rZwY24.jpg', 'id': '514e3fd3e4b01bb27cf3d5df', 'width': 612, 'height': 612, 'prefix': 'https://igx.4sqi.net/img/general/', 'createdAt': 1364082643, 'user': {'lastName': 'Marcon', 'gender': 'male', 'photo': {'prefix': 'https://igx.4sqi.net/img/user/', 'suffix': '/159300-GJAPC5EGMNSRFM1Y.jpg'}, 'firstName': 'Liam', 'id': '159300'}}, 'followers': {'count': 67}, 'description': 'A city with so much to offer, make sure you high the hot spots!', 'updatedAt': 1438931855, 'type': 'others', 'public': True, 'listItems': {'count': 10, 'items': [{'photo': {'visibility': 'public', 'suffix': '/35035914_nRfqfanXcrLBWK36I5u-V5BUibF0Eme18UCnpaMJ1gg.jpg', 'id': '514d2deae4b0eeb9f76f6345', 'width': 720, 'height': 720, 'prefix': 'https://igx.4sqi.net/img/general/', 'createdAt': 1364012522, 'user': {'lastName': 'Clarke', 'gender': 'female', 'photo': {'prefix': 'https://igx.4sqi.net/img/user/', 'suffix': '/VGNGNPCP40ZLRUWY.jpg'}, 'firstName': 'Rachel', 'id': '35035914'}}, 'createdAt': 1364239779, 'id': 't5150a5afe4b0a18352e0b25d'}]}, 'createdAt': 1314116398, 'name': 'Chicago Out and About', 'logView': True, 'url': '/trumphotels/list/chicago-out-and-about', 'editable': False, 'id': '4e53d32e45ddffa8d191f2bf', 'canonicalUrl': 'https://foursquare.com/trumphotels/list/chicago-out-and-about', 'collaborative': False, 'user': {'photo': {'prefix': 'https://igx.4sqi.net/img/user/', 'suffix': '/2MAW3ITFVLMP4ZA0.jpg'}, 'gender': 'none', 'firstName': 'Trump Hotel Collection', 'id': '9079254', 'type': 'chain'}}, {'photo': {'visibility': 'public', 'suffix': '/4Dnr8J0pxdVcWUhdULWMT0D7SzzKowAgCgBfTSzC82k.png', 'id': '4fd3de9a7bebfa2272028970', 'width': 300, 'height': 300, 'prefix': 'https://igx.4sqi.net/img/general/', 'createdAt': 1339285146, 'user': {'photo': {'prefix': 'https://igx.4sqi.net/img/user/', 'suffix': '/5LER2VHGAA4LMUUR.png'}, 'gender': 'none', 'firstName': 'TugaJumper', 'id': '19643984', 'type': 'page'}}, 'followers': {'count': 257}, 'description': '', 'updatedAt': 1339285162, 'type': 'others', 'public': True, 'listItems': {'count': 60, 'items': [{'createdAt': 1339281236, 'id': 'v4aa05f40f964a520643f20e3'}]}, 'createdAt': 1339281096, 'name': 'Explore Chicago - On Location', 'logView': True, 'url': '/p/tugajumper/19643984/list/explore-chicago--on-location', 'editable': False, 'id': '4fd3cec8e4b0052fbbb80a2e', 'canonicalUrl': 'https://foursquare.com/p/tugajumper/19643984/list/explore-chicago--on-location', 'collaborative': False, 'user': {'photo': {'prefix': 'https://igx.4sqi.net/img/user/', 'suffix': '/5LER2VHGAA4LMUUR.png'}, 'gender': 'none', 'firstName': 'TugaJumper', 'id': '19643984', 'type': 'page'}}, {'followers': {'count': 110}, 'description': '', 'updatedAt': 1438931855, 'type': 'others', 'public': True, 'listItems': {'count': 60, 'items': [{'createdAt': 1313893648, 'id': 'v4aa05f40f964a520643f20e3'}]}, 'createdAt': 1313893648, 'name': 'On Location', 'url': '/jrdraga/list/on-location', 'editable': False, 'id': '4e506d107d8bd425e49f291c', 'canonicalUrl': 'https://foursquare.com/jrdraga/list/on-location', 'collaborative': False, 'user': {'photo': {'prefix': 'https://igx.4sqi.net/img/user/', 'suffix': '/SXQE5RMZJUHV3ELU.gif'}, 'gender': 'male', 'firstName': 'John', 'id': '3819171'}}]}], 'count': 560}, 'page': {'user': {'photo': {'prefix': 'https://igx.4sqi.net/img/user/', 'suffix': '/35000930-GI1JTYTH0KDJQTXY.png'}, 'tips': {'count': 12}, 'venue': {'id': '4aa05f40f964a520643f20e3'}, 'homeCity': 'Chicago, IL', 'firstName': 'The Chicago Theatre', 'id': '35000930', 'type': 'venuePage', 'contact': {'facebook': '33238327740', 'twitter': 'chicagotheatre'}, 'gender': 'none', 'lists': {'groups': [{'count': 2, 'type': 'created', 'items': []}]}, 'bio': ''}}, 'contact': {'twitter': 'chicagotheatre', 'facebookUsername': 'chicagotheatre', 'formattedPhone': '(312) 462-6300', 'phone': '3124626300', 'instagram': 'chicagotheatre', 'facebook': '33238327740', 'facebookName': 'The Chicago Theatre'}, 'ratingColor': '00B551', 'dislike': False, 'popular': {'isOpen': False, 'timeframes': [{'days': 'Today', 'segments': [], 'includesToday': True, 'open': [{'renderedTime': '6:00 PM–10:00 PM'}]}, {'days': 'Thu–Fri', 'segments': [], 'open': [{'renderedTime': '6:00 PM–11:00 PM'}]}, {'days': 'Sat', 'segments': [], 'open': [{'renderedTime': '2:00 PM–3:00 PM'}, {'renderedTime': '6:00 PM–11:00 PM'}]}, {'days': 'Sun', 'segments': [], 'open': [{'renderedTime': '6:00 PM–9:00 PM'}]}, {'days': 'Mon', 'segments': [], 'open': [{'renderedTime': '7:00 PM–9:00 PM'}]}, {'days': 'Tue', 'segments': [], 'open': [{'renderedTime': '6:00 PM–9:00 PM'}]}], 'isLocalHoliday': False}, 'photos': {'groups': [{'name': \"Friends' check-in photos\", 'count': 0, 'type': 'checkin', 'items': []}, {'name': 'Venue photos', 'count': 3152, 'type': 'venue', 'items': [{'visibility': 'public', 'suffix': '/0ZwTsBYVtRQ8i15fQgblox6E6ZOCtkLTWARMuYvQGek.jpg', 'id': '50403e4de4b0047a40d62b52', 'width': 612, 'height': 612, 'prefix': 'https://igx.4sqi.net/img/general/', 'createdAt': 1346387533, 'user': {'lastName': '\\U0001f985', 'gender': 'male', 'photo': {'prefix': 'https://igx.4sqi.net/img/user/', 'suffix': '/2B4BCXNDLS1N1S1M.jpg'}, 'firstName': 'aneel', 'id': '78787'}, 'source': {'name': 'Instagram', 'url': 'http://instagram.com'}}, {'visibility': 'public', 'suffix': '/MRmUUtZeTnED8kFIpve5J9qJ9HsgskB1TvOSZKyMRNw.jpg', 'id': '4fc97776e4b0ac8d65c0ca18', 'width': 612, 'height': 612, 'prefix': 'https://igx.4sqi.net/img/general/', 'createdAt': 1338603382, 'user': {'lastName': 'Meyers', 'gender': 'male', 'photo': {'prefix': 'https://igx.4sqi.net/img/user/', 'suffix': '/S3UDLPBT1JNL4C42.jpg'}, 'firstName': 'Brandon', 'id': '21962325'}, 'source': {'name': 'Instagram', 'url': 'http://instagram.com'}}]}], 'count': 3152, 'summary': '0 photos'}, 'attributes': {'groups': [{'name': 'Credit Cards', 'count': 7, 'summary': 'Credit Cards', 'type': 'payments', 'items': [{'displayName': 'Credit Cards', 'displayValue': 'Yes (incl. Discover & MasterCard)'}]}]}, 'rating': 9.6, 'venuePage': {'id': '35000930'}, 'url': 'http://www.thechicagotheatre.com', 'verified': True, 'timeZone': 'America/Chicago', 'createdAt': 1252024128, 'ok': False, 'allowMenuUrlEdit': True}}, 'meta': {'code': 200, 'requestId': '5bb4641add57977e1842c8a1'}}\n"
     ]
    },
    {
     "name": "stdout",
     "output_type": "stream",
     "text": [
      "{'response': {'venue': {'tips': {'groups': [{'name': 'All tips', 'count': 33, 'type': 'others', 'items': [{'text': 'Come an hour early to hear some background about the pieces. Schmooze with your fellow socialites. You know you want to...', 'likes': {'groups': [{'count': 7, 'type': 'others', 'items': [{'lastName': 'Pissarreck', 'gender': 'female', 'photo': {'prefix': 'https://igx.4sqi.net/img/user/', 'suffix': '/blank_girl.png', 'default': True}, 'firstName': 'Peggy', 'id': '70213833'}, {'lastName': 'T', 'gender': 'female', 'photo': {'prefix': 'https://igx.4sqi.net/img/user/', 'suffix': '/HGKKJKUFA3EN0X3H.jpg'}, 'firstName': 'Abby', 'id': '11163858'}, {'lastName': 'Tabin', 'gender': 'female', 'photo': {'prefix': 'https://igx.4sqi.net/img/user/', 'suffix': '/5222_1237306204.jpg'}, 'firstName': 'Janet', 'id': '5222'}, {'lastName': 'Proulx', 'gender': 'female', 'photo': {'prefix': 'https://igx.4sqi.net/img/user/', 'suffix': '/FSLNBMJGMJL2BILW.jpg'}, 'firstName': 'Michonne', 'id': '59399893'}]}], 'count': 7, 'summary': '7 likes'}, 'agreeCount': 7, 'id': '4d5f65855c39b1f7fa9ef749', 'todo': {'count': 0}, 'createdAt': 1298097541, 'disagreeCount': 0, 'type': 'user', 'canonicalUrl': 'https://foursquare.com/item/4d5f65855c39b1f7fa9ef749', 'lang': 'en', 'user': {'lastName': 'LaRue', 'gender': 'male', 'photo': {'prefix': 'https://igx.4sqi.net/img/user/', 'suffix': '/EHBL3YECJWBPTCON.jpg'}, 'firstName': 'Robert', 'id': '212611'}, 'logView': True}, {'text': \"Beautiful architecture and concert hall. I saw movie master John Williams conduct here and it will be a memory I cherish forever.  Dress up and bring a date, she'll love it.\", 'likes': {'groups': [{'count': 5, 'type': 'others', 'items': [{'lastName': 'p', 'gender': 'male', 'photo': {'prefix': 'https://igx.4sqi.net/img/user/', 'suffix': '/1654373-JCFTN13GAI55BCZF.jpg'}, 'firstName': 'charlie', 'id': '1654373'}, {'lastName': 'hobbs', 'gender': 'male', 'photo': {'prefix': 'https://igx.4sqi.net/img/user/', 'suffix': '/RRQCF0ON4RQM4UW1.jpg'}, 'firstName': 'landy', 'id': '229419'}, {'lastName': 'T', 'gender': 'female', 'photo': {'prefix': 'https://igx.4sqi.net/img/user/', 'suffix': '/HGKKJKUFA3EN0X3H.jpg'}, 'firstName': 'Abby', 'id': '11163858'}, {'lastName': 'Ghawaly', 'gender': 'male', 'photo': {'prefix': 'https://igx.4sqi.net/img/user/', 'suffix': '/DRFAKVQ2ESLUJMGN.jpg'}, 'firstName': 'Mike', 'id': '28464074'}]}], 'count': 5, 'summary': '5 likes'}, 'agreeCount': 5, 'id': '52c6818611d26d85647f0122', 'todo': {'count': 0}, 'createdAt': 1388740998, 'authorInteractionType': 'liked', 'disagreeCount': 0, 'type': 'user', 'canonicalUrl': 'https://foursquare.com/item/52c6818611d26d85647f0122', 'lang': 'en', 'user': {'lastName': 'Rowley', 'gender': 'male', 'photo': {'prefix': 'https://igx.4sqi.net/img/user/', 'suffix': '/19253330_t9RJT3PB_WaqjSxihWuJlkwiX59Kdlp8Y8y1JEG7OZafNSXpIrkA_gj0k5hlnBluEeVFLlyuP.jpg'}, 'firstName': 'Erik', 'id': '19253330'}, 'logView': True}]}], 'count': 33}, 'colors': {'highlightColor': {'value': -11517920, 'photoId': '50cbc76fe4b0d0701e650727'}, 'highlightTextColor': {'value': -1, 'photoId': '50cbc76fe4b0d0701e650727'}, 'algoVersion': 3}, 'likes': {'groups': [{'count': 516, 'type': 'others', 'items': []}], 'count': 516, 'summary': '516 Likes'}, 'beenHere': {'marked': False, 'lastCheckinExpiredAt': 0, 'count': 0, 'unconfirmedCount': 0}, 'shortUrl': 'http://4sq.com/4ZI8LA', 'location': {'labeledLatLngs': [{'label': 'display', 'lng': -87.62468041570357, 'lat': 41.87927535633318}], 'crossStreet': 'btwn Adams & Jackson', 'postalCode': '60604', 'formattedAddress': ['220 S Michigan Ave (btwn Adams & Jackson)', 'Chicago, IL 60604', 'United States'], 'city': 'Chicago', 'lng': -87.62468041570357, 'neighborhood': 'Chicago Loop, IL', 'cc': 'US', 'state': 'IL', 'address': '220 S Michigan Ave', 'lat': 41.87927535633318, 'country': 'United States'}, 'name': 'Symphony Center (Chicago Symphony Orchestra)', 'pageUpdates': {'count': 2, 'items': []}, 'reasons': {'count': 1, 'items': [{'summary': 'Lots of people like this place', 'reasonName': 'rawLikesReason', 'type': 'general'}]}, 'ratingSignals': 559, 'categories': [{'pluralName': 'Concert Halls', 'id': '5032792091d4c4b30a586d5c', 'name': 'Concert Hall', 'primary': True, 'icon': {'prefix': 'https://ss3.4sqi.net/img/categories_v2/arts_entertainment/musicvenue_', 'suffix': '.png'}, 'shortName': 'Concert Hall'}, {'name': 'Performing Arts Venue', 'pluralName': 'Performing Arts Venues', 'icon': {'prefix': 'https://ss3.4sqi.net/img/categories_v2/arts_entertainment/performingarts_', 'suffix': '.png'}, 'id': '4bf58dd8d48988d1f2931735', 'shortName': 'Performing Arts'}], 'inbox': {'count': 0, 'items': []}, 'id': '4adfca6df964a520777d21e3', 'canonicalUrl': 'https://foursquare.com/chicagosymphony', 'hereNow': {'groups': [], 'count': 0, 'summary': 'Nobody here'}, 'bestPhoto': {'visibility': 'public', 'suffix': '/38405494_FSHx7GSzgJt33E9cs5M7jvwdSha18U3aocVw-a2HeYE.jpg', 'id': '50cbc76fe4b0d0701e650727', 'width': 537, 'height': 720, 'prefix': 'https://igx.4sqi.net/img/general/', 'createdAt': 1355532143, 'source': {'name': 'Foursquare for iOS', 'url': 'https://foursquare.com/download/#/iphone'}}, 'storeId': '', 'specials': {'count': 0, 'items': []}, 'description': 'Home to the Chicago Symphony Orchestra, Symphony Center includes the 2,522-seat Orchestra Hall, and hosts concerts and events of all types.', 'stats': {'tipCount': 33}, 'listed': {'groups': [{'name': 'Lists from other people', 'count': 143, 'type': 'others', 'items': [{'photo': {'visibility': 'public', 'suffix': '/23438729_lbCPNI7fv7oObjs1-UJiE0VVcJYdoww_Vh7AwQVcZ_4.jpg', 'id': '588a58de4816f0248b8f5611', 'width': 960, 'height': 960, 'prefix': 'https://igx.4sqi.net/img/general/', 'createdAt': 1485461726, 'user': {'photo': {'prefix': 'https://igx.4sqi.net/img/user/', 'suffix': '/23438729-TODURDIUDUMY4JF5.png'}, 'gender': 'none', 'firstName': 'Foursquare City Guide', 'id': '23438729', 'type': 'page'}}, 'followers': {'count': 8}, 'description': 'Staying ahead of trends has kept you far away from the dating pool. Here are some of the best venues in Chicago to meet other hip singles.', 'updatedAt': 1486498847, 'type': 'others', 'public': True, 'listItems': {'count': 20, 'items': [{'photo': {'visibility': 'public', 'suffix': '/38405494_FSHx7GSzgJt33E9cs5M7jvwdSha18U3aocVw-a2HeYE.jpg', 'id': '50cbc76fe4b0d0701e650727', 'width': 537, 'height': 720, 'prefix': 'https://igx.4sqi.net/img/general/', 'createdAt': 1355532143, 'user': {'lastName': 'Pratt', 'gender': 'male', 'photo': {'prefix': 'https://igx.4sqi.net/img/user/', 'suffix': '/CL03FAOPG2PYCTTY.jpg'}, 'firstName': 'Kyle', 'id': '38405494'}}, 'createdAt': 1485894187, 'id': 't571d7f8b498eec982d139fae'}]}, 'createdAt': 1485893274, 'name': 'Meet Your Match in CHI: Indie Aficionados', 'logView': True, 'url': '/foursquare/list/meet-your-match-in-chi-indie-aficionados', 'editable': False, 'id': '5890ee9a4f106911fd438442', 'canonicalUrl': 'https://foursquare.com/foursquare/list/meet-your-match-in-chi-indie-aficionados', 'collaborative': False, 'user': {'photo': {'prefix': 'https://igx.4sqi.net/img/user/', 'suffix': '/23438729-TODURDIUDUMY4JF5.png'}, 'gender': 'none', 'firstName': 'Foursquare City Guide', 'id': '23438729', 'type': 'page'}}, {'photo': {'visibility': 'public', 'suffix': '/1VZrm24axgJxG4q55u6VhhRDdtVhsKt2SR6c4SDvjbM.jpg', 'id': '4f381f8ce4b099ca95238ebf', 'width': 640, 'height': 480, 'prefix': 'https://igx.4sqi.net/img/general/', 'createdAt': 1329078156, 'user': {'photo': {'prefix': 'https://igx.4sqi.net/img/user/', 'suffix': '/UMKQ0LTUEAPPNWH5.jpg'}, 'gender': 'none', 'firstName': 'Adrienne', 'id': '20103654'}}, 'followers': {'count': 57}, 'description': '', 'updatedAt': 1519585151, 'type': 'others', 'public': True, 'listItems': {'count': 92, 'items': [{'photo': {'visibility': 'public', 'suffix': '/U2GAt0O5SuxjeQfngS9c52XDRjYH3LmuQGAI7WtDpUQ.jpg', 'id': '50420e08e4b0591b22ec56d9', 'width': 612, 'height': 612, 'prefix': 'https://igx.4sqi.net/img/general/', 'createdAt': 1346506248, 'user': {'lastName': 'Toledo', 'gender': 'male', 'photo': {'prefix': 'https://igx.4sqi.net/img/user/', 'suffix': '/5SSTWWPRYGO1FOZU.jpg'}, 'firstName': 'Jorge Alberto', 'id': '11869249'}}, 'createdAt': 1353895194, 'id': 'v4adfca6df964a520777d21e3'}]}, 'createdAt': 1329401122, 'name': 'Traveling Chicago', 'url': '/mauricio2099/list/traveling-chicago', 'editable': False, 'id': '4f3d0d22e4b0e60290deea61', 'canonicalUrl': 'https://foursquare.com/mauricio2099/list/traveling-chicago', 'collaborative': False, 'user': {'lastName': 'De la Torre', 'gender': 'male', 'photo': {'prefix': 'https://igx.4sqi.net/img/user/', 'suffix': '/4298308-VTEUEFHQD3AQKBCK.jpg'}, 'firstName': 'Mauricio', 'id': '4298308'}}, {'photo': {'visibility': 'public', 'suffix': '/24152642_rLU-8yek0l47v9HfuKMO7ouqX022bZevk3b1nU6EPGs.jpg', 'id': '5265a55d11d223046b5a0ad1', 'width': 640, 'height': 640, 'prefix': 'https://igx.4sqi.net/img/general/', 'createdAt': 1382393181, 'user': {'lastName': 'Robbins', 'gender': 'male', 'photo': {'prefix': 'https://igx.4sqi.net/img/user/', 'suffix': '/24152642-MQEHC5EWH1GF5VWC.jpg'}, 'firstName': 'Blunt', 'id': '24152642'}}, 'followers': {'count': 6}, 'description': '', 'updatedAt': 1389280912, 'type': 'others', 'public': True, 'listItems': {'count': 46, 'items': [{'photo': {'visibility': 'public', 'suffix': '/9224278_HMT9VK3_XoF3giohKD_OzcxdUFXXSoaJuLVNe78zxps.jpg', 'id': '50d6651ce4b01e0c674b6c88', 'width': 960, 'height': 720, 'prefix': 'https://igx.4sqi.net/img/general/', 'createdAt': 1356227868, 'user': {'lastName': 'Greene', 'gender': 'female', 'photo': {'prefix': 'https://igx.4sqi.net/img/user/', 'suffix': '/9224278-Y34POZ1K0SQVJPL5.jpg'}, 'firstName': 'Stefanie', 'id': '9224278'}}, 'createdAt': 1388876225, 'id': 'v4adfca6df964a520777d21e3'}]}, 'createdAt': 1382767571, 'name': 'Chicago', 'logView': True, 'url': '/parisiangeek/list/chicago', 'editable': False, 'id': '526b5bd3498eb396d0812ad0', 'canonicalUrl': 'https://foursquare.com/parisiangeek/list/chicago', 'collaborative': False, 'user': {'photo': {'prefix': 'https://igx.4sqi.net/img/user/', 'suffix': '/6082867-YRA5X0IQ1FO5OJA2.png'}, 'gender': 'none', 'firstName': 'Parisian Geek', 'id': '6082867', 'type': 'page'}}, {'photo': {'visibility': 'public', 'suffix': '/6082867_iQfLMCrmkIWH6_BMW_iynRLTPZnT__kvERWB9Y1tlXA.png', 'id': '52c88f5111d24ff500c69b24', 'width': 2000, 'height': 2000, 'prefix': 'https://igx.4sqi.net/img/general/', 'createdAt': 1388875601, 'user': {'photo': {'prefix': 'https://igx.4sqi.net/img/user/', 'suffix': '/6082867-YRA5X0IQ1FO5OJA2.png'}, 'gender': 'none', 'firstName': 'Parisian Geek', 'id': '6082867', 'type': 'page'}}, 'followers': {'count': 28}, 'description': 'Follow the legendary route 66 and discover the USA from Chicago to Los Angeles!', 'updatedAt': 1395537254, 'type': 'others', 'public': True, 'listItems': {'count': 200, 'items': [{'photo': {'visibility': 'public', 'suffix': '/9224278_HMT9VK3_XoF3giohKD_OzcxdUFXXSoaJuLVNe78zxps.jpg', 'id': '50d6651ce4b01e0c674b6c88', 'width': 960, 'height': 720, 'prefix': 'https://igx.4sqi.net/img/general/', 'createdAt': 1356227868, 'user': {'lastName': 'Greene', 'gender': 'female', 'photo': {'prefix': 'https://igx.4sqi.net/img/user/', 'suffix': '/9224278-Y34POZ1K0SQVJPL5.jpg'}, 'firstName': 'Stefanie', 'id': '9224278'}}, 'createdAt': 1388876219, 'id': 'v4adfca6df964a520777d21e3'}]}, 'createdAt': 1388872778, 'name': 'Historic Route 66', 'logView': True, 'url': '/parisiangeek/list/historic-route-66', 'editable': False, 'id': '52c8844a11d24ae552d26601', 'canonicalUrl': 'https://foursquare.com/parisiangeek/list/historic-route-66', 'collaborative': False, 'user': {'photo': {'prefix': 'https://igx.4sqi.net/img/user/', 'suffix': '/6082867-YRA5X0IQ1FO5OJA2.png'}, 'gender': 'none', 'firstName': 'Parisian Geek', 'id': '6082867', 'type': 'page'}}]}], 'count': 143}, 'page': {'user': {'photo': {'prefix': 'https://igx.4sqi.net/img/user/', 'suffix': '/39677486-VXPF11YRV2UOZASK.png'}, 'tips': {'count': 2}, 'venue': {'id': '4adfca6df964a520777d21e3'}, 'homeCity': 'Chicago, IL', 'firstName': 'Symphony Center (Chicago Symphony Orchestra)', 'id': '39677486', 'type': 'venuePage', 'contact': {'twitter': 'chicagosymphony'}, 'gender': 'none', 'lists': {'groups': [{'count': 2, 'type': 'created', 'items': []}]}, 'bio': ''}}, 'contact': {'formattedPhone': '(312) 294-3000', 'phone': '3122943000', 'twitter': 'chicagosymphony'}, 'ratingColor': '00B551', 'dislike': False, 'popular': {'isOpen': False, 'timeframes': [{'days': 'Today', 'segments': [], 'includesToday': True, 'open': [{'renderedTime': '9:00 AM–10:00 AM'}, {'renderedTime': '6:00 PM–8:00 PM'}]}, {'days': 'Thu', 'segments': [], 'open': [{'renderedTime': '9:00 AM–10:00 AM'}, {'renderedTime': '6:00 PM–11:00 PM'}]}, {'days': 'Fri', 'segments': [], 'open': [{'renderedTime': '9:00 AM–10:00 AM'}, {'renderedTime': 'Noon–3:00 PM'}, {'renderedTime': '6:00 PM–11:00 PM'}]}, {'days': 'Sat', 'segments': [], 'open': [{'renderedTime': '10:00 AM–3:00 PM'}, {'renderedTime': '5:00 PM–11:00 PM'}]}, {'days': 'Sun', 'segments': [], 'open': [{'renderedTime': '1:00 PM–7:00 PM'}]}, {'days': 'Mon', 'segments': [], 'open': [{'renderedTime': '6:00 PM–10:00 PM'}]}, {'days': 'Tue', 'segments': [], 'open': [{'renderedTime': '9:00 AM–10:00 AM'}, {'renderedTime': '6:00 PM–9:00 PM'}]}], 'isLocalHoliday': False}, 'photos': {'groups': [{'name': \"Friends' check-in photos\", 'count': 0, 'type': 'checkin', 'items': []}, {'name': 'Venue photos', 'count': 510, 'type': 'venue', 'items': [{'visibility': 'public', 'suffix': '/38405494_FSHx7GSzgJt33E9cs5M7jvwdSha18U3aocVw-a2HeYE.jpg', 'id': '50cbc76fe4b0d0701e650727', 'width': 537, 'height': 720, 'prefix': 'https://igx.4sqi.net/img/general/', 'createdAt': 1355532143, 'user': {'lastName': 'Pratt', 'gender': 'male', 'photo': {'prefix': 'https://igx.4sqi.net/img/user/', 'suffix': '/CL03FAOPG2PYCTTY.jpg'}, 'firstName': 'Kyle', 'id': '38405494'}, 'source': {'name': 'Foursquare for iOS', 'url': 'https://foursquare.com/download/#/iphone'}}, {'visibility': 'public', 'suffix': '/5514480_47QgfPBCBRV7EaC4yh6e4jO7G9X_DhNEROB2oePvpVU.jpg', 'id': '51abbf1b498ec0f9008c8f61', 'width': 960, 'height': 720, 'prefix': 'https://igx.4sqi.net/img/general/', 'createdAt': 1370210075, 'user': {'lastName': 'Alvarez', 'gender': 'male', 'photo': {'prefix': 'https://igx.4sqi.net/img/user/', 'suffix': '/WLMUL3OVKNCVTWDO.jpg'}, 'firstName': 'Daniel', 'id': '5514480'}, 'source': {'name': 'Foursquare for iOS', 'url': 'https://foursquare.com/download/#/iphone'}}]}], 'count': 510, 'summary': '0 photos'}, 'attributes': {'groups': [{'name': 'Credit Cards', 'count': 7, 'summary': 'Credit Cards', 'type': 'payments', 'items': [{'displayName': 'Credit Cards', 'displayValue': 'Yes (incl. American Express)'}]}]}, 'rating': 9.6, 'venuePage': {'id': '39677486'}, 'url': 'http://cso.org', 'verified': True, 'timeZone': 'America/Chicago', 'createdAt': 1256180333, 'ok': False, 'allowMenuUrlEdit': True}}, 'meta': {'code': 200, 'requestId': '5bb4641b4434b9435be97be0'}}\n"
     ]
    },
    {
     "name": "stdout",
     "output_type": "stream",
     "text": [
      "{'response': {'venue': {'tips': {'groups': [{'name': 'All tips', 'count': 124, 'type': 'others', 'items': [{'text': 'Chicago: Any park that plays host to a Barack Obama victory speech and a Radiohead show in the same year deserves to be at the top of this list. -IFC Viewer', 'likes': {'groups': [{'count': 32, 'type': 'others', 'items': []}], 'count': 32, 'summary': '32 likes'}, 'agreeCount': 32, 'id': '4c33943d3ffc9521f3a090f5', 'todo': {'count': 239}, 'createdAt': 1278448701, 'disagreeCount': 0, 'type': 'user', 'canonicalUrl': 'https://foursquare.com/item/4c33943d3ffc9521f3a090f5', 'lang': 'en', 'user': {'photo': {'prefix': 'https://igx.4sqi.net/img/user/', 'suffix': '/SINIVGETGJ3JBZVC.jpg'}, 'gender': 'none', 'firstName': 'IFC', 'id': '470491', 'type': 'page'}, 'logView': True}, {'photo': {'visibility': 'public', 'suffix': '/14923118_mCshnGk6hlG2UQaijQkEQGK44D9pT2LSRHXkpkmxYJA.jpg', 'id': '5182a099454a640f14bf1044', 'width': 2100, 'height': 802, 'prefix': 'https://igx.4sqi.net/img/general/', 'createdAt': 1367515289, 'source': {'name': 'Foursquare Web', 'url': 'https://foursquare.com'}}, 'text': 'Buckingham Fountain is open for the 2013 season, daily from 8 a.m. - 11 p.m. http://www.chicagoparkdistrict.com/parks/clarence-f-buckingham-memorial-fountain/', 'likes': {'groups': [{'count': 15, 'type': 'others', 'items': []}], 'count': 15, 'summary': '15 likes'}, 'id': '5182a098498e3116a4b6d128', 'photourl': 'https://igx.4sqi.net/img/general/original/14923118_mCshnGk6hlG2UQaijQkEQGK44D9pT2LSRHXkpkmxYJA.jpg', 'todo': {'count': 3}, 'createdAt': 1367515288, 'entities': [{'object': {'url': 'http://www.chicagoparkdistrict.com/parks/clarence-f-buckingham-memorial-fountain/'}, 'indices': [77, 158], 'type': 'url'}], 'logView': True, 'type': 'user', 'canonicalUrl': 'https://foursquare.com/item/5182a098498e3116a4b6d128', 'lang': 'en', 'disagreeCount': 0, 'user': {'photo': {'prefix': 'https://igx.4sqi.net/img/user/', 'suffix': '/TCCM0SNSYKZPLOBQ.jpg'}, 'gender': 'none', 'firstName': 'Chicago Park District', 'id': '14923118', 'type': 'chain'}, 'agreeCount': 15}]}], 'count': 124}, 'colors': {'highlightColor': {'value': -8869656, 'photoId': '505e2d54e4b0d7a5e3309f10'}, 'highlightTextColor': {'value': -16777216, 'photoId': '505e2d54e4b0d7a5e3309f10'}, 'algoVersion': 3}, 'likes': {'groups': [{'count': 1155, 'type': 'others', 'items': []}], 'count': 1155, 'summary': '1155 Likes'}, 'beenHere': {'marked': False, 'lastCheckinExpiredAt': 0, 'count': 0, 'unconfirmedCount': 0}, 'shortUrl': 'http://4sq.com/9MRujP', 'location': {'city': 'Chicago', 'lng': -87.62074697730398, 'crossStreet': 'at Michigan Ave', 'postalCode': '60601', 'cc': 'US', 'formattedAddress': ['337 E Randolph Dr (at Michigan Ave)', 'Chicago, IL 60601', 'United States'], 'state': 'IL', 'address': '337 E Randolph Dr', 'lat': 41.87340686476253, 'country': 'United States'}, 'name': 'Grant Park', 'pageUpdates': {'count': 2, 'items': []}, 'reasons': {'count': 1, 'items': [{'summary': 'Lots of people like this place', 'reasonName': 'rawLikesReason', 'type': 'general'}]}, 'ratingSignals': 1292, 'categories': [{'pluralName': 'Parks', 'id': '4bf58dd8d48988d163941735', 'name': 'Park', 'primary': True, 'icon': {'prefix': 'https://ss3.4sqi.net/img/categories_v2/parks_outdoors/park_', 'suffix': '.png'}, 'shortName': 'Park'}], 'inbox': {'count': 0, 'items': []}, 'id': '4c47533649fa9521cb1f5e62', 'canonicalUrl': 'https://foursquare.com/v/grant-park/4c47533649fa9521cb1f5e62', 'hereNow': {'groups': [], 'count': 0, 'summary': 'Nobody here'}, 'bestPhoto': {'visibility': 'public', 'suffix': '/238708_MBYPn9IJp5KcnEauERcxYUF4x9LM6TzhEog2Jw4WkSo.jpg', 'id': '505e2d54e4b0d7a5e3309f10', 'width': 720, 'height': 540, 'prefix': 'https://igx.4sqi.net/img/general/', 'createdAt': 1348349268, 'source': {'name': 'Foursquare for iOS', 'url': 'https://foursquare.com/download/#/iphone'}}, 'verified': True, 'specials': {'count': 0, 'items': []}, 'description': 'Proudly referred to as Chicago\\'s \"front yard,\" Grant Park is a public park, 319 acres located in Chicago’s central business district in the Loop Community area.  Grant Park’s most notable features include Millennium Park, Buckingham Fountain, the Art Institute of Chicago and the Museum Campus.', 'stats': {'tipCount': 124}, 'listed': {'groups': [{'name': 'Lists from other people', 'count': 835, 'type': 'others', 'items': [{'photo': {'visibility': 'public', 'suffix': '/5ei4JpVRPj-laeQyMbr5YegOXbQsolnZXpIVeJ7tKaI.jpg', 'id': '4fb2ddcce4b0fb410b79e104', 'width': 540, 'height': 540, 'prefix': 'https://igx.4sqi.net/img/general/', 'createdAt': 1337122252, 'user': {'photo': {'prefix': 'https://igx.4sqi.net/img/user/', 'suffix': '/3XABHPYAFTRQWX2Z.jpg'}, 'gender': 'male', 'firstName': 'Niko', 'id': '27079687'}}, 'followers': {'count': 451}, 'description': 'Best sights, restaurants and historical landmarks not to be missed in Chicago Area. Enjoy!', 'updatedAt': 1467837815, 'type': 'others', 'public': True, 'listItems': {'count': 101, 'items': [{'photo': {'visibility': 'public', 'suffix': '/PLfqUsjWpu1sP1RlHjPK_kVEiW209AAzZRTmzg4vxvw.jpg', 'id': '4fb272e2e4b03516ff6074f2', 'width': 537, 'height': 720, 'prefix': 'https://igx.4sqi.net/img/general/', 'createdAt': 1337094882, 'user': {'lastName': 'Mollo', 'gender': 'male', 'photo': {'prefix': 'https://igx.4sqi.net/img/user/', 'suffix': '/BTG2THQNLO2UFGYT.jpg'}, 'firstName': 'Joseph', 'id': '25006602'}}, 'createdAt': 1337336498, 'id': 't4c33943d3ffc9521f3a090f5'}, {'photo': {'visibility': 'public', 'suffix': '/q0-N1mdQ1WCs5nRFypPGAeNQ7cWofynBVkzcC_72Xa4.jpg', 'id': '4f7c59e6e4b00b8c4bf38d38', 'width': 612, 'height': 612, 'prefix': 'https://igx.4sqi.net/img/general/', 'createdAt': 1333549542, 'user': {'photo': {'prefix': 'https://igx.4sqi.net/img/user/', 'suffix': '/1739700_2n2nr1F7_IQPOG_EBmGry6ZpJjnySxK15RqZv2VVun8yMXdkUoaWktZVtR_KrpTKsAnJhlVBt.jpg'}, 'gender': 'male', 'firstName': 'DANIEL', 'id': '1739700'}}, 'createdAt': 1337336627, 'id': 't4c33b79ba0ced13a4c1b176e'}]}, 'createdAt': 1337335926, 'name': '101 places to see in Chicago before you die', 'url': '/boke/list/101-places-to-see-in-chicago-before-you-die', 'editable': False, 'id': '4fb62076e4b0ce16f1869bd2', 'canonicalUrl': 'https://foursquare.com/boke/list/101-places-to-see-in-chicago-before-you-die', 'collaborative': False, 'user': {'lastName': 'Garrido', 'gender': 'male', 'photo': {'prefix': 'https://igx.4sqi.net/img/user/', 'suffix': '/356747-WQOTM2ASOIERONL3.jpg'}, 'firstName': 'Victor', 'id': '356747'}}, {'photo': {'visibility': 'public', 'suffix': '/5339676_wtCc0saCfPHUzUNnPbTDeU8ieTqk015kRCFJqfFnpR8.jpg', 'id': '52a730f611d29be68e91586d', 'width': 803, 'height': 803, 'prefix': 'https://igx.4sqi.net/img/general/', 'createdAt': 1386688758, 'user': {'photo': {'prefix': 'https://igx.4sqi.net/img/user/', 'suffix': '/3MAPUHGXHTC3MWHJ.jpg'}, 'gender': 'none', 'firstName': 'Travel + Leisure', 'id': '5339676', 'type': 'page'}}, 'followers': {'count': 182}, 'description': 'You’ve got to do the classics, right? Here is Travel + Leisure’s inside scoop on how to do them the right way.', 'updatedAt': 1386690071, 'type': 'others', 'public': True, 'listItems': {'count': 16, 'items': [{'createdAt': 1343858596, 'id': 't4fc50715e4b0846170044526'}]}, 'createdAt': 1343857965, 'name': \"T+L's Guide to Chicago's Greatest Hits\", 'logView': True, 'url': '/travelleisure/list/tls-guide-to-chicagos-greatest-hits', 'editable': False, 'id': '5019a52de4b08dc6dc618f2d', 'canonicalUrl': 'https://foursquare.com/travelleisure/list/tls-guide-to-chicagos-greatest-hits', 'collaborative': False, 'user': {'photo': {'prefix': 'https://igx.4sqi.net/img/user/', 'suffix': '/3MAPUHGXHTC3MWHJ.jpg'}, 'gender': 'none', 'firstName': 'Travel + Leisure', 'id': '5339676', 'type': 'page'}}, {'photo': {'visibility': 'public', 'suffix': '/VYK3VDNZ0ZZAUGBXRZ3CWFGTYR11AO5UOXMOCK5ZLEFYJX0T.jpg', 'id': '4e4a84b0aeb7de71b3974715', 'width': 637, 'height': 356, 'prefix': 'https://igx.4sqi.net/img/general/', 'createdAt': 1313506480, 'user': {'photo': {'prefix': 'https://igx.4sqi.net/img/user/', 'suffix': '/3385062-RLCEQWYUJQMEDRWU.jpg'}, 'gender': 'female', 'firstName': 'Ana', 'id': '3385062'}}, 'followers': {'count': 548}, 'description': '3 Day Chicago Itinerary: http://www.chicagologue.com/itinerary-three-days-in-chicago.html', 'updatedAt': 1438931854, 'id': '4e4c99bba809b3dab3ad32ce', 'public': True, 'listItems': {'count': 20, 'items': [{'photo': {'visibility': 'public', 'suffix': '/VPAUUQU2XY2ZD22I0XMZDRLWGWV4ZHHHL3T0HEDWSLHAZSCM.jpg', 'id': '4e47a6eee4cd9d94fb3254ac', 'width': 720, 'height': 540, 'prefix': 'https://igx.4sqi.net/img/general/', 'createdAt': 1313318638, 'user': {'lastName': 'Kincaid', 'gender': 'male', 'photo': {'prefix': 'https://igx.4sqi.net/img/user/', 'suffix': '/blank_boy.png', 'default': True}, 'firstName': 'Sam', 'id': '5445061'}}, 'createdAt': 1313642939, 'id': 't4c33943d3ffc9521f3a090f5'}]}, 'createdAt': 1313642939, 'entities': [{'object': {'url': 'http://www.chicagologue.com/itinerary-three-days-in-chicago.html'}, 'indices': [25, 89], 'type': 'url'}], 'name': 'Must-see Chicago: The Classics', 'logView': True, 'url': '/p/whygo-travel/12684139/list/mustsee-chicago-the-classics', 'editable': False, 'type': 'others', 'canonicalUrl': 'https://foursquare.com/p/whygo-travel/12684139/list/mustsee-chicago-the-classics', 'collaborative': False, 'user': {'photo': {'prefix': 'https://igx.4sqi.net/img/user/', 'suffix': '/FAD024S143ZOZA0N.jpg'}, 'gender': 'none', 'firstName': 'WhyGo Travel', 'id': '12684139', 'type': 'page'}}, {'photo': {'visibility': 'public', 'suffix': '/R4FBKURFQLTO0PPQD55QXS5PMZO0XTNEXY3VLQUT0O2A4SAA.jpg', 'id': '4e8b7811f790db5ec35c51b2', 'width': 537, 'height': 720, 'prefix': 'https://igx.4sqi.net/img/general/', 'createdAt': 1317763089, 'user': {'photo': {'prefix': 'https://igx.4sqi.net/img/user/', 'suffix': '/XIQL0TEFGCSOJIGQ.jpg'}, 'gender': 'female', 'firstName': 'Marcella', 'id': '8784537'}}, 'followers': {'count': 215}, 'description': '', 'updatedAt': 1358417789, 'type': 'others', 'public': True, 'listItems': {'count': 8, 'items': [{'createdAt': 1320088666, 'id': 't4eaef474722e4efd614da2db'}]}, 'createdAt': 1320088371, 'name': 'Best city parks', 'logView': True, 'url': '/timeoutchicago/list/best-city-parks', 'editable': False, 'id': '4eaef33330f861493130b71e', 'canonicalUrl': 'https://foursquare.com/timeoutchicago/list/best-city-parks', 'collaborative': False, 'user': {'photo': {'prefix': 'https://igx.4sqi.net/img/user/', 'suffix': '/R2RSEQ533D211UR0.jpg'}, 'gender': 'none', 'firstName': 'Time Out Chicago', 'id': '843848', 'type': 'page'}}]}], 'count': 835}, 'page': {'pageInfo': {'banner': 'https://is1.4sqi.net/userpix/OB2ISIMJDUS4WARU.jpg', 'description': 'The Chicago Park District manages 8100 acres of green space, 592 parks, 26 miles of lakefront, 10 museums, 50 nature areas, & hundreds of programs & events.', 'links': {'count': 1, 'items': [{'url': 'http://www.chicagoparkdistrict.com'}]}}, 'user': {'photo': {'prefix': 'https://igx.4sqi.net/img/user/', 'suffix': '/TCCM0SNSYKZPLOBQ.jpg'}, 'tips': {'count': 96}, 'bio': '', 'homeCity': 'Chicago, IL', 'firstName': 'Chicago Park District', 'id': '14923118', 'type': 'chain', 'contact': {}, 'gender': 'none', 'lists': {'groups': [{'count': 9, 'type': 'created', 'items': []}]}}}, 'contact': {'formattedPhone': '(312) 742-3918', 'phone': '3127423918'}, 'ratingColor': '00B551', 'hours': {'isOpen': False, 'timeframes': [{'days': 'Mon–Sun', 'segments': [], 'includesToday': True, 'open': [{'renderedTime': '6:00 AM–11:00 PM'}]}], 'richStatus': {'text': 'Closed until 6:00 AM', 'entities': []}, 'dayData': [], 'isLocalHoliday': False, 'status': 'Closed until 6:00 AM'}, 'dislike': False, 'popular': {'isOpen': False, 'timeframes': [{'days': 'Today', 'segments': [], 'includesToday': True, 'open': [{'renderedTime': '5:00 PM–7:00 PM'}]}, {'days': 'Thu', 'segments': [], 'open': [{'renderedTime': 'Noon–8:00 PM'}]}, {'days': 'Fri', 'segments': [], 'open': [{'renderedTime': '10:00 AM–9:00 PM'}]}, {'days': 'Sat', 'segments': [], 'open': [{'renderedTime': '8:00 AM–9:00 PM'}]}, {'days': 'Sun', 'segments': [], 'open': [{'renderedTime': '6:00 AM–7:00 PM'}]}, {'days': 'Mon', 'segments': [], 'open': [{'renderedTime': 'None'}]}, {'days': 'Tue', 'segments': [], 'open': [{'renderedTime': '5:00 PM–6:00 PM'}]}], 'isLocalHoliday': False}, 'photos': {'groups': [{'name': \"Friends' check-in photos\", 'count': 0, 'type': 'checkin', 'items': []}, {'name': 'Venue photos', 'count': 2006, 'type': 'venue', 'items': [{'visibility': 'public', 'suffix': '/238708_MBYPn9IJp5KcnEauERcxYUF4x9LM6TzhEog2Jw4WkSo.jpg', 'id': '505e2d54e4b0d7a5e3309f10', 'width': 720, 'height': 540, 'prefix': 'https://igx.4sqi.net/img/general/', 'createdAt': 1348349268, 'user': {'lastName': 'Garcia', 'gender': 'male', 'photo': {'prefix': 'https://igx.4sqi.net/img/user/', 'suffix': '/238708-EQV5GVD5TBSWJADH.jpg'}, 'firstName': 'Gabriel', 'id': '238708'}, 'source': {'name': 'Foursquare for iOS', 'url': 'https://foursquare.com/download/#/iphone'}}, {'visibility': 'public', 'suffix': '/11191147_EtTf54-3TEppSR_0Xh2D8hqNE8_hxTOleCyW8IxI8h8.jpg', 'id': '51901017498e133a42777b59', 'width': 1918, 'height': 1434, 'prefix': 'https://igx.4sqi.net/img/general/', 'createdAt': 1368395799, 'user': {'lastName': 'Conkle', 'gender': 'male', 'photo': {'prefix': 'https://igx.4sqi.net/img/user/', 'suffix': '/LZIWDX3DWY0KPO3N.jpg'}, 'firstName': 'Jeff', 'id': '11191147'}, 'source': {'name': 'Foursquare for iOS', 'url': 'https://foursquare.com/download/#/iphone'}}]}], 'count': 2006, 'summary': '0 photos'}, 'attributes': {'groups': []}, 'rating': 9.6, 'url': 'http://chicagoparkdistrict.com', 'storeId': '', 'timeZone': 'America/Chicago', 'createdAt': 1279742774, 'ok': False}}, 'meta': {'code': 200, 'requestId': '5bb4641b4c1f67209c6e1195'}}\n"
     ]
    },
    {
     "name": "stdout",
     "output_type": "stream",
     "text": [
      "{'response': {'venue': {'tips': {'groups': [{'name': 'All tips', 'count': 68, 'type': 'others', 'items': [{'text': 'Often referred to as “landscape art under glass,” the free admission conservatory occupies approximately 4.5 acres inside and out, where thousands of plant species are on display.', 'likes': {'groups': [{'count': 31, 'type': 'others', 'items': []}], 'count': 31, 'summary': '31 likes'}, 'id': '4e70d22c814dd2cb96252461', 'todo': {'count': 110}, 'logView': True, 'createdAt': 1316016684, 'disagreeCount': 0, 'url': 'http://bit.ly/bmLimA', 'type': 'user', 'canonicalUrl': 'https://foursquare.com/item/4e70d22c814dd2cb96252461', 'lang': 'en', 'user': {'photo': {'prefix': 'https://igx.4sqi.net/img/user/', 'suffix': '/JEBEI3ZWJ53R2G2W.jpg'}, 'gender': 'none', 'firstName': 'Explore Chicago', 'id': '238086', 'type': 'page'}, 'agreeCount': 31}, {'text': 'As the city’s horticulture haven continues rebuilding due to hail damage sustained last June, the temperature hovers at a humid 75 degrees in the mighty jungles of the open Palm and Fern rooms.', 'likes': {'groups': [{'count': 12, 'type': 'others', 'items': []}], 'count': 12, 'summary': '12 likes'}, 'id': '4f19c137e4b00ed354328d2b', 'todo': {'count': 5}, 'logView': True, 'createdAt': 1327087927, 'disagreeCount': 0, 'url': 'http://timeoutchicago.com/things-to-do/this-week-in-chicago/15075679/tropic-chicago-you-asked-for-it', 'type': 'user', 'canonicalUrl': 'https://foursquare.com/item/4f19c137e4b00ed354328d2b', 'lang': 'en', 'user': {'photo': {'prefix': 'https://igx.4sqi.net/img/user/', 'suffix': '/R2RSEQ533D211UR0.jpg'}, 'gender': 'none', 'firstName': 'Time Out Chicago', 'id': '843848', 'type': 'page'}, 'agreeCount': 12}]}], 'count': 68}, 'colors': {'highlightColor': {'value': -15194096, 'photoId': '51eaca85498e8a37f88f643c'}, 'highlightTextColor': {'value': -1, 'photoId': '51eaca85498e8a37f88f643c'}, 'algoVersion': 3}, 'likes': {'groups': [{'count': 328, 'type': 'others', 'items': []}], 'count': 328, 'summary': '328 Likes'}, 'beenHere': {'marked': False, 'lastCheckinExpiredAt': 0, 'count': 0, 'unconfirmedCount': 0}, 'shortUrl': 'http://4sq.com/6rkfBK', 'location': {'labeledLatLngs': [{'label': 'display', 'lng': -87.717177, 'lat': 41.886259}], 'city': 'Chicago', 'lng': -87.717177, 'crossStreet': 'at Lake St', 'postalCode': '60624', 'cc': 'US', 'formattedAddress': ['300 N Central Park Ave (at Lake St)', 'Chicago, IL 60624', 'United States'], 'state': 'IL', 'address': '300 N Central Park Ave', 'lat': 41.886259, 'country': 'United States'}, 'name': 'Garfield Park Conservatory', 'pageUpdates': {'count': 1, 'items': []}, 'reasons': {'count': 1, 'items': [{'summary': 'Lots of people like this place', 'reasonName': 'rawLikesReason', 'type': 'general'}]}, 'ratingSignals': 388, 'categories': [{'pluralName': 'Gardens', 'id': '4bf58dd8d48988d15a941735', 'name': 'Garden', 'primary': True, 'icon': {'prefix': 'https://ss3.4sqi.net/img/categories_v2/parks_outdoors/garden_', 'suffix': '.png'}, 'shortName': 'Garden'}], 'inbox': {'count': 0, 'items': []}, 'id': '49dce128f964a520b65f1fe3', 'canonicalUrl': 'https://foursquare.com/v/garfield-park-conservatory/49dce128f964a520b65f1fe3', 'hereNow': {'groups': [], 'count': 0, 'summary': 'Nobody here'}, 'bestPhoto': {'visibility': 'public', 'suffix': '/243070_OYxrTQdPqUBYXRvPta-dVWAXgFcN7BjvzLOc_dDkGS4.jpg', 'id': '51eaca85498e8a37f88f643c', 'width': 612, 'height': 612, 'prefix': 'https://igx.4sqi.net/img/general/', 'createdAt': 1374341765, 'source': {'name': 'Instagram', 'url': 'http://instagram.com'}}, 'verified': True, 'specials': {'count': 0, 'items': []}, 'description': 'As one of the largest conservatories in the nation occupying 4.5 acres, the facility was designed by renowned landscape architect Jens Jensen. Thousands of plant species are on display throughout its eight rooms and magnificent outdoor floral gardens.', 'stats': {'tipCount': 68}, 'listed': {'groups': [{'name': 'Lists from other people', 'count': 537, 'type': 'others', 'items': [{'photo': {'visibility': 'public', 'suffix': '/R1VIBTLXTW4EK2W21GTA22D0C25H3BDQQB1LZCYFEBA05DKQ.jpg', 'id': '4dc9c9c240a3d0724980dddf', 'width': 537, 'height': 720, 'prefix': 'https://igx.4sqi.net/img/general/', 'createdAt': 1305070018, 'user': {'lastName': 'Higgins', 'gender': 'male', 'photo': {'prefix': 'https://igx.4sqi.net/img/user/', 'suffix': '/TJHYPONAXBPMNDIR.jpg'}, 'firstName': 'James', 'id': '641865'}}, 'followers': {'count': 582}, 'description': '', 'updatedAt': 1350016457, 'type': 'others', 'public': True, 'listItems': {'count': 41, 'items': [{'createdAt': 1316194599, 'id': 'v49dce128f964a520b65f1fe3'}, {'photo': {'visibility': 'public', 'suffix': '/JJAM421YS0GXQBNH5UBFJ0P4LTH45WD0XZ03D32VGEVGQFGW.jpg', 'id': '4e5fc6f8d22db5594fd7f92b', 'width': 538, 'height': 720, 'prefix': 'https://igx.4sqi.net/img/general/', 'createdAt': 1314899704, 'user': {'lastName': 'Brook', 'gender': 'male', 'photo': {'prefix': 'https://igx.4sqi.net/img/user/', 'suffix': '/48561-TGMVTWOBRTCECKC4.jpg'}, 'firstName': 'Chris', 'id': '48561'}}, 'createdAt': 1316214583, 'id': 't4e70d22c814dd2cb96252461'}]}, 'createdAt': 1316194599, 'name': 'Windy City', 'url': '/jrdraga/list/windy-city', 'editable': False, 'id': '4e7389277d8b051837fe224e', 'canonicalUrl': 'https://foursquare.com/jrdraga/list/windy-city', 'collaborative': False, 'user': {'photo': {'prefix': 'https://igx.4sqi.net/img/user/', 'suffix': '/SXQE5RMZJUHV3ELU.gif'}, 'gender': 'male', 'firstName': 'John', 'id': '3819171'}}, {'photo': {'visibility': 'public', 'suffix': '/FtyHiKTPHyq3xPZkmfpm2U11GbjVEMTD9VqTSmSZ0pA.jpg', 'id': '4fbd2b78e4b05c99c4639859', 'width': 612, 'height': 612, 'prefix': 'https://igx.4sqi.net/img/general/', 'createdAt': 1337797496, 'user': {'lastName': 'Pridgen', 'gender': 'male', 'photo': {'prefix': 'https://igx.4sqi.net/img/user/', 'suffix': '/3797977-S0E55AI3HKKMTTWJ.jpg'}, 'firstName': 'Shawn', 'id': '3797977'}}, 'followers': {'count': 2283}, 'description': 'For our 100th Foursquare list, we compiled a list of 100 picks (some instantly recognizable, some not so much) of our favorite restaurants, bars, theaters, thrift stores, and shops in the city. Enjoy!', 'updatedAt': 1438931858, 'type': 'others', 'public': True, 'listItems': {'count': 100, 'items': [{'photo': {'visibility': 'public', 'suffix': '/diRnAnxwTZjZmQYc1aivnrT6-mbNYQdEYrkqE_iZzCg.jpg', 'id': '4fb80ba7e4b061f0298b14ef', 'width': 612, 'height': 612, 'prefix': 'https://igx.4sqi.net/img/general/', 'createdAt': 1337461671, 'user': {'lastName': 'Johnson', 'gender': 'male', 'photo': {'prefix': 'https://igx.4sqi.net/img/user/', 'suffix': '/PVP3XGB3RR5TY5QV.jpg'}, 'firstName': 'David', 'id': '1775375'}}, 'createdAt': 1337803531, 'id': 'v49dce128f964a520b65f1fe3'}]}, 'createdAt': 1337801386, 'name': '100 Best Places in Chicago: TOC Staff Picks', 'logView': True, 'url': '/timeoutchicago/list/100-best-places-in-chicago-toc-staff-picks', 'editable': False, 'id': '4fbd3aaae4b0caa891610a81', 'canonicalUrl': 'https://foursquare.com/timeoutchicago/list/100-best-places-in-chicago-toc-staff-picks', 'collaborative': False, 'user': {'photo': {'prefix': 'https://igx.4sqi.net/img/user/', 'suffix': '/R2RSEQ533D211UR0.jpg'}, 'gender': 'none', 'firstName': 'Time Out Chicago', 'id': '843848', 'type': 'page'}}]}], 'count': 537}, 'page': {'pageInfo': {'banner': 'https://is1.4sqi.net/userpix/OB2ISIMJDUS4WARU.jpg', 'description': 'The Chicago Park District manages 8100 acres of green space, 592 parks, 26 miles of lakefront, 10 museums, 50 nature areas, & hundreds of programs & events.', 'links': {'count': 1, 'items': [{'url': 'http://www.chicagoparkdistrict.com'}]}}, 'user': {'photo': {'prefix': 'https://igx.4sqi.net/img/user/', 'suffix': '/TCCM0SNSYKZPLOBQ.jpg'}, 'tips': {'count': 96}, 'bio': '', 'homeCity': 'Chicago, IL', 'firstName': 'Chicago Park District', 'id': '14923118', 'type': 'chain', 'contact': {}, 'gender': 'none', 'lists': {'groups': [{'count': 9, 'type': 'created', 'items': []}]}}}, 'contact': {'formattedPhone': '(773) 638-1766', 'phone': '7736381766', 'twitter': 'gpconservatory'}, 'ratingColor': '00B551', 'hours': {'isOpen': False, 'timeframes': [{'days': 'Mon–Tue, Thu–Sun', 'segments': [], 'open': [{'renderedTime': '9:00 AM–5:00 PM'}]}, {'days': 'Wed', 'segments': [], 'includesToday': True, 'open': [{'renderedTime': '9:00 AM–8:00 PM'}]}], 'richStatus': {'text': 'Closed until 9:00 AM', 'entities': []}, 'dayData': [], 'isLocalHoliday': False, 'status': 'Closed until 9:00 AM'}, 'dislike': False, 'popular': {'isOpen': False, 'timeframes': [{'days': 'Today', 'segments': [], 'includesToday': True, 'open': [{'renderedTime': '11:00 AM–Noon'}, {'renderedTime': '3:00 PM–8:00 PM'}]}, {'days': 'Thu', 'segments': [], 'open': [{'renderedTime': '1:00 PM–8:00 PM'}]}, {'days': 'Fri', 'segments': [], 'open': [{'renderedTime': '10:00 AM–5:00 PM'}]}, {'days': 'Sat', 'segments': [], 'open': [{'renderedTime': '9:00 AM–6:00 PM'}]}, {'days': 'Sun', 'segments': [], 'open': [{'renderedTime': '9:00 AM–5:00 PM'}]}, {'days': 'Mon', 'segments': [], 'open': [{'renderedTime': '10:00 AM–4:00 PM'}]}, {'days': 'Tue', 'segments': [], 'open': [{'renderedTime': '3:00 PM–4:00 PM'}]}], 'isLocalHoliday': False}, 'photos': {'groups': [{'name': \"Friends' check-in photos\", 'count': 0, 'type': 'checkin', 'items': []}, {'name': 'Venue photos', 'count': 839, 'type': 'venue', 'items': [{'visibility': 'public', 'suffix': '/243070_OYxrTQdPqUBYXRvPta-dVWAXgFcN7BjvzLOc_dDkGS4.jpg', 'id': '51eaca85498e8a37f88f643c', 'width': 612, 'height': 612, 'prefix': 'https://igx.4sqi.net/img/general/', 'createdAt': 1374341765, 'user': {'lastName': 'Boyle', 'gender': 'male', 'photo': {'prefix': 'https://igx.4sqi.net/img/user/', 'suffix': '/IHD3CNCE2OIO5AEG.jpg'}, 'firstName': 'Alec', 'id': '243070'}, 'source': {'name': 'Instagram', 'url': 'http://instagram.com'}}, {'visibility': 'public', 'suffix': '/pfdC6-X17wzv4OdZNfVDzijPPNWwt_f0GV4f738ZOLU.jpg', 'id': '4fe2576de4b053fe13917dd1', 'width': 720, 'height': 540, 'prefix': 'https://igx.4sqi.net/img/general/', 'createdAt': 1340233581, 'user': {'lastName': 'M', 'gender': 'male', 'photo': {'prefix': 'https://igx.4sqi.net/img/user/', 'suffix': '/N550VC1NLA3IP14R.jpg'}, 'firstName': 'Matthew', 'id': '8843032'}, 'source': {'name': 'Foursquare for Android', 'url': 'https://foursquare.com/download/#/android'}}]}], 'count': 839, 'summary': '0 photos'}, 'attributes': {'groups': []}, 'rating': 9.6, 'url': 'http://garfieldconservatory.org', 'storeId': '', 'timeZone': 'America/Chicago', 'createdAt': 1239212328, 'ok': False}}, 'meta': {'code': 200, 'requestId': '5bb4641c1ed2190983f9849d'}}\n"
     ]
    },
    {
     "name": "stdout",
     "output_type": "stream",
     "text": [
      "{'response': {'venue': {'tips': {'groups': [{'name': 'All tips', 'count': 117, 'type': 'others', 'items': [{'photo': {'visibility': 'public', 'suffix': '/14923118_aCe0MurL1KJ3lXKdd_jGyrJpahKMgOxFJFgRvpZvBlc.jpg', 'id': '5182822850190c4a1b123101', 'width': 959, 'height': 639, 'prefix': 'https://igx.4sqi.net/img/general/', 'createdAt': 1367507496, 'source': {'name': 'Foursquare Web', 'url': 'https://foursquare.com'}}, 'text': 'Urban Kayaks are open for the season! Located at 270 E. Riverwalk South. Mon - Fri 10 a.m. - 6 p.m. and Sat - Sun 9 a.m. - 5 p.m. (312) 965-0035 http://urbankayaks.com/', 'likes': {'groups': [{'count': 18, 'type': 'others', 'items': []}], 'count': 18, 'summary': '18 likes'}, 'id': '51828226498ee62ddc9c6b6f', 'photourl': 'https://igx.4sqi.net/img/general/original/14923118_aCe0MurL1KJ3lXKdd_jGyrJpahKMgOxFJFgRvpZvBlc.jpg', 'todo': {'count': 7}, 'createdAt': 1367507494, 'entities': [{'object': {'url': 'http://urbankayaks.com/'}, 'indices': [145, 168], 'type': 'url'}], 'logView': True, 'type': 'user', 'canonicalUrl': 'https://foursquare.com/item/51828226498ee62ddc9c6b6f', 'lang': 'en', 'disagreeCount': 0, 'user': {'photo': {'prefix': 'https://igx.4sqi.net/img/user/', 'suffix': '/TCCM0SNSYKZPLOBQ.jpg'}, 'gender': 'none', 'firstName': 'Chicago Park District', 'id': '14923118', 'type': 'chain'}, 'agreeCount': 18}, {'text': 'For the first 10 minutes of each hour during the day, Centennial Fountain at the east end shoots water in a great arc across the river.', 'likes': {'groups': [{'count': 6, 'type': 'others', 'items': [{'lastName': 'Fitt', 'gender': 'male', 'photo': {'prefix': 'https://igx.4sqi.net/img/user/', 'suffix': '/170146-X04QRRJ4YI142SPU.jpg'}, 'firstName': 'Andrew', 'id': '170146'}, {'lastName': 'Deaver', 'gender': 'female', 'photo': {'prefix': 'https://igx.4sqi.net/img/user/', 'suffix': '/JWPZG4ORAA5XIL4A.jpg'}, 'firstName': 'Melanie', 'id': '1099780'}, {'lastName': 'Chin', 'gender': 'female', 'photo': {'prefix': 'https://igx.4sqi.net/img/user/', 'suffix': '/B1D2IRTC1PPM5YWT.jpg'}, 'firstName': 'Laura', 'id': '1529407'}, {'lastName': 'Weins', 'gender': 'male', 'photo': {'prefix': 'https://igx.4sqi.net/img/user/', 'suffix': '/18666264_b6hT1L7Z_AvavLZcSFXHvSNxBK_3U-kP3kXAzigx0zjq9-0lIMF-jQsfu7Y1cdhj2In0BSNVd.jpg'}, 'firstName': 'Niklas', 'id': '18666264'}]}], 'count': 6, 'summary': '6 likes'}, 'id': '4fc508a6e4b035d6cb42d93f', 'todo': {'count': 6}, 'logView': True, 'createdAt': 1338312870, 'disagreeCount': 0, 'url': 'http://www.travelandleisure.com/activities/chicago-riverwalk-chicago', 'type': 'user', 'canonicalUrl': 'https://foursquare.com/item/4fc508a6e4b035d6cb42d93f', 'lang': 'en', 'user': {'photo': {'prefix': 'https://igx.4sqi.net/img/user/', 'suffix': '/3MAPUHGXHTC3MWHJ.jpg'}, 'gender': 'none', 'firstName': 'Travel + Leisure', 'id': '5339676', 'type': 'page'}, 'agreeCount': 6}]}], 'count': 117}, 'likes': {'groups': [{'count': 1131, 'type': 'others', 'items': []}], 'count': 1131, 'summary': '1131 Likes'}, 'beenHere': {'marked': False, 'lastCheckinExpiredAt': 0, 'count': 0, 'unconfirmedCount': 0}, 'shortUrl': 'http://4sq.com/cKJP60', 'location': {'labeledLatLngs': [{'label': 'display', 'lng': -87.627217, 'lat': 41.88728}], 'city': 'Chicago', 'lng': -87.627217, 'postalCode': '60601', 'cc': 'US', 'formattedAddress': ['Chicago River', 'Chicago, IL 60601', 'United States'], 'state': 'IL', 'address': 'Chicago River', 'lat': 41.88728, 'country': 'United States'}, 'name': 'Chicago Riverwalk', 'pageUpdates': {'count': 0, 'items': []}, 'reasons': {'count': 1, 'items': [{'summary': 'Lots of people like this place', 'reasonName': 'rawLikesReason', 'type': 'general'}]}, 'ratingSignals': 1267, 'categories': [{'pluralName': 'Waterfronts', 'id': '56aa371be4b08b9a8d5734c3', 'name': 'Waterfront', 'primary': True, 'icon': {'prefix': 'https://ss3.4sqi.net/img/categories_v2/parks_outdoors/river_', 'suffix': '.png'}, 'shortName': 'Waterfront'}], 'id': '4b9d15c5f964a520478e36e3', 'canonicalUrl': 'https://foursquare.com/v/chicago-riverwalk/4b9d15c5f964a520478e36e3', 'hereNow': {'groups': [], 'count': 0, 'summary': 'Nobody here'}, 'bestPhoto': {'visibility': 'public', 'suffix': '/5765969_Mg-UqGlk4lS61B_QmvUsr3c5f-u0kIlPaAu8I3ne2Io.jpg', 'id': '50b58805e4b0b21373f06448', 'width': 540, 'height': 720, 'prefix': 'https://igx.4sqi.net/img/general/', 'createdAt': 1354074117, 'source': {'name': 'Foursquare for iOS', 'url': 'https://foursquare.com/download/#/iphone'}}, 'specials': {'count': 0, 'items': []}, 'inbox': {'count': 0, 'items': []}, 'stats': {'tipCount': 117}, 'listed': {'groups': [{'name': 'Lists from other people', 'count': 944, 'type': 'others', 'items': [{'photo': {'visibility': 'public', 'suffix': '/5ei4JpVRPj-laeQyMbr5YegOXbQsolnZXpIVeJ7tKaI.jpg', 'id': '4fb2ddcce4b0fb410b79e104', 'width': 540, 'height': 540, 'prefix': 'https://igx.4sqi.net/img/general/', 'createdAt': 1337122252, 'user': {'photo': {'prefix': 'https://igx.4sqi.net/img/user/', 'suffix': '/3XABHPYAFTRQWX2Z.jpg'}, 'gender': 'male', 'firstName': 'Niko', 'id': '27079687'}}, 'followers': {'count': 451}, 'description': 'Best sights, restaurants and historical landmarks not to be missed in Chicago Area. Enjoy!', 'updatedAt': 1467837815, 'type': 'others', 'public': True, 'listItems': {'count': 101, 'items': [{'photo': {'visibility': 'public', 'suffix': '/tmzDPs0C9uYwsPCpBBLUciddiHQZH0Jx84e-IsG6X8w.jpg', 'id': '4f64d947e4b045fbd422f726', 'width': 537, 'height': 720, 'prefix': 'https://igx.4sqi.net/img/general/', 'createdAt': 1332009287, 'user': {'lastName': 'Llames', 'gender': 'female', 'photo': {'prefix': 'https://igx.4sqi.net/img/user/', 'suffix': '/WMPMKU12MU1FQBT4.jpg'}, 'firstName': 'Adriana', 'id': '3111146'}}, 'createdAt': 1337337426, 'id': 'v4b9d15c5f964a520478e36e3'}]}, 'createdAt': 1337335926, 'name': '101 places to see in Chicago before you die', 'url': '/boke/list/101-places-to-see-in-chicago-before-you-die', 'editable': False, 'id': '4fb62076e4b0ce16f1869bd2', 'canonicalUrl': 'https://foursquare.com/boke/list/101-places-to-see-in-chicago-before-you-die', 'collaborative': False, 'user': {'lastName': 'Garrido', 'gender': 'male', 'photo': {'prefix': 'https://igx.4sqi.net/img/user/', 'suffix': '/356747-WQOTM2ASOIERONL3.jpg'}, 'firstName': 'Victor', 'id': '356747'}}, {'photo': {'visibility': 'public', 'suffix': '/5339676_wtCc0saCfPHUzUNnPbTDeU8ieTqk015kRCFJqfFnpR8.jpg', 'id': '52a730f611d29be68e91586d', 'width': 803, 'height': 803, 'prefix': 'https://igx.4sqi.net/img/general/', 'createdAt': 1386688758, 'user': {'photo': {'prefix': 'https://igx.4sqi.net/img/user/', 'suffix': '/3MAPUHGXHTC3MWHJ.jpg'}, 'gender': 'none', 'firstName': 'Travel + Leisure', 'id': '5339676', 'type': 'page'}}, 'followers': {'count': 182}, 'description': 'You’ve got to do the classics, right? Here is Travel + Leisure’s inside scoop on how to do them the right way.', 'updatedAt': 1386690071, 'type': 'others', 'public': True, 'listItems': {'count': 16, 'items': [{'createdAt': 1343858751, 'id': 't4fc508a6e4b035d6cb42d93f'}]}, 'createdAt': 1343857965, 'name': \"T+L's Guide to Chicago's Greatest Hits\", 'logView': True, 'url': '/travelleisure/list/tls-guide-to-chicagos-greatest-hits', 'editable': False, 'id': '5019a52de4b08dc6dc618f2d', 'canonicalUrl': 'https://foursquare.com/travelleisure/list/tls-guide-to-chicagos-greatest-hits', 'collaborative': False, 'user': {'photo': {'prefix': 'https://igx.4sqi.net/img/user/', 'suffix': '/3MAPUHGXHTC3MWHJ.jpg'}, 'gender': 'none', 'firstName': 'Travel + Leisure', 'id': '5339676', 'type': 'page'}}, {'photo': {'visibility': 'public', 'suffix': '/1VZrm24axgJxG4q55u6VhhRDdtVhsKt2SR6c4SDvjbM.jpg', 'id': '4f381f8ce4b099ca95238ebf', 'width': 640, 'height': 480, 'prefix': 'https://igx.4sqi.net/img/general/', 'createdAt': 1329078156, 'user': {'photo': {'prefix': 'https://igx.4sqi.net/img/user/', 'suffix': '/UMKQ0LTUEAPPNWH5.jpg'}, 'gender': 'none', 'firstName': 'Adrienne', 'id': '20103654'}}, 'followers': {'count': 57}, 'description': '', 'updatedAt': 1519585151, 'type': 'others', 'public': True, 'listItems': {'count': 92, 'items': [{'photo': {'visibility': 'public', 'suffix': '/903306_5WKZtEX_o-6QJify98A9G2DczNT0ydyJgWJ_SM8Jt84.jpg', 'id': '50a83898e4b014b7ab286a33', 'width': 612, 'height': 612, 'prefix': 'https://igx.4sqi.net/img/general/', 'createdAt': 1353201816, 'user': {'lastName': 'Ismat', 'gender': 'male', 'photo': {'prefix': 'https://igx.4sqi.net/img/user/', 'suffix': '/U4WX2CSFH4Q4UH0V.jpg'}, 'firstName': 'Igin', 'id': '903306'}}, 'createdAt': 1354481856, 'id': 'v4b9d15c5f964a520478e36e3'}]}, 'createdAt': 1329401122, 'name': 'Traveling Chicago', 'url': '/mauricio2099/list/traveling-chicago', 'editable': False, 'id': '4f3d0d22e4b0e60290deea61', 'canonicalUrl': 'https://foursquare.com/mauricio2099/list/traveling-chicago', 'collaborative': False, 'user': {'lastName': 'De la Torre', 'gender': 'male', 'photo': {'prefix': 'https://igx.4sqi.net/img/user/', 'suffix': '/4298308-VTEUEFHQD3AQKBCK.jpg'}, 'firstName': 'Mauricio', 'id': '4298308'}}, {'photo': {'visibility': 'public', 'suffix': '/CnkRcEFypZjh5_MUjW_rPLe4TZMYzI98ezLrp_L2McE.jpg', 'id': '50133d9be4b0e259d2c5e371', 'width': 720, 'height': 540, 'prefix': 'https://igx.4sqi.net/img/general/', 'createdAt': 1343438235, 'user': {'lastName': 'Wright', 'gender': 'male', 'photo': {'prefix': 'https://igx.4sqi.net/img/user/', 'suffix': '/5898585-CHQTKIMCPSBPUBTK.jpg'}, 'firstName': 'Zach', 'id': '5898585'}}, 'followers': {'count': 63}, 'description': '', 'updatedAt': 1517595793, 'type': 'others', 'public': True, 'listItems': {'count': 127, 'items': [{'createdAt': 1361861397, 'id': 'v4b9d15c5f964a520478e36e3'}]}, 'createdAt': 1361845675, 'name': 'How to chill in ChiTown in 10 days', 'url': '/furrytexan/list/how-to-chill-in-chitown-in-10-days', 'editable': False, 'id': '512c1dabe4b0bbd7004ebc02', 'canonicalUrl': 'https://foursquare.com/furrytexan/list/how-to-chill-in-chitown-in-10-days', 'collaborative': False, 'user': {'lastName': 'Garcia', 'gender': 'male', 'photo': {'prefix': 'https://igx.4sqi.net/img/user/', 'suffix': '/11948472_2yezk14q_4gxNe9cYzFCLrbvwUYm5d0q_V4SaT3mEMpJWrp6QfC6CjKnAkc3YorXSb98Ya5TF.jpg'}, 'firstName': 'Gregory', 'id': '11948472'}}]}], 'count': 944}, 'colors': {'highlightColor': {'value': -13621232, 'photoId': '50b58805e4b0b21373f06448'}, 'highlightTextColor': {'value': -1, 'photoId': '50b58805e4b0b21373f06448'}, 'algoVersion': 3}, 'contact': {}, 'ratingColor': '00B551', 'dislike': False, 'popular': {'isOpen': False, 'timeframes': [{'days': 'Today', 'segments': [], 'includesToday': True, 'open': [{'renderedTime': '8:00 AM–9:00 AM'}, {'renderedTime': 'Noon–8:00 PM'}]}, {'days': 'Thu', 'segments': [], 'open': [{'renderedTime': '8:00 AM–9:00 AM'}, {'renderedTime': 'Noon–7:00 PM'}]}, {'days': 'Fri', 'segments': [], 'open': [{'renderedTime': '11:00 AM–8:00 PM'}]}, {'days': 'Sat', 'segments': [], 'open': [{'renderedTime': '9:00 AM–9:00 PM'}]}, {'days': 'Sun', 'segments': [], 'open': [{'renderedTime': '10:00 AM–10:00 PM'}]}, {'days': 'Mon', 'segments': [], 'open': [{'renderedTime': '11:00 AM–7:00 PM'}]}, {'days': 'Tue', 'segments': [], 'open': [{'renderedTime': '8:00 AM–9:00 AM'}, {'renderedTime': 'Noon–7:00 PM'}]}], 'isLocalHoliday': False}, 'photos': {'groups': [{'name': \"Friends' check-in photos\", 'count': 0, 'type': 'checkin', 'items': []}, {'name': 'Venue photos', 'count': 2723, 'type': 'venue', 'items': [{'visibility': 'public', 'suffix': '/5765969_Mg-UqGlk4lS61B_QmvUsr3c5f-u0kIlPaAu8I3ne2Io.jpg', 'id': '50b58805e4b0b21373f06448', 'width': 540, 'height': 720, 'prefix': 'https://igx.4sqi.net/img/general/', 'createdAt': 1354074117, 'user': {'lastName': 'Alkhayyat', 'gender': 'male', 'photo': {'prefix': 'https://igx.4sqi.net/img/user/', 'suffix': '/IL2Q3ACUTOLQDHLN.jpg'}, 'firstName': 'Abdulrahman', 'id': '5765969'}, 'source': {'name': 'Foursquare for iOS', 'url': 'https://foursquare.com/download/#/iphone'}}, {'visibility': 'public', 'suffix': '/438989_Iya3z2iqk9g2EdM5_TXIEJ5j5hqWtOX-IN1hnG9slRc.jpg', 'id': '51b4aac4498eec5d73b5f63c', 'width': 720, 'height': 960, 'prefix': 'https://igx.4sqi.net/img/general/', 'createdAt': 1370794692, 'user': {'lastName': 'N.', 'gender': 'female', 'photo': {'prefix': 'https://igx.4sqi.net/img/user/', 'suffix': '/SPGS2SQTL0LL0PGK.jpg'}, 'firstName': 'Jessica', 'id': '438989'}, 'source': {'name': 'Foursquare for iOS', 'url': 'https://foursquare.com/download/#/iphone'}}]}], 'count': 2723, 'summary': '0 photos'}, 'attributes': {'groups': []}, 'rating': 9.6, 'url': 'http://www.chicagoriverwalk.us', 'verified': False, 'timeZone': 'America/Chicago', 'createdAt': 1268585925, 'ok': False}}, 'meta': {'code': 200, 'requestId': '5bb4641df594df202798a621'}}\n"
     ]
    },
    {
     "name": "stdout",
     "output_type": "stream",
     "text": [
      "{'response': {'venue': {'tips': {'groups': [{'name': 'All tips', 'count': 196, 'type': 'others', 'items': [{'text': 'The crab cakes might as well be your sins because they are to die for.', 'likes': {'groups': [{'count': 5, 'type': 'others', 'items': [{'lastName': 'R', 'gender': 'female', 'photo': {'prefix': 'https://igx.4sqi.net/img/user/', 'suffix': '/PIVUU1BWGFVO55XD.jpg'}, 'firstName': 'Veronica', 'id': '15081457'}, {'lastName': 'Clayton', 'gender': 'female', 'photo': {'prefix': 'https://igx.4sqi.net/img/user/', 'suffix': '/30690967-QCQJSAZ052N4MBCL.jpg'}, 'firstName': 'Nicci', 'id': '30690967'}, {'lastName': 'Corrigan', 'gender': 'male', 'photo': {'prefix': 'https://igx.4sqi.net/img/user/', 'suffix': '/6876779-EWVD0QWYAOSKQJBU.jpg'}, 'firstName': 'Patrick', 'id': '6876779'}, {'lastName': 'S.', 'gender': 'male', 'photo': {'prefix': 'https://igx.4sqi.net/img/user/', 'suffix': '/1621127-XPRS5BWVWVJ0GSAK.jpg'}, 'firstName': 'DAVID', 'id': '1621127'}]}], 'count': 5, 'summary': '5 likes'}, 'agreeCount': 5, 'id': '515634d0e4b04ba47aaf65c7', 'todo': {'count': 0}, 'createdAt': 1364604112, 'disagreeCount': 0, 'type': 'user', 'canonicalUrl': 'https://foursquare.com/item/515634d0e4b04ba47aaf65c7', 'lang': 'en', 'user': {'lastName': 'H', 'gender': 'male', 'photo': {'prefix': 'https://igx.4sqi.net/img/user/', 'suffix': '/1475937-DZ1Q3YLXZY5JC0RA.jpg'}, 'firstName': 'Joe', 'id': '1475937'}, 'logView': True}, {'text': 'Start with the sweet, cool stone crabs and a delicious chopped salad that could easily feed two. Go straight to the top with the bone-in New York strip or the Alaskan king crab legs served chilled.', 'likes': {'groups': [{'count': 5, 'type': 'others', 'items': [{'lastName': 'Martinez', 'gender': 'female', 'photo': {'prefix': 'https://igx.4sqi.net/img/user/', 'suffix': '/CFPSBD2I5JHOOWS1.jpg'}, 'firstName': 'Erika', 'id': '68224131'}, {'lastName': 'Mar', 'gender': 'female', 'photo': {'prefix': 'https://igx.4sqi.net/img/user/', 'suffix': '/64830818-F53NHDMHPJJNSF0B.jpg'}, 'firstName': 'Mery Ann', 'id': '64830818'}, {'lastName': 'Martawardaya', 'gender': 'male', 'photo': {'prefix': 'https://igx.4sqi.net/img/user/', 'suffix': '/HY03XGB4REBLDJHA.jpg'}, 'firstName': 'Soetrisno', 'id': '10616814'}, {'lastName': 'Pacini', 'gender': 'female', 'photo': {'prefix': 'https://igx.4sqi.net/img/user/', 'suffix': '/AIDZJW4DI0KKKPGV.jpg'}, 'firstName': 'Sonia', 'id': '38860141'}]}], 'count': 5, 'summary': '5 likes'}, 'id': '4eb1c0c477c85f4b8e80337c', 'todo': {'count': 14}, 'logView': True, 'createdAt': 1320272068, 'disagreeCount': 0, 'url': 'http://timeoutchicago.com/restaurants-bars/restaurants/148725/joe%E2%80%99s-seafood-prime-steak-stone-crab', 'type': 'user', 'canonicalUrl': 'https://foursquare.com/item/4eb1c0c477c85f4b8e80337c', 'lang': 'en', 'user': {'photo': {'prefix': 'https://igx.4sqi.net/img/user/', 'suffix': '/R2RSEQ533D211UR0.jpg'}, 'gender': 'none', 'firstName': 'Time Out Chicago', 'id': '843848', 'type': 'page'}, 'agreeCount': 5}]}], 'count': 196}, 'colors': {'highlightColor': {'value': -991056, 'photoId': '593050d6a6e285748eb06d07'}, 'highlightTextColor': {'value': -16777216, 'photoId': '593050d6a6e285748eb06d07'}, 'algoVersion': 3}, 'likes': {'groups': [{'count': 670, 'type': 'others', 'items': []}], 'count': 670, 'summary': '670 Likes'}, 'beenHere': {'marked': False, 'lastCheckinExpiredAt': 0, 'count': 0, 'unconfirmedCount': 0}, 'shortUrl': 'http://4sq.com/5sWNhG', 'location': {'labeledLatLngs': [{'label': 'display', 'lng': -87.62552393991848, 'lat': 41.8918586261065}], 'city': 'Chicago', 'lng': -87.62552393991848, 'crossStreet': 'at N Rush St', 'postalCode': '60611', 'cc': 'US', 'formattedAddress': ['60 E Grand Ave (at N Rush St)', 'Chicago, IL 60611', 'United States'], 'state': 'IL', 'address': '60 E Grand Ave', 'lat': 41.8918586261065, 'country': 'United States'}, 'name': \"Joe's Seafood, Prime Steak & Stone Crab\", 'pageUpdates': {'count': 0, 'items': []}, 'reasons': {'count': 1, 'items': [{'summary': 'Lots of people like this place', 'reasonName': 'rawLikesReason', 'type': 'general'}]}, 'ratingSignals': 862, 'categories': [{'pluralName': 'Seafood Restaurants', 'id': '4bf58dd8d48988d1ce941735', 'name': 'Seafood Restaurant', 'primary': True, 'icon': {'prefix': 'https://ss3.4sqi.net/img/categories_v2/food/seafood_', 'suffix': '.png'}, 'shortName': 'Seafood'}, {'name': 'Steakhouse', 'pluralName': 'Steakhouses', 'icon': {'prefix': 'https://ss3.4sqi.net/img/categories_v2/food/steakhouse_', 'suffix': '.png'}, 'id': '4bf58dd8d48988d1cc941735', 'shortName': 'Steakhouse'}, {'name': 'American Restaurant', 'pluralName': 'American Restaurants', 'icon': {'prefix': 'https://ss3.4sqi.net/img/categories_v2/food/default_', 'suffix': '.png'}, 'id': '4bf58dd8d48988d14e941735', 'shortName': 'American'}], 'id': '4a2ae23af964a52064961fe3', 'canonicalUrl': 'https://foursquare.com/v/joes-seafood-prime-steak--stone-crab/4a2ae23af964a52064961fe3', 'hereNow': {'groups': [], 'count': 0, 'summary': 'Nobody here'}, 'bestPhoto': {'visibility': 'public', 'suffix': '/88112127_ppwQlPvIp5Jljfd-EDAAlxVT7XpvCU1MHCYP-b4CX6I.jpg', 'id': '593050d6a6e285748eb06d07', 'width': 800, 'height': 1200, 'prefix': 'https://igx.4sqi.net/img/general/', 'createdAt': 1496338646, 'source': {'name': 'Foursquare Web', 'url': 'https://foursquare.com'}}, 'storeId': '', 'specials': {'count': 0, 'items': []}, 'inbox': {'count': 0, 'items': []}, 'stats': {'tipCount': 196}, 'listed': {'groups': [{'name': 'Lists from other people', 'count': 567, 'type': 'others', 'items': [{'photo': {'visibility': 'public', 'suffix': '/126732847_if4wsRSpvKC2Pw8q89IZUj4O-w7O1xtyiLSRgvJfn9g.jpg', 'id': '55424629498e0cabc58fbead', 'width': 800, 'height': 533, 'prefix': 'https://igx.4sqi.net/img/general/', 'createdAt': 1430406697, 'user': {'photo': {'prefix': 'https://igx.4sqi.net/img/user/', 'suffix': '/126732847-L20JMXZXFGRURGYH.jpg'}, 'gender': 'none', 'firstName': 'Charleston Area CVB', 'id': '126732847', 'type': 'page'}}, 'guide': True, 'description': 'Whether you order a bone-in rib-eye, go for a sirloin, or splurge for a filet or porterhouse, these legendary temples to carnivorous eating—all favorites of Foursquare users—are guaranteed to please.', 'updatedAt': 1474029885, 'type': 'others', 'followers': {'count': 371}, 'public': True, 'listItems': {'count': 40, 'items': [{'photo': {'visibility': 'public', 'suffix': '/oOhf4mVDg_-y5SDX6XNCvsXQ844MUt-u7L8sUdBmEp4.jpg', 'id': '4fdb70aee4b03cded9e01eba', 'width': 612, 'height': 612, 'prefix': 'https://igx.4sqi.net/img/general/', 'createdAt': 1339781294, 'user': {'lastName': 'Zol', 'gender': 'male', 'photo': {'prefix': 'https://igx.4sqi.net/img/user/', 'suffix': '/248447_OsyfZRkS_A6Q_FzudPQwQVZVXbpBAmUA4apSeY9FJC6WuTC28NJjFaBZ8kzgL7diGQD4slGBm.jpg'}, 'firstName': 'Harry', 'id': '248447'}}, 'createdAt': 1437147142, 'id': 't555e6cf9498efc7b85f5d4f5'}]}, 'createdAt': 1437146287, 'name': \"America's 40 Best Steakhouses\", 'logView': True, 'url': '/foursquare/list/americas-40-best-steakhouses', 'editable': False, 'id': '55a91caf498ea789c5eeb580', 'canonicalUrl': 'https://foursquare.com/foursquare/list/americas-40-best-steakhouses', 'collaborative': False, 'guideType': 'bestOf', 'user': {'photo': {'prefix': 'https://igx.4sqi.net/img/user/', 'suffix': '/23438729-TODURDIUDUMY4JF5.png'}, 'gender': 'none', 'firstName': 'Foursquare City Guide', 'id': '23438729', 'type': 'page'}}, {'photo': {'visibility': 'public', 'suffix': '/1387271_fwnEq1ip6iX4O2BgKuDak-sAmtPe8mp16YFHIZ_9JNs.jpg', 'id': '5175fe13e4b071c32b0b65bf', 'width': 1920, 'height': 1440, 'prefix': 'https://igx.4sqi.net/img/general/', 'createdAt': 1366687251, 'user': {'lastName': 'Hall', 'gender': 'male', 'photo': {'prefix': 'https://igx.4sqi.net/img/user/', 'suffix': '/1387271_N8M5xJTc_MM8mtls_AN0ifxeU6sTEel3x2tmqJLxdlt-mOdckJS5pwAme9Q6mrk0r7P6lquzr.jpg'}, 'firstName': 'Jack', 'id': '1387271'}}, 'followers': {'count': 238}, 'description': \"Chicago is a steak-lover's town. Here are the best Chicago restaurants for a steak—not to mention a classic wedge salad and a perfectly chilled martini.\", 'updatedAt': 1381185504, 'type': 'others', 'public': True, 'listItems': {'count': 13, 'items': [{'photo': {'visibility': 'public', 'suffix': '/6510419_6JnxYNnDKXylPk1C8wU3x98A0pPh416KlqMHcv2U72g.jpg', 'id': '51867ad2498e34417db7ab5c', 'width': 960, 'height': 960, 'prefix': 'https://igx.4sqi.net/img/general/', 'createdAt': 1367767762, 'user': {'lastName': 'Reichert', 'gender': 'male', 'photo': {'prefix': 'https://igx.4sqi.net/img/user/', 'suffix': '/AJBCXWSJGPO5PCTT.jpg'}, 'firstName': 'Dan', 'id': '6510419'}}, 'createdAt': 1320272051, 'id': 't4eb1c0c477c85f4b8e80337c'}]}, 'createdAt': 1320271942, 'name': 'Best steakhouses in Chicago', 'logView': True, 'url': '/timeoutchicago/list/best-steakhouses-in-chicago', 'editable': False, 'id': '4eb1c046dab472d4de2b766f', 'canonicalUrl': 'https://foursquare.com/timeoutchicago/list/best-steakhouses-in-chicago', 'collaborative': False, 'user': {'photo': {'prefix': 'https://igx.4sqi.net/img/user/', 'suffix': '/R2RSEQ533D211UR0.jpg'}, 'gender': 'none', 'firstName': 'Time Out Chicago', 'id': '843848', 'type': 'page'}}, {'photo': {'visibility': 'public', 'suffix': '/2V3II2RMYXHTSXHVR4O1UW2FEKK4GO2H1YMH0RQNMDBSN5HD.jpg', 'id': '4d1aa45683a128fd153174c9', 'width': 720, 'height': 540, 'prefix': 'https://igx.4sqi.net/img/general/', 'createdAt': 1293591638, 'user': {'lastName': 'Zubrod', 'gender': 'male', 'photo': {'prefix': 'https://igx.4sqi.net/img/user/', 'suffix': '/4HNPZYORF2NRQE4P.jpg'}, 'firstName': 'Bryan', 'id': '5018078'}}, 'followers': {'count': 421}, 'description': '', 'updatedAt': 1422643329, 'type': 'others', 'public': True, 'listItems': {'count': 79, 'items': [{'photo': {'visibility': 'public', 'suffix': '/G4TEPZUDVZDRTEEURXMVRQXV2XQEBIMDE0MSN3ROZVAUBGWK.jpg', 'id': '4e3a2c67d4c05163b44d86d4', 'width': 537, 'height': 720, 'prefix': 'https://igx.4sqi.net/img/general/', 'createdAt': 1312435303, 'user': {'lastName': 'H. S.', 'gender': 'female', 'photo': {'prefix': 'https://igx.4sqi.net/img/user/', 'suffix': '/SF5FELON4M2T2300.jpg'}, 'firstName': 'Débora', 'id': '1874166'}}, 'createdAt': 1313517600, 'id': 'v4a2ae23af964a52064961fe3'}]}, 'createdAt': 1313517600, 'name': 'Lettuce Entertain You Restaurants', 'logView': True, 'url': '/lettuceeats/list/lettuce-entertain-you-restaurants', 'editable': False, 'id': '4e4ab02062847afcaf197918', 'canonicalUrl': 'https://foursquare.com/lettuceeats/list/lettuce-entertain-you-restaurants', 'collaborative': False, 'user': {'photo': {'prefix': 'https://igx.4sqi.net/img/user/', 'suffix': '/LLXJUWMBJP3EDTHD.png'}, 'gender': 'none', 'firstName': 'Lettuce Entertain You', 'id': '4557525', 'type': 'page'}}]}], 'count': 567}, 'page': {'user': {'photo': {'prefix': 'https://igx.4sqi.net/img/user/', 'suffix': '/88112127_-bb3fe-b_yr8CKU2EM03jaI1q8D02jg7TXVLggIqnzhBnXkiIyDiF4kzdgy1MXtzrosGichcB.jpg'}, 'tips': {'count': 1}, 'venue': {'id': '4a2ae23af964a52064961fe3'}, 'homeCity': 'Chicago, IL', 'firstName': \"Joe's Seafood, Prime Steak & Stone Crab\", 'id': '88112127', 'type': 'venuePage', 'contact': {}, 'gender': 'none', 'lists': {'groups': [{'count': 2, 'type': 'created', 'items': []}]}, 'bio': ''}}, 'contact': {'twitter': 'joeschicago', 'facebookUsername': 'joeschicago', 'formattedPhone': '(312) 379-5637', 'phone': '3123795637', 'instagram': 'joesseafood', 'facebook': '108921829133449', 'facebookName': \"Joe's Seafood, Prime Steak & Stone Crab\"}, 'ratingColor': '00B551', 'hours': {'isOpen': False, 'timeframes': [{'days': 'Mon–Thu', 'segments': [], 'includesToday': True, 'open': [{'renderedTime': '11:30 AM–11:00 PM'}]}, {'days': 'Fri', 'segments': [], 'open': [{'renderedTime': '11:30 AM–Midnight'}]}, {'days': 'Sat', 'segments': [], 'open': [{'renderedTime': '11:00 AM–Midnight'}]}, {'days': 'Sun', 'segments': [], 'open': [{'renderedTime': '11:00 AM–10:30 PM'}]}], 'richStatus': {'text': 'Closed until 11:30 AM', 'entities': []}, 'dayData': [], 'isLocalHoliday': False, 'status': 'Closed until 11:30 AM'}, 'dislike': False, 'popular': {'isOpen': False, 'timeframes': [{'days': 'Today', 'segments': [], 'includesToday': True, 'open': [{'renderedTime': '11:00 AM–1:00 PM'}, {'renderedTime': '5:00 PM–10:00 PM'}]}, {'days': 'Thu', 'segments': [], 'open': [{'renderedTime': 'Noon–2:00 PM'}, {'renderedTime': '5:00 PM–11:00 PM'}]}, {'days': 'Fri–Sat', 'segments': [], 'open': [{'renderedTime': 'Noon–11:00 PM'}]}, {'days': 'Sun', 'segments': [], 'open': [{'renderedTime': 'Noon–10:00 PM'}]}, {'days': 'Mon', 'segments': [], 'open': [{'renderedTime': 'Noon–1:00 PM'}, {'renderedTime': '5:00 PM–10:00 PM'}]}, {'days': 'Tue', 'segments': [], 'open': [{'renderedTime': 'Noon–1:00 PM'}, {'renderedTime': '5:00 PM–11:00 PM'}]}], 'isLocalHoliday': False}, 'photos': {'groups': [{'name': \"Friends' check-in photos\", 'count': 0, 'type': 'checkin', 'items': []}, {'name': 'Venue photos', 'count': 772, 'type': 'venue', 'items': [{'visibility': 'public', 'suffix': '/88112127_ppwQlPvIp5Jljfd-EDAAlxVT7XpvCU1MHCYP-b4CX6I.jpg', 'id': '593050d6a6e285748eb06d07', 'width': 800, 'height': 1200, 'prefix': 'https://igx.4sqi.net/img/general/', 'createdAt': 1496338646, 'user': {'photo': {'prefix': 'https://igx.4sqi.net/img/user/', 'suffix': '/88112127_-bb3fe-b_yr8CKU2EM03jaI1q8D02jg7TXVLggIqnzhBnXkiIyDiF4kzdgy1MXtzrosGichcB.jpg'}, 'venue': {'id': '4a2ae23af964a52064961fe3'}, 'firstName': \"Joe's Seafood, Prime Steak & Stone Crab\", 'id': '88112127', 'type': 'venuePage', 'gender': 'none'}, 'source': {'name': 'Foursquare Web', 'url': 'https://foursquare.com'}}, {'visibility': 'public', 'suffix': '/88112127_X91hK1xSZiVWrv6F4eFox1fK5SjWr7PsQlPwT2YMeVM.jpg', 'id': '593050e1a6e285748eb06dac', 'width': 1200, 'height': 800, 'prefix': 'https://igx.4sqi.net/img/general/', 'createdAt': 1496338657, 'user': {'photo': {'prefix': 'https://igx.4sqi.net/img/user/', 'suffix': '/88112127_-bb3fe-b_yr8CKU2EM03jaI1q8D02jg7TXVLggIqnzhBnXkiIyDiF4kzdgy1MXtzrosGichcB.jpg'}, 'venue': {'id': '4a2ae23af964a52064961fe3'}, 'firstName': \"Joe's Seafood, Prime Steak & Stone Crab\", 'id': '88112127', 'type': 'venuePage', 'gender': 'none'}, 'source': {'name': 'Foursquare Web', 'url': 'https://foursquare.com'}}]}], 'count': 772, 'summary': '0 photos'}, 'attributes': {'groups': [{'name': 'Price', 'count': 1, 'summary': '$$$', 'type': 'price', 'items': [{'priceTier': 3, 'displayName': 'Price', 'displayValue': '$$$'}]}, {'name': 'Credit Cards', 'count': 7, 'summary': 'Credit Cards', 'type': 'payments', 'items': [{'displayName': 'Credit Cards', 'displayValue': 'Yes (incl. Discover & Visa)'}]}, {'name': 'Outdoor Seating', 'count': 1, 'type': 'outdoorSeating', 'items': [{'displayName': 'Outdoor Seating', 'displayValue': 'No'}]}, {'name': 'Wi-Fi', 'count': 1, 'summary': 'Free Wi-Fi', 'type': 'wifi', 'items': [{'displayName': 'Wi-Fi', 'displayValue': 'Free'}]}, {'name': 'Menus', 'count': 8, 'summary': 'Dessert, Brunch & more', 'type': 'serves', 'items': [{'displayName': 'Brunch', 'displayValue': 'Brunch'}, {'displayName': 'Lunch', 'displayValue': 'Lunch'}, {'displayName': 'Dinner', 'displayValue': 'Dinner'}, {'displayName': 'Dessert', 'displayValue': 'Dessert'}]}, {'name': 'Drinks', 'count': 5, 'summary': 'Beer, Wine, Full Bar & Cocktails', 'type': 'drinks', 'items': [{'displayName': 'Beer', 'displayValue': 'Beer'}, {'displayName': 'Wine', 'displayValue': 'Wine'}, {'displayName': 'Full Bar', 'displayValue': 'Full Bar'}, {'displayName': 'Cocktails', 'displayValue': 'Cocktails'}]}, {'name': 'Dining Options', 'count': 5, 'type': 'diningOptions', 'items': [{'displayName': 'Delivery', 'displayValue': 'No Delivery'}]}, {'name': 'Parking', 'count': 5, 'summary': 'Valet Parking', 'type': 'parking', 'items': [{'displayName': 'Valet Parking', 'displayValue': 'Valet'}]}, {'name': 'Coat Check', 'count': 1, 'summary': 'Coat Check', 'type': 'coatCheck', 'items': [{'displayName': 'Coat Check', 'displayValue': 'Yes'}]}, {'name': 'Restroom', 'count': 1, 'summary': 'Restroom', 'type': 'restroom', 'items': [{'displayName': 'Restroom', 'displayValue': 'Yes'}]}]}, 'rating': 9.6, 'venuePage': {'id': '88112127'}, 'url': 'http://www.joes.net/chicago', 'price': {'tier': 3, 'message': 'Expensive', 'currency': '$'}, 'verified': True, 'timeZone': 'America/Chicago', 'createdAt': 1244324410, 'ok': False, 'allowMenuUrlEdit': True}}, 'meta': {'code': 200, 'requestId': '5bb4641d351e3d1aa6c09e24'}}\n"
     ]
    },
    {
     "name": "stdout",
     "output_type": "stream",
     "text": [
      "{'response': {'venue': {'tips': {'groups': [{'name': 'All tips', 'count': 43, 'type': 'others', 'items': [{'text': 'Their atomic cake is the,best.. Bananas,strawberrys,whip cream an chocolate an vanilla cake..', 'likes': {'groups': [{'count': 3, 'type': 'others', 'items': [{'photo': {'prefix': 'https://igx.4sqi.net/img/user/', 'suffix': '/58684932_yrqViZZw_gcuL2Ajj6aOP-zCPVbi7J1HmlAZfeaEhN_4_altjSBSx0k5NF1zDQVUAGsD2Spc_.jpg'}, 'gender': 'female', 'firstName': 'Dianne 💞', 'id': '58684932'}, {'lastName': 'Jansen', 'gender': 'female', 'photo': {'prefix': 'https://igx.4sqi.net/img/user/', 'suffix': '/DQYAPPCZWQCDBVJL.jpg'}, 'firstName': 'Arlene', 'id': '52386009'}, {'lastName': 'Steinmetz', 'gender': 'female', 'photo': {'prefix': 'https://igx.4sqi.net/img/user/', 'suffix': '/4XOV4EMD55AIIKVE.jpg'}, 'firstName': 'Richelle', 'id': '1899730'}]}], 'count': 3, 'summary': '3 likes'}, 'agreeCount': 3, 'id': '4e71ed6bfa76b23d31a65c9c', 'todo': {'count': 0}, 'createdAt': 1316089195, 'disagreeCount': 0, 'type': 'user', 'canonicalUrl': 'https://foursquare.com/item/4e71ed6bfa76b23d31a65c9c', 'lang': 'en', 'user': {'lastName': 'E', 'gender': 'female', 'photo': {'prefix': 'https://igx.4sqi.net/img/user/', 'suffix': '/2039050-Q4OI02VTYIISMUMP.jpg'}, 'firstName': 'Catherine', 'id': '2039050'}, 'logView': True}, {'text': \"This is NOT a place to visit if you are trying to diet!!! EVERYTHING's great!♥ People always talk about their cakes and doughnuts, but their breads are very good too!!!\", 'likes': {'groups': [{'count': 2, 'type': 'others', 'items': [{'lastName': 'Ocon', 'gender': 'male', 'photo': {'prefix': 'https://igx.4sqi.net/img/user/', 'suffix': '/404313790_DaT0dzmh_bfxRkk-FyO099YQP-ItNlWq9XfOpBJIa3TS_zFhjUm8KYSXIvRW1O50ofMc8VsPR.jpg'}, 'firstName': 'Jorge', 'id': '404313790'}, {'lastName': 'Bobek', 'gender': 'male', 'photo': {'prefix': 'https://igx.4sqi.net/img/user/', 'suffix': '/3TSVKJHHY4ZOUA5G.jpg'}, 'firstName': 'John', 'id': '14227592'}]}], 'count': 2, 'summary': '2 likes'}, 'agreeCount': 2, 'id': '500dcbe6e4b011457a130e8b', 'todo': {'count': 0}, 'createdAt': 1343081446, 'authorInteractionType': 'liked', 'disagreeCount': 0, 'type': 'user', 'canonicalUrl': 'https://foursquare.com/item/500dcbe6e4b011457a130e8b', 'lang': 'en', 'user': {'lastName': 'Bobek', 'gender': 'male', 'photo': {'prefix': 'https://igx.4sqi.net/img/user/', 'suffix': '/3TSVKJHHY4ZOUA5G.jpg'}, 'firstName': 'John', 'id': '14227592'}, 'logView': True}]}], 'count': 43}, 'colors': {'highlightColor': {'value': -10459040, 'photoId': '52cefc6e11d27d5ed13f8cb2'}, 'highlightTextColor': {'value': -1, 'photoId': '52cefc6e11d27d5ed13f8cb2'}, 'algoVersion': 3}, 'likes': {'groups': [{'count': 109, 'type': 'others', 'items': []}], 'count': 109, 'summary': '109 Likes'}, 'beenHere': {'marked': False, 'lastCheckinExpiredAt': 0, 'count': 0, 'unconfirmedCount': 0}, 'shortUrl': 'http://4sq.com/bsQEnX', 'location': {'labeledLatLngs': [{'label': 'display', 'lng': -87.7985986999637, 'lat': 41.791907872167535}], 'city': 'Chicago', 'lng': -87.7985986999637, 'crossStreet': 'at Nottingham Ave', 'postalCode': '60638', 'cc': 'US', 'formattedAddress': ['7055 W Archer Ave (at Nottingham Ave)', 'Chicago, IL 60638', 'United States'], 'state': 'IL', 'address': '7055 W Archer Ave', 'lat': 41.791907872167535, 'country': 'United States'}, 'name': \"Weber's Bakery\", 'pageUpdates': {'count': 0, 'items': []}, 'reasons': {'count': 1, 'items': [{'summary': 'Lots of people like this place', 'reasonName': 'rawLikesReason', 'type': 'general'}]}, 'ratingSignals': 148, 'categories': [{'pluralName': 'Bakeries', 'id': '4bf58dd8d48988d16a941735', 'name': 'Bakery', 'primary': True, 'icon': {'prefix': 'https://ss3.4sqi.net/img/categories_v2/food/bakery_', 'suffix': '.png'}, 'shortName': 'Bakery'}, {'name': 'Donut Shop', 'pluralName': 'Donut Shops', 'icon': {'prefix': 'https://ss3.4sqi.net/img/categories_v2/food/donuts_', 'suffix': '.png'}, 'id': '4bf58dd8d48988d148941735', 'shortName': 'Donuts'}, {'name': 'Dessert Shop', 'pluralName': 'Dessert Shops', 'icon': {'prefix': 'https://ss3.4sqi.net/img/categories_v2/food/dessert_', 'suffix': '.png'}, 'id': '4bf58dd8d48988d1d0941735', 'shortName': 'Desserts'}], 'menu': {'anchor': 'View Menu', 'label': 'Menu', 'url': 'https://foursquare.com/v/webers-bakery/4b9a32a0f964a5200aa435e3/menu', 'mobileUrl': 'https://foursquare.com/v/4b9a32a0f964a5200aa435e3/device_menu', 'type': 'Menu'}, 'id': '4b9a32a0f964a5200aa435e3', 'canonicalUrl': 'https://foursquare.com/v/webers-bakery/4b9a32a0f964a5200aa435e3', 'hereNow': {'groups': [], 'count': 0, 'summary': 'Nobody here'}, 'hasMenu': True, 'bestPhoto': {'visibility': 'public', 'suffix': '/2103307_fTWcuB16d6NsgGtfgd04x91OpLwpdR1PGQPDyWnQ-Kg.jpg', 'id': '52cefc6e11d27d5ed13f8cb2', 'width': 960, 'height': 604, 'prefix': 'https://igx.4sqi.net/img/general/', 'createdAt': 1389296750, 'source': {'name': 'Foursquare for Android', 'url': 'https://foursquare.com/download/#/android'}}, 'specials': {'count': 0, 'items': []}, 'inbox': {'count': 0, 'items': []}, 'stats': {'tipCount': 43}, 'listed': {'groups': [{'name': 'Lists from other people', 'count': 204, 'type': 'others', 'items': [{'photo': {'visibility': 'public', 'suffix': '/Fsqt2W-ugsmbKGEdVzeOz9Y6UoF_5zxt7iD7qP3-4Lc.jpg', 'id': '5036a748e4b092ec43981172', 'width': 537, 'height': 720, 'prefix': 'https://igx.4sqi.net/img/general/', 'createdAt': 1345759048, 'user': {'lastName': 'Zeldman', 'gender': 'male', 'photo': {'prefix': 'https://igx.4sqi.net/img/user/', 'suffix': '/5022019_vGBk7tkB_ksQ98beRHrFVdVvf6lgxpONbv6EmnGMCGLMEyCfKGvj_VDYJTODxpBmEHyS939Ms.jpg'}, 'firstName': 'Jeffrey', 'id': '5022019'}}, 'followers': {'count': 34}, 'description': 'Glorious world city, noted for over 100 years of brilliant and important architectural movements, architects, and buildings. Grabs your imagination and never lets go.', 'updatedAt': 1535499802, 'type': 'others', 'public': True, 'listItems': {'count': 158, 'items': [{'photo': {'visibility': 'public', 'suffix': '/2103307_fTWcuB16d6NsgGtfgd04x91OpLwpdR1PGQPDyWnQ-Kg.jpg', 'id': '52cefc6e11d27d5ed13f8cb2', 'width': 960, 'height': 604, 'prefix': 'https://igx.4sqi.net/img/general/', 'createdAt': 1389296750, 'user': {'lastName': 'Ratajczyk', 'gender': 'female', 'photo': {'prefix': 'https://igx.4sqi.net/img/user/', 'suffix': '/YRKJGN1SBU2LYIT5.jpg'}, 'firstName': 'Maribeth', 'id': '2103307'}}, 'createdAt': 1435935383, 'id': 't4e71ed6bfa76b23d31a65c9c'}]}, 'createdAt': 1345749870, 'name': 'Chicago', 'url': '/zeldman/list/chicago', 'editable': False, 'id': '5036836ee4b00b29d4188871', 'canonicalUrl': 'https://foursquare.com/zeldman/list/chicago', 'collaborative': False, 'user': {'lastName': 'Zeldman', 'gender': 'male', 'photo': {'prefix': 'https://igx.4sqi.net/img/user/', 'suffix': '/5022019_vGBk7tkB_ksQ98beRHrFVdVvf6lgxpONbv6EmnGMCGLMEyCfKGvj_VDYJTODxpBmEHyS939Ms.jpg'}, 'firstName': 'Jeffrey', 'id': '5022019'}}, {'photo': {'visibility': 'public', 'suffix': '/567786_8pRl9Kx1ixxQzPFFC4zMEww6jglUxnXrCBi10Llfhz0.jpg', 'id': '5563105c498e66ee5c7dabdb', 'width': 1440, 'height': 1920, 'prefix': 'https://igx.4sqi.net/img/general/', 'createdAt': 1432555612, 'user': {'lastName': 'Panico', 'gender': 'male', 'photo': {'prefix': 'https://igx.4sqi.net/img/user/', 'suffix': '/567786_CdNcdfjz_38N0lr82bmPTJPmdTe6vmN5SfNXEjzkt9DfY6_A9zU7Dxa7or_JSw1shRLHEoBp7.jpg'}, 'firstName': 'Nick', 'id': '567786'}}, 'guide': True, 'description': 'Get carried away by the bold architecture and culture in the Windy City. Inside and out, it holds hidden gems, cultural secrets and neighborhood joints that are sure to impress.', 'updatedAt': 1510183324, 'type': 'others', 'followers': {'count': 14}, 'public': True, 'listItems': {'count': 17, 'items': [{'photo': {'visibility': 'public', 'suffix': '/1066177_S-RNmeLiHPNXijmXtSJ-NdeuSypya9iHemrae2XnPbU.jpg', 'id': '5105540be4b00c779c2e8dfd', 'width': 540, 'height': 720, 'prefix': 'https://igx.4sqi.net/img/general/', 'createdAt': 1359303691, 'user': {'lastName': 'Young', 'gender': 'female', 'photo': {'prefix': 'https://igx.4sqi.net/img/user/', 'suffix': '/WMSI1UGF30DXS0HI.jpg'}, 'firstName': 'Denise', 'id': '1066177'}}, 'createdAt': 1461777223, 'id': 't53dbf716498ee7ec2e40a452'}]}, 'createdAt': 1461775680, 'name': 'Foursquare + Frank & Oak Guide to Chicago', 'logView': True, 'url': '/p/frank--oak/172766403/list/foursquare--frank--oak-guide-to-chicago', 'editable': False, 'id': '5720ed40498edb7bd4eeca1e', 'canonicalUrl': 'https://foursquare.com/p/frank--oak/172766403/list/foursquare--frank--oak-guide-to-chicago', 'collaborative': False, 'guideType': 'itinerary', 'user': {'photo': {'prefix': 'https://igx.4sqi.net/img/user/', 'suffix': '/172766403-J4C5HCMVZ2S2GFQQ.png'}, 'gender': 'none', 'firstName': 'Frank + Oak', 'id': '172766403', 'type': 'page'}}, {'photo': {'visibility': 'public', 'suffix': '/76516_LLLLva1oZVSK0FYgXuR4Dgq2JJB0WMMNhv2Rl6ykKUY.jpg', 'id': '51661999183fa6fdd45f311c', 'width': 2592, 'height': 1944, 'prefix': 'https://igx.4sqi.net/img/general/', 'createdAt': 1365645721, 'user': {'lastName': 'Violette', 'gender': 'male', 'photo': {'prefix': 'https://igx.4sqi.net/img/user/', 'suffix': '/-CWDM0VFZOSXFLT20.jpg'}, 'firstName': 'Andrew', 'id': '76516'}}, 'followers': {'count': 7}, 'description': '', 'updatedAt': 1387112868, 'type': 'others', 'public': True, 'listItems': {'count': 26, 'items': [{'createdAt': 1336619701, 'id': 'v4b9a32a0f964a5200aa435e3'}]}, 'createdAt': 1336618625, 'name': 'Chicago Donuts', 'url': '/aviolette/list/chicago-donuts', 'editable': False, 'id': '4fab2e81e4b02a0013e6b86f', 'canonicalUrl': 'https://foursquare.com/aviolette/list/chicago-donuts', 'collaborative': False, 'user': {'lastName': 'Violette', 'gender': 'male', 'photo': {'prefix': 'https://igx.4sqi.net/img/user/', 'suffix': '/-CWDM0VFZOSXFLT20.jpg'}, 'firstName': 'Andrew', 'id': '76516'}}, {'photo': {'visibility': 'public', 'suffix': '/29343718_A4qhqRzgpU99zEZFoFDJOmXKbFgj23RdToLE4aduReM.jpg', 'id': '56246149498e1d314be6b5a9', 'width': 1442, 'height': 1440, 'prefix': 'https://igx.4sqi.net/img/general/', 'createdAt': 1445224777, 'user': {'lastName': 'D.', 'gender': 'female', 'photo': {'prefix': 'https://igx.4sqi.net/img/user/', 'suffix': '/29343718_me0gc4XP_V6oJcXAMovwDr_YBohFzyhPcKLpFKYZC2op78Ks4lfMP4SYLZj8feWkNygRxnyn4'}, 'firstName': 'Djaniella', 'id': '29343718'}}, 'guide': True, 'description': 'Mmmm, baked goods. Who could say no to some of the best pastries in the country? Satisfy your sweet tooth by visiting the top bakery in your (or any!) state.', 'updatedAt': 1474664247, 'type': 'others', 'followers': {'count': 495}, 'public': True, 'listItems': {'count': 51, 'items': [{'photo': {'visibility': 'public', 'suffix': '/1066177_S-RNmeLiHPNXijmXtSJ-NdeuSypya9iHemrae2XnPbU.jpg', 'id': '5105540be4b00c779c2e8dfd', 'width': 540, 'height': 720, 'prefix': 'https://igx.4sqi.net/img/general/', 'createdAt': 1359303691, 'user': {'lastName': 'Young', 'gender': 'female', 'photo': {'prefix': 'https://igx.4sqi.net/img/user/', 'suffix': '/WMSI1UGF30DXS0HI.jpg'}, 'firstName': 'Denise', 'id': '1066177'}}, 'createdAt': 1474658328, 'id': 't557250a6498e5007ef77f761'}]}, 'createdAt': 1443470868, 'name': \"America's Most Scrumptious Bakeries\", 'logView': True, 'url': '/foursquare/list/americas-most-scrumptious-bakeries', 'editable': False, 'id': '56099e14498ea9b6fe605083', 'canonicalUrl': 'https://foursquare.com/foursquare/list/americas-most-scrumptious-bakeries', 'collaborative': False, 'guideType': 'bestOf', 'user': {'photo': {'prefix': 'https://igx.4sqi.net/img/user/', 'suffix': '/23438729-TODURDIUDUMY4JF5.png'}, 'gender': 'none', 'firstName': 'Foursquare City Guide', 'id': '23438729', 'type': 'page'}}]}], 'count': 204}, 'hours': {'isOpen': False, 'timeframes': [{'days': 'Tue–Sat', 'segments': [], 'includesToday': True, 'open': [{'renderedTime': '4:30 AM–6:00 PM'}]}, {'days': 'Sun', 'segments': [], 'open': [{'renderedTime': '5:30 AM–3:00 PM'}]}], 'richStatus': {'text': 'Closed until 4:30 AM', 'entities': []}, 'dayData': [], 'isLocalHoliday': False, 'status': 'Closed until 4:30 AM'}, 'contact': {'facebookUsername': 'webersbakery', 'formattedPhone': '(773) 586-1234', 'phone': '7735861234', 'instagram': 'webersbakery', 'facebook': '233254790179124', 'facebookName': \"Weber's Bakery\"}, 'ratingColor': '00B551', 'dislike': False, 'popular': {'isOpen': False, 'timeframes': [{'days': 'Today', 'segments': [], 'includesToday': True, 'open': [{'renderedTime': '6:00 AM–1:00 PM'}, {'renderedTime': '3:00 PM–6:00 PM'}]}, {'days': 'Thu', 'segments': [], 'open': [{'renderedTime': '5:00 AM–5:00 PM'}]}, {'days': 'Fri', 'segments': [], 'open': [{'renderedTime': '5:00 AM–6:00 PM'}]}, {'days': 'Sat', 'segments': [], 'open': [{'renderedTime': '7:00 AM–6:00 PM'}]}, {'days': 'Sun', 'segments': [], 'open': [{'renderedTime': '7:00 AM–3:00 PM'}]}, {'days': 'Mon', 'segments': [], 'open': [{'renderedTime': 'None'}]}, {'days': 'Tue', 'segments': [], 'open': [{'renderedTime': '6:00 AM–5:00 PM'}]}], 'isLocalHoliday': False}, 'photos': {'groups': [{'name': \"Friends' check-in photos\", 'count': 0, 'type': 'checkin', 'items': []}, {'name': 'Venue photos', 'count': 47, 'type': 'venue', 'items': [{'visibility': 'public', 'suffix': '/2103307_fTWcuB16d6NsgGtfgd04x91OpLwpdR1PGQPDyWnQ-Kg.jpg', 'id': '52cefc6e11d27d5ed13f8cb2', 'width': 960, 'height': 604, 'prefix': 'https://igx.4sqi.net/img/general/', 'createdAt': 1389296750, 'user': {'lastName': 'Ratajczyk', 'gender': 'female', 'photo': {'prefix': 'https://igx.4sqi.net/img/user/', 'suffix': '/YRKJGN1SBU2LYIT5.jpg'}, 'firstName': 'Maribeth', 'id': '2103307'}, 'source': {'name': 'Foursquare for Android', 'url': 'https://foursquare.com/download/#/android'}}, {'visibility': 'public', 'suffix': '/4628594_NJ-3dt5i5GjJOfQk2PnfbSp87a2e9ffoCVNii11RdTQ.jpg', 'id': '507ad589e4b0459b76fce335', 'width': 540, 'height': 720, 'prefix': 'https://igx.4sqi.net/img/general/', 'createdAt': 1350227337, 'user': {'lastName': 'Hamida', 'gender': 'male', 'photo': {'prefix': 'https://igx.4sqi.net/img/user/', 'suffix': '/WV02LKGNMRLSD4HE.jpg'}, 'firstName': 'Robbi', 'id': '4628594'}, 'source': {'name': 'Foursquare for iOS', 'url': 'https://foursquare.com/download/#/iphone'}}]}], 'count': 47, 'summary': '0 photos'}, 'attributes': {'groups': [{'name': 'Price', 'count': 1, 'summary': '$$', 'type': 'price', 'items': [{'priceTier': 2, 'displayName': 'Price', 'displayValue': '$$'}]}, {'name': 'Reservations', 'count': 3, 'type': 'reservations', 'items': [{'displayName': 'Reservations', 'displayValue': 'No'}]}, {'name': 'Credit Cards', 'count': 7, 'summary': 'Credit Cards', 'type': 'payments', 'items': [{'displayName': 'Credit Cards', 'displayValue': 'Yes (incl. American Express)'}]}, {'name': 'Outdoor Seating', 'count': 1, 'summary': 'Outdoor Seating', 'type': 'outdoorSeating', 'items': [{'displayName': 'Outdoor Seating', 'displayValue': 'Yes'}]}, {'name': 'Menus', 'count': 8, 'summary': 'Dessert, Breakfast & more', 'type': 'serves', 'items': [{'displayName': 'Breakfast', 'displayValue': 'Breakfast'}, {'displayName': 'Brunch', 'displayValue': 'Brunch'}, {'displayName': 'Lunch', 'displayValue': 'Lunch'}, {'displayName': 'Dessert', 'displayValue': 'Dessert'}]}, {'name': 'Dining Options', 'count': 5, 'type': 'diningOptions', 'items': [{'displayName': 'Delivery', 'displayValue': 'No Delivery'}]}]}, 'rating': 9.6, 'url': 'http://www.webersbakery.com', 'price': {'tier': 2, 'message': 'Moderate', 'currency': '$'}, 'verified': False, 'timeZone': 'America/Chicago', 'createdAt': 1268396704, 'ok': False, 'allowMenuUrlEdit': True}}, 'meta': {'code': 200, 'requestId': '5bb4641edb04f57864f0ea7a'}}\n"
     ]
    },
    {
     "name": "stdout",
     "output_type": "stream",
     "text": [
      "{'response': {'venue': {'tips': {'groups': [{'name': 'All tips', 'count': 37, 'type': 'others', 'items': [{'text': 'Candy is dandy, but liquor is quicker.', 'likes': {'groups': [{'count': 4, 'type': 'others', 'items': [{'lastName': 'Iosifidis', 'gender': 'male', 'photo': {'prefix': 'https://igx.4sqi.net/img/user/', 'suffix': '/48374324-EH3DRPSDFYO1TBU2.jpg'}, 'firstName': 'Stelios', 'id': '48374324'}, {'lastName': 'Williams', 'gender': 'female', 'photo': {'prefix': 'https://igx.4sqi.net/img/user/', 'suffix': '/26273166-ZV3DXLVLKQ2SBIJA.jpg'}, 'firstName': 'Tranette', 'id': '26273166'}, {'lastName': 'Lee', 'gender': 'male', 'photo': {'prefix': 'https://igx.4sqi.net/img/user/', 'suffix': '/M3CP3UWKYUBPQNNM.jpg'}, 'firstName': 'Rod', 'id': '22911702'}, {'lastName': 'Marianos', 'gender': 'male', 'photo': {'prefix': 'https://igx.4sqi.net/img/user/', 'suffix': '/4543997_L2R2LZma_7oh9-Cz-FRXCIl8bQhLv_Fw01wSPFAOkNXKzjSAyWlBLNYc4xhi2vKxteGE1-ghQ.jpg'}, 'firstName': 'Nick', 'id': '4543997'}]}], 'count': 4, 'summary': '4 likes'}, 'agreeCount': 5, 'id': '502ef65ee4b06888b6b6b805', 'todo': {'count': 0}, 'createdAt': 1345255006, 'disagreeCount': 0, 'type': 'user', 'canonicalUrl': 'https://foursquare.com/item/502ef65ee4b06888b6b6b805', 'lang': 'en', 'user': {'lastName': 'McCoy', 'gender': 'male', 'photo': {'prefix': 'https://igx.4sqi.net/img/user/', 'suffix': '/2798031-GCFKZKAJINN1ZKZN.jpg'}, 'firstName': 'Daniel', 'id': '2798031'}, 'logView': True}, {'text': 'Tim was incredibly knowledgeable and and helpful! He made navigating the monstrous selection of craft beer fun and easy. What a pleasant shopping experience!', 'likes': {'groups': [{'count': 2, 'type': 'others', 'items': [{'lastName': 'Chapman', 'gender': 'male', 'photo': {'prefix': 'https://igx.4sqi.net/img/user/', 'suffix': '/NATAC3UD24ZMI5RA.jpg'}, 'firstName': 'Ben', 'id': '1506620'}, {'lastName': 'Arneson', 'gender': 'male', 'photo': {'prefix': 'https://igx.4sqi.net/img/user/', 'suffix': '/1578770-VUMR0QKIXBTGXVFL.jpg'}, 'firstName': 'Chris', 'id': '1578770'}]}], 'count': 2, 'summary': '2 likes'}, 'agreeCount': 3, 'id': '524c963911d2b9f06dc41af4', 'todo': {'count': 0}, 'createdAt': 1380750905, 'disagreeCount': 0, 'type': 'user', 'canonicalUrl': 'https://foursquare.com/item/524c963911d2b9f06dc41af4', 'lang': 'en', 'user': {'lastName': 'Holmes', 'gender': 'female', 'photo': {'prefix': 'https://igx.4sqi.net/img/user/', 'suffix': '/EGMDM1KSRMMU0TEW.jpg'}, 'firstName': 'Candace', 'id': '52802472'}, 'logView': True}]}], 'count': 37}, 'colors': {'highlightColor': {'value': -7831456, 'photoId': '4fa5335fe4b038e6a22fd6f3'}, 'highlightTextColor': {'value': -16777216, 'photoId': '4fa5335fe4b038e6a22fd6f3'}, 'algoVersion': 3}, 'likes': {'groups': [{'count': 335, 'type': 'others', 'items': []}], 'count': 335, 'summary': '335 Likes'}, 'beenHere': {'marked': False, 'lastCheckinExpiredAt': 0, 'count': 0, 'unconfirmedCount': 0}, 'shortUrl': 'http://4sq.com/4y5BCy', 'location': {'labeledLatLngs': [{'label': 'display', 'lng': -87.65497485751038, 'lat': 41.913290273537804}], 'city': 'Chicago', 'lng': -87.65497485751038, 'crossStreet': 'at W Willow St', 'postalCode': '60614', 'cc': 'US', 'formattedAddress': ['1720 N Marcey St (at W Willow St)', 'Chicago, IL 60614', 'United States'], 'state': 'IL', 'address': '1720 N Marcey St', 'lat': 41.913290273537804, 'country': 'United States'}, 'name': \"Binny's Beverage Depot\", 'pageUpdates': {'count': 0, 'items': []}, 'reasons': {'count': 1, 'items': [{'summary': 'Lots of people like this place', 'reasonName': 'rawLikesReason', 'type': 'general'}]}, 'ratingSignals': 382, 'categories': [{'pluralName': 'Liquor Stores', 'id': '4bf58dd8d48988d186941735', 'name': 'Liquor Store', 'primary': True, 'icon': {'prefix': 'https://ss3.4sqi.net/img/categories_v2/shops/food_liquor_', 'suffix': '.png'}, 'shortName': 'Liquor Store'}, {'name': 'Wine Shop', 'pluralName': 'Wine Shops', 'icon': {'prefix': 'https://ss3.4sqi.net/img/categories_v2/shops/food_wineshop_', 'suffix': '.png'}, 'id': '4bf58dd8d48988d119951735', 'shortName': 'Wine Shop'}, {'name': 'Beer Store', 'pluralName': 'Beer Stores', 'icon': {'prefix': 'https://ss3.4sqi.net/img/categories_v2/nightlife/beergarden_', 'suffix': '.png'}, 'id': '5370f356bcbc57f1066c94c2', 'shortName': 'Beer Store'}], 'inbox': {'count': 0, 'items': []}, 'id': '4b06c066f964a52097ef22e3', 'canonicalUrl': 'https://foursquare.com/v/binnys-beverage-depot/4b06c066f964a52097ef22e3', 'hereNow': {'groups': [], 'count': 0, 'summary': 'Nobody here'}, 'bestPhoto': {'visibility': 'public', 'suffix': '/xkBAx3jafoM6d3KIu9lXUiU3rPKR546Q7s3mNmhNUeY.jpg', 'id': '4fa5335fe4b038e6a22fd6f3', 'width': 720, 'height': 540, 'prefix': 'https://igx.4sqi.net/img/general/', 'createdAt': 1336226655, 'source': {'name': 'Foursquare for iOS', 'url': 'https://foursquare.com/download/#/iphone'}}, 'storeId': '24', 'specials': {'count': 0, 'items': []}, 'description': \"If you can't find it at Binny's, it's probably not worth drinking.\", 'stats': {'tipCount': 37}, 'listed': {'groups': [{'name': 'Lists from other people', 'count': 59, 'type': 'others', 'items': [{'photo': {'visibility': 'public', 'suffix': '/mUKE_OXMWGsDkDMHIRRIjFepZ9bu85CawxHoSa_zIdc.jpg', 'id': '4fa803d8e4b00c58462af9c2', 'width': 720, 'height': 540, 'prefix': 'https://igx.4sqi.net/img/general/', 'createdAt': 1336411096, 'user': {'lastName': 'Pimentel', 'gender': 'male', 'photo': {'prefix': 'https://igx.4sqi.net/img/user/', 'suffix': '/RL1XQEPYZ2DSKKC1.jpg'}, 'firstName': 'Dennis', 'id': '27272312'}}, 'followers': {'count': 1}, 'description': '', 'updatedAt': 1538371044, 'type': 'others', 'public': True, 'listItems': {'count': 172, 'items': [{'photo': {'visibility': 'public', 'suffix': '/xkBAx3jafoM6d3KIu9lXUiU3rPKR546Q7s3mNmhNUeY.jpg', 'id': '4fa5335fe4b038e6a22fd6f3', 'width': 720, 'height': 540, 'prefix': 'https://igx.4sqi.net/img/general/', 'createdAt': 1336226655, 'user': {'lastName': 'Earley', 'gender': 'male', 'photo': {'prefix': 'https://igx.4sqi.net/img/user/', 'suffix': '/DWOIS0HFZHGVEBZX.jpg'}, 'firstName': 'Simon', 'id': '13023990'}}, 'createdAt': 1531659930, 'id': 't588408c4fd2716635b0f9433'}]}, 'createdAt': 1531659857, 'name': 'Chicago', 'url': '/user/11430255/list/chicago', 'editable': False, 'id': '5b4b465158002c002c8c0be0', 'canonicalUrl': 'https://foursquare.com/user/11430255/list/chicago', 'collaborative': True, 'user': {'lastName': 'C.', 'gender': 'male', 'photo': {'prefix': 'https://igx.4sqi.net/img/user/', 'suffix': '/11430255-G3KWWSFTBJ4ZOOJP.jpg'}, 'firstName': 'Antônio', 'id': '11430255'}}, {'followers': {'count': 1}, 'description': '', 'updatedAt': 1334964395, 'type': 'others', 'public': True, 'listItems': {'count': 18, 'items': [{'createdAt': 1334964011, 'id': 'v4b06c066f964a52097ef22e3'}]}, 'createdAt': 1334963830, 'name': 'My Faves', 'url': '/user/16431325/list/my-faves', 'editable': False, 'id': '4f91ee76e4b01406ec54c2d2', 'canonicalUrl': 'https://foursquare.com/user/16431325/list/my-faves', 'collaborative': False, 'user': {'lastName': 'Stellato', 'gender': 'female', 'photo': {'prefix': 'https://igx.4sqi.net/img/user/', 'suffix': '/R2A0ZC2RPLKVOUQV.jpg'}, 'firstName': 'Phyllis', 'id': '16431325'}}, {'photo': {'visibility': 'public', 'suffix': '/32LIW2EES4BJZS3G1OZ3H1T3TZ5LQPGZUNOWRWO2CBYS4LFZ.jpg', 'id': '4e9a19915c5ce9b982c87735', 'width': 540, 'height': 540, 'prefix': 'https://igx.4sqi.net/img/general/', 'createdAt': 1318721937, 'user': {'photo': {'prefix': 'https://igx.4sqi.net/img/user/', 'suffix': '/7789410_BLGXKFEb_97UQQtPg5_c7nolKeHLD3eLrbvr2p3XpizTB069EXf-Gw9VBzn1jZZworReVtH7N.jpg'}, 'gender': 'female', 'firstName': 'Maureen', 'id': '7789410'}}, 'followers': {'count': 12}, 'description': 'All the best beer lists- at bars, breweries, shops and pubs in Chicagoland.', 'updatedAt': 1424450014, 'type': 'others', 'public': True, 'listItems': {'count': 40, 'items': [{'photo': {'visibility': 'public', 'suffix': '/4235918_BKwsvKaFKFRToei8wptg-zOH-PVSOnJeMnqN2InHRJw.jpg', 'id': '5298af1111d29749082b9dec', 'width': 720, 'height': 720, 'prefix': 'https://igx.4sqi.net/img/general/', 'createdAt': 1385738001, 'user': {'lastName': 'Jurinak', 'gender': 'female', 'photo': {'prefix': 'https://igx.4sqi.net/img/user/', 'suffix': '/YJAGMRDMNVSAFRYT.jpg'}, 'firstName': 'Hilary', 'id': '4235918'}}, 'createdAt': 1393708661, 'id': 'v4b06c066f964a52097ef22e3'}]}, 'createdAt': 1325036643, 'name': \"The Beer Lists You're After\", 'url': '/user/7789410/list/the-beer-lists-youre-after', 'editable': False, 'id': '4efa746377c8e88f4a6d7172', 'canonicalUrl': 'https://foursquare.com/user/7789410/list/the-beer-lists-youre-after', 'collaborative': False, 'user': {'photo': {'prefix': 'https://igx.4sqi.net/img/user/', 'suffix': '/7789410_BLGXKFEb_97UQQtPg5_c7nolKeHLD3eLrbvr2p3XpizTB069EXf-Gw9VBzn1jZZworReVtH7N.jpg'}, 'gender': 'female', 'firstName': 'Maureen', 'id': '7789410'}}, {'photo': {'visibility': 'public', 'suffix': '/29968272_uYyINRmc0UCzI5JKbnI97RHt88-RsODsGGq-eqFlD2Q.jpg', 'id': '5090aa10e4b006ec4029be4d', 'width': 720, 'height': 431, 'prefix': 'https://igx.4sqi.net/img/general/', 'createdAt': 1351658000, 'user': {'lastName': 'Rivera', 'gender': 'male', 'photo': {'prefix': 'https://igx.4sqi.net/img/user/', 'suffix': '/04411KFTJHON3XCT.jpg'}, 'firstName': 'Hector', 'id': '29968272'}}, 'followers': {'count': 68}, 'description': 'These are primarily bars which will have at least one beerworthy event during CCBW 2013 [16-26 May].', 'updatedAt': 1425813452, 'type': 'others', 'public': True, 'listItems': {'count': 180, 'items': [{'createdAt': 1368643519, 'id': 'v4b06c066f964a52097ef22e3'}]}, 'createdAt': 1366528362, 'name': '2013 Chicago Craft Beer Week venues', 'url': '/pudgym29/list/2013-chicago-craft-beer-week-venues', 'editable': False, 'id': '5173916a498e0a552d9a1487', 'canonicalUrl': 'https://foursquare.com/pudgym29/list/2013-chicago-craft-beer-week-venues', 'collaborative': False, 'user': {'lastName': 'De Rose', 'gender': 'male', 'photo': {'prefix': 'https://igx.4sqi.net/img/user/', 'suffix': '/QRH0VATZCH3JDJ5V.jpg'}, 'firstName': 'Steve ‘Pudgy’', 'id': '2454150'}}]}], 'count': 59}, 'page': {'pageInfo': {'banner': 'https://is1.4sqi.net/userpix/MOBKNPQEPMYPRJBS.jpg', 'description': \"If you can't find it at Binny's, it's probably not worth drinking.\", 'links': {'count': 1, 'items': [{'url': 'http://binnys.com'}]}}, 'user': {'photo': {'prefix': 'https://igx.4sqi.net/img/user/', 'suffix': '/5MAF0NJG104Q2LUA.jpg'}, 'tips': {'count': 1}, 'bio': '', 'homeCity': 'Chicago, IL', 'firstName': \"Binny's Beverage Depot\", 'id': '47622164', 'type': 'chain', 'contact': {'facebook': '98167012448'}, 'gender': 'none', 'lists': {'groups': [{'count': 2, 'type': 'created', 'items': []}]}}}, 'contact': {'formattedPhone': '(312) 664-4394', 'phone': '3126644394', 'facebook': '98167012448'}, 'ratingColor': '00B551', 'hours': {'isOpen': False, 'timeframes': [{'days': 'Mon–Sat', 'segments': [], 'includesToday': True, 'open': [{'renderedTime': '9:00 AM–9:00 PM'}]}, {'days': 'Sun', 'segments': [], 'open': [{'renderedTime': '11:00 AM–6:00 PM'}]}], 'richStatus': {'text': 'Closed until 9:00 AM', 'entities': []}, 'dayData': [], 'isLocalHoliday': False, 'status': 'Closed until 9:00 AM'}, 'dislike': False, 'popular': {'isOpen': False, 'timeframes': [{'days': 'Today', 'segments': [], 'includesToday': True, 'open': [{'renderedTime': '2:00 PM–9:00 PM'}]}, {'days': 'Thu', 'segments': [], 'open': [{'renderedTime': 'Noon–9:00 PM'}]}, {'days': 'Fri', 'segments': [], 'open': [{'renderedTime': '10:00 AM–9:00 PM'}]}, {'days': 'Sat', 'segments': [], 'open': [{'renderedTime': '9:00 AM–9:00 PM'}]}, {'days': 'Sun', 'segments': [], 'open': [{'renderedTime': '11:00 AM–6:00 PM'}]}, {'days': 'Mon', 'segments': [], 'open': [{'renderedTime': '2:00 PM–3:00 PM'}, {'renderedTime': '5:00 PM–7:00 PM'}]}, {'days': 'Tue', 'segments': [], 'open': [{'renderedTime': '4:00 PM–8:00 PM'}]}], 'isLocalHoliday': False}, 'photos': {'groups': [{'name': \"Friends' check-in photos\", 'count': 0, 'type': 'checkin', 'items': []}, {'name': 'Venue photos', 'count': 333, 'type': 'venue', 'items': [{'visibility': 'public', 'suffix': '/xkBAx3jafoM6d3KIu9lXUiU3rPKR546Q7s3mNmhNUeY.jpg', 'id': '4fa5335fe4b038e6a22fd6f3', 'width': 720, 'height': 540, 'prefix': 'https://igx.4sqi.net/img/general/', 'createdAt': 1336226655, 'user': {'lastName': 'Earley', 'gender': 'male', 'photo': {'prefix': 'https://igx.4sqi.net/img/user/', 'suffix': '/DWOIS0HFZHGVEBZX.jpg'}, 'firstName': 'Simon', 'id': '13023990'}, 'source': {'name': 'Foursquare for iOS', 'url': 'https://foursquare.com/download/#/iphone'}}, {'visibility': 'public', 'suffix': '/43149127_y3PwwAsB7YMikEDeA4YH-1yq02dc_9ZlxM5FO0YSfTo.jpg', 'id': '5286b33311d2bc745e7ff6c4', 'width': 612, 'height': 612, 'prefix': 'https://igx.4sqi.net/img/general/', 'createdAt': 1384559411, 'user': {'lastName': 'Bryan', 'gender': 'female', 'photo': {'prefix': 'https://igx.4sqi.net/img/user/', 'suffix': '/43149127-RWN0C0AY0CAVDEKD.jpg'}, 'firstName': 'Kerry', 'id': '43149127'}, 'source': {'name': 'Instagram', 'url': 'http://instagram.com'}}]}], 'count': 333, 'summary': '0 photos'}, 'attributes': {'groups': [{'name': 'Credit Cards', 'count': 7, 'summary': 'Credit Cards', 'type': 'payments', 'items': [{'displayName': 'Credit Cards', 'displayValue': 'Yes (incl. Visa & American Express)'}]}]}, 'rating': 9.5, 'url': 'http://binnys.com', 'verified': True, 'timeZone': 'America/Chicago', 'createdAt': 1258733670, 'ok': False, 'allowMenuUrlEdit': True}}, 'meta': {'code': 200, 'requestId': '5bb4641e4434b9433f70a27e'}}\n"
     ]
    },
    {
     "name": "stdout",
     "output_type": "stream",
     "text": [
      "{'response': {'venue': {'tips': {'groups': [{'name': 'All tips', 'count': 21, 'type': 'others', 'items': [{'text': 'A Park worker told me the composite boards get very HOT ... especially on days with no cloud cover ... so avoid walking your dog here on very hot sunny days to protect his paws.', 'likes': {'groups': [{'count': 5, 'type': 'others', 'items': [{'lastName': 'Monge', 'gender': 'female', 'photo': {'prefix': 'https://igx.4sqi.net/img/user/', 'suffix': '/58638618-YFWGIHVT1YEPOOSU.jpg'}, 'firstName': 'Melissa', 'id': '58638618'}, {'lastName': 'Hicks', 'gender': 'male', 'photo': {'prefix': 'https://igx.4sqi.net/img/user/', 'suffix': '/XDEXFRWBMNUSPDMW.jpg'}, 'firstName': 'Benjamen', 'id': '11965585'}, {'photo': {'prefix': 'https://igx.4sqi.net/img/user/', 'suffix': '/BTVBDOGRBCRCA4J4.jpg'}, 'gender': 'female', 'firstName': 'mau', 'id': '2071853'}, {'lastName': 'Garcia Cristan', 'gender': 'female', 'photo': {'prefix': 'https://igx.4sqi.net/img/user/', 'suffix': '/19422808_w-YFfS7e_Da-UCT8iPpVtua6rm5P8HO3WBsQzitMMOpioIV5_DKT8vMGaGOMruW521eLMx4po.jpg'}, 'firstName': 'Hazel', 'id': '19422808'}]}], 'count': 5, 'summary': '5 likes'}, 'agreeCount': 5, 'id': '5210d80611d2a8210bf6cadc', 'todo': {'count': 0}, 'createdAt': 1376835590, 'disagreeCount': 0, 'type': 'user', 'canonicalUrl': 'https://foursquare.com/item/5210d80611d2a8210bf6cadc', 'lang': 'en', 'user': {'lastName': 'Garcia Cristan', 'gender': 'female', 'photo': {'prefix': 'https://igx.4sqi.net/img/user/', 'suffix': '/19422808_w-YFfS7e_Da-UCT8iPpVtua6rm5P8HO3WBsQzitMMOpioIV5_DKT8vMGaGOMruW521eLMx4po.jpg'}, 'firstName': 'Hazel', 'id': '19422808'}, 'logView': True}, {'text': 'Lo mejor recorrerlo en bicicleta', 'likes': {'groups': [{'count': 3, 'type': 'others', 'items': [{'lastName': 'Aba', 'gender': 'female', 'photo': {'prefix': 'https://igx.4sqi.net/img/user/', 'suffix': '/102098284-BVCD3WWJZQ2FHMEU.jpg'}, 'firstName': 'Lizet', 'id': '102098284'}, {'lastName': 'Jimenez', 'gender': 'male', 'photo': {'prefix': 'https://igx.4sqi.net/img/user/', 'suffix': '/97303157-S5UH1EA5FCZVSGEC.jpg'}, 'firstName': 'Jose', 'id': '97303157'}, {'lastName': 'Vega Ayala', 'gender': 'female', 'photo': {'prefix': 'https://igx.4sqi.net/img/user/', 'suffix': '/94319816-DBP5IQWWD4052CHS.jpg'}, 'firstName': 'Tanya', 'id': '94319816'}]}], 'count': 3, 'summary': '3 likes'}, 'agreeCount': 3, 'id': '542b24a8498e750855bbd986', 'todo': {'count': 2}, 'createdAt': 1412113576, 'disagreeCount': 0, 'type': 'user', 'canonicalUrl': 'https://foursquare.com/item/542b24a8498e750855bbd986', 'lang': 'es', 'user': {'lastName': 'x el mundo', 'gender': 'male', 'photo': {'prefix': 'https://igx.4sqi.net/img/user/', 'suffix': '/83451179-WNUBUIIZ4DHRZTGR.jpg'}, 'firstName': 'Alan', 'id': '83451179'}, 'logView': True}]}], 'count': 21}, 'likes': {'groups': [{'count': 116, 'type': 'others', 'items': []}], 'count': 116, 'summary': '116 Likes'}, 'beenHere': {'marked': False, 'lastCheckinExpiredAt': 0, 'count': 0, 'unconfirmedCount': 0}, 'shortUrl': 'http://4sq.com/9SZwk1', 'location': {'labeledLatLngs': [{'label': 'display', 'lng': -87.63328313827515, 'lat': 41.9181019674175}], 'city': 'Chicago', 'lng': -87.63328313827515, 'crossStreet': 'btwn Fullerton Ave & LaSalle Dr', 'postalCode': '60614', 'cc': 'US', 'formattedAddress': ['2001 N Clark St (btwn Fullerton Ave & LaSalle Dr)', 'Chicago, IL 60614', 'United States'], 'state': 'IL', 'address': '2001 N Clark St', 'lat': 41.9181019674175, 'country': 'United States'}, 'name': 'Nature Boardwalk', 'pageUpdates': {'count': 0, 'items': []}, 'reasons': {'count': 1, 'items': [{'summary': 'Lots of people like this place', 'reasonName': 'rawLikesReason', 'type': 'general'}]}, 'ratingSignals': 135, 'categories': [{'pluralName': 'Trails', 'id': '4bf58dd8d48988d159941735', 'name': 'Trail', 'primary': True, 'icon': {'prefix': 'https://ss3.4sqi.net/img/categories_v2/parks_outdoors/hikingtrail_', 'suffix': '.png'}, 'shortName': 'Trail'}], 'id': '4c23e840a852c928594ae26c', 'canonicalUrl': 'https://foursquare.com/v/nature-boardwalk/4c23e840a852c928594ae26c', 'hereNow': {'groups': [], 'count': 0, 'summary': 'Nobody here'}, 'bestPhoto': {'visibility': 'public', 'suffix': '/5005135_OR8iOrZMasJxIGcYEg0g3U7Ll-l_XBHumsKAv_whp2I.jpg', 'id': '51b4b68e498e4e96273a6447', 'width': 960, 'height': 720, 'prefix': 'https://igx.4sqi.net/img/general/', 'createdAt': 1370797710, 'source': {'name': 'Foursquare for iOS', 'url': 'https://foursquare.com/download/#/iphone'}}, 'specials': {'count': 0, 'items': []}, 'inbox': {'count': 0, 'items': []}, 'stats': {'tipCount': 21}, 'listed': {'groups': [{'name': 'Lists from other people', 'count': 162, 'type': 'others', 'items': [{'photo': {'visibility': 'public', 'suffix': '/kO_kE4Zvlg7tJkyL91ddP2w0OMrWd434agVuAfSJlYE.jpg', 'id': '4ff1fea6e4b07e2ae3bfe2e4', 'width': 537, 'height': 720, 'prefix': 'https://igx.4sqi.net/img/general/', 'createdAt': 1341259430, 'user': {'lastName': 'kaze', 'gender': 'female', 'photo': {'prefix': 'https://igx.4sqi.net/img/user/', 'suffix': '/IM4LZ1QPC1PQPRT4.jpg'}, 'firstName': 'dorkas', 'id': '6839072'}}, 'followers': {'count': 26}, 'description': 'All our nominees make it easy to enjoy the city as a family. Now it’s time for you to tell us which spots you love the best. Vote for your favorites now at timeoutchicagokids.com/awards.', 'updatedAt': 1393892854, 'id': '4ff20f8fe4b0a8dc59b8914d', 'public': True, 'listItems': {'count': 84, 'items': [{'photo': {'visibility': 'public', 'suffix': '/oYBHPTeW6df89a4edDhwkzkb1ZXhy2NYQA0wOZF_BG4.jpg', 'id': '4f3eba2ee4b0ba4c54bd8bd9', 'width': 612, 'height': 612, 'prefix': 'https://igx.4sqi.net/img/general/', 'createdAt': 1329510958, 'user': {'lastName': \"O'Connell\", 'gender': 'female', 'photo': {'prefix': 'https://igx.4sqi.net/img/user/', 'suffix': '/15360620-1XBTRJQUFDFJNPD3.jpg'}, 'firstName': 'Erin', 'id': '15360620'}}, 'createdAt': 1341269469, 'id': 't4ff22607e4b0afc114e1da55'}]}, 'createdAt': 1341263759, 'entities': [{'object': {'url': 'http://timeoutchicagokids.com/awards'}, 'indices': [156, 185], 'type': 'url'}], 'name': 'Hipsqueak Awards Nominees', 'logView': True, 'url': '/tockids/list/hipsqueak-awards-nominees', 'editable': False, 'type': 'others', 'canonicalUrl': 'https://foursquare.com/tockids/list/hipsqueak-awards-nominees', 'collaborative': False, 'user': {'photo': {'prefix': 'https://igx.4sqi.net/img/user/', 'suffix': '/1BBYZITH2VKYGCR3.jpg'}, 'gender': 'none', 'firstName': 'Time Out Chicago Kids', 'id': '17845528', 'type': 'page'}}, {'photo': {'visibility': 'public', 'suffix': '/YW2D4W4YTE3PRPF0KW0CR1G2EAMFFVFN5ZLTFA2KJX5RRXKQ.jpg', 'id': '4dd5f40840a39dd5c93c6b7e', 'width': 540, 'height': 540, 'prefix': 'https://igx.4sqi.net/img/general/', 'createdAt': 1305867272, 'user': {'lastName': 'Moreno', 'gender': 'male', 'photo': {'prefix': 'https://igx.4sqi.net/img/user/', 'suffix': '/PWLRK5HS1H0JGK3T.jpg'}, 'firstName': 'Louis', 'id': '1857650'}}, 'followers': {'count': 11}, 'description': 'the best places to gets cheap drinks in a casual atmosphere around NYC', 'updatedAt': 1359509209, 'type': 'others', 'public': True, 'listItems': {'count': 18, 'items': [{'createdAt': 1337459758, 'id': 'v4c23e840a852c928594ae26c'}]}, 'createdAt': 1326147621, 'name': 'Best Dive bars in NYC', 'url': '/matthurst/list/best-dive-bars-in-nyc', 'editable': False, 'id': '4f0b6825e4b00a2754fa4d68', 'canonicalUrl': 'https://foursquare.com/matthurst/list/best-dive-bars-in-nyc', 'collaborative': False, 'user': {'lastName': 'Hurst', 'gender': 'male', 'photo': {'prefix': 'https://igx.4sqi.net/img/user/', 'suffix': '/EULP3UTMMW4T40KC.jpg'}, 'firstName': 'Matthew', 'id': '3820'}}, {'photo': {'visibility': 'public', 'suffix': '/3TYESUBPLCG1ZIXI5KJ0XCXXXP2XQ5XZBSJ3LWH1WYCRHINX.jpg', 'id': '4e593ba3e4cd875e8eab70e4', 'width': 540, 'height': 720, 'prefix': 'https://igx.4sqi.net/img/general/', 'createdAt': 1314470819, 'user': {'photo': {'prefix': 'https://igx.4sqi.net/img/user/', 'suffix': '/GDS1Z0QMUWZ0EJ1L.jpg'}, 'gender': 'female', 'firstName': 'Lorena', 'id': '211979'}}, 'followers': {'count': 4}, 'description': '', 'updatedAt': 1418841204, 'type': 'others', 'public': True, 'listItems': {'count': 132, 'items': [{'createdAt': 1402854321, 'id': 'v4c23e840a852c928594ae26c'}]}, 'createdAt': 1366290331, 'name': 'Photography Play', 'url': '/visualstimulus_/list/photography-play', 'editable': False, 'id': '516fef9b498e04930d759903', 'canonicalUrl': 'https://foursquare.com/visualstimulus_/list/photography-play', 'collaborative': False, 'user': {'lastName': 'Aimee J', 'gender': 'female', 'photo': {'prefix': 'https://igx.4sqi.net/img/user/', 'suffix': '/5751736-SOW23RYVQRC10RL0.jpg'}, 'firstName': 'VisuaLStimuluS', 'id': '5751736'}}, {'followers': {'count': 7}, 'description': '', 'updatedAt': 1376206427, 'type': 'others', 'public': True, 'listItems': {'count': 18, 'items': [{'createdAt': 1321554419, 'id': 't4ec5557802d54e7047448a59'}]}, 'createdAt': 1321384788, 'name': 'nature in the city', 'url': '/doulaness/list/nature-in-the-city', 'editable': False, 'id': '4ec2bb549a524f153f7b1129', 'canonicalUrl': 'https://foursquare.com/doulaness/list/nature-in-the-city', 'collaborative': False, 'user': {'lastName': 'tarbell', 'gender': 'female', 'photo': {'prefix': 'https://igx.4sqi.net/img/user/', 'suffix': '/WWG1QBBA22RCNIQE.jpg'}, 'firstName': 'venessa', 'id': '685798'}}]}], 'count': 162}, 'colors': {'highlightColor': {'value': -2039576, 'photoId': '51b4b68e498e4e96273a6447'}, 'highlightTextColor': {'value': -16777216, 'photoId': '51b4b68e498e4e96273a6447'}, 'algoVersion': 3}, 'contact': {}, 'ratingColor': '00B551', 'dislike': False, 'popular': {'isOpen': False, 'timeframes': [{'days': 'Today', 'segments': [], 'includesToday': True, 'open': [{'renderedTime': '11:00 AM–6:00 PM'}]}, {'days': 'Thu', 'segments': [], 'open': [{'renderedTime': '10:00 AM–6:00 PM'}]}, {'days': 'Fri', 'segments': [], 'open': [{'renderedTime': 'Noon–6:00 PM'}]}, {'days': 'Sat', 'segments': [], 'open': [{'renderedTime': '9:00 AM–7:00 PM'}]}, {'days': 'Sun', 'segments': [], 'open': [{'renderedTime': '9:00 AM–8:00 PM'}]}, {'days': 'Mon', 'segments': [], 'open': [{'renderedTime': '8:00 AM–8:00 PM'}]}, {'days': 'Tue', 'segments': [], 'open': [{'renderedTime': '11:00 AM–7:00 PM'}]}], 'isLocalHoliday': False}, 'photos': {'groups': [{'name': \"Friends' check-in photos\", 'count': 0, 'type': 'checkin', 'items': []}, {'name': 'Venue photos', 'count': 601, 'type': 'venue', 'items': [{'visibility': 'public', 'suffix': '/5005135_OR8iOrZMasJxIGcYEg0g3U7Ll-l_XBHumsKAv_whp2I.jpg', 'id': '51b4b68e498e4e96273a6447', 'width': 960, 'height': 720, 'prefix': 'https://igx.4sqi.net/img/general/', 'createdAt': 1370797710, 'user': {'photo': {'prefix': 'https://igx.4sqi.net/img/user/', 'suffix': '/5005135-AUNX5QVLGKWPVFRW.jpg'}, 'gender': 'female', 'firstName': 'Cari', 'id': '5005135'}, 'source': {'name': 'Foursquare for iOS', 'url': 'https://foursquare.com/download/#/iphone'}}, {'visibility': 'public', 'suffix': '/67327_ar0DKKKN_7xos9T4EFPJzf0GyrKYReXakppX61-rMdc.jpg', 'id': '51e45a71498e328afc156518', 'width': 612, 'height': 612, 'prefix': 'https://igx.4sqi.net/img/general/', 'createdAt': 1373919857, 'user': {'lastName': 'Hauck', 'gender': 'male', 'photo': {'prefix': 'https://igx.4sqi.net/img/user/', 'suffix': '/ZTFSNFUDCFKYVKB2.jpg'}, 'firstName': 'Clayton', 'id': '67327'}, 'source': {'name': 'Instagram', 'url': 'http://instagram.com'}}]}], 'count': 601, 'summary': '0 photos'}, 'attributes': {'groups': []}, 'rating': 9.5, 'verified': False, 'timeZone': 'America/Chicago', 'createdAt': 1277421632, 'ok': False}}, 'meta': {'code': 200, 'requestId': '5bb4641f4434b9433f70a468'}}\n"
     ]
    },
    {
     "name": "stdout",
     "output_type": "stream",
     "text": [
      "{'response': {'venue': {'tips': {'groups': [{'name': 'All tips', 'count': 81, 'type': 'others', 'items': [{'text': 'The Music Box plays a mix of independent and foreign films, as well as classic (black and white) movie matinees, and midnight screenings of cult classics.', 'likes': {'groups': [{'count': 25, 'type': 'others', 'items': []}], 'count': 25, 'summary': '25 likes'}, 'id': '4b676e4970c603bb285091b4', 'todo': {'count': 171}, 'logView': True, 'createdAt': 1265069641, 'disagreeCount': 0, 'url': 'http://www.explorechicago.org', 'type': 'user', 'canonicalUrl': 'https://foursquare.com/item/4b676e4970c603bb285091b4', 'lang': 'en', 'user': {'photo': {'prefix': 'https://igx.4sqi.net/img/user/', 'suffix': '/JEBEI3ZWJ53R2G2W.jpg'}, 'gender': 'none', 'firstName': 'Explore Chicago', 'id': '238086', 'type': 'page'}, 'agreeCount': 25}, {'text': \"For old-time charm and movies that aren't the usual blockbusters, no place beats the Music Box.\", 'likes': {'groups': [{'count': 19, 'type': 'others', 'items': []}], 'count': 19, 'summary': '19 likes'}, 'agreeCount': 19, 'id': '4fccf19fe4b073d5db6748e5', 'todo': {'count': 24}, 'createdAt': 1338831263, 'disagreeCount': 0, 'type': 'user', 'canonicalUrl': 'https://foursquare.com/item/4fccf19fe4b073d5db6748e5', 'lang': 'en', 'user': {'photo': {'prefix': 'https://igx.4sqi.net/img/user/', 'suffix': '/R2RSEQ533D211UR0.jpg'}, 'gender': 'none', 'firstName': 'Time Out Chicago', 'id': '843848', 'type': 'page'}, 'logView': True}]}], 'count': 81}, 'likes': {'groups': [{'count': 484, 'type': 'others', 'items': []}], 'count': 484, 'summary': '484 Likes'}, 'beenHere': {'marked': False, 'lastCheckinExpiredAt': 0, 'count': 0, 'unconfirmedCount': 0}, 'shortUrl': 'http://4sq.com/760adI', 'location': {'city': 'Chicago', 'lng': -87.66393810510635, 'crossStreet': 'btwn Grace St & Waveland Ave', 'postalCode': '60613', 'cc': 'US', 'formattedAddress': ['3733 N Southport Ave (btwn Grace St & Waveland Ave)', 'Chicago, IL 60613', 'United States'], 'state': 'IL', 'address': '3733 N Southport Ave', 'lat': 41.94979790088183, 'country': 'United States'}, 'name': 'Music Box Theatre', 'pageUpdates': {'count': 0, 'items': []}, 'reasons': {'count': 1, 'items': [{'summary': 'There are 3 upcoming events here', 'reasonName': 'upcomingEventsReason', 'type': 'general', 'target': {'object': {'ignorable': False, 'type': 'events', 'id': '5bb4641f86bc49002c47849a', 'target': {'url': '/venues/42e82000f964a52086261fe3/events', 'type': 'path'}}, 'type': 'navigation'}}]}, 'ratingSignals': 555, 'categories': [{'pluralName': 'Indie Movie Theaters', 'id': '4bf58dd8d48988d17e941735', 'name': 'Indie Movie Theater', 'primary': True, 'icon': {'prefix': 'https://ss3.4sqi.net/img/categories_v2/arts_entertainment/movietheater_', 'suffix': '.png'}, 'shortName': 'Indie Movies'}, {'name': 'Theater', 'pluralName': 'Theaters', 'icon': {'prefix': 'https://ss3.4sqi.net/img/categories_v2/arts_entertainment/performingarts_theater_', 'suffix': '.png'}, 'id': '4bf58dd8d48988d137941735', 'shortName': 'Theater'}], 'menu': {'anchor': 'View Prices', 'label': 'Prices', 'url': 'https://foursquare.com/v/music-box-theatre/42e82000f964a52086261fe3/menu', 'mobileUrl': 'https://foursquare.com/v/42e82000f964a52086261fe3/device_menu', 'type': 'Prices'}, 'id': '42e82000f964a52086261fe3', 'canonicalUrl': 'https://foursquare.com/v/music-box-theatre/42e82000f964a52086261fe3', 'hereNow': {'groups': [], 'count': 0, 'summary': 'Nobody here'}, 'hasMenu': True, 'bestPhoto': {'visibility': 'public', 'suffix': '/RJ8851I4yu-KVN_x8ZRNLxI1DpkijFuArmKwUUfoqRU.jpg', 'id': '4f6fd7aae4b07e41f08cd685', 'width': 612, 'height': 612, 'prefix': 'https://igx.4sqi.net/img/general/', 'createdAt': 1332729770, 'source': {'name': 'Instagram', 'url': 'http://instagram.com'}}, 'specials': {'count': 0, 'items': []}, 'inbox': {'count': 0, 'items': []}, 'stats': {'tipCount': 81}, 'listed': {'groups': [{'name': 'Lists from other people', 'count': 320, 'type': 'others', 'items': [{'photo': {'visibility': 'public', 'suffix': '/4Dnr8J0pxdVcWUhdULWMT0D7SzzKowAgCgBfTSzC82k.png', 'id': '4fd3de9a7bebfa2272028970', 'width': 300, 'height': 300, 'prefix': 'https://igx.4sqi.net/img/general/', 'createdAt': 1339285146, 'user': {'photo': {'prefix': 'https://igx.4sqi.net/img/user/', 'suffix': '/5LER2VHGAA4LMUUR.png'}, 'gender': 'none', 'firstName': 'TugaJumper', 'id': '19643984', 'type': 'page'}}, 'followers': {'count': 257}, 'description': '', 'updatedAt': 1339285162, 'type': 'others', 'public': True, 'listItems': {'count': 60, 'items': [{'createdAt': 1339281217, 'id': 'v42e82000f964a52086261fe3'}]}, 'createdAt': 1339281096, 'name': 'Explore Chicago - On Location', 'logView': True, 'url': '/p/tugajumper/19643984/list/explore-chicago--on-location', 'editable': False, 'id': '4fd3cec8e4b0052fbbb80a2e', 'canonicalUrl': 'https://foursquare.com/p/tugajumper/19643984/list/explore-chicago--on-location', 'collaborative': False, 'user': {'photo': {'prefix': 'https://igx.4sqi.net/img/user/', 'suffix': '/5LER2VHGAA4LMUUR.png'}, 'gender': 'none', 'firstName': 'TugaJumper', 'id': '19643984', 'type': 'page'}}, {'photo': {'visibility': 'public', 'suffix': '/R1VIBTLXTW4EK2W21GTA22D0C25H3BDQQB1LZCYFEBA05DKQ.jpg', 'id': '4dc9c9c240a3d0724980dddf', 'width': 537, 'height': 720, 'prefix': 'https://igx.4sqi.net/img/general/', 'createdAt': 1305070018, 'user': {'lastName': 'Higgins', 'gender': 'male', 'photo': {'prefix': 'https://igx.4sqi.net/img/user/', 'suffix': '/TJHYPONAXBPMNDIR.jpg'}, 'firstName': 'James', 'id': '641865'}}, 'followers': {'count': 582}, 'description': '', 'updatedAt': 1350016457, 'type': 'others', 'public': True, 'listItems': {'count': 41, 'items': [{'createdAt': 1316194599, 'id': 'v42e82000f964a52086261fe3'}, {'photo': {'visibility': 'public', 'suffix': '/JM12Y1YPA0NZQZGXX21JUF1WJ2SWC3QOPE4FRFKBICATYL3L.jpg', 'id': '4e22417388774a43b77329b5', 'width': 540, 'height': 720, 'prefix': 'https://igx.4sqi.net/img/general/', 'createdAt': 1310867827, 'user': {'lastName': 'Mendoza', 'gender': 'male', 'photo': {'prefix': 'https://igx.4sqi.net/img/user/', 'suffix': '/SBSJXSDUHQF10JKP.jpg'}, 'firstName': 'Mario', 'id': '1102761'}}, 'createdAt': 1316214551, 'id': 't4b676e4970c603bb285091b4'}]}, 'createdAt': 1316194599, 'name': 'Windy City', 'url': '/jrdraga/list/windy-city', 'editable': False, 'id': '4e7389277d8b051837fe224e', 'canonicalUrl': 'https://foursquare.com/jrdraga/list/windy-city', 'collaborative': False, 'user': {'photo': {'prefix': 'https://igx.4sqi.net/img/user/', 'suffix': '/SXQE5RMZJUHV3ELU.gif'}, 'gender': 'male', 'firstName': 'John', 'id': '3819171'}}, {'photo': {'visibility': 'public', 'suffix': '/FtyHiKTPHyq3xPZkmfpm2U11GbjVEMTD9VqTSmSZ0pA.jpg', 'id': '4fbd2b78e4b05c99c4639859', 'width': 612, 'height': 612, 'prefix': 'https://igx.4sqi.net/img/general/', 'createdAt': 1337797496, 'user': {'lastName': 'Pridgen', 'gender': 'male', 'photo': {'prefix': 'https://igx.4sqi.net/img/user/', 'suffix': '/3797977-S0E55AI3HKKMTTWJ.jpg'}, 'firstName': 'Shawn', 'id': '3797977'}}, 'followers': {'count': 2283}, 'description': 'For our 100th Foursquare list, we compiled a list of 100 picks (some instantly recognizable, some not so much) of our favorite restaurants, bars, theaters, thrift stores, and shops in the city. Enjoy!', 'updatedAt': 1438931858, 'type': 'others', 'public': True, 'listItems': {'count': 100, 'items': [{'photo': {'visibility': 'public', 'suffix': '/lIoOhquouNUJVPdLxBQkEjTyHoph-UksmZa6F8JVu1s.jpg', 'id': '4fb87de8e4b0d0cc81f3ba62', 'width': 540, 'height': 720, 'prefix': 'https://igx.4sqi.net/img/general/', 'createdAt': 1337490920, 'user': {'lastName': 'M', 'gender': 'female', 'photo': {'prefix': 'https://igx.4sqi.net/img/user/', 'suffix': '/ZXQCHQ5ADOXHEYCT.jpg'}, 'firstName': 'Troy', 'id': '15373014'}}, 'createdAt': 1337802272, 'id': 't4fccf19fe4b073d5db6748e5'}]}, 'createdAt': 1337801386, 'name': '100 Best Places in Chicago: TOC Staff Picks', 'logView': True, 'url': '/timeoutchicago/list/100-best-places-in-chicago-toc-staff-picks', 'editable': False, 'id': '4fbd3aaae4b0caa891610a81', 'canonicalUrl': 'https://foursquare.com/timeoutchicago/list/100-best-places-in-chicago-toc-staff-picks', 'collaborative': False, 'user': {'photo': {'prefix': 'https://igx.4sqi.net/img/user/', 'suffix': '/R2RSEQ533D211UR0.jpg'}, 'gender': 'none', 'firstName': 'Time Out Chicago', 'id': '843848', 'type': 'page'}}]}], 'count': 320}, 'colors': {'highlightColor': {'value': -15726544, 'photoId': '4f6fd7aae4b07e41f08cd685'}, 'highlightTextColor': {'value': -1, 'photoId': '4f6fd7aae4b07e41f08cd685'}, 'algoVersion': 3}, 'contact': {'formattedPhone': '(773) 871-6607', 'phone': '7738716607', 'twitter': 'musicboxtheatre'}, 'ratingColor': '00B551', 'events': {'count': 3, 'summary': '3 movies'}, 'dislike': False, 'popular': {'isOpen': False, 'timeframes': [{'days': 'Today', 'segments': [], 'includesToday': True, 'open': [{'renderedTime': '6:00 PM–10:00 PM'}]}, {'days': 'Thu', 'segments': [], 'open': [{'renderedTime': '4:00 PM–10:00 PM'}]}, {'days': 'Fri', 'segments': [], 'open': [{'renderedTime': '5:00 PM–1:00 AM'}]}, {'days': 'Sat', 'segments': [], 'open': [{'renderedTime': '11:00 AM–1:00 AM'}]}, {'days': 'Sun', 'segments': [], 'open': [{'renderedTime': '11:00 AM–10:00 PM'}]}, {'days': 'Mon–Tue', 'segments': [], 'open': [{'renderedTime': '6:00 PM–10:00 PM'}]}], 'isLocalHoliday': False}, 'photos': {'groups': [{'name': \"Friends' check-in photos\", 'count': 0, 'type': 'checkin', 'items': []}, {'name': 'Venue photos', 'count': 929, 'type': 'venue', 'items': [{'visibility': 'public', 'suffix': '/RJ8851I4yu-KVN_x8ZRNLxI1DpkijFuArmKwUUfoqRU.jpg', 'id': '4f6fd7aae4b07e41f08cd685', 'width': 612, 'height': 612, 'prefix': 'https://igx.4sqi.net/img/general/', 'createdAt': 1332729770, 'user': {'lastName': 'Morales', 'gender': 'male', 'photo': {'prefix': 'https://igx.4sqi.net/img/user/', 'suffix': '/20726_1258600909313.jpg'}, 'firstName': 'Tony', 'id': '20726'}, 'source': {'name': 'Instagram', 'url': 'http://instagram.com'}}, {'visibility': 'public', 'suffix': '/sOvpKfdI2b96h8xAPizUYD94kifDgjczHk5bv7gNnEQ.jpg', 'id': '500b786ae4b0ba42c22f99fd', 'width': 537, 'height': 720, 'prefix': 'https://igx.4sqi.net/img/general/', 'createdAt': 1342929002, 'user': {'lastName': 'Hawkinson', 'gender': 'male', 'photo': {'prefix': 'https://igx.4sqi.net/img/user/', 'suffix': '/AJKIAQB5QBWUI3ZL.jpg'}, 'firstName': 'Jay', 'id': '136074'}, 'source': {'name': 'Foursquare for iOS', 'url': 'https://foursquare.com/download/#/iphone'}}]}], 'count': 929, 'summary': '0 photos'}, 'attributes': {'groups': [{'name': 'Credit Cards', 'count': 7, 'summary': 'Credit Cards', 'type': 'payments', 'items': [{'displayName': 'Credit Cards', 'displayValue': 'Yes'}]}]}, 'rating': 9.5, 'url': 'http://www.musicboxtheatre.com', 'verified': True, 'timeZone': 'America/Chicago', 'createdAt': 1122508800, 'ok': False, 'allowMenuUrlEdit': True}}, 'meta': {'code': 200, 'requestId': '5bb4641f4434b94341103376'}}\n"
     ]
    },
    {
     "name": "stdout",
     "output_type": "stream",
     "text": [
      "{'response': {'venue': {'tips': {'groups': [{'name': 'All tips', 'count': 64, 'type': 'others', 'items': [{'text': 'Best little Italian store with incredible Italian Subs!', 'likes': {'groups': [{'count': 5, 'type': 'others', 'items': [{'lastName': 'Pocket Ninja', 'gender': 'female', 'photo': {'prefix': 'https://igx.4sqi.net/img/user/', 'suffix': '/QI1WQXN5E0K344ZB.jpg'}, 'firstName': 'Purple', 'id': '11742212'}, {'lastName': 'Mack', 'gender': 'female', 'photo': {'prefix': 'https://igx.4sqi.net/img/user/', 'suffix': '/196476-HC0L20IGEZP2ZMMH.jpg'}, 'firstName': 'Jamie', 'id': '196476'}, {'lastName': 'O.', 'gender': 'male', 'photo': {'prefix': 'https://igx.4sqi.net/img/user/', 'suffix': '/0N03FH3ZOCJLUSYV.jpg'}, 'firstName': 'Nick', 'id': '31466216'}]}], 'count': 5, 'summary': '5 likes'}, 'agreeCount': 5, 'id': '4bca0fad70c603bbc33698b4', 'todo': {'count': 1}, 'createdAt': 1271533485, 'disagreeCount': 0, 'type': 'user', 'canonicalUrl': 'https://foursquare.com/item/4bca0fad70c603bbc33698b4', 'lang': 'en', 'user': {'lastName': 'Elliott', 'gender': 'male', 'photo': {'prefix': 'https://igx.4sqi.net/img/user/', 'suffix': '/746341-HK2SGHPZGXL40FU3.jpg'}, 'firstName': 'Jim', 'id': '746341'}, 'logView': True}, {'text': 'Best Italian and Caprese subs!', 'likes': {'groups': [{'count': 3, 'type': 'others', 'items': [{'lastName': 'R', 'gender': 'male', 'photo': {'prefix': 'https://igx.4sqi.net/img/user/', 'suffix': '/ZAYHJOO1WBWHHYG5.jpg'}, 'firstName': 'Kelly', 'id': '28009730'}, {'lastName': 'Myers', 'gender': 'female', 'photo': {'prefix': 'https://igx.4sqi.net/img/user/', 'suffix': '/M004IBW0TAJPFFAF.jpg'}, 'firstName': 'Christie', 'id': '12816512'}, {'photo': {'prefix': 'https://igx.4sqi.net/img/user/', 'suffix': '/97869-Y4JEGVIMHISADFAO.jpg'}, 'gender': 'male', 'firstName': '@MisterHirsch', 'id': '97869'}]}], 'count': 3, 'summary': '3 likes'}, 'agreeCount': 3, 'id': '509a9beee4b06b5169d58194', 'todo': {'count': 0}, 'createdAt': 1352309742, 'authorInteractionType': 'liked', 'disagreeCount': 0, 'type': 'user', 'canonicalUrl': 'https://foursquare.com/item/509a9beee4b06b5169d58194', 'lang': 'en', 'user': {'lastName': 'P', 'gender': 'female', 'photo': {'prefix': 'https://igx.4sqi.net/img/user/', 'suffix': '/HHXP1FNWDMF0552V.jpg'}, 'firstName': 'Lisa', 'id': '395578'}, 'logView': True}]}], 'count': 64}, 'colors': {'highlightColor': {'value': -14671848, 'photoId': '523bd054498e4d01fe13fb32'}, 'highlightTextColor': {'value': -1, 'photoId': '523bd054498e4d01fe13fb32'}, 'algoVersion': 3}, 'likes': {'groups': [{'count': 158, 'type': 'others', 'items': []}], 'count': 158, 'summary': '158 Likes'}, 'beenHere': {'marked': False, 'lastCheckinExpiredAt': 0, 'count': 0, 'unconfirmedCount': 0}, 'shortUrl': 'http://4sq.com/7EwITx', 'location': {'labeledLatLngs': [{'label': 'display', 'lng': -87.6556284832498, 'lat': 41.89117781715653}], 'city': 'Chicago', 'lng': -87.6556284832498, 'crossStreet': 'at N May St', 'postalCode': '60642', 'cc': 'US', 'formattedAddress': ['1120 W Grand Ave (at N May St)', 'Chicago, IL 60642', 'United States'], 'state': 'IL', 'address': '1120 W Grand Ave', 'lat': 41.89117781715653, 'country': 'United States'}, 'name': 'Bari', 'pageUpdates': {'count': 0, 'items': []}, 'reasons': {'count': 1, 'items': [{'summary': 'Lots of people like this place', 'reasonName': 'rawLikesReason', 'type': 'general'}]}, 'ratingSignals': 214, 'categories': [{'pluralName': 'Sandwich Places', 'id': '4bf58dd8d48988d1c5941735', 'name': 'Sandwich Place', 'primary': True, 'icon': {'prefix': 'https://ss3.4sqi.net/img/categories_v2/food/deli_', 'suffix': '.png'}, 'shortName': 'Sandwiches'}, {'name': 'Deli / Bodega', 'pluralName': 'Delis / Bodegas', 'icon': {'prefix': 'https://ss3.4sqi.net/img/categories_v2/food/deli_', 'suffix': '.png'}, 'id': '4bf58dd8d48988d146941735', 'shortName': 'Deli / Bodega'}], 'delivery': {'provider': {'name': 'grubhub', 'icon': {'name': '/delivery_provider_grubhub_20180129.png', 'sizes': [40, 50], 'prefix': 'https://igx.4sqi.net/img/general/cap/'}}, 'url': 'https://www.grubhub.com/restaurant/bari-1120-w-grand-ave-ste-1-chicago/279399?affiliate=1131&utm_source=foursquare-affiliate-network&utm_medium=affiliate&utm_campaign=1131&utm_content=279399', 'id': '279399'}, 'menu': {'anchor': 'View Menu', 'label': 'Menu', 'url': 'https://foursquare.com/v/bari/4a6e8003f964a520d5d41fe3/menu', 'mobileUrl': 'https://foursquare.com/v/4a6e8003f964a520d5d41fe3/device_menu', 'type': 'Menu'}, 'id': '4a6e8003f964a520d5d41fe3', 'canonicalUrl': 'https://foursquare.com/v/bari/4a6e8003f964a520d5d41fe3', 'hereNow': {'groups': [], 'count': 0, 'summary': 'Nobody here'}, 'hasMenu': True, 'bestPhoto': {'visibility': 'public', 'suffix': '/24152642_cSUZhOqdr2uzdVgCJA00Lar6Txfs46uD__ER1cf4iCA.jpg', 'id': '523bd054498e4d01fe13fb32', 'width': 612, 'height': 612, 'prefix': 'https://igx.4sqi.net/img/general/', 'createdAt': 1379651668, 'source': {'name': 'Instagram', 'url': 'http://instagram.com'}}, 'price': {'tier': 1, 'message': 'Cheap', 'currency': '$'}, 'inbox': {'count': 0, 'items': []}, 'stats': {'tipCount': 64}, 'listed': {'groups': [{'name': 'Lists from other people', 'count': 226, 'type': 'others', 'items': [{'photo': {'visibility': 'public', 'suffix': '/97311_DpwXMIQhz151fz0GsYVaYIHLhKNlUMsA8JmuAjfF1jo.jpg', 'id': '568d9034498e246c45312b06', 'width': 1440, 'height': 1440, 'prefix': 'https://igx.4sqi.net/img/general/', 'createdAt': 1452118068, 'user': {'lastName': 'Percoco', 'gender': 'male', 'photo': {'prefix': 'https://igx.4sqi.net/img/user/', 'suffix': '/97311-RX0HQ1MU4H45KLVJ.jpg'}, 'firstName': 'Nicholas', 'id': '97311'}}, 'guide': True, 'description': \"There's nothing quite like that first bite of a spot-on sandwich. Whether you favor a lunchtime bánh mì or a late night grilled cheese, these 15 masterpieces should be on your Chicago bucket list.\", 'updatedAt': 1461098656, 'type': 'others', 'followers': {'count': 28}, 'public': True, 'listItems': {'count': 15, 'items': [{'photo': {'visibility': 'public', 'suffix': '/12639144_emEu6zH2jTtu1ipIbtVroli3PFh-ABHoO5gwyKQbzdo.jpg', 'id': '5419e1eb11d2d9fee6b88b42', 'width': 960, 'height': 960, 'prefix': 'https://igx.4sqi.net/img/general/', 'createdAt': 1410982379, 'user': {'lastName': 'Pak', 'gender': 'female', 'photo': {'prefix': 'https://igx.4sqi.net/img/user/', 'suffix': '/LYIFDY23UAN504NG.jpg'}, 'firstName': 'Margaret', 'id': '12639144'}}, 'createdAt': 1461076377, 'id': 't51f17c8c498e11d300b4a973'}]}, 'createdAt': 1461076096, 'name': '15 Bucket List Sandwiches in Chicago', 'logView': True, 'url': '/foursquare/list/15-bucket-list-sandwiches-in-chicago', 'editable': False, 'id': '57164080498e28e06725855c', 'canonicalUrl': 'https://foursquare.com/foursquare/list/15-bucket-list-sandwiches-in-chicago', 'collaborative': False, 'guideType': 'bestOf', 'user': {'photo': {'prefix': 'https://igx.4sqi.net/img/user/', 'suffix': '/23438729-TODURDIUDUMY4JF5.png'}, 'gender': 'none', 'firstName': 'Foursquare City Guide', 'id': '23438729', 'type': 'page'}}, {'photo': {'visibility': 'public', 'suffix': '/tX_GbgklonVqY_oawAGLZ-xKTsvz2RDjxw15FONPydk.jpg', 'id': '4fcb8399e4b0ee2f3aca090d', 'width': 537, 'height': 720, 'prefix': 'https://igx.4sqi.net/img/general/', 'createdAt': 1338737561, 'user': {'lastName': 'Rubin', 'gender': 'female', 'photo': {'prefix': 'https://igx.4sqi.net/img/user/', 'suffix': '/FF2NGFF3ISFC1X5Z.jpg'}, 'firstName': 'Myra', 'id': '465707'}}, 'followers': {'count': 25}, 'description': '', 'updatedAt': 1520742180, 'type': 'others', 'public': True, 'listItems': {'count': 154, 'items': [{'createdAt': 1460960710, 'id': 'v4a6e8003f964a520d5d41fe3'}]}, 'createdAt': 1318880589, 'name': 'Top places to eat in CHICAGO', 'url': '/user/3111000/list/top-places-to-eat-in-chicago', 'editable': False, 'id': '4e9c854d29c27d6ad767c7b2', 'canonicalUrl': 'https://foursquare.com/user/3111000/list/top-places-to-eat-in-chicago', 'collaborative': False, 'user': {'lastName': 'Willis', 'gender': 'male', 'photo': {'prefix': 'https://igx.4sqi.net/img/user/', 'suffix': '/3111000_rqsBbQtb_YHPTXSiHWdsqxCExFqLj3wb32kOyidoHaqdQZc39yIMUtDN9jVHkXIklG1p-LBwX.jpg'}, 'firstName': 'Ron', 'id': '3111000'}}, {'followers': {'count': 57}, 'description': \"The stuff from Chicago Reader's Best of Chicago List http://www.chicagoreader.com/chicago/best-everything/BestOf?oid=10030986\", 'updatedAt': 1372043047, 'id': '51c5fcd9498e5d271a05570f', 'public': True, 'listItems': {'count': 175, 'items': [{'createdAt': 1372027806, 'id': 'v4a6e8003f964a520d5d41fe3'}]}, 'createdAt': 1371929817, 'entities': [{'object': {'url': 'http://www.chicagoreader.com/chicago/best-everything/BestOf?oid=10030986'}, 'indices': [53, 125], 'type': 'url'}], 'name': 'Best in Chicago', 'url': '/jas0njames/list/best-in-chicago', 'editable': False, 'type': 'others', 'canonicalUrl': 'https://foursquare.com/jas0njames/list/best-in-chicago', 'collaborative': False, 'user': {'lastName': 'James', 'gender': 'male', 'photo': {'prefix': 'https://igx.4sqi.net/img/user/', 'suffix': '/57585984-EVVFW1XBYH2YE3K4'}, 'firstName': 'Jason', 'id': '57585984'}}, {'photo': {'visibility': 'public', 'suffix': '/1VIHhqnzX2Luk4JIjwFFdWbMAVKHDg8IfkObSqs5JjE.jpg', 'id': '4f3988d2e4b02a70e37630ff', 'width': 720, 'height': 540, 'prefix': 'https://igx.4sqi.net/img/general/', 'createdAt': 1329170642, 'user': {'lastName': 'Dilokvivatchai', 'gender': 'female', 'photo': {'prefix': 'https://igx.4sqi.net/img/user/', 'suffix': '/LOZFBI15YXONOEPI.jpg'}, 'firstName': 'zumohub', 'id': '1742215'}}, 'followers': {'count': 159}, 'description': 'Unofficial listing of the LTHForum Great Neighborhood Restaurants. Updated 2018-05-21', 'updatedAt': 1526928021, 'type': 'others', 'public': True, 'listItems': {'count': 165, 'items': [{'createdAt': 1314807925, 'id': 'v4a6e8003f964a520d5d41fe3'}]}, 'createdAt': 1314807925, 'name': 'Unofficial LTHForum Great Neighborhood Restaurants', 'url': '/lodasi/list/unofficial-lthforum-great-neighborhood-restaurants', 'editable': False, 'id': '4e5e6075c65bba716697957e', 'canonicalUrl': 'https://foursquare.com/lodasi/list/unofficial-lthforum-great-neighborhood-restaurants', 'collaborative': False, 'user': {'lastName': 'S', 'gender': 'male', 'photo': {'prefix': 'https://igx.4sqi.net/img/user/', 'suffix': '/234301-N5QUQ2PVJBWYNIYO.jpg'}, 'firstName': 'Louis', 'id': '234301'}}]}], 'count': 226}, 'hours': {'isOpen': False, 'timeframes': [{'days': 'Mon–Fri', 'segments': [], 'includesToday': True, 'open': [{'renderedTime': '8:00 AM–6:30 PM'}]}, {'days': 'Sat', 'segments': [], 'open': [{'renderedTime': '8:00 AM–6:00 PM'}]}, {'days': 'Sun', 'segments': [], 'open': [{'renderedTime': '8:00 AM–2:00 PM'}]}], 'richStatus': {'text': 'Closed until 8:00 AM', 'entities': []}, 'dayData': [], 'isLocalHoliday': False, 'status': 'Closed until 8:00 AM'}, 'contact': {'formattedPhone': '(312) 666-0730', 'phone': '3126660730'}, 'ratingColor': '00B551', 'dislike': False, 'popular': {'isOpen': False, 'timeframes': [{'days': 'Today', 'segments': [], 'includesToday': True, 'open': [{'renderedTime': '11:00 AM–6:00 PM'}]}, {'days': 'Thu–Fri', 'segments': [], 'open': [{'renderedTime': '11:00 AM–6:00 PM'}]}, {'days': 'Sat', 'segments': [], 'open': [{'renderedTime': '10:00 AM–6:00 PM'}]}, {'days': 'Sun', 'segments': [], 'open': [{'renderedTime': '10:00 AM–2:00 PM'}]}, {'days': 'Mon–Tue', 'segments': [], 'open': [{'renderedTime': '11:00 AM–6:00 PM'}]}], 'isLocalHoliday': False}, 'photos': {'groups': [{'name': \"Friends' check-in photos\", 'count': 0, 'type': 'checkin', 'items': []}, {'name': 'Venue photos', 'count': 77, 'type': 'venue', 'items': [{'visibility': 'public', 'suffix': '/24152642_cSUZhOqdr2uzdVgCJA00Lar6Txfs46uD__ER1cf4iCA.jpg', 'id': '523bd054498e4d01fe13fb32', 'width': 612, 'height': 612, 'prefix': 'https://igx.4sqi.net/img/general/', 'createdAt': 1379651668, 'user': {'lastName': 'Robbins', 'gender': 'male', 'photo': {'prefix': 'https://igx.4sqi.net/img/user/', 'suffix': '/24152642-MQEHC5EWH1GF5VWC.jpg'}, 'firstName': 'Blunt', 'id': '24152642'}, 'source': {'name': 'Instagram', 'url': 'http://instagram.com'}}, {'visibility': 'public', 'suffix': '/3287270_IGgE6pmhWoXlERSRjsBT9GYrrRbeK-dWtumSHCPjoJ4.jpg', 'id': '5179b166e4b0e7b2e5018183', 'width': 612, 'height': 612, 'prefix': 'https://igx.4sqi.net/img/general/', 'createdAt': 1366929766, 'user': {'lastName': 'Buer', 'gender': 'female', 'photo': {'prefix': 'https://igx.4sqi.net/img/user/', 'suffix': '/IRHNWX5F3S0E0SJC.jpg'}, 'firstName': 'Lisa', 'id': '3287270'}, 'source': {'name': 'Instagram', 'url': 'http://instagram.com'}}]}], 'count': 77, 'summary': '0 photos'}, 'attributes': {'groups': [{'name': 'Price', 'count': 1, 'summary': '$', 'type': 'price', 'items': [{'priceTier': 1, 'displayName': 'Price', 'displayValue': '$'}]}, {'name': 'Credit Cards', 'count': 7, 'summary': 'Credit Cards', 'type': 'payments', 'items': [{'displayName': 'Credit Cards', 'displayValue': 'Yes'}]}, {'name': 'Outdoor Seating', 'count': 1, 'type': 'outdoorSeating', 'items': [{'displayName': 'Outdoor Seating', 'displayValue': 'No'}]}, {'name': 'Menus', 'count': 8, 'summary': 'Lunch, Brunch & more', 'type': 'serves', 'items': [{'displayName': 'Breakfast', 'displayValue': 'Breakfast'}, {'displayName': 'Brunch', 'displayValue': 'Brunch'}, {'displayName': 'Lunch', 'displayValue': 'Lunch'}]}, {'name': 'Dining Options', 'count': 5, 'summary': 'Delivery', 'type': 'diningOptions', 'items': [{'displayName': 'Delivery', 'displayValue': 'Delivery'}]}]}, 'rating': 9.5, 'url': 'http://www.bariitaliansubs.com', 'specials': {'count': 0, 'items': []}, 'verified': False, 'timeZone': 'America/Chicago', 'createdAt': 1248755715, 'ok': False, 'allowMenuUrlEdit': True}}, 'meta': {'code': 200, 'requestId': '5bb464204434b94341103535'}}\n"
     ]
    },
    {
     "name": "stdout",
     "output_type": "stream",
     "text": [
      "{'response': {'venue': {'tips': {'groups': [{'name': 'All tips', 'count': 58, 'type': 'others', 'items': [{'text': \"Don't miss the chef demos! Every Wed. and Sat. at 10:30am...see some of the city's finest in action.\", 'likes': {'groups': [{'count': 8, 'type': 'others', 'items': [{'lastName': 'Thomas', 'gender': 'female', 'photo': {'prefix': 'https://igx.4sqi.net/img/user/', 'suffix': '/MGFGFVUN2O2RCDPR.jpg'}, 'firstName': 'Dana', 'id': '17936733'}, {'lastName': 'Brown', 'gender': 'female', 'photo': {'prefix': 'https://igx.4sqi.net/img/user/', 'suffix': '/8089780-CEBVZHYPADS4ZRKL.jpg'}, 'firstName': 'Stephanie', 'id': '8089780'}, {'lastName': '2001', 'gender': 'male', 'photo': {'prefix': 'https://igx.4sqi.net/img/user/', 'suffix': '/53979714-X3USVJYDOU42B55L'}, 'firstName': 'Gráfica', 'id': '53979714'}, {'photo': {'prefix': 'https://igx.4sqi.net/img/user/', 'suffix': '/36766780-40ZTELSKQHAM53WU.jpg'}, 'gender': 'male', 'firstName': 'N@BYL', 'id': '36766780'}]}], 'count': 8, 'summary': '8 likes'}, 'agreeCount': 8, 'id': '4c05845a70c603bbb4f79db4', 'todo': {'count': 204}, 'createdAt': 1275429978, 'disagreeCount': 0, 'type': 'user', 'canonicalUrl': 'https://foursquare.com/item/4c05845a70c603bbb4f79db4', 'lang': 'en', 'user': {'photo': {'prefix': 'https://igx.4sqi.net/img/user/', 'suffix': '/WTHMVVLB3JPWU5NO.jpg'}, 'gender': 'none', 'firstName': 'TLC', 'id': '1364255', 'type': 'page'}, 'logView': True}, {'text': \"Fruits, veggies and more, oh my! A summer (and year-round) farmers' market staple in the city. Arrive early and bring an appetite for some of the unique market finds.\", 'likes': {'groups': [{'count': 6, 'type': 'others', 'items': [{'lastName': 'C', 'gender': 'male', 'photo': {'prefix': 'https://igx.4sqi.net/img/user/', 'suffix': '/VWHCSF5GXHDQGVJ2.jpg'}, 'firstName': 'K', 'id': '65384921'}, {'lastName': 'Mitrovic', 'gender': 'female', 'photo': {'prefix': 'https://igx.4sqi.net/img/user/', 'suffix': '/GXF2H3SOCDO0XVZW.jpg'}, 'firstName': 'Neda', 'id': '17048278'}, {'lastName': 'Wolfson', 'gender': 'female', 'photo': {'prefix': 'https://igx.4sqi.net/img/user/', 'suffix': '/37741-W4JVOBNJ5V42RBN2.jpg'}, 'firstName': 'Kimberly', 'id': '37741'}, {'lastName': 'Кучинов', 'gender': 'male', 'photo': {'prefix': 'https://igx.4sqi.net/img/user/', 'suffix': '/C1YWZV34PCFLKG0Y.jpg'}, 'firstName': 'Никита', 'id': '33231660'}]}], 'count': 6, 'summary': '6 likes'}, 'agreeCount': 6, 'id': '4fcd0382e4b070d0e3dbd89e', 'todo': {'count': 27}, 'createdAt': 1338835842, 'disagreeCount': 0, 'type': 'user', 'canonicalUrl': 'https://foursquare.com/item/4fcd0382e4b070d0e3dbd89e', 'lang': 'en', 'user': {'photo': {'prefix': 'https://igx.4sqi.net/img/user/', 'suffix': '/R2RSEQ533D211UR0.jpg'}, 'gender': 'none', 'firstName': 'Time Out Chicago', 'id': '843848', 'type': 'page'}, 'logView': True}]}], 'count': 58}, 'colors': {'highlightColor': {'value': -13103088, 'photoId': '51eaa479498e8b2a51b3db13'}, 'highlightTextColor': {'value': -1, 'photoId': '51eaa479498e8b2a51b3db13'}, 'algoVersion': 3}, 'likes': {'groups': [{'count': 218, 'type': 'others', 'items': []}], 'count': 218, 'summary': '218 Likes'}, 'beenHere': {'marked': False, 'lastCheckinExpiredAt': 0, 'count': 0, 'unconfirmedCount': 0}, 'shortUrl': 'http://4sq.com/aENez7', 'location': {'labeledLatLngs': [{'label': 'display', 'lng': -87.63399124145508, 'lat': 41.915722890007764}], 'city': 'Chicago', 'lng': -87.63399124145508, 'crossStreet': 'btwn Dickens Ave & LaSalle Dr', 'postalCode': '60614', 'cc': 'US', 'formattedAddress': ['1790 N Clark St (btwn Dickens Ave & LaSalle Dr)', 'Chicago, IL 60614', 'United States'], 'state': 'IL', 'address': '1790 N Clark St', 'lat': 41.915722890007764, 'country': 'United States'}, 'name': 'Green City Market', 'pageUpdates': {'count': 0, 'items': []}, 'reasons': {'count': 1, 'items': [{'summary': 'Lots of people like this place', 'reasonName': 'rawLikesReason', 'type': 'general'}]}, 'ratingSignals': 274, 'categories': [{'pluralName': 'Farmers Markets', 'id': '4bf58dd8d48988d1fa941735', 'name': 'Farmers Market', 'primary': True, 'icon': {'prefix': 'https://ss3.4sqi.net/img/categories_v2/shops/food_farmersmarket_', 'suffix': '.png'}, 'shortName': \"Farmer's Market\"}, {'name': 'Market', 'pluralName': 'Markets', 'icon': {'prefix': 'https://ss3.4sqi.net/img/categories_v2/shops/market_', 'suffix': '.png'}, 'id': '50be8ee891d4fa8dcc7199a7', 'shortName': 'Market'}, {'name': 'Farm', 'pluralName': 'Farms', 'icon': {'prefix': 'https://ss3.4sqi.net/img/categories_v2/parks_outdoors/farm_', 'suffix': '.png'}, 'id': '4bf58dd8d48988d15b941735', 'shortName': 'Farm'}], 'id': '4a58b7caf964a520b4b71fe3', 'canonicalUrl': 'https://foursquare.com/v/green-city-market/4a58b7caf964a520b4b71fe3', 'hereNow': {'groups': [], 'count': 0, 'summary': 'Nobody here'}, 'bestPhoto': {'visibility': 'public', 'suffix': '/37926_xePDDIbaPjr1gc-1KCJIt9DuVAm0r0VOuz9guJ1pfFc.jpg', 'id': '51eaa479498e8b2a51b3db13', 'width': 612, 'height': 612, 'prefix': 'https://igx.4sqi.net/img/general/', 'createdAt': 1374332025, 'source': {'name': 'Instagram', 'url': 'http://instagram.com'}}, 'specials': {'count': 0, 'items': []}, 'inbox': {'count': 0, 'items': []}, 'stats': {'tipCount': 58}, 'listed': {'groups': [{'name': 'Lists from other people', 'count': 301, 'type': 'others', 'items': [{'photo': {'visibility': 'public', 'suffix': '/17026_S2ATjs9QzWh7E8JTJk5gV98DdPYZ2KJ7KUevbk3HMZ0.jpg', 'id': '54b2e61a498ee9800c8978b7', 'width': 1440, 'height': 1080, 'prefix': 'https://igx.4sqi.net/img/general/', 'createdAt': 1421010458, 'user': {'lastName': 'kunkle', 'gender': 'male', 'photo': {'prefix': 'https://igx.4sqi.net/img/user/', 'suffix': '/LCTE11RA3CLVQEJS.jpg'}, 'firstName': 'rob', 'id': '17026'}}, 'guide': True, 'description': \"If you're cooking up a seasonal feast or in the mood for fresh flowers and free samples, your local farmers market is the place to go. If you're lucky, it's one of the top-rated 25 in the U.S.\", 'updatedAt': 1460398647, 'type': 'others', 'followers': {'count': 176}, 'public': True, 'listItems': {'count': 25, 'items': [{'photo': {'visibility': 'public', 'suffix': '/1102928_TVo5pR41NBRZOjYSRWwsa-ALRTXUscL8n5nsYhFhWGU.jpg', 'id': '5597d566498edba3d3318519', 'width': 960, 'height': 540, 'prefix': 'https://igx.4sqi.net/img/general/', 'createdAt': 1436013926, 'user': {'lastName': 'Browne', 'gender': 'female', 'photo': {'prefix': 'https://igx.4sqi.net/img/user/', 'suffix': '/1102928-1IJGVNZR1KA50JBP.jpg'}, 'firstName': 'D', 'id': '1102928'}}, 'createdAt': 1460397938, 'id': 't540d1e3a498e708e5a64dbc4'}]}, 'createdAt': 1460396148, 'name': \"America's Freshest Farmers Markets\", 'logView': True, 'url': '/foursquare/list/americas-freshest-farmers-markets', 'editable': False, 'id': '570be074498ec74c3d501a11', 'canonicalUrl': 'https://foursquare.com/foursquare/list/americas-freshest-farmers-markets', 'collaborative': False, 'guideType': 'bestOf', 'user': {'photo': {'prefix': 'https://igx.4sqi.net/img/user/', 'suffix': '/23438729-TODURDIUDUMY4JF5.png'}, 'gender': 'none', 'firstName': 'Foursquare City Guide', 'id': '23438729', 'type': 'page'}}, {'photo': {'visibility': 'public', 'suffix': '/1VIHhqnzX2Luk4JIjwFFdWbMAVKHDg8IfkObSqs5JjE.jpg', 'id': '4f3988d2e4b02a70e37630ff', 'width': 720, 'height': 540, 'prefix': 'https://igx.4sqi.net/img/general/', 'createdAt': 1329170642, 'user': {'lastName': 'Dilokvivatchai', 'gender': 'female', 'photo': {'prefix': 'https://igx.4sqi.net/img/user/', 'suffix': '/LOZFBI15YXONOEPI.jpg'}, 'firstName': 'zumohub', 'id': '1742215'}}, 'followers': {'count': 159}, 'description': 'Unofficial listing of the LTHForum Great Neighborhood Restaurants. Updated 2018-05-21', 'updatedAt': 1526928021, 'type': 'others', 'public': True, 'listItems': {'count': 165, 'items': [{'createdAt': 1526927987, 'id': 'v4a58b7caf964a520b4b71fe3'}]}, 'createdAt': 1314807925, 'name': 'Unofficial LTHForum Great Neighborhood Restaurants', 'url': '/lodasi/list/unofficial-lthforum-great-neighborhood-restaurants', 'editable': False, 'id': '4e5e6075c65bba716697957e', 'canonicalUrl': 'https://foursquare.com/lodasi/list/unofficial-lthforum-great-neighborhood-restaurants', 'collaborative': False, 'user': {'lastName': 'S', 'gender': 'male', 'photo': {'prefix': 'https://igx.4sqi.net/img/user/', 'suffix': '/234301-N5QUQ2PVJBWYNIYO.jpg'}, 'firstName': 'Louis', 'id': '234301'}}, {'photo': {'visibility': 'public', 'suffix': '/3cozfF9PRvATjjuj6H4zyZ_3rTlvRAStv0ksHe7xBwQ.jpg', 'id': '4fe3ad04e4b0de20a318df84', 'width': 540, 'height': 720, 'prefix': 'https://igx.4sqi.net/img/general/', 'createdAt': 1340321028, 'user': {'photo': {'prefix': 'https://igx.4sqi.net/img/user/', 'suffix': '/2634223_FkYh8JDv_Hj0--LjYRvSOs1I6C7ILe7fUFsV9FBY7T3hF9eEEjwJKj6EJ1_Jg84QbfG19Btbg.jpg'}, 'gender': 'female', 'firstName': 'Deirdre', 'id': '2634223'}}, 'followers': {'count': 85}, 'description': 'Starting Summer 2012', 'updatedAt': 1522669308, 'type': 'others', 'public': True, 'listItems': {'count': 156, 'items': [{'createdAt': 1430796625, 'id': 'v4a58b7caf964a520b4b71fe3'}]}, 'createdAt': 1339786805, 'name': 'Chicago Bucketlist', 'url': '/deirdremw/list/chicago-bucketlist', 'editable': False, 'id': '4fdb8635e4b0ba0b18378321', 'canonicalUrl': 'https://foursquare.com/deirdremw/list/chicago-bucketlist', 'collaborative': True, 'user': {'photo': {'prefix': 'https://igx.4sqi.net/img/user/', 'suffix': '/2634223_FkYh8JDv_Hj0--LjYRvSOs1I6C7ILe7fUFsV9FBY7T3hF9eEEjwJKj6EJ1_Jg84QbfG19Btbg.jpg'}, 'gender': 'female', 'firstName': 'Deirdre', 'id': '2634223'}}, {'photo': {'visibility': 'public', 'suffix': '/FtyHiKTPHyq3xPZkmfpm2U11GbjVEMTD9VqTSmSZ0pA.jpg', 'id': '4fbd2b78e4b05c99c4639859', 'width': 612, 'height': 612, 'prefix': 'https://igx.4sqi.net/img/general/', 'createdAt': 1337797496, 'user': {'lastName': 'Pridgen', 'gender': 'male', 'photo': {'prefix': 'https://igx.4sqi.net/img/user/', 'suffix': '/3797977-S0E55AI3HKKMTTWJ.jpg'}, 'firstName': 'Shawn', 'id': '3797977'}}, 'followers': {'count': 2283}, 'description': 'For our 100th Foursquare list, we compiled a list of 100 picks (some instantly recognizable, some not so much) of our favorite restaurants, bars, theaters, thrift stores, and shops in the city. Enjoy!', 'updatedAt': 1438931858, 'type': 'others', 'public': True, 'listItems': {'count': 100, 'items': [{'photo': {'visibility': 'public', 'suffix': '/oBfNtccQhFiyeyiSHGG1WnYeSB2G2unwAZJ2YDWgJkM.jpg', 'id': '4fca2643e4b08f041c39ef7c', 'width': 540, 'height': 720, 'prefix': 'https://igx.4sqi.net/img/general/', 'createdAt': 1338648131, 'user': {'lastName': 'W', 'gender': 'female', 'photo': {'prefix': 'https://igx.4sqi.net/img/user/', 'suffix': '/GVCTMOIR2IC1T5DE.jpg'}, 'firstName': 'Katie', 'id': '9820013'}}, 'createdAt': 1338834565, 'id': 't4fcd0382e4b070d0e3dbd89e'}]}, 'createdAt': 1337801386, 'name': '100 Best Places in Chicago: TOC Staff Picks', 'logView': True, 'url': '/timeoutchicago/list/100-best-places-in-chicago-toc-staff-picks', 'editable': False, 'id': '4fbd3aaae4b0caa891610a81', 'canonicalUrl': 'https://foursquare.com/timeoutchicago/list/100-best-places-in-chicago-toc-staff-picks', 'collaborative': False, 'user': {'photo': {'prefix': 'https://igx.4sqi.net/img/user/', 'suffix': '/R2RSEQ533D211UR0.jpg'}, 'gender': 'none', 'firstName': 'Time Out Chicago', 'id': '843848', 'type': 'page'}}]}], 'count': 301}, 'hours': {'isOpen': False, 'timeframes': [{'days': 'Wed, Sat', 'segments': [], 'includesToday': True, 'open': [{'renderedTime': '7:00 AM–1:00 PM'}]}], 'richStatus': {'text': 'Closed until 7:00 AM', 'entities': []}, 'dayData': [], 'isLocalHoliday': False, 'status': 'Closed until 7:00 AM'}, 'contact': {'facebookName': 'Green City Market', 'facebook': '17022422590', 'instagram': 'greencitymarket', 'twitter': 'greencitymarket', 'facebookUsername': 'greencitymarket'}, 'ratingColor': '00B551', 'dislike': False, 'popular': {'isOpen': False, 'timeframes': [{'days': 'Today', 'segments': [], 'includesToday': True, 'open': [{'renderedTime': '7:00 AM–1:00 PM'}]}, {'days': 'Thu', 'segments': [], 'open': [{'renderedTime': '5:00 PM–6:00 PM'}]}, {'days': 'Fri', 'segments': [], 'open': [{'renderedTime': 'None'}]}, {'days': 'Sat', 'segments': [], 'open': [{'renderedTime': '7:00 AM–2:00 PM'}]}, {'days': 'Sun', 'segments': [], 'open': [{'renderedTime': 'None'}]}, {'days': 'Mon–Tue', 'segments': [], 'open': [{'renderedTime': 'None'}]}], 'isLocalHoliday': False}, 'photos': {'groups': [{'name': \"Friends' check-in photos\", 'count': 0, 'type': 'checkin', 'items': []}, {'name': 'Venue photos', 'count': 463, 'type': 'venue', 'items': [{'visibility': 'public', 'suffix': '/37926_xePDDIbaPjr1gc-1KCJIt9DuVAm0r0VOuz9guJ1pfFc.jpg', 'id': '51eaa479498e8b2a51b3db13', 'width': 612, 'height': 612, 'prefix': 'https://igx.4sqi.net/img/general/', 'createdAt': 1374332025, 'user': {'lastName': 'Bultman', 'gender': 'female', 'photo': {'prefix': 'https://igx.4sqi.net/img/user/', 'suffix': '/37926-GDHZQWFSW4N1EQQP.jpg'}, 'firstName': 'Megan', 'id': '37926'}, 'source': {'name': 'Instagram', 'url': 'http://instagram.com'}}, {'visibility': 'public', 'suffix': '/15028285_RHlqVQYlgO7ma_LA0Bweng0i9GhE3JhKgWMhIqbB6Hs.jpg', 'id': '522b4c48498e3f2273ceabf1', 'width': 717, 'height': 959, 'prefix': 'https://igx.4sqi.net/img/general/', 'createdAt': 1378569288, 'user': {'photo': {'prefix': 'https://igx.4sqi.net/img/user/', 'suffix': '/15028285-MNMSHELRTWP0NWYI.jpg'}, 'gender': 'female', 'firstName': 'Jamie', 'id': '15028285'}, 'source': {'name': 'Foursquare for iOS', 'url': 'https://foursquare.com/download/#/iphone'}}]}], 'count': 463, 'summary': '0 photos'}, 'attributes': {'groups': [{'name': 'Credit Cards', 'count': 7, 'summary': 'Credit Cards', 'type': 'payments', 'items': [{'displayName': 'Credit Cards', 'displayValue': 'Yes'}]}]}, 'rating': 9.5, 'url': 'http://www.chicagogreencitymarket.org', 'verified': False, 'timeZone': 'America/Chicago', 'createdAt': 1247328202, 'ok': False, 'allowMenuUrlEdit': True}}, 'meta': {'code': 200, 'requestId': '5bb46420db04f57864f0f4e0'}}\n"
     ]
    },
    {
     "name": "stdout",
     "output_type": "stream",
     "text": [
      "{'response': {'venue': {'tips': {'groups': [{'name': 'All tips', 'count': 41, 'type': 'others', 'items': [{'text': 'Amazing park, lots of cool stuff and great trails', 'likes': {'groups': [{'count': 2, 'type': 'others', 'items': [{'lastName': 'Nebesar', 'gender': 'male', 'photo': {'prefix': 'https://igx.4sqi.net/img/user/', 'suffix': '/RUL2I04VJBW2ZASS.jpg'}, 'firstName': 'Thomas', 'id': '41558828'}]}], 'count': 2, 'summary': '2 likes'}, 'agreeCount': 2, 'lastUpvoteTimestamp': 1532898724, 'id': '574afea1498e5e10fa3baddb', 'todo': {'count': 0}, 'createdAt': 1464532641, 'authorInteractionType': 'liked', 'disagreeCount': 0, 'type': 'user', 'canonicalUrl': 'https://foursquare.com/item/574afea1498e5e10fa3baddb', 'lang': 'en', 'lastVoteText': 'Upvoted Jul 29', 'user': {'lastName': 'Parker', 'gender': 'female', 'photo': {'prefix': 'https://igx.4sqi.net/img/user/', 'suffix': '/350038-3NHTGQBRT20NZDBL.jpg'}, 'firstName': 'Dana', 'id': '350038'}, 'logView': True}, {'text': \"Up for a little walk - check out our Chicago's latest new addition Maggie Daley Park, great for family and children, with tons of activities that you are able to do.\", 'likes': {'groups': [{'count': 1, 'type': 'others', 'items': [{'lastName': 'Jones', 'gender': 'male', 'photo': {'prefix': 'https://igx.4sqi.net/img/user/', 'suffix': '/5578386-AKYISDJXK0GT4YCW.jpg'}, 'firstName': 'Chris', 'id': '5578386'}]}], 'count': 1, 'summary': '1 like'}, 'agreeCount': 4, 'id': '56f264c8498ef8f07edb85e6', 'todo': {'count': 0}, 'createdAt': 1458726088, 'disagreeCount': 0, 'type': 'user', 'canonicalUrl': 'https://foursquare.com/item/56f264c8498ef8f07edb85e6', 'lang': 'en', 'user': {'lastName': 'Borgilchuluun', 'gender': 'female', 'photo': {'prefix': 'https://igx.4sqi.net/img/user/', 'suffix': '/168870044-EOG42P4W4N4GAYZQ.jpg'}, 'firstName': 'Ganula', 'id': '168870044'}, 'logView': True}]}], 'count': 41}, 'colors': {'highlightColor': {'value': -11511800, 'photoId': '554d95bc498e2231b022db11'}, 'highlightTextColor': {'value': -1, 'photoId': '554d95bc498e2231b022db11'}, 'algoVersion': 3}, 'likes': {'groups': [{'count': 528, 'type': 'others', 'items': []}], 'count': 528, 'summary': '528 Likes'}, 'beenHere': {'marked': False, 'lastCheckinExpiredAt': 0, 'count': 0, 'unconfirmedCount': 0}, 'shortUrl': 'http://4sq.com/YrX3ZX', 'location': {'labeledLatLngs': [{'label': 'display', 'lng': -87.6188186976348, 'lat': 41.882240235555706}], 'city': 'Chicago', 'lng': -87.6188186976348, 'crossStreet': 'btwn Lake Shore Dr & Columbus Dr', 'postalCode': '60601', 'cc': 'US', 'formattedAddress': ['337 E Randolph Dr (btwn Lake Shore Dr & Columbus Dr)', 'Chicago, IL 60601', 'United States'], 'state': 'IL', 'address': '337 E Randolph Dr', 'lat': 41.882240235555706, 'country': 'United States'}, 'name': 'Maggie Daley Park', 'pageUpdates': {'count': 0, 'items': []}, 'reasons': {'count': 1, 'items': [{'summary': 'Lots of people like this place', 'reasonName': 'rawLikesReason', 'type': 'general'}]}, 'ratingSignals': 593, 'categories': [{'pluralName': 'Parks', 'id': '4bf58dd8d48988d163941735', 'name': 'Park', 'primary': True, 'icon': {'prefix': 'https://ss3.4sqi.net/img/categories_v2/parks_outdoors/park_', 'suffix': '.png'}, 'shortName': 'Park'}, {'name': 'Playground', 'pluralName': 'Playgrounds', 'icon': {'prefix': 'https://ss3.4sqi.net/img/categories_v2/parks_outdoors/playground_', 'suffix': '.png'}, 'id': '4bf58dd8d48988d1e7941735', 'shortName': 'Playground'}, {'name': 'Skating Rink', 'pluralName': 'Skating Rinks', 'icon': {'prefix': 'https://ss3.4sqi.net/img/categories_v2/parks_outdoors/skatingrink_', 'suffix': '.png'}, 'id': '4bf58dd8d48988d168941735', 'shortName': 'Skating Rink'}], 'id': '50b69e52e4b023feffc3b3ae', 'canonicalUrl': 'https://foursquare.com/v/maggie-daley-park/50b69e52e4b023feffc3b3ae', 'hereNow': {'groups': [], 'count': 0, 'summary': 'Nobody here'}, 'bestPhoto': {'visibility': 'public', 'suffix': '/1019428_2NUvHHdjsEJK_PfcGfR8GmvSTfDIDa5s0X7EcoGwRhE.jpg', 'id': '554d95bc498e2231b022db11', 'width': 640, 'height': 640, 'prefix': 'https://igx.4sqi.net/img/general/', 'createdAt': 1431147964, 'source': {'name': 'Instagram', 'url': 'http://instagram.com'}}, 'specials': {'count': 0, 'items': []}, 'inbox': {'count': 0, 'items': []}, 'stats': {'tipCount': 41}, 'listed': {'groups': [{'name': 'Lists from other people', 'count': 138, 'type': 'others', 'items': [{'photo': {'visibility': 'public', 'suffix': '/14279069_PYsdctopvOwEnD2JuwnXECaCquWVQSZruBYxxXrB3Yc.png', 'id': '55a52b43498e69472369bd87', 'width': 843, 'height': 403, 'prefix': 'https://igx.4sqi.net/img/general/', 'createdAt': 1436887875, 'user': {'photo': {'prefix': 'https://igx.4sqi.net/img/user/', 'suffix': '/CH1VRN1PH0JT1RFZ.png'}, 'gender': 'none', 'firstName': 'Turkish Airlines', 'id': '14279069', 'type': 'chain'}}, 'guide': True, 'description': \"Fall is the perfect time of year to exercise outdoors, take lengthy walks, and breathe the fresh air. What better place than a park to do such things? Here's a list of the top-rated parks in Chicago.\", 'updatedAt': 1473353098, 'type': 'others', 'followers': {'count': 25}, 'public': True, 'listItems': {'count': 20, 'items': [{'photo': {'visibility': 'public', 'suffix': '/627848_K7dNguBKT5JkSrvJwzYQaJOiPtUzibkNhZ06zLldXuk.jpg', 'id': '57c31261498e4d84a84c11dc', 'width': 1920, 'height': 1440, 'prefix': 'https://igx.4sqi.net/img/general/', 'createdAt': 1472402017, 'user': {'lastName': 'Ciminero', 'gender': 'male', 'photo': {'prefix': 'https://igx.4sqi.net/img/user/', 'suffix': '/627848-1DX0J3MFJVGKBK4E.jpg'}, 'firstName': 'Michael', 'id': '627848'}}, 'createdAt': 1473352624, 'id': 't564103accd10335794559b27'}]}, 'createdAt': 1472588212, 'name': 'Chicago’s Greatest Parks', 'logView': True, 'url': '/foursquare/list/chicagos-greatest-parks', 'editable': False, 'id': '57c5e9b4498e90c94ca49833', 'canonicalUrl': 'https://foursquare.com/foursquare/list/chicagos-greatest-parks', 'collaborative': False, 'guideType': 'bestOf', 'user': {'photo': {'prefix': 'https://igx.4sqi.net/img/user/', 'suffix': '/23438729-TODURDIUDUMY4JF5.png'}, 'gender': 'none', 'firstName': 'Foursquare City Guide', 'id': '23438729', 'type': 'page'}}, {'photo': {'visibility': 'public', 'suffix': '/B5WOECGYAWFLXPOQMTW0ECBLRHWATKXDPLG3W3DBRVRUGV5I.jpg', 'id': '4e429cc715201b1cfb513add', 'width': 248, 'height': 334, 'prefix': 'https://igx.4sqi.net/img/general/', 'createdAt': 1312988359, 'user': {'photo': {'prefix': 'https://igx.4sqi.net/img/user/', 'suffix': '/ZGHRWHQBJWG3G2A5.jpg'}, 'gender': 'none', 'firstName': 'Travel Channel', 'id': '4579353', 'type': 'page'}}, 'followers': {'count': 121}, 'description': '', 'updatedAt': 1525442964, 'type': 'others', 'public': True, 'listItems': {'count': 173, 'items': [{'createdAt': 1488485783, 'id': 'v50b69e52e4b023feffc3b3ae'}]}, 'createdAt': 1344116146, 'name': 'Best Food in Chicago', 'url': '/gloriachin/list/best-food-in-chicago', 'editable': False, 'id': '501d95b2e4b0d94a00c9cb73', 'canonicalUrl': 'https://foursquare.com/gloriachin/list/best-food-in-chicago', 'collaborative': False, 'user': {'lastName': 'Chin', 'gender': 'female', 'photo': {'prefix': 'https://igx.4sqi.net/img/user/', 'suffix': '/TH3PEBRQE0H1S1KJ.jpg'}, 'firstName': 'Gloria', 'id': '21002261'}}, {'photo': {'visibility': 'public', 'suffix': '/56087041_TYSSY_AaYhdHatgS6uY-RlqJQcxy7eSzEszoOMSpIDM.jpg', 'id': '51e28d9d498e8fa686203908', 'width': 612, 'height': 612, 'prefix': 'https://igx.4sqi.net/img/general/', 'createdAt': 1373801885, 'user': {'photo': {'prefix': 'https://igx.4sqi.net/img/user/', 'suffix': '/56087041-TO5M3SCSKP450H0S.jpg'}, 'gender': 'male', 'firstName': 'BarcelonaCitizen', 'id': '56087041'}}, 'followers': {'count': 2}, 'description': '', 'updatedAt': 1523816709, 'type': 'others', 'public': True, 'listItems': {'count': 76, 'items': [{'createdAt': 1498941364, 'id': 'v50b69e52e4b023feffc3b3ae'}]}, 'createdAt': 1498401102, 'name': 'Chicago', 'url': '/0nur0zcan/list/chicago-1', 'editable': False, 'id': '594fc94e73fe25241f45158d', 'canonicalUrl': 'https://foursquare.com/0nur0zcan/list/chicago-1', 'collaborative': False, 'user': {'lastName': 'Özcan', 'gender': 'male', 'photo': {'prefix': 'https://igx.4sqi.net/img/user/', 'suffix': '/25997461_lg9kMbh8_UwmIoHzDc8TW6ma2DZbbuli81iMDTIb-LiieTXPFcJ75slF01-BBYZ5NRXa37IjZ.jpg'}, 'firstName': 'Onur', 'id': '25997461'}}, {'photo': {'visibility': 'public', 'suffix': '/70545287_Ura-dCmixpdDihlw9p8yj0XPjEgloLSI5S3lWFzGbMc.jpg', 'id': '54c9dd06498e72684e7b5526', 'width': 640, 'height': 640, 'prefix': 'https://igx.4sqi.net/img/general/', 'createdAt': 1422515462, 'user': {'lastName': 'Zamir', 'gender': 'male', 'photo': {'prefix': 'https://igx.4sqi.net/img/user/', 'suffix': '/70545287-W30HL4WWIP4RQCRX.jpg'}, 'firstName': 'Hassan', 'id': '70545287'}}, 'followers': {'count': 2}, 'description': 'Adresses à retenir à la grandeur des États-Unis', 'updatedAt': 1537750802, 'type': 'others', 'public': True, 'listItems': {'count': 200, 'items': [{'photo': {'visibility': 'public', 'suffix': '/451330_L3F4tLn09o-L--gRNY6G5c0dbwZ08DujQbms2EyA6oA.jpg', 'id': '55218b1b498eb3eb59bae83f', 'width': 960, 'height': 720, 'prefix': 'https://igx.4sqi.net/img/general/', 'createdAt': 1428261659, 'user': {'lastName': 'Nowakowski', 'gender': 'male', 'photo': {'prefix': 'https://igx.4sqi.net/img/user/', 'suffix': '/NOQHEBWZDFBPZWRD.jpg'}, 'firstName': 'Keith', 'id': '451330'}}, 'createdAt': 1428666595, 'id': 'v50b69e52e4b023feffc3b3ae'}]}, 'createdAt': 1415803910, 'name': 'Bric à brac USA', 'url': '/user/3779791/list/bric-%C3%A0-brac-usa', 'editable': False, 'id': '54637406498ec4ed79eaca17', 'canonicalUrl': 'https://foursquare.com/user/3779791/list/bric-%C3%A0-brac-usa', 'collaborative': False, 'user': {'lastName': 'L', 'gender': 'female', 'photo': {'prefix': 'https://igx.4sqi.net/img/user/', 'suffix': '/GUSN4F5S2AXEZZWO.jpg'}, 'firstName': 'Julie', 'id': '3779791'}}]}], 'count': 138}, 'hours': {'isOpen': False, 'timeframes': [{'days': 'Mon–Sun', 'segments': [], 'includesToday': True, 'open': [{'renderedTime': '6:00 AM–11:00 PM'}]}], 'richStatus': {'text': 'Closed until 6:00 AM', 'entities': []}, 'dayData': [], 'isLocalHoliday': False, 'status': 'Closed until 6:00 AM'}, 'contact': {'twitter': 'chicagoparks', 'facebookUsername': 'ChicagoParkDistrict', 'formattedPhone': '(312) 552-3000', 'phone': '3125523000', 'facebook': '49690408710', 'facebookName': 'Chicago Park District'}, 'ratingColor': '00B551', 'dislike': False, 'popular': {'isOpen': False, 'timeframes': [{'days': 'Today', 'segments': [], 'includesToday': True, 'open': [{'renderedTime': 'Noon–6:00 PM'}]}, {'days': 'Thu', 'segments': [], 'open': [{'renderedTime': 'Noon–7:00 PM'}]}, {'days': 'Fri', 'segments': [], 'open': [{'renderedTime': '11:00 AM–7:00 PM'}]}, {'days': 'Sat', 'segments': [], 'open': [{'renderedTime': '10:00 AM–8:00 PM'}]}, {'days': 'Sun', 'segments': [], 'open': [{'renderedTime': '9:00 AM–8:00 PM'}]}, {'days': 'Mon', 'segments': [], 'open': [{'renderedTime': '10:00 AM–7:00 PM'}]}, {'days': 'Tue', 'segments': [], 'open': [{'renderedTime': '11:00 AM–7:00 PM'}]}], 'isLocalHoliday': False}, 'photos': {'groups': [{'name': \"Friends' check-in photos\", 'count': 0, 'type': 'checkin', 'items': []}, {'name': 'Venue photos', 'count': 534, 'type': 'venue', 'items': [{'visibility': 'public', 'suffix': '/1019428_2NUvHHdjsEJK_PfcGfR8GmvSTfDIDa5s0X7EcoGwRhE.jpg', 'id': '554d95bc498e2231b022db11', 'width': 640, 'height': 640, 'prefix': 'https://igx.4sqi.net/img/general/', 'createdAt': 1431147964, 'user': {'lastName': 'Chaokijka', 'gender': 'female', 'photo': {'prefix': 'https://igx.4sqi.net/img/user/', 'suffix': '/1019428-QNEQSGT5TR0P32SF.jpg'}, 'firstName': 'Ammy', 'id': '1019428'}, 'source': {'name': 'Instagram', 'url': 'http://instagram.com'}}, {'visibility': 'public', 'suffix': '/6199084_JI-O_I-PyKWJq3KtysEqBh1O5oZJy42kJJjq_MX6Or4.jpg', 'id': '5516bf98498ed7516f28de6f', 'width': 640, 'height': 640, 'prefix': 'https://igx.4sqi.net/img/general/', 'createdAt': 1427554200, 'user': {'lastName': 'Akimoff', 'gender': 'male', 'photo': {'prefix': 'https://igx.4sqi.net/img/user/', 'suffix': '/CGDW3KJVRXDKDIZM.jpg'}, 'firstName': 'Tim', 'id': '6199084'}, 'source': {'name': 'Instagram', 'url': 'http://instagram.com'}}]}], 'count': 534, 'summary': '0 photos'}, 'attributes': {'groups': [{'name': 'Outdoor Seating', 'count': 1, 'summary': 'Outdoor Seating', 'type': 'outdoorSeating', 'items': [{'displayName': 'Outdoor Seating', 'displayValue': 'Yes'}]}]}, 'rating': 9.5, 'url': 'http://www.chicagoparkdistrict.com/parks/maggie-daley-park/', 'verified': False, 'timeZone': 'America/Chicago', 'createdAt': 1354145362, 'ok': False, 'allowMenuUrlEdit': True}}, 'meta': {'code': 200, 'requestId': '5bb464206a60714459c5b5bb'}}\n"
     ]
    },
    {
     "name": "stdout",
     "output_type": "stream",
     "text": [
      "{'response': {'venue': {'tips': {'groups': [{'name': 'All tips', 'count': 102, 'type': 'others', 'items': [{'text': 'Check out the free Monday evening shows.', 'likes': {'groups': [{'count': 17, 'type': 'others', 'items': []}], 'count': 17, 'summary': '17 likes'}, 'agreeCount': 2, 'id': '4c0d3b2263c3ef3b39faa693', 'todo': {'count': 1}, 'createdAt': 1275935522, 'disagreeCount': 0, 'type': 'user', 'canonicalUrl': 'https://foursquare.com/item/4c0d3b2263c3ef3b39faa693', 'lang': 'en', 'user': {'lastName': 'D', 'gender': 'male', 'photo': {'prefix': 'https://igx.4sqi.net/img/user/', 'suffix': '/0PSBSRVIQWGGTYQN.jpg'}, 'firstName': 'Ern', 'id': '138828'}, 'logView': True}, {'text': 'Listen and watch the Chicago Symphony OrchestraRiccardo Muti makes his debut as CSO music director with a free show in the park.', 'likes': {'groups': [{'count': 11, 'type': 'others', 'items': []}], 'count': 11, 'summary': '11 likes'}, 'id': '4c9cce610df79c74cd35131a', 'todo': {'count': 30}, 'logView': True, 'createdAt': 1285344865, 'disagreeCount': 0, 'url': 'http://chicago.timeout.com/articles/museums-culture/89235/80-things-to-do-in-chicago-this-fall/2.html', 'type': 'user', 'canonicalUrl': 'https://foursquare.com/item/4c9cce610df79c74cd35131a', 'lang': 'en', 'user': {'photo': {'prefix': 'https://igx.4sqi.net/img/user/', 'suffix': '/R2RSEQ533D211UR0.jpg'}, 'gender': 'none', 'firstName': 'Time Out Chicago', 'id': '843848', 'type': 'page'}, 'agreeCount': 11}]}], 'count': 102}, 'colors': {'highlightColor': {'value': -9400288, 'photoId': '51da5a4b498e5379bd6f6db7'}, 'highlightTextColor': {'value': -16777216, 'photoId': '51da5a4b498e5379bd6f6db7'}, 'algoVersion': 3}, 'likes': {'groups': [{'count': 764, 'type': 'others', 'items': []}], 'count': 764, 'summary': '764 Likes'}, 'beenHere': {'marked': False, 'lastCheckinExpiredAt': 0, 'count': 0, 'unconfirmedCount': 0}, 'shortUrl': 'http://4sq.com/4LIjoV', 'location': {'labeledLatLngs': [{'label': 'display', 'lng': -87.62178182601929, 'lat': 41.882614176795556}], 'city': 'Chicago', 'lng': -87.62178182601929, 'crossStreet': 'btwn Columbus Dr & Michigan Ave', 'postalCode': '60602', 'cc': 'US', 'formattedAddress': ['201 E Randolph St (btwn Columbus Dr & Michigan Ave)', 'Chicago, IL 60602', 'United States'], 'state': 'IL', 'address': '201 E Randolph St', 'lat': 41.882614176795556, 'country': 'United States'}, 'parent': {'name': 'Millennium Park', 'location': {'city': 'Chicago', 'lng': -87.62323915831546, 'crossStreet': 'btwn Columbus Dr & Michigan Ave', 'neighborhood': 'The Loop', 'postalCode': '60601', 'cc': 'US', 'formattedAddress': ['201 E Randolph St (btwn Columbus Dr & Michigan Ave)', 'Chicago, IL 60601', 'United States'], 'state': 'IL', 'address': '201 E Randolph St', 'lat': 41.8826616030636, 'country': 'United States'}, 'id': '42b75880f964a52090251fe3', 'categories': [{'pluralName': 'Parks', 'id': '4bf58dd8d48988d163941735', 'name': 'Park', 'primary': True, 'icon': {'prefix': 'https://ss3.4sqi.net/img/categories_v2/parks_outdoors/park_', 'suffix': '.png'}, 'shortName': 'Park'}]}, 'name': 'Jay Pritzker Pavilion', 'pageUpdates': {'count': 0, 'items': []}, 'reasons': {'count': 1, 'items': [{'summary': 'Lots of people like this place', 'reasonName': 'rawLikesReason', 'type': 'general'}]}, 'ratingSignals': 876, 'categories': [{'pluralName': 'Amphitheaters', 'id': '56aa371be4b08b9a8d5734db', 'name': 'Amphitheater', 'primary': True, 'icon': {'prefix': 'https://ss3.4sqi.net/img/categories_v2/arts_entertainment/default_', 'suffix': '.png'}, 'shortName': 'Amphitheater'}, {'name': 'Music Venue', 'pluralName': 'Music Venues', 'icon': {'prefix': 'https://ss3.4sqi.net/img/categories_v2/arts_entertainment/musicvenue_', 'suffix': '.png'}, 'id': '4bf58dd8d48988d1e5931735', 'shortName': 'Music Venue'}], 'id': '4a461376f964a52085a81fe3', 'canonicalUrl': 'https://foursquare.com/v/jay-pritzker-pavilion/4a461376f964a52085a81fe3', 'hereNow': {'groups': [], 'count': 0, 'summary': 'Nobody here'}, 'bestPhoto': {'visibility': 'public', 'suffix': '/39126759__2iYyxMEcqBYehj6evh9_lZY3SWJ91Q0iru7LIAUKaY.jpg', 'id': '51da5a4b498e5379bd6f6db7', 'width': 960, 'height': 720, 'prefix': 'https://igx.4sqi.net/img/general/', 'createdAt': 1373264459, 'source': {'name': 'Foursquare for iOS', 'url': 'https://foursquare.com/download/#/iphone'}}, 'specials': {'count': 0, 'items': []}, 'inbox': {'count': 0, 'items': []}, 'stats': {'tipCount': 102}, 'listed': {'groups': [{'name': 'Lists from other people', 'count': 325, 'type': 'others', 'items': [{'photo': {'visibility': 'public', 'suffix': '/175930_gO91HwwcCJgv2U7NfmaTgcLDv-8KrKYZ-wXST8yJaV0.jpg', 'id': '57e97492498e93c754a77e23', 'width': 1920, 'height': 1440, 'prefix': 'https://igx.4sqi.net/img/general/', 'createdAt': 1474917522, 'user': {'lastName': 'S', 'gender': 'male', 'photo': {'prefix': 'https://igx.4sqi.net/img/user/', 'suffix': '/175930_QWU0QLpQ_pt6Es6J1SgqZQIHJHfyV2sB-mf603F6Zegp4gZfocvfyFIQjXgirEprmOc_nggvf.jpg'}, 'firstName': 'Al', 'id': '175930'}}, 'followers': {'count': 149}, 'description': 'Pack a basket and grab a bottle of wine. Here are the best places in every state to settle in on a blanket for a meal al fresco.', 'updatedAt': 1491948194, 'type': 'others', 'public': True, 'listItems': {'count': 51, 'items': [{'photo': {'visibility': 'public', 'suffix': '/39126759__2iYyxMEcqBYehj6evh9_lZY3SWJ91Q0iru7LIAUKaY.jpg', 'id': '51da5a4b498e5379bd6f6db7', 'width': 960, 'height': 720, 'prefix': 'https://igx.4sqi.net/img/general/', 'createdAt': 1373264459, 'user': {'lastName': 'Twu', 'gender': 'female', 'photo': {'prefix': 'https://igx.4sqi.net/img/user/', 'suffix': '/3ADCI5K0JV5HYHKA.jpg'}, 'firstName': 'Lisa', 'id': '39126759'}}, 'createdAt': 1491943965, 'id': 't5618787c498e1a3e7377216a'}]}, 'createdAt': 1491942940, 'name': 'Perfect Places to Picnic', 'logView': True, 'url': '/foursquare/list/perfect-places-to-picnic', 'editable': False, 'id': '58ed3e1c5d0fea76e1133e34', 'canonicalUrl': 'https://foursquare.com/foursquare/list/perfect-places-to-picnic', 'collaborative': False, 'user': {'photo': {'prefix': 'https://igx.4sqi.net/img/user/', 'suffix': '/23438729-TODURDIUDUMY4JF5.png'}, 'gender': 'none', 'firstName': 'Foursquare City Guide', 'id': '23438729', 'type': 'page'}}, {'photo': {'visibility': 'public', 'suffix': '/3463034_V7NLKCFeIRZeDz0fmET0lqpj5DAsV3lN2a-Ji_qICmU.jpg', 'id': '55d0f970498e45c5a9143d9d', 'width': 1440, 'height': 1440, 'prefix': 'https://igx.4sqi.net/img/general/', 'createdAt': 1439758704, 'user': {'lastName': 'Sibley', 'gender': 'female', 'photo': {'prefix': 'https://igx.4sqi.net/img/user/', 'suffix': '/3463034-SXU1NWSPUYJQYSSK.jpg'}, 'firstName': 'Kim', 'id': '3463034'}}, 'guide': True, 'description': 'It may not have high costs like London, New York City, or Tokyo, but Chicago is still a big city. Take advantage of street festivals, improv shows, and these other outstanding free activities.', 'updatedAt': 1440427718, 'type': 'others', 'followers': {'count': 59}, 'public': True, 'listItems': {'count': 20, 'items': [{'photo': {'visibility': 'public', 'suffix': '/1345234_nrO13xk7fCIVi_mlJegaY_hDsPmbqr50uKjCtfYBPtk.jpg', 'id': '55d926c6498e09752ea07ada', 'width': 625, 'height': 625, 'prefix': 'https://igx.4sqi.net/img/general/', 'createdAt': 1440294598, 'user': {'lastName': 'Barton', 'gender': 'male', 'photo': {'prefix': 'https://igx.4sqi.net/img/user/', 'suffix': '/OHSIJMMSIWZM2OZB.jpg'}, 'firstName': 'Brandon', 'id': '1345234'}}, 'createdAt': 1440179113, 'id': 't55d763ab498e1230b6677487'}]}, 'readMoreUrl': 'http://www.fodors.com/world/north-america/usa/illinois/chicago/experiences/news/photos/top-20-free-things-to-do-in-chicago', 'createdAt': 1440178762, 'name': 'Top 20 Free Things to Do in Chicago', 'logView': True, 'url': '/p/fodors-travel/123865499/list/top-20-free-things-to-do-in-chicago', 'editable': False, 'id': '55d7624a498ed43b3cef6b2c', 'canonicalUrl': 'https://foursquare.com/p/fodors-travel/123865499/list/top-20-free-things-to-do-in-chicago', 'collaborative': False, 'guideType': 'bestOf', 'user': {'photo': {'prefix': 'https://igx.4sqi.net/img/user/', 'suffix': '/123865499-XQ3YRK2IOX3CWVSF'}, 'gender': 'none', 'firstName': \"Fodor's Travel\", 'id': '123865499', 'type': 'page'}}, {'photo': {'visibility': 'public', 'suffix': '/1VZrm24axgJxG4q55u6VhhRDdtVhsKt2SR6c4SDvjbM.jpg', 'id': '4f381f8ce4b099ca95238ebf', 'width': 640, 'height': 480, 'prefix': 'https://igx.4sqi.net/img/general/', 'createdAt': 1329078156, 'user': {'photo': {'prefix': 'https://igx.4sqi.net/img/user/', 'suffix': '/UMKQ0LTUEAPPNWH5.jpg'}, 'gender': 'none', 'firstName': 'Adrienne', 'id': '20103654'}}, 'followers': {'count': 57}, 'description': '', 'updatedAt': 1519585151, 'type': 'others', 'public': True, 'listItems': {'count': 92, 'items': [{'photo': {'visibility': 'public', 'suffix': '/10891783_znlbmesJ_kh1ff3lNi9XvaIfl-ZrhgURHhD5ePj3Eew.jpg', 'id': '5099601ce4b0a93ce334ead6', 'width': 720, 'height': 540, 'prefix': 'https://igx.4sqi.net/img/general/', 'createdAt': 1352228892, 'user': {'lastName': 'Marsh', 'gender': 'male', 'photo': {'prefix': 'https://igx.4sqi.net/img/user/', 'suffix': '/10891783_9O4AUAaW_QrBgsvmqj8mhObariRuRfM82XAjvxw2aAUcYJa9MU0_K-Yx1WCEkmDl38WAkEYlF.jpg'}, 'firstName': 'Caleb', 'id': '10891783'}}, 'createdAt': 1329406324, 'id': 'v4a461376f964a52085a81fe3'}]}, 'createdAt': 1329401122, 'name': 'Traveling Chicago', 'url': '/mauricio2099/list/traveling-chicago', 'editable': False, 'id': '4f3d0d22e4b0e60290deea61', 'canonicalUrl': 'https://foursquare.com/mauricio2099/list/traveling-chicago', 'collaborative': False, 'user': {'lastName': 'De la Torre', 'gender': 'male', 'photo': {'prefix': 'https://igx.4sqi.net/img/user/', 'suffix': '/4298308-VTEUEFHQD3AQKBCK.jpg'}, 'firstName': 'Mauricio', 'id': '4298308'}}, {'followers': {'count': 166}, 'description': 'My favorite restaurants, venues, bars, clubs, museums, parks, etc in CHITOWN!', 'updatedAt': 1438931857, 'type': 'others', 'public': True, 'listItems': {'count': 200, 'items': [{'createdAt': 1329459470, 'id': 'v4a461376f964a52085a81fe3'}]}, 'createdAt': 1329456390, 'name': 'Chicago 101', 'url': '/njm123niu/list/chicago-101', 'editable': False, 'id': '4f3de506e4b0eebf12a6ec57', 'canonicalUrl': 'https://foursquare.com/njm123niu/list/chicago-101', 'collaborative': False, 'user': {'lastName': 'Mahoney', 'gender': 'male', 'photo': {'prefix': 'https://igx.4sqi.net/img/user/', 'suffix': '/NEIPBQNWSCVI53RR.jpg'}, 'firstName': 'Neal', 'id': '4254096'}}]}], 'count': 325}, 'hours': {'isOpen': False, 'timeframes': [{'days': 'Mon–Sun', 'segments': [], 'includesToday': True, 'open': [{'renderedTime': '6:00 AM–11:00 PM'}]}], 'richStatus': {'text': 'Closed until 6:00 AM', 'entities': []}, 'dayData': [], 'isLocalHoliday': False, 'status': 'Closed until 6:00 AM'}, 'contact': {'facebook': '107993661288', 'twitter': 'millennium_park', 'facebookName': 'Millennium Park'}, 'ratingColor': '00B551', 'dislike': False, 'popular': {'isOpen': False, 'timeframes': [{'days': 'Today', 'segments': [], 'includesToday': True, 'open': [{'renderedTime': '5:00 PM–9:00 PM'}]}, {'days': 'Thu', 'segments': [], 'open': [{'renderedTime': '5:00 PM–9:00 PM'}]}, {'days': 'Fri', 'segments': [], 'open': [{'renderedTime': 'Noon–1:00 PM'}, {'renderedTime': '5:00 PM–9:00 PM'}]}, {'days': 'Sat', 'segments': [], 'open': [{'renderedTime': '1:00 PM–10:00 PM'}]}, {'days': 'Sun', 'segments': [], 'open': [{'renderedTime': '3:00 PM–9:00 PM'}]}, {'days': 'Mon–Tue', 'segments': [], 'open': [{'renderedTime': '5:00 PM–9:00 PM'}]}], 'isLocalHoliday': False}, 'photos': {'groups': [{'name': \"Friends' check-in photos\", 'count': 0, 'type': 'checkin', 'items': []}, {'name': 'Venue photos', 'count': 2746, 'type': 'venue', 'items': [{'visibility': 'public', 'suffix': '/39126759__2iYyxMEcqBYehj6evh9_lZY3SWJ91Q0iru7LIAUKaY.jpg', 'id': '51da5a4b498e5379bd6f6db7', 'width': 960, 'height': 720, 'prefix': 'https://igx.4sqi.net/img/general/', 'createdAt': 1373264459, 'user': {'lastName': 'Twu', 'gender': 'female', 'photo': {'prefix': 'https://igx.4sqi.net/img/user/', 'suffix': '/3ADCI5K0JV5HYHKA.jpg'}, 'firstName': 'Lisa', 'id': '39126759'}, 'source': {'name': 'Foursquare for iOS', 'url': 'https://foursquare.com/download/#/iphone'}}, {'visibility': 'public', 'suffix': '/EXzo0s7z2fceG8TOc-A8MSzXPhisO6Q4KCf5JAm_thk.jpg', 'id': '501b2a27e4b03e6bfb822cf3', 'width': 720, 'height': 537, 'prefix': 'https://igx.4sqi.net/img/general/', 'createdAt': 1343957543, 'user': {'lastName': 'Oakes', 'gender': 'male', 'photo': {'prefix': 'https://igx.4sqi.net/img/user/', 'suffix': '/D2WDE3IC3DSDFT13.jpg'}, 'firstName': 'Bob', 'id': '3173783'}, 'source': {'name': 'Foursquare for iOS', 'url': 'https://foursquare.com/download/#/iphone'}}]}], 'count': 2746, 'summary': '0 photos'}, 'attributes': {'groups': [{'name': 'Credit Cards', 'count': 7, 'summary': 'Credit Cards', 'type': 'payments', 'items': [{'displayName': 'Credit Cards', 'displayValue': 'Yes'}]}]}, 'rating': 9.5, 'url': 'http://www.jaypritzkerpavilion.com', 'hierarchy': [{'name': 'Millennium Park', 'lang': 'en', 'id': '42b75880f964a52090251fe3', 'canonicalUrl': 'https://foursquare.com/v/millennium-park/42b75880f964a52090251fe3'}], 'verified': False, 'timeZone': 'America/Chicago', 'createdAt': 1246106486, 'ok': False, 'allowMenuUrlEdit': True}}, 'meta': {'code': 200, 'requestId': '5bb46421f594df20777470de'}}\n"
     ]
    },
    {
     "name": "stdout",
     "output_type": "stream",
     "text": [
      "{'response': {'venue': {'tips': {'groups': [{'name': 'All tips', 'count': 65, 'type': 'others', 'items': [{'text': \"Parents PLEASE CONTROL YOUR LITTLE BRATS! IF YOU DON'T I WILL!\", 'likes': {'groups': [{'count': 12, 'type': 'others', 'items': []}], 'count': 12, 'summary': '12 likes'}, 'agreeCount': 12, 'id': '4faaeadbe4b02cf91fb56b56', 'todo': {'count': 0}, 'createdAt': 1336601307, 'disagreeCount': 0, 'type': 'user', 'canonicalUrl': 'https://foursquare.com/item/4faaeadbe4b02cf91fb56b56', 'lang': 'en', 'user': {'lastName': 'Marquez', 'gender': 'male', 'photo': {'prefix': 'https://igx.4sqi.net/img/user/', 'suffix': '/EEIY3Y1O5VTLXBGD.jpg'}, 'firstName': 'Greg', 'id': '21359'}, 'logView': True}, {'text': 'Ken and Luke are great!', 'likes': {'groups': [{'count': 4, 'type': 'others', 'items': [{'lastName': 'Ocho', 'gender': 'female', 'photo': {'prefix': 'https://igx.4sqi.net/img/user/', 'suffix': '/4RPGU2HWKWHHXP4N.jpg'}, 'firstName': 'M', 'id': '8333854'}, {'lastName': 'McCaskey', 'gender': 'male', 'photo': {'prefix': 'https://igx.4sqi.net/img/user/', 'suffix': '/ER2ZCOQ0ODSE0MO2.jpg'}, 'firstName': 'Tom', 'id': '55233435'}, {'lastName': 'Pazol', 'gender': 'male', 'photo': {'prefix': 'https://igx.4sqi.net/img/user/', 'suffix': '/148604-ZUGCGNQLZPMP52LN.jpg'}, 'firstName': 'Nuri', 'id': '148604'}, {'lastName': 'M', 'gender': 'male', 'photo': {'prefix': 'https://igx.4sqi.net/img/user/', 'suffix': '/31047934-CDJ3ND1BHLLH0IDW.jpg'}, 'firstName': 'Tom', 'id': '31047934'}]}], 'count': 4, 'summary': '4 likes'}, 'agreeCount': 4, 'id': '4ec807e593ad41338d828a43', 'todo': {'count': 0}, 'createdAt': 1321732069, 'disagreeCount': 0, 'type': 'user', 'canonicalUrl': 'https://foursquare.com/item/4ec807e593ad41338d828a43', 'lang': 'en', 'user': {'lastName': 'Didriksen', 'gender': 'male', 'photo': {'prefix': 'https://igx.4sqi.net/img/user/', 'suffix': '/0JNRUAAWGVRY1Y0L.jpg'}, 'firstName': 'Erik', 'id': '2031769'}, 'logView': True}]}], 'count': 65}, 'colors': {'highlightColor': {'value': -13103072, 'photoId': '52365fe511d2b2640eade322'}, 'highlightTextColor': {'value': -1, 'photoId': '52365fe511d2b2640eade322'}, 'algoVersion': 3}, 'likes': {'groups': [{'count': 230, 'type': 'others', 'items': []}], 'count': 230, 'summary': '230 Likes'}, 'beenHere': {'marked': False, 'lastCheckinExpiredAt': 0, 'count': 0, 'unconfirmedCount': 0}, 'shortUrl': 'http://4sq.com/jhdPy9', 'location': {'labeledLatLngs': [{'label': 'display', 'lng': -87.66047127449951, 'lat': 41.99267743652594}], 'city': 'Chicago', 'lng': -87.66047127449951, 'crossStreet': 'at W Glenlake Ave', 'postalCode': '60660', 'cc': 'US', 'formattedAddress': ['6056 N Broadway St (at W Glenlake Ave)', 'Chicago, IL 60660', 'United States'], 'state': 'IL', 'address': '6056 N Broadway St', 'lat': 41.99267743652594, 'country': 'United States'}, 'name': 'Lickity Split', 'pageUpdates': {'count': 1, 'items': []}, 'reasons': {'count': 1, 'items': [{'summary': 'Lots of people like this place', 'reasonName': 'rawLikesReason', 'type': 'general'}]}, 'ratingSignals': 288, 'categories': [{'pluralName': 'Ice Cream Shops', 'id': '4bf58dd8d48988d1c9941735', 'name': 'Ice Cream Shop', 'primary': True, 'icon': {'prefix': 'https://ss3.4sqi.net/img/categories_v2/food/icecream_', 'suffix': '.png'}, 'shortName': 'Ice Cream'}, {'name': 'Candy Store', 'pluralName': 'Candy Stores', 'icon': {'prefix': 'https://ss3.4sqi.net/img/categories_v2/shops/candystore_', 'suffix': '.png'}, 'id': '4bf58dd8d48988d117951735', 'shortName': 'Candy Store'}], 'menu': {'anchor': 'View Menu', 'label': 'Menu', 'url': 'https://foursquare.com/v/lickity-split/4dfc110145ddebdfeaa9754e/menu', 'mobileUrl': 'https://foursquare.com/v/4dfc110145ddebdfeaa9754e/device_menu', 'type': 'Menu'}, 'id': '4dfc110145ddebdfeaa9754e', 'canonicalUrl': 'https://foursquare.com/v/lickity-split/4dfc110145ddebdfeaa9754e', 'hereNow': {'groups': [], 'count': 0, 'summary': 'Nobody here'}, 'hasMenu': True, 'bestPhoto': {'visibility': 'public', 'suffix': '/268849_flV_HrhTIm_GOuAiamQHFPD5juT1ypSN3B9F0oK4PtU.jpg', 'id': '52365fe511d2b2640eade322', 'width': 612, 'height': 612, 'prefix': 'https://igx.4sqi.net/img/general/', 'createdAt': 1379295205, 'source': {'name': 'Instagram', 'url': 'http://instagram.com'}}, 'specials': {'count': 0, 'items': []}, 'inbox': {'count': 0, 'items': []}, 'stats': {'tipCount': 65}, 'listed': {'groups': [{'name': 'Lists from other people', 'count': 246, 'type': 'others', 'items': [{'photo': {'visibility': 'public', 'suffix': '/53501364_v4HzA-BvKgL6BBNOCRYcvBGVRJN7MfeWSNqUXfcuqbk.jpg', 'id': '5372225d498e4ae2edfe1c6f', 'width': 910, 'height': 768, 'prefix': 'https://igx.4sqi.net/img/general/', 'createdAt': 1399988829, 'user': {'photo': {'prefix': 'https://igx.4sqi.net/img/user/', 'suffix': '/53501364-13F4G3MPYH133USO.jpg'}, 'venue': {'id': '4aea038df964a5207fb821e3'}, 'firstName': 'Woodside Farm Creamery', 'id': '53501364', 'type': 'venuePage', 'gender': 'none'}}, 'guide': True, 'description': \"Whether you're looking for a nostalgic ice cream parlor or a café with funky flavors, this collection includes them all. These are the top-rated ice cream shop in every state, D.C. included.\", 'updatedAt': 1533057332, 'type': 'others', 'followers': {'count': 736}, 'public': True, 'listItems': {'count': 52, 'items': [{'photo': {'visibility': 'public', 'suffix': '/188080__9TYDQHzeh5spl2L7CG_MK3jkFuX6oCpf7kmIg5KvXc.jpg', 'id': '5084abcce4b0354c5ad468ff', 'width': 540, 'height': 720, 'prefix': 'https://igx.4sqi.net/img/general/', 'createdAt': 1350872012, 'user': {'lastName': 'Justice', 'gender': 'male', 'photo': {'prefix': 'https://igx.4sqi.net/img/user/', 'suffix': '/O1GVSRPO3HMEEPQS.jpg'}, 'firstName': 'Ryan', 'id': '188080'}}, 'createdAt': 1499694835, 'id': 't54e51ace498e7ec45d985142'}]}, 'createdAt': 1431121685, 'name': \"America's Best Ice Cream Shops\", 'logView': True, 'url': '/foursquare/list/americas-best-ice-cream-shops', 'editable': False, 'id': '554d2f15498efb62eeb678eb', 'canonicalUrl': 'https://foursquare.com/foursquare/list/americas-best-ice-cream-shops', 'collaborative': False, 'guideType': 'bestOf', 'user': {'photo': {'prefix': 'https://igx.4sqi.net/img/user/', 'suffix': '/23438729-TODURDIUDUMY4JF5.png'}, 'gender': 'none', 'firstName': 'Foursquare City Guide', 'id': '23438729', 'type': 'page'}}, {'followers': {'count': 66}, 'description': '', 'updatedAt': 1429592874, 'type': 'others', 'public': True, 'listItems': {'count': 94, 'items': [{'createdAt': 1354445481, 'id': 'v4dfc110145ddebdfeaa9754e'}]}, 'createdAt': 1342730527, 'name': 'Ice cream', 'url': '/miahdarknlovely/list/ice-cream', 'editable': False, 'id': '5008711fe4b0dea107c38a28', 'canonicalUrl': 'https://foursquare.com/miahdarknlovely/list/ice-cream', 'collaborative': False, 'user': {'lastName': 'Amaning', 'gender': 'female', 'photo': {'prefix': 'https://igx.4sqi.net/img/user/', 'suffix': '/13989321-MLIDKH3M3QQNHXVR.jpg'}, 'firstName': 'Akos', 'id': '13989321'}}, {'followers': {'count': 78}, 'description': 'BellyFlop Locations', 'updatedAt': 1445981817, 'type': 'others', 'public': True, 'listItems': {'count': 155, 'items': [{'createdAt': 1319750546, 'id': 'v4dfc110145ddebdfeaa9754e'}]}, 'createdAt': 1317764642, 'name': 'Locations', 'url': '/user/14154795/list/locations', 'editable': False, 'id': '4e8b7e229adf4a7ef2c6061d', 'canonicalUrl': 'https://foursquare.com/user/14154795/list/locations', 'collaborative': False, 'user': {'photo': {'prefix': 'https://igx.4sqi.net/img/user/', 'suffix': '/AHXLXAVQ02OTCGD5.png'}, 'gender': 'male', 'firstName': 'BellyFlop', 'id': '14154795'}}, {'photo': {'visibility': 'public', 'suffix': '/3OV5MPLVWH2DKQROCV0DFG0KEG015XAVHXZ5NNPPAVGCAD1A.png', 'id': '4edf793de5e8c91177e478f9', 'width': 300, 'height': 300, 'prefix': 'https://igx.4sqi.net/img/general/', 'createdAt': 1323268413, 'user': {'photo': {'prefix': 'https://igx.4sqi.net/img/user/', 'suffix': '/BWUTHSW4FMDI1O04.png'}, 'gender': 'none', 'firstName': '4sq Addict', 'id': '12720253', 'type': 'chain'}}, 'followers': {'count': 143}, 'description': 'A collection from the best of 2012 Time Out Chicago', 'updatedAt': 1361485780, 'type': 'others', 'public': True, 'listItems': {'count': 69, 'items': [{'photo': {'visibility': 'public', 'suffix': '/Q8q2tQazu7I-dD8Gz4m2Q64Bhy31cWM-qbrelJVQwsI.jpg', 'id': '4fa488bce4b0d607b86a3216', 'width': 537, 'height': 720, 'prefix': 'https://igx.4sqi.net/img/general/', 'createdAt': 1336182972, 'user': {'lastName': 'Daley', 'gender': 'male', 'photo': {'prefix': 'https://igx.4sqi.net/img/user/', 'suffix': '/WUHTTBJ2FXP4DD0B.jpg'}, 'firstName': 'Bill', 'id': '104922'}}, 'createdAt': 1361484744, 'id': 'v4dfc110145ddebdfeaa9754e'}]}, 'createdAt': 1361471646, 'name': 'Best of Time Out Chicago 2012', 'url': '/mysodotcom/list/best-of-time-out-chicago-2012', 'editable': False, 'id': '5126689ee4b0c1048aebcd5f', 'canonicalUrl': 'https://foursquare.com/mysodotcom/list/best-of-time-out-chicago-2012', 'collaborative': False, 'user': {'lastName': '@MySOdotCom', 'gender': 'male', 'photo': {'prefix': 'https://igx.4sqi.net/img/user/', 'suffix': '/FHAMXN4FRZ2PMHHS.jpg'}, 'firstName': 'Kevin Green', 'id': '813259'}}]}], 'count': 246}, 'hours': {'isOpen': False, 'timeframes': [{'days': 'Mon–Sun', 'segments': [], 'includesToday': True, 'open': [{'renderedTime': 'Noon–10:00 PM'}]}], 'richStatus': {'text': 'Closed until Noon', 'entities': []}, 'dayData': [], 'isLocalHoliday': False, 'status': 'Closed until Noon'}, 'contact': {'formattedPhone': '(773) 274-0830', 'phone': '7732740830'}, 'ratingColor': '00B551', 'dislike': False, 'popular': {'isOpen': False, 'timeframes': [{'days': 'Today', 'segments': [], 'includesToday': True, 'open': [{'renderedTime': '7:00 PM–10:00 PM'}]}, {'days': 'Thu', 'segments': [], 'open': [{'renderedTime': '6:00 PM–10:00 PM'}]}, {'days': 'Fri', 'segments': [], 'open': [{'renderedTime': '4:00 PM–11:00 PM'}]}, {'days': 'Sat–Sun', 'segments': [], 'open': [{'renderedTime': '1:00 PM–10:00 PM'}]}, {'days': 'Mon', 'segments': [], 'open': [{'renderedTime': '5:00 PM–10:00 PM'}]}, {'days': 'Tue', 'segments': [], 'open': [{'renderedTime': '6:00 PM–10:00 PM'}]}], 'isLocalHoliday': False}, 'photos': {'groups': [{'name': \"Friends' check-in photos\", 'count': 0, 'type': 'checkin', 'items': []}, {'name': 'Venue photos', 'count': 376, 'type': 'venue', 'items': [{'visibility': 'public', 'suffix': '/268849_flV_HrhTIm_GOuAiamQHFPD5juT1ypSN3B9F0oK4PtU.jpg', 'id': '52365fe511d2b2640eade322', 'width': 612, 'height': 612, 'prefix': 'https://igx.4sqi.net/img/general/', 'createdAt': 1379295205, 'user': {'lastName': 'Preston', 'gender': 'male', 'photo': {'prefix': 'https://igx.4sqi.net/img/user/', 'suffix': '/268849-PGDJUDV3X2VG425R'}, 'firstName': 'Andrew', 'id': '268849'}, 'source': {'name': 'Instagram', 'url': 'http://instagram.com'}}, {'visibility': 'public', 'suffix': '/Mpse8bTdQBJZJhXCC6andW4JTEHy7BH1JrFv1aKniEE.jpg', 'id': '4f8a3556e4b0c71a728427b2', 'width': 537, 'height': 720, 'prefix': 'https://igx.4sqi.net/img/general/', 'createdAt': 1334457686, 'user': {'lastName': 'Daley', 'gender': 'male', 'photo': {'prefix': 'https://igx.4sqi.net/img/user/', 'suffix': '/WUHTTBJ2FXP4DD0B.jpg'}, 'firstName': 'Bill', 'id': '104922'}, 'source': {'name': 'Foursquare for iOS', 'url': 'https://foursquare.com/download/#/iphone'}}]}], 'count': 376, 'summary': '0 photos'}, 'attributes': {'groups': [{'name': 'Price', 'count': 1, 'summary': '$', 'type': 'price', 'items': [{'priceTier': 1, 'displayName': 'Price', 'displayValue': '$'}]}, {'name': 'Credit Cards', 'count': 7, 'summary': 'Credit Cards', 'type': 'payments', 'items': [{'displayName': 'Credit Cards', 'displayValue': 'Yes (incl. American Express)'}]}, {'name': 'Outdoor Seating', 'count': 1, 'summary': 'Outdoor Seating', 'type': 'outdoorSeating', 'items': [{'displayName': 'Outdoor Seating', 'displayValue': 'Yes'}]}, {'name': 'Music', 'count': 3, 'summary': 'Live Music', 'type': 'music', 'items': [{'displayName': 'Live Music', 'displayValue': 'Live Music'}]}, {'name': 'Wi-Fi', 'count': 1, 'summary': 'Wi-Fi', 'type': 'wifi', 'items': [{'displayName': 'Wi-Fi', 'displayValue': 'Yes'}]}, {'name': 'Dining Options', 'count': 5, 'type': 'diningOptions', 'items': [{'displayName': 'Delivery', 'displayValue': 'No Delivery'}]}]}, 'rating': 9.5, 'url': 'http://lickitysplitchicago.com', 'price': {'tier': 1, 'message': 'Cheap', 'currency': '$'}, 'verified': False, 'timeZone': 'America/Chicago', 'createdAt': 1308365057, 'ok': False, 'allowMenuUrlEdit': True}}, 'meta': {'code': 200, 'requestId': '5bb464211ed21909809c7c45'}}\n"
     ]
    },
    {
     "name": "stdout",
     "output_type": "stream",
     "text": [
      "{'response': {'venue': {'tips': {'groups': [{'name': 'All tips', 'count': 40, 'type': 'others', 'items': [{'text': 'An independent neighborhood bookstore, Unabridged Bookstore is known for its specialization in gay and lesbian titles, but carries something for the book lover in anyone', 'likes': {'groups': [{'count': 8, 'type': 'others', 'items': [{'lastName': 'Sing', 'gender': 'none', 'photo': {'prefix': 'https://igx.4sqi.net/img/user/', 'suffix': '/126173670-ZJ4AJUFZDZC0FH01.jpg'}, 'firstName': 'Jessica', 'id': '126173670'}, {'lastName': 'L', 'gender': 'female', 'photo': {'prefix': 'https://igx.4sqi.net/img/user/', 'suffix': '/FYW3KVG42LOYQP3V.jpg'}, 'firstName': 'Linnéa', 'id': '11309257'}, {'photo': {'prefix': 'https://igx.4sqi.net/img/user/', 'suffix': '/HUQJMDBOLG24V0HF.jpg'}, 'gender': 'female', 'firstName': 'Justine', 'id': '33403266'}, {'lastName': 'O', 'gender': 'female', 'photo': {'prefix': 'https://igx.4sqi.net/img/user/', 'suffix': '/APKJM3DHOAH4ULIS.jpg'}, 'firstName': 'Sara', 'id': '647421'}]}], 'count': 8, 'summary': '8 likes'}, 'agreeCount': 9, 'id': '4eb41924823131626ea9506f', 'todo': {'count': 19}, 'createdAt': 1320425764, 'disagreeCount': 0, 'type': 'user', 'canonicalUrl': 'https://foursquare.com/item/4eb41924823131626ea9506f', 'lang': 'en', 'user': {'photo': {'prefix': 'https://igx.4sqi.net/img/user/', 'suffix': '/JEBEI3ZWJ53R2G2W.jpg'}, 'gender': 'none', 'firstName': 'Explore Chicago', 'id': '238086', 'type': 'page'}, 'logView': True}, {'text': 'Support local small businesses!', 'likes': {'groups': [{'count': 4, 'type': 'others', 'items': []}], 'count': 4, 'summary': '4 likes'}, 'agreeCount': 0, 'id': '4ba0e75570c603bb60be94b4', 'todo': {'count': 0}, 'createdAt': 1268836181, 'disagreeCount': 0, 'type': 'user', 'canonicalUrl': 'https://foursquare.com/item/4ba0e75570c603bb60be94b4', 'lang': 'en', 'user': {'lastName': 'D', 'gender': 'male', 'photo': {'prefix': 'https://igx.4sqi.net/img/user/', 'suffix': '/GNKEHZMJITTPYOEW.jpg'}, 'firstName': 'Joe', 'id': '390045'}, 'logView': True}]}], 'count': 40}, 'colors': {'highlightColor': {'value': -10987432, 'photoId': '4d81283a04552da1344a02dd'}, 'highlightTextColor': {'value': -1, 'photoId': '4d81283a04552da1344a02dd'}, 'algoVersion': 3}, 'likes': {'groups': [{'count': 136, 'type': 'others', 'items': []}], 'count': 136, 'summary': '136 Likes'}, 'beenHere': {'marked': False, 'lastCheckinExpiredAt': 0, 'count': 0, 'unconfirmedCount': 0}, 'shortUrl': 'http://4sq.com/5UEdCo', 'location': {'labeledLatLngs': [{'label': 'display', 'lng': -87.64438632972113, 'lat': 41.94158754418788}], 'city': 'Chicago', 'lng': -87.64438632972113, 'crossStreet': 'at W Melrose St', 'postalCode': '60657', 'cc': 'US', 'formattedAddress': ['3251 N Broadway St (at W Melrose St)', 'Chicago, IL 60657', 'United States'], 'state': 'IL', 'address': '3251 N Broadway St', 'lat': 41.94158754418788, 'country': 'United States'}, 'name': 'Unabridged Books', 'pageUpdates': {'count': 1, 'items': []}, 'reasons': {'count': 1, 'items': [{'summary': 'Lots of people like this place', 'reasonName': 'rawLikesReason', 'type': 'general'}]}, 'ratingSignals': 169, 'categories': [{'pluralName': 'Bookstores', 'id': '4bf58dd8d48988d114951735', 'name': 'Bookstore', 'primary': True, 'icon': {'prefix': 'https://ss3.4sqi.net/img/categories_v2/shops/bookstore_', 'suffix': '.png'}, 'shortName': 'Bookstore'}], 'inbox': {'count': 0, 'items': []}, 'id': '4a9046daf964a520ff1620e3', 'canonicalUrl': 'https://foursquare.com/v/unabridged-books/4a9046daf964a520ff1620e3', 'hereNow': {'groups': [], 'count': 0, 'summary': 'Nobody here'}, 'bestPhoto': {'visibility': 'public', 'suffix': '/FMYGEJI2L4RPTI5AORFDJMF3LOXRC4LRYAN0Y2DU2T4YDDD2.jpg', 'id': '4d81283a04552da1344a02dd', 'width': 404, 'height': 720, 'prefix': 'https://igx.4sqi.net/img/general/', 'createdAt': 1300310074, 'source': {'name': 'Foursquare for Android', 'url': 'https://foursquare.com/download/#/android'}}, 'storeId': '', 'specials': {'count': 0, 'items': []}, 'description': \"Fiercely independent bookstore in the heart of Chicago's Lake View neighborhood.\", 'stats': {'tipCount': 40}, 'listed': {'groups': [{'name': 'Lists from other people', 'count': 165, 'type': 'others', 'items': [{'photo': {'visibility': 'public', 'suffix': '/gwY0l7hI010GyBV4YomnsBOi-Y7WymfjGCBJHCQyDGs.jpg', 'id': '4fdcfd3ee4b0e07803209af6', 'width': 540, 'height': 720, 'prefix': 'https://igx.4sqi.net/img/general/', 'createdAt': 1339882814, 'user': {'photo': {'prefix': 'https://igx.4sqi.net/img/user/', 'suffix': '/KSIPBEI1XB41X0XM.jpg'}, 'gender': 'female', 'firstName': 'Karishma', 'id': '5596755'}}, 'followers': {'count': 27}, 'description': 'A guide to the places people love most, based on over 3 billion check-ins.', 'updatedAt': 1359334490, 'type': 'others', 'public': True, 'listItems': {'count': 10, 'items': [{'photo': {'visibility': 'public', 'suffix': '/FMYGEJI2L4RPTI5AORFDJMF3LOXRC4LRYAN0Y2DU2T4YDDD2.jpg', 'id': '4d81283a04552da1344a02dd', 'width': 404, 'height': 720, 'prefix': 'https://igx.4sqi.net/img/general/', 'createdAt': 1300310074, 'user': {'photo': {'prefix': 'https://igx.4sqi.net/img/user/', 'suffix': '/3PSOD1H3O4MQIXUE.jpg'}, 'gender': 'male', 'firstName': 'Benjamin ☁', 'id': '110157'}}, 'createdAt': 1359334483, 'id': 'v4a9046daf964a520ff1620e3'}]}, 'createdAt': 1359334481, 'name': \"Chicago's Best Bookstores - 2012\", 'logView': True, 'url': '/bestof4sq/list/chicagos-best-bookstores--2012', 'editable': False, 'id': '5105cc51e4b0c047eff9d59f', 'canonicalUrl': 'https://foursquare.com/bestof4sq/list/chicagos-best-bookstores--2012', 'collaborative': False, 'user': {'photo': {'prefix': 'https://igx.4sqi.net/img/user/', 'suffix': '/46452980-CVQT5PGTUAFP2HBA.png'}, 'gender': 'none', 'firstName': 'Best of Foursquare', 'id': '46452980', 'type': 'page'}}, {'photo': {'visibility': 'public', 'suffix': '/FMYGEJI2L4RPTI5AORFDJMF3LOXRC4LRYAN0Y2DU2T4YDDD2.jpg', 'id': '4d81283a04552da1344a02dd', 'width': 404, 'height': 720, 'prefix': 'https://igx.4sqi.net/img/general/', 'createdAt': 1300310074, 'user': {'photo': {'prefix': 'https://igx.4sqi.net/img/user/', 'suffix': '/3PSOD1H3O4MQIXUE.jpg'}, 'gender': 'male', 'firstName': 'Benjamin ☁', 'id': '110157'}}, 'followers': {'count': 428}, 'description': 'From kid lit to one-of-a-kind artist books to bestselling fiction, find a gift for your loved ones at these Chicago-owned bookstores.', 'updatedAt': 1340033875, 'type': 'others', 'public': True, 'listItems': {'count': 13, 'items': [{'photo': {'visibility': 'public', 'suffix': '/FMYGEJI2L4RPTI5AORFDJMF3LOXRC4LRYAN0Y2DU2T4YDDD2.jpg', 'id': '4d81283a04552da1344a02dd', 'width': 404, 'height': 720, 'prefix': 'https://igx.4sqi.net/img/general/', 'createdAt': 1300310074, 'user': {'photo': {'prefix': 'https://igx.4sqi.net/img/user/', 'suffix': '/3PSOD1H3O4MQIXUE.jpg'}, 'gender': 'male', 'firstName': 'Benjamin ☁', 'id': '110157'}}, 'createdAt': 1320425752, 'id': 't4eb41924823131626ea9506f'}]}, 'createdAt': 1320424988, 'name': \"Buy Local Guide: Chicago's Independent Bookstores\", 'logView': True, 'url': '/explorechicago/list/buy-local-guide-chicagos-independent-bookstores', 'editable': False, 'id': '4eb4161c61af0dda8fc0a599', 'canonicalUrl': 'https://foursquare.com/explorechicago/list/buy-local-guide-chicagos-independent-bookstores', 'collaborative': False, 'user': {'photo': {'prefix': 'https://igx.4sqi.net/img/user/', 'suffix': '/JEBEI3ZWJ53R2G2W.jpg'}, 'gender': 'none', 'firstName': 'Explore Chicago', 'id': '238086', 'type': 'page'}}, {'photo': {'visibility': 'public', 'suffix': '/THG03JF4JCVSLE2ZA1KAAPORBFKTFKLQZXQVP1GXDIHNVXTI.jpg', 'id': '4e3398081495fa2def55a95a', 'width': 537, 'height': 720, 'prefix': 'https://igx.4sqi.net/img/general/', 'createdAt': 1312004104, 'user': {'lastName': 'Ho', 'gender': 'male', 'photo': {'prefix': 'https://igx.4sqi.net/img/user/', 'suffix': '/UOIUPJHIJ5YA0J0G.jpg'}, 'firstName': 'Kevin', 'id': '366492'}}, 'followers': {'count': 23}, 'description': '', 'updatedAt': 1424315720, 'type': 'others', 'public': True, 'listItems': {'count': 64, 'items': [{'createdAt': 1315956854, 'id': 't4b9672a870c603bb8be393b4'}]}, 'createdAt': 1315956854, 'name': 'Chicago, IL - Gay', 'url': '/parent_kevin/list/chicago-il--gay', 'editable': False, 'id': '4e6fe876d22d8c11efcc6f21', 'canonicalUrl': 'https://foursquare.com/parent_kevin/list/chicago-il--gay', 'collaborative': False, 'user': {'lastName': 'Parent', 'gender': 'male', 'photo': {'prefix': 'https://igx.4sqi.net/img/user/', 'suffix': '/4241433-EME0UALVLYFWZLYS.jpg'}, 'firstName': 'Kevin', 'id': '4241433'}}, {'photo': {'visibility': 'public', 'suffix': '/THG03JF4JCVSLE2ZA1KAAPORBFKTFKLQZXQVP1GXDIHNVXTI.jpg', 'id': '4e3398081495fa2def55a95a', 'width': 537, 'height': 720, 'prefix': 'https://igx.4sqi.net/img/general/', 'createdAt': 1312004104, 'user': {'lastName': 'Ho', 'gender': 'male', 'photo': {'prefix': 'https://igx.4sqi.net/img/user/', 'suffix': '/UOIUPJHIJ5YA0J0G.jpg'}, 'firstName': 'Kevin', 'id': '366492'}}, 'followers': {'count': 89}, 'description': '', 'updatedAt': 1424315720, 'type': 'others', 'public': True, 'listItems': {'count': 54, 'items': [{'createdAt': 1313478803, 'id': 't4b9672a870c603bb8be393b4'}]}, 'createdAt': 1313478803, 'name': 'Gay Chicago', 'url': '/user/1351424/list/gay-chicago', 'editable': False, 'id': '4e4a189345dd81ecad88d853', 'canonicalUrl': 'https://foursquare.com/user/1351424/list/gay-chicago', 'collaborative': False, 'user': {'lastName': 'Duus', 'gender': 'male', 'photo': {'prefix': 'https://igx.4sqi.net/img/user/', 'suffix': '/2MHYFPGAVBYEE0NZ.jpg'}, 'firstName': 'Austin', 'id': '1351424'}}]}], 'count': 165}, 'hours': {'isOpen': False, 'timeframes': [{'days': 'Mon–Fri', 'segments': [], 'includesToday': True, 'open': [{'renderedTime': '10:00 AM–9:00 PM'}]}, {'days': 'Sat–Sun', 'segments': [], 'open': [{'renderedTime': '10:00 AM–7:00 PM'}]}], 'richStatus': {'text': 'Closed until 10:00 AM', 'entities': []}, 'dayData': [], 'isLocalHoliday': False, 'status': 'Closed until 10:00 AM'}, 'contact': {'formattedPhone': '(773) 883-9119', 'phone': '7738839119', 'twitter': 'unabridgedbooks'}, 'ratingColor': '00B551', 'dislike': False, 'popular': {'isOpen': False, 'timeframes': [{'days': 'Today', 'segments': [], 'includesToday': True, 'open': [{'renderedTime': '1:00 PM–8:00 PM'}]}, {'days': 'Thu', 'segments': [], 'open': [{'renderedTime': 'Noon–8:00 PM'}]}, {'days': 'Fri', 'segments': [], 'open': [{'renderedTime': '11:00 AM–8:00 PM'}]}, {'days': 'Sat–Sun', 'segments': [], 'open': [{'renderedTime': '10:00 AM–7:00 PM'}]}, {'days': 'Mon', 'segments': [], 'open': [{'renderedTime': '11:00 AM–9:00 PM'}]}, {'days': 'Tue', 'segments': [], 'open': [{'renderedTime': 'Noon–9:00 PM'}]}], 'isLocalHoliday': False}, 'photos': {'groups': [{'name': \"Friends' check-in photos\", 'count': 0, 'type': 'checkin', 'items': []}, {'name': 'Venue photos', 'count': 86, 'type': 'venue', 'items': [{'visibility': 'public', 'suffix': '/FMYGEJI2L4RPTI5AORFDJMF3LOXRC4LRYAN0Y2DU2T4YDDD2.jpg', 'id': '4d81283a04552da1344a02dd', 'width': 404, 'height': 720, 'prefix': 'https://igx.4sqi.net/img/general/', 'createdAt': 1300310074, 'user': {'photo': {'prefix': 'https://igx.4sqi.net/img/user/', 'suffix': '/3PSOD1H3O4MQIXUE.jpg'}, 'gender': 'male', 'firstName': 'Benjamin ☁', 'id': '110157'}, 'source': {'name': 'Foursquare for Android', 'url': 'https://foursquare.com/download/#/android'}}, {'visibility': 'public', 'suffix': '/13287591_-DC8hyQuMUa3NVI5Bwnl-klO0mkqv7wkjyAIGY5RYaA.jpg', 'id': '51536be4e4b0a9b0b67542d6', 'width': 960, 'height': 720, 'prefix': 'https://igx.4sqi.net/img/general/', 'createdAt': 1364421604, 'user': {'lastName': 'Schulz', 'gender': 'male', 'photo': {'prefix': 'https://igx.4sqi.net/img/user/', 'suffix': '/1ICAD1LWVNNGJRFY.jpg'}, 'firstName': 'Eric', 'id': '13287591'}, 'source': {'name': 'Foursquare for iOS', 'url': 'https://foursquare.com/download/#/iphone'}}]}], 'count': 86, 'summary': '0 photos'}, 'attributes': {'groups': [{'name': 'Credit Cards', 'count': 7, 'summary': 'Credit Cards', 'type': 'payments', 'items': [{'displayName': 'Credit Cards', 'displayValue': 'Yes (incl. Discover & MasterCard)'}]}]}, 'rating': 9.5, 'url': 'http://unabridgedbookstore.tumblr.com', 'verified': False, 'timeZone': 'America/Chicago', 'createdAt': 1250969306, 'ok': False, 'allowMenuUrlEdit': True}}, 'meta': {'code': 200, 'requestId': '5bb46422dd57977e1921ab90'}}\n"
     ]
    },
    {
     "name": "stdout",
     "output_type": "stream",
     "text": [
      "{'response': {'venue': {'tips': {'groups': [{'name': 'All tips', 'count': 104, 'type': 'others', 'items': [{'text': 'Thought you’d want to know: Brendan Sodikoff has been nominated for Restaurateur of the Year in Time Out Chicago’s 2011 Eat Out Awards. Vote now!', 'likes': {'groups': [{'count': 52, 'type': 'others', 'items': []}], 'count': 52, 'summary': '52 likes'}, 'id': '4d5aa1396b028eec11495f82', 'todo': {'count': 22}, 'logView': True, 'createdAt': 1297785145, 'disagreeCount': 0, 'url': 'http://207.97.233.162/things-to-do/promotions/211603/time-out-chicagos-2011-eat-out-awards', 'type': 'user', 'canonicalUrl': 'https://foursquare.com/item/4d5aa1396b028eec11495f82', 'lang': 'en', 'user': {'photo': {'prefix': 'https://igx.4sqi.net/img/user/', 'suffix': '/R2RSEQ533D211UR0.jpg'}, 'gender': 'none', 'firstName': 'Time Out Chicago', 'id': '843848', 'type': 'page'}, 'agreeCount': 2}, {'text': 'Try the steak tartare from our 100 Best list: If you can find a better steak tartare anywhere in town, we’re buying.', 'likes': {'groups': [{'count': 5, 'type': 'others', 'items': [{'photo': {'prefix': 'https://igx.4sqi.net/img/user/', 'suffix': '/4435710-PZ3CYQRRGSUENO0B.jpg'}, 'gender': 'female', 'firstName': 'Lucretia', 'id': '4435710'}, {'lastName': 'Sherwood', 'gender': 'male', 'photo': {'prefix': 'https://igx.4sqi.net/img/user/', 'suffix': '/4HLJEALYZKW0BHCN.jpg'}, 'firstName': 'Michael', 'id': '18916633'}, {'lastName': 'H', 'gender': 'male', 'photo': {'prefix': 'https://igx.4sqi.net/img/user/', 'suffix': '/1559157-YA3DILF4GNWTX5JI.jpg'}, 'firstName': 'Justin', 'id': '1559157'}, {'photo': {'prefix': 'https://igx.4sqi.net/img/user/', 'suffix': '/47187200-R4CSG4A32V4AAKYC.jpg'}, 'gender': 'male', 'firstName': 'Chatri', 'id': '47187200'}]}], 'count': 5, 'summary': '5 likes'}, 'agreeCount': 5, 'id': '4ede85015c5cced97829e215', 'todo': {'count': 34}, 'createdAt': 1323205889, 'disagreeCount': 0, 'type': 'user', 'canonicalUrl': 'https://foursquare.com/item/4ede85015c5cced97829e215', 'lang': 'en', 'user': {'photo': {'prefix': 'https://igx.4sqi.net/img/user/', 'suffix': '/R2RSEQ533D211UR0.jpg'}, 'gender': 'none', 'firstName': 'Time Out Chicago', 'id': '843848', 'type': 'page'}, 'logView': True}]}], 'count': 104}, 'colors': {'highlightColor': {'value': -8882088, 'photoId': '4fe4e2a80cd6bb11d01b0ed7'}, 'highlightTextColor': {'value': -1, 'photoId': '4fe4e2a80cd6bb11d01b0ed7'}, 'algoVersion': 3}, 'likes': {'groups': [{'count': 297, 'type': 'others', 'items': []}], 'count': 297, 'summary': '297 Likes'}, 'beenHere': {'marked': False, 'lastCheckinExpiredAt': 0, 'count': 0, 'unconfirmedCount': 0}, 'shortUrl': 'http://4sq.com/9MXe47', 'location': {'labeledLatLngs': [{'label': 'display', 'lng': -87.64891837305171, 'lat': 41.884465069792995}], 'city': 'Chicago', 'lng': -87.64891837305171, 'crossStreet': 'btwn Green St & Peoria St', 'postalCode': '60607', 'cc': 'US', 'formattedAddress': ['840 W Randolph St (btwn Green St & Peoria St)', 'Chicago, IL 60607', 'United States'], 'state': 'IL', 'address': '840 W Randolph St', 'lat': 41.884465069792995, 'country': 'United States'}, 'name': \"Maude's Liquor Bar\", 'pageUpdates': {'count': 1, 'items': []}, 'reasons': {'count': 1, 'items': [{'summary': 'Lots of people like this place', 'reasonName': 'rawLikesReason', 'type': 'general'}]}, 'ratingSignals': 391, 'categories': [{'pluralName': 'French Restaurants', 'id': '4bf58dd8d48988d10c941735', 'name': 'French Restaurant', 'primary': True, 'icon': {'prefix': 'https://ss3.4sqi.net/img/categories_v2/food/french_', 'suffix': '.png'}, 'shortName': 'French'}, {'name': 'Cocktail Bar', 'pluralName': 'Cocktail Bars', 'icon': {'prefix': 'https://ss3.4sqi.net/img/categories_v2/nightlife/cocktails_', 'suffix': '.png'}, 'id': '4bf58dd8d48988d11e941735', 'shortName': 'Cocktail'}], 'menu': {'anchor': 'View Menu', 'label': 'Menu', 'url': 'https://foursquare.com/v/maudes-liquor-bar/4cc5b207c844721eb395f001/menu', 'mobileUrl': 'https://foursquare.com/v/4cc5b207c844721eb395f001/device_menu', 'type': 'Menu'}, 'id': '4cc5b207c844721eb395f001', 'canonicalUrl': 'https://foursquare.com/v/maudes-liquor-bar/4cc5b207c844721eb395f001', 'hereNow': {'groups': [], 'count': 0, 'summary': 'Nobody here'}, 'hasMenu': True, 'bestPhoto': {'visibility': 'public', 'suffix': '/Itv1C2Dug7l_X1lO8xHLAxKoiC2O5M570R4FkMT767g.jpg', 'id': '4fe4e2a80cd6bb11d01b0ed7', 'width': 600, 'height': 386, 'prefix': 'https://igx.4sqi.net/img/general/', 'createdAt': 1340400296, 'source': {'name': 'Foursquare Web', 'url': 'https://foursquare.com'}}, 'specials': {'count': 0, 'items': []}, 'inbox': {'count': 0, 'items': []}, 'stats': {'tipCount': 104}, 'listed': {'groups': [{'name': 'Lists from other people', 'count': 665, 'type': 'others', 'items': [{'photo': {'visibility': 'public', 'suffix': '/U2Y1K2MCBOVTM0UYEUFLIQJEV2G301O4ET2Z1113CQIYYYCM.jpg', 'id': '4f14709ee4b0958ec4374aab', 'width': 400, 'height': 600, 'prefix': 'https://igx.4sqi.net/img/general/', 'createdAt': 1326739614, 'user': {'photo': {'prefix': 'https://igx.4sqi.net/img/user/', 'suffix': '/14MODEIXVWAQ52FH.jpg'}, 'gender': 'none', 'firstName': 'Chicago magazine', 'id': '9646282', 'type': 'page'}}, 'followers': {'count': 364}, 'description': 'We picked the 20 best cocktails in town—and lined them up from bitter (no. 1) to sweet (no. 20). Follow our list to quaffing heaven. For more, visit www.chicagomag.com/drinkersguide.', 'updatedAt': 1357059071, 'id': '4f1453d7e4b03f4c028871fa', 'public': True, 'listItems': {'count': 20, 'items': [{'photo': {'visibility': 'public', 'suffix': '/I4MLS1QLNS32IVPP4CHP11TLSR5XZ3NJ3XQPO4O1ZEQIXC4F.jpg', 'id': '4f147e70e4b072565fba0d93', 'width': 400, 'height': 600, 'prefix': 'https://igx.4sqi.net/img/general/', 'createdAt': 1326743152, 'user': {'photo': {'prefix': 'https://igx.4sqi.net/img/user/', 'suffix': '/14MODEIXVWAQ52FH.jpg'}, 'gender': 'none', 'firstName': 'Chicago magazine', 'id': '9646282', 'type': 'page'}}, 'createdAt': 1326744546, 'id': 't4f1483fde4b067f672af8fa0'}]}, 'createdAt': 1326732247, 'entities': [{'object': {'url': 'http://www.chicagomag.com/drinkersguide'}, 'indices': [149, 181], 'type': 'url'}], 'name': '20 Best Cocktails in Chicago', 'logView': True, 'url': '/chicagomag/list/20-best-cocktails-in-chicago', 'editable': False, 'type': 'others', 'canonicalUrl': 'https://foursquare.com/chicagomag/list/20-best-cocktails-in-chicago', 'collaborative': False, 'user': {'photo': {'prefix': 'https://igx.4sqi.net/img/user/', 'suffix': '/14MODEIXVWAQ52FH.jpg'}, 'gender': 'none', 'firstName': 'Chicago magazine', 'id': '9646282', 'type': 'page'}}, {'photo': {'visibility': 'public', 'suffix': '/5045697_ReZAjvIBcaylL1Kxr7anNzIMXFqaACZnnF0y1Cuel3w.jpg', 'id': '512a7a66e4b016a0e6db52f0', 'width': 720, 'height': 720, 'prefix': 'https://igx.4sqi.net/img/general/', 'createdAt': 1361738342, 'user': {'lastName': 'Basten', 'gender': 'female', 'photo': {'prefix': 'https://igx.4sqi.net/img/user/', 'suffix': '/J2WGDTSW3EE0HMYC.jpg'}, 'firstName': 'Emily', 'id': '5045697'}}, 'followers': {'count': 2708}, 'description': 'Follow our 100 Best list and check-in to two venues to unlock the badge.', 'updatedAt': 1367380684, 'type': 'others', 'public': True, 'listItems': {'count': 96, 'items': [{'createdAt': 1323203182, 'id': 't4ede85015c5cced97829e215'}]}, 'createdAt': 1323195057, 'name': '100 Best things we ate (and drank) in 2011', 'logView': True, 'url': '/timeoutchicago/list/100-best-things-we-ate-and-drank-in-2011', 'editable': False, 'id': '4ede5ab12c5b50aba338cd3f', 'canonicalUrl': 'https://foursquare.com/timeoutchicago/list/100-best-things-we-ate-and-drank-in-2011', 'collaborative': False, 'user': {'photo': {'prefix': 'https://igx.4sqi.net/img/user/', 'suffix': '/R2RSEQ533D211UR0.jpg'}, 'gender': 'none', 'firstName': 'Time Out Chicago', 'id': '843848', 'type': 'page'}}, {'followers': {'count': 664}, 'description': 'This year there were 64 restaurants selected across the Chicagoland area this year, with 19 newly added to the category.', 'updatedAt': 1352607109, 'type': 'others', 'public': True, 'listItems': {'count': 65, 'items': [{'createdAt': 1329504911, 'id': 'v4cc5b207c844721eb395f001'}]}, 'createdAt': 1329504413, 'name': '2013 Chicago Bib Gourmands', 'logView': True, 'url': '/michelinguides/list/2013-chicago-bib-gourmands', 'editable': False, 'id': '4f3ea09de4b0d0a6457153eb', 'canonicalUrl': 'https://foursquare.com/michelinguides/list/2013-chicago-bib-gourmands', 'collaborative': False, 'user': {'photo': {'prefix': 'https://igx.4sqi.net/img/user/', 'suffix': '/VK0PPDE3V1HU20D5.jpg'}, 'gender': 'none', 'firstName': 'Michelin Travel & Lifestyle', 'id': '3358242', 'type': 'page'}}, {'photo': {'visibility': 'public', 'suffix': '/843848_g0DXx0eLL0fnABo_K-EVkn6afl6QiQsJPtrOgLy95gk.jpg', 'id': '52b4c9c9498e6a1bd2b214da', 'width': 492, 'height': 330, 'prefix': 'https://igx.4sqi.net/img/general/', 'createdAt': 1387579849, 'user': {'photo': {'prefix': 'https://igx.4sqi.net/img/user/', 'suffix': '/R2RSEQ533D211UR0.jpg'}, 'gender': 'none', 'firstName': 'Time Out Chicago', 'id': '843848', 'type': 'page'}}, 'followers': {'count': 256}, 'description': 'The very best food and drink our editors consumed this year. http://tmout.us/rLOtk', 'updatedAt': 1401918990, 'id': '52acbcfc11d22a86dbc7f3a3', 'public': True, 'listItems': {'count': 91, 'items': [{'photo': {'visibility': 'public', 'suffix': '/843848_-iefNILI43BHiUSWSpbzvYxMsqpvq2h-zOB9Pphd0H4.jpg', 'id': '52b4ca93498e6a1bd2b288c8', 'width': 492, 'height': 330, 'prefix': 'https://igx.4sqi.net/img/general/', 'createdAt': 1387580051, 'user': {'photo': {'prefix': 'https://igx.4sqi.net/img/user/', 'suffix': '/R2RSEQ533D211UR0.jpg'}, 'gender': 'none', 'firstName': 'Time Out Chicago', 'id': '843848', 'type': 'page'}}, 'createdAt': 1387572163, 'id': 't52b4b67c11d25adb1659eaa2'}]}, 'createdAt': 1387052284, 'entities': [{'object': {'url': 'http://tmout.us/rLOtk'}, 'indices': [61, 82], 'type': 'url'}], 'name': '100 best things we ate and drank in 2013', 'logView': True, 'url': '/timeoutchicago/list/100-best-things-we-ate-and-drank-in-2013', 'editable': False, 'type': 'others', 'canonicalUrl': 'https://foursquare.com/timeoutchicago/list/100-best-things-we-ate-and-drank-in-2013', 'collaborative': False, 'user': {'photo': {'prefix': 'https://igx.4sqi.net/img/user/', 'suffix': '/R2RSEQ533D211UR0.jpg'}, 'gender': 'none', 'firstName': 'Time Out Chicago', 'id': '843848', 'type': 'page'}}]}], 'count': 665}, 'hours': {'isOpen': False, 'timeframes': [{'days': 'Mon–Thu, Sun', 'segments': [], 'includesToday': True, 'open': [{'renderedTime': '4:45 PM–11:30 PM'}]}, {'days': 'Fri–Sat', 'segments': [], 'open': [{'renderedTime': '4:45 PM–1:00 AM'}]}], 'richStatus': {'text': 'Closed until 4:45 PM', 'entities': []}, 'dayData': [], 'isLocalHoliday': False, 'status': 'Closed until 4:45 PM'}, 'contact': {'twitter': 'maudeschicago', 'formattedPhone': '(312) 243-9712', 'phone': '3122439712', 'instagram': 'maudesliquorbar', 'facebook': '120541944672069', 'facebookName': \"Maude's Liquor Bar\"}, 'ratingColor': '00B551', 'dislike': False, 'popular': {'isOpen': False, 'timeframes': [{'days': 'Today', 'segments': [], 'includesToday': True, 'open': [{'renderedTime': '5:00 PM–11:00 PM'}]}, {'days': 'Thu', 'segments': [], 'open': [{'renderedTime': '5:00 PM–Midnight'}]}, {'days': 'Fri–Sat', 'segments': [], 'open': [{'renderedTime': '5:00 PM–1:00 AM'}]}, {'days': 'Sun', 'segments': [], 'open': [{'renderedTime': '5:00 PM–10:00 PM'}]}, {'days': 'Mon', 'segments': [], 'open': [{'renderedTime': '5:00 PM–10:00 PM'}]}, {'days': 'Tue', 'segments': [], 'open': [{'renderedTime': '5:00 PM–11:00 PM'}]}], 'isLocalHoliday': False}, 'photos': {'groups': [{'name': \"Friends' check-in photos\", 'count': 0, 'type': 'checkin', 'items': []}, {'name': 'Venue photos', 'count': 292, 'type': 'venue', 'items': [{'visibility': 'public', 'suffix': '/Itv1C2Dug7l_X1lO8xHLAxKoiC2O5M570R4FkMT767g.jpg', 'id': '4fe4e2a80cd6bb11d01b0ed7', 'width': 600, 'height': 386, 'prefix': 'https://igx.4sqi.net/img/general/', 'createdAt': 1340400296, 'user': {'photo': {'prefix': 'https://igx.4sqi.net/img/user/', 'suffix': '/7149152-ERJV15NYSNXU2QEG.jpg'}, 'gender': 'none', 'firstName': 'Chicago Tribune', 'id': '7149152', 'type': 'page'}, 'source': {'name': 'Foursquare Web', 'url': 'https://foursquare.com'}}, {'visibility': 'public', 'suffix': '/32697663_xT_zm2u_Hx-PlwUkid24b6uD1fSLygPC6AnAg6PJeUc.jpg', 'id': '50c7dddde4b039fe7b4cc4b6', 'width': 612, 'height': 612, 'prefix': 'https://igx.4sqi.net/img/general/', 'createdAt': 1355275741, 'user': {'photo': {'prefix': 'https://igx.4sqi.net/img/user/', 'suffix': '/QUFVAH4QLMOUW4YV.jpg'}, 'gender': 'female', 'firstName': 'Missanniemae', 'id': '32697663'}, 'source': {'name': 'Instagram', 'url': 'http://instagram.com'}}]}], 'count': 292, 'summary': '0 photos'}, 'attributes': {'groups': [{'name': 'Price', 'count': 1, 'summary': '$$$', 'type': 'price', 'items': [{'priceTier': 3, 'displayName': 'Price', 'displayValue': '$$$'}]}, {'name': 'Credit Cards', 'count': 7, 'summary': 'Credit Cards', 'type': 'payments', 'items': [{'displayName': 'Credit Cards', 'displayValue': 'Yes (incl. Discover & Visa)'}]}, {'name': 'Outdoor Seating', 'count': 1, 'summary': 'Outdoor Seating', 'type': 'outdoorSeating', 'items': [{'displayName': 'Outdoor Seating', 'displayValue': 'Yes'}]}, {'name': 'Music', 'count': 3, 'summary': 'Live Music', 'type': 'music', 'items': [{'displayName': 'Live Music', 'displayValue': 'Live Music'}]}, {'name': 'Wi-Fi', 'count': 1, 'type': 'wifi', 'items': [{'displayName': 'Wi-Fi', 'displayValue': 'No'}]}, {'name': 'Menus', 'count': 8, 'summary': 'Dinner', 'type': 'serves', 'items': [{'displayName': 'Dinner', 'displayValue': 'Dinner'}]}, {'name': 'Drinks', 'count': 5, 'summary': 'Wine, Full Bar & Cocktails', 'type': 'drinks', 'items': [{'displayName': 'Wine', 'displayValue': 'Wine'}, {'displayName': 'Full Bar', 'displayValue': 'Full Bar'}, {'displayName': 'Cocktails', 'displayValue': 'Cocktails'}]}, {'name': 'Dining Options', 'count': 5, 'type': 'diningOptions', 'items': [{'displayName': 'Delivery', 'displayValue': 'No Delivery'}]}]}, 'rating': 9.5, 'url': 'http://www.maudesliquorbar.com', 'price': {'tier': 3, 'message': 'Expensive', 'currency': '$'}, 'verified': False, 'timeZone': 'America/Chicago', 'createdAt': 1288024583, 'ok': False, 'allowMenuUrlEdit': True}}, 'meta': {'code': 200, 'requestId': '5bb464229fb6b714c78ef405'}}\n"
     ]
    },
    {
     "name": "stdout",
     "output_type": "stream",
     "text": [
      "{'response': {'venue': {'tips': {'groups': [{'name': 'All tips', 'count': 65, 'type': 'others', 'items': [{'text': 'As far as we’re concerned, this is a sun-soaked café rather than just a bike shop. How else do you explain the thoughtfully sourced products—from Southport Grocery cupcakes to Mast Brothers chocolate?', 'likes': {'groups': [{'count': 6, 'type': 'others', 'items': [{'lastName': 'Highlander', 'gender': 'male', 'photo': {'prefix': 'https://igx.4sqi.net/img/user/', 'suffix': '/94411-W4UC4LNC1GAVR4VU.jpg'}, 'firstName': 'Global', 'id': '94411'}, {'photo': {'prefix': 'https://igx.4sqi.net/img/user/', 'suffix': '/BVIONTINZ1QPOUF2.jpg'}, 'gender': 'male', 'firstName': 'Qasim', 'id': '34471452'}, {'lastName': 'Van Dunk', 'gender': 'male', 'photo': {'prefix': 'https://igx.4sqi.net/img/user/', 'suffix': '/-302OPZBJTP3W2JZV.jpg'}, 'firstName': 'Christopher', 'id': '100049'}, {'lastName': '❤❤❤', 'gender': 'male', 'photo': {'prefix': 'https://igx.4sqi.net/img/user/', 'suffix': '/17766136-BIYJ4F541AVJGVJY.jpg'}, 'firstName': 'Len', 'id': '17766136'}]}], 'count': 6, 'summary': '6 likes'}, 'id': '4f8dc156e4b081011656de2c', 'todo': {'count': 11}, 'logView': True, 'createdAt': 1334690134, 'disagreeCount': 0, 'url': 'http://timeoutchicago.com/restaurants-bars/15265196/best-new-biker-bar-eat-out-awards-2012?package=15265281', 'type': 'user', 'canonicalUrl': 'https://foursquare.com/item/4f8dc156e4b081011656de2c', 'lang': 'en', 'user': {'photo': {'prefix': 'https://igx.4sqi.net/img/user/', 'suffix': '/R2RSEQ533D211UR0.jpg'}, 'gender': 'none', 'firstName': 'Time Out Chicago', 'id': '843848', 'type': 'page'}, 'agreeCount': 7}, {'text': 'Local bike shop and Stumptown coffee! Support local!', 'likes': {'groups': [{'count': 4, 'type': 'others', 'items': [{'lastName': 'Pak', 'gender': 'female', 'photo': {'prefix': 'https://igx.4sqi.net/img/user/', 'suffix': '/LYIFDY23UAN504NG.jpg'}, 'firstName': 'Margaret', 'id': '12639144'}, {'lastName': 'Dean', 'gender': 'female', 'photo': {'prefix': 'https://igx.4sqi.net/img/user/', 'suffix': '/blank_girl.png', 'default': True}, 'firstName': 'Laura', 'id': '31690746'}, {'lastName': 'Love', 'gender': 'female', 'photo': {'prefix': 'https://igx.4sqi.net/img/user/', 'suffix': '/LSSVGTBJI5HXJMTN.jpg'}, 'firstName': 'Rae', 'id': '27262645'}]}], 'count': 4, 'summary': '4 likes'}, 'agreeCount': 3, 'id': '4e8fe82d8231d8feadcb66db', 'todo': {'count': 0}, 'createdAt': 1318053933, 'disagreeCount': 0, 'type': 'user', 'canonicalUrl': 'https://foursquare.com/item/4e8fe82d8231d8feadcb66db', 'lang': 'en', 'user': {'lastName': 'Lam', 'gender': 'female', 'photo': {'prefix': 'https://igx.4sqi.net/img/user/', 'suffix': '/YXYVSY3RH5MH14BE.jpg'}, 'firstName': 'Jenny', 'id': '13796114'}, 'logView': True}]}], 'count': 65}, 'colors': {'highlightColor': {'value': -15200240, 'photoId': '51112eade4b0b3fb92d462ad'}, 'highlightTextColor': {'value': -1, 'photoId': '51112eade4b0b3fb92d462ad'}, 'algoVersion': 3}, 'likes': {'groups': [{'count': 307, 'type': 'others', 'items': []}], 'count': 307, 'summary': '307 Likes'}, 'beenHere': {'marked': False, 'lastCheckinExpiredAt': 0, 'count': 0, 'unconfirmedCount': 0}, 'shortUrl': 'http://4sq.com/n3rki4', 'location': {'labeledLatLngs': [{'label': 'display', 'lng': -87.66283, 'lat': 41.93576}], 'city': 'Chicago', 'lng': -87.66283, 'crossStreet': 'Wellington', 'postalCode': '60657', 'cc': 'US', 'formattedAddress': ['2959 N Lincoln Avenue (Wellington)', 'Chicago, IL 60657', 'United States'], 'state': 'IL', 'address': '2959 N Lincoln Avenue', 'lat': 41.93576, 'country': 'United States'}, 'name': 'Heritage Bicycles', 'pageUpdates': {'count': 0, 'items': []}, 'reasons': {'count': 1, 'items': [{'summary': 'Lots of people like this place', 'reasonName': 'rawLikesReason', 'type': 'general'}]}, 'ratingSignals': 373, 'categories': [{'pluralName': 'Coffee Shops', 'id': '4bf58dd8d48988d1e0931735', 'name': 'Coffee Shop', 'primary': True, 'icon': {'prefix': 'https://ss3.4sqi.net/img/categories_v2/food/coffeeshop_', 'suffix': '.png'}, 'shortName': 'Coffee Shop'}, {'name': 'Bike Shop', 'pluralName': 'Bike Shops', 'icon': {'prefix': 'https://ss3.4sqi.net/img/categories_v2/shops/bikeshop_', 'suffix': '.png'}, 'id': '4bf58dd8d48988d115951735', 'shortName': 'Bike Shop'}, {'name': 'Clothing Store', 'pluralName': 'Clothing Stores', 'icon': {'prefix': 'https://ss3.4sqi.net/img/categories_v2/shops/apparel_', 'suffix': '.png'}, 'id': '4bf58dd8d48988d103951735', 'shortName': 'Apparel'}], 'delivery': {'provider': {'name': 'grubhub', 'icon': {'name': '/delivery_provider_grubhub_20180129.png', 'sizes': [40, 50], 'prefix': 'https://igx.4sqi.net/img/general/cap/'}}, 'url': 'https://www.grubhub.com/restaurant/heritage-bicycles-general-store-2959-n-lincoln-ave-chicago/689023?affiliate=1131&utm_source=foursquare-affiliate-network&utm_medium=affiliate&utm_campaign=1131&utm_content=689023', 'id': '689023'}, 'menu': {'anchor': 'View Menu', 'label': 'Menu', 'url': 'https://foursquare.com/heritagebicycle/menu', 'mobileUrl': 'https://foursquare.com/v/4e55255f6365b59a57f7b10b/device_menu', 'type': 'Menu'}, 'id': '4e55255f6365b59a57f7b10b', 'canonicalUrl': 'https://foursquare.com/heritagebicycle', 'hereNow': {'groups': [], 'count': 0, 'summary': 'Nobody here'}, 'hasMenu': True, 'bestPhoto': {'visibility': 'public', 'suffix': '/9509609_rhQommwGPmWN6SbHBDq4BlTycgkRX3NbDqtLrVcohok.jpg', 'id': '51112eade4b0b3fb92d462ad', 'width': 612, 'height': 612, 'prefix': 'https://igx.4sqi.net/img/general/', 'createdAt': 1360080557, 'source': {'name': 'Instagram', 'url': 'http://instagram.com'}}, 'storeId': '', 'price': {'tier': 1, 'message': 'Cheap', 'currency': '$'}, 'description': 'Custom Bicycles and Coffee', 'stats': {'tipCount': 65}, 'listed': {'groups': [{'name': 'Lists from other people', 'count': 457, 'type': 'others', 'items': [{'photo': {'visibility': 'public', 'suffix': '/7319_A_YemV-3CVzZSN7Ra4Aw2pav9ocAgty5Acp4EakKYc0.jpg', 'id': '514c7e79e4b0130441a2e58a', 'width': 612, 'height': 612, 'prefix': 'https://igx.4sqi.net/img/general/', 'createdAt': 1363967609, 'user': {'lastName': 'Melideo', 'gender': 'male', 'photo': {'prefix': 'https://igx.4sqi.net/img/user/', 'suffix': '/MXRPME0OZCZX20DC.jpg'}, 'firstName': 'Tim', 'id': '7319'}}, 'guide': True, 'description': 'From the beloved Milstead & Co. in Seattle to Fireflour Pizza + Coffee Bar in ND, these coffee spots are a cool mix of cozy cafés and more unique outposts. And the cup of joe? Always just right.', 'updatedAt': 1482609317, 'type': 'others', 'followers': {'count': 266}, 'public': True, 'listItems': {'count': 51, 'items': [{'photo': {'visibility': 'public', 'suffix': '/qEBLdIecy_qpFTy2Hug4aqq9MDFQG7v61XtbYBK_2Uk.jpg', 'id': '500af12be4b001d6c55cec97', 'width': 612, 'height': 612, 'prefix': 'https://igx.4sqi.net/img/general/', 'createdAt': 1342894379, 'user': {'photo': {'prefix': 'https://igx.4sqi.net/img/user/', 'suffix': '/30057373-YOVTVFDUQI0NO1F2.jpg'}, 'gender': 'female', 'firstName': 'Kelly', 'id': '30057373'}}, 'createdAt': 1473881412, 'id': 't5796a344498e8f343c97871a'}]}, 'createdAt': 1452267551, 'name': 'Your Next Coffee Fix', 'logView': True, 'url': '/foursquare/list/your-next-coffee-fix', 'editable': False, 'id': '568fd81f498e451f88276665', 'canonicalUrl': 'https://foursquare.com/foursquare/list/your-next-coffee-fix', 'collaborative': False, 'guideType': 'bestOf', 'user': {'photo': {'prefix': 'https://igx.4sqi.net/img/user/', 'suffix': '/23438729-TODURDIUDUMY4JF5.png'}, 'gender': 'none', 'firstName': 'Foursquare City Guide', 'id': '23438729', 'type': 'page'}}, {'photo': {'visibility': 'public', 'suffix': '/i1X05hMWPbWY-LIvU-wvM21SBCYqXCItmyZWtk6yecs.jpg', 'id': '4f8a0d80e4b00a62627f61bb', 'width': 720, 'height': 540, 'prefix': 'https://igx.4sqi.net/img/general/', 'createdAt': 1334447488, 'user': {'lastName': 'Williams', 'gender': 'male', 'photo': {'prefix': 'https://igx.4sqi.net/img/user/', 'suffix': '/2L2ZLUTMKVI1UWMW.jpg'}, 'firstName': 'Harrison', 'id': '150954'}}, 'followers': {'count': 315}, 'description': 'This year’s winners, from best dessert program to best spot to drink like a grown-up.', 'updatedAt': 1367448308, 'type': 'others', 'public': True, 'listItems': {'count': 16, 'items': [{'photo': {'visibility': 'public', 'suffix': '/dFumWzr3clzVzm0B3llZt-XC_xtIMpdUW61qXSvMY80.jpg', 'id': '4f5fb819e4b06f48bfe5ce88', 'width': 612, 'height': 612, 'prefix': 'https://igx.4sqi.net/img/general/', 'createdAt': 1331673113, 'user': {'lastName': 'Li', 'gender': 'female', 'photo': {'prefix': 'https://igx.4sqi.net/img/user/', 'suffix': '/125257-FGBNUSYNVTAKFBE0.jpg'}, 'firstName': 'Jennie', 'id': '125257'}}, 'createdAt': 1334689936, 'id': 't4f8dc156e4b081011656de2c'}]}, 'createdAt': 1334688207, 'name': \"2012 Eat Out Award winners: Critics' picks\", 'logView': True, 'url': '/timeoutchicago/list/2012-eat-out-award-winners-critics-picks', 'editable': False, 'id': '4f8db9cfe4b0a791f6427410', 'canonicalUrl': 'https://foursquare.com/timeoutchicago/list/2012-eat-out-award-winners-critics-picks', 'collaborative': False, 'user': {'photo': {'prefix': 'https://igx.4sqi.net/img/user/', 'suffix': '/R2RSEQ533D211UR0.jpg'}, 'gender': 'none', 'firstName': 'Time Out Chicago', 'id': '843848', 'type': 'page'}}, {'photo': {'visibility': 'public', 'suffix': '/AHZEGWLBEAVZQGDLQTQFLBFPFCMBWRLGS0ILHJJB4B3K3UWX.jpg', 'id': '4e836a137beba8f7b63967a8', 'width': 220, 'height': 220, 'prefix': 'https://igx.4sqi.net/img/general/', 'createdAt': 1317235219, 'user': {'photo': {'prefix': 'https://igx.4sqi.net/img/user/', 'suffix': '/W12HFINBWKQZJ15Z.jpg'}, 'gender': 'none', 'firstName': 'AskMen', 'id': '311503', 'type': 'page'}}, 'followers': {'count': 1551}, 'description': 'For more on what Chicago has to offer, check out the official AskMen Chicago City Guide:\\nhttp://www.askmen.com/chicago/', 'updatedAt': 1354306494, 'id': '4e4ebe0a2271a1bdc3d485af', 'public': True, 'listItems': {'count': 177, 'items': [{'createdAt': 1328901807, 'id': 'v4e55255f6365b59a57f7b10b'}]}, 'createdAt': 1313783306, 'entities': [{'object': {'url': 'http://www.askmen.com/chicago/'}, 'indices': [89, 119], 'type': 'url'}], 'name': 'Chicago City Guide', 'logView': True, 'url': '/askmen/list/chicago-city-guide', 'editable': False, 'type': 'others', 'canonicalUrl': 'https://foursquare.com/askmen/list/chicago-city-guide', 'collaborative': False, 'user': {'photo': {'prefix': 'https://igx.4sqi.net/img/user/', 'suffix': '/W12HFINBWKQZJ15Z.jpg'}, 'gender': 'none', 'firstName': 'AskMen', 'id': '311503', 'type': 'page'}}, {'photo': {'visibility': 'public', 'suffix': '/3OV5MPLVWH2DKQROCV0DFG0KEG015XAVHXZ5NNPPAVGCAD1A.png', 'id': '4edf793de5e8c91177e478f9', 'width': 300, 'height': 300, 'prefix': 'https://igx.4sqi.net/img/general/', 'createdAt': 1323268413, 'user': {'photo': {'prefix': 'https://igx.4sqi.net/img/user/', 'suffix': '/BWUTHSW4FMDI1O04.png'}, 'gender': 'none', 'firstName': '4sq Addict', 'id': '12720253', 'type': 'chain'}}, 'followers': {'count': 143}, 'description': 'A collection from the best of 2012 Time Out Chicago', 'updatedAt': 1361485780, 'type': 'others', 'public': True, 'listItems': {'count': 69, 'items': [{'photo': {'visibility': 'public', 'suffix': '/gcucUeaOMDeOwah32jG-wJuwUWpvKzmmsls_5dVCNAI.jpg', 'id': '4f356eabbb3d31432dd8577e', 'width': 220, 'height': 220, 'prefix': 'https://igx.4sqi.net/img/general/', 'createdAt': 1328901803, 'user': {'photo': {'prefix': 'https://igx.4sqi.net/img/user/', 'suffix': '/W12HFINBWKQZJ15Z.jpg'}, 'gender': 'none', 'firstName': 'AskMen', 'id': '311503', 'type': 'page'}}, 'createdAt': 1361473970, 'id': 't4f8dc156e4b081011656de2c'}]}, 'createdAt': 1361471646, 'name': 'Best of Time Out Chicago 2012', 'url': '/mysodotcom/list/best-of-time-out-chicago-2012', 'editable': False, 'id': '5126689ee4b0c1048aebcd5f', 'canonicalUrl': 'https://foursquare.com/mysodotcom/list/best-of-time-out-chicago-2012', 'collaborative': False, 'user': {'lastName': '@MySOdotCom', 'gender': 'male', 'photo': {'prefix': 'https://igx.4sqi.net/img/user/', 'suffix': '/FHAMXN4FRZ2PMHHS.jpg'}, 'firstName': 'Kevin Green', 'id': '813259'}}]}], 'count': 457}, 'page': {'user': {'photo': {'prefix': 'https://igx.4sqi.net/img/user/', 'suffix': '/32846682-NBYH0W5FHWDXBP4K.png'}, 'tips': {'count': 2}, 'venue': {'id': '4e55255f6365b59a57f7b10b'}, 'homeCity': 'Chicago, IL', 'firstName': 'Heritage Bicycles', 'id': '32846682', 'type': 'venuePage', 'contact': {'twitter': 'heritagebicycle'}, 'gender': 'none', 'lists': {'groups': [{'count': 2, 'type': 'created', 'items': []}]}, 'bio': ''}}, 'contact': {'twitter': 'heritagebicycle', 'facebookUsername': 'heritagebicycles', 'formattedPhone': '(773) 245-3005', 'phone': '7732453005', 'facebook': '253991494620052', 'facebookName': 'Heritage Bicycles General Store'}, 'ratingColor': '00B551', 'hours': {'isOpen': False, 'timeframes': [{'days': 'Mon–Sun', 'segments': [], 'includesToday': True, 'open': [{'renderedTime': '7:00 AM–7:00 PM'}]}], 'richStatus': {'text': 'Closed until 7:00 AM', 'entities': []}, 'dayData': [], 'isLocalHoliday': False, 'status': 'Closed until 7:00 AM'}, 'dislike': False, 'popular': {'isOpen': False, 'timeframes': [{'days': 'Today', 'segments': [], 'includesToday': True, 'open': [{'renderedTime': '8:00 AM–3:00 PM'}, {'renderedTime': '6:00 PM–7:00 PM'}]}, {'days': 'Thu', 'segments': [], 'open': [{'renderedTime': '9:00 AM–Noon'}, {'renderedTime': '2:00 PM–3:00 PM'}]}, {'days': 'Fri–Sun', 'segments': [], 'open': [{'renderedTime': '8:00 AM–6:00 PM'}]}, {'days': 'Mon', 'segments': [], 'open': [{'renderedTime': '9:00 AM–4:00 PM'}]}, {'days': 'Tue', 'segments': [], 'open': [{'renderedTime': '9:00 AM–Noon'}, {'renderedTime': '2:00 PM–4:00 PM'}, {'renderedTime': '6:00 PM–7:00 PM'}]}], 'isLocalHoliday': False}, 'photos': {'groups': [{'name': \"Friends' check-in photos\", 'count': 0, 'type': 'checkin', 'items': []}, {'name': 'Venue photos', 'count': 589, 'type': 'venue', 'items': [{'visibility': 'public', 'suffix': '/9509609_rhQommwGPmWN6SbHBDq4BlTycgkRX3NbDqtLrVcohok.jpg', 'id': '51112eade4b0b3fb92d462ad', 'width': 612, 'height': 612, 'prefix': 'https://igx.4sqi.net/img/general/', 'createdAt': 1360080557, 'user': {'lastName': 'Reich', 'gender': 'female', 'photo': {'prefix': 'https://igx.4sqi.net/img/user/', 'suffix': '/EIFLARBBDE5A4PQV.jpg'}, 'firstName': 'Gail', 'id': '9509609'}, 'source': {'name': 'Instagram', 'url': 'http://instagram.com'}}, {'visibility': 'public', 'suffix': '/1293368_wE95zNcYM5fcvyU9uzm_P4xD-LA7zVbZ0vtWAwKEQxs.jpg', 'id': '5250585611d2820658651c80', 'width': 640, 'height': 640, 'prefix': 'https://igx.4sqi.net/img/general/', 'createdAt': 1380997206, 'user': {'photo': {'prefix': 'https://igx.4sqi.net/img/user/', 'suffix': '/IGTBCX0M2BCAYCZ4.jpg'}, 'gender': 'male', 'firstName': 'Eric', 'id': '1293368'}, 'source': {'name': 'Instagram', 'url': 'http://instagram.com'}}]}], 'count': 589, 'summary': '0 photos'}, 'attributes': {'groups': [{'name': 'Price', 'count': 1, 'summary': '$', 'type': 'price', 'items': [{'priceTier': 1, 'displayName': 'Price', 'displayValue': '$'}]}, {'name': 'Credit Cards', 'count': 7, 'summary': 'Credit Cards', 'type': 'payments', 'items': [{'displayName': 'Credit Cards', 'displayValue': 'Yes (incl. Discover & MasterCard)'}]}, {'name': 'Outdoor Seating', 'count': 1, 'summary': 'Outdoor Seating', 'type': 'outdoorSeating', 'items': [{'displayName': 'Outdoor Seating', 'displayValue': 'Yes'}]}, {'name': 'Wi-Fi', 'count': 1, 'summary': 'Free Wi-Fi', 'type': 'wifi', 'items': [{'displayName': 'Wi-Fi', 'displayValue': 'Free'}]}, {'name': 'Menus', 'count': 8, 'summary': 'Lunch, Brunch & more', 'type': 'serves', 'items': [{'displayName': 'Breakfast', 'displayValue': 'Breakfast'}, {'displayName': 'Brunch', 'displayValue': 'Brunch'}, {'displayName': 'Lunch', 'displayValue': 'Lunch'}]}]}, 'rating': 9.5, 'venuePage': {'id': '32846682'}, 'url': 'http://www.heritagebicycles.com/pages/2959-n-lincoln-ave', 'specials': {'count': 0, 'items': []}, 'inbox': {'count': 0, 'items': []}, 'verified': True, 'timeZone': 'America/Chicago', 'createdAt': 1314202975, 'ok': False, 'allowMenuUrlEdit': True}}, 'meta': {'code': 200, 'requestId': '5bb464234c1f67204bc399b2'}}\n"
     ]
    },
    {
     "name": "stdout",
     "output_type": "stream",
     "text": [
      "{'response': {'venue': {'tips': {'groups': [{'name': 'All tips', 'count': 76, 'type': 'others', 'items': [{'text': \"Extra creamy and creatively flavored, Jeni's has a remarkably ability to make other ice cream seem one dimensional&mdash;like it's missing something.\", 'likes': {'groups': [{'count': 19, 'type': 'others', 'items': []}], 'count': 19, 'summary': '19 likes'}, 'agreeCount': 19, 'id': '5240a02511d26f5f08b8ae16', 'todo': {'count': 7}, 'createdAt': 1379967013, 'disagreeCount': 0, 'type': 'user', 'canonicalUrl': 'https://foursquare.com/item/5240a02511d26f5f08b8ae16', 'lang': 'en', 'user': {'photo': {'prefix': 'https://igx.4sqi.net/img/user/', 'suffix': '/12703379-OJSNA253S0GCOKZZ.png'}, 'gender': 'none', 'firstName': 'Serious Eats', 'id': '12703379', 'type': 'page'}, 'logView': True}, {'text': 'The sweet corn and black raspberry ice cream at Jeni’s Splendid Ice Creams is one of the 100 best things we ate this year. http://tmout.us/rLOtk', 'likes': {'groups': [{'count': 7, 'type': 'others', 'items': [{'photo': {'prefix': 'https://igx.4sqi.net/img/user/', 'suffix': '/18194967-WEZ1V1NPBSO3ABFT.jpg'}, 'gender': 'female', 'firstName': 'Wei Shyan', 'id': '18194967'}, {'lastName': 'DiGiovanni', 'gender': 'female', 'photo': {'prefix': 'https://igx.4sqi.net/img/user/', 'suffix': '/91330105-RJXP20NUDB31SJTM.jpg'}, 'firstName': 'Carissa', 'id': '91330105'}, {'lastName': 'Love', 'gender': 'female', 'photo': {'prefix': 'https://igx.4sqi.net/img/user/', 'suffix': '/27462620-P1PCJ44LO1NADSGY.jpg'}, 'firstName': 'Paradise', 'id': '27462620'}, {'lastName': 'Choi', 'gender': 'female', 'photo': {'prefix': 'https://igx.4sqi.net/img/user/', 'suffix': '/5815016-4NZIGHGXT3WJUOJT.jpg'}, 'firstName': 'Seohee', 'id': '5815016'}]}], 'count': 7, 'summary': '7 likes'}, 'agreeCount': 7, 'id': '52b4b388498e4159a17f5237', 'todo': {'count': 7}, 'createdAt': 1387574152, 'entities': [{'object': {'url': 'http://tmout.us/rLOtk'}, 'indices': [123, 144], 'type': 'url'}], 'disagreeCount': 0, 'type': 'user', 'canonicalUrl': 'https://foursquare.com/item/52b4b388498e4159a17f5237', 'lang': 'en', 'user': {'photo': {'prefix': 'https://igx.4sqi.net/img/user/', 'suffix': '/R2RSEQ533D211UR0.jpg'}, 'gender': 'none', 'firstName': 'Time Out Chicago', 'id': '843848', 'type': 'page'}, 'logView': True}]}], 'count': 76}, 'colors': {'highlightColor': {'value': -15198184, 'photoId': '523b504411d2e4f79d6575c2'}, 'highlightTextColor': {'value': -1, 'photoId': '523b504411d2e4f79d6575c2'}, 'algoVersion': 3}, 'likes': {'groups': [{'count': 377, 'type': 'others', 'items': []}], 'count': 377, 'summary': '377 Likes'}, 'beenHere': {'marked': False, 'lastCheckinExpiredAt': 0, 'count': 0, 'unconfirmedCount': 0}, 'shortUrl': 'http://4sq.com/14v2nLd', 'location': {'labeledLatLngs': [{'label': 'display', 'lng': -87.66402619739496, 'lat': 41.9436026060672}], 'city': 'Chicago', 'lng': -87.66402619739496, 'crossStreet': 'at W Roscoe St', 'postalCode': '60657', 'cc': 'US', 'formattedAddress': ['3404 N Southport Ave (at W Roscoe St)', 'Chicago, IL 60657', 'United States'], 'state': 'IL', 'address': '3404 N Southport Ave', 'lat': 41.9436026060672, 'country': 'United States'}, 'name': \"Jeni's Splendid Ice Creams\", 'pageUpdates': {'count': 21, 'items': []}, 'reasons': {'count': 1, 'items': [{'summary': 'Lots of people like this place', 'reasonName': 'rawLikesReason', 'type': 'general'}]}, 'ratingSignals': 462, 'categories': [{'pluralName': 'Ice Cream Shops', 'id': '4bf58dd8d48988d1c9941735', 'name': 'Ice Cream Shop', 'primary': True, 'icon': {'prefix': 'https://ss3.4sqi.net/img/categories_v2/food/icecream_', 'suffix': '.png'}, 'shortName': 'Ice Cream'}], 'inbox': {'count': 0, 'items': []}, 'menu': {'anchor': 'View Menu', 'url': 'http://shop.jenis.com', 'type': 'Menu', 'label': 'Menu', 'mobileUrl': 'http://shop.jenis.com', 'externalUrl': 'http://shop.jenis.com'}, 'id': '5228f072bce6872aefde90d0', 'canonicalUrl': 'https://foursquare.com/v/jenis-splendid-ice-creams/5228f072bce6872aefde90d0', 'hereNow': {'groups': [], 'count': 0, 'summary': 'Nobody here'}, 'bestPhoto': {'visibility': 'public', 'suffix': '/52410328_4BJ-XZ5G3K3-tLZOs_uQk0K_hVZFH_F1fwswO3T5wos.jpg', 'id': '523b504411d2e4f79d6575c2', 'width': 960, 'height': 720, 'prefix': 'https://igx.4sqi.net/img/general/', 'createdAt': 1379618884, 'source': {'name': 'Foursquare for iOS', 'url': 'https://foursquare.com/download/#/iphone'}}, 'storeId': '', 'specials': {'count': 0, 'items': []}, 'description': 'Ice creams built from the ground up with superlative ingredients.', 'stats': {'tipCount': 76}, 'listed': {'groups': [{'name': 'Lists from other people', 'count': 326, 'type': 'others', 'items': [{'photo': {'visibility': 'public', 'suffix': '/30825_6S8KycFjnDvvewNPOoFdf84az-N3XEr4zHnKDEqSqPA.jpg', 'id': '515b4951e4b0f68b028f74b8', 'width': 720, 'height': 960, 'prefix': 'https://igx.4sqi.net/img/general/', 'createdAt': 1364937041, 'user': {'lastName': 'E.', 'gender': 'male', 'photo': {'prefix': 'https://igx.4sqi.net/img/user/', 'suffix': '/31JIOKCLZYUIXPCT.jpg'}, 'firstName': 'Geordie', 'id': '30825'}}, 'followers': {'count': 11}, 'description': '', 'updatedAt': 1467405016, 'type': 'others', 'public': True, 'listItems': {'count': 169, 'items': [{'createdAt': 1442687405, 'id': 'v5228f072bce6872aefde90d0'}]}, 'createdAt': 1361644837, 'name': 'Ice Cream', 'url': '/tenjun11/list/ice-cream', 'editable': False, 'id': '51290d25e4b0ff6b544387d7', 'canonicalUrl': 'https://foursquare.com/tenjun11/list/ice-cream', 'collaborative': False, 'user': {'photo': {'prefix': 'https://igx.4sqi.net/img/user/', 'suffix': '/32787982-4LL5Y5LDD3Q0RAFQ.jpg'}, 'gender': 'female', 'firstName': 'Eliza', 'id': '32787982'}}, {'photo': {'visibility': 'public', 'suffix': '/3721958_jR-rEBPRm0tMKhKU1dVMLVwfWBXOazgAnLp2ABLamTk.jpg', 'id': '54125e9e11d27342446db4c2', 'width': 640, 'height': 640, 'prefix': 'https://igx.4sqi.net/img/general/', 'createdAt': 1410490014, 'user': {'lastName': 'Suganda', 'gender': 'male', 'photo': {'prefix': 'https://igx.4sqi.net/img/user/', 'suffix': '/CM45TY4T3ZCUHIUC.jpg'}, 'firstName': 'Kevin', 'id': '3721958'}}, 'guide': True, 'description': \"I scream, you scream, we all scream for ice cream, 'cuz what's better than a few scoops of the dairy treat on a hot day? From classic vanilla to funky flavors, these Chicago shops serve the very best.\", 'updatedAt': 1518505408, 'type': 'others', 'followers': {'count': 42}, 'public': True, 'listItems': {'count': 12, 'items': [{'photo': {'visibility': 'public', 'suffix': '/125257__atIJc9LCObEuOknRk4E5mC5gMLquSbnFTawiS2jHZ8.jpg', 'id': '52645327498ea08898eddb58', 'width': 640, 'height': 640, 'prefix': 'https://igx.4sqi.net/img/general/', 'createdAt': 1382306599, 'user': {'lastName': 'Li', 'gender': 'female', 'photo': {'prefix': 'https://igx.4sqi.net/img/user/', 'suffix': '/125257-FGBNUSYNVTAKFBE0.jpg'}, 'firstName': 'Jennie', 'id': '125257'}}, 'createdAt': 1467143248, 'id': 't576d4a94498ef8c95d1b13b1'}]}, 'createdAt': 1467143085, 'name': \"Chicago's Best Ice Cream Shops\", 'logView': True, 'url': '/foursquare/list/chicagos-best-ice-cream-shops', 'editable': False, 'id': '5772d3ad498ec7001bdf9ef1', 'canonicalUrl': 'https://foursquare.com/foursquare/list/chicagos-best-ice-cream-shops', 'collaborative': False, 'guideType': 'bestOf', 'user': {'photo': {'prefix': 'https://igx.4sqi.net/img/user/', 'suffix': '/23438729-TODURDIUDUMY4JF5.png'}, 'gender': 'none', 'firstName': 'Foursquare City Guide', 'id': '23438729', 'type': 'page'}}, {'followers': {'count': 9}, 'description': 'A list of the best places that are worth your time and dollars.', 'updatedAt': 1381339111, 'type': 'others', 'public': True, 'listItems': {'count': 64, 'items': [{'user': {'lastName': 'Putnam', 'photo': {'prefix': 'https://igx.4sqi.net/img/user/', 'suffix': '/G0E25FXO32C1RP3M.jpg'}, 'bio': '', 'homeCity': 'Chicago, IL', 'firstName': 'Seth', 'id': '5833972', 'tips': {'count': 18}, 'contact': {}, 'gender': 'male', 'lists': {'groups': [{'count': 26, 'type': 'created', 'items': []}]}}, 'id': 'v5228f072bce6872aefde90d0', 'createdAt': 1381336648}]}, 'createdAt': 1373299363, 'name': 'Chicago: Favorites', 'url': '/jeffkies/list/chicago-favorites', 'editable': False, 'id': '51dae2a3498e2083b9eca89c', 'canonicalUrl': 'https://foursquare.com/jeffkies/list/chicago-favorites', 'collaborative': True, 'user': {'lastName': 'Kieslich', 'gender': 'male', 'photo': {'prefix': 'https://igx.4sqi.net/img/user/', 'suffix': '/18382152-CM21E5PJZBT0PVS3.jpg'}, 'firstName': 'Jeffrey', 'id': '18382152'}}, {'photo': {'visibility': 'public', 'suffix': '/843848_g0DXx0eLL0fnABo_K-EVkn6afl6QiQsJPtrOgLy95gk.jpg', 'id': '52b4c9c9498e6a1bd2b214da', 'width': 492, 'height': 330, 'prefix': 'https://igx.4sqi.net/img/general/', 'createdAt': 1387579849, 'user': {'photo': {'prefix': 'https://igx.4sqi.net/img/user/', 'suffix': '/R2RSEQ533D211UR0.jpg'}, 'gender': 'none', 'firstName': 'Time Out Chicago', 'id': '843848', 'type': 'page'}}, 'followers': {'count': 256}, 'description': 'The very best food and drink our editors consumed this year. http://tmout.us/rLOtk', 'updatedAt': 1401918990, 'id': '52acbcfc11d22a86dbc7f3a3', 'public': True, 'listItems': {'count': 91, 'items': [{'photo': {'visibility': 'public', 'suffix': '/843848_KHgi8LamXreeyl5KelT_75Fa-8pyy61e_buWRmdWImo.jpg', 'id': '52b4c4d0498e6a1bd2af4df1', 'width': 492, 'height': 330, 'prefix': 'https://igx.4sqi.net/img/general/', 'createdAt': 1387578576, 'user': {'photo': {'prefix': 'https://igx.4sqi.net/img/user/', 'suffix': '/R2RSEQ533D211UR0.jpg'}, 'gender': 'none', 'firstName': 'Time Out Chicago', 'id': '843848', 'type': 'page'}}, 'createdAt': 1387567006, 'id': 't52b4b388498e4159a17f5237'}]}, 'createdAt': 1387052284, 'entities': [{'object': {'url': 'http://tmout.us/rLOtk'}, 'indices': [61, 82], 'type': 'url'}], 'name': '100 best things we ate and drank in 2013', 'logView': True, 'url': '/timeoutchicago/list/100-best-things-we-ate-and-drank-in-2013', 'editable': False, 'type': 'others', 'canonicalUrl': 'https://foursquare.com/timeoutchicago/list/100-best-things-we-ate-and-drank-in-2013', 'collaborative': False, 'user': {'photo': {'prefix': 'https://igx.4sqi.net/img/user/', 'suffix': '/R2RSEQ533D211UR0.jpg'}, 'gender': 'none', 'firstName': 'Time Out Chicago', 'id': '843848', 'type': 'page'}}]}], 'count': 326}, 'page': {'user': {'photo': {'prefix': 'https://igx.4sqi.net/img/user/', 'suffix': '/80843142-3XT0SU0Y3YRPDGZ5.jpg'}, 'tips': {'count': 20}, 'venue': {'id': '5228f072bce6872aefde90d0'}, 'homeCity': 'Chicago, IL', 'firstName': \"Jeni's Splendid Ice Creams\", 'id': '80843142', 'type': 'venuePage', 'contact': {'facebook': '172636539568279'}, 'gender': 'none', 'lists': {'groups': [{'count': 2, 'type': 'created', 'items': []}]}, 'bio': ''}}, 'contact': {'twitter': 'jenischi', 'facebookUsername': 'jenissouthport', 'formattedPhone': '(773) 348-7139', 'phone': '7733487139', 'facebook': '172636539568279', 'facebookName': \"Jeni's Splendid Ice Creams\"}, 'ratingColor': '00B551', 'hours': {'isOpen': False, 'timeframes': [{'days': 'Mon–Sun', 'segments': [], 'includesToday': True, 'open': [{'renderedTime': 'Noon–11:00 PM'}]}], 'richStatus': {'text': 'Closed until Noon', 'entities': []}, 'dayData': [], 'isLocalHoliday': False, 'status': 'Closed until Noon'}, 'dislike': False, 'popular': {'isOpen': False, 'timeframes': [{'days': 'Today', 'segments': [], 'includesToday': True, 'open': [{'renderedTime': '7:00 PM–11:00 PM'}]}, {'days': 'Thu', 'segments': [], 'open': [{'renderedTime': '7:00 PM–11:00 PM'}]}, {'days': 'Fri', 'segments': [], 'open': [{'renderedTime': '6:00 PM–11:00 PM'}]}, {'days': 'Sat', 'segments': [], 'open': [{'renderedTime': '1:00 PM–11:00 PM'}]}, {'days': 'Sun', 'segments': [], 'open': [{'renderedTime': 'Noon–11:00 PM'}]}, {'days': 'Mon', 'segments': [], 'open': [{'renderedTime': '7:00 PM–11:00 PM'}]}, {'days': 'Tue', 'segments': [], 'open': [{'renderedTime': '6:00 PM–11:00 PM'}]}], 'isLocalHoliday': False}, 'photos': {'groups': [{'name': \"Friends' check-in photos\", 'count': 0, 'type': 'checkin', 'items': []}, {'name': 'Venue photos', 'count': 346, 'type': 'venue', 'items': [{'visibility': 'public', 'suffix': '/52410328_4BJ-XZ5G3K3-tLZOs_uQk0K_hVZFH_F1fwswO3T5wos.jpg', 'id': '523b504411d2e4f79d6575c2', 'width': 960, 'height': 720, 'prefix': 'https://igx.4sqi.net/img/general/', 'createdAt': 1379618884, 'user': {'lastName': 'Little', 'gender': 'female', 'photo': {'prefix': 'https://igx.4sqi.net/img/user/', 'suffix': '/UFFCKI1FAVOBPPLB.jpg'}, 'firstName': 'Linda', 'id': '52410328'}, 'source': {'name': 'Foursquare for iOS', 'url': 'https://foursquare.com/download/#/iphone'}}, {'visibility': 'public', 'suffix': '/628365_cB9qh_HoNzvZwQEPUSd7dTxHAwv8ABIHVQpGq1HfOgs.jpg', 'id': '5234bc4511d24ec698251c46', 'width': 960, 'height': 720, 'prefix': 'https://igx.4sqi.net/img/general/', 'createdAt': 1379187781, 'user': {'lastName': 'Byerly', 'gender': 'male', 'photo': {'prefix': 'https://igx.4sqi.net/img/user/', 'suffix': '/628365-2HIVMZUA4LFVSKHE.jpg'}, 'firstName': 'Scott', 'id': '628365'}, 'source': {'name': 'Foursquare for iOS', 'url': 'https://foursquare.com/download/#/iphone'}}]}], 'count': 346, 'summary': '0 photos'}, 'attributes': {'groups': [{'name': 'Price', 'count': 1, 'summary': '$', 'type': 'price', 'items': [{'priceTier': 1, 'displayName': 'Price', 'displayValue': '$'}]}, {'name': 'Credit Cards', 'count': 7, 'summary': 'Credit Cards', 'type': 'payments', 'items': [{'displayName': 'Credit Cards', 'displayValue': 'Yes (incl. Discover & Visa)'}]}, {'name': 'Outdoor Seating', 'count': 1, 'summary': 'Outdoor Seating', 'type': 'outdoorSeating', 'items': [{'displayName': 'Outdoor Seating', 'displayValue': 'Yes'}]}, {'name': 'Wi-Fi', 'count': 1, 'summary': 'Wi-Fi', 'type': 'wifi', 'items': [{'displayName': 'Wi-Fi', 'displayValue': 'Yes'}]}, {'name': 'Menus', 'count': 8, 'summary': 'Dessert', 'type': 'serves', 'items': [{'displayName': 'Dessert', 'displayValue': 'Dessert'}]}, {'name': 'Dining Options', 'count': 5, 'type': 'diningOptions', 'items': [{'displayName': 'Delivery', 'displayValue': 'No Delivery'}]}]}, 'rating': 9.5, 'venuePage': {'id': '80843142'}, 'url': 'http://jenis.com', 'price': {'tier': 1, 'message': 'Cheap', 'currency': '$'}, 'verified': True, 'timeZone': 'America/Chicago', 'createdAt': 1378414706, 'ok': False, 'allowMenuUrlEdit': True}}, 'meta': {'code': 200, 'requestId': '5bb46423dd57977e1842f3bc'}}\n"
     ]
    },
    {
     "name": "stdout",
     "output_type": "stream",
     "text": [
      "{'response': {'venue': {'tips': {'groups': [{'name': 'All tips', 'count': 15, 'type': 'others', 'items': [{'text': \"Our tour guide Patti rocked it! The beer was great, she even took us to a great bar after! Can't beat that\", 'likes': {'groups': [{'count': 2, 'type': 'others', 'items': [{'lastName': 'VdE', 'gender': 'male', 'photo': {'prefix': 'https://igx.4sqi.net/img/user/', 'suffix': '/CGZ31XOIZZ22WBGT.png'}, 'firstName': 'Nicolas', 'id': '18488814'}, {'lastName': 'Osterman', 'gender': 'male', 'photo': {'prefix': 'https://igx.4sqi.net/img/user/', 'suffix': '/MC2N3OLO1WGVHGVK.jpg'}, 'firstName': 'Andrew', 'id': '1007572'}]}], 'count': 2, 'summary': '2 likes'}, 'agreeCount': 2, 'id': '5212100611d2635883b33a67', 'todo': {'count': 0}, 'createdAt': 1376915462, 'disagreeCount': 0, 'type': 'user', 'canonicalUrl': 'https://foursquare.com/item/5212100611d2635883b33a67', 'lang': 'en', 'user': {'lastName': 'Gidney', 'gender': 'male', 'photo': {'prefix': 'https://igx.4sqi.net/img/user/', 'suffix': '/YRBBX1L44N3OH5YE.jpg'}, 'firstName': 'Alan', 'id': '12161622'}, 'logView': True}, {'photo': {'visibility': 'public', 'suffix': '/1256696_swvGcCmJmmG_Wb4A82mcwu1ecNHY2LR6CcQH4PIeiAs.jpg', 'id': '56a060ae498ea87735baac2d', 'width': 1440, 'height': 1440, 'prefix': 'https://igx.4sqi.net/img/general/', 'createdAt': 1453351086, 'source': {'name': 'Foursquare for iOS', 'url': 'https://foursquare.com/download/#/iphone'}}, 'text': \"Even if you can't make it in for a tour. It's still a great place to visit and have a drink.\", 'likes': {'groups': [{'count': 1, 'type': 'others', 'items': [{'lastName': 'VdE', 'gender': 'male', 'photo': {'prefix': 'https://igx.4sqi.net/img/user/', 'suffix': '/CGZ31XOIZZ22WBGT.png'}, 'firstName': 'Nicolas', 'id': '18488814'}]}], 'count': 1, 'summary': '1 like'}, 'agreeCount': 1, 'photourl': 'https://igx.4sqi.net/img/general/original/1256696_swvGcCmJmmG_Wb4A82mcwu1ecNHY2LR6CcQH4PIeiAs.jpg', 'id': '56a060ad498e24810c59f6af', 'todo': {'count': 0}, 'createdAt': 1453351085, 'authorInteractionType': 'liked', 'logView': True, 'type': 'user', 'canonicalUrl': 'https://foursquare.com/item/56a060ad498e24810c59f6af', 'lang': 'en', 'disagreeCount': 0, 'user': {'lastName': 'Fato', 'gender': 'male', 'photo': {'prefix': 'https://igx.4sqi.net/img/user/', 'suffix': '/1256696-C5AH2DMLVHMNV5G0.jpg'}, 'firstName': 'Chris', 'id': '1256696'}}]}], 'count': 15}, 'colors': {'highlightColor': {'value': -13090744, 'photoId': '523e131011d26f01c68ca42e'}, 'highlightTextColor': {'value': -1, 'photoId': '523e131011d26f01c68ca42e'}, 'algoVersion': 3}, 'likes': {'groups': [{'count': 218, 'type': 'others', 'items': []}], 'count': 218, 'summary': '218 Likes'}, 'beenHere': {'marked': False, 'lastCheckinExpiredAt': 0, 'count': 0, 'unconfirmedCount': 0}, 'shortUrl': 'http://4sq.com/908QUw', 'location': {'labeledLatLngs': [{'label': 'display', 'lng': -87.67233954923492, 'lat': 41.88693905791087}], 'city': 'Chicago', 'lng': -87.67233954923492, 'crossStreet': 'btwn Wolcott Ave & Wood St', 'postalCode': '60612', 'cc': 'US', 'formattedAddress': ['1800 W Fulton St (btwn Wolcott Ave & Wood St)', 'Chicago, IL 60612', 'United States'], 'state': 'IL', 'address': '1800 W Fulton St', 'lat': 41.88693905791087, 'country': 'United States'}, 'name': 'Goose Island Beer Co.', 'pageUpdates': {'count': 0, 'items': []}, 'reasons': {'count': 1, 'items': [{'summary': 'Lots of people like this place', 'reasonName': 'rawLikesReason', 'type': 'general'}]}, 'ratingSignals': 242, 'categories': [{'pluralName': 'Breweries', 'id': '50327c8591d4c4b30a586d5d', 'name': 'Brewery', 'primary': True, 'icon': {'prefix': 'https://ss3.4sqi.net/img/categories_v2/food/brewery_', 'suffix': '.png'}, 'shortName': 'Brewery'}], 'menu': {'anchor': 'View Menu', 'label': 'Menu', 'url': 'https://foursquare.com/v/goose-island-beer-co/4a141ce2f964a52003781fe3/menu', 'mobileUrl': 'https://foursquare.com/v/4a141ce2f964a52003781fe3/device_menu', 'type': 'Menu'}, 'id': '4a141ce2f964a52003781fe3', 'canonicalUrl': 'https://foursquare.com/v/goose-island-beer-co/4a141ce2f964a52003781fe3', 'hereNow': {'groups': [], 'count': 0, 'summary': 'Nobody here'}, 'hasMenu': True, 'bestPhoto': {'visibility': 'public', 'suffix': '/8057060_mSAIh4qX8ty7QwdZA7x1Q6ZlSIOUBvHt4Ud3G2Afg28', 'id': '523e131011d26f01c68ca42e', 'width': 640, 'height': 640, 'prefix': 'https://igx.4sqi.net/img/general/', 'createdAt': 1379799824, 'source': {'name': 'Untappd', 'url': 'https://untappd.com'}}, 'specials': {'count': 0, 'items': []}, 'inbox': {'count': 0, 'items': []}, 'stats': {'tipCount': 15}, 'listed': {'groups': [{'name': 'Lists from other people', 'count': 234, 'type': 'others', 'items': [{'followers': {'count': 154}, 'description': '', 'updatedAt': 1420151039, 'type': 'others', 'public': True, 'listItems': {'count': 42, 'items': [{'createdAt': 1348673475, 'id': 'v4a141ce2f964a52003781fe3'}]}, 'createdAt': 1348597924, 'name': 'Brooklyn Pour Breweries 2012', 'logView': True, 'url': '/villagevoice/list/brooklyn-pour-breweries-2012', 'editable': False, 'id': '5061f8a4498e414fdca5a010', 'canonicalUrl': 'https://foursquare.com/villagevoice/list/brooklyn-pour-breweries-2012', 'collaborative': False, 'user': {'photo': {'prefix': 'https://igx.4sqi.net/img/user/', 'suffix': '/FWBBHYA4T3BZTXB4.jpg'}, 'gender': 'none', 'firstName': 'Village Voice', 'id': '1868764', 'type': 'page'}}, {'photo': {'visibility': 'public', 'suffix': '/Vz32jlBIT4H5z8Sj973xn-zKif_CNC5edzLWsUGxCvY.jpg', 'id': '4fece796e4b0e3ae7d31a883', 'width': 540, 'height': 540, 'prefix': 'https://igx.4sqi.net/img/general/', 'createdAt': 1340925846, 'user': {'lastName': 'Schwarze', 'gender': 'female', 'photo': {'prefix': 'https://igx.4sqi.net/img/user/', 'suffix': '/CTHCMLZ5VTPWQPQR.jpg'}, 'firstName': 'Rudi', 'id': '10244460'}}, 'followers': {'count': 254}, 'description': 'Breweries to check out in Michigan and surrounding states', 'updatedAt': 1403475377, 'type': 'others', 'public': True, 'listItems': {'count': 145, 'items': [{'photo': {'visibility': 'public', 'suffix': '/ZNABG34SZILWGYHIBCYWXQXXYESIY12T4QBMOBBN1F0AJNGI.jpg', 'id': '4d18ec33e9032da10d3904d3', 'width': 720, 'height': 537, 'prefix': 'https://igx.4sqi.net/img/general/', 'createdAt': 1293478963, 'user': {'lastName': 'S', 'gender': 'male', 'photo': {'prefix': 'https://igx.4sqi.net/img/user/', 'suffix': '/EECNC5HCCDTXNBO4.jpg'}, 'firstName': 'Timmy', 'id': '1146261'}}, 'createdAt': 1316365857, 'id': 'v4a141ce2f964a52003781fe3'}]}, 'createdAt': 1316362052, 'name': 'Breweries to Visit', 'url': '/rudipatutie/list/breweries-to-visit', 'editable': False, 'id': '4e761744e4cd32543798f752', 'canonicalUrl': 'https://foursquare.com/rudipatutie/list/breweries-to-visit', 'collaborative': False, 'user': {'lastName': 'Schwarze', 'gender': 'female', 'photo': {'prefix': 'https://igx.4sqi.net/img/user/', 'suffix': '/CTHCMLZ5VTPWQPQR.jpg'}, 'firstName': 'Rudi', 'id': '10244460'}}, {'photo': {'visibility': 'public', 'suffix': '/3cozfF9PRvATjjuj6H4zyZ_3rTlvRAStv0ksHe7xBwQ.jpg', 'id': '4fe3ad04e4b0de20a318df84', 'width': 540, 'height': 720, 'prefix': 'https://igx.4sqi.net/img/general/', 'createdAt': 1340321028, 'user': {'photo': {'prefix': 'https://igx.4sqi.net/img/user/', 'suffix': '/2634223_FkYh8JDv_Hj0--LjYRvSOs1I6C7ILe7fUFsV9FBY7T3hF9eEEjwJKj6EJ1_Jg84QbfG19Btbg.jpg'}, 'gender': 'female', 'firstName': 'Deirdre', 'id': '2634223'}}, 'followers': {'count': 85}, 'description': 'Starting Summer 2012', 'updatedAt': 1522669308, 'type': 'others', 'public': True, 'listItems': {'count': 156, 'items': [{'createdAt': 1339787557, 'id': 'v4a141ce2f964a52003781fe3'}]}, 'createdAt': 1339786805, 'name': 'Chicago Bucketlist', 'url': '/deirdremw/list/chicago-bucketlist', 'editable': False, 'id': '4fdb8635e4b0ba0b18378321', 'canonicalUrl': 'https://foursquare.com/deirdremw/list/chicago-bucketlist', 'collaborative': True, 'user': {'photo': {'prefix': 'https://igx.4sqi.net/img/user/', 'suffix': '/2634223_FkYh8JDv_Hj0--LjYRvSOs1I6C7ILe7fUFsV9FBY7T3hF9eEEjwJKj6EJ1_Jg84QbfG19Btbg.jpg'}, 'gender': 'female', 'firstName': 'Deirdre', 'id': '2634223'}}, {'photo': {'visibility': 'public', 'suffix': '/29968272_uYyINRmc0UCzI5JKbnI97RHt88-RsODsGGq-eqFlD2Q.jpg', 'id': '5090aa10e4b006ec4029be4d', 'width': 720, 'height': 431, 'prefix': 'https://igx.4sqi.net/img/general/', 'createdAt': 1351658000, 'user': {'lastName': 'Rivera', 'gender': 'male', 'photo': {'prefix': 'https://igx.4sqi.net/img/user/', 'suffix': '/04411KFTJHON3XCT.jpg'}, 'firstName': 'Hector', 'id': '29968272'}}, 'followers': {'count': 68}, 'description': 'These are primarily bars which will have at least one beerworthy event during CCBW 2013 [16-26 May].', 'updatedAt': 1425813452, 'type': 'others', 'public': True, 'listItems': {'count': 180, 'items': [{'createdAt': 1368585469, 'id': 'v4a141ce2f964a52003781fe3'}]}, 'createdAt': 1366528362, 'name': '2013 Chicago Craft Beer Week venues', 'url': '/pudgym29/list/2013-chicago-craft-beer-week-venues', 'editable': False, 'id': '5173916a498e0a552d9a1487', 'canonicalUrl': 'https://foursquare.com/pudgym29/list/2013-chicago-craft-beer-week-venues', 'collaborative': False, 'user': {'lastName': 'De Rose', 'gender': 'male', 'photo': {'prefix': 'https://igx.4sqi.net/img/user/', 'suffix': '/QRH0VATZCH3JDJ5V.jpg'}, 'firstName': 'Steve ‘Pudgy’', 'id': '2454150'}}]}], 'count': 234}, 'hours': {'isOpen': False, 'timeframes': [{'days': 'Thu–Fri', 'segments': [], 'open': [{'renderedTime': '6:00 PM–8:00 PM'}]}, {'days': 'Sat–Sun', 'segments': [], 'open': [{'renderedTime': '2:00 PM–8:00 PM'}]}], 'richStatus': {'text': 'Closed until 6:00 PM Thursday', 'entities': []}, 'dayData': [], 'isLocalHoliday': False, 'status': 'Closed until 6:00 PM Thursday'}, 'contact': {'formattedPhone': '(312) 226-1119', 'phone': '3122261119', 'twitter': 'gooseisland'}, 'ratingColor': '00B551', 'dislike': False, 'popular': {'isOpen': False, 'timeframes': [{'days': 'Today', 'segments': [], 'includesToday': True, 'open': [{'renderedTime': '6:00 AM–8:00 PM'}]}, {'days': 'Thu', 'segments': [], 'open': [{'renderedTime': '8:00 AM–7:00 PM'}]}, {'days': 'Fri', 'segments': [], 'open': [{'renderedTime': '7:00 AM–8:00 PM'}]}, {'days': 'Sat', 'segments': [], 'open': [{'renderedTime': 'Noon–8:00 PM'}]}, {'days': 'Sun', 'segments': [], 'open': [{'renderedTime': '11:00 AM–5:00 PM'}]}, {'days': 'Mon', 'segments': [], 'open': [{'renderedTime': '8:00 AM–11:00 AM'}]}, {'days': 'Tue', 'segments': [], 'open': [{'renderedTime': '7:00 AM–3:00 PM'}]}], 'isLocalHoliday': False}, 'photos': {'groups': [{'name': \"Friends' check-in photos\", 'count': 0, 'type': 'checkin', 'items': []}, {'name': 'Venue photos', 'count': 1056, 'type': 'venue', 'items': [{'visibility': 'public', 'suffix': '/8057060_mSAIh4qX8ty7QwdZA7x1Q6ZlSIOUBvHt4Ud3G2Afg28', 'id': '523e131011d26f01c68ca42e', 'width': 640, 'height': 640, 'prefix': 'https://igx.4sqi.net/img/general/', 'createdAt': 1379799824, 'user': {'lastName': 'Barker', 'gender': 'male', 'photo': {'prefix': 'https://igx.4sqi.net/img/user/', 'suffix': '/VX1HYGN4MVLSZTQU.jpg'}, 'firstName': 'Eric', 'id': '8057060'}, 'source': {'name': 'Untappd', 'url': 'https://untappd.com'}}, {'visibility': 'public', 'suffix': '/8129615_LwGxvGYCf2wfpH5A7h68d9kEhTsG4hkZXD8TlLLsOAQ.jpg', 'id': '50c72cd4e4b0c262e074ead0', 'width': 612, 'height': 612, 'prefix': 'https://igx.4sqi.net/img/general/', 'createdAt': 1355230420, 'user': {'lastName': 'BROWN', 'gender': 'male', 'photo': {'prefix': 'https://igx.4sqi.net/img/user/', 'suffix': '/JS1VMS2VZSZM4SBP.jpg'}, 'firstName': 'PATRICK', 'id': '8129615'}, 'source': {'name': 'Instagram', 'url': 'http://instagram.com'}}]}], 'count': 1056, 'summary': '0 photos'}, 'attributes': {'groups': [{'name': 'Price', 'count': 1, 'summary': '$$', 'type': 'price', 'items': [{'priceTier': 2, 'displayName': 'Price', 'displayValue': '$$'}]}, {'name': 'Credit Cards', 'count': 7, 'summary': 'Credit Cards', 'type': 'payments', 'items': [{'displayName': 'Credit Cards', 'displayValue': 'Yes'}]}, {'name': 'Outdoor Seating', 'count': 1, 'type': 'outdoorSeating', 'items': [{'displayName': 'Outdoor Seating', 'displayValue': 'No'}]}, {'name': 'Wi-Fi', 'count': 1, 'summary': 'Wi-Fi', 'type': 'wifi', 'items': [{'displayName': 'Wi-Fi', 'displayValue': 'Yes'}]}, {'name': 'Drinks', 'count': 5, 'summary': 'Beer & Full Bar', 'type': 'drinks', 'items': [{'displayName': 'Beer', 'displayValue': 'Beer'}, {'displayName': 'Full Bar', 'displayValue': 'Full Bar'}]}]}, 'rating': 9.5, 'url': 'http://www.gooseisland.com', 'price': {'tier': 2, 'message': 'Moderate', 'currency': '$'}, 'verified': True, 'timeZone': 'America/Chicago', 'createdAt': 1242832098, 'ok': False, 'allowMenuUrlEdit': True}}, 'meta': {'code': 200, 'requestId': '5bb464266a6071445a51a869'}}\n"
     ]
    },
    {
     "name": "stdout",
     "output_type": "stream",
     "text": [
      "{'response': {'venue': {'tips': {'groups': [{'name': 'All tips', 'count': 23, 'type': 'others', 'items': [{'text': 'Among the Park’s cool features are a pagoda-shaped pavilion, where you can catch a water taxi to downtown Chicago, and a unique railroad drawbridge.', 'likes': {'groups': [{'count': 21, 'type': 'others', 'items': []}], 'count': 21, 'summary': '21 likes'}, 'id': '4e70d193814dd2cb96250ba0', 'todo': {'count': 82}, 'logView': True, 'createdAt': 1316016531, 'disagreeCount': 0, 'url': 'http://bit.ly/121NnH', 'type': 'user', 'canonicalUrl': 'https://foursquare.com/item/4e70d193814dd2cb96250ba0', 'lang': 'en', 'user': {'photo': {'prefix': 'https://igx.4sqi.net/img/user/', 'suffix': '/JEBEI3ZWJ53R2G2W.jpg'}, 'gender': 'none', 'firstName': 'Explore Chicago', 'id': '238086', 'type': 'page'}, 'agreeCount': 21}, {'text': 'This 12-acre park was named after civic leader Ping Tom, who wanted to bring an outdoor gathering space to the Chinatown community.', 'likes': {'groups': [{'count': 14, 'type': 'others', 'items': []}], 'count': 14, 'summary': '14 likes'}, 'id': '4e70d181814dd2cb962508c5', 'todo': {'count': 4}, 'logView': True, 'createdAt': 1316016513, 'disagreeCount': 1, 'url': 'http://bit.ly/121NnH', 'type': 'user', 'canonicalUrl': 'https://foursquare.com/item/4e70d181814dd2cb962508c5', 'lang': 'en', 'user': {'photo': {'prefix': 'https://igx.4sqi.net/img/user/', 'suffix': '/JEBEI3ZWJ53R2G2W.jpg'}, 'gender': 'none', 'firstName': 'Explore Chicago', 'id': '238086', 'type': 'page'}, 'agreeCount': 14}]}], 'count': 23}, 'likes': {'groups': [{'count': 191, 'type': 'others', 'items': []}], 'count': 191, 'summary': '191 Likes'}, 'beenHere': {'marked': False, 'lastCheckinExpiredAt': 0, 'count': 0, 'unconfirmedCount': 0}, 'shortUrl': 'http://4sq.com/a6Wr2T', 'location': {'labeledLatLngs': [{'label': 'display', 'lng': -87.63448843530801, 'lat': 41.857115865186756}], 'city': 'Chicago', 'lng': -87.63448843530801, 'crossStreet': 'btwn Lumber St & Wentworth Ave', 'postalCode': '60616', 'cc': 'US', 'formattedAddress': ['300 W 19th St (btwn Lumber St & Wentworth Ave)', 'Chicago, IL 60616', 'United States'], 'state': 'IL', 'address': '300 W 19th St', 'lat': 41.857115865186756, 'country': 'United States'}, 'name': 'Ping Tom Memorial Park', 'pageUpdates': {'count': 1, 'items': []}, 'reasons': {'count': 1, 'items': [{'summary': 'Lots of people like this place', 'reasonName': 'rawLikesReason', 'type': 'general'}]}, 'ratingSignals': 215, 'rating': 9.5, 'categories': [{'pluralName': 'Parks', 'id': '4bf58dd8d48988d163941735', 'name': 'Park', 'primary': True, 'icon': {'prefix': 'https://ss3.4sqi.net/img/categories_v2/parks_outdoors/park_', 'suffix': '.png'}, 'shortName': 'Park'}], 'id': '4bbfae5eb492d13ad218a360', 'canonicalUrl': 'https://foursquare.com/v/ping-tom-memorial-park/4bbfae5eb492d13ad218a360', 'hereNow': {'groups': [], 'count': 0, 'summary': 'Nobody here'}, 'bestPhoto': {'visibility': 'public', 'suffix': '/20291_BJIF4-6LFUJS-mcuDwQ5Dp7_wK-ruec9WC6Oi1EB8nQ.jpg', 'id': '50a00ab0e4b057cac4e25c5c', 'width': 612, 'height': 612, 'prefix': 'https://igx.4sqi.net/img/general/', 'createdAt': 1352665776, 'source': {'name': 'Instagram', 'url': 'http://instagram.com'}}, 'verified': True, 'specials': {'count': 0, 'items': []}, 'inbox': {'count': 0, 'items': []}, 'stats': {'tipCount': 23}, 'listed': {'groups': [{'name': 'Lists from other people', 'count': 248, 'type': 'others', 'items': [{'photo': {'visibility': 'public', 'suffix': '/5ei4JpVRPj-laeQyMbr5YegOXbQsolnZXpIVeJ7tKaI.jpg', 'id': '4fb2ddcce4b0fb410b79e104', 'width': 540, 'height': 540, 'prefix': 'https://igx.4sqi.net/img/general/', 'createdAt': 1337122252, 'user': {'photo': {'prefix': 'https://igx.4sqi.net/img/user/', 'suffix': '/3XABHPYAFTRQWX2Z.jpg'}, 'gender': 'male', 'firstName': 'Niko', 'id': '27079687'}}, 'followers': {'count': 451}, 'description': 'Best sights, restaurants and historical landmarks not to be missed in Chicago Area. Enjoy!', 'updatedAt': 1467837815, 'type': 'others', 'public': True, 'listItems': {'count': 101, 'items': [{'photo': {'visibility': 'public', 'suffix': '/jPkih5k5c6mjEidFMdC35lucfj-g1xBTb9lJc6QRZFk.jpg', 'id': '4f9310ffe4b04b1ee1ea966d', 'width': 720, 'height': 540, 'prefix': 'https://igx.4sqi.net/img/general/', 'createdAt': 1335038207, 'user': {'lastName': 'Samson', 'gender': 'male', 'photo': {'prefix': 'https://igx.4sqi.net/img/user/', 'suffix': '/1QTQKIEBDIEEMASV.jpg'}, 'firstName': 'Ed', 'id': '19975633'}}, 'createdAt': 1337336567, 'id': 't4e70d193814dd2cb96250ba0'}]}, 'createdAt': 1337335926, 'name': '101 places to see in Chicago before you die', 'url': '/boke/list/101-places-to-see-in-chicago-before-you-die', 'editable': False, 'id': '4fb62076e4b0ce16f1869bd2', 'canonicalUrl': 'https://foursquare.com/boke/list/101-places-to-see-in-chicago-before-you-die', 'collaborative': False, 'user': {'lastName': 'Garrido', 'gender': 'male', 'photo': {'prefix': 'https://igx.4sqi.net/img/user/', 'suffix': '/356747-WQOTM2ASOIERONL3.jpg'}, 'firstName': 'Victor', 'id': '356747'}}, {'photo': {'visibility': 'public', 'suffix': '/R1VIBTLXTW4EK2W21GTA22D0C25H3BDQQB1LZCYFEBA05DKQ.jpg', 'id': '4dc9c9c240a3d0724980dddf', 'width': 537, 'height': 720, 'prefix': 'https://igx.4sqi.net/img/general/', 'createdAt': 1305070018, 'user': {'lastName': 'Higgins', 'gender': 'male', 'photo': {'prefix': 'https://igx.4sqi.net/img/user/', 'suffix': '/TJHYPONAXBPMNDIR.jpg'}, 'firstName': 'James', 'id': '641865'}}, 'followers': {'count': 582}, 'description': '', 'updatedAt': 1350016457, 'type': 'others', 'public': True, 'listItems': {'count': 41, 'items': [{'createdAt': 1316194599, 'id': 'v4bbfae5eb492d13ad218a360'}, {'photo': {'visibility': 'public', 'suffix': '/RSGG1VGJQCE1IN23BVFRQ3HXABLR105ALOVKKBFPHVDOX33R.jpg', 'id': '4e5aab11d164da2b277371a6', 'width': 540, 'height': 540, 'prefix': 'https://igx.4sqi.net/img/general/', 'createdAt': 1314564881, 'user': {'lastName': 'Tam', 'gender': 'female', 'photo': {'prefix': 'https://igx.4sqi.net/img/user/', 'suffix': '/H0SL5ZYETOEOHO24.jpg'}, 'firstName': 'MJ', 'id': '216608'}}, 'createdAt': 1316214604, 'id': 't4e70d193814dd2cb96250ba0'}]}, 'createdAt': 1316194599, 'name': 'Windy City', 'url': '/jrdraga/list/windy-city', 'editable': False, 'id': '4e7389277d8b051837fe224e', 'canonicalUrl': 'https://foursquare.com/jrdraga/list/windy-city', 'collaborative': False, 'user': {'photo': {'prefix': 'https://igx.4sqi.net/img/user/', 'suffix': '/SXQE5RMZJUHV3ELU.gif'}, 'gender': 'male', 'firstName': 'John', 'id': '3819171'}}]}], 'count': 248}, 'colors': {'highlightColor': {'value': -15200224, 'photoId': '50a00ab0e4b057cac4e25c5c'}, 'highlightTextColor': {'value': -1, 'photoId': '50a00ab0e4b057cac4e25c5c'}, 'algoVersion': 3}, 'contact': {'twitter': 'chicagoparks', 'facebookUsername': 'ChicagoParkDistrict', 'formattedPhone': '(312) 747-0291', 'phone': '3127470291', 'instagram': 'chicagoparks', 'facebook': '49690408710', 'facebookName': 'Chicago Park District'}, 'ratingColor': '00B551', 'dislike': False, 'popular': {'isOpen': False, 'timeframes': [{'days': 'Today', 'segments': [], 'includesToday': True, 'open': [{'renderedTime': '6:00 AM–8:00 AM'}, {'renderedTime': '11:00 AM–1:00 PM'}, {'renderedTime': '6:00 PM–9:00 PM'}]}, {'days': 'Thu', 'segments': [], 'open': [{'renderedTime': '11:00 AM–8:00 PM'}]}, {'days': 'Fri', 'segments': [], 'open': [{'renderedTime': '7:00 AM–8:00 AM'}, {'renderedTime': '11:00 AM–8:00 PM'}]}, {'days': 'Sat', 'segments': [], 'open': [{'renderedTime': '7:00 AM–9:00 PM'}]}, {'days': 'Sun', 'segments': [], 'open': [{'renderedTime': '9:00 AM–7:00 PM'}]}, {'days': 'Mon', 'segments': [], 'open': [{'renderedTime': '7:00 AM–8:00 AM'}, {'renderedTime': '11:00 AM–7:00 PM'}]}, {'days': 'Tue', 'segments': [], 'open': [{'renderedTime': '11:00 AM–2:00 PM'}, {'renderedTime': '6:00 PM–7:00 PM'}]}], 'isLocalHoliday': False}, 'photos': {'groups': [{'name': \"Friends' check-in photos\", 'count': 0, 'type': 'checkin', 'items': []}, {'name': 'Venue photos', 'count': 273, 'type': 'venue', 'items': [{'visibility': 'public', 'suffix': '/20291_BJIF4-6LFUJS-mcuDwQ5Dp7_wK-ruec9WC6Oi1EB8nQ.jpg', 'id': '50a00ab0e4b057cac4e25c5c', 'width': 612, 'height': 612, 'prefix': 'https://igx.4sqi.net/img/general/', 'createdAt': 1352665776, 'user': {'lastName': 'J', 'gender': 'male', 'photo': {'prefix': 'https://igx.4sqi.net/img/user/', 'suffix': '/QUGXU3BSMPXOYYQ0.jpg'}, 'firstName': 'Brian', 'id': '20291'}, 'source': {'name': 'Instagram', 'url': 'http://instagram.com'}}, {'visibility': 'public', 'suffix': '/149054_JC-qWzDFVtmEGOMMbxj40q-9J-M1GRIUqhnYxHf44-E.jpg', 'id': '51fabe89498ee1895b97e58a', 'width': 960, 'height': 720, 'prefix': 'https://igx.4sqi.net/img/general/', 'createdAt': 1375387273, 'user': {'lastName': 'Chan', 'gender': 'male', 'photo': {'prefix': 'https://igx.4sqi.net/img/user/', 'suffix': '/XGE3KXIVLE2AQN13.jpg'}, 'firstName': 'Jason', 'id': '149054'}, 'source': {'name': 'Foursquare for iOS', 'url': 'https://foursquare.com/download/#/iphone'}}]}], 'count': 273, 'summary': '0 photos'}, 'attributes': {'groups': []}, 'page': {'pageInfo': {'banner': 'https://is1.4sqi.net/userpix/OB2ISIMJDUS4WARU.jpg', 'description': 'The Chicago Park District manages 8100 acres of green space, 592 parks, 26 miles of lakefront, 10 museums, 50 nature areas, & hundreds of programs & events.', 'links': {'count': 1, 'items': [{'url': 'http://www.chicagoparkdistrict.com'}]}}, 'user': {'photo': {'prefix': 'https://igx.4sqi.net/img/user/', 'suffix': '/TCCM0SNSYKZPLOBQ.jpg'}, 'tips': {'count': 96}, 'bio': '', 'homeCity': 'Chicago, IL', 'firstName': 'Chicago Park District', 'id': '14923118', 'type': 'chain', 'contact': {}, 'gender': 'none', 'lists': {'groups': [{'count': 9, 'type': 'created', 'items': []}]}}}, 'url': 'http://chicagoparkdistrict.com', 'storeId': '', 'timeZone': 'America/Chicago', 'createdAt': 1270853214, 'ok': False}}, 'meta': {'code': 200, 'requestId': '5bb46426db04f5786a2e68b8'}}\n"
     ]
    },
    {
     "name": "stdout",
     "output_type": "stream",
     "text": [
      "{'response': {'venue': {'tips': {'groups': [{'name': 'All tips', 'count': 31, 'type': 'others', 'items': [{'text': 'Negronis on tap!', 'likes': {'groups': [{'count': 5, 'type': 'others', 'items': [{'lastName': 'Beatty', 'gender': 'male', 'photo': {'prefix': 'https://igx.4sqi.net/img/user/', 'suffix': '/89222746-GBFITCLLIX3O4J4O.jpg'}, 'firstName': 'Gavin', 'id': '89222746'}, {'lastName': 'Joseph', 'gender': 'male', 'photo': {'prefix': 'https://igx.4sqi.net/img/user/', 'suffix': '/QQUX4UTSZFU2VJ4W.jpg'}, 'firstName': 'Aaron', 'id': '2697398'}, {'lastName': 'P', 'gender': 'male', 'photo': {'prefix': 'https://igx.4sqi.net/img/user/', 'suffix': '/15177637-RL4BCL1UKDZ1U1FE.jpg'}, 'firstName': 'Kevin', 'id': '15177637'}, {'lastName': 'F', 'gender': 'male', 'photo': {'prefix': 'https://igx.4sqi.net/img/user/', 'suffix': '/LVITBUITADZS2R4E.jpg'}, 'firstName': 'Adam', 'id': '4684735'}]}], 'count': 5, 'summary': '5 likes'}, 'agreeCount': 5, 'id': '5392630d498e29ee4ea600ac', 'todo': {'count': 0}, 'createdAt': 1402102541, 'disagreeCount': 0, 'type': 'user', 'canonicalUrl': 'https://foursquare.com/item/5392630d498e29ee4ea600ac', 'lang': 'en', 'user': {'lastName': 'Isaia', 'gender': 'female', 'photo': {'prefix': 'https://igx.4sqi.net/img/user/', 'suffix': '/KVBXAV5QUWUOYL1R.jpg'}, 'firstName': 'Bridget', 'id': '2631152'}, 'logView': True}, {'text': \"Best venue in Chicago and 2nd place isn't close.\", 'likes': {'groups': [{'count': 1, 'type': 'others', 'items': [{'lastName': 'Rock', 'gender': 'male', 'photo': {'prefix': 'https://igx.4sqi.net/img/user/', 'suffix': '/blank_boy.png', 'default': True}, 'firstName': 'Charlie', 'id': '375466383'}]}], 'count': 1, 'summary': '1 like'}, 'agreeCount': 3, 'id': '58fd579a35dfa763d5b52582', 'todo': {'count': 0}, 'createdAt': 1492998042, 'authorInteractionType': 'liked', 'disagreeCount': 0, 'type': 'user', 'canonicalUrl': 'https://foursquare.com/item/58fd579a35dfa763d5b52582', 'lang': 'en', 'user': {'lastName': 'm', 'gender': 'male', 'photo': {'prefix': 'https://igx.4sqi.net/img/user/', 'suffix': '/169953_rEWAUPqC_FyCTl9d1zZ8_GS1NRFwWtMFaEsdG8zX1VYsiX83ocW-pdKW7v1-kOmeON4zkmPno.jpg'}, 'firstName': 'ben', 'id': '169953'}, 'logView': True}]}], 'count': 31}, 'colors': {'highlightColor': {'value': -15198184, 'photoId': '5385017a498e7c04763a099d'}, 'highlightTextColor': {'value': -1, 'photoId': '5385017a498e7c04763a099d'}, 'algoVersion': 3}, 'likes': {'groups': [{'count': 227, 'type': 'others', 'items': []}], 'count': 227, 'summary': '227 Likes'}, 'beenHere': {'marked': False, 'lastCheckinExpiredAt': 0, 'count': 0, 'unconfirmedCount': 0}, 'shortUrl': 'http://4sq.com/cOitYO', 'location': {'labeledLatLngs': [{'label': 'display', 'lng': -87.65729185972937, 'lat': 41.85783222480576}], 'city': 'Chicago', 'lng': -87.65729185972937, 'crossStreet': 'at 18th St', 'postalCode': '60608', 'cc': 'US', 'formattedAddress': ['1807 S Allport St (at 18th St)', 'Chicago, IL 60608', 'United States'], 'state': 'IL', 'address': '1807 S Allport St', 'lat': 41.85783222480576, 'country': 'United States'}, 'name': 'Thalia Hall', 'pageUpdates': {'count': 0, 'items': []}, 'reasons': {'count': 1, 'items': [{'summary': 'Lots of people like this place', 'reasonName': 'rawLikesReason', 'type': 'general'}]}, 'ratingSignals': 263, 'categories': [{'pluralName': 'Rock Clubs', 'id': '4bf58dd8d48988d1e9931735', 'name': 'Rock Club', 'primary': True, 'icon': {'prefix': 'https://ss3.4sqi.net/img/categories_v2/arts_entertainment/musicvenue_rockclub_', 'suffix': '.png'}, 'shortName': 'Rock Club'}, {'name': 'Performing Arts Venue', 'pluralName': 'Performing Arts Venues', 'icon': {'prefix': 'https://ss3.4sqi.net/img/categories_v2/arts_entertainment/performingarts_', 'suffix': '.png'}, 'id': '4bf58dd8d48988d1f2931735', 'shortName': 'Performing Arts'}], 'id': '4b6cfef5f964a52026622ce3', 'canonicalUrl': 'https://foursquare.com/v/thalia-hall/4b6cfef5f964a52026622ce3', 'hereNow': {'groups': [], 'count': 0, 'summary': 'Nobody here'}, 'bestPhoto': {'visibility': 'public', 'suffix': '/11673614_MBGwie357dDSnQYmzlhd94WP_xt_NMAWkLpbNBj37C4.jpg', 'id': '5385017a498e7c04763a099d', 'width': 720, 'height': 720, 'prefix': 'https://igx.4sqi.net/img/general/', 'createdAt': 1401225594, 'source': {'name': 'Foursquare for iOS', 'url': 'https://foursquare.com/download/#/iphone'}}, 'specials': {'count': 0, 'items': []}, 'description': \"Thalia Hall has two restaurants and an event space. The restaurant on the ground floor is called Dusek's. While the bar in the basement is called Punch House\", 'stats': {'tipCount': 31}, 'listed': {'groups': [{'name': 'Lists from other people', 'count': 67, 'type': 'others', 'items': [{'photo': {'visibility': 'public', 'suffix': '/20291_BJIF4-6LFUJS-mcuDwQ5Dp7_wK-ruec9WC6Oi1EB8nQ.jpg', 'id': '50a00ab0e4b057cac4e25c5c', 'width': 612, 'height': 612, 'prefix': 'https://igx.4sqi.net/img/general/', 'createdAt': 1352665776, 'user': {'lastName': 'J', 'gender': 'male', 'photo': {'prefix': 'https://igx.4sqi.net/img/user/', 'suffix': '/QUGXU3BSMPXOYYQ0.jpg'}, 'firstName': 'Brian', 'id': '20291'}}, 'followers': {'count': 1}, 'description': '', 'updatedAt': 1535810282, 'type': 'others', 'public': True, 'listItems': {'count': 110, 'items': [{'createdAt': 1462162384, 'id': 'v4b6cfef5f964a52026622ce3'}]}, 'createdAt': 1428904484, 'name': 'Chicagoland', 'url': '/burgerplex1/list/chicagoland', 'editable': False, 'id': '552b5a24498e9a1dc1041050', 'canonicalUrl': 'https://foursquare.com/burgerplex1/list/chicagoland', 'collaborative': False, 'user': {'photo': {'prefix': 'https://igx.4sqi.net/img/user/', 'suffix': '/KX4IBWMCTM5LSSA3.jpg'}, 'gender': 'male', 'firstName': 'Ryan', 'id': '6622657'}}, {'photo': {'visibility': 'public', 'suffix': '/1517802_juj4olP_KuADChnMGxmgvCKPXr5x-Q2wWklgIdSPsNQ.jpg', 'id': '51a10ac4498eab4b3f1b95ea', 'width': 960, 'height': 720, 'prefix': 'https://igx.4sqi.net/img/general/', 'createdAt': 1369508548, 'user': {'lastName': 'Leung', 'gender': 'female', 'photo': {'prefix': 'https://igx.4sqi.net/img/user/', 'suffix': '/VDOVTHJBQABBGNS0.jpg'}, 'firstName': 'Sandy', 'id': '1517802'}}, 'followers': {'count': 1}, 'description': '', 'updatedAt': 1520977518, 'type': 'others', 'public': True, 'listItems': {'count': 84, 'items': [{'createdAt': 1519604094, 'id': 'v4b6cfef5f964a52026622ce3'}]}, 'createdAt': 1516205937, 'name': 'Work Away', 'url': '/user/146924068/list/work-away', 'editable': False, 'id': '5a5f777167af3a1552d6995c', 'canonicalUrl': 'https://foursquare.com/user/146924068/list/work-away', 'collaborative': True, 'user': {'lastName': 'Etherington', 'gender': 'male', 'photo': {'prefix': 'https://igx.4sqi.net/img/user/', 'suffix': '/146924068-GK1BOWYM0HM31G2Q.jpg'}, 'firstName': 'George', 'id': '146924068'}}, {'photo': {'visibility': 'public', 'suffix': '/525813_pp6yzZy4G_EqLz4sDsAaSeJ049PbU1SrgdY3JcNuLDw.jpg', 'id': '517d90d1e4b0ea42239ebc68', 'width': 612, 'height': 612, 'prefix': 'https://igx.4sqi.net/img/general/', 'createdAt': 1367183569, 'user': {'lastName': 'Rey', 'gender': 'female', 'photo': {'prefix': 'https://igx.4sqi.net/img/user/', 'suffix': '/AU2C0SJKGNE0IHN3.jpg'}, 'firstName': 'Vanesa', 'id': '525813'}}, 'followers': {'count': 2}, 'description': '', 'updatedAt': 1538002954, 'type': 'others', 'public': True, 'listItems': {'count': 295, 'items': [{'createdAt': 1484855737, 'id': 'v4b6cfef5f964a52026622ce3'}]}, 'createdAt': 1484372012, 'name': 'Chicago', 'url': '/danielknisley/list/chicago', 'editable': False, 'id': '5879b82cb6e67d6485d1f99f', 'canonicalUrl': 'https://foursquare.com/danielknisley/list/chicago', 'collaborative': False, 'user': {'lastName': 'Knisley', 'gender': 'male', 'photo': {'prefix': 'https://igx.4sqi.net/img/user/', 'suffix': '/1803282-LDS4MOSEAXM2YKL1.jpg'}, 'firstName': 'Dan', 'id': '1803282'}}, {'photo': {'visibility': 'public', 'suffix': '/23438729_lbCPNI7fv7oObjs1-UJiE0VVcJYdoww_Vh7AwQVcZ_4.jpg', 'id': '588a58de4816f0248b8f5611', 'width': 960, 'height': 960, 'prefix': 'https://igx.4sqi.net/img/general/', 'createdAt': 1485461726, 'user': {'photo': {'prefix': 'https://igx.4sqi.net/img/user/', 'suffix': '/23438729-TODURDIUDUMY4JF5.png'}, 'gender': 'none', 'firstName': 'Foursquare City Guide', 'id': '23438729', 'type': 'page'}}, 'followers': {'count': 8}, 'description': 'Staying ahead of trends has kept you far away from the dating pool. Here are some of the best venues in Chicago to meet other hip singles.', 'updatedAt': 1486498847, 'type': 'others', 'public': True, 'listItems': {'count': 20, 'items': [{'photo': {'visibility': 'public', 'suffix': '/15652331_pt5rk8vFrnVZq119KLhKajVmWKQ6kBpy1GbwUlfrokE.jpg', 'id': '588bef78326c5a6c30d6d3c6', 'width': 1920, 'height': 1440, 'prefix': 'https://igx.4sqi.net/img/general/', 'createdAt': 1485565816, 'user': {'lastName': 'Sturgis', 'gender': 'female', 'photo': {'prefix': 'https://igx.4sqi.net/img/user/', 'suffix': '/15652331_h1ITYOU0_XdtsuO-vKo5LII5CF59tSrf5Y8b34R2kItzqs5A5TtiZPBiYIvSunScK64cm0Nef.jpg'}, 'firstName': 'Amber', 'id': '15652331'}}, 'createdAt': 1485896636, 'id': 't541f5050498e9f1c1101ead4'}]}, 'createdAt': 1485893274, 'name': 'Meet Your Match in CHI: Indie Aficionados', 'logView': True, 'url': '/foursquare/list/meet-your-match-in-chi-indie-aficionados', 'editable': False, 'id': '5890ee9a4f106911fd438442', 'canonicalUrl': 'https://foursquare.com/foursquare/list/meet-your-match-in-chi-indie-aficionados', 'collaborative': False, 'user': {'photo': {'prefix': 'https://igx.4sqi.net/img/user/', 'suffix': '/23438729-TODURDIUDUMY4JF5.png'}, 'gender': 'none', 'firstName': 'Foursquare City Guide', 'id': '23438729', 'type': 'page'}}]}], 'count': 67}, 'inbox': {'count': 0, 'items': []}, 'contact': {}, 'ratingColor': '00B551', 'dislike': False, 'popular': {'isOpen': False, 'timeframes': [{'days': 'Today', 'segments': [], 'includesToday': True, 'open': [{'renderedTime': '6:00 PM–11:00 PM'}]}, {'days': 'Thu–Fri', 'segments': [], 'open': [{'renderedTime': '6:00 PM–Midnight'}]}, {'days': 'Sat', 'segments': [], 'open': [{'renderedTime': '3:00 PM–Midnight'}]}, {'days': 'Sun', 'segments': [], 'open': [{'renderedTime': '4:00 PM–10:00 PM'}]}, {'days': 'Mon', 'segments': [], 'open': [{'renderedTime': '7:00 PM–10:00 PM'}]}, {'days': 'Tue', 'segments': [], 'open': [{'renderedTime': '7:00 PM–11:00 PM'}]}], 'isLocalHoliday': False}, 'photos': {'groups': [{'name': \"Friends' check-in photos\", 'count': 0, 'type': 'checkin', 'items': []}, {'name': 'Venue photos', 'count': 476, 'type': 'venue', 'items': [{'visibility': 'public', 'suffix': '/11673614_MBGwie357dDSnQYmzlhd94WP_xt_NMAWkLpbNBj37C4.jpg', 'id': '5385017a498e7c04763a099d', 'width': 720, 'height': 720, 'prefix': 'https://igx.4sqi.net/img/general/', 'createdAt': 1401225594, 'user': {'photo': {'prefix': 'https://igx.4sqi.net/img/user/', 'suffix': '/B2PZTP5HSOKXOAOG.jpg'}, 'gender': 'female', 'firstName': 'Susanne', 'id': '11673614'}, 'source': {'name': 'Foursquare for iOS', 'url': 'https://foursquare.com/download/#/iphone'}}, {'visibility': 'public', 'suffix': '/6553864_hhJiCivhW_T9KKb22IxRM9-wGHhtU9lWdcC40qV_NHw.jpg', 'id': '543f1f22498ef76e1a20f155', 'width': 960, 'height': 720, 'prefix': 'https://igx.4sqi.net/img/general/', 'createdAt': 1413422882, 'user': {'lastName': 'B.', 'gender': 'male', 'photo': {'prefix': 'https://igx.4sqi.net/img/user/', 'suffix': '/4Z40HVBNYMPXY1FO.jpg'}, 'firstName': 'Ernest', 'id': '6553864'}, 'source': {'name': 'Swarm for iOS', 'url': 'https://www.swarmapp.com'}}]}], 'count': 476, 'summary': '0 photos'}, 'attributes': {'groups': []}, 'rating': 9.5, 'url': 'http://thaliahallchicago.com', 'verified': False, 'timeZone': 'America/Chicago', 'createdAt': 1265434357, 'ok': False, 'allowMenuUrlEdit': True}}, 'meta': {'code': 200, 'requestId': '5bb464266a6071445fa2a76e'}}\n"
     ]
    },
    {
     "name": "stdout",
     "output_type": "stream",
     "text": [
      "{'response': {'venue': {'tips': {'groups': [{'name': 'All tips', 'count': 91, 'type': 'others', 'items': [{'photo': {'visibility': 'public', 'suffix': '/92078275_tGR0uaSOJNVzgYzCs9RTkHUYBtoh2E0oaO4tDbI5QcY.jpg', 'id': '54396c63498ec6b45bd054a1', 'width': 4320, 'height': 2432, 'prefix': 'https://igx.4sqi.net/img/general/', 'createdAt': 1413049443, 'source': {'name': 'Foursquare for Android', 'url': 'https://foursquare.com/download/#/android'}}, 'text': 'Enchilada with a Fried Egg was awesome, so was the Pozole.', 'likes': {'groups': [{'count': 3, 'type': 'others', 'items': [{'lastName': 'Burts', 'gender': 'female', 'photo': {'prefix': 'https://igx.4sqi.net/img/user/', 'suffix': '/110192223-UF5IWGBVTOAYAHZF.jpg'}, 'firstName': 'Torkwase', 'id': '110192223'}, {'lastName': 'Chmielewski', 'gender': 'male', 'photo': {'prefix': 'https://igx.4sqi.net/img/user/', 'suffix': '/XONHT4Q2ONZQKR43.jpg'}, 'firstName': 'Brad', 'id': '33190'}]}], 'count': 3, 'summary': '3 likes'}, 'agreeCount': 3, 'photourl': 'https://igx.4sqi.net/img/general/original/92078275_tGR0uaSOJNVzgYzCs9RTkHUYBtoh2E0oaO4tDbI5QcY.jpg', 'id': '54396c4b498ea02339b9b8a3', 'todo': {'count': 1}, 'createdAt': 1413049419, 'authorInteractionType': 'liked', 'logView': True, 'type': 'user', 'canonicalUrl': 'https://foursquare.com/item/54396c4b498ea02339b9b8a3', 'lang': 'en', 'disagreeCount': 0, 'user': {'lastName': 'Gonzalez', 'gender': 'male', 'photo': {'prefix': 'https://igx.4sqi.net/img/user/', 'suffix': '/92078275-4HHMZU4U0HRJOR55.jpg'}, 'firstName': 'Eduardo', 'id': '92078275'}}, {'text': 'The brisket taco was amazing - sip on the Sixth Stairstep with it.', 'likes': {'groups': [{'count': 2, 'type': 'others', 'items': [{'lastName': 'Hehrmann', 'gender': 'male', 'photo': {'prefix': 'https://igx.4sqi.net/img/user/', 'suffix': '/95804-MGFMRF1HRODYBHHK.jpg'}, 'firstName': 'Erik', 'id': '95804'}]}], 'count': 2, 'summary': '2 likes'}, 'agreeCount': 2, 'id': '549db5fd498e4a8012896163', 'todo': {'count': 0}, 'createdAt': 1419621885, 'authorInteractionType': 'liked', 'disagreeCount': 0, 'type': 'user', 'canonicalUrl': 'https://foursquare.com/item/549db5fd498e4a8012896163', 'lang': 'en', 'user': {'lastName': 'Aldridge', 'gender': 'female', 'photo': {'prefix': 'https://igx.4sqi.net/img/user/', 'suffix': '/4a8ad6359e175.jpg'}, 'firstName': 'Grace', 'id': '34074'}, 'logView': True}]}], 'count': 91}, 'colors': {'highlightColor': {'value': -12574720, 'photoId': '5621aa94498e86800df8a7f4'}, 'highlightTextColor': {'value': -1, 'photoId': '5621aa94498e86800df8a7f4'}, 'algoVersion': 3}, 'likes': {'groups': [{'count': 355, 'type': 'others', 'items': []}], 'count': 355, 'summary': '355 Likes'}, 'beenHere': {'marked': False, 'lastCheckinExpiredAt': 0, 'count': 0, 'unconfirmedCount': 0}, 'shortUrl': 'http://4sq.com/1qiyBCN', 'location': {'labeledLatLngs': [{'label': 'display', 'lng': -87.67744655553935, 'lat': 41.90952359487261}], 'crossStreet': 'btwn Milwaukee Ave & Wicker Park Ave', 'postalCode': '60622', 'formattedAddress': ['1545 N Damen Ave (btwn Milwaukee Ave & Wicker Park Ave)', 'Chicago, IL 60622', 'United States'], 'city': 'Chicago', 'lng': -87.67744655553935, 'neighborhood': 'Wicker Park', 'cc': 'US', 'state': 'IL', 'address': '1545 N Damen Ave', 'lat': 41.90952359487261, 'country': 'United States'}, 'name': \"Dove's Luncheonette\", 'pageUpdates': {'count': 0, 'items': []}, 'reasons': {'count': 1, 'items': [{'summary': 'Lots of people like this place', 'reasonName': 'rawLikesReason', 'type': 'general'}]}, 'ratingSignals': 446, 'categories': [{'pluralName': 'Diners', 'id': '4bf58dd8d48988d147941735', 'name': 'Diner', 'primary': True, 'icon': {'prefix': 'https://ss3.4sqi.net/img/categories_v2/food/diner_', 'suffix': '.png'}, 'shortName': 'Diner'}, {'name': 'Tex-Mex Restaurant', 'pluralName': 'Tex-Mex Restaurants', 'icon': {'prefix': 'https://ss3.4sqi.net/img/categories_v2/food/mexican_', 'suffix': '.png'}, 'id': '56aa371ae4b08b9a8d5734ba', 'shortName': 'Tex-Mex'}], 'delivery': {'provider': {'name': 'grubhub', 'icon': {'name': '/delivery_provider_grubhub_20180129.png', 'sizes': [40, 50], 'prefix': 'https://igx.4sqi.net/img/general/cap/'}}, 'url': 'https://www.grubhub.com/restaurant/doves-luncheonette-1545-n-damen-ave-chicago/758386?affiliate=1131&utm_source=foursquare-affiliate-network&utm_medium=affiliate&utm_campaign=1131&utm_content=758386', 'id': '758386'}, 'id': '541c39ff498ee385598bdfff', 'canonicalUrl': 'https://foursquare.com/v/doves-luncheonette/541c39ff498ee385598bdfff', 'hereNow': {'groups': [], 'count': 0, 'summary': 'Nobody here'}, 'bestPhoto': {'visibility': 'public', 'suffix': '/18729_gdwS47-plJ9cittmCEFnvb3oPdYX82FzvVjMeP7Ni3c.jpg', 'id': '5621aa94498e86800df8a7f4', 'width': 1080, 'height': 935, 'prefix': 'https://igx.4sqi.net/img/general/', 'createdAt': 1445046932, 'source': {'name': 'Instagram', 'url': 'http://instagram.com'}}, 'specials': {'count': 0, 'items': []}, 'inbox': {'count': 0, 'items': []}, 'stats': {'tipCount': 91}, 'listed': {'groups': [{'name': 'Lists from other people', 'count': 632, 'type': 'others', 'items': [{'photo': {'visibility': 'public', 'suffix': '/51451578_bhkttwVbmI9NvVFhImKW1Q-AS2l2-_787wqkN_rLmw4.jpg', 'id': '51db17a7498e7cc852e3875f', 'width': 540, 'height': 960, 'prefix': 'https://igx.4sqi.net/img/general/', 'createdAt': 1373312935, 'user': {'lastName': 'S.', 'gender': 'female', 'photo': {'prefix': 'https://igx.4sqi.net/img/user/', 'suffix': '/TKYD2JSYVPFHTDGN.jpg'}, 'firstName': 'Judy', 'id': '51451578'}}, 'guide': True, 'description': \"Genuine. Down-to-Earth. Authentic. Chicago wouldn't be the great city it is without these attributes. That's why we've pulled together 15 of the most authentic places in the Windy City.\", 'updatedAt': 1459555444, 'type': 'others', 'followers': {'count': 117}, 'public': True, 'listItems': {'count': 15, 'items': [{'photo': {'visibility': 'public', 'suffix': '/1989581_UMRhkABic_epH-NOOPlW4z3BkqivxbK-zJ7Cwl7Gjkg.jpg', 'id': '555b9bf8498e61ce76029465', 'width': 1440, 'height': 1440, 'prefix': 'https://igx.4sqi.net/img/general/', 'createdAt': 1432067064, 'user': {'lastName': 'Capulli', 'gender': 'male', 'photo': {'prefix': 'https://igx.4sqi.net/img/user/', 'suffix': '/1989581-MP13RZSHFJQYBSEY.jpg'}, 'firstName': 'Michael', 'id': '1989581'}}, 'createdAt': 1432160124, 'id': 't553faadc498ed513e05ea97f'}]}, 'createdAt': 1432160094, 'name': '15 Best Authentic Places in Chicago', 'logView': True, 'url': '/foursquare/list/15-best-authentic-places-in-chicago', 'editable': False, 'id': '555d075e498e4e085f0dc5f8', 'canonicalUrl': 'https://foursquare.com/foursquare/list/15-best-authentic-places-in-chicago', 'collaborative': False, 'guideType': 'bestOf', 'user': {'photo': {'prefix': 'https://igx.4sqi.net/img/user/', 'suffix': '/23438729-TODURDIUDUMY4JF5.png'}, 'gender': 'none', 'firstName': 'Foursquare City Guide', 'id': '23438729', 'type': 'page'}}, {'photo': {'visibility': 'public', 'suffix': '/67327_fPSYqjd4jEj_BRfmduyoEYrBuPkVYXi_Ld69htnu7fs.jpg', 'id': '526995de11d284220c309e50', 'width': 612, 'height': 612, 'prefix': 'https://igx.4sqi.net/img/general/', 'createdAt': 1382651358, 'user': {'lastName': 'Hauck', 'gender': 'male', 'photo': {'prefix': 'https://igx.4sqi.net/img/user/', 'suffix': '/ZTFSNFUDCFKYVKB2.jpg'}, 'firstName': 'Clayton', 'id': '67327'}}, 'guide': True, 'description': 'This highly elite group covers the entire city, spans myriad cuisines and collectively satisfies all of your restaurant needs.', 'updatedAt': 1484769001, 'type': 'others', 'followers': {'count': 2502}, 'public': True, 'listItems': {'count': 38, 'items': [{'photo': {'visibility': 'public', 'suffix': '/3343327_JlxudqF6Gqyh5rbnXdo9BcVeEfDCmYI2PsCS6yLucwc.png', 'id': '572d2d20498e8a4cd786641f', 'width': 481, 'height': 363, 'prefix': 'https://igx.4sqi.net/img/general/', 'createdAt': 1462578464, 'user': {'photo': {'prefix': 'https://igx.4sqi.net/img/user/', 'suffix': '/3343327-YQ1D52V3KK2RQLBU.png'}, 'gender': 'none', 'firstName': 'Eater', 'id': '3343327', 'type': 'page'}}, 'createdAt': 1462561280, 'id': 't572ce2dacd10fabe8aabed42'}]}, 'readMoreUrl': 'http://chicago.eater.com/maps/best-chicago-restaurants-38', 'createdAt': 1311790671, 'name': 'The 38 Essential Chicago Restaurants, Winter 2017', 'logView': True, 'url': '/p/eater/3343327/list/the-38-essential-chicago-restaurants-winter-2017', 'editable': False, 'id': '4e30564fb61c88c3a7a19935', 'canonicalUrl': 'https://foursquare.com/p/eater/3343327/list/the-38-essential-chicago-restaurants-winter-2017', 'collaborative': False, 'guideType': 'bestOf', 'user': {'photo': {'prefix': 'https://igx.4sqi.net/img/user/', 'suffix': '/3343327-YQ1D52V3KK2RQLBU.png'}, 'gender': 'none', 'firstName': 'Eater', 'id': '3343327', 'type': 'page'}}, {'photo': {'visibility': 'public', 'suffix': '/NU3TV1Q41FQAVET55OI2Q4NZRGJEYLDD25UO1PSYLUT45NYM.jpg', 'id': '4eb813d393ad23657145b145', 'width': 612, 'height': 612, 'prefix': 'https://igx.4sqi.net/img/general/', 'createdAt': 1320686547, 'user': {'lastName': 'Raizin', 'gender': 'female', 'photo': {'prefix': 'https://igx.4sqi.net/img/user/', 'suffix': '/3701-CNBMCKK2ZSXIOGSF.jpg'}, 'firstName': 'Ali', 'id': '3701'}}, 'followers': {'count': 101}, 'description': 'Awesome restaurants around Chicagoland. Get on it!', 'updatedAt': 1469728384, 'type': 'others', 'public': True, 'listItems': {'count': 162, 'items': [{'photo': {'visibility': 'public', 'suffix': '/3406076_o5pg6c0O0uSRkQsVqQ7lzwMPJYVe0ZBm1mBckUUfBLg.jpg', 'id': '5755d84e498e7dd8f685678c', 'width': 1440, 'height': 1920, 'prefix': 'https://igx.4sqi.net/img/general/', 'createdAt': 1465243726, 'user': {'photo': {'prefix': 'https://igx.4sqi.net/img/user/', 'suffix': '/3406076-34BK5JMK45X4XWG1.jpg'}, 'gender': 'female', 'firstName': 'JenKudu', 'id': '3406076'}}, 'createdAt': 1466713704, 'id': 'v541c39ff498ee385598bdfff'}]}, 'createdAt': 1321057555, 'name': 'Chicago Food Love', 'url': '/user/865008/list/chicago-food-love', 'editable': False, 'id': '4ebdbd1377c885a64d7e6f92', 'canonicalUrl': 'https://foursquare.com/user/865008/list/chicago-food-love', 'collaborative': False, 'user': {'lastName': 'Hanscel', 'gender': 'male', 'photo': {'prefix': 'https://igx.4sqi.net/img/user/', 'suffix': '/OZCNASDDZPQDFR3J.jpg'}, 'firstName': 'Brian', 'id': '865008'}}, {'photo': {'visibility': 'public', 'suffix': '/1524782_AyAAsgsJozTm4gQrmx9C-nUYlYk1sTPNa9rsjJ2TmnI.jpg', 'id': '513c9d25e4b06a87059bc8ea', 'width': 720, 'height': 960, 'prefix': 'https://igx.4sqi.net/img/general/', 'createdAt': 1362926885, 'user': {'lastName': 'Bonewald', 'gender': 'male', 'photo': {'prefix': 'https://igx.4sqi.net/img/user/', 'suffix': '/SZVZX00YZGKW33YU.jpg'}, 'firstName': 'Jim', 'id': '1524782'}}, 'guide': True, 'description': \"They say classics never go out of style, and when it comes to the food at these diners, we couldn't agree more. Get your comfort food fix at these top rated spots across the country.\", 'updatedAt': 1526582935, 'type': 'others', 'followers': {'count': 230}, 'public': True, 'listItems': {'count': 45, 'items': [{'photo': {'visibility': 'public', 'suffix': '/18729_aMR914HxDXVN1xYcGmFwNhVPRFUtxHCKtbvcALGTuwg.jpg', 'id': '5621c4ee498e9d3f6ca9d2b6', 'width': 1080, 'height': 849, 'prefix': 'https://igx.4sqi.net/img/general/', 'createdAt': 1445053678, 'user': {'photo': {'prefix': 'https://igx.4sqi.net/img/user/', 'suffix': '/SYRC0UP1UTZ3QUIH.jpg'}, 'gender': 'female', 'firstName': 'e*starLA', 'id': '18729'}}, 'createdAt': 1477072762, 'id': 't572246e5498eaecb7b00371b'}]}, 'createdAt': 1438893472, 'name': \"America's Best Diners\", 'logView': True, 'url': '/foursquare/list/americas-best-diners', 'editable': False, 'id': '55c3c5a0498e69107a528a8c', 'canonicalUrl': 'https://foursquare.com/foursquare/list/americas-best-diners', 'collaborative': False, 'guideType': 'bestOf', 'user': {'photo': {'prefix': 'https://igx.4sqi.net/img/user/', 'suffix': '/23438729-TODURDIUDUMY4JF5.png'}, 'gender': 'none', 'firstName': 'Foursquare City Guide', 'id': '23438729', 'type': 'page'}}]}], 'count': 632}, 'hours': {'isOpen': False, 'timeframes': [{'days': 'Mon–Thu', 'segments': [], 'includesToday': True, 'open': [{'renderedTime': '9:00 AM–9:00 PM'}]}, {'days': 'Fri–Sat', 'segments': [], 'open': [{'renderedTime': '8:00 AM–10:00 PM'}]}, {'days': 'Sun', 'segments': [], 'open': [{'renderedTime': '8:00 AM–9:00 PM'}]}], 'richStatus': {'text': 'Closed until 9:00 AM', 'entities': []}, 'dayData': [], 'isLocalHoliday': False, 'status': 'Closed until 9:00 AM'}, 'contact': {'twitter': 'doveschicago', 'facebookUsername': 'DovesChicago', 'formattedPhone': '(773) 645-4060', 'phone': '7736454060', 'instagram': 'doveschicago', 'facebook': '315067101982846', 'facebookName': \"Dove's Luncheonette\"}, 'ratingColor': '00B551', 'dislike': False, 'popular': {'isOpen': False, 'timeframes': [{'days': 'Today', 'segments': [], 'includesToday': True, 'open': [{'renderedTime': '11:00 AM–2:00 PM'}, {'renderedTime': '6:00 PM–9:00 PM'}]}, {'days': 'Thu', 'segments': [], 'open': [{'renderedTime': '11:00 AM–2:00 PM'}, {'renderedTime': '6:00 PM–9:00 PM'}]}, {'days': 'Fri', 'segments': [], 'open': [{'renderedTime': '9:00 AM–3:00 PM'}, {'renderedTime': '5:00 PM–10:00 PM'}]}, {'days': 'Sat', 'segments': [], 'open': [{'renderedTime': '9:00 AM–9:00 PM'}]}, {'days': 'Sun', 'segments': [], 'open': [{'renderedTime': '9:00 AM–8:00 PM'}]}, {'days': 'Mon', 'segments': [], 'open': [{'renderedTime': '10:00 AM–2:00 PM'}, {'renderedTime': '6:00 PM–9:00 PM'}]}, {'days': 'Tue', 'segments': [], 'open': [{'renderedTime': '11:00 AM–2:00 PM'}, {'renderedTime': '6:00 PM–9:00 PM'}]}], 'isLocalHoliday': False}, 'photos': {'groups': [{'name': \"Friends' check-in photos\", 'count': 0, 'type': 'checkin', 'items': []}, {'name': 'Venue photos', 'count': 257, 'type': 'venue', 'items': [{'visibility': 'public', 'suffix': '/18729_gdwS47-plJ9cittmCEFnvb3oPdYX82FzvVjMeP7Ni3c.jpg', 'id': '5621aa94498e86800df8a7f4', 'width': 1080, 'height': 935, 'prefix': 'https://igx.4sqi.net/img/general/', 'createdAt': 1445046932, 'user': {'photo': {'prefix': 'https://igx.4sqi.net/img/user/', 'suffix': '/SYRC0UP1UTZ3QUIH.jpg'}, 'gender': 'female', 'firstName': 'e*starLA', 'id': '18729'}, 'source': {'name': 'Instagram', 'url': 'http://instagram.com'}}, {'visibility': 'public', 'suffix': '/9103531_MzbR-lSzwHctc2nTwVMBzjcU8BlZPO8tTqG6PE1mZss.jpg', 'id': '57a65f31498e4d560b414eb4', 'width': 1920, 'height': 1440, 'prefix': 'https://igx.4sqi.net/img/general/', 'createdAt': 1470521137, 'user': {'lastName': 'rastogi', 'gender': 'male', 'photo': {'prefix': 'https://igx.4sqi.net/img/user/', 'suffix': '/9103531_ihT8TYiJ_u3rLJdhoFo24QL-RwXjrKquoo_PBQiE4i7BYGkK2gN6fZxwzh6kktnQDGYEoeX8x.jpg'}, 'firstName': 'ashish', 'id': '9103531'}, 'source': {'name': 'Foursquare for iOS', 'url': 'https://foursquare.com/download/#/iphone'}}]}], 'count': 257, 'summary': '0 photos'}, 'attributes': {'groups': [{'name': 'Price', 'count': 1, 'summary': '$$', 'type': 'price', 'items': [{'priceTier': 2, 'displayName': 'Price', 'displayValue': '$$'}]}, {'name': 'Reservations', 'count': 3, 'type': 'reservations', 'items': [{'displayName': 'Reservations', 'displayValue': 'No'}]}, {'name': 'Credit Cards', 'count': 7, 'summary': 'Credit Cards', 'type': 'payments', 'items': [{'displayName': 'Credit Cards', 'displayValue': 'Yes'}]}, {'name': 'Outdoor Seating', 'count': 1, 'type': 'outdoorSeating', 'items': [{'displayName': 'Outdoor Seating', 'displayValue': 'No'}]}, {'name': 'Menus', 'count': 8, 'summary': 'Dinner, Lunch & more', 'type': 'serves', 'items': [{'displayName': 'Brunch', 'displayValue': 'Brunch'}, {'displayName': 'Lunch', 'displayValue': 'Lunch'}, {'displayName': 'Dinner', 'displayValue': 'Dinner'}]}, {'name': 'Drinks', 'count': 5, 'summary': 'Beer, Full Bar & Cocktails', 'type': 'drinks', 'items': [{'displayName': 'Beer', 'displayValue': 'Beer'}, {'displayName': 'Full Bar', 'displayValue': 'Full Bar'}, {'displayName': 'Cocktails', 'displayValue': 'Cocktails'}]}, {'name': 'Dining Options', 'count': 5, 'summary': 'Delivery', 'type': 'diningOptions', 'items': [{'displayName': 'Delivery', 'displayValue': 'Delivery'}]}]}, 'rating': 9.4, 'url': 'http://doveschicago.com', 'price': {'tier': 2, 'message': 'Moderate', 'currency': '$'}, 'verified': False, 'timeZone': 'America/Chicago', 'createdAt': 1411135999, 'ok': False, 'allowMenuUrlEdit': True}}, 'meta': {'code': 200, 'requestId': '5bb46427f594df200cb2bc8b'}}\n"
     ]
    },
    {
     "name": "stdout",
     "output_type": "stream",
     "text": [
      "{'response': {'venue': {'tips': {'groups': [{'name': 'All tips', 'count': 114, 'type': 'others', 'items': [{'photo': {'visibility': 'public', 'suffix': '/268135_YOCKkpURI4b2le61dt3sdVQiiZdascrU3PS6wKDp5l4.jpg', 'id': '5267d284498e995583cd0cca', 'width': 640, 'height': 434, 'prefix': 'https://igx.4sqi.net/img/general/', 'createdAt': 1382535812, 'source': {'name': 'Foursquare Web', 'url': 'https://foursquare.com'}}, 'text': 'The thick-sliced applewood-smoked bacon biscuit comes with collard greens and a side of house-made Fresno chili hot sauce that they’ve appropriately dubbed Pao Pao Sauce.', 'likes': {'groups': [{'count': 21, 'type': 'others', 'items': []}], 'count': 21, 'summary': '21 likes'}, 'id': '5267d28311d224a9d3151c14', 'photourl': 'https://igx.4sqi.net/img/general/original/268135_YOCKkpURI4b2le61dt3sdVQiiZdascrU3PS6wKDp5l4.jpg', 'todo': {'count': 11}, 'createdAt': 1382535811, 'logView': True, 'url': 'http://www.thrillist.com/eat/chicago/logan-square/bang-bang-pie-shop-bang-bang-now-with-the-biscuit-sandwiches-of-your-dreams?utm_source=foursquare&utm_medium=social&utm_campaign=thrillist', 'type': 'user', 'canonicalUrl': 'https://foursquare.com/item/5267d28311d224a9d3151c14', 'lang': 'en', 'disagreeCount': 0, 'user': {'photo': {'prefix': 'https://igx.4sqi.net/img/user/', 'suffix': '/EAJSSAI10XFPJI2X.jpg'}, 'gender': 'none', 'firstName': 'Thrillist', 'id': '268135', 'type': 'page'}, 'agreeCount': 21}, {'text': \"Don't overlook the coffee (Bang Bang roasts its own), the insane biscuits (with a spread of housemade jams & butters) or the huge yard, strung with lights & filled with picnic tables & lush greenery.\", 'likes': {'groups': [{'count': 17, 'type': 'others', 'items': []}], 'count': 17, 'summary': '17 likes'}, 'id': '51c13256498ec6b8c8a7813c', 'todo': {'count': 11}, 'logView': True, 'createdAt': 1371615830, 'disagreeCount': 0, 'url': 'http://tmout.us/maA24', 'type': 'user', 'canonicalUrl': 'https://foursquare.com/item/51c13256498ec6b8c8a7813c', 'lang': 'en', 'user': {'photo': {'prefix': 'https://igx.4sqi.net/img/user/', 'suffix': '/R2RSEQ533D211UR0.jpg'}, 'gender': 'none', 'firstName': 'Time Out Chicago', 'id': '843848', 'type': 'page'}, 'agreeCount': 17}]}], 'count': 114}, 'colors': {'highlightColor': {'value': -15722464, 'photoId': '5157555ae4b04d6d8e01b4ae'}, 'highlightTextColor': {'value': -1, 'photoId': '5157555ae4b04d6d8e01b4ae'}, 'algoVersion': 3}, 'likes': {'groups': [{'count': 466, 'type': 'others', 'items': []}], 'count': 466, 'summary': '466 Likes'}, 'beenHere': {'marked': False, 'lastCheckinExpiredAt': 0, 'count': 0, 'unconfirmedCount': 0}, 'shortUrl': 'http://4sq.com/vP1Hf9', 'location': {'labeledLatLngs': [{'label': 'display', 'lng': -87.69717275730295, 'lat': 41.91901396975405}], 'city': 'Chicago', 'lng': -87.69717275730295, 'crossStreet': 'at N Point St', 'postalCode': '60647', 'cc': 'US', 'formattedAddress': ['2051 N California Ave (at N Point St)', 'Chicago, IL 60647', 'United States'], 'state': 'IL', 'address': '2051 N California Ave', 'lat': 41.91901396975405, 'country': 'United States'}, 'name': 'Bang Bang Pie Shop', 'pageUpdates': {'count': 0, 'items': []}, 'reasons': {'count': 1, 'items': [{'summary': 'Lots of people like this place', 'reasonName': 'rawLikesReason', 'type': 'general'}]}, 'ratingSignals': 580, 'categories': [{'pluralName': 'Pie Shops', 'id': '52e81612bcbc57f1066b7a0a', 'name': 'Pie Shop', 'primary': True, 'icon': {'prefix': 'https://ss3.4sqi.net/img/categories_v2/food/pieshop_', 'suffix': '.png'}, 'shortName': 'Pie Shop'}], 'inbox': {'count': 0, 'items': []}, 'menu': {'anchor': 'View Menu', 'url': 'http://bangbangpie.com/eat/', 'type': 'Menu', 'label': 'Menu', 'mobileUrl': 'http://bangbangpie.com/eat/', 'externalUrl': 'http://bangbangpie.com/eat/'}, 'id': '4ecd9a09722e01c57f2cce34', 'canonicalUrl': 'https://foursquare.com/v/bang-bang-pie-shop/4ecd9a09722e01c57f2cce34', 'hereNow': {'groups': [], 'count': 0, 'summary': 'Nobody here'}, 'bestPhoto': {'visibility': 'public', 'suffix': '/412763_I_scpcM6Mj0TlCMUdH3veZ5szcbLtpTy-qY4BXdWK2g.jpg', 'id': '5157555ae4b04d6d8e01b4ae', 'width': 612, 'height': 612, 'prefix': 'https://igx.4sqi.net/img/general/', 'createdAt': 1364677978, 'source': {'name': 'Instagram', 'url': 'http://instagram.com'}}, 'storeId': '', 'specials': {'count': 0, 'items': []}, 'description': 'Bang Bang Pie Shop is bringing delicious pie to Chicago using ingredients that are as local, seasonal, and flavorful as possible.', 'stats': {'tipCount': 114}, 'listed': {'groups': [{'name': 'Lists from other people', 'count': 857, 'type': 'others', 'items': [{'photo': {'visibility': 'public', 'suffix': '/59386677_NvuWiQq9TNaK2P_VJhsuHznhzjg4sZnxrhDojfKpFrQ.jpg', 'id': '550488dd498e77212c6e8097', 'width': 640, 'height': 640, 'prefix': 'https://igx.4sqi.net/img/general/', 'createdAt': 1426360541, 'user': {'lastName': 'Sokolowski', 'gender': 'male', 'photo': {'prefix': 'https://igx.4sqi.net/img/user/', 'suffix': '/QNYWJVJ2KLVQSXP0.jpg'}, 'firstName': 'Adam', 'id': '59386677'}}, 'guide': True, 'description': 'Mmm, warm pie topped with fresh whipped cream or a scoop of vanilla ice cream. Drooling yet? Thought so. Enjoy the best America has to offer at these top 50 pie shops, bakeries, cafés, and restos.', 'updatedAt': 1456759740, 'type': 'others', 'followers': {'count': 217}, 'public': True, 'listItems': {'count': 50, 'items': [{'photo': {'visibility': 'public', 'suffix': '/59386677_NvuWiQq9TNaK2P_VJhsuHznhzjg4sZnxrhDojfKpFrQ.jpg', 'id': '550488dd498e77212c6e8097', 'width': 640, 'height': 640, 'prefix': 'https://igx.4sqi.net/img/general/', 'createdAt': 1426360541, 'user': {'lastName': 'Sokolowski', 'gender': 'male', 'photo': {'prefix': 'https://igx.4sqi.net/img/user/', 'suffix': '/QNYWJVJ2KLVQSXP0.jpg'}, 'firstName': 'Adam', 'id': '59386677'}}, 'createdAt': 1456420866, 'id': 't5599e54d498edc2ef1ad3f88'}]}, 'createdAt': 1456413040, 'name': \"America's Best Pie\", 'logView': True, 'url': '/foursquare/list/americas-best-pie', 'editable': False, 'id': '56cf1970498e2a2e944d8a54', 'canonicalUrl': 'https://foursquare.com/foursquare/list/americas-best-pie', 'collaborative': False, 'guideType': 'bestOf', 'user': {'photo': {'prefix': 'https://igx.4sqi.net/img/user/', 'suffix': '/23438729-TODURDIUDUMY4JF5.png'}, 'gender': 'none', 'firstName': 'Foursquare City Guide', 'id': '23438729', 'type': 'page'}}, {'photo': {'visibility': 'public', 'suffix': '/843848_Jlp_eNHfJ80bcRqI0Cu2UVBQnn46qTlmzyLeX4OYGf4.jpg', 'id': '51c12a85454a433641ce40fd', 'width': 492, 'height': 330, 'prefix': 'https://igx.4sqi.net/img/general/', 'createdAt': 1371613829, 'user': {'photo': {'prefix': 'https://igx.4sqi.net/img/user/', 'suffix': '/R2RSEQ533D211UR0.jpg'}, 'gender': 'none', 'firstName': 'Time Out Chicago', 'id': '843848', 'type': 'page'}}, 'followers': {'count': 373}, 'description': '', 'updatedAt': 1379027703, 'type': 'others', 'public': True, 'listItems': {'count': 31, 'items': [{'photo': {'visibility': 'public', 'suffix': '/32133849_L6AIWUKdajCfJjshfN2bUuDYpGLEnbe3d52vhyaje5I.jpg', 'id': '519f78ae498e65243dd70f8d', 'width': 769, 'height': 719, 'prefix': 'https://igx.4sqi.net/img/general/', 'createdAt': 1369405614, 'user': {'photo': {'prefix': 'https://igx.4sqi.net/img/user/', 'suffix': '/blank_boy.png', 'default': True}, 'gender': 'none', 'firstName': 'Karin', 'id': '32133849'}}, 'createdAt': 1371615695, 'id': 't51c13256498ec6b8c8a7813c'}]}, 'createdAt': 1370485275, 'name': 'Best places to eat and drink outside', 'logView': True, 'url': '/timeoutchicago/list/best-places-to-eat-and-drink-outside', 'editable': False, 'id': '51aff21b498e69e2debc76e2', 'canonicalUrl': 'https://foursquare.com/timeoutchicago/list/best-places-to-eat-and-drink-outside', 'collaborative': False, 'user': {'photo': {'prefix': 'https://igx.4sqi.net/img/user/', 'suffix': '/R2RSEQ533D211UR0.jpg'}, 'gender': 'none', 'firstName': 'Time Out Chicago', 'id': '843848', 'type': 'page'}}, {'photo': {'visibility': 'public', 'suffix': '/AHZEGWLBEAVZQGDLQTQFLBFPFCMBWRLGS0ILHJJB4B3K3UWX.jpg', 'id': '4e836a137beba8f7b63967a8', 'width': 220, 'height': 220, 'prefix': 'https://igx.4sqi.net/img/general/', 'createdAt': 1317235219, 'user': {'photo': {'prefix': 'https://igx.4sqi.net/img/user/', 'suffix': '/W12HFINBWKQZJ15Z.jpg'}, 'gender': 'none', 'firstName': 'AskMen', 'id': '311503', 'type': 'page'}}, 'followers': {'count': 1551}, 'description': 'For more on what Chicago has to offer, check out the official AskMen Chicago City Guide:\\nhttp://www.askmen.com/chicago/', 'updatedAt': 1354306494, 'id': '4e4ebe0a2271a1bdc3d485af', 'public': True, 'listItems': {'count': 177, 'items': [{'createdAt': 1334177369, 'id': 'v4ecd9a09722e01c57f2cce34'}]}, 'createdAt': 1313783306, 'entities': [{'object': {'url': 'http://www.askmen.com/chicago/'}, 'indices': [89, 119], 'type': 'url'}], 'name': 'Chicago City Guide', 'logView': True, 'url': '/askmen/list/chicago-city-guide', 'editable': False, 'type': 'others', 'canonicalUrl': 'https://foursquare.com/askmen/list/chicago-city-guide', 'collaborative': False, 'user': {'photo': {'prefix': 'https://igx.4sqi.net/img/user/', 'suffix': '/W12HFINBWKQZJ15Z.jpg'}, 'gender': 'none', 'firstName': 'AskMen', 'id': '311503', 'type': 'page'}}, {'photo': {'visibility': 'public', 'suffix': '/843848_g0DXx0eLL0fnABo_K-EVkn6afl6QiQsJPtrOgLy95gk.jpg', 'id': '52b4c9c9498e6a1bd2b214da', 'width': 492, 'height': 330, 'prefix': 'https://igx.4sqi.net/img/general/', 'createdAt': 1387579849, 'user': {'photo': {'prefix': 'https://igx.4sqi.net/img/user/', 'suffix': '/R2RSEQ533D211UR0.jpg'}, 'gender': 'none', 'firstName': 'Time Out Chicago', 'id': '843848', 'type': 'page'}}, 'followers': {'count': 256}, 'description': 'The very best food and drink our editors consumed this year. http://tmout.us/rLOtk', 'updatedAt': 1401918990, 'id': '52acbcfc11d22a86dbc7f3a3', 'public': True, 'listItems': {'count': 91, 'items': [{'photo': {'visibility': 'public', 'suffix': '/843848__rum5Ob30-Ge_SGiffzPH_HwnvkYNIWvT4M3LCP2IPc.jpg', 'id': '52b4c475498e6a1bd2af1f15', 'width': 492, 'height': 330, 'prefix': 'https://igx.4sqi.net/img/general/', 'createdAt': 1387578485, 'user': {'photo': {'prefix': 'https://igx.4sqi.net/img/user/', 'suffix': '/R2RSEQ533D211UR0.jpg'}, 'gender': 'none', 'firstName': 'Time Out Chicago', 'id': '843848', 'type': 'page'}}, 'createdAt': 1387566858, 'id': 't52b4b324498e14a21da44933'}]}, 'createdAt': 1387052284, 'entities': [{'object': {'url': 'http://tmout.us/rLOtk'}, 'indices': [61, 82], 'type': 'url'}], 'name': '100 best things we ate and drank in 2013', 'logView': True, 'url': '/timeoutchicago/list/100-best-things-we-ate-and-drank-in-2013', 'editable': False, 'type': 'others', 'canonicalUrl': 'https://foursquare.com/timeoutchicago/list/100-best-things-we-ate-and-drank-in-2013', 'collaborative': False, 'user': {'photo': {'prefix': 'https://igx.4sqi.net/img/user/', 'suffix': '/R2RSEQ533D211UR0.jpg'}, 'gender': 'none', 'firstName': 'Time Out Chicago', 'id': '843848', 'type': 'page'}}]}], 'count': 857}, 'page': {'user': {'photo': {'prefix': 'https://igx.4sqi.net/img/user/', 'suffix': '/57422313-QA4RG4I5EVYQSZNL.png'}, 'tips': {'count': 0}, 'venue': {'id': '4ecd9a09722e01c57f2cce34'}, 'homeCity': 'Chicago, IL', 'firstName': 'Bang Bang Pie Shop', 'id': '57422313', 'type': 'venuePage', 'contact': {}, 'gender': 'none', 'lists': {'groups': [{'count': 2, 'type': 'created', 'items': []}]}, 'bio': ''}}, 'contact': {'formattedPhone': '(773) 276-8888', 'phone': '7732768888', 'twitter': 'bangbangpie'}, 'ratingColor': '00B551', 'hours': {'isOpen': False, 'timeframes': [{'days': 'Mon–Fri', 'segments': [], 'includesToday': True, 'open': [{'renderedTime': '7:00 AM–7:00 PM'}]}, {'days': 'Sat–Sun', 'segments': [], 'open': [{'renderedTime': '9:00 AM–4:00 PM'}]}], 'richStatus': {'text': 'Closed until 7:00 AM', 'entities': []}, 'dayData': [], 'isLocalHoliday': False, 'status': 'Closed until 7:00 AM'}, 'dislike': False, 'popular': {'isOpen': False, 'timeframes': [{'days': 'Today', 'segments': [], 'includesToday': True, 'open': [{'renderedTime': '11:00 AM–3:00 PM'}, {'renderedTime': '5:00 PM–6:00 PM'}]}, {'days': 'Thu', 'segments': [], 'open': [{'renderedTime': '9:00 AM–3:00 PM'}, {'renderedTime': '6:00 PM–7:00 PM'}]}, {'days': 'Fri', 'segments': [], 'open': [{'renderedTime': '8:00 AM–5:00 PM'}]}, {'days': 'Sat', 'segments': [], 'open': [{'renderedTime': '9:00 AM–5:00 PM'}]}, {'days': 'Sun', 'segments': [], 'open': [{'renderedTime': '9:00 AM–4:00 PM'}]}, {'days': 'Mon', 'segments': [], 'open': [{'renderedTime': '10:00 AM–3:00 PM'}]}, {'days': 'Tue', 'segments': [], 'open': [{'renderedTime': '10:00 AM–2:00 PM'}, {'renderedTime': '4:00 PM–7:00 PM'}]}], 'isLocalHoliday': False}, 'photos': {'groups': [{'name': \"Friends' check-in photos\", 'count': 0, 'type': 'checkin', 'items': []}, {'name': 'Venue photos', 'count': 635, 'type': 'venue', 'items': [{'visibility': 'public', 'suffix': '/412763_I_scpcM6Mj0TlCMUdH3veZ5szcbLtpTy-qY4BXdWK2g.jpg', 'id': '5157555ae4b04d6d8e01b4ae', 'width': 612, 'height': 612, 'prefix': 'https://igx.4sqi.net/img/general/', 'createdAt': 1364677978, 'user': {'lastName': 'P', 'gender': 'male', 'photo': {'prefix': 'https://igx.4sqi.net/img/user/', 'suffix': '/FF443W2ZQMEMLIHE.jpg'}, 'firstName': 'Eric', 'id': '412763'}, 'source': {'name': 'Instagram', 'url': 'http://instagram.com'}}, {'visibility': 'public', 'suffix': '/2856262_c8lcl9JLeBcwTW6ct2moueVVyIaSbRu0VMx2qLA9UVI.jpg', 'id': '51b5d4a4498e337734fac38b', 'width': 960, 'height': 575, 'prefix': 'https://igx.4sqi.net/img/general/', 'createdAt': 1370870948, 'user': {'lastName': 'Guzman', 'gender': 'female', 'photo': {'prefix': 'https://igx.4sqi.net/img/user/', 'suffix': '/2856262-B12B4QJ0YV4YQAM0.jpg'}, 'firstName': 'Mabel', 'id': '2856262'}, 'source': {'name': 'Foursquare for Android', 'url': 'https://foursquare.com/download/#/android'}}]}], 'count': 635, 'summary': '0 photos'}, 'attributes': {'groups': [{'name': 'Price', 'count': 1, 'summary': '$', 'type': 'price', 'items': [{'priceTier': 1, 'displayName': 'Price', 'displayValue': '$'}]}, {'name': 'Credit Cards', 'count': 7, 'summary': 'Credit Cards', 'type': 'payments', 'items': [{'displayName': 'Credit Cards', 'displayValue': 'Yes (incl. American Express)'}]}, {'name': 'Outdoor Seating', 'count': 1, 'summary': 'Outdoor Seating', 'type': 'outdoorSeating', 'items': [{'displayName': 'Outdoor Seating', 'displayValue': 'Yes'}]}, {'name': 'Wi-Fi', 'count': 1, 'summary': 'Wi-Fi', 'type': 'wifi', 'items': [{'displayName': 'Wi-Fi', 'displayValue': 'Yes'}]}, {'name': 'Menus', 'count': 8, 'summary': 'Brunch & Lunch', 'type': 'serves', 'items': [{'displayName': 'Brunch', 'displayValue': 'Brunch'}, {'displayName': 'Lunch', 'displayValue': 'Lunch'}]}, {'name': 'Dining Options', 'count': 5, 'type': 'diningOptions', 'items': [{'displayName': 'Delivery', 'displayValue': 'No Delivery'}]}]}, 'rating': 9.4, 'venuePage': {'id': '57422313'}, 'url': 'http://www.bangbangpie.com', 'price': {'tier': 1, 'message': 'Cheap', 'currency': '$'}, 'verified': True, 'timeZone': 'America/Chicago', 'createdAt': 1322097161, 'ok': False, 'allowMenuUrlEdit': True}}, 'meta': {'code': 200, 'requestId': '5bb464274c1f6720302aa0bd'}}\n"
     ]
    },
    {
     "name": "stdout",
     "output_type": "stream",
     "text": [
      "{'response': {'venue': {'tips': {'groups': [{'name': 'All tips', 'count': 10, 'type': 'others', 'items': [{'text': 'The lakefront trail heading south to Hyde Park is the best for running in the summer.', 'likes': {'groups': [{'count': 2, 'type': 'others', 'items': [{'lastName': 'Bendoraytes', 'gender': 'male', 'photo': {'prefix': 'https://igx.4sqi.net/img/user/', 'suffix': '/EDCF3ZNWMNZE5Z2I.jpg'}, 'firstName': 'Rodolfo', 'id': '3651054'}, {'lastName': 'Smith', 'gender': 'none', 'photo': {'prefix': 'https://igx.4sqi.net/img/user/', 'suffix': '/blank_boy.png', 'default': True}, 'firstName': 'Tiffany', 'id': '70414691'}]}], 'count': 2, 'summary': '2 likes'}, 'agreeCount': 2, 'id': '51cebd65498e9b30fa5c25fd', 'todo': {'count': 0}, 'createdAt': 1372503397, 'authorInteractionType': 'liked', 'disagreeCount': 0, 'type': 'user', 'canonicalUrl': 'https://foursquare.com/item/51cebd65498e9b30fa5c25fd', 'lang': 'en', 'user': {'lastName': 'Tague', 'gender': 'female', 'photo': {'prefix': 'https://igx.4sqi.net/img/user/', 'suffix': '/45550559-DN2AQ4TWA2AT3ZB5.jpg'}, 'firstName': 'Kristine', 'id': '45550559'}, 'logView': True}, {'text': 'The Chicago lakefront is amazing and ever-changing. Great for a run or a picnic. Or solitude in winter.', 'likes': {'groups': [{'count': 1, 'type': 'others', 'items': [{'lastName': 'Nozaki', 'gender': 'male', 'photo': {'prefix': 'https://igx.4sqi.net/img/user/', 'suffix': '/19016730-M5O1M5MBRYI1K5WV.jpg'}, 'firstName': 'Randy', 'id': '19016730'}]}], 'count': 1, 'summary': '1 like'}, 'agreeCount': 1, 'id': '51cce90f498e27131449da99', 'todo': {'count': 0}, 'createdAt': 1372383503, 'authorInteractionType': 'liked', 'disagreeCount': 0, 'type': 'user', 'canonicalUrl': 'https://foursquare.com/item/51cce90f498e27131449da99', 'lang': 'en', 'user': {'lastName': 'Tague', 'gender': 'female', 'photo': {'prefix': 'https://igx.4sqi.net/img/user/', 'suffix': '/45550559-DN2AQ4TWA2AT3ZB5.jpg'}, 'firstName': 'Kristine', 'id': '45550559'}, 'logView': True}]}], 'count': 10}, 'likes': {'groups': [{'count': 115, 'type': 'others', 'items': []}], 'count': 115, 'summary': '115 Likes'}, 'beenHere': {'marked': False, 'lastCheckinExpiredAt': 0, 'count': 0, 'unconfirmedCount': 0}, 'shortUrl': 'http://4sq.com/IW67LG', 'location': {'labeledLatLngs': [{'label': 'display', 'lng': -87.6087806891488, 'lat': 41.86656214411742}], 'city': 'Chicago', 'lng': -87.6087806891488, 'postalCode': '60605', 'cc': 'US', 'formattedAddress': ['E Solidarity Dr', 'Chicago, IL 60605', 'United States'], 'state': 'IL', 'address': 'E Solidarity Dr', 'lat': 41.86656214411742, 'country': 'United States'}, 'name': 'Chicago Lakefront', 'pageUpdates': {'count': 0, 'items': []}, 'reasons': {'count': 1, 'items': [{'summary': 'Lots of people like this place', 'reasonName': 'rawLikesReason', 'type': 'general'}]}, 'ratingSignals': 123, 'categories': [{'pluralName': 'Waterfronts', 'id': '56aa371be4b08b9a8d5734c3', 'name': 'Waterfront', 'primary': True, 'icon': {'prefix': 'https://ss3.4sqi.net/img/categories_v2/parks_outdoors/river_', 'suffix': '.png'}, 'shortName': 'Waterfront'}], 'id': '4f9a5b92e4b0d8e6212e11cc', 'canonicalUrl': 'https://foursquare.com/v/chicago-lakefront/4f9a5b92e4b0d8e6212e11cc', 'hereNow': {'groups': [], 'count': 0, 'summary': 'Nobody here'}, 'bestPhoto': {'visibility': 'public', 'suffix': '/4283166_TOrfBsqxmsEB5qSyddT51ySgcIaX3KBMOORnj_N4nzg.jpg', 'id': '50e49c88e4b08361e1a638e7', 'width': 612, 'height': 612, 'prefix': 'https://igx.4sqi.net/img/general/', 'createdAt': 1357159560, 'source': {'name': 'Instagram', 'url': 'http://instagram.com'}}, 'specials': {'count': 0, 'items': []}, 'inbox': {'count': 0, 'items': []}, 'stats': {'tipCount': 10}, 'listed': {'groups': [{'name': 'Lists from other people', 'count': 19, 'type': 'others', 'items': [{'followers': {'count': 1}, 'description': '', 'updatedAt': 1399734938, 'type': 'others', 'public': True, 'listItems': {'count': 183, 'items': [{'createdAt': 1346447370, 'id': 'v4f9a5b92e4b0d8e6212e11cc'}]}, 'createdAt': 1346447075, 'name': 'My Mayorships, current and past', 'url': '/leimberer/list/my-mayorships-current-and-past', 'editable': False, 'id': '504126e3e4b00fd08e7ff064', 'canonicalUrl': 'https://foursquare.com/leimberer/list/my-mayorships-current-and-past', 'collaborative': False, 'user': {'lastName': 'Leimberer', 'gender': 'male', 'photo': {'prefix': 'https://igx.4sqi.net/img/user/', 'suffix': '/XBVD3J0CCQNSTZMV.jpg'}, 'firstName': 'Tim', 'id': '6687236'}}, {'followers': {'count': 0}, 'description': '', 'updatedAt': 1381503148, 'type': 'others', 'public': True, 'listItems': {'count': 4, 'items': [{'createdAt': 1372383516, 'id': 'v4f9a5b92e4b0d8e6212e11cc'}]}, 'createdAt': 1358219522, 'name': 'Home', 'url': '/bluelily17/list/home', 'editable': False, 'id': '50f4c902e4b0afccebc1e526', 'canonicalUrl': 'https://foursquare.com/bluelily17/list/home', 'collaborative': False, 'user': {'lastName': 'Tague', 'gender': 'female', 'photo': {'prefix': 'https://igx.4sqi.net/img/user/', 'suffix': '/45550559-DN2AQ4TWA2AT3ZB5.jpg'}, 'firstName': 'Kristine', 'id': '45550559'}}, {'photo': {'visibility': 'public', 'suffix': '/14923118_aCe0MurL1KJ3lXKdd_jGyrJpahKMgOxFJFgRvpZvBlc.jpg', 'id': '5182822850190c4a1b123101', 'width': 959, 'height': 639, 'prefix': 'https://igx.4sqi.net/img/general/', 'createdAt': 1367507496, 'user': {'photo': {'prefix': 'https://igx.4sqi.net/img/user/', 'suffix': '/TCCM0SNSYKZPLOBQ.jpg'}, 'gender': 'none', 'firstName': 'Chicago Park District', 'id': '14923118', 'type': 'chain'}}, 'followers': {'count': 0}, 'description': '', 'updatedAt': 1418841182, 'type': 'others', 'public': True, 'listItems': {'count': 110, 'items': [{'createdAt': 1402787425, 'id': 'v4f9a5b92e4b0d8e6212e11cc'}]}, 'createdAt': 1364423414, 'name': 'Outdoor Adventures', 'url': '/visualstimulus_/list/outdoor-adventures', 'editable': False, 'id': '515372f6e4b0bdbdf0505229', 'canonicalUrl': 'https://foursquare.com/visualstimulus_/list/outdoor-adventures', 'collaborative': False, 'user': {'lastName': 'Aimee J', 'gender': 'female', 'photo': {'prefix': 'https://igx.4sqi.net/img/user/', 'suffix': '/5751736-SOW23RYVQRC10RL0.jpg'}, 'firstName': 'VisuaLStimuluS', 'id': '5751736'}}, {'photo': {'visibility': 'public', 'suffix': '/3TYESUBPLCG1ZIXI5KJ0XCXXXP2XQ5XZBSJ3LWH1WYCRHINX.jpg', 'id': '4e593ba3e4cd875e8eab70e4', 'width': 540, 'height': 720, 'prefix': 'https://igx.4sqi.net/img/general/', 'createdAt': 1314470819, 'user': {'photo': {'prefix': 'https://igx.4sqi.net/img/user/', 'suffix': '/GDS1Z0QMUWZ0EJ1L.jpg'}, 'gender': 'female', 'firstName': 'Lorena', 'id': '211979'}}, 'followers': {'count': 4}, 'description': '', 'updatedAt': 1418841204, 'type': 'others', 'public': True, 'listItems': {'count': 132, 'items': [{'createdAt': 1402787428, 'id': 'v4f9a5b92e4b0d8e6212e11cc'}]}, 'createdAt': 1366290331, 'name': 'Photography Play', 'url': '/visualstimulus_/list/photography-play', 'editable': False, 'id': '516fef9b498e04930d759903', 'canonicalUrl': 'https://foursquare.com/visualstimulus_/list/photography-play', 'collaborative': False, 'user': {'lastName': 'Aimee J', 'gender': 'female', 'photo': {'prefix': 'https://igx.4sqi.net/img/user/', 'suffix': '/5751736-SOW23RYVQRC10RL0.jpg'}, 'firstName': 'VisuaLStimuluS', 'id': '5751736'}}]}], 'count': 19}, 'colors': {'highlightColor': {'value': -4669248, 'photoId': '50e49c88e4b08361e1a638e7'}, 'highlightTextColor': {'value': -16777216, 'photoId': '50e49c88e4b08361e1a638e7'}, 'algoVersion': 3}, 'contact': {}, 'ratingColor': '00B551', 'dislike': False, 'popular': {'isOpen': False, 'timeframes': [{'days': 'Today', 'segments': [], 'includesToday': True, 'open': [{'renderedTime': '4:00 PM–10:00 PM'}]}, {'days': 'Thu', 'segments': [], 'open': [{'renderedTime': '3:00 PM–10:00 PM'}]}, {'days': 'Fri', 'segments': [], 'open': [{'renderedTime': 'Noon–9:00 PM'}]}, {'days': 'Sat', 'segments': [], 'open': [{'renderedTime': '9:00 AM–Midnight'}]}, {'days': 'Sun', 'segments': [], 'open': [{'renderedTime': '9:00 AM–11:00 PM'}]}, {'days': 'Mon', 'segments': [], 'open': [{'renderedTime': '8:00 AM–11:00 AM'}, {'renderedTime': '2:00 PM–8:00 PM'}]}, {'days': 'Tue', 'segments': [], 'open': [{'renderedTime': '3:00 PM–4:00 PM'}, {'renderedTime': '8:00 PM–9:00 PM'}]}], 'isLocalHoliday': False}, 'photos': {'groups': [{'name': \"Friends' check-in photos\", 'count': 0, 'type': 'checkin', 'items': []}, {'name': 'Venue photos', 'count': 596, 'type': 'venue', 'items': [{'visibility': 'public', 'suffix': '/4283166_TOrfBsqxmsEB5qSyddT51ySgcIaX3KBMOORnj_N4nzg.jpg', 'id': '50e49c88e4b08361e1a638e7', 'width': 612, 'height': 612, 'prefix': 'https://igx.4sqi.net/img/general/', 'createdAt': 1357159560, 'user': {'lastName': 'Robinson', 'gender': 'male', 'photo': {'prefix': 'https://igx.4sqi.net/img/user/', 'suffix': '/GEJ4WUXULU55NMPZ.jpg'}, 'firstName': 'Gary', 'id': '4283166'}, 'source': {'name': 'Instagram', 'url': 'http://instagram.com'}}, {'visibility': 'public', 'suffix': '/792033_ekv33VAdNa5-vtWc7lg56vnA9DbxewbhKWuOfs8o_Qg.jpg', 'id': '505644fde4b06562e43d2069', 'width': 612, 'height': 612, 'prefix': 'https://igx.4sqi.net/img/general/', 'createdAt': 1347831037, 'user': {'photo': {'prefix': 'https://igx.4sqi.net/img/user/', 'suffix': '/792033_UrdWdl2I_lWIdj4ehUaffNLQODdo0mNrX1DemAgpdZJQ6M8l_FvhxnhdVZO5EtORdg7lF4Kts.jpg'}, 'gender': 'female', 'firstName': 'lunani', 'id': '792033'}, 'source': {'name': 'Instagram', 'url': 'http://instagram.com'}}]}], 'count': 596, 'summary': '0 photos'}, 'attributes': {'groups': []}, 'rating': 9.4, 'verified': False, 'timeZone': 'America/Chicago', 'createdAt': 1335516050, 'ok': False}}, 'meta': {'code': 200, 'requestId': '5bb464281ed2190983f9bd0b'}}\n"
     ]
    },
    {
     "name": "stdout",
     "output_type": "stream",
     "text": [
      "{'response': {'venue': {'tips': {'groups': [{'name': 'All tips', 'count': 39, 'type': 'others', 'items': [{'text': \"Don’t bother looking for a mosh pit. You're here for the fresh air, not the band. #DontBlowIt\", 'likes': {'groups': [{'count': 13, 'type': 'others', 'items': []}], 'count': 13, 'summary': '13 likes'}, 'agreeCount': 13, 'id': '4e13a72e15208bcf94e083a8', 'todo': {'count': 10}, 'createdAt': 1309910830, 'disagreeCount': 0, 'type': 'user', 'canonicalUrl': 'https://foursquare.com/item/4e13a72e15208bcf94e083a8', 'lang': 'en', 'user': {'photo': {'prefix': 'https://igx.4sqi.net/img/user/', 'suffix': '/OPQBZKHJWZCBYSZP.jpg'}, 'gender': 'none', 'firstName': '30 Minutes Or Less', 'id': '10378159', 'type': 'page'}, 'logView': True}, {'text': 'Throw a frisbee around. Maybe take a walk through the zoo, and spend a few introspective moments pondering what it means to be human.', 'likes': {'groups': [{'count': 12, 'type': 'others', 'items': []}], 'count': 12, 'summary': '12 likes'}, 'agreeCount': 12, 'id': '51bac603498ed8ebfa971147', 'todo': {'count': 11}, 'createdAt': 1371194883, 'disagreeCount': 0, 'type': 'user', 'canonicalUrl': 'https://foursquare.com/item/51bac603498ed8ebfa971147', 'lang': 'en', 'user': {'photo': {'prefix': 'https://igx.4sqi.net/img/user/', 'suffix': '/EAJSSAI10XFPJI2X.jpg'}, 'gender': 'none', 'firstName': 'Thrillist', 'id': '268135', 'type': 'page'}, 'logView': True}]}], 'count': 39}, 'colors': {'highlightColor': {'value': -7816984, 'photoId': '4fcf6cb9e4b0aebeec50a0ec'}, 'highlightTextColor': {'value': -16777216, 'photoId': '4fcf6cb9e4b0aebeec50a0ec'}, 'algoVersion': 3}, 'likes': {'groups': [{'count': 161, 'type': 'others', 'items': []}], 'count': 161, 'summary': '161 Likes'}, 'beenHere': {'marked': False, 'lastCheckinExpiredAt': 0, 'count': 0, 'unconfirmedCount': 0}, 'shortUrl': 'http://4sq.com/H0hfGD', 'location': {'city': 'Chicago', 'lng': -87.63548116909303, 'crossStreet': 'btwn Glenlake Ave & Grand Ave', 'postalCode': '60614', 'cc': 'US', 'formattedAddress': ['5700 N Lake Shore Dr (btwn Glenlake Ave & Grand Ave)', 'Chicago, IL 60614', 'United States'], 'state': 'IL', 'address': '5700 N Lake Shore Dr', 'lat': 41.92569785745226, 'country': 'United States'}, 'name': 'Lincoln Park', 'pageUpdates': {'count': 0, 'items': []}, 'reasons': {'count': 1, 'items': [{'summary': 'Lots of people like this place', 'reasonName': 'rawLikesReason', 'type': 'general'}]}, 'ratingSignals': 196, 'categories': [{'pluralName': 'Parks', 'id': '4bf58dd8d48988d163941735', 'name': 'Park', 'primary': True, 'icon': {'prefix': 'https://ss3.4sqi.net/img/categories_v2/parks_outdoors/park_', 'suffix': '.png'}, 'shortName': 'Park'}], 'inbox': {'count': 0, 'items': []}, 'id': '4f6b838d7bebf48a25686d52', 'canonicalUrl': 'https://foursquare.com/v/lincoln-park/4f6b838d7bebf48a25686d52', 'hereNow': {'groups': [], 'count': 0, 'summary': 'Nobody here'}, 'bestPhoto': {'visibility': 'public', 'suffix': '/EWkh5d0PO7IZqQOcJCCqUkdf22lGaWP9GnPyhqBBRmc.jpg', 'id': '4fcf6cb9e4b0aebeec50a0ec', 'width': 720, 'height': 540, 'prefix': 'https://igx.4sqi.net/img/general/', 'createdAt': 1338993849, 'source': {'name': 'Foursquare for iOS', 'url': 'https://foursquare.com/download/#/iphone'}}, 'verified': True, 'specials': {'count': 0, 'items': []}, 'description': 'Lincoln Park, the largest park managed by the Chicago Park District, lies along the lakefront from Ohio Street Beach in the Streeterville neighborhood, northward to Ardmore Avenue in Edgewater.', 'stats': {'tipCount': 39}, 'listed': {'groups': [{'name': 'Lists from other people', 'count': 406, 'type': 'others', 'items': [{'photo': {'visibility': 'public', 'suffix': '/5ei4JpVRPj-laeQyMbr5YegOXbQsolnZXpIVeJ7tKaI.jpg', 'id': '4fb2ddcce4b0fb410b79e104', 'width': 540, 'height': 540, 'prefix': 'https://igx.4sqi.net/img/general/', 'createdAt': 1337122252, 'user': {'photo': {'prefix': 'https://igx.4sqi.net/img/user/', 'suffix': '/3XABHPYAFTRQWX2Z.jpg'}, 'gender': 'male', 'firstName': 'Niko', 'id': '27079687'}}, 'followers': {'count': 451}, 'description': 'Best sights, restaurants and historical landmarks not to be missed in Chicago Area. Enjoy!', 'updatedAt': 1467837815, 'type': 'others', 'public': True, 'listItems': {'count': 101, 'items': [{'photo': {'visibility': 'public', 'suffix': '/bhYZ0xPr2pQ3V6am3vEEQ3LDDR6xXXOTzB0Ba3dN8NI.jpg', 'id': '4f9ac8b6e4b07e720c73a32f', 'width': 720, 'height': 540, 'prefix': 'https://igx.4sqi.net/img/general/', 'createdAt': 1335543990, 'user': {'lastName': 'Wegner', 'gender': 'male', 'photo': {'prefix': 'https://igx.4sqi.net/img/user/', 'suffix': '/S5N35EWYHDDK2RYL.jpg'}, 'firstName': 'Jan', 'id': '19726589'}}, 'createdAt': 1337336319, 'id': 't4eaef3bcb8035841e3455eb6'}]}, 'createdAt': 1337335926, 'name': '101 places to see in Chicago before you die', 'url': '/boke/list/101-places-to-see-in-chicago-before-you-die', 'editable': False, 'id': '4fb62076e4b0ce16f1869bd2', 'canonicalUrl': 'https://foursquare.com/boke/list/101-places-to-see-in-chicago-before-you-die', 'collaborative': False, 'user': {'lastName': 'Garrido', 'gender': 'male', 'photo': {'prefix': 'https://igx.4sqi.net/img/user/', 'suffix': '/356747-WQOTM2ASOIERONL3.jpg'}, 'firstName': 'Victor', 'id': '356747'}}, {'photo': {'visibility': 'public', 'suffix': '/268135_l7nsl_i5Bt26FxaWdAZ0EtPQn2X4CDyotehs2ee5Z6o.png', 'id': '51c0ba437dd2157aacbca904', 'width': 256, 'height': 250, 'prefix': 'https://igx.4sqi.net/img/general/', 'createdAt': 1371585091, 'user': {'photo': {'prefix': 'https://igx.4sqi.net/img/user/', 'suffix': '/EAJSSAI10XFPJI2X.jpg'}, 'gender': 'none', 'firstName': 'Thrillist', 'id': '268135', 'type': 'page'}}, 'followers': {'count': 936}, 'description': 'Spend every daylight hour hitting the very best restaurants, bars, patios, and more in Chicago', 'updatedAt': 1371585091, 'type': 'others', 'public': True, 'listItems': {'count': 12, 'items': [{'photo': {'visibility': 'public', 'suffix': '/27943144_lbtyVkZgUtBsjRNn2iSk_3XpJzb9dnB_Kz6CLVwL2NM.jpg', 'id': '519275c8498eb731c569b17a', 'width': 1918, 'height': 1434, 'prefix': 'https://igx.4sqi.net/img/general/', 'createdAt': 1368552904, 'user': {'photo': {'prefix': 'https://igx.4sqi.net/img/user/', 'suffix': '/27943144-P4Y3EEQAF5U4RL5C.jpg'}, 'gender': 'female', 'firstName': 'Brittany', 'id': '27943144'}}, 'createdAt': 1371142390, 'id': 't51bac603498ed8ebfa971147'}]}, 'createdAt': 1371141933, 'name': \"Thrillist's Best Day of Your Life: Chicago\", 'logView': True, 'url': '/thrillist/list/thrillists-best-day-of-your-life-chicago', 'editable': False, 'id': '51b9f72d498ed30014ece30f', 'canonicalUrl': 'https://foursquare.com/thrillist/list/thrillists-best-day-of-your-life-chicago', 'collaborative': False, 'user': {'photo': {'prefix': 'https://igx.4sqi.net/img/user/', 'suffix': '/EAJSSAI10XFPJI2X.jpg'}, 'gender': 'none', 'firstName': 'Thrillist', 'id': '268135', 'type': 'page'}}]}], 'count': 406}, 'page': {'pageInfo': {'banner': 'https://is1.4sqi.net/userpix/OB2ISIMJDUS4WARU.jpg', 'description': 'The Chicago Park District manages 8100 acres of green space, 592 parks, 26 miles of lakefront, 10 museums, 50 nature areas, & hundreds of programs & events.', 'links': {'count': 1, 'items': [{'url': 'http://www.chicagoparkdistrict.com'}]}}, 'user': {'photo': {'prefix': 'https://igx.4sqi.net/img/user/', 'suffix': '/TCCM0SNSYKZPLOBQ.jpg'}, 'tips': {'count': 96}, 'bio': '', 'homeCity': 'Chicago, IL', 'firstName': 'Chicago Park District', 'id': '14923118', 'type': 'chain', 'contact': {}, 'gender': 'none', 'lists': {'groups': [{'count': 9, 'type': 'created', 'items': []}]}}}, 'contact': {'twitter': 'chicagoparks', 'facebookUsername': 'ChicagoParkDistrict', 'formattedPhone': '(312) 742-7726', 'phone': '3127427726', 'facebook': '49690408710', 'facebookName': 'Chicago Park District'}, 'ratingColor': '00B551', 'dislike': False, 'popular': {'isOpen': False, 'timeframes': [{'days': 'Today', 'segments': [], 'includesToday': True, 'open': [{'renderedTime': '11:00 AM–Noon'}, {'renderedTime': '5:00 PM–8:00 PM'}]}, {'days': 'Thu', 'segments': [], 'open': [{'renderedTime': '8:00 AM–9:00 AM'}, {'renderedTime': '11:00 AM–2:00 PM'}, {'renderedTime': '5:00 PM–7:00 PM'}]}, {'days': 'Fri', 'segments': [], 'open': [{'renderedTime': '10:00 AM–8:00 PM'}]}, {'days': 'Sat', 'segments': [], 'open': [{'renderedTime': '8:00 AM–8:00 PM'}]}, {'days': 'Sun', 'segments': [], 'open': [{'renderedTime': '9:00 AM–7:00 PM'}]}, {'days': 'Mon', 'segments': [], 'open': [{'renderedTime': '11:00 AM–8:00 PM'}]}, {'days': 'Tue', 'segments': [], 'open': [{'renderedTime': 'Noon–1:00 PM'}, {'renderedTime': '6:00 PM–8:00 PM'}]}], 'isLocalHoliday': False}, 'photos': {'groups': [{'name': \"Friends' check-in photos\", 'count': 0, 'type': 'checkin', 'items': []}, {'name': 'Venue photos', 'count': 566, 'type': 'venue', 'items': [{'visibility': 'public', 'suffix': '/EWkh5d0PO7IZqQOcJCCqUkdf22lGaWP9GnPyhqBBRmc.jpg', 'id': '4fcf6cb9e4b0aebeec50a0ec', 'width': 720, 'height': 540, 'prefix': 'https://igx.4sqi.net/img/general/', 'createdAt': 1338993849, 'user': {'lastName': 'van Dijk', 'gender': 'male', 'photo': {'prefix': 'https://igx.4sqi.net/img/user/', 'suffix': '/0LHJJ0S251E0XWXJ.jpg'}, 'firstName': 'Sander', 'id': '560367'}, 'source': {'name': 'Foursquare for iOS', 'url': 'https://foursquare.com/download/#/iphone'}}, {'visibility': 'public', 'suffix': '/51471930_fM4V8ghw42Ec-w7Ophkj0BRrfpjycVU58VLgmLAtgTE.jpg', 'id': '518a8921498e8bc7d83beaef', 'width': 1920, 'height': 1440, 'prefix': 'https://igx.4sqi.net/img/general/', 'createdAt': 1368033569, 'user': {'lastName': 'Jones', 'gender': 'male', 'photo': {'prefix': 'https://igx.4sqi.net/img/user/', 'suffix': '/51471930-MD3ZZLXFVDXAXSWW.jpg'}, 'firstName': 'jimmy', 'id': '51471930'}, 'source': {'name': 'Foursquare for iOS', 'url': 'https://foursquare.com/download/#/iphone'}}]}], 'count': 566, 'summary': '0 photos'}, 'attributes': {'groups': []}, 'rating': 9.4, 'url': 'http://www.chicagoparkdistrict.com/parks/lincoln-park/', 'storeId': '', 'timeZone': 'America/Chicago', 'createdAt': 1332446093, 'ok': False}}, 'meta': {'code': 200, 'requestId': '5bb46428f594df205cf2bfab'}}\n"
     ]
    }
   ],
   "source": [
    "venue_columns = ['id', \n",
    "                 'score', \n",
    "                 'category', \n",
    "                 'name', \n",
    "                 'address',\n",
    "                 'postalcode',\n",
    "                 'city',\n",
    "                 'href', \n",
    "                 'latitude', \n",
    "                 'longitude']\n",
    "\n",
    "df_top_venues = pd.DataFrame(columns=venue_columns)\n",
    "\n",
    "for venue in top_venues:\n",
    "    venue_name = venue.find(target=\"_blank\").get_text()\n",
    "    venue_score = venue.find(class_=\"venueScore positive\").get_text()\n",
    "    venue_cat = venue.find(class_=\"categoryName\").get_text()\n",
    "    venue_href = venue.find(class_=\"venueName\").h2.a['href']\n",
    "    venue_id = venue_href.split('/')[-1]\n",
    "\n",
    "    if 'promotedTipId' in venue_id: \n",
    "        continue\n",
    "        \n",
    "    # Get the properly formatted address and the latitude and longitude\n",
    "    url = 'https://api.foursquare.com/v2/venues/{}?client_id={}&client_secret={}&v={}'.format(\n",
    "        venue_id, \n",
    "        cfg['client_id'],\n",
    "        cfg['client_secret'],\n",
    "        cfg['version'])\n",
    "    \n",
    "    result = requests.get(url).json()\n",
    "    \n",
    "    print(result)\n",
    "    venue_address = result['response']['venue']['location']['address']\n",
    "    venue_postalcode = result['response']['venue']['location']['postalCode']\n",
    "    venue_city = result['response']['venue']['location']['city']\n",
    "    venue_latitude = result['response']['venue']['location']['lat']\n",
    "    venue_longitude = result['response']['venue']['location']['lng']\n",
    "    \n",
    "    df_top_venues = df_top_venues.append({'id': venue_id,\n",
    "                                          'score': venue_score,\n",
    "                                          'category': venue_cat,\n",
    "                                          'name': venue_name,\n",
    "                                          'address': venue_address,\n",
    "                                          'postalcode': venue_postalcode,\n",
    "                                          'city': venue_city,\n",
    "                                          'href': venue_href,\n",
    "                                          'latitude': venue_latitude,\n",
    "                                          'longitude': venue_longitude}, ignore_index=True)\n"
   ]
  },
  {
   "cell_type": "code",
   "execution_count": null,
   "metadata": {
    "colab": {},
    "colab_type": "code",
    "id": "VDLk7JGknKQ6"
   },
   "outputs": [],
   "source": [
    "# Import the preprocesses data from the Pickle file\n",
    "df_top_venues = pd.read_pickle('./capstone_data/top_venues.pkl')"
   ]
  },
  {
   "cell_type": "code",
   "execution_count": null,
   "metadata": {
    "colab": {},
    "colab_type": "code",
    "id": "5DbOBwIgnKQ8",
    "outputId": "c1395e44-60ce-42df-aa9c-daad5c3a8941"
   },
   "outputs": [
    {
     "data": {
      "text/plain": [
       "(30, 10)"
      ]
     },
     "execution_count": 48,
     "metadata": {
      "tags": []
     },
     "output_type": "execute_result"
    }
   ],
   "source": [
    "df_top_venues.shape"
   ]
  },
  {
   "cell_type": "code",
   "execution_count": null,
   "metadata": {
    "colab": {},
    "colab_type": "code",
    "id": "3aoSrdUKnKQ9",
    "outputId": "3d524a02-e82d-4777-d521-356a486ae79d"
   },
   "outputs": [
    {
     "data": {
      "text/plain": [
       "id             object\n",
       "score         float64\n",
       "category       object\n",
       "name           object\n",
       "address        object\n",
       "postalcode     object\n",
       "city           object\n",
       "href           object\n",
       "latitude      float64\n",
       "longitude     float64\n",
       "dtype: object"
      ]
     },
     "execution_count": 49,
     "metadata": {
      "tags": []
     },
     "output_type": "execute_result"
    }
   ],
   "source": [
    "df_top_venues.dtypes"
   ]
  },
  {
   "cell_type": "code",
   "execution_count": null,
   "metadata": {
    "colab": {},
    "colab_type": "code",
    "id": "9v-mQhP9nKQ_"
   },
   "outputs": [],
   "source": [
    "df_top_venues['score'] = pd.to_numeric(df_top_venues['score'], errors='coerce').fillna(0)"
   ]
  },
  {
   "cell_type": "code",
   "execution_count": null,
   "metadata": {
    "colab": {},
    "colab_type": "code",
    "id": "tCZ-8UPQnKRB",
    "outputId": "ab6e8fe9-cc7b-4dfc-fd83-0e7b04f453dd"
   },
   "outputs": [
    {
     "data": {
      "text/plain": [
       "count    30.000000\n",
       "mean      9.523333\n",
       "std       0.072793\n",
       "min       9.400000\n",
       "25%       9.500000\n",
       "50%       9.500000\n",
       "75%       9.600000\n",
       "max       9.700000\n",
       "Name: score, dtype: float64"
      ]
     },
     "execution_count": 51,
     "metadata": {
      "tags": []
     },
     "output_type": "execute_result"
    }
   ],
   "source": [
    "df_top_venues.score.describe()"
   ]
  },
  {
   "cell_type": "code",
   "execution_count": null,
   "metadata": {
    "colab": {},
    "colab_type": "code",
    "id": "fk_3XCdfnKRC",
    "outputId": "4519cef1-344f-443b-c378-045aecc558ad"
   },
   "outputs": [
    {
     "data": {
      "text/html": [
       "<div>\n",
       "<style scoped>\n",
       "    .dataframe tbody tr th:only-of-type {\n",
       "        vertical-align: middle;\n",
       "    }\n",
       "\n",
       "    .dataframe tbody tr th {\n",
       "        vertical-align: top;\n",
       "    }\n",
       "\n",
       "    .dataframe thead th {\n",
       "        text-align: right;\n",
       "    }\n",
       "</style>\n",
       "<table border=\"1\" class=\"dataframe\">\n",
       "  <thead>\n",
       "    <tr style=\"text-align: right;\">\n",
       "      <th></th>\n",
       "      <th>id</th>\n",
       "      <th>score</th>\n",
       "      <th>category</th>\n",
       "      <th>name</th>\n",
       "      <th>address</th>\n",
       "      <th>postalcode</th>\n",
       "      <th>city</th>\n",
       "      <th>href</th>\n",
       "      <th>latitude</th>\n",
       "      <th>longitude</th>\n",
       "    </tr>\n",
       "  </thead>\n",
       "  <tbody>\n",
       "    <tr>\n",
       "      <th>0</th>\n",
       "      <td>42b75880f964a52090251fe3</td>\n",
       "      <td>9.7</td>\n",
       "      <td>Park</td>\n",
       "      <td>Millennium Park</td>\n",
       "      <td>201 E Randolph St</td>\n",
       "      <td>60601</td>\n",
       "      <td>Chicago</td>\n",
       "      <td>/v/millennium-park/42b75880f964a52090251fe3</td>\n",
       "      <td>41.882662</td>\n",
       "      <td>-87.623239</td>\n",
       "    </tr>\n",
       "    <tr>\n",
       "      <th>1</th>\n",
       "      <td>4b9511c7f964a520f38d34e3</td>\n",
       "      <td>9.6</td>\n",
       "      <td>Trail</td>\n",
       "      <td>Chicago Lakefront Trail</td>\n",
       "      <td>Lake Michigan Lakefront</td>\n",
       "      <td>60611</td>\n",
       "      <td>Chicago</td>\n",
       "      <td>/v/chicago-lakefront-trail/4b9511c7f964a520f38...</td>\n",
       "      <td>41.967053</td>\n",
       "      <td>-87.646909</td>\n",
       "    </tr>\n",
       "    <tr>\n",
       "      <th>2</th>\n",
       "      <td>49e9ef74f964a52011661fe3</td>\n",
       "      <td>9.6</td>\n",
       "      <td>Art Museum</td>\n",
       "      <td>The Art Institute of Chicago</td>\n",
       "      <td>111 S Michigan Ave</td>\n",
       "      <td>60603</td>\n",
       "      <td>Chicago</td>\n",
       "      <td>/v/the-art-institute-of-chicago/49e9ef74f964a5...</td>\n",
       "      <td>41.879665</td>\n",
       "      <td>-87.623630</td>\n",
       "    </tr>\n",
       "    <tr>\n",
       "      <th>3</th>\n",
       "      <td>4f2a0d0ae4b0837d0c4c2bc3</td>\n",
       "      <td>9.6</td>\n",
       "      <td>Deli / Bodega</td>\n",
       "      <td>Publican Quality Meats</td>\n",
       "      <td>825 W Fulton Market</td>\n",
       "      <td>60607</td>\n",
       "      <td>Chicago</td>\n",
       "      <td>/v/publican-quality-meats/4f2a0d0ae4b0837d0c4c...</td>\n",
       "      <td>41.886642</td>\n",
       "      <td>-87.648718</td>\n",
       "    </tr>\n",
       "    <tr>\n",
       "      <th>4</th>\n",
       "      <td>4aa05f40f964a520643f20e3</td>\n",
       "      <td>9.6</td>\n",
       "      <td>Theater</td>\n",
       "      <td>The Chicago Theatre</td>\n",
       "      <td>175 N State St</td>\n",
       "      <td>60601</td>\n",
       "      <td>Chicago</td>\n",
       "      <td>/v/the-chicago-theatre/4aa05f40f964a520643f20e3</td>\n",
       "      <td>41.885578</td>\n",
       "      <td>-87.627286</td>\n",
       "    </tr>\n",
       "  </tbody>\n",
       "</table>\n",
       "</div>"
      ],
      "text/plain": [
       "                         id  score       category  \\\n",
       "0  42b75880f964a52090251fe3    9.7           Park   \n",
       "1  4b9511c7f964a520f38d34e3    9.6          Trail   \n",
       "2  49e9ef74f964a52011661fe3    9.6     Art Museum   \n",
       "3  4f2a0d0ae4b0837d0c4c2bc3    9.6  Deli / Bodega   \n",
       "4  4aa05f40f964a520643f20e3    9.6        Theater   \n",
       "\n",
       "                           name                  address postalcode     city  \\\n",
       "0               Millennium Park        201 E Randolph St      60601  Chicago   \n",
       "1       Chicago Lakefront Trail  Lake Michigan Lakefront      60611  Chicago   \n",
       "2  The Art Institute of Chicago       111 S Michigan Ave      60603  Chicago   \n",
       "3        Publican Quality Meats      825 W Fulton Market      60607  Chicago   \n",
       "4           The Chicago Theatre           175 N State St      60601  Chicago   \n",
       "\n",
       "                                                href   latitude  longitude  \n",
       "0        /v/millennium-park/42b75880f964a52090251fe3  41.882662 -87.623239  \n",
       "1  /v/chicago-lakefront-trail/4b9511c7f964a520f38...  41.967053 -87.646909  \n",
       "2  /v/the-art-institute-of-chicago/49e9ef74f964a5...  41.879665 -87.623630  \n",
       "3  /v/publican-quality-meats/4f2a0d0ae4b0837d0c4c...  41.886642 -87.648718  \n",
       "4    /v/the-chicago-theatre/4aa05f40f964a520643f20e3  41.885578 -87.627286  "
      ]
     },
     "execution_count": 47,
     "metadata": {
      "tags": []
     },
     "output_type": "execute_result"
    }
   ],
   "source": [
    "df_top_venues.head()"
   ]
  },
  {
   "cell_type": "code",
   "execution_count": null,
   "metadata": {
    "colab": {},
    "colab_type": "code",
    "id": "eyZA5xLynKRD"
   },
   "outputs": [],
   "source": [
    "df_top_venues.to_pickle('./capstone_data/top_venues.pkl')"
   ]
  },
  {
   "cell_type": "code",
   "execution_count": null,
   "metadata": {
    "colab": {},
    "colab_type": "code",
    "id": "NUVp-p96nKRF"
   },
   "outputs": [],
   "source": [
    "# Create a map with the top 10 locations"
   ]
  },
  {
   "cell_type": "code",
   "execution_count": null,
   "metadata": {
    "colab": {},
    "colab_type": "code",
    "collapsed": true,
    "id": "fhPOEt9DnKRI",
    "outputId": "f2c79c7c-b4e2-486e-ee70-7751cbdf3b7c"
   },
   "outputs": [
    {
     "name": "stdout",
     "output_type": "stream",
     "text": [
      "55669b9b498ee34e5249ea61 Gastropubs 4bf58dd8d48988d155941735 Cindy's 12 S Michigan Ave 60603 Chicago 41.88169538551873 -87.62460021795313\n",
      "556509d6498e726bdec19fe9 Burger Joints 4bf58dd8d48988d16c941735 Shake Shack 12 S Michigan Ave 60603 Chicago 41.881672517022395 -87.62445548060445\n",
      "49e749fbf964a52086641fe3 Gastropubs 4bf58dd8d48988d155941735 The Gage 24 S Michigan Ave 60603 Chicago 41.88131924185583 -87.6246421465911\n",
      "4e879cdc93adfd051d6d609e Breakfast Spots 4bf58dd8d48988d143941735 Wildberry Pancakes & Cafe 130 E Randolph St 60601 Chicago 41.88459910689705 -87.62320339679718\n",
      "49d8159cf964a520a05d1fe3 Pubs 4bf58dd8d48988d11b941735 Miller's Pub 134 S Wabash Ave 60603 Chicago 41.87991050687501 -87.62597186754361\n",
      "5a43fb90898bdc16c171d6cb Donut Shops 4bf58dd8d48988d148941735 Stan’s Donuts 181 N. Michigan Ave 60601 Chicago 41.88537128151265 -87.62451561671243\n",
      "4e667204091afcffda218e18 Bakeries 4bf58dd8d48988d16a941735 Magnolia Bakery 108 N State St 60602 Chicago 41.88418724189101 -87.62807811436072\n",
      "4a189b92f964a520d0791fe3 Pizza Places 4bf58dd8d48988d1ca941735 Giordano's 130 E Randolph St 60601 Chicago 41.8851301 -87.6237612\n",
      "4a5bc165f964a520b9bb1fe3 Coffee Shops 4bf58dd8d48988d1e0931735 Intelligentsia Coffee 53 E Randolph St 60601 Chicago 41.88448905085375 -87.6256974629695\n",
      "4b40d131f964a52088bb25e3 Coffee Shops 4bf58dd8d48988d1e0931735 Starbucks 200 N Michigan Ave 60601 Chicago 41.88594506102927 -87.62480898377109\n",
      "4c2b8f18ae6820a188021843 Coffee Shops 4bf58dd8d48988d1e0931735 Starbucks 17 E Monroe St 60603 Chicago 41.880144 -87.626877\n",
      "592f142acf72a063b395cb43 Cafés 4bf58dd8d48988d16d941735 Nutella Cafe 189 N Michigan Avenue 60601 Chicago 41.88559525878139 -87.62447569769371\n",
      "4ac91938f964a5209abe20e3 American Restaurants 4bf58dd8d48988d14e941735 Sweetwater Tavern & Grille 225 N Michigan Ave 60601 Chicago 41.886368318570725 -87.62428164482117\n",
      "5755b556498ea375c5d4baac Gastropubs 4bf58dd8d48988d155941735 The Dearborn 145 N Dearborn St 60602 Chicago 41.88441496734612 -87.6295536667491\n",
      "51c308c7498e369787203cfe Fast Food Restaurants 4bf58dd8d48988d16e941735 Chick-fil-A 177 N State St 60601 Chicago 41.885609 -87.627665\n",
      "49d8159cf964a520a05d1fe3 Pubs 4bf58dd8d48988d11b941735 Miller's Pub 134 S Wabash Ave 60603 Chicago 41.87991050687501 -87.62597186754361\n",
      "49e749fbf964a52086641fe3 Gastropubs 4bf58dd8d48988d155941735 The Gage 24 S Michigan Ave 60603 Chicago 41.88131924185583 -87.6246421465911\n",
      "556509d6498e726bdec19fe9 Burger Joints 4bf58dd8d48988d16c941735 Shake Shack 12 S Michigan Ave 60603 Chicago 41.881672517022395 -87.62445548060445\n",
      "55669b9b498ee34e5249ea61 Gastropubs 4bf58dd8d48988d155941735 Cindy's 12 S Michigan Ave 60603 Chicago 41.88169538551873 -87.62460021795313\n",
      "4c2b8f18ae6820a188021843 Coffee Shops 4bf58dd8d48988d1e0931735 Starbucks 17 E Monroe St 60603 Chicago 41.880144 -87.626877\n",
      "553977b7498eb9779dcb0592 Cafés 4bf58dd8d48988d16d941735 Goddess and The Baker 33 S Wabash Ave 60603 Chicago 41.8813047949221 -87.62611682811053\n",
      "4ed3dd7e93ad987b5112d29f Bakeries 4bf58dd8d48988d16a941735 Panera Bread 2 N Michigan Ave 60602 Chicago 41.882273 -87.624795\n",
      "4e667204091afcffda218e18 Bakeries 4bf58dd8d48988d16a941735 Magnolia Bakery 108 N State St 60602 Chicago 41.88418724189101 -87.62807811436072\n",
      "4b2bedd4f964a520e6bd24e3 German Restaurants 4bf58dd8d48988d10d941735 The Berghoff Restaurant 17 W Adams St 60603 Chicago 41.87931335789547 -87.62865689358061\n",
      "59ea2c436e46507344ca1aae Salad Places 4bf58dd8d48988d1bd941735 sweetgreen 150 N Michigan Ave 60601 Chicago 41.8848763322819 -87.62488905842474\n",
      "49d51ce3f964a520675c1fe3 Coffee Shops 4bf58dd8d48988d1e0931735 Intelligentsia Coffee 53 W Jackson Blvd 60604 Chicago 41.87809169951115 -87.62961497685731\n",
      "5751af74cd102f915c2cb3de Food Courts 4bf58dd8d48988d120951735 Revival Food Hall 125 S Clark St 60603 Chicago 41.87956 -87.63055\n",
      "4a189b92f964a520d0791fe3 Pizza Places 4bf58dd8d48988d1ca941735 Giordano's 130 E Randolph St 60601 Chicago 41.8851301 -87.6237612\n",
      "4a5bc165f964a520b9bb1fe3 Coffee Shops 4bf58dd8d48988d1e0931735 Intelligentsia Coffee 53 E Randolph St 60601 Chicago 41.88448905085375 -87.6256974629695\n",
      "4e879cdc93adfd051d6d609e Breakfast Spots 4bf58dd8d48988d143941735 Wildberry Pancakes & Cafe 130 E Randolph St 60601 Chicago 41.88459910689705 -87.62320339679718\n",
      "5b1854154a7aae002cbe8e62 Mediterranean Restaurants 4bf58dd8d48988d1c0941735 Aba 302 N Green St 60607 Chicago 41.886852162003066 -87.64888478200851\n",
      "5aa1e6cf1755621d76283f88 Restaurants 4bf58dd8d48988d1c4941735 Punch Bowl Social 310 N Green St 60607 Chicago 41.887118 -87.649002\n",
      "5ae8ef9764c8e1002cc6f9b0 Beer Bars 56aa371ce4b08b9a8d57356c Ballast Point Tasting Room & Kitchen 212 N Green St 60607 Chicago 41.886157610840115 -87.64890527007812\n",
      "59278d15da2e0026b1e8a065 New American Restaurants 4bf58dd8d48988d157941735 Beatrix 834 W Fulton Market 60607 Chicago 41.88683275273073 -87.64895495261544\n",
      "56f45a27498e476e9ed38509 Chinese Restaurants 4bf58dd8d48988d145941735 Duck Duck Goat 857 W Fulton Market 60607 Chicago 41.88676820890641 -87.6495103057492\n",
      "4f3d871fe4b046e822dbe157 Burger Joints 4bf58dd8d48988d16c941735 Au Cheval 800 W Randolph St 60607 Chicago 41.884669 -87.647743\n",
      "55b42cdb498e6093d451d365 Italian Restaurants 4bf58dd8d48988d110941735 Bar Siena 832 West Randolph Street 60607 Chicago 41.8846653242402 -87.64880197975201\n",
      "5069b779e4b033d35919d26c Diners 4bf58dd8d48988d147941735 Little Goat Diner 820 W Randolph St 60607 Chicago 41.8846411 -87.6484209\n",
      "4c1f8dd3b306c928029768b7 New American Restaurants 4bf58dd8d48988d157941735 Girl & the Goat 809 W Randolph St 60607 Chicago 41.884339 -87.647825\n",
      "573b5c23498e873d550f3436 Taco Places 4bf58dd8d48988d151941735 Federales 180 N Morgan St 60607 Chicago 41.885365 -87.652297\n",
      "53d6e989498e6c43226aea3d Cafés 4bf58dd8d48988d16d941735 The Allis 113-125 N Green St 60607 Chicago 41.88393303213708 -87.64855264707009\n",
      "4dfcd715fa76c83b6e7e08f8 Coffee Shops 4bf58dd8d48988d1e0931735 La Colombe Torrefaction 955 W Randolph St 60607 Chicago 41.884061943770284 -87.65192180871964\n",
      "5ae0b24a603d2a5c41cd833b Fast Food Restaurants 4bf58dd8d48988d16e941735 McDonald's 1035 W Randolph St 60607 Chicago 41.88413270379468 -87.65359157944198\n",
      "52f18c49498e6b5f0500b610 BBQ Joints 4bf58dd8d48988d1df931735 Green Street Smoked Meats 112 N Green St 60607 Chicago 41.88374674300202 -87.64881932838182\n",
      "540f88f0498ebc69f8d2e671 Pizza Places 4bf58dd8d48988d1ca941735 Parlor Pizza Bar 108 N Green St 60607 Chicago 41.8834 -87.6487\n",
      "51c308c7498e369787203cfe Fast Food Restaurants 4bf58dd8d48988d16e941735 Chick-fil-A 177 N State St 60601 Chicago 41.885609 -87.627665\n",
      "4e667204091afcffda218e18 Bakeries 4bf58dd8d48988d16a941735 Magnolia Bakery 108 N State St 60602 Chicago 41.88418724189101 -87.62807811436072\n",
      "4b10054af964a520946723e3 Coffee Shops 4bf58dd8d48988d1e0931735 Starbucks 40 W Lake Street 60601 Chicago 41.885902 -87.62886\n",
      "592f142acf72a063b395cb43 Cafés 4bf58dd8d48988d16d941735 Nutella Cafe 189 N Michigan Avenue 60601 Chicago 41.88559525878139 -87.62447569769371\n",
      "4a5bc165f964a520b9bb1fe3 Coffee Shops 4bf58dd8d48988d1e0931735 Intelligentsia Coffee 53 E Randolph St 60601 Chicago 41.88448905085375 -87.6256974629695\n",
      "4ac91938f964a5209abe20e3 American Restaurants 4bf58dd8d48988d14e941735 Sweetwater Tavern & Grille 225 N Michigan Ave 60601 Chicago 41.886368318570725 -87.62428164482117\n",
      "4a189b92f964a520d0791fe3 Pizza Places 4bf58dd8d48988d1ca941735 Giordano's 130 E Randolph St 60601 Chicago 41.8851301 -87.6237612\n",
      "4ca4d2a4d695199c9a9451e7 Gastropubs 4bf58dd8d48988d155941735 Public House 400 N State St 60654 Chicago 41.889361 -87.628181\n",
      "57bb7701498eb5ac6831ec93 Coffee Shops 4bf58dd8d48988d1e0931735 Goddess and the Baker 225 N Lasalle St 60601 Chicago 41.88710835679483 -87.63227770968568\n",
      "51f7183b8bbdc6a6ae21592e Tiki Bars 56aa371be4b08b9a8d57354d Three Dots and a Dash 435 N Clark St 60654 Chicago 41.89027 -87.63069\n",
      "4e879cdc93adfd051d6d609e Breakfast Spots 4bf58dd8d48988d143941735 Wildberry Pancakes & Cafe 130 E Randolph St 60601 Chicago 41.88459910689705 -87.62320339679718\n",
      "49e749fbf964a52086641fe3 Gastropubs 4bf58dd8d48988d155941735 The Gage 24 S Michigan Ave 60603 Chicago 41.88131924185583 -87.6246421465911\n",
      "50f58653e4b0e1058164dc7e Italian Restaurants 4bf58dd8d48988d110941735 Siena Tavern 51 West Kinzie Street 60654 Chicago 41.889173329923125 -87.62971857956552\n"
     ]
    },
    {
     "name": "stdout",
     "output_type": "stream",
     "text": [
      "55669b9b498ee34e5249ea61 Gastropubs 4bf58dd8d48988d155941735 Cindy's 12 S Michigan Ave 60603 Chicago 41.88169538551873 -87.62460021795313\n",
      "556509d6498e726bdec19fe9 Burger Joints 4bf58dd8d48988d16c941735 Shake Shack 12 S Michigan Ave 60603 Chicago 41.881672517022395 -87.62445548060445\n",
      "49d8159cf964a520a05d1fe3 Pubs 4bf58dd8d48988d11b941735 Miller's Pub 134 S Wabash Ave 60603 Chicago 41.87991050687501 -87.62597186754361\n",
      "4c2b8f18ae6820a188021843 Coffee Shops 4bf58dd8d48988d1e0931735 Starbucks 17 E Monroe St 60603 Chicago 41.880144 -87.626877\n",
      "49e749fbf964a52086641fe3 Gastropubs 4bf58dd8d48988d155941735 The Gage 24 S Michigan Ave 60603 Chicago 41.88131924185583 -87.6246421465911\n",
      "55669b9b498ee34e5249ea61 Gastropubs 4bf58dd8d48988d155941735 Cindy's 12 S Michigan Ave 60603 Chicago 41.88169538551873 -87.62460021795313\n",
      "553977b7498eb9779dcb0592 Cafés 4bf58dd8d48988d16d941735 Goddess and The Baker 33 S Wabash Ave 60603 Chicago 41.8813047949221 -87.62611682811053\n",
      "556509d6498e726bdec19fe9 Burger Joints 4bf58dd8d48988d16c941735 Shake Shack 12 S Michigan Ave 60603 Chicago 41.881672517022395 -87.62445548060445\n",
      "4e667204091afcffda218e18 Bakeries 4bf58dd8d48988d16a941735 Magnolia Bakery 108 N State St 60602 Chicago 41.88418724189101 -87.62807811436072\n",
      "4b2bedd4f964a520e6bd24e3 German Restaurants 4bf58dd8d48988d10d941735 The Berghoff Restaurant 17 W Adams St 60603 Chicago 41.87931335789547 -87.62865689358061\n",
      "49d51ce3f964a520675c1fe3 Coffee Shops 4bf58dd8d48988d1e0931735 Intelligentsia Coffee 53 W Jackson Blvd 60604 Chicago 41.87809169951115 -87.62961497685731\n",
      "4ed3dd7e93ad987b5112d29f Bakeries 4bf58dd8d48988d16a941735 Panera Bread 2 N Michigan Ave 60602 Chicago 41.882273 -87.624795\n",
      "59ea2c436e46507344ca1aae Salad Places 4bf58dd8d48988d1bd941735 sweetgreen 150 N Michigan Ave 60601 Chicago 41.8848763322819 -87.62488905842474\n",
      "5751af74cd102f915c2cb3de Food Courts 4bf58dd8d48988d120951735 Revival Food Hall 125 S Clark St 60603 Chicago 41.87956 -87.63055\n",
      "4a189b92f964a520d0791fe3 Pizza Places 4bf58dd8d48988d1ca941735 Giordano's 130 E Randolph St 60601 Chicago 41.8851301 -87.6237612\n",
      "4a5bc165f964a520b9bb1fe3 Coffee Shops 4bf58dd8d48988d1e0931735 Intelligentsia Coffee 53 E Randolph St 60601 Chicago 41.88448905085375 -87.6256974629695\n",
      "4e879cdc93adfd051d6d609e Breakfast Spots 4bf58dd8d48988d143941735 Wildberry Pancakes & Cafe 130 E Randolph St 60601 Chicago 41.88459910689705 -87.62320339679718\n",
      "50ca02c5245f2d4aa8c2c579 Hotel Bars 4bf58dd8d48988d1d5941735 720 South Bar & Grill 720 S Michigan Ave 60605 Chicago 41.87291638368289 -87.6243502238978\n",
      "4a7b9022f964a52069eb1fe3 Tapas Restaurants 4bf58dd8d48988d1db931735 Mercat a la Planxa 638 S Michigan Ave 60605 Chicago 41.873212009842334 -87.62448108575718\n",
      "40b28c80f964a52039fb1ee3 Music Venues 4bf58dd8d48988d1e5931735 Buddy Guy's Legends 700 S Wabash Ave 60605 Chicago 41.87310064757227 -87.62614572780251\n",
      "58a3360a3493553f56f942a7 Restaurants 4bf58dd8d48988d1c4941735 Luna Cafe Restaurant 63 E Harrison St 60605 Chicago 41.874670691907355 -87.62552529638134\n",
      "59866e4616ef6757600d2419 Indian Restaurants 4bf58dd8d48988d10f941735 Himalayan Restaurant 606 S Wabash Ave 60605 Chicago 41.874153 -87.626028\n",
      "4ca8fccca643b7130fe5e8a6 Convenience Stores 4d954b0ea243a5684a65b473 7-Eleven 535 S State St 60605 Chicago 41.8748176373287 -87.6272924244403\n",
      "4f860ac1e4b0da7774b47cac Fried Chicken Joints 4d4ae6fc7a7b7dea34424761 Harold's Chicken Shack 636 S Wabash Ave 60605 Chicago 41.873954 -87.626081\n",
      "53965b1a498efde5f32abd60 Sushi Restaurants 4bf58dd8d48988d1d2941735 Niu B 888 S Michigan Ave 60605 Chicago 41.87062275540788 -87.62447362992569\n",
      "4b031e19f964a520ca4c22e3 Donut Shops 4bf58dd8d48988d148941735 Dunkin' Donuts 600 S Wabash Ave 60605 Chicago 41.87425877226952 -87.62612961300589\n",
      "542edd7a498e9f625bee4acd Coffee Shops 4bf58dd8d48988d1e0931735 Peet's Coffee & Tea 800 S Wabash Ave 60605 Chicago 41.87170226255403 -87.6260200706598\n",
      "4bc7541c15a7ef3b672f79da Sushi Restaurants 4bf58dd8d48988d1d2941735 Osaka Sushi Express & Fresh Fruit Smoothies 400 S Michigan Ave 60605 Chicago 41.876968875443474 -87.62453389220651\n",
      "5a8d18eb1953f33b9a917208 Pizza Places 4bf58dd8d48988d1ca941735 Blaze Pizza 511 South State St, 60605 Chicago 41.875233235628734 -87.62746801806279\n",
      "4beadb179fa3ef3b302f80c9 American Restaurants 4bf58dd8d48988d14e941735 Mei's Kitchen 1108 S Michigan Ave 60605 Chicago 41.86921455883757 -87.62431053736245\n",
      "5112981fe4b0752e32d37a90 Sandwich Places 4bf58dd8d48988d1c5941735 Fontano's Subs 332 S Michigan Ave 60604 Chicago 41.877156696359314 -87.62434778730506\n",
      "4cdc7d96a1bba35dafb89ae5 Wings Joints 4bf58dd8d48988d14c941735 Wingstop 12 E Harrison St 60605 Chicago 41.874342481055365 -87.62711484735856\n",
      "51c308c7498e369787203cfe Fast Food Restaurants 4bf58dd8d48988d16e941735 Chick-fil-A 177 N State St 60601 Chicago 41.885609 -87.627665\n",
      "573b2c3238faeff59fd2cc36 Cafés 4bf58dd8d48988d16d941735 Café Nordstrom 55 E Grand Ave 60611 Chicago 41.891382150034076 -87.62636035680771\n",
      "4ac91938f964a5209abe20e3 American Restaurants 4bf58dd8d48988d14e941735 Sweetwater Tavern & Grille 225 N Michigan Ave 60601 Chicago 41.886368318570725 -87.62428164482117\n",
      "592f142acf72a063b395cb43 Cafés 4bf58dd8d48988d16d941735 Nutella Cafe 189 N Michigan Avenue 60601 Chicago 41.88559525878139 -87.62447569769371\n",
      "4b32cfc5f964a5205d1425e3 Mediterranean Restaurants 4bf58dd8d48988d1c0941735 The Purple Pig 500 N Michigan Ave 60611 Chicago 41.890826159768324 -87.62475753856398\n",
      "51f7183b8bbdc6a6ae21592e Tiki Bars 56aa371be4b08b9a8d57354d Three Dots and a Dash 435 N Clark St 60654 Chicago 41.89027 -87.63069\n",
      "4a5bc165f964a520b9bb1fe3 Coffee Shops 4bf58dd8d48988d1e0931735 Intelligentsia Coffee 53 E Randolph St 60601 Chicago 41.88448905085375 -87.6256974629695\n",
      "4a189b92f964a520d0791fe3 Pizza Places 4bf58dd8d48988d1ca941735 Giordano's 130 E Randolph St 60601 Chicago 41.8851301 -87.6237612\n",
      "57bb7701498eb5ac6831ec93 Coffee Shops 4bf58dd8d48988d1e0931735 Goddess and the Baker 225 N Lasalle St 60601 Chicago 41.88710835679483 -87.63227770968568\n",
      "40b28c80f964a520c7fb1ee3 Breweries 50327c8591d4c4b30a586d5d Rock Bottom Restaurant & Brewery 1 W Grand Ave 60654 Chicago 41.8915042 -87.6283725\n",
      "4a97efb8f964a520ed2920e3 Coffee Shops 4bf58dd8d48988d1e0931735 Starbucks 505 N Michigan Ave 60611 Chicago 41.891396 -87.623865\n",
      "4e879cdc93adfd051d6d609e Breakfast Spots 4bf58dd8d48988d143941735 Wildberry Pancakes & Cafe 130 E Randolph St 60601 Chicago 41.88459910689705 -87.62320339679718\n",
      "522fdf320493d5258ca1f8b0 Burger Joints 4bf58dd8d48988d16c941735 Shake Shack 66 E Ohio St 60611 Chicago 41.89256120466481 -87.62564580053429\n",
      "528cdcfd11d2cbb79f3f6ae5 Gourmet Shops 4bf58dd8d48988d1f5941735 Eataly 43 E Ohio St 60611 Chicago 41.89246417690327 -87.6264590285705\n",
      "51b0b828498ecb8d51e396ea New American Restaurants 4bf58dd8d48988d157941735 Beatrix 519 N Clark St 60654 Chicago 41.89148026650749 -87.63087360767099\n",
      "573b2c3238faeff59fd2cc36 Cafés 4bf58dd8d48988d16d941735 Café Nordstrom 55 E Grand Ave 60611 Chicago 41.891382150034076 -87.62636035680771\n",
      "4b32cfc5f964a5205d1425e3 Mediterranean Restaurants 4bf58dd8d48988d1c0941735 The Purple Pig 500 N Michigan Ave 60611 Chicago 41.890826159768324 -87.62475753856398\n",
      "522fdf320493d5258ca1f8b0 Burger Joints 4bf58dd8d48988d16c941735 Shake Shack 66 E Ohio St 60611 Chicago 41.89256120466481 -87.62564580053429\n",
      "528cdcfd11d2cbb79f3f6ae5 Gourmet Shops 4bf58dd8d48988d1f5941735 Eataly 43 E Ohio St 60611 Chicago 41.89246417690327 -87.6264590285705\n",
      "4a97efb8f964a520ed2920e3 Coffee Shops 4bf58dd8d48988d1e0931735 Starbucks 505 N Michigan Ave 60611 Chicago 41.891396 -87.623865\n",
      "4a4fb34df964a52099af1fe3 American Restaurants 4bf58dd8d48988d14e941735 Grand Lux Café 600 N Michigan Ave 60611 Chicago 41.893182942222204 -87.62461293309396\n",
      "40b28c80f964a520c7fb1ee3 Breweries 50327c8591d4c4b30a586d5d Rock Bottom Restaurant & Brewery 1 W Grand Ave 60654 Chicago 41.8915042 -87.6283725\n",
      "4a998f8bf964a520112f20e3 Fast Food Restaurants 4bf58dd8d48988d16e941735 McDonald's 600 N Clark St 60654 Chicago 41.89287 -87.631553\n",
      "4a04fd56f964a52044721fe3 Italian Restaurants 4bf58dd8d48988d110941735 Quartino 626 N State St 60654 Chicago 41.89338568357622 -87.62811707687861\n",
      "49f3473cf964a5207f6a1fe3 Hot Dog Joints 4bf58dd8d48988d16f941735 Portillo's 100 W Ontario St 60654 Chicago 41.8934295 -87.6314147\n"
     ]
    },
    {
     "name": "stdout",
     "output_type": "stream",
     "text": [
      "51f7183b8bbdc6a6ae21592e Tiki Bars 56aa371be4b08b9a8d57354d Three Dots and a Dash 435 N Clark St 60654 Chicago 41.89027 -87.63069\n",
      "4abfeffaf964a5201d9320e3 Pizza Places 4bf58dd8d48988d1ca941735 Giordano's 730 N Rush St 60611 Chicago 41.8959932895807 -87.62569583952427\n",
      "4ac91938f964a5209abe20e3 American Restaurants 4bf58dd8d48988d14e941735 Sweetwater Tavern & Grille 225 N Michigan Ave 60601 Chicago 41.886368318570725 -87.62428164482117\n",
      "51b0b828498ecb8d51e396ea New American Restaurants 4bf58dd8d48988d157941735 Beatrix 519 N Clark St 60654 Chicago 41.89148026650749 -87.63087360767099\n",
      "592f142acf72a063b395cb43 Cafés 4bf58dd8d48988d16d941735 Nutella Cafe 189 N Michigan Avenue 60601 Chicago 41.88559525878139 -87.62447569769371\n",
      "4b9a32a0f964a5200aa435e3 Bakeries 4bf58dd8d48988d16a941735 Weber's Bakery 7055 W Archer Ave 60638 Chicago 41.791907872167535 -87.7985986999637\n",
      "4cf44c1bcc61a35daacb249e Mexican Restaurants 4bf58dd8d48988d1c1941735 Pepe's Mexican Restaurant 7026 W Archer Ave 60638 Chicago 41.792235849496414 -87.79750250072783\n",
      "4beb836d0acf76b02b8c3cc8 Fast Food Restaurants 4bf58dd8d48988d16e941735 Taco Bell 6944 W Archer Ave 60638 Chicago 41.792353273480934 -87.79573902372611\n",
      "4c7e86bed51ea14339e4579f Sandwich Places 4bf58dd8d48988d1c5941735 Subway 5409 S Harlem Ave 60638 Chicago 41.793625712452204 -87.80132881710689\n",
      "4d7bb978e04d6ea85c9cedd5 Donut Shops 4bf58dd8d48988d148941735 Dunkin' Donuts 5615 S Harlem Ave 60638 Chicago 41.78972539537855 -87.80105705476781\n",
      "4cf9ddb8c51fa1cd7e83dd2b Mexican Restaurants 4bf58dd8d48988d1c1941735 Taco Burrito King 5601 S Harlem Ave 60638 Chicago 41.78997380831595 -87.80114995251328\n",
      "4be844fe88ed2d7f5da9cb1d Fast Food Restaurants 4bf58dd8d48988d16e941735 Burger King 7205 W Archer Ave 60501 Summit 41.791537710361 -87.80210807919497\n",
      "4b954684f964a5208b9934e3 Fast Food Restaurants 4bf58dd8d48988d16e941735 Barnelli's 5533 S Harlem Ave 60501 Summit 41.79071969532109 -87.80179764842633\n",
      "4f3294b019836c91c7e5bdff Sandwich Places 4bf58dd8d48988d1c5941735 Yellow Submarine 6825 W Archer Ave 60638 Chicago 41.792 -87.792397\n",
      "4c0d21f22466a59336177721 Mexican Restaurants 4bf58dd8d48988d1c1941735 El Patron 6832 W Archer Ave 60638 Chicago 41.79231019932319 -87.79293951682548\n",
      "4f324c7519836c91c7c9f837 Fast Food Restaurants 4bf58dd8d48988d16e941735 Popeye's Catering 5727 S Harlem Ave 60638 Chicago 41.78742 -87.801099\n",
      "4b3bc02ef964a520517a25e3 Hot Dog Joints 4bf58dd8d48988d16f941735 Portillo's 5532 S Harlem Ave 60501 Summit 41.79079378547714 -87.8018425405026\n",
      "4bc895878b7c9c74966938cf Sandwich Places 4bf58dd8d48988d1c5941735 Potbelly Sandwich Shop 5709 S Harlem Avenue, 60638 Chicago 41.788013 -87.800852\n",
      "40b3de00f964a5201f001fe3 Breweries 50327c8591d4c4b30a586d5d Goose Island Brewpub 1800 N Clybourn Ave 60614 Chicago 41.91325390466107 -87.65440285205841\n",
      "5247168e11d23c6133c033f3 Wings Joints 4bf58dd8d48988d14c941735 Buffalo Wild Wings 1832 North Clybourn Avenue 60614 Chicago 41.91420797822764 -87.6547247171402\n",
      "4bd61e2ecfa7b713411627da Burger Joints 4bf58dd8d48988d16c941735 Epic Burger 1000 W North Ave 60642 Chicago 41.911888985451924 -87.65415741052473\n",
      "5a6cd3bf270ee75b363ee9cb Mediterranean Restaurants 4bf58dd8d48988d1c0941735 Roti Modern Mediterranean 1000 W. North Avenue, Building C 60614 Chicago 41.91150285664863 -87.65320911851906\n",
      "4ac10d10f964a520969520e3 Coffee Shops 4bf58dd8d48988d1e0931735 Starbucks 1001 W North Ave 60642 Chicago 41.91068396 -87.65366133\n",
      "5064500ee4b01f36bfbc18ab Coffee Shops 4bf58dd8d48988d1e0931735 Starbucks 1599 N. Clybourn 60642 Chicago 41.91083497 -87.6490763\n",
      "5b1d5e3dee628b00393765bb Juice Bars 4bf58dd8d48988d112941735 Real Good Juice Co 1550 N Kingsbury St 60642 Chicago 41.909003 -87.652949\n",
      "4a772cfff964a520cde31fe3 Bagel Shops 4bf58dd8d48988d179941735 NYC Bagel Deli 1001 W North Ave 60642 Chicago 41.9105567260726 -87.65304028235863\n",
      "4f3830c1e4b0d408a545eded Coffee Shops 4bf58dd8d48988d1e0931735 Allegro Coffee Company 959 W Fullerton 60614 Chicago 41.90869690887794 -87.65292763710022\n",
      "58962beb375c4a79fe9ecdb0 Pizza Places 4bf58dd8d48988d1ca941735 Pizzeria Bebu 1521 N Fremont St 60642 Chicago 41.909237250816886 -87.65108850655896\n",
      "4686299bf964a5203a481fe3 Molecular Gastronomy Restaurants 4bf58dd8d48988d1c2941735 Alinea 1723 N Halsted St 60614 Chicago 41.91346969289221 -87.64833761636885\n",
      "4aca1c81f964a5206cc020e3 Coffee Shops 4bf58dd8d48988d1e0931735 Starbucks 1001 W. Armitage 60614 Chicago 41.91793670178446 -87.6534123995553\n",
      "4ea1804030f8b9d5abef7a14 Burger Joints 4bf58dd8d48988d16c941735 Butcher & The Burger 1021 W Armitage Ave 60614 Chicago 41.91806656540697 -87.65426250468933\n",
      "52ebeee1498eed227ebec665 Vegetarian / Vegan Restaurants 4bf58dd8d48988d1d3941735 Protein Bar & Kitchen 1953 N Clybourn Ave 60614 Chicago 41.916933 -87.657323\n",
      "4ae0ca21f964a520838221e3 Mexican Restaurants 4bf58dd8d48988d1c1941735 Uncle Julio's Hacienda 855 W North Ave 60642 Chicago 41.910621146516654 -87.6503312587738\n",
      "4a7ec9ebf964a5201bf21fe3 Cafés 4bf58dd8d48988d16d941735 Café Brauer 2021 N Stockton Dr 60614 Chicago 41.91902543890759 -87.63376073799334\n",
      "59601878c66666750db29649 English Restaurants 52e81612bcbc57f1066b7a05 The Kennison 1800 N Lincoln Ave 60614 Chicago 41.91545963478672 -87.63448236795404\n",
      "4a7b6b6ff964a520f3ea1fe3 Pizza Places 4bf58dd8d48988d1ca941735 Bricks Chicago 1909 N Lincoln Ave 60614 Chicago 41.916901294072865 -87.63653562089158\n",
      "518c45d4498ee798a890b2b9 Thai Restaurants 4bf58dd8d48988d149941735 SaiMai Thai 338 W Armitage Ave 60614 Chicago 41.91842702400492 -87.63786532702099\n",
      "4bb8d93753649c74846747fb Cafés 4bf58dd8d48988d16d941735 Park Place Café 2001 N Clark St 60614 Chicago 41.920797508216374 -87.63322114298933\n",
      "4a333c5ff964a5201d9b1fe3 Pizza Places 4bf58dd8d48988d1ca941735 Ranalli's 1925 N Lincoln Ave 60614 Chicago 41.917290287753005 -87.63714446972752\n",
      "4a576d77f964a5201ab61fe3 Coffee Shops 4bf58dd8d48988d1e0931735 Starbucks 2063 N Clark St 60614 Chicago 41.920084527512635 -87.63699626493607\n",
      "4f58d8d3e4b0ff115974f250 Coffee Shops 4bf58dd8d48988d1e0931735 Elaine's Coffee Call 1816 N Clark St 60614 Chicago 41.915331173327864 -87.6343027667231\n",
      "42153000f964a5208c1f1fe3 American Restaurants 4bf58dd8d48988d14e941735 RJ Grunts 2056 N Lincoln Park W 60614 Chicago 41.92011128854481 -87.63659917354344\n",
      "52c04c43498ecaf112b9c5c4 Bakeries 4bf58dd8d48988d16a941735 Vanille Patisserie 2108 N Clark St 60614 Chicago 41.92046453451077 -87.63740174058803\n",
      "4b09de84f964a520f31e23e3 Fondue Restaurants 52e81612bcbc57f1066b7a09 Geja's Cafe 340 W Armitage Ave 60614 Chicago 41.918355139796816 -87.63824471705645\n",
      "4a510e92f964a52083b01fe3 Breakfast Spots 4bf58dd8d48988d143941735 Nookies 1746 N Wells St 60614 Chicago 41.914235078535484 -87.63472065507962\n",
      "4ac946e3f964a52080bf20e3 Pizza Places 4bf58dd8d48988d1ca941735 Chicago Pizza and Oven Grinder Co. 2121 N Clark St 60614 Chicago 41.92071903745905 -87.63748517157939\n",
      "49c59517f964a52010571fe3 Ice Cream Shops 4bf58dd8d48988d1c9941735 Dairy Queen 3811 N Southport Ave 60613 Chicago 41.95110397536831 -87.66384653289606\n",
      "4ac64c18f964a52095b320e3 Bars 4bf58dd8d48988d116941735 Toon's Bar & Grill 3857 N Southport Ave 60613 Chicago 41.95249900593127 -87.66404862094878\n",
      "4b45adc5f964a5203e0f26e3 Fast Food Restaurants 4bf58dd8d48988d16e941735 Burger King 1323 W Irving Park Rd 60613 Chicago 41.954000893413436 -87.66314551234245\n",
      "49e676b0f964a5204e641fe3 New American Restaurants 4bf58dd8d48988d157941735 Uncommon Ground 3800 N Clark St 60613 Chicago 41.951074 -87.65987055\n",
      "58fef9fb6fd626300700921c Coffee Shops 4bf58dd8d48988d1e0931735 Starbucks Reserve 3649 N Clark Street 60613 Chicago 41.94829540140019 -87.65720664380231\n",
      "5ac945cd9ef8ef43b036f1ed Whisky Bars 4bf58dd8d48988d122941735 Mordecai 3630 N Clark St 60613 Chicago 41.947969215616865 -87.65705394165231\n",
      "5acd27e57247507ed95e93b3 BBQ Joints 4bf58dd8d48988d1df931735 Smoke Daddy 3632 N Clark St 60613 Chicago 41.948079911984486 -87.65714550246793\n",
      "5ac2cd2f35811b76aae32b5f Taco Places 4bf58dd8d48988d151941735 Big Star 3640 N Clark St 60613 Chicago 41.948285874672266 -87.65741918037615\n",
      "5ab7ff105455b23aaf0877fc Ice Cream Shops 4bf58dd8d48988d1c9941735 Jeni’s Splendid Ice Creams 3637 N Clark St 60613 Chicago 41.94847158987541 -87.65735331286234\n",
      "4ab54ef4f964a520e07320e3 Coffee Shops 4bf58dd8d48988d1e0931735 Starbucks 3400 N. Southport Ave. 60657 Chicago 41.94358187 -87.66415587\n"
     ]
    },
    {
     "name": "stdout",
     "output_type": "stream",
     "text": [
      "57e575a7498edc223c6efabd Mexican Restaurants 4bf58dd8d48988d1c1941735 Tuco & Blondie 3358 N Southport Ave 60657 Chicago 41.94337681171732 -87.66414631786574\n",
      "50171dbee4b08f3c8587bf18 American Restaurants 4bf58dd8d48988d14e941735 Crosby's Kitchen 3455 N Southport Ave 60657 Chicago 41.945185032507084 -87.66382961198941\n",
      "4a824676f964a5200ff91fe3 Sandwich Places 4bf58dd8d48988d1c5941735 Potbelly Sandwich Shop 3424 N Southport Ave 60657 Chicago 41.944116 -87.664121\n",
      "5228f072bce6872aefde90d0 Ice Cream Shops 4bf58dd8d48988d1c9941735 Jeni's Splendid Ice Creams 3404 N Southport Ave 60657 Chicago 41.9436026060672 -87.66402619739496\n",
      "5462804d498e4d476eaee3b5 Breweries 50327c8591d4c4b30a586d5d Corridor Brewery & Provisions 3446 N Southport Ave 60657 Chicago 41.94477632656988 -87.66409224125067\n",
      "4a6e8003f964a520d5d41fe3 Sandwich Places 4bf58dd8d48988d1c5941735 Bari 1120 W Grand Ave 60642 Chicago 41.89117781715653 -87.6556284832498\n",
      "4b294468f964a520039c24e3 Bakeries 4bf58dd8d48988d16a941735 D'Amato's Bakery 1124 W Grand Ave 60642 Chicago 41.89118476449167 -87.65571570387274\n",
      "5b1338dc005ac1002ce1826f Bars 4bf58dd8d48988d116941735 The Gringo 1202 W Grand Ave 60642 Chicago 41.89116098881676 -87.65764577321498\n",
      "4a2d639ef964a520aa971fe3 Coffee Shops 4bf58dd8d48988d1e0931735 Sip Coffee House 1223 W Grand Ave 60642 Chicago 41.891010856894034 -87.658380339368\n",
      "4addc127f964a520a26521e3 Coffee Shops 4bf58dd8d48988d1e0931735 Starbucks 520 N. Ogden Ave. 60642 Chicago 41.891655 -87.65897\n",
      "4aae6e8af964a520106220e3 Pizza Places 4bf58dd8d48988d1ca941735 D'Agostino's Pizza & Pub 752 N Ogden Ave 60642 Chicago 41.895711537040874 -87.65506823439885\n",
      "40b28c80f964a5203bfd1ee3 Burger Joints 4bf58dd8d48988d16c941735 Twisted Spoke 501 N Ogden Ave 60642 Chicago 41.89123233380783 -87.65869341907532\n",
      "4a3d97f7f964a5207ea21fe3 Pizza Places 4bf58dd8d48988d1ca941735 Coalfire 1321 W Grand Ave 60642 Chicago 41.89100033997468 -87.65975130944584\n",
      "5a204e41e679bc6293a13501 Coffee Shops 4bf58dd8d48988d1e0931735 Stumptown Coffee Roasters 311 N Morgan St 60607 Chicago 41.887685052746264 -87.65216586090638\n",
      "595668292e26800edb06c257 New American Restaurants 4bf58dd8d48988d157941735 City Mouse 311 N Morgan St 60607 Chicago 41.88745321287898 -87.65227827478463\n",
      "4e6f9c8da809952e23f1ac8a Seafood Restaurants 4bf58dd8d48988d1ce941735 Cold Storage 1000 W Fulton Market 60607 Chicago 41.88687020334227 -87.6522782911488\n",
      "56258c49498ee48ae176e5db Steakhouses 4bf58dd8d48988d1cc941735 Swift & Sons 1000 W Fulton Market 60607 Chicago 41.88691196195718 -87.65222401149262\n",
      "4b2e8bf4f964a52031e224e3 Breakfast Spots 4bf58dd8d48988d143941735 The Breakfast Club & Grill 1381 W Hubbard St 60642 Chicago 41.889907777471144 -87.66217376993706\n",
      "56fc6a13498edeb9c07e3398 New American Restaurants 4bf58dd8d48988d157941735 Roister 951 W Fulton Market 60607 Chicago 41.88665166054533 -87.6519197945517\n",
      "5064ea9ae4b036a527481889 Latin American Restaurants 4bf58dd8d48988d1be941735 La Sirena Clandestina 954 W Fulton Market 60607 Chicago 41.88674165882227 -87.65207253766242\n",
      "4f58d8d3e4b0ff115974f250 Coffee Shops 4bf58dd8d48988d1e0931735 Elaine's Coffee Call 1816 N Clark St 60614 Chicago 41.915331173327864 -87.6343027667231\n",
      "4a510e92f964a52083b01fe3 Breakfast Spots 4bf58dd8d48988d143941735 Nookies 1746 N Wells St 60614 Chicago 41.914235078535484 -87.63472065507962\n",
      "44370b7df964a5200d321fe3 Coffee Shops 4bf58dd8d48988d1e0931735 Starbucks 210 W North Avenue 60610 Chicago 41.9113358 -87.63492349\n",
      "4a333c5ff964a5201d9b1fe3 Pizza Places 4bf58dd8d48988d1ca941735 Ranalli's 1925 N Lincoln Ave 60614 Chicago 41.917290287753005 -87.63714446972752\n",
      "4b76d57bf964a520bd622ee3 Donut Shops 4bf58dd8d48988d148941735 Dunkin Donuts 333 W North Ave 60610 Chicago 41.910988116297354 -87.6383067233534\n",
      "4a7ec9ebf964a5201bf21fe3 Cafés 4bf58dd8d48988d16d941735 Café Brauer 2021 N Stockton Dr 60614 Chicago 41.91902543890759 -87.63376073799334\n",
      "53ef9963498eddd220f58e8b Juice Bars 4bf58dd8d48988d112941735 Real Good Juice Co. 1647 N Wells St 60614 Chicago 41.912498729987874 -87.63472312203719\n",
      "5775b8e0498e9b4c2baa7165 Mexican Restaurants 4bf58dd8d48988d1c1941735 Adobo Grill 215 W North Ave 60610 Chicago 41.91102253020165 -87.63536395605571\n",
      "598316918496ca5052bff9d0 Convention Centers 4bf58dd8d48988d1ff931735 Shore Club 1603 N Lakeshore Drive 60611 Chicago 41.915041763732184 -87.6264988429567\n",
      "4ad4d6cdf964a52025fc20e3 Coffee Shops 4bf58dd8d48988d1e0931735 Starbucks 1538 N Clark St 60610 Chicago 41.91054114 -87.63203952\n",
      "4a576d77f964a5201ab61fe3 Coffee Shops 4bf58dd8d48988d1e0931735 Starbucks 2063 N Clark St 60614 Chicago 41.920084527512635 -87.63699626493607\n",
      "4bb8d93753649c74846747fb Cafés 4bf58dd8d48988d16d941735 Park Place Café 2001 N Clark St 60614 Chicago 41.920797508216374 -87.63322114298933\n",
      "42153000f964a5208c1f1fe3 American Restaurants 4bf58dd8d48988d14e941735 RJ Grunts 2056 N Lincoln Park W 60614 Chicago 41.92011128854481 -87.63659917354344\n",
      "49cfdb98f964a520d45a1fe3 BBQ Joints 4bf58dd8d48988d1df931735 Twin Anchors Restaurant & Tavern 1655 N Sedgwick St 60614 Chicago 41.91274197179966 -87.63861938770177\n",
      "5002eb89e4b0004dbebd28bf Bakeries 4bf58dd8d48988d16a941735 La Fournette 1547 N Wells St 60610 Chicago 41.91054391310699 -87.6346056067828\n",
      "56fc0d8e498e7c134fe83104 Restaurants 4bf58dd8d48988d1c4941735 Columbus Tap 200 N Columbus Dr 60601 Chicago 41.88605667441224 -87.62078775474933\n",
      "4e879cdc93adfd051d6d609e Breakfast Spots 4bf58dd8d48988d143941735 Wildberry Pancakes & Cafe 130 E Randolph St 60601 Chicago 41.88459910689705 -87.62320339679718\n",
      "556509d6498e726bdec19fe9 Burger Joints 4bf58dd8d48988d16c941735 Shake Shack 12 S Michigan Ave 60603 Chicago 41.881672517022395 -87.62445548060445\n",
      "49e749fbf964a52086641fe3 Gastropubs 4bf58dd8d48988d155941735 The Gage 24 S Michigan Ave 60603 Chicago 41.88131924185583 -87.6246421465911\n",
      "4a189b92f964a520d0791fe3 Pizza Places 4bf58dd8d48988d1ca941735 Giordano's 130 E Randolph St 60601 Chicago 41.8851301 -87.6237612\n",
      "4a9da6a9f964a520cd3820e3 American Restaurants 4bf58dd8d48988d14e941735 Tavern at the Park 130 E Randolph St 60601 Chicago 41.88450122898503 -87.62362009217881\n",
      "55669b9b498ee34e5249ea61 Gastropubs 4bf58dd8d48988d155941735 Cindy's 12 S Michigan Ave 60603 Chicago 41.88169538551873 -87.62460021795313\n",
      "4e56e50352b1d8d4e311da9e Bakeries 4bf58dd8d48988d16a941735 Toni Patisserie & Café 65 E Washington St 60602 Chicago 41.88323731071309 -87.62536236548584\n",
      "4ed3dd7e93ad987b5112d29f Bakeries 4bf58dd8d48988d16a941735 Panera Bread 2 N Michigan Ave 60602 Chicago 41.882273 -87.624795\n",
      "4e73881c922e0a374024c7b8 Coffee Shops 4bf58dd8d48988d1e0931735 Starbucks 8 N. Michigan Avenue 60602 Chicago 41.88247774 -87.62470103\n",
      "59ea2c436e46507344ca1aae Salad Places 4bf58dd8d48988d1bd941735 sweetgreen 150 N Michigan Ave 60601 Chicago 41.8848763322819 -87.62488905842474\n",
      "54626978498e94400ce0bcfc Snack Places 4bf58dd8d48988d1c7941735 Garrett Popcorn Shops - Millennium Park Plaza 151 N Michigan Ave 60601 Chicago 41.88485432912304 -87.62449889209589\n",
      "4a63b5c3f964a5209fc51fe3 Pizza Places 4bf58dd8d48988d1ca941735 Pizano's Pizza 61 E Madison St. 60603 Chicago 41.88203432227229 -87.62572638341396\n",
      "4fb6627be4b06b62455ed5d1 Coffee Shops 4bf58dd8d48988d1e0931735 Starbucks 200 S Michigan Ave 60604 Chicago 41.87939696 -87.62458551\n",
      "4a5bc165f964a520b9bb1fe3 Coffee Shops 4bf58dd8d48988d1e0931735 Intelligentsia Coffee 53 E Randolph St 60601 Chicago 41.88448905085375 -87.6256974629695\n",
      "4e879cdc93adfd051d6d609e Breakfast Spots 4bf58dd8d48988d143941735 Wildberry Pancakes & Cafe 130 E Randolph St 60601 Chicago 41.88459910689705 -87.62320339679718\n",
      "556509d6498e726bdec19fe9 Burger Joints 4bf58dd8d48988d16c941735 Shake Shack 12 S Michigan Ave 60603 Chicago 41.881672517022395 -87.62445548060445\n",
      "55669b9b498ee34e5249ea61 Gastropubs 4bf58dd8d48988d155941735 Cindy's 12 S Michigan Ave 60603 Chicago 41.88169538551873 -87.62460021795313\n",
      "49e749fbf964a52086641fe3 Gastropubs 4bf58dd8d48988d155941735 The Gage 24 S Michigan Ave 60603 Chicago 41.88131924185583 -87.6246421465911\n",
      "49d8159cf964a520a05d1fe3 Pubs 4bf58dd8d48988d11b941735 Miller's Pub 134 S Wabash Ave 60603 Chicago 41.87991050687501 -87.62597186754361\n",
      "59ea2c436e46507344ca1aae Salad Places 4bf58dd8d48988d1bd941735 sweetgreen 150 N Michigan Ave 60601 Chicago 41.8848763322819 -87.62488905842474\n"
     ]
    },
    {
     "name": "stdout",
     "output_type": "stream",
     "text": [
      "4a189b92f964a520d0791fe3 Pizza Places 4bf58dd8d48988d1ca941735 Giordano's 130 E Randolph St 60601 Chicago 41.8851301 -87.6237612\n",
      "5a43fb90898bdc16c171d6cb Donut Shops 4bf58dd8d48988d148941735 Stan’s Donuts 181 N. Michigan Ave 60601 Chicago 41.88537128151265 -87.62451561671243\n",
      "4e667204091afcffda218e18 Bakeries 4bf58dd8d48988d16a941735 Magnolia Bakery 108 N State St 60602 Chicago 41.88418724189101 -87.62807811436072\n",
      "4b40d131f964a52088bb25e3 Coffee Shops 4bf58dd8d48988d1e0931735 Starbucks 200 N Michigan Ave 60601 Chicago 41.88594506102927 -87.62480898377109\n",
      "592f142acf72a063b395cb43 Cafés 4bf58dd8d48988d16d941735 Nutella Cafe 189 N Michigan Avenue 60601 Chicago 41.88559525878139 -87.62447569769371\n",
      "4ac91938f964a5209abe20e3 American Restaurants 4bf58dd8d48988d14e941735 Sweetwater Tavern & Grille 225 N Michigan Ave 60601 Chicago 41.886368318570725 -87.62428164482117\n",
      "4a5bc165f964a520b9bb1fe3 Coffee Shops 4bf58dd8d48988d1e0931735 Intelligentsia Coffee 53 E Randolph St 60601 Chicago 41.88448905085375 -87.6256974629695\n",
      "4c2b8f18ae6820a188021843 Coffee Shops 4bf58dd8d48988d1e0931735 Starbucks 17 E Monroe St 60603 Chicago 41.880144 -87.626877\n",
      "4e8f3a25d3e3187fc26ada30 Mexican Restaurants 4bf58dd8d48988d1c1941735 Chipotle Mexican Grill 316 N Michigan Ave 60601 Chicago 41.887237257864854 -87.62454887510464\n",
      "4dfc110145ddebdfeaa9754e Ice Cream Shops 4bf58dd8d48988d1c9941735 Lickity Split 6056 N Broadway St 60660 Chicago 41.99267743652594 -87.66047127449951\n",
      "4abe5410f964a520be8c20e3 Hot Dog Joints 4bf58dd8d48988d16f941735 Patio Beef 6022 N Broadway St 60660 Chicago 41.991488286621475 -87.66035892862352\n",
      "4a62680cf964a520fdc31fe3 Pizza Places 4bf58dd8d48988d1ca941735 Gino's North 1111 W Granville Ave 60660 Chicago 41.99446341420484 -87.65896116974754\n",
      "4fd9ebb4e4b0b95600bd60c2 Scandinavian Restaurants 4bf58dd8d48988d1c6941735 Ann Sather 1147 W Granville Ave 60660 Chicago 41.99457852455402 -87.66023523504313\n",
      "45bba5e7f964a520f6411fe3 Thai Restaurants 4bf58dd8d48988d149941735 Indie Café 5951 N Broadway St 60660 Chicago 41.99052209505274 -87.66020826715666\n",
      "57d9ff9c498efb42c964f628 Mexican Restaurants 4bf58dd8d48988d1c1941735 Flaco's Tacos Granville 1116 W Granville Ave 60660 Chicago 41.994671912659186 -87.6591500179596\n",
      "4b78c57ef964a520bee12ee3 Fast Food Restaurants 4bf58dd8d48988d16e941735 McDonald's 6231 N Broadway St 60660 Chicago 41.99558699393999 -87.65993893146515\n",
      "4ac16886f964a5200e9720e3 Donut Shops 4bf58dd8d48988d148941735 Dunkin' Donuts 6332 N Broadway St 60660 Chicago 41.99743257964286 -87.6607564937671\n",
      "50de12c2e4b028f64db9ae09 Korean Restaurants 4bf58dd8d48988d113941735 Dak 1104 W Granville Ave 60660 Chicago 41.99464406105284 -87.65867725405178\n",
      "4e406eb752b17005f5bfa933 Pizza Places 4bf58dd8d48988d1ca941735 Pete's Pizzeria & Bakehouse 1100 W Granville Ave 60660 Chicago 41.99470167567151 -87.65851050723055\n",
      "4e340bd31838df3b5f74b4ab Cafés 4bf58dd8d48988d16d941735 The Growling Rabbit 5938 N Broadway St 60660 Chicago 41.990256 -87.660561\n",
      "4a9ff6d5f964a520c23d20e3 Diners 4bf58dd8d48988d147941735 Little Corner Restaurant 5939 N Broadway St 60660 Chicago 41.9901669768322 -87.66019475959932\n",
      "4a4151d3f964a5201da51fe3 Coffee Shops 4bf58dd8d48988d1e0931735 Metropolis Coffee Company 1039 W Granville Ave 60660 Chicago 41.9945501548414 -87.6573097758734\n",
      "45bbae6cf964a520f7411fe3 Wine Bars 4bf58dd8d48988d123941735 Cellars Bar and Grill 5900 N Broadway St 60660 Chicago 41.9892383700285 -87.6604546287449\n",
      "40b28c80f964a52067ff1ee3 Burger Joints 4bf58dd8d48988d16c941735 Moody's Pub 5910 N Broadway St 60660 Chicago 41.98935989136302 -87.66056118528364\n",
      "5ab2777fbcbf7a4240c3ed42 Cafés 4bf58dd8d48988d16d941735 Eggsperience Pancakes & Cafe 3233 N Broadway St 60657 Chicago 41.940986 -87.644239\n",
      "574059ef498e6a948ca72579 Donut Shops 4bf58dd8d48988d148941735 Stan's Donuts & Coffee 3300 N Broadway St 60657 Chicago 41.94195471233391 -87.64454162300413\n",
      "59e8d4f5dff8150ccd1bd502 Sushi Restaurants 4bf58dd8d48988d1d2941735 Sushi+ Rotary Sushi Bar 3219 N Broadway 60657 Chicago 41.94067888990984 -87.64431160760954\n",
      "4a58d9ddf964a52008b81fe3 Gourmet Shops 4bf58dd8d48988d1f5941735 The Coffee & Tea Exchange 3311 N Broadway St 60657 Chicago 41.942366411472946 -87.64444251453556\n",
      "4b40f526f964a5203dbe25e3 Coffee Shops 4bf58dd8d48988d1e0931735 Starbucks 3358 N Broadway St 60657 Chicago 41.94362584 -87.64513865\n",
      "4a8c9f01f964a520b20e20e3 Bars 4bf58dd8d48988d116941735 Rocks 3463 N Broadway St 60657 Chicago 41.945026262495766 -87.64570603497735\n",
      "4a345eb1f964a520259c1fe3 Pubs 4bf58dd8d48988d11b941735 Wilde Bar & Restaurant 3130 N Broadway St 60657 Chicago 41.93864883199985 -87.64449670983299\n",
      "40b28c80f964a52049ff1ee3 Gay Bars 4bf58dd8d48988d1d8941735 Roscoe's 3356 N Halsted St 60657 Chicago 41.943582979824555 -87.64940002221938\n",
      "57e155c0498e784cdf75cdf8 Coffee Shops 4bf58dd8d48988d1e0931735 Starbucks 3030 N. Broadway 60657 Chicago 41.93704452959064 -87.64435193344431\n",
      "4234d400f964a5200f201fe3 Coffee Shops 4bf58dd8d48988d1e0931735 Intelligentsia Coffee 3123 N Broadway St 60657 Chicago 41.938259591128016 -87.64435216683545\n",
      "4a25b21af964a520817e1fe3 Bagel Shops 4bf58dd8d48988d179941735 The Bagel 3107 N Broadway St 60657 Chicago 41.937871066307274 -87.64418206396056\n",
      "4faef5e1e4b0e047b237877c New American Restaurants 4bf58dd8d48988d157941735 Wood 3335 N Halsted St 60657 Chicago 41.9427740506565 -87.64929405097924\n",
      "4c1fcd7182109c74d231d459 Taco Places 4bf58dd8d48988d151941735 DS Tequila Company 3352 N Halsted St 60657 Chicago 41.94331234118365 -87.64944076538086\n",
      "40be6a00f964a520cd001fe3 Vegetarian / Vegan Restaurants 4bf58dd8d48988d1d3941735 Chicago Diner 3411 N Halsted St 60657 Chicago 41.94399264771975 -87.64925837516785\n",
      "4a14edaff964a52089781fe3 Fried Chicken Joints 4d4ae6fc7a7b7dea34424761 Crisp 2940 N Broadway St 60657 Chicago 41.93609181220135 -87.64430880384693\n",
      "55b42cdb498e6093d451d365 Italian Restaurants 4bf58dd8d48988d110941735 Bar Siena 832 West Randolph Street 60607 Chicago 41.8846653242402 -87.64880197975201\n",
      "4f3d871fe4b046e822dbe157 Burger Joints 4bf58dd8d48988d16c941735 Au Cheval 800 W Randolph St 60607 Chicago 41.884669 -87.647743\n",
      "53d6e989498e6c43226aea3d Cafés 4bf58dd8d48988d16d941735 The Allis 113-125 N Green St 60607 Chicago 41.88393303213708 -87.64855264707009\n",
      "4c1f8dd3b306c928029768b7 New American Restaurants 4bf58dd8d48988d157941735 Girl & the Goat 809 W Randolph St 60607 Chicago 41.884339 -87.647825\n",
      "5069b779e4b033d35919d26c Diners 4bf58dd8d48988d147941735 Little Goat Diner 820 W Randolph St 60607 Chicago 41.8846411 -87.6484209\n",
      "52f18c49498e6b5f0500b610 BBQ Joints 4bf58dd8d48988d1df931735 Green Street Smoked Meats 112 N Green St 60607 Chicago 41.88374674300202 -87.64881932838182\n",
      "540f88f0498ebc69f8d2e671 Pizza Places 4bf58dd8d48988d1ca941735 Parlor Pizza Bar 108 N Green St 60607 Chicago 41.8834 -87.6487\n",
      "5ae8ef9764c8e1002cc6f9b0 Beer Bars 56aa371ce4b08b9a8d57356c Ballast Point Tasting Room & Kitchen 212 N Green St 60607 Chicago 41.886157610840115 -87.64890527007812\n",
      "5b1854154a7aae002cbe8e62 Mediterranean Restaurants 4bf58dd8d48988d1c0941735 Aba 302 N Green St 60607 Chicago 41.886852162003066 -87.64888478200851\n",
      "4dfcd715fa76c83b6e7e08f8 Coffee Shops 4bf58dd8d48988d1e0931735 La Colombe Torrefaction 955 W Randolph St 60607 Chicago 41.884061943770284 -87.65192180871964\n",
      "59278d15da2e0026b1e8a065 New American Restaurants 4bf58dd8d48988d157941735 Beatrix 834 W Fulton Market 60607 Chicago 41.88683275273073 -87.64895495261544\n",
      "5ae0b24a603d2a5c41cd833b Fast Food Restaurants 4bf58dd8d48988d16e941735 McDonald's 1035 W Randolph St 60607 Chicago 41.88413270379468 -87.65359157944198\n",
      "5aa1e6cf1755621d76283f88 Restaurants 4bf58dd8d48988d1c4941735 Punch Bowl Social 310 N Green St 60607 Chicago 41.887118 -87.649002\n",
      "56f45a27498e476e9ed38509 Chinese Restaurants 4bf58dd8d48988d145941735 Duck Duck Goat 857 W Fulton Market 60607 Chicago 41.88676820890641 -87.6495103057492\n",
      "573b5c23498e873d550f3436 Taco Places 4bf58dd8d48988d151941735 Federales 180 N Morgan St 60607 Chicago 41.885365 -87.652297\n",
      "4e55255f6365b59a57f7b10b Coffee Shops 4bf58dd8d48988d1e0931735 Heritage Bicycles 2959 N Lincoln Avenue 60657 Chicago 41.93576 -87.66283\n",
      "4a581421f964a52056b71fe3 Diners 4bf58dd8d48988d147941735 Golden Apple Grill & Breakfast House 2971 N Lincoln Ave 60657 Chicago 41.9359449096313 -87.6633006567833\n"
     ]
    },
    {
     "name": "stdout",
     "output_type": "stream",
     "text": [
      "4aabf7edf964a520435b20e3 Bars 4bf58dd8d48988d116941735 The Diag 2856 N Southport Ave 60657 Chicago 41.93419992364342 -87.6637555350609\n",
      "57214b89498ea56bba20b689 Vegetarian / Vegan Restaurants 4bf58dd8d48988d1d3941735 Left Coast Food & Juice 2878 N Lincoln Ave 60657 Chicago 41.93413851887932 -87.66091931697231\n",
      "57d16eb2498e847d651db302 Restaurants 4bf58dd8d48988d1c4941735 Entente 3056 N Lincoln Ave 60657 Chicago 41.93725704111984 -87.6657064064598\n",
      "4b15adaaf964a5205eb223e3 Fast Food Restaurants 4bf58dd8d48988d16e941735 McDonald's 2834 N Ashland Ave 60657 Chicago 41.933565 -87.66886\n",
      "4b01bb10f964a520ed4422e3 Coffee Shops 4bf58dd8d48988d1e0931735 Starbucks 3045 Greenview 60657 Chicago 41.93771743 -87.66604791\n",
      "4ae1a415f964a5208c8621e3 Donut Shops 4bf58dd8d48988d148941735 Dunkin Donuts 3000 N Ashland Ave 60657 Chicago 41.93622560315452 -87.66872207516063\n",
      "5a8eea193731ee7c89433907 New American Restaurants 4bf58dd8d48988d157941735 Tied House 3157 N Southport Ave 60657 Chicago 41.939645911987554 -87.66367265111872\n",
      "52c44acd498ecb82e18e3be3 Hot Dog Joints 4bf58dd8d48988d16f941735 Red Hot Ranch 3055 N Ashland Ave 60657 Chicago 41.93781131357099 -87.66845074076701\n",
      "40b28c80f964a5204aff1ee3 Music Venues 4bf58dd8d48988d1e5931735 Schubas Tavern 3159 N Southport Ave 60657 Chicago 41.939665295587886 -87.66363501548767\n",
      "53694877498ec47ca9aadd1d Bars 4bf58dd8d48988d116941735 Beermiscuous 2812 N Lincoln Ave 60657 Chicago 41.93284225532336 -87.65929075250754\n",
      "4fe33d7de4b0d2de33f3f7e1 Convenience Stores 4d954b0ea243a5684a65b473 7-Eleven 2821 N Ashland Ave 60657 Chicago 41.9330915743267 -87.66777187586\n",
      "5470e284498e96a8901bf74d Fish & Chips Shops 4edd64a0c7ddd24ca188df1a Fahlstrom's Fresh Fish Market 1258 W Belmont Ave 60657 Chicago 41.9399261579262 -87.66118087516415\n",
      "4b4154fef964a52078c525e3 Pizza Places 4bf58dd8d48988d1ca941735 The Art of Pizza 3033 N Ashland Ave 60657 Chicago 41.93712250502731 -87.66851741675123\n",
      "5228f072bce6872aefde90d0 Ice Cream Shops 4bf58dd8d48988d1c9941735 Jeni's Splendid Ice Creams 3404 N Southport Ave 60657 Chicago 41.9436026060672 -87.66402619739496\n",
      "4ab54ef4f964a520e07320e3 Coffee Shops 4bf58dd8d48988d1e0931735 Starbucks 3400 N. Southport Ave. 60657 Chicago 41.94358187 -87.66415587\n",
      "57e575a7498edc223c6efabd Mexican Restaurants 4bf58dd8d48988d1c1941735 Tuco & Blondie 3358 N Southport Ave 60657 Chicago 41.94337681171732 -87.66414631786574\n",
      "4a824676f964a5200ff91fe3 Sandwich Places 4bf58dd8d48988d1c5941735 Potbelly Sandwich Shop 3424 N Southport Ave 60657 Chicago 41.944116 -87.664121\n",
      "4f5510ace4b0d9ab7d5d8b7d Noodle Houses 4bf58dd8d48988d1d1941735 Noodles & Company 3419 N Southport Ave 60657 Chicago 41.94407833670258 -87.66360028649615\n",
      "5797f54a498ebad131ac5ba0 Italian Restaurants 4bf58dd8d48988d110941735 Coda Di Volpe 3335 N Southport Ave 60657 Chicago 41.94261460311701 -87.66385832224206\n",
      "5462804d498e4d476eaee3b5 Breweries 50327c8591d4c4b30a586d5d Corridor Brewery & Provisions 3446 N Southport Ave 60657 Chicago 41.94477632656988 -87.66409224125067\n",
      "50171dbee4b08f3c8587bf18 American Restaurants 4bf58dd8d48988d14e941735 Crosby's Kitchen 3455 N Southport Ave 60657 Chicago 41.945185032507084 -87.66382961198941\n",
      "5586dec3498edcdb41994339 Cafés 4bf58dd8d48988d16d941735 Two Hearted Queen 1201 W Roscoe St 60657 Chicago 41.94352126119235 -87.6591627621803\n",
      "4a75bc6af964a5201fe11fe3 Breakfast Spots 4bf58dd8d48988d143941735 Southport Grocery & Cafe 3552 N Southport Ave 60657 Chicago 41.946781746702904 -87.66404649895333\n",
      "4b943d7af964a520977034e3 Mexican Restaurants 4bf58dd8d48988d1c1941735 Cafe El Tapatio 3358 N Ashland Ave 60657 Chicago 41.94343452836152 -87.66883940482722\n",
      "40b28c80f964a5204aff1ee3 Music Venues 4bf58dd8d48988d1e5931735 Schubas Tavern 3159 N Southport Ave 60657 Chicago 41.939665295587886 -87.66363501548767\n",
      "49ecc621f964a52082671fe3 Coffee Shops 4bf58dd8d48988d1e0931735 Julius Meinl Coffee House 3601 N Southport Ave 60613 Chicago 41.94727396154495 -87.66400728974682\n",
      "5470e284498e96a8901bf74d Fish & Chips Shops 4edd64a0c7ddd24ca188df1a Fahlstrom's Fresh Fish Market 1258 W Belmont Ave 60657 Chicago 41.9399261579262 -87.66118087516415\n",
      "55bacc3c498e06ffde35ded0 Pizza Places 4bf58dd8d48988d1ca941735 Coalfire Pizza 3707 N Southport Ave 60613 Chicago 41.949010751041904 -87.66403397071669\n",
      "4b23d92ef964a5202b5b24e3 Offices 4bf58dd8d48988d124941735 Intelligentsia Roasting Works 1850 W Fulton St 60612 Chicago 41.88700028164744 -87.67423061275203\n",
      "587049ab4f417a4e33681969 New American Restaurants 4bf58dd8d48988d157941735 Eden 1748 W Lake St 60612 Chicago 41.88530693017767 -87.671171341429\n",
      "5628f89e498e045c6944e344 Food Trucks 4bf58dd8d48988d1cb941735 MigosLunchTruck 1812 1/2 W Hubbard 60622 Chicago 41.89013186678482 -87.6727990377373\n",
      "5b9147a123a2e6002c654de3 Coffee Shops 4bf58dd8d48988d1e0931735 Ghostlight 2021 W Fulton St 60612 Chicago 41.886792 -87.677518\n",
      "4c6025ac90b2c9b66c1d3c22 Cafés 4bf58dd8d48988d16d941735 Big Delicious Planet Catering & Canteen 412 N Wolcott Ave 60622 Chicago 41.88917443950597 -87.67484395789864\n",
      "4b4fae57f964a5209b1027e3 Diners 4bf58dd8d48988d147941735 Best Philly Stop 1600 W Lake St 60612 Chicago 41.885402428766085 -87.66719356315119\n",
      "4c52fdba250dd13aaffc927f Taco Places 4bf58dd8d48988d151941735 Ramirez Fast Food 1521 W Grand Ave 60642 Chicago 41.890869606151206 -87.66639418696015\n",
      "4ede42afd3e346be38d7f065 Coffee Shops 4bf58dd8d48988d1e0931735 Passion House Coffee Roasters 2021 W Fulton St 60612 Chicago 41.88650104922922 -87.67800386620995\n",
      "5282e06c11d2b36a3d53d436 Pizza Places 4bf58dd8d48988d1ca941735 Tortorice's Pizza and Catering 1746 W Grand Ave 60622 Chicago 41.89102577597955 -87.67147313437033\n",
      "4ccc4549c9b84688be83bbc3 Donut Shops 4bf58dd8d48988d148941735 Dunkin' Donuts 1535 W Grand Ave 60642 Chicago 41.89083052854922 -87.66700235538643\n",
      "50ddd8bae4b0c6dcb2fd9340 Breakfast Spots 4bf58dd8d48988d143941735 Breakfast House 1800 W Grand Ave 60622 Chicago 41.89093900620705 -87.67210685657449\n",
      "4db0ea936a231f2e4a6041ad Restaurants 4bf58dd8d48988d1c4941735 Output 1758 W Grand Ave 60622 Chicago 41.890975151641115 -87.67198880508252\n",
      "4afec802f964a5205a3022e3 Filipino Restaurants 4eb1bd1c3b7b55596b4a748f Uncle Mike's Place 1700 W Grand Ave 60622 Chicago 41.89094479983785 -87.66965247249978\n",
      "4a835237f964a520c7fa1fe3 Chinese Restaurants 4bf58dd8d48988d145941735 Chi Cafe 2160 S Archer Ave 60616 Chicago 41.85356822391474 -87.63459915893439\n",
      "5455809d498ec012db68a1f1 Asian Restaurants 4bf58dd8d48988d142941735 Qing Xiang Yuan Dumpling 2002 S Wentworth Ave 60616 Chicago 41.85507202582821 -87.63195045647198\n",
      "5b634f3a1ffe97002c1a7cb1 Tea Rooms 4bf58dd8d48988d1dc931735 Bingo Tea 2150 S Wentworth Ave 60616 Chicago 41.854013 -87.634394\n",
      "4afb96cff964a520b61e22e3 Seafood Restaurants 4bf58dd8d48988d1ce941735 Lawrence's Fish & Shrimp 2120 S Canal St 60616 Chicago 41.85391281340934 -87.63881312080912\n",
      "4cdf271e70bba1cde90465c4 Dim Sum Restaurants 4bf58dd8d48988d1f5931735 MingHin Cuisine 2168 S Archer Ave 60616 Chicago 41.85349952055838 -87.63473421121574\n",
      "53779a83498eba9ab20f5bc1 Tea Rooms 4bf58dd8d48988d1dc931735 Kung Fu Tea 2126 S Archer Ave 60616 Chicago 41.85421119519413 -87.63307981050262\n",
      "4a515a1df964a520feb01fe3 Asian Restaurants 4bf58dd8d48988d142941735 Joy Yee's Noodles 2159 S China Pl 60616 Chicago 41.85404070945669 -87.63379082949828\n",
      "4e9a2f79f5b9d5900475a7c9 Chinese Restaurants 4bf58dd8d48988d145941735 Cai 2100 S Archer Ave 60616 Chicago 41.85436890804054 -87.63213858935352\n",
      "4af5c0cdf964a52058fc21e3 Dim Sum Restaurants 4bf58dd8d48988d1f5931735 Phoenix Restaurant 2131 S Archer Ave 60616 Chicago 41.853785483095855 -87.63321454936616\n",
      "5a5c1e5b42d8c2565fbd68f1 Dessert Shops 4bf58dd8d48988d1d0941735 鮮芋仙 Meet Fresh 2026 S Clark St 60616 Chicago 41.854480311723236 -87.63020138256618\n",
      "54d56689498ead51407efc0a Asian Restaurants 4bf58dd8d48988d142941735 Dolo Restaurant & Bar 2222 S Archer Ave 60616 Chicago 41.85259384787642 -87.63599196937743\n",
      "4bc1fb802a89ef3b71faf288 Bakeries 4bf58dd8d48988d16a941735 Chiu Quon Bakery 2242 S Wentworth Ave 60616 Chicago 41.85140223234881 -87.63194444846354\n",
      "4b24af7ef964a520706924e3 Chinese Restaurants 4bf58dd8d48988d145941735 Triple Crown Restaurant 2217 S Wentworth Ave 60616 Chicago 41.85248427715218 -87.63187529906601\n",
      "523badaa11d2b6fd088bfee3 Bars 4bf58dd8d48988d116941735 Dusek's 1227 W 18th St 60608 Chicago 41.8578788498557 -87.65752740620148\n"
     ]
    },
    {
     "name": "stdout",
     "output_type": "stream",
     "text": [
      "59f24e4135d3fc2f62bcecd0 New American Restaurants 4bf58dd8d48988d157941735 S.K.Y. 1239 W 18th St 60608 Chicago 41.85786076872874 -87.65781234154781\n",
      "4ab56128f964a5204b7420e3 BBQ Joints 4bf58dd8d48988d1df931735 Honky Tonk BBQ 1800 S Racine Ave 60608 Chicago 41.85795887732719 -87.65650767468985\n",
      "5aea5b4bcbcdee002cc81f56 Restaurants 4bf58dd8d48988d1c4941735 Monnie Burke’s 1163 W 18th St 60608 Chicago 41.85782398582006 -87.65563187490626\n",
      "51faffb8498e2f68d5d3285f Mexican Restaurants 4bf58dd8d48988d1c1941735 La Vaca Margarita Bar 1160 W 18th St 60608 Chicago 41.858224876383915 -87.65570047918192\n",
      "4be51474910020a15fa2d214 Mexican Restaurants 4bf58dd8d48988d1c1941735 Coyotes Restaurant 1451 W 18th St 60608 Chicago 41.857828731728446 -87.66350505873794\n",
      "4be4fec05254d13a067d60e1 Fast Food Restaurants 4bf58dd8d48988d16e941735 McDonald's 1664 S Blue Island Ave 60608 Chicago 41.858465780756745 -87.6609293371439\n",
      "528ba1d311d28bca4130266d Taco Places 4bf58dd8d48988d151941735 Atotonilcos 1637 S Blue Island Ave 60608 Chicago 41.85873378509632 -87.66017942794906\n",
      "594dc6af9e0d544d10309eac Vietnamese Restaurants 4bf58dd8d48988d14a941735 Haisous Vietnamese Kitchen 1800 S Carpenter St 60608 Chicago 41.85791043737854 -87.65333144462963\n",
      "519d77fa498e4cf4c369f809 Dessert Shops 4bf58dd8d48988d1d0941735 La Michoacana 1348 W 18th St 60608 Chicago 41.85685376485575 -87.6617982574662\n",
      "4bae77faf964a52039b63be3 Mexican Restaurants 4bf58dd8d48988d1c1941735 La Casa Del Pueblo 1834 S Blue Island Ave 60608 Chicago 41.85739344680798 -87.66155426900038\n",
      "513e718ce4b0c423a60e180e Cafés 4bf58dd8d48988d16d941735 Cafe La Catrina 1011 W 18th St 60608 Chicago 41.857989765748066 -87.65184885214005\n",
      "5074c2ede4b07a83bbba24a5 Gastropubs 4bf58dd8d48988d155941735 Pl-zeň 1519 W 18th St 60608 Chicago 41.85783221657908 -87.6645150816919\n",
      "4af4398ff964a520b4f021e3 Coffee Shops 4bf58dd8d48988d1e0931735 Cafe Jumping Bean 1439 W 18th St 60608 Chicago 41.857846248228036 -87.66274738367372\n",
      "541c39ff498ee385598bdfff Diners 4bf58dd8d48988d147941735 Dove's Luncheonette 1545 N Damen Ave 60622 Chicago 41.90952359487261 -87.67744655553935\n",
      "4adbf2bbf964a520242b21e3 Taco Places 4bf58dd8d48988d151941735 Big Star 1531 N Damen Ave 60622 Chicago 41.90924823005334 -87.67731538002734\n",
      "4af9cb3df964a5204f1422e3 Coffee Shops 4bf58dd8d48988d1e0931735 Starbucks Reserve 1588 N Milwaukee Ave 60622 Chicago 41.91035226 -87.67760718\n",
      "5b78d5df0802d4002c8bb6ea Pizza Places 4bf58dd8d48988d1ca941735 Paradise Park 1913 W North Ave 60622 Chicago 41.91041100782344 -87.67566886943169\n",
      "51d0683c498e3eb7325145da Coffee Shops 4bf58dd8d48988d1e0931735 La Colombe Torrefaction 1552 N Damen Ave 60622 Chicago 41.90985868858506 -87.67765111898692\n",
      "52f2eebd498ea23d1a8d16d5 Donut Shops 4bf58dd8d48988d148941735 Stan's Donuts & Coffee 1560 N Damen Ave 60622 Chicago 41.90992704135463 -87.67746210427194\n",
      "51eee947498e5566f01655c0 Pizza Places 4bf58dd8d48988d1ca941735 Dimo's Pizza 1615 N Damen Ave 60647 Chicago 41.91090937452428 -87.67739788376869\n",
      "54eb6f69498e75f95d61b00a Ice Cream Shops 4bf58dd8d48988d1c9941735 Jeni's Splendid Ice Creams 1505 N Milwaukee Ave 60622 Chicago 41.90882733007759 -87.67494398464306\n",
      "40fc6080f964a5202d0b1fe3 Pizza Places 4bf58dd8d48988d1ca941735 Piece Brewery and Pizzeria 1927 W North Ave 60622 Chicago 41.91037562979727 -87.67617702484131\n",
      "5b4804edc0af57002c6bf071 New American Restaurants 4bf58dd8d48988d157941735 etta 1840 W North Ave 60622 Chicago 41.910589922273516 -87.67438869653337\n",
      "4bcb3ddc68f976b014a16083 Coffee Shops 4bf58dd8d48988d1e0931735 The Wormhole Coffee 1462 N Milwaukee Ave 60622 Chicago 41.90839314023413 -87.67461064465641\n",
      "5b2e90100d8a0f002cd5638d Cajun / Creole Restaurants 4bf58dd8d48988d17a941735 Ina Mae Tavern & Packaged Goods 1415 N Wood St 60622 Chicago 41.90760889741841 -87.67230591681717\n",
      "542ed9f7498ec001c602b569 Breakfast Spots 4bf58dd8d48988d143941735 Kanela Breakfast Club 1408 N Milwaukee Ave 60622 Chicago 41.90745405656163 -87.67309294419334\n",
      "55ba84a4498ec687deaec945 Burger Joints 4bf58dd8d48988d16c941735 Small Cheval 1732 N. Milwaukee Ave 60647 Chicago 41.912816131224986 -87.6814866958218\n",
      "4f78ecede4b087957c152b02 Taco Places 4bf58dd8d48988d151941735 Antique Taco 1360 N Milwaukee Ave 60622 Chicago 41.906456489198504 -87.67148635777411\n",
      "4ecd9a09722e01c57f2cce34 Pie Shops 52e81612bcbc57f1066b7a0a Bang Bang Pie Shop 2051 N California Ave 60647 Chicago 41.91901396975405 -87.69717275730295\n",
      "59f25092610f040e392ef726 Mexican Restaurants 4bf58dd8d48988d1c1941735 Lonesome Rose 2101 N. California Ave 60647 Chicago 41.91958599722102 -87.69716594306196\n",
      "4b92941af964a520360634e3 Ice Cream Shops 4bf58dd8d48988d1c9941735 Tastee Freez 2815 W Armitage Ave 60647 Chicago 41.91746473188869 -87.69804068670184\n",
      "4a6c931df964a520e0d01fe3 Diners 4bf58dd8d48988d147941735 Cozy Corner Diner & Pancake House 2294 N Milwaukee Ave 60647 Chicago 41.92245209658647 -87.69707491286555\n",
      "5a3a9a75acc5f538757e0110 Cafés 4bf58dd8d48988d16d941735 Colectivo Coffee 2261 N Milwaukee Ave 60647 Chicago 41.92214116207241 -87.69598213892174\n",
      "4c2e9022452620a165221c0f Pizza Places 4bf58dd8d48988d1ca941735 The Boiler Room 2210 N California Ave 60647 Chicago 41.92204561178046 -87.69754886627197\n",
      "49bc8c0cf964a5203e541fe3 Bars 4bf58dd8d48988d116941735 Logan Bar & Grill 2230 N California Ave 60647 Chicago 41.922666567586944 -87.69730140629048\n",
      "5142833f29af93e0dcbeaf7f Fried Chicken Joints 4d4ae6fc7a7b7dea34424761 Parson's Chicken & Fish 2952 W Armitage Ave 60647 Chicago 41.91772500765607 -87.70129491271518\n",
      "4b05dbd4f964a52092e422e3 Mexican Restaurants 4bf58dd8d48988d1c1941735 Taquería Moran 2226 N California Ave 60647 Chicago 41.922532513141135 -87.69731892314704\n",
      "5918faa62be4255698c1042b Ramen Restaurants 55a59bace4b013909087cb24 Wasabi Ramen 2101 N Milwaukee Ave 60647 Chicago 41.919451801066174 -87.69145412102496\n",
      "4b0b3062f964a520582e23e3 Breweries 50327c8591d4c4b30a586d5d Revolution Brewing 2323 N Milwaukee Ave 60647 Chicago 41.9234904892934 -87.69814968109131\n",
      "4c43e1d78c1f20a1fabb3b99 Coffee Shops 4bf58dd8d48988d1e0931735 Cafe Mustache 2313 N Milwaukee Ave 60647 Chicago 41.92320171805185 -87.69778335405806\n",
      "4bcdf9eacc8cd13abb80c3cf Ice Cream Shops 4bf58dd8d48988d1c9941735 Miko's Italian Ice 2236 N Sacramento Ave 60647 Chicago 41.92268664350419 -87.70226892044886\n",
      "4a7b911bf964a5206ceb1fe3 Cuban Restaurants 4bf58dd8d48988d154941735 90 Miles Cuban Cafe 2540 W Armitage Ave 60647 Chicago 41.917670866009914 -87.69181966781616\n",
      "50ad7526e4b0733838ae87ec Vegetarian / Vegan Restaurants 4bf58dd8d48988d1d3941735 Chicago Diner 2333 N Milwaukee Ave 60647 Chicago 41.923785 -87.698497\n",
      "4e2b0c02a809f1b1640b7ec1 Cafés 4bf58dd8d48988d16d941735 Café Galileo's 1300 S Lake Shore Dr 60605 Chicago 41.86664115113287 -87.60698809246475\n",
      "4fce3c1ee4b0f39fffe5a5e1 Snack Places 4bf58dd8d48988d1c7941735 Del Campo Tacos 1300 S Lynn White Dr 60605 Chicago 41.864558885259996 -87.60767200401754\n",
      "4c853201d34ca143090e4580 Burger Joints 4bf58dd8d48988d16c941735 Museum Campus Cafe 500 E McFetridge Dr 60605 Chicago 41.86642273522904 -87.61468708475132\n",
      "4f134fb2e4b0f2c2134e9878 Food Courts 4bf58dd8d48988d120951735 Bubble Net Tray Return 1300 S Lake Shore Dr 60605 Chicago 41.86920443053401 -87.6132889048734\n",
      "4b8aac5bf964a520f97832e3 Food Courts 4bf58dd8d48988d120951735 Bubblenet Food Court 1200 S Lake Shore Dr 60605 Chicago 41.86792457273813 -87.613260162822\n",
      "4b8adb30f964a520938532e3 Cafés 4bf58dd8d48988d16d941735 Soundings Cafe 1200 S Lake Shore Dr 60605 Chicago 41.86795582022406 -87.6133098340063\n",
      "4b6745f4f964a52022452be3 Hot Dog Joints 4bf58dd8d48988d16f941735 Kim & Carlo's Chicago Style Hot Dogs 1400 S Lake Shore Dr 60605 Chicago 41.86756346237103 -87.61586707698567\n",
      "49ebe487f964a52043671fe3 French Restaurants 4bf58dd8d48988d10c941735 Mon Ami Gabi 2300 N Lincoln Park W 60614 Chicago 41.92392662057388 -87.63661534297943\n",
      "5acfc7691499467cf1440b05 Cafés 4bf58dd8d48988d16d941735 Cafe Corbel 2342 N Clark St 60614 Chicago 41.924639 -87.639944\n",
      "51676633e4b0c86be07fb761 Donut Shops 4bf58dd8d48988d148941735 Dunkin' Donuts 2300 N Clark St 60614 Chicago 41.92387147302083 -87.63951496592658\n",
      "5abafacff00a703dd7731662 Southern / Soul Food Restaurants 4bf58dd8d48988d14f941735 Drawl Southern Cookhouse And Whiskey Room 2423 N Clark St 60614 Chicago 41.926197 -87.640679\n"
     ]
    },
    {
     "name": "stdout",
     "output_type": "stream",
     "text": [
      "4c19629a4ff90f47c4e60f49 Performing Arts Venues 4bf58dd8d48988d1f2931735 Theater On The Lake 2401 N. Lake Shore Drive 60614 Chicago 41.927100329095175 -87.63073841677247\n",
      "4a81b6c6f964a52055f71fe3 Sushi Restaurants 4bf58dd8d48988d1d2941735 Sushi Para II 2256 N Clark St 60614 Chicago 41.92356539361453 -87.63920154145613\n",
      "5907649f12c8f05bcac2dda7 Peruvian Restaurants 4eb1bfa43b7b52c0e1adc2e8 Chopo Chicken 2460 N Clark St 60614 Chicago 41.927028575695374 -87.64143948666671\n",
      "431e2d80f964a52082271fe3 Italian Restaurants 4bf58dd8d48988d110941735 The Pasta Bowl 2434 N Clark St 60614 Chicago 41.926458268236566 -87.64116666886112\n",
      "4b1b2384f964a520bef823e3 New American Restaurants 4bf58dd8d48988d157941735 North Pond 2610 N Cannon Dr 60614 Chicago 41.92973243292843 -87.63759402061433\n",
      "52c04c43498ecaf112b9c5c4 Bakeries 4bf58dd8d48988d16a941735 Vanille Patisserie 2108 N Clark St 60614 Chicago 41.92046453451077 -87.63740174058803\n",
      "569b9192498e38b72f7e9f51 Donut Shops 4bf58dd8d48988d148941735 Firecakes 2453 N Clark St 60614 Chicago 41.926872633534515 -87.64122245586235\n",
      "4bb8d93753649c74846747fb Cafés 4bf58dd8d48988d16d941735 Park Place Café 2001 N Clark St 60614 Chicago 41.920797508216374 -87.63322114298933\n",
      "53b21922498e345e4a33c284 Beer Gardens 4bf58dd8d48988d117941735 Gaslight Bar 2450 N Clark St 60614 Chicago 41.92693144406929 -87.64137686987524\n",
      "4ac946e3f964a52080bf20e3 Pizza Places 4bf58dd8d48988d1ca941735 Chicago Pizza and Oven Grinder Co. 2121 N Clark St 60614 Chicago 41.92071903745905 -87.63748517157939\n"
     ]
    }
   ],
   "source": [
    "restaurants_columns = ['id',\n",
    "                       'score', \n",
    "                       'category', \n",
    "                       'categoryID', \n",
    "                       'name', \n",
    "                       'address',\n",
    "                       'postalcode',\n",
    "                       'city',\n",
    "                       'latitude',\n",
    "                       'longitude', \n",
    "                       'venue_name', \n",
    "                       'venue_latitude',\n",
    "                       'venue_longitude']\n",
    "\n",
    "df_restaurant = pd.DataFrame(columns=restaurants_columns)\n",
    "\n",
    "# Create a list of all the top venue latitude and longitude\n",
    "top_venue_lats = df_top_venues['latitude'].values\n",
    "top_venue_lngs = df_top_venues['longitude'].values\n",
    "\n",
    "# Create a list of all the top venue names\n",
    "top_venue_names = df_top_venues['name'].values\n",
    "\n",
    "for ven_name, ven_lat, ven_long in zip(top_venue_names, top_venue_lats, top_venue_lngs):\n",
    "    # print(ven_id, ven_name)\n",
    "    \n",
    "    # Configure additional Search parameters\n",
    "    categoryId = '4d4b7105d754a06374d81259'\n",
    "    radius = 500\n",
    "    limit = 15\n",
    "    \n",
    "    url = 'https://api.foursquare.com/v2/venues/search?client_id={}&client_secret={}&ll={},{}&v={}&categoryId={}&radius={}&limit={}'.format(\n",
    "        cfg['client_id'],\n",
    "        cfg['client_secret'],\n",
    "        ven_lat,\n",
    "        ven_long,\n",
    "        cfg['version'],\n",
    "        categoryId,\n",
    "        radius,\n",
    "        limit)\n",
    "    \n",
    "    results = requests.get(url).json()\n",
    "    \n",
    "    # print(results['response'])\n",
    "    \n",
    "    # Want a good selection of Restaurents\n",
    "    # If less than 10 ignore\n",
    "    if len(results['response']['venues']) < 10:\n",
    "        continue\n",
    "        \n",
    "    # Create a new dataframe with the list of restaurants\n",
    "    # Get the values for each Restaurant from the JSON\n",
    "    for restaurant in results['response']['venues']:\n",
    " \n",
    "        # Sometimes there is no address. If so continue\n",
    "        # if restaurant['location']['address']:\n",
    "        #     continue\n",
    "        \n",
    "        try:\n",
    "            # Get location details\n",
    "            rest_id = restaurant['id']\n",
    "            rest_category = restaurant['categories'][0]['pluralName']\n",
    "            rest_categoryID = restaurant['categories'][0]['id']\n",
    "            rest_name = restaurant['name']\n",
    "            rest_address = restaurant['location']['address']\n",
    "            rest_postalcode = restaurant['location']['postalCode']\n",
    "            rest_city = restaurant['location']['city']\n",
    "            rest_latitude = restaurant['location']['lat']\n",
    "            rest_longitude = restaurant['location']['lng']\n",
    "            \n",
    "            # Get the restaurant score and href\n",
    "            rest_url = 'https://api.foursquare.com/v2/venues/{}?client_id={}&client_secret={}&v={}'.format(\n",
    "                rest_id, \n",
    "                cfg['client_id'],\n",
    "                cfg['client_secret'],\n",
    "                cfg['version'])\n",
    "\n",
    "            result = requests.get(rest_url).json()\n",
    "\n",
    "            rest_score = result['response']['venue']['rating']\n",
    "            \n",
    "            df_restaurant = df_restaurant.append({'id': rest_id,\n",
    "                                                  'score': rest_score,\n",
    "                                                  'category': rest_category,\n",
    "                                                  'categoryID': rest_categoryID,\n",
    "                                                  'name': rest_name,\n",
    "                                                  'address': rest_address,\n",
    "                                                  'postalcode': rest_postalcode,\n",
    "                                                  'city': rest_city,\n",
    "                                                  'latitude': rest_latitude,\n",
    "                                                  'longitude': rest_longitude,\n",
    "                                                  'venue_name': ven_name,\n",
    "                                                  'venue_latitude': ven_lat,\n",
    "                                                  'venue_longitude': ven_long}, ignore_index=True)\n",
    "            \n",
    "        except:\n",
    "            continue\n",
    "\n"
   ]
  },
  {
   "cell_type": "code",
   "execution_count": null,
   "metadata": {
    "colab": {},
    "colab_type": "code",
    "id": "JGlAhWm5nKRK"
   },
   "outputs": [],
   "source": []
  },
  {
   "cell_type": "code",
   "execution_count": null,
   "metadata": {
    "colab": {},
    "colab_type": "code",
    "id": "N78X3baJnKRL"
   },
   "outputs": [],
   "source": [
    "df_restaurant = pd.read_pickle('./capstone_data/restaurants.pkl')"
   ]
  },
  {
   "cell_type": "code",
   "execution_count": null,
   "metadata": {
    "colab": {},
    "colab_type": "code",
    "id": "KPvU48KOnKRM"
   },
   "outputs": [],
   "source": []
  },
  {
   "cell_type": "code",
   "execution_count": null,
   "metadata": {
    "colab": {},
    "colab_type": "code",
    "id": "v-bpn9SanKRN",
    "outputId": "3ee84ad4-df2d-4571-a95b-bec64b537741"
   },
   "outputs": [
    {
     "data": {
      "text/plain": [
       "(387, 13)"
      ]
     },
     "execution_count": 55,
     "metadata": {
      "tags": []
     },
     "output_type": "execute_result"
    }
   ],
   "source": [
    "df_restaurant.shape"
   ]
  },
  {
   "cell_type": "code",
   "execution_count": null,
   "metadata": {
    "colab": {},
    "colab_type": "code",
    "id": "mrMNi2mdnKRO"
   },
   "outputs": [],
   "source": [
    "# Find the best place to eat at each of the top 10 locations"
   ]
  },
  {
   "cell_type": "code",
   "execution_count": null,
   "metadata": {
    "colab": {},
    "colab_type": "code",
    "id": "gLX_BO4rnKRQ",
    "outputId": "928aa38c-c252-4343-f5d8-5d7f257d0d50"
   },
   "outputs": [
    {
     "data": {
      "text/html": [
       "<div>\n",
       "<style scoped>\n",
       "    .dataframe tbody tr th:only-of-type {\n",
       "        vertical-align: middle;\n",
       "    }\n",
       "\n",
       "    .dataframe tbody tr th {\n",
       "        vertical-align: top;\n",
       "    }\n",
       "\n",
       "    .dataframe thead th {\n",
       "        text-align: right;\n",
       "    }\n",
       "</style>\n",
       "<table border=\"1\" class=\"dataframe\">\n",
       "  <thead>\n",
       "    <tr style=\"text-align: right;\">\n",
       "      <th></th>\n",
       "      <th>id</th>\n",
       "      <th>score</th>\n",
       "      <th>category</th>\n",
       "      <th>categoryID</th>\n",
       "      <th>name</th>\n",
       "      <th>address</th>\n",
       "      <th>postalcode</th>\n",
       "      <th>city</th>\n",
       "      <th>latitude</th>\n",
       "      <th>longitude</th>\n",
       "      <th>venue_name</th>\n",
       "      <th>venue_latitude</th>\n",
       "      <th>venue_longitude</th>\n",
       "    </tr>\n",
       "  </thead>\n",
       "  <tbody>\n",
       "    <tr>\n",
       "      <th>0</th>\n",
       "      <td>55669b9b498ee34e5249ea61</td>\n",
       "      <td>9.2</td>\n",
       "      <td>Gastropubs</td>\n",
       "      <td>4bf58dd8d48988d155941735</td>\n",
       "      <td>Cindy's</td>\n",
       "      <td>12 S Michigan Ave</td>\n",
       "      <td>60603</td>\n",
       "      <td>Chicago</td>\n",
       "      <td>41.881695</td>\n",
       "      <td>-87.624600</td>\n",
       "      <td>Millennium Park</td>\n",
       "      <td>41.882662</td>\n",
       "      <td>-87.623239</td>\n",
       "    </tr>\n",
       "    <tr>\n",
       "      <th>1</th>\n",
       "      <td>556509d6498e726bdec19fe9</td>\n",
       "      <td>8.4</td>\n",
       "      <td>Burger Joints</td>\n",
       "      <td>4bf58dd8d48988d16c941735</td>\n",
       "      <td>Shake Shack</td>\n",
       "      <td>12 S Michigan Ave</td>\n",
       "      <td>60603</td>\n",
       "      <td>Chicago</td>\n",
       "      <td>41.881673</td>\n",
       "      <td>-87.624455</td>\n",
       "      <td>Millennium Park</td>\n",
       "      <td>41.882662</td>\n",
       "      <td>-87.623239</td>\n",
       "    </tr>\n",
       "    <tr>\n",
       "      <th>2</th>\n",
       "      <td>49e749fbf964a52086641fe3</td>\n",
       "      <td>9.1</td>\n",
       "      <td>Gastropubs</td>\n",
       "      <td>4bf58dd8d48988d155941735</td>\n",
       "      <td>The Gage</td>\n",
       "      <td>24 S Michigan Ave</td>\n",
       "      <td>60603</td>\n",
       "      <td>Chicago</td>\n",
       "      <td>41.881319</td>\n",
       "      <td>-87.624642</td>\n",
       "      <td>Millennium Park</td>\n",
       "      <td>41.882662</td>\n",
       "      <td>-87.623239</td>\n",
       "    </tr>\n",
       "    <tr>\n",
       "      <th>3</th>\n",
       "      <td>4e879cdc93adfd051d6d609e</td>\n",
       "      <td>9.2</td>\n",
       "      <td>Breakfast Spots</td>\n",
       "      <td>4bf58dd8d48988d143941735</td>\n",
       "      <td>Wildberry Pancakes &amp; Cafe</td>\n",
       "      <td>130 E Randolph St</td>\n",
       "      <td>60601</td>\n",
       "      <td>Chicago</td>\n",
       "      <td>41.884599</td>\n",
       "      <td>-87.623203</td>\n",
       "      <td>Millennium Park</td>\n",
       "      <td>41.882662</td>\n",
       "      <td>-87.623239</td>\n",
       "    </tr>\n",
       "    <tr>\n",
       "      <th>4</th>\n",
       "      <td>49d8159cf964a520a05d1fe3</td>\n",
       "      <td>8.5</td>\n",
       "      <td>Pubs</td>\n",
       "      <td>4bf58dd8d48988d11b941735</td>\n",
       "      <td>Miller's Pub</td>\n",
       "      <td>134 S Wabash Ave</td>\n",
       "      <td>60603</td>\n",
       "      <td>Chicago</td>\n",
       "      <td>41.879911</td>\n",
       "      <td>-87.625972</td>\n",
       "      <td>Millennium Park</td>\n",
       "      <td>41.882662</td>\n",
       "      <td>-87.623239</td>\n",
       "    </tr>\n",
       "  </tbody>\n",
       "</table>\n",
       "</div>"
      ],
      "text/plain": [
       "                         id  score         category                categoryID  \\\n",
       "0  55669b9b498ee34e5249ea61    9.2       Gastropubs  4bf58dd8d48988d155941735   \n",
       "1  556509d6498e726bdec19fe9    8.4    Burger Joints  4bf58dd8d48988d16c941735   \n",
       "2  49e749fbf964a52086641fe3    9.1       Gastropubs  4bf58dd8d48988d155941735   \n",
       "3  4e879cdc93adfd051d6d609e    9.2  Breakfast Spots  4bf58dd8d48988d143941735   \n",
       "4  49d8159cf964a520a05d1fe3    8.5             Pubs  4bf58dd8d48988d11b941735   \n",
       "\n",
       "                        name            address postalcode     city  \\\n",
       "0                    Cindy's  12 S Michigan Ave      60603  Chicago   \n",
       "1                Shake Shack  12 S Michigan Ave      60603  Chicago   \n",
       "2                   The Gage  24 S Michigan Ave      60603  Chicago   \n",
       "3  Wildberry Pancakes & Cafe  130 E Randolph St      60601  Chicago   \n",
       "4               Miller's Pub   134 S Wabash Ave      60603  Chicago   \n",
       "\n",
       "    latitude  longitude       venue_name  venue_latitude  venue_longitude  \n",
       "0  41.881695 -87.624600  Millennium Park       41.882662       -87.623239  \n",
       "1  41.881673 -87.624455  Millennium Park       41.882662       -87.623239  \n",
       "2  41.881319 -87.624642  Millennium Park       41.882662       -87.623239  \n",
       "3  41.884599 -87.623203  Millennium Park       41.882662       -87.623239  \n",
       "4  41.879911 -87.625972  Millennium Park       41.882662       -87.623239  "
      ]
     },
     "execution_count": 159,
     "metadata": {
      "tags": []
     },
     "output_type": "execute_result"
    }
   ],
   "source": [
    "df_restaurant.head()"
   ]
  },
  {
   "cell_type": "code",
   "execution_count": null,
   "metadata": {
    "colab": {},
    "colab_type": "code",
    "id": "3Ly7r3conKRR",
    "outputId": "08334209-fd98-4efb-c5b4-9814d0eb0708"
   },
   "outputs": [
    {
     "data": {
      "text/plain": [
       "id                  object\n",
       "score              float64\n",
       "category            object\n",
       "categoryID          object\n",
       "name                object\n",
       "address             object\n",
       "postalcode          object\n",
       "city                object\n",
       "latitude           float64\n",
       "longitude          float64\n",
       "venue_name          object\n",
       "venue_latitude     float64\n",
       "venue_longitude    float64\n",
       "dtype: object"
      ]
     },
     "execution_count": 56,
     "metadata": {
      "tags": []
     },
     "output_type": "execute_result"
    }
   ],
   "source": [
    "df_restaurant.dtypes"
   ]
  },
  {
   "cell_type": "code",
   "execution_count": null,
   "metadata": {
    "colab": {},
    "colab_type": "code",
    "id": "EoFbXF2nnKRS",
    "outputId": "9662802f-e24a-4d0c-db2b-22e4714f0eec"
   },
   "outputs": [
    {
     "data": {
      "text/plain": [
       "count    387.000000\n",
       "mean       8.286563\n",
       "std        0.930138\n",
       "min        5.300000\n",
       "25%        7.800000\n",
       "50%        8.500000\n",
       "75%        9.000000\n",
       "max        9.500000\n",
       "Name: score, dtype: float64"
      ]
     },
     "execution_count": 57,
     "metadata": {
      "tags": []
     },
     "output_type": "execute_result"
    }
   ],
   "source": [
    "df_restaurant.score.describe()"
   ]
  },
  {
   "cell_type": "code",
   "execution_count": null,
   "metadata": {
    "colab": {},
    "colab_type": "code",
    "id": "pj_T_okHnKRT",
    "outputId": "5e12412a-f732-449a-9a64-bed2f43550c3"
   },
   "outputs": [
    {
     "data": {
      "text/plain": [
       "28"
      ]
     },
     "execution_count": 58,
     "metadata": {
      "tags": []
     },
     "output_type": "execute_result"
    }
   ],
   "source": [
    "df_restaurant.venue_name.nunique()"
   ]
  },
  {
   "cell_type": "code",
   "execution_count": null,
   "metadata": {
    "colab": {},
    "colab_type": "code",
    "id": "9DUqDebjnKRU",
    "outputId": "234a85d6-035a-46a5-994b-69462dbde62e"
   },
   "outputs": [
    {
     "data": {
      "text/plain": [
       "72"
      ]
     },
     "execution_count": 59,
     "metadata": {
      "tags": []
     },
     "output_type": "execute_result"
    }
   ],
   "source": [
    "df_restaurant.category.nunique()"
   ]
  },
  {
   "cell_type": "code",
   "execution_count": null,
   "metadata": {
    "colab": {},
    "colab_type": "code",
    "id": "EMH1U763nKRW",
    "outputId": "9b1fc45f-e191-4f16-ee28-fa5741379b8a"
   },
   "outputs": [
    {
     "data": {
      "text/plain": [
       "240"
      ]
     },
     "execution_count": 60,
     "metadata": {
      "tags": []
     },
     "output_type": "execute_result"
    }
   ],
   "source": [
    "df_restaurant.name.nunique()"
   ]
  },
  {
   "cell_type": "code",
   "execution_count": null,
   "metadata": {
    "colab": {},
    "colab_type": "code",
    "id": "BiCGUCQYnKRX",
    "outputId": "1a994118-6482-45ff-af7b-59f47ae45fbb"
   },
   "outputs": [
    {
     "data": {
      "text/plain": [
       "category\n",
       "Coffee Shops                52\n",
       "Pizza Places                29\n",
       "Cafés                       24\n",
       "Bakeries                    15\n",
       "Burger Joints               15\n",
       "Gastropubs                  15\n",
       "New American Restaurants    15\n",
       "Mexican Restaurants         14\n",
       "Breakfast Spots             13\n",
       "Fast Food Restaurants       13\n",
       "Name: name, dtype: int64"
      ]
     },
     "execution_count": 76,
     "metadata": {
      "tags": []
     },
     "output_type": "execute_result"
    }
   ],
   "source": [
    "df_restaurant.groupby('category')['name'].count().sort_values(ascending=False)[:10]"
   ]
  },
  {
   "cell_type": "code",
   "execution_count": null,
   "metadata": {
    "colab": {},
    "colab_type": "code",
    "id": "4K5gzt6ynKRY",
    "outputId": "673effa1-3d7a-42be-d0d7-52bf935986d7"
   },
   "outputs": [
    {
     "data": {
      "text/plain": [
       "category\n",
       "Pie Shops                           9.4000\n",
       "French Restaurants                  9.4000\n",
       "Molecular Gastronomy Restaurants    9.3000\n",
       "Filipino Restaurants                9.2000\n",
       "Cuban Restaurants                   9.1000\n",
       "Ice Cream Shops                     9.0625\n",
       "Mediterranean Restaurants           9.0600\n",
       "Korean Restaurants                  9.0000\n",
       "Latin American Restaurants          9.0000\n",
       "Fish & Chips Shops                  9.0000\n",
       "Name: score, dtype: float64"
      ]
     },
     "execution_count": 78,
     "metadata": {
      "tags": []
     },
     "output_type": "execute_result"
    }
   ],
   "source": [
    "df_restaurant.groupby('category')['score'].mean().sort_values(ascending=False)[:10]"
   ]
  },
  {
   "cell_type": "code",
   "execution_count": null,
   "metadata": {
    "colab": {},
    "colab_type": "code",
    "id": "xLa599SynKRa"
   },
   "outputs": [],
   "source": [
    "df_restaurant.to_pickle('./capstone_data/restaurants.pkl')"
   ]
  },
  {
   "cell_type": "code",
   "execution_count": null,
   "metadata": {
    "colab": {},
    "colab_type": "code",
    "id": "7Uf8gacZnKRb"
   },
   "outputs": [],
   "source": []
  },
  {
   "cell_type": "code",
   "execution_count": null,
   "metadata": {
    "colab": {},
    "colab_type": "code",
    "id": "HTUxLQqunKRc"
   },
   "outputs": [],
   "source": []
  },
  {
   "cell_type": "code",
   "execution_count": null,
   "metadata": {
    "colab": {},
    "colab_type": "code",
    "id": "h4hRNiPxnKRd"
   },
   "outputs": [],
   "source": [
    "# Create a map with the top 10 locations and the places to eat"
   ]
  },
  {
   "cell_type": "code",
   "execution_count": null,
   "metadata": {
    "colab": {},
    "colab_type": "code",
    "id": "DkWB8Hk0nKRe"
   },
   "outputs": [],
   "source": []
  },
  {
   "cell_type": "code",
   "execution_count": null,
   "metadata": {
    "colab": {},
    "colab_type": "code",
    "id": "BqMEcvv_nKRg"
   },
   "outputs": [],
   "source": [
    "#For each of the locations add Crimes within 500 meters"
   ]
  },
  {
   "cell_type": "code",
   "execution_count": null,
   "metadata": {
    "colab": {},
    "colab_type": "code",
    "id": "pPzc7CZZnKRh"
   },
   "outputs": [],
   "source": []
  },
  {
   "cell_type": "code",
   "execution_count": null,
   "metadata": {
    "colab": {},
    "colab_type": "code",
    "id": "Q9iIDMK5nKRl"
   },
   "outputs": [],
   "source": [
    "# Can we predict the crime"
   ]
  }
 ],
 "metadata": {
  "colab": {
   "name": "BattleOfTheNeighbourhoods.ipynb",
   "provenance": [],
   "toc_visible": true
  },
  "kernelspec": {
   "display_name": "Python 2",
   "language": "python",
   "name": "python2"
  },
  "language_info": {
   "codemirror_mode": {
    "name": "ipython",
    "version": 3
   },
   "file_extension": ".py",
   "mimetype": "text/x-python",
   "name": "python",
   "nbconvert_exporter": "python",
   "pygments_lexer": "ipython3",
   "version": "3.6.9"
  }
 },
 "nbformat": 4,
 "nbformat_minor": 1
}
